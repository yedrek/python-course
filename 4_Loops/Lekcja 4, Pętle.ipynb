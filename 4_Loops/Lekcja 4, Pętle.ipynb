{
 "cells": [
  {
   "cell_type": "markdown",
   "metadata": {},
   "source": [
    "# Lekcja 4: Pętle"
   ]
  },
  {
   "cell_type": "markdown",
   "metadata": {},
   "source": [
    "## Spis treści"
   ]
  },
  {
   "cell_type": "markdown",
   "metadata": {},
   "source": [
    "<a href=\"#1\">1. Co to jest pętla?</a>\n",
    "\n",
    "\n",
    "<a href=\"#2\">2. Pętla `for`</a>\n",
    "\n",
    "\n",
    "- <a href=\"#2.1\">2.1. Zasada pętli `for`</a>\n",
    "\n",
    "\n",
    "- <a href=\"#2.2\">2.2. Zagnieżdżone pętle `for`</a>\n",
    "\n",
    "\n",
    "- <a href=\"#2.3\">2.3. Funkcja `range`</a>\n",
    "  - <a href=\"#2.3_b1\">Iterowanie po kolejnych liczbach całkowitych</a>\n",
    "  - <a href=\"#2.3_b2\">Użycie funkcji `range` do powtórzenia kodu</a>\n",
    "\n",
    "\n",
    "- <a href=\"#2.4\">2.4. Zmienna kumulująca i rekursja</a>\n",
    "  - <a href=\"#2.4_b1\">\"Pudełko\"</a>\n",
    "  - <a href=\"#2.4_b2\">Zmienna liczbowa jako \"pudełko\" i redukcja listy</a>\n",
    "  - <a href=\"#2.4_b3\">String jako \"pudełko\"</a>\n",
    "  - <a href=\"#2.4_b4\">Zmienna logiczna jako \"pudełko\"</a>\n",
    "  - <a href=\"#2.4_b5\">Funkcje wbudowane `len`, `sum`, `max`, `min`, `all`, `any`; metoda stringów `join`</a>\n",
    "  - <a href=\"#2.4_b6\">Rekursja za pomocą pętli `for`</a>\n",
    "  - <a href=\"#2.4_b7\">Przykład rekursji: Ciąg Fibonacciego</a>\n",
    "\n",
    "\n",
    "<a href=\"#3\">3. Pętla `while`</a>\n",
    "\n",
    "    \n",
    "- <a href=\"#3.1\">3.1. Zasada pętli `while`</a>\n",
    "\n",
    "\n",
    "- <a href=\"#3.2\">3.2. Ucieczka z pętli - `break` i `continue`</a>\n",
    "\n",
    "\n",
    "- <a href=\"#3.3\">3.3. Nieskończona pętla</a>\n",
    "\n",
    "\n",
    "<a href=\"#4\">4. Zadania domowe</a>"
   ]
  },
  {
   "cell_type": "markdown",
   "metadata": {},
   "source": [
    "## <a id=\"1\"></a>1. Co to jest pętla?"
   ]
  },
  {
   "cell_type": "markdown",
   "metadata": {},
   "source": [
    "W tej lekcji przejdziemy do kolejnego ważnego i bardzo fundamentalnego tematu programistycznego - **pętli** (\"loops\"): jest to konstrukcja pozwalająca na _cykliczne_ wykonanie całego bloku instrukcji; mówimy, że **iterujemy** (\"iterate\") ten blok kodu, tzn. wielokrotnie go powtarzamy."
   ]
  },
  {
   "cell_type": "markdown",
   "metadata": {},
   "source": [
    "Wyobraźmy sobie np. zadanie wydrukowania 10 kolejnych liczb całkowitych, od 0 do 9. Manualne rozwiązanie wyglądałoby tak:"
   ]
  },
  {
   "cell_type": "code",
   "execution_count": 2,
   "metadata": {},
   "outputs": [
    {
     "name": "stdout",
     "output_type": "stream",
     "text": [
      "0\n",
      "1\n",
      "2\n",
      "3\n",
      "4\n",
      "5\n",
      "6\n",
      "7\n",
      "8\n",
      "9\n"
     ]
    }
   ],
   "source": [
    "print( 0 )\n",
    "print( 1 )\n",
    "print( 2 )\n",
    "print( 3 )\n",
    "print( 4 )\n",
    "print( 5 )\n",
    "print( 6 )\n",
    "print( 7 )\n",
    "print( 8 )\n",
    "print( 9 )"
   ]
  },
  {
   "cell_type": "markdown",
   "metadata": {},
   "source": [
    "Nie wygląda to zbyt efektywnie! Szczególnie, gdybyśmy musieli wypisać tysiąc liczb! W tej lekcji poznamy konstrukcje typu:"
   ]
  },
  {
   "cell_type": "code",
   "execution_count": 3,
   "metadata": {},
   "outputs": [
    {
     "name": "stdout",
     "output_type": "stream",
     "text": [
      "0\n",
      "1\n",
      "2\n",
      "3\n",
      "4\n",
      "5\n",
      "6\n",
      "7\n",
      "8\n",
      "9\n"
     ]
    }
   ],
   "source": [
    "for i in range( 10 ):\n",
    "    print( i )"
   ]
  },
  {
   "cell_type": "markdown",
   "metadata": {},
   "source": [
    "... lub też:"
   ]
  },
  {
   "cell_type": "code",
   "execution_count": 4,
   "metadata": {},
   "outputs": [
    {
     "name": "stdout",
     "output_type": "stream",
     "text": [
      "0\n",
      "1\n",
      "2\n",
      "3\n",
      "4\n",
      "5\n",
      "6\n",
      "7\n",
      "8\n",
      "9\n"
     ]
    }
   ],
   "source": [
    "i = 0\n",
    "while i < 10:\n",
    "    print( i )\n",
    "    i += 1"
   ]
  },
  {
   "cell_type": "markdown",
   "metadata": {},
   "source": [
    "... które pozwalają takie wielokrotne czynności wykonywać efektywnie."
   ]
  },
  {
   "cell_type": "markdown",
   "metadata": {},
   "source": [
    "Pętla pozwala zatem cyklicznie wykonywać jakiś blok kodu. Taki blok instrukcji może być powtarzany/iterowany:\n",
    "\n",
    "- Określoną liczbę razy, lub też dla każdego elementu danej kolekcji elementów. Innymi słowy, \"dla każdego elementu danej kolekcji powtarzaj tę czynność\". Liczba iteracji bloku kodu jest zatem znana już na początku, przed \"wejściem\" do pętli - mówimy więc o **iteracji określonej** (\"definite iteration\").\n",
    "\n",
    "- Aż do momentu zajścia pewnych warunków, lub też w nieskończoność, jeśli warunki te nigdy nie zostaną spełnione. Innymi słowy, \"dopóki ten warunek nie zostanie spełniony, powtarzaj tę czynność\". Liczba iteracji bloku kodu jest zatem nieznana przed \"wejściem\" do pętli, a samo wykonywanie pętli modyfikuje wspomniane warunki i w pewnym momencie przerywa pętlę - mówimy tu o **iteracji nieokreślonej** (\"indefinite iteration\").\n",
    "\n",
    "W Pythonie te dwa rodzaje iteracji reprezentowane są przez dwa rodzaje pętli:\n",
    "\n",
    "- pętla `for` (\"_dla_ każdego elementu kolekcji, powtarzaj...\") opisuje zwykle iterację określoną;\n",
    "\n",
    "- pętla `while` (\"_podczas gdy_ ten warunek jest prawdziwy, powtarzaj...\") opisuje zwykle iterację nieokreśloną.\n",
    "\n",
    "Słówko \"zwykle\" jest tu dodane, gdyż jest całkowicie możliwe napisać iterację nieokreśloną za pomocą pętli `for`, czy też iterację określoną za pomocą pętli `while` - zobaczymy, jak to zrobić poniżej. Natomiast nie jest to typowe zastosowanie.\n",
    "\n",
    "Dlatego też być może lepszym określeniem jest:\n",
    "\n",
    "- pętla `for` opisuje **iterację kontrolowaną przez kolekcję** (\"collection-controlled iteration\");\n",
    "\n",
    "- pętla `while` opisuje **iterację kontrolowaną przez warunek** (\"condition-controlled iteration\").\n",
    "\n",
    "Uwaga praktyczna:\n",
    "\n",
    "- Pętle `for` występują niezwykle często - trudno wyobrazić sobie program bez nich! Jest bowiem bardzo typowym zadaniem przechodzenie krok po kroku przez jakąś kolekcję elementów i wykonywanie na każdym z nich danej czynności. Jest zatem bardzo istotne, aby dobrze pętle `for` zrozumieć.\n",
    "\n",
    "- Pętle `while` są dużo rzadsze w programach pisanych w Pythonie. W zasadzie ich podstawowym użyciem jest powtarzanie jakiejś czynności aż do momentu, gdy użytkownik wpisze odpowiednią wartość, np. wyświetlaj puste pole na hasło aż użytkownik nie wpisze poprawnego hasła."
   ]
  },
  {
   "cell_type": "markdown",
   "metadata": {},
   "source": [
    "## <a id=\"2\"></a>2. Pętla `for`"
   ]
  },
  {
   "cell_type": "markdown",
   "metadata": {},
   "source": [
    "### <a id=\"2.1\"></a>2.1. Zasada pętli `for`"
   ]
  },
  {
   "cell_type": "markdown",
   "metadata": {},
   "source": [
    "<img style = 'float: right; margin-left: 10px; margin-bottom: 10px' src = 'Images/for_loop.png' width = '350px'>Pętla `for` (a więc: \"dla\") ma ogólną składnię:\n",
    "```\n",
    "for item in collection:\n",
    "    statement\n",
    "    statement\n",
    "    ...\n",
    "    statement\n",
    "```\n",
    "\n",
    "Musimy najpierw dowiedzieć się, co to jest \"kolekcja\" - z grubsza, jest to dowolny typ danych, który \"zbiera w sobie\" więcej niż jeden element. Co to znaczy? Poznaliśmy do tej pory kilka typów danych, np. typy liczbowe `int` i `float`, typ tekstowy `str`, czy typ logiczny `bool`. Okazuje się, że jeden z nich jest \"kolekcją\" - string jest przecież łańcuchem znaków, a więc \"kolekcją\" wielu pojedynczych symboli, zebranych w jeden obiekt. String `'Mama'` jest więc \"kolekcją\" pojedynczych symboli `'M'`, `'a'`, `'m'`, `'a'`.\n",
    "\n",
    "Kolejne Lekcje 5-8 poświęcimy nowym typom kolekcji: listom (typ `list`), tuplom (typ `tuple`), zbiorom (typ `set`) i słownikom (typ `dict`). Z listami mieliśmy już mały kontakt w Lekcji 2 (metoda stringów `split` rozbijała string na listę jego poszczególnych wyrazów). Pozostawiając dokładniejszą dyskusję do Lekcji 5, teraz jedynie powiedzmy, że lista jest pewną \"kolekcją\" elementów, zebranych w nawiasach kwadratowych i rozdzielonych przecinkami, np. `purse = ['keys', 'lipstick', 'sandwich', 'smartphone']` jest listą czterech stringów."
   ]
  },
  {
   "cell_type": "code",
   "execution_count": 50,
   "metadata": {},
   "outputs": [],
   "source": [
    "purse = [ 'keys' , 'lipstick' , 'sandwich' , 'smartphone' ]"
   ]
  },
  {
   "cell_type": "markdown",
   "metadata": {},
   "source": [
    "Pętla `for` przechodzi krok po kroku przez taką \"kolekcję\" i dla każdego kolejnego elementu wykonuje blok kodu poniżej - zaznaczony wcięciem na cztery spacje (!), podobnie jak przy instrukcjach warunkowych. Nagłówek `for item in collection:` oznacza: \"idź krok po kroku przez każdy element w kolekcji `collection` - aktualny element nazwijmy `item` - i dla każdego takiego `item` wykonaj poniższe czynności\".\n",
    "\n",
    "Pętla ta wykonuje poniższy blok kodu taką liczbę razy, jaka jest długość kolekcji - jest to iteracja określona. Gdybyśmy iterowali się przez listę `purse`, mielibyśmy zatem cztery powtórzenia. W pierwszym powtórzeniu zmienna `item` przyjmuje wartość równą stringowi `'keys'` - i na tej zmiennej dokonujemy teraz pewnych operacji. W drugim powtórzeniu zmienna `item` przyjmuje wartość `'lipstick'` - i znowu dokonujemy na niej tych samych operacji. I tak dalej, aż do końca listy.\n",
    "\n",
    "Podkreślmy raz jeszcze ten istotny punkt: zmienna `item` - nazwana tak w nagłówku pętli `for` - przybiera w każdej kolejnej iteracji wartość danego elementu. Zmienna taka nazywana jest **iteratorem** (\"iterator\"). Innymi słowy, \"pod maską\" każdej iteracji dzieje się przypisanie do zmiennej `item` kolejnego elementu kolekcji: w pierwszej iteracji `item = 'keys'`, w drugiej iteracji `item = 'lipstick'` itd. W szczególności, zmiennej `item` nie trzeba deklarować przed pętlą - składnia `for item in collection:` oznacza, iż w każdej iteracji zmienna `item` jest deklarowana i przypisywana jest jej nowa wartość, mianowicie kolejny element kolekcji `collection`."
   ]
  },
  {
   "cell_type": "code",
   "execution_count": 51,
   "metadata": {},
   "outputs": [
    {
     "name": "stdout",
     "output_type": "stream",
     "text": [
      "Item found: keys.\n",
      "Item found: lipstick.\n",
      "Item found: sandwich.\n",
      "Item found: smartphone.\n"
     ]
    }
   ],
   "source": [
    "for item in purse:\n",
    "    print( f'Item found: {item}.' )"
   ]
  },
  {
   "cell_type": "markdown",
   "metadata": {},
   "source": [
    "... i widzimy tu, iż istotnie odbyły się cztery iteracje, a w każdej kolejnej zmienna `item` (drukowana tutaj) przybierała wartość kolejnego elementu listy `purse`."
   ]
  },
  {
   "cell_type": "markdown",
   "metadata": {},
   "source": [
    "Uwaga techniczna: Skoro iterator `item` przybiera w każdej iteracji kolejne wartości z listy, to jaką wartość będzie miał po skończeniu pętli? Oczywiście, wartość przypisaną mu w _ostatniej_ iteracji:"
   ]
  },
  {
   "cell_type": "code",
   "execution_count": 52,
   "metadata": {},
   "outputs": [
    {
     "data": {
      "text/plain": [
       "'smartphone'"
      ]
     },
     "execution_count": 52,
     "metadata": {},
     "output_type": "execute_result"
    }
   ],
   "source": [
    "item"
   ]
  },
  {
   "cell_type": "markdown",
   "metadata": {},
   "source": [
    "Uwaga praktyczna: Podkreślmy także, że jak i każdą inną zmienną, tak i iterator możemy dowolnie nazwać: tu nazwaliśmy go `item`, ale mogłoby to równie dobrze być `x`, `my_fancy_iterator`, czy coś innego. Jak zawsze, zmienne nazywajmy tak, aby czytając kod można było łatwo domyślić się, co ona znaczy; np. `item` to \"przedmiot\" będący w \"torebce\" `purse`."
   ]
  },
  {
   "cell_type": "markdown",
   "metadata": {},
   "source": [
    "Blok kodu w pętli `for` - jak zawsze, wcięty na cztery spacje - może mieć oczywiście dowolną długość i zawierać zupełnie dowolne instrukcje. Np.:"
   ]
  },
  {
   "cell_type": "code",
   "execution_count": null,
   "metadata": {},
   "outputs": [],
   "source": [
    "for item in purse:\n",
    "    my_item = 'my ' + item\n",
    "    print( f'Item found: {my_item}.' )"
   ]
  },
  {
   "cell_type": "markdown",
   "metadata": {},
   "source": [
    "... czy też inny przykład, z instrukcją warunkową obecną w bloku kodu pętli `for` - wybierzmy np. tylko te stringi, które zaczynają się na literę `'s'`, używając poznanej w Lekcji 2 metody stringów `startswith`:"
   ]
  },
  {
   "cell_type": "code",
   "execution_count": null,
   "metadata": {},
   "outputs": [],
   "source": [
    "for item in purse:\n",
    "    if item.startswith( 's' ):\n",
    "        my_item = 'my ' + item\n",
    "        print( f'An s-item found: {my_item}.' )"
   ]
  },
  {
   "cell_type": "markdown",
   "metadata": {},
   "source": [
    "<img style = 'float: left; margin-right: 10px; margin-bottom: 10px' src = 'Images/question.png'> Szybkie ćwiczenie 1:\n",
    "\n",
    "(a) Przeiteruj się przez listę `purse` i wydrukuj jej wszystkie elementy, zmieniając pierwszą literę każdego stringa na wielką.\n",
    "\n",
    "Wskazówka: Przypomnij sobie metodę stringów `capitalize`.\n",
    "\n",
    "(b) Przeiteruj się przez listę `purse` i wydrukuj tylko elementy zaczynające się od litery `'k'`, lub też na literę `'k'` się kończące. Dla nich wydrukuj wiadmość typu `'An k-item found: <...>'`. Dla elementów niespełniających tego warunku, wydrukuj `'<...> neither starts nor ends with letter k'`.\n",
    "\n",
    "Wskazówka: Pamiętaj, iż oprócz metody stringów `startswith`, mamy też metodę `endswith`. Ponadto, jakiego operatora logicznego musimy tu użyć?"
   ]
  },
  {
   "cell_type": "code",
   "execution_count": null,
   "metadata": {},
   "outputs": [],
   "source": [
    "# szybkie ćwiczenie 1a - rozwiązanie\n",
    "\n"
   ]
  },
  {
   "cell_type": "code",
   "execution_count": null,
   "metadata": {},
   "outputs": [],
   "source": [
    "# szybkie ćwiczenie 1b - rozwiązanie\n",
    "\n"
   ]
  },
  {
   "cell_type": "markdown",
   "metadata": {},
   "source": [
    "Inny przykład: przeiterujmy się przez listę liczb i wydrukujmy każdą liczbę podniesioną do kwadratu:"
   ]
  },
  {
   "cell_type": "code",
   "execution_count": 45,
   "metadata": {},
   "outputs": [],
   "source": [
    "some_numbers = [ 1 , -3 , -7 , 15 , 21 , -81 , 0 , 5 ] # lista liczb"
   ]
  },
  {
   "cell_type": "code",
   "execution_count": null,
   "metadata": {},
   "outputs": [],
   "source": [
    "for number in some_numbers: # tu iterator nazywamy number\n",
    "    print( f'{number} squared is {number ** 2}' )"
   ]
  },
  {
   "cell_type": "markdown",
   "metadata": {},
   "source": [
    "... lub też sprawdźmy na każdym kroku, czy liczba jest dodatnia lub zero, wtedy podnieśmy ją do kwadratu, a jeśli jest ujemna, to podnieśmy ją do sześcianu:"
   ]
  },
  {
   "cell_type": "code",
   "execution_count": null,
   "metadata": {},
   "outputs": [],
   "source": [
    "for number in some_numbers:\n",
    "    if number >= 0:\n",
    "        print( f'{number} is non-negative, and its square is {number ** 2}' )\n",
    "    else:\n",
    "        print( f'{number} is negative, and its cube is {number ** 3}' )"
   ]
  },
  {
   "cell_type": "markdown",
   "metadata": {},
   "source": [
    "Zatem widzimy, że blok kodu w pętli `for` możemy dowolnie komplikować."
   ]
  },
  {
   "cell_type": "markdown",
   "metadata": {},
   "source": [
    "### <a id=\"2.2\"></a>2.2. Zagnieżdżone pętle `for`"
   ]
  },
  {
   "cell_type": "markdown",
   "metadata": {},
   "source": [
    "Powiedzieliśmy, że blok kodu w pętli `for` może zawierać absolutnie dowolne instrukcje. Widzieliśmy wyżej choćby użycie instrukcji warunkowych `if` - `else` wewnątrz pętli `for`, pozwalające w każdej iteracji sprawdzać jakieś warunki. Nic też nie stoi na przeszkodzie, aby blok pętli `for` zawierał inną pętlę `for` - mówimy wtedy o **pętlach zagnieżdżonych** (\"nested loops\")."
   ]
  },
  {
   "cell_type": "markdown",
   "metadata": {},
   "source": [
    "Wróćmy do naszej listy `purse`; była to lista stringów, a jak już powiedzieliśmy, każdy string to również \"kolekcja\" - kolekcja pojedynczych symboli. Możemy więc np. przeiterować się po liście `purse` (ponownie nazwijmy iterator tej pętli `item`; `item` jest zatem stringiem, przyjmującym kolejne wartości `'keys'` itd.), a wewnątrz niej, przeiterować się po symbolach każdego stringa `item` (nazwijmy ten \"wewnętrzny\" iterator `letter` - innymi słowy, iterujemy się zmienną `letter` po stringu `item`):"
   ]
  },
  {
   "cell_type": "code",
   "execution_count": null,
   "metadata": {},
   "outputs": [],
   "source": [
    "for item in purse:\n",
    "    for letter in item:\n",
    "        print( letter )"
   ]
  },
  {
   "cell_type": "markdown",
   "metadata": {},
   "source": [
    "Zwróć uwagę, jak piękna i zwięzła jest ta składnia! Przeanalizuj dobrze, co tu się dzieje! Jeszcze raz:\n",
    "\n",
    "- zmienna iteracyjna `item` przyjmuje kolejne wartości elementów listy `purse`, tj. `item = 'keys'` itd.; w każdym kroku zatem `item` jest stringiem;\n",
    "\n",
    "- string to też kolekcja, zatem możemy przez nią się iterować; nazwijmy ten iterator `letter` i przyjmuje on zatem wartości kolejnych symboli stringu `item`; zatem w kroku pętli zewnętrznej gdzie `item = 'keys'`, zmienna `letter` będzie kolejno `letter = 'k'`, `letter = 'e'` itd."
   ]
  },
  {
   "cell_type": "markdown",
   "metadata": {},
   "source": [
    "<img style = 'float: left; margin-right: 10px; margin-bottom: 10px' src = 'Images/question.png'> Szybkie ćwiczenie 2: Przeiteruj się przez listę `purse`. Wybierz tylko słowa zaczynające się od litery `'s'`. Następnie dla tych słów przeiteruj się przez ich poszczególne litery; wybierz z nich tylko te litery, które są w alfabecie później niż litera `'o'`; te wydrukuj.\n",
    "\n",
    "Wskazówka: Będziemy mieć tu dwie zagnieżdżone pętle `for` i dwie zagnieżdżone instrukcje warunkowe `if` - pamiętaj o wcięciach! (funkcja `print` będzie aż cztery tabulatory od lewej!) W pierwszej instrukcji warunkowej pamiętaj o metodzie stringów `startswith`, a w drugiej o tym, jak na stringach działa operator `>`."
   ]
  },
  {
   "cell_type": "code",
   "execution_count": null,
   "metadata": {},
   "outputs": [],
   "source": [
    "# szybkie ćwiczenie 2 - rozwiązanie\n",
    "\n"
   ]
  },
  {
   "cell_type": "markdown",
   "metadata": {},
   "source": [
    "<img style = 'float: left; margin-right: 10px; margin-bottom: 10px' src = 'Images/question.png'> Szybkie ćwiczenie 3: Zdefiniuj listę lat, powiedzmy `years = [2016, 2017, 2018, 2019, 2020]`, oraz listę miesięcy, `months = ['January', 'February', 'March', 'April', 'May', 'June', 'July', 'August', 'September', 'October', 'November', 'December']`. Wydrukuj serię stringów od `'January 2016'` do `'December 2020'`, iterując się po obydwu tych listach w sposób zagnieżdżony."
   ]
  },
  {
   "cell_type": "code",
   "execution_count": null,
   "metadata": {},
   "outputs": [],
   "source": [
    "# szybkie ćwiczenie 3 - rozwiązanie\n",
    "\n"
   ]
  },
  {
   "cell_type": "markdown",
   "metadata": {},
   "source": [
    "### <a id=\"2.3\"></a>2.3. Funkcja `range`"
   ]
  },
  {
   "cell_type": "markdown",
   "metadata": {},
   "source": [
    "#### <a id=\"2.3_b1\"></a>Iterowanie po kolejnych liczbach całkowitych"
   ]
  },
  {
   "cell_type": "markdown",
   "metadata": {},
   "source": [
    "Jest pewna specjalna kolekcja, którą używa się często w różnych kontekstach - jest to kolekcja kolejnych liczb całkowitych, 0, 1, 2, ..., a do stworzenia jej służy wbudowana funkcja `range`. Dokładniej, składnia `range(n)`, gdzie $n$ to dodatnia liczba całkowita, generuje ciąg 0, 1, 2, ..., $(n - 1)$. (Pamiętajmy: ciąg zaczyna się od zera, a nie zawiera $n$, bo kończy się na $(n - 1)$. Co więcej, jeśli $n \\leq 0$, to ciąg jest pusty.)\n",
    "\n",
    "Przeiterujmy się zatem przez kolekcję `range(n)` - iterator (nazwijmy go `i`) będzie przyjmował kolejne wartości od 0 do $(n - 1)$:"
   ]
  },
  {
   "cell_type": "code",
   "execution_count": null,
   "metadata": {},
   "outputs": [],
   "source": [
    "for i in range( 5 ):\n",
    "    print( i )"
   ]
  },
  {
   "cell_type": "markdown",
   "metadata": {},
   "source": [
    "Możemy funkcji tej podać dwa argumenty, `range(m, n)`, a wtedy wygeneruje liczby od $m$ do $(n - 1)$ (jak zawsze, pierwszy argument $m$ jest zawarty w ciągu, a drugi $n$ nie jest):"
   ]
  },
  {
   "cell_type": "code",
   "execution_count": null,
   "metadata": {},
   "outputs": [],
   "source": [
    "for i in range( 5 , 10 ):\n",
    "    print( i )"
   ]
  },
  {
   "cell_type": "markdown",
   "metadata": {},
   "source": [
    "Możemy też dodać jako trzeci argument \"krok\" $k$, `range(m, n, k)`:"
   ]
  },
  {
   "cell_type": "code",
   "execution_count": null,
   "metadata": {},
   "outputs": [],
   "source": [
    "for i in range( 10 , 20 , 2 ):\n",
    "    print( i )"
   ]
  },
  {
   "cell_type": "markdown",
   "metadata": {},
   "source": [
    "Podsumowując:\n",
    "\n",
    "| Wersja | Działanie |\n",
    "| --- | --- |\n",
    "| <center>`range(n)`</center> | <center>ciąg 0, 1, ..., $(n - 1)$</center> |\n",
    "| <center>`range(m, n)`</center> | <center>ciąg $m$, $(m + 1)$, ..., $(n - 1)$</center> |\n",
    "| <center>`range(m, n, k)`</center> | <center>ciąg od $m$ do $(n - 1)$ w krokach co $k$</center> |"
   ]
  },
  {
   "cell_type": "markdown",
   "metadata": {},
   "source": [
    "<img style = 'float: left; margin-right: 10px; margin-bottom: 10px' src = 'Images/question.png'> Szybkie ćwiczenie 4:\n",
    "\n",
    "(a) Wydrukuj wszystkie liczby od 0 do 100 podzielne przez 13.\n",
    "\n",
    "Wskazówka: Możesz to zrobić na dwa sposoby: (1) Użyj funkcji `range` z krokiem. (2) Przeiteruj się przez ciąg 0, 1, ..., 100, na każdym kroku dodając instrukcję warunkową sprawdzającą, czy dana liczba podzielona przez 13 daje resztę 0; jeśli tak, wydrukuj ją. Pamiętaj o operatorze reszty z dzielenia `%`.\n",
    "\n",
    "(b) Wydrukuj wszystkie parzyste liczby od 500 do 1000 podzielne przez 7, ale niepodzielne przez 3."
   ]
  },
  {
   "cell_type": "code",
   "execution_count": null,
   "metadata": {},
   "outputs": [],
   "source": [
    "# szybkie ćwiczenie 4a - rozwiązanie pierwsze\n",
    "\n"
   ]
  },
  {
   "cell_type": "code",
   "execution_count": null,
   "metadata": {},
   "outputs": [],
   "source": [
    "# szybkie ćwiczenie 4a - rozwiązanie drugie\n",
    "\n"
   ]
  },
  {
   "cell_type": "code",
   "execution_count": null,
   "metadata": {},
   "outputs": [],
   "source": [
    "# szybkie ćwiczenie 4b - rozwiązanie\n",
    "\n"
   ]
  },
  {
   "cell_type": "markdown",
   "metadata": {},
   "source": [
    "<img style = 'float: left; margin-right: 10px; margin-bottom: 10px' src = 'Images/question.png'> Szybkie ćwiczenie 5: Wydrukuj serię stringów `'Item number 1'`, `'Item number 2'` itd. aż do `'Item number 20'`.\n",
    "\n",
    "Wskazówka: Przeiteruj się przez odpowiedni zakres `range` i w każdym kroku utwórz połączenie stringów (jak łączymy stringi?) `'Item number '` ze stringiem powstałym z kolejnej liczby całkowitej (jak konwertujemy liczby na stringi?)."
   ]
  },
  {
   "cell_type": "code",
   "execution_count": null,
   "metadata": {},
   "outputs": [],
   "source": [
    "# szybkie ćwiczenie 5 - rozwiązanie\n",
    "\n"
   ]
  },
  {
   "cell_type": "markdown",
   "metadata": {},
   "source": [
    "#### <a id=\"2.3_b2\"></a>Użycie funkcji `range` do powtórzenia kodu"
   ]
  },
  {
   "cell_type": "markdown",
   "metadata": {},
   "source": [
    "Chcemy czasem powtórzyć jakiś blok kodu $n$ razy, nawet bez zmieniania niczego z iteracji na iterację; np. wydrukować string `'Hi there!'` 10 razy. W tym celu iterujemy się po odpowiednim zakresie `range`:"
   ]
  },
  {
   "cell_type": "code",
   "execution_count": null,
   "metadata": {},
   "outputs": [],
   "source": [
    "for i in range( 10 ):\n",
    "    print( 'Hi there!' )"
   ]
  },
  {
   "cell_type": "markdown",
   "metadata": {},
   "source": [
    "Jest to dość specjalny przypadek, w którym - jak widzimy - iterator `i` nie występuje w bloku kodu! Jego wartość oczywiście zmienia się od 0 do 9 w każdym kolejnym kroku, ale wartość ta nie jest nigdzie używana. (Ćwiczenie 5 było podobne, ale tam aktualna wartość iteratora była drukowana w każdym kroku.) W takich sytuacjach jest pewna konwencja nazewnicta iteratora - mianowicie zwykło się nazywać tę zmienną `_`, co ma oznaczać \"niemy iterator\". (Pamiętamy ogólne zasady nazewnictwa zmiennych: symbol `_` jest dozwolony, co więcej, nazwa zmiennej może się od niego zaczynać - jak ma to miejsce tutaj. Jest to więc normalna dozwolona nazwa zmiennej, nie żaden specjalny symbol.)"
   ]
  },
  {
   "cell_type": "code",
   "execution_count": null,
   "metadata": {},
   "outputs": [],
   "source": [
    "for _ in range( 10 ):\n",
    "    print( 'Hi there!' )"
   ]
  },
  {
   "cell_type": "markdown",
   "metadata": {},
   "source": [
    "Użycie niemego iteratora jest częstsze niż może się wydawać, np. przy problemach rekursywnych, zob. sekcja <a href=\"#2.4_b6\">Rekursja za pomocą pętli `for`</a>."
   ]
  },
  {
   "cell_type": "markdown",
   "metadata": {},
   "source": [
    "### <a id=\"2.4\"></a>2.4. Zmienna kumulująca i rekursja"
   ]
  },
  {
   "cell_type": "markdown",
   "metadata": {},
   "source": [
    "#### <a id=\"2.4_b1\"></a>\"Pudełko\""
   ]
  },
  {
   "cell_type": "markdown",
   "metadata": {},
   "source": [
    "Fundamentalnym zastosowaniem pętli `for` jest następująca ogólna idea: Wyobraźmy sobie \"puste pudełko\". Iterujemy się teraz przez listę, krok po kroku, na każdym kolejnym elemencie dokonując jakichś przekształceń, może niektóre elementy pomijając na podstawie zadanych warunków - a w końcu wynik \"wrzucając\" do naszego \"pojemnika\". Potem przechodzimy do kolejnego elementu, poddajemy go naszym operacjom, a efekt \"wrzucamy\" do \"pojemnika\"."
   ]
  },
  {
   "cell_type": "markdown",
   "metadata": {},
   "source": [
    "#### <a id=\"2.4_b2\"></a>Zmienna liczbowa jako \"pudełko\" i redukcja listy"
   ]
  },
  {
   "cell_type": "markdown",
   "metadata": {},
   "source": [
    "To jest bardzo ogólna idea - przybliżmy ją teraz na przykładzie tzw. **redukcji**: chodzi nam o \"zredukowanie\" kolekcji do jakiejś jednej wartości tę kolekcję opisującej. Klasycznym przykładem jest obliczenie _sumy_ elementów listy liczbowej. Jak podejść do tego problemu? Wystartujmy od \"pustego pudełka\" na sumę - mianowicie od wartości 0. Teraz iterujmy się krok po kroku przez listę, za każdą iteracją dodając do naszego \"pudełka\" kolejny element. W ten sposób po przejściu całej listy dostaniemy w \"pudełku\" sumę elementów listy.\n",
    "\n",
    "Niech przykładową listą będzie `[5, 6, 7]`. Definiujemy nasz \"pusty pojemnik\" jako zmienną `total_sum = 0`. Iterujemy się przez listę: w pierwszym kroku, do \"pudełka\" \"wrzucamy\", tj. dodajemy, liczbę 5, więc teraz `total_sum` jest równa 5; w drugim kroku, do \"pudełka\" (równego 5), dodajemy 6 - teraz `total_sum` jest równa 11; w ostatnim kroku, do \"pudełka\" (równego 11) dodajemy 7, dostając `total_sum` równe 18.\n",
    "\n",
    "Zakodujmy to dla wyżej zdefiniowanej listy `some_numbers`:"
   ]
  },
  {
   "cell_type": "code",
   "execution_count": 18,
   "metadata": {},
   "outputs": [
    {
     "data": {
      "text/plain": [
       "[1, -3, -7, 15, 21, -81, 0, 5]"
      ]
     },
     "execution_count": 18,
     "metadata": {},
     "output_type": "execute_result"
    }
   ],
   "source": [
    "some_numbers"
   ]
  },
  {
   "cell_type": "code",
   "execution_count": null,
   "metadata": {},
   "outputs": [],
   "source": [
    "# suma wszystkich elementów listy poprzez pętlę for\n",
    "\n",
    "total_sum = 0\n",
    "for number in some_numbers: # iterujemy się po liście some_numbers\n",
    "    total_sum += number # skrótowe zapisanie przypisania total_sum = total_sum + number\n",
    "\n",
    "total_sum"
   ]
  },
  {
   "cell_type": "markdown",
   "metadata": {},
   "source": [
    "Zmienna `total_sum` akumuluje sumę elementów w miarę jak pętla się wykonuje - zmienną taką nazywa się **zmienną kumulującą** (\"accumulator\"). Aby to lepiej zobaczyć, wydrukujmy wartość `total_sum` po każdej iteracji:"
   ]
  },
  {
   "cell_type": "code",
   "execution_count": null,
   "metadata": {},
   "outputs": [],
   "source": [
    "total_sum = 0\n",
    "for number in some_numbers:\n",
    "    total_sum += number\n",
    "    print( f'The accumulator\\'s current value is {total_sum}.' )\n",
    "\n",
    "total_sum"
   ]
  },
  {
   "cell_type": "markdown",
   "metadata": {},
   "source": [
    "Na podobnej zasadzie możemy obliczyć długość listy, maksimum jej elemntów itp."
   ]
  },
  {
   "cell_type": "markdown",
   "metadata": {},
   "source": [
    "<img style = 'float: left; margin-right: 10px; margin-bottom: 10px' src = 'Images/question.png'> Szybkie ćwiczenie 4: Oblicz sumę elementów listy `some_numbers` podzielnych przez 3.\n",
    "\n",
    "Wskazówka: Stwórz zmienną kumulującą (powiedzmy `total_sum_of_divisible_by_3`), po czym przeiteruj się przez listę `some_numbers` i w każdym kroku napisz odpowiednią instrukcję warunkową; jeśli podzielność przez 3 aktualnego elementu będzie zachodzić, zmodyfikuj zmienną kumulującą."
   ]
  },
  {
   "cell_type": "code",
   "execution_count": null,
   "metadata": {},
   "outputs": [],
   "source": [
    "# szybkie ćwiczenie 4 - rozwiązanie\n",
    "\n"
   ]
  },
  {
   "cell_type": "markdown",
   "metadata": {},
   "source": [
    "<img style = 'float: left; margin-right: 10px; margin-bottom: 10px' src = 'Images/question.png'> Szybkie ćwiczenie 5: Oblicz iloczyn elementów listy `some_numbers`.\n",
    "\n",
    "Wskazówka: Jaka musi być wartość początkowa zmiennej kumulującej (nazwijmy ją powiedzmy `total_prod`)? Jaki operator \"wrzuca\" do niej kolejne elementy listy, aby na koniec dostać iloczyn?"
   ]
  },
  {
   "cell_type": "code",
   "execution_count": null,
   "metadata": {},
   "outputs": [],
   "source": [
    "# szybkie ćwiczenie 5 - rozwiązanie\n",
    "\n"
   ]
  },
  {
   "cell_type": "markdown",
   "metadata": {},
   "source": [
    "#### <a id=\"2.4_b3\"></a>String jako \"pudełko\""
   ]
  },
  {
   "cell_type": "markdown",
   "metadata": {},
   "source": [
    "Zupełnie analogicznie, \"pudełkiem\" mógłby być string - na początku np. pusty `''` - do którego \"wrzucamy\" kolejne stringi, powstające w kolejnych krokach iteracji. \"Wrzucanie\" znowu odbywa się tu operatorem `+=`; przypomnijmy sobie z Lekcji 2, że operator `+` jest zdefiniowany nie tylko dla liczb, ale też dla stringów, gdzie dokonuje łączenia (konkatenacji) stringów."
   ]
  },
  {
   "cell_type": "markdown",
   "metadata": {},
   "source": [
    "Dla przykładu, przypomnijmy naszą listę `purse`:"
   ]
  },
  {
   "cell_type": "code",
   "execution_count": 4,
   "metadata": {},
   "outputs": [
    {
     "data": {
      "text/plain": [
       "['keys', 'lipstick', 'sandwich', 'smartphone']"
      ]
     },
     "execution_count": 4,
     "metadata": {},
     "output_type": "execute_result"
    }
   ],
   "source": [
    "purse"
   ]
  },
  {
   "cell_type": "markdown",
   "metadata": {},
   "source": [
    "Spróbujmy wydrukować następujący zdanie: `'My purse contains: keys, lipstick, sandwich, smartphone.'`.\n",
    "\n",
    "W tym celu, utwórzmy na początku \"puste pudełko\", które niech będzie stringiem `'My purse contains: '`. Teraz iterujmy się pętlą `for` przez listę `purse` i w każdym kroku dopisujmy (za pomocą operatora `+=`) nasz iterator do tego stringu.\n",
    "\n",
    "Mała subtelność dotyczy separatora: zauważmy, że chcemy, aby kolejne przedmioty były rozdzielone przecinkiem i spacją `', '`, zaś ostatni kropką `'.'`. Rozwiążmy to poprzez zdefiniowanie zmiennej `sep`, która będzie tym stringiem-separatorem; napiszmy instrukcję warunkową sprawdzającą, czy `item` jest równy `'smartphone'`, czy nie, i w ten sposób definiujący zmienną `sep`."
   ]
  },
  {
   "cell_type": "code",
   "execution_count": 11,
   "metadata": {},
   "outputs": [
    {
     "data": {
      "text/plain": [
       "'My purse contains: keys, lipstick, sandwich, smartphone.'"
      ]
     },
     "execution_count": 11,
     "metadata": {},
     "output_type": "execute_result"
    }
   ],
   "source": [
    "purse_details = 'My purse contains: ' # \"pudełko\"\n",
    "\n",
    "for item in purse:\n",
    "    \n",
    "    if item != 'smartphone':\n",
    "        sep = ', '\n",
    "    else:\n",
    "        sep = '.'\n",
    "    \n",
    "    purse_details += item + sep # \"wrzucamy do pudełka\" kolejne stringi (item + sep) za pomocą operatora +=\n",
    "\n",
    "purse_details"
   ]
  },
  {
   "cell_type": "markdown",
   "metadata": {},
   "source": [
    "#### <a id=\"2.4_b4\"></a>Zmienna logiczna jako \"pudełko\""
   ]
  },
  {
   "cell_type": "markdown",
   "metadata": {},
   "source": [
    "Innym przykładem tej konstrukcji zmiennej kumulującej jest następujące zagadnienie: Mamy listę obiektów typu logicznego (`bool`) i chcemy odpowiedzieć na następujące pytania:\n",
    "\n",
    "- Czy _wszystkie_ elementy tej listy są prawdziwe?\n",
    "\n",
    "- Czy _którykolwiek_ element tej listy jest prawdziwy?\n",
    "\n",
    "Np. dla listy zdań logicznych `[2 < 5, 3 < 5, 4 < 5, 5 < 5]` odpowiedź na pierwsze pytanie jest negatywna (nie wszystkie elementy są prawdziwe - ostatni jest fałszywy), a na drugie pozytywna (tak, jest na liście co najmniej jeden element prawdziwy).\n",
    "\n",
    "Uwaga: Lista zdań logicznych może na pierwszy rzut oka wyglądać dziwnie. Ale po dyskusji w Lekcji 2 nie powinno to już dziwić! Obiekt typu logicznego jest przecież obiektem, jak każdy inny - jak `int`, `float`, `str` itd. - zatem nic nie stoi na przeszkodzie, aby utworzyć z nich listę.\n",
    "\n",
    "Możemy spojrzeć też na to inaczej: Mamy listę liczb `[2, 3, 4, 5]` i chcemy wiedzieć, czy _wszystkie_/_którykolwiek_ jej element jest mniejszy niż 5. Tę wersję zakodujemy poniżej.\n",
    "\n",
    "Jak obliczyć ten rezultat poprzez konstrukcję zmiennej kumulującej?\n",
    "\n",
    "- Odpowiedzi na pierwsze pytanie udziela operator `and`: czy pierwszy element jest prawdziwy _oraz_ czy drugi element jest prawdziwy _oraz_ ... Moglibyśmy zatem utworzyć jako \"pudełko\" zmienną logiczną, którą zainicjujejmy wartością `True` (np. `all_smaller_than_5 = True`) i w każdym kroku \"wrzucać\" do niego (operatorem `and`) kolejną wartość logiczną.\n",
    "\n",
    "- Odpowiedzi na drugie pytanie udziela z kolei operator `or`: czy pierwszy element jest prawdziwy _lub_ czy drugi element jest prawdziwy _lub_ ... Tu nasze \"pudełko\" zainicjujmy wartością `False` (np. `any_smaller_than_5 = True`)."
   ]
  },
  {
   "cell_type": "code",
   "execution_count": null,
   "metadata": {},
   "outputs": [],
   "source": [
    "nums = [ 2 , 3 , 4 , 5 ]"
   ]
  },
  {
   "cell_type": "code",
   "execution_count": 12,
   "metadata": {},
   "outputs": [
    {
     "data": {
      "text/plain": [
       "False"
      ]
     },
     "execution_count": 12,
     "metadata": {},
     "output_type": "execute_result"
    }
   ],
   "source": [
    "all_smaller_than_5 = True\n",
    "for num in nums:\n",
    "    all_smaller_than_5 = all_smaller_than_5 and num < 5 # z nawiasami: all_smaller_than_5 = ( all_smaller_than_5 and ( num < 5 ) )\n",
    "\n",
    "all_smaller_than_5"
   ]
  },
  {
   "cell_type": "code",
   "execution_count": 13,
   "metadata": {},
   "outputs": [
    {
     "data": {
      "text/plain": [
       "True"
      ]
     },
     "execution_count": 13,
     "metadata": {},
     "output_type": "execute_result"
    }
   ],
   "source": [
    "any_smaller_than_5 = False\n",
    "for num in nums:\n",
    "    any_smaller_than_5 = any_smaller_than_5 or num < 5 # z nawiasami: any_smaller_than_5 = ( any_smaller_than_5 or ( num < 5 ) )\n",
    "\n",
    "any_smaller_than_5"
   ]
  },
  {
   "cell_type": "markdown",
   "metadata": {},
   "source": [
    "Ta idea zmiennej kumulującej jest jeszcze szersza. W Lekcjach 5-6 zobaczymy np., iż zmienną kumulującą mogłaby być np. _lista_, na początku pusta, do której \"wrzucalibyśmy\" kolejne elementy naszej listy, po różnych przekształceniach (zobaczymy, że znów służy do tego operator `+=`)."
   ]
  },
  {
   "cell_type": "markdown",
   "metadata": {},
   "source": [
    "#### <a id=\"2.4_b5\"></a>Funkcje wbudowane `len`, `sum`, `max`, `min`, `all`, `any`; metoda stringów `join`"
   ]
  },
  {
   "cell_type": "markdown",
   "metadata": {},
   "source": [
    "Tak częste operacje są oczywiście wbudowane w standardową bibliotekę Pythona i nikt nie musi pisać pętli, aby obliczać sumę elementów listy liczbowej! (Natomiast jest to bardzo dobre ćwiczenie, aby zapoznać się z działaniem pętli `for`!)\n",
    "\n",
    "Uwaga techniczna: Operacje te dostępne są jako wbudowane _funkcje_. O funkcjach ogólnie będziemy uczyć się w Lekcjach 9-10, już natomiast zapoznaliśmy się z funkcją `type`; teraz warto tylko pamiętać, że wywołując jakąkolwiek funkcję, wartości jej argumentów podajemy w nawiasach okrągłych."
   ]
  },
  {
   "cell_type": "markdown",
   "metadata": {},
   "source": [
    "Bardzo ogólną funkcją jest `len`, zwracająca długość listy, stringu (czy - jak zobaczymy w Lekcjach 5-8 - dowolnej kolekcji elementów):"
   ]
  },
  {
   "cell_type": "code",
   "execution_count": 14,
   "metadata": {},
   "outputs": [
    {
     "data": {
      "text/plain": [
       "4"
      ]
     },
     "execution_count": 14,
     "metadata": {},
     "output_type": "execute_result"
    }
   ],
   "source": [
    "len( purse ) # długość listy"
   ]
  },
  {
   "cell_type": "code",
   "execution_count": 15,
   "metadata": {},
   "outputs": [
    {
     "data": {
      "text/plain": [
       "34"
      ]
     },
     "execution_count": 15,
     "metadata": {},
     "output_type": "execute_result"
    }
   ],
   "source": [
    "len( 'supercalifragilisticexpialidocious' ) # string to kolekcja symboli, więc len zwraca liczbę symboli w stringu"
   ]
  },
  {
   "cell_type": "markdown",
   "metadata": {},
   "source": [
    "<img style = 'float: left; margin-right: 10px; margin-bottom: 10px' src = 'Images/question.png'> Szybkie ćwiczenie 6: Przeiteruj się przez listę `purse` i wydrukuj tylko te elementy, których długość (tj. liczba symboli, są one przecież stringami) jest większa niż 8."
   ]
  },
  {
   "cell_type": "code",
   "execution_count": null,
   "metadata": {},
   "outputs": [],
   "source": [
    "# szybkie ćwiczenie 6 - rozwiązanie\n",
    "\n"
   ]
  },
  {
   "cell_type": "markdown",
   "metadata": {},
   "source": [
    "Dla list składających się z obiektów liczbowych, mamy funkcje `sum`, `max`, `min`:"
   ]
  },
  {
   "cell_type": "code",
   "execution_count": 21,
   "metadata": {},
   "outputs": [
    {
     "data": {
      "text/plain": [
       "-49"
      ]
     },
     "execution_count": 21,
     "metadata": {},
     "output_type": "execute_result"
    }
   ],
   "source": [
    "sum( some_numbers ) # suma elementów listy"
   ]
  },
  {
   "cell_type": "code",
   "execution_count": 22,
   "metadata": {},
   "outputs": [
    {
     "data": {
      "text/plain": [
       "21"
      ]
     },
     "execution_count": 22,
     "metadata": {},
     "output_type": "execute_result"
    }
   ],
   "source": [
    "max( some_numbers ) # największy element listy"
   ]
  },
  {
   "cell_type": "code",
   "execution_count": 23,
   "metadata": {},
   "outputs": [
    {
     "data": {
      "text/plain": [
       "-81"
      ]
     },
     "execution_count": 23,
     "metadata": {},
     "output_type": "execute_result"
    }
   ],
   "source": [
    "min( some_numbers ) # najmniejszy element listy"
   ]
  },
  {
   "cell_type": "markdown",
   "metadata": {},
   "source": [
    "Co ciekawe, `max` i `min` możemy też zastosować do list stringów! Pamiętamy bowiem z Lekcji 2, iż operatory porównania `<` itd. są zdefiniowane także dla stringów, a działają wg tzw. porządku leksykograficznego, tj. jeden string jest \"mniejszy\" od drugiego, jeżeli występuje wcześniej w słowniku."
   ]
  },
  {
   "cell_type": "code",
   "execution_count": 24,
   "metadata": {},
   "outputs": [
    {
     "data": {
      "text/plain": [
       "'smartphone'"
      ]
     },
     "execution_count": 24,
     "metadata": {},
     "output_type": "execute_result"
    }
   ],
   "source": [
    "max( purse )"
   ]
  },
  {
   "cell_type": "code",
   "execution_count": 25,
   "metadata": {},
   "outputs": [
    {
     "data": {
      "text/plain": [
       "'keys'"
      ]
     },
     "execution_count": 25,
     "metadata": {},
     "output_type": "execute_result"
    }
   ],
   "source": [
    "min( purse )"
   ]
  },
  {
   "cell_type": "markdown",
   "metadata": {},
   "source": [
    "Możemy je zastosować także do samych stringów, na tej samej zasadzie porządku słownikowego, tym razem pojedynczych symboli:"
   ]
  },
  {
   "cell_type": "code",
   "execution_count": 29,
   "metadata": {},
   "outputs": [
    {
     "data": {
      "text/plain": [
       "'x'"
      ]
     },
     "execution_count": 29,
     "metadata": {},
     "output_type": "execute_result"
    }
   ],
   "source": [
    "max( 'supercalifragilisticexpialidocious' )"
   ]
  },
  {
   "cell_type": "code",
   "execution_count": 30,
   "metadata": {},
   "outputs": [
    {
     "data": {
      "text/plain": [
       "'a'"
      ]
     },
     "execution_count": 30,
     "metadata": {},
     "output_type": "execute_result"
    }
   ],
   "source": [
    "min( 'supercalifragilisticexpialidocious' )"
   ]
  },
  {
   "cell_type": "markdown",
   "metadata": {},
   "source": [
    "Funkcji `sum` nie można tak zastosować - co może uważnemu adeptowi Pythona wydać się dziwne, jako że operator `+` również jest zdefiniowany dla stringów (i te stringi łączy)! Podobne działanie ma jednak metoda stringów `join`. Składnia jest następująca: `sep.join(list_of_strings)`; dokona ona konkatenacji stringów znajdujących się w liście `list_of_strings`, dodatkowo przedzielając je stringiem (\"separatorem\") `sep` (np. `', '`), ale w sposób \"inteligentny\", tj. nie umieszczając go na końcu (przypomnij sobie z sekcji <a href=\"#2.4_b3\">String jako \"pudełko\"</a>, jak rozwiązaliśmy to niezbyt elegancko instrukcją warunkową)."
   ]
  },
  {
   "cell_type": "markdown",
   "metadata": {},
   "source": [
    "Np.:"
   ]
  },
  {
   "cell_type": "code",
   "execution_count": 36,
   "metadata": {},
   "outputs": [
    {
     "data": {
      "text/plain": [
       "'keys, lipstick, sandwich, smartphone'"
      ]
     },
     "execution_count": 36,
     "metadata": {},
     "output_type": "execute_result"
    }
   ],
   "source": [
    "', '.join( purse )"
   ]
  },
  {
   "cell_type": "markdown",
   "metadata": {},
   "source": [
    "Wreszcie, przypomnijmy sobie, jak rozważaliśmy w sekcji <a href=\"#2.4_b4\">Zmienna logiczna jako \"pudełko\"</a> listy obiektów logicznych i chcieliśmy odpowiedzieć na pytanie, czy _wszystkie_ elementy takiej listy mają wartość `True`, lub też czy _choć jeden_ element ma wartość `True`. Implementują to wbudowane funkcje `all` oraz `any`."
   ]
  },
  {
   "cell_type": "code",
   "execution_count": 39,
   "metadata": {},
   "outputs": [],
   "source": [
    "list_of_bools = [ 2 < 5 , 3 < 5 , 4 < 5 , 5 < 5 ]"
   ]
  },
  {
   "cell_type": "code",
   "execution_count": 40,
   "metadata": {},
   "outputs": [
    {
     "data": {
      "text/plain": [
       "False"
      ]
     },
     "execution_count": 40,
     "metadata": {},
     "output_type": "execute_result"
    }
   ],
   "source": [
    "all( list_of_bools )"
   ]
  },
  {
   "cell_type": "code",
   "execution_count": 41,
   "metadata": {},
   "outputs": [
    {
     "data": {
      "text/plain": [
       "True"
      ]
     },
     "execution_count": 41,
     "metadata": {},
     "output_type": "execute_result"
    }
   ],
   "source": [
    "any( list_of_bools )"
   ]
  },
  {
   "cell_type": "markdown",
   "metadata": {},
   "source": [
    "Podsumowując:\n",
    "\n",
    "| Funkcja | Zastosowanie do | Działanie |\n",
    "| --- | --- | --- |\n",
    "| <center>`len`</center> | <center>dowolna kolekcja</center> | <center>długość kolekcji</center> |\n",
    "| <center>`max`</center> | <center>lista liczb albo stringów; string</center> | <center>maksimum z elementów</center> |\n",
    "| <center>`min`</center> | <center>lista liczb albo stringów; string</center> | <center>minimum z elementów</center> |\n",
    "| <center>`sum`</center> | <center>lista liczb</center> | <center>suma elementów</center> |\n",
    "| <center>`join` (metoda stringów)</center> | <center>lista stringów</center> | <center>złączenie stringów w liście, podzielone separatorem</center> |\n",
    "| <center>`all`</center> | <center>lista obiektów logicznych</center> | <center>czy wszystkie elementy są prawdziwe</center> |\n",
    "| <center>`any`</center> | <center>lista obiektów logicznych</center> | <center>czy co najmniej jeden element jest prawdziwy</center> |"
   ]
  },
  {
   "cell_type": "markdown",
   "metadata": {},
   "source": [
    "#### <a id=\"2.4_b6\"></a>Rekursja za pomocą pętli `for`"
   ]
  },
  {
   "cell_type": "markdown",
   "metadata": {},
   "source": [
    "Wszystkie powyższe przykłady \"pudełka\" są wariantami bardzo ogólnej, niezwykle ważnej (i wyglądającej na trochę szaloną!) konstrukcji algorytmicznej - tzw. **rekursji** (\"recursion\").\n",
    "\n",
    "Słowo [\"rekursja\"](https://en.wikipedia.org/wiki/Recursion) pochodzi od łacińskiego \"recurrere\", co znaczy \"wracać z powrotem\". Operacja rekursywna robi dokładnie to - wraca z powrotem do samej siebie.\n",
    "\n",
    "Klasycznym przykładem algorytmu rekursywnego jest obliczanie tzw. silni (\"factorial\"), czyli iloczynu kolejnych liczb naturalnych: $n! = 1 \\cdot 2 \\cdot 3 \\cdot \\ldots \\cdot (n - 1) \\cdot n$. Zauważmy, że definicję silni możemy przedstawić w następujący dwustopniowy sposób:\n",
    "\n",
    "- Zdefiniujmy **warunki początkowe**, innymi słowy wartości startowe, brzegowe. To, co dzieje się dla najprostszego przypadku. Tutaj byłoby to powiedzenie, że dla $n = 1$, wartość silni wynosi $1! = 1$.\n",
    "\n",
    "- Zdefiniujmy **krok rekursywny**, który opisuje przejście od wcześniejszego elementu ciągu do późniejszego. Innymi słowy, załóżmy, że znamy silnię dla wartości $(n - 1)$, tj. znamy $(n - 1)!$, i na tej podstawie chcemy obliczyć silnię dla wartości $n$ - rzeczywiście, jest to wykonalne, jako że $n! = n \\cdot (n - 1)!$.\n",
    "\n",
    "Te dwie części definicji - warunek początkowy oraz krok rekursywny - wystarczają do obliczenia silni dla każdego $n$. Rzeczywiście, $1!$ znamy na podstawie warunku początkowego; $2!$ obliczymy z $1!$ na podstawie kroku rekursywnego; znając $2!$, $3!$ obliczmy znów poprzez krok rekursywny; itd.\n",
    "\n",
    "Zakodujmy to pętlą `for` - jest to znana nam już dobrze konstrukcja \"pudełka\", gdzie:\n",
    "\n",
    "- wartość początkowa zmiennej kumulującej (\"puste pudełko\") odpowiada warunkom początkowym rekursji;\n",
    "\n",
    "- modyfikacja zmiennej kumulującej w każdym kroku pętli (\"wrzucanie do pudełka\") odpowiada krokowi rekursywnemu."
   ]
  },
  {
   "cell_type": "code",
   "execution_count": 57,
   "metadata": {},
   "outputs": [
    {
     "data": {
      "text/plain": [
       "3628800"
      ]
     },
     "execution_count": 57,
     "metadata": {},
     "output_type": "execute_result"
    }
   ],
   "source": [
    "n = 10 # obliczmy 10!\n",
    "\n",
    "factorial = 1\n",
    "for i in range( 2 , n + 1 ):\n",
    "    factorial *= i\n",
    "\n",
    "factorial"
   ]
  },
  {
   "cell_type": "markdown",
   "metadata": {},
   "source": [
    "#### <a id=\"2.4_b7\"></a>Przykład rekursji: Ciąg Fibonacciego"
   ]
  },
  {
   "cell_type": "markdown",
   "metadata": {},
   "source": [
    "Przeanalizujmy trochę trudniejszy przykład algorytmu rekursywnego - obliczenie ciągu Fibonacciego. [Ciąg Fibonacciego](https://en.wikipedia.org/wiki/Fibonacci_number) jest to ciąg liczb naturalnych zdefiniowany następująco: Zaczynamy od 1, 1, a potem każdy kolejny element jest sumą dwóch poprzednich. Mamy więc dalej: 1, 1, 2, 3, 5, 8, 13, 21, 34, 55, 89, ... Rzeczywiście, 2 = 1 + 1, potem 3 = 2 + 1, potem 5 = 3 + 2 itd.\n",
    "\n",
    "Sama ta definicja, jak widzimy jest rekursywna:\n",
    "\n",
    "- warunki początkowe stanowią, że dwa pierwsze elementy są równe 1, 1;\n",
    "\n",
    "- krok rekursywny mówi, że każdy element ciągu jest równy sumie dwóch poprzednich elementów.\n",
    "\n",
    "Jak to zakodować? Po pierwsze, widzimy, że warunki początkowe odnoszą się do _dwóch_ elementów ciągu, zatem nasze \"pudełko\" powinno składać się z dwóch elementów. Naturalnym wyborem byłaby tu dwuelementowa _tupla_, jednakże jest to typ danych, który poznamy dopiero w Lekcji 7. Możemy jednak wyobrazić sobie już teraz takie dwuelementowe \"pudełko\" złożone ze zmiennych `a`, `b`. Na początku trzyma ono wartości 1, 1: `a = 1`, `b = 1`.\n",
    "\n",
    "Jak teraz zakodować krok rekursywny? Chcemy jakby przesunąć zmienne `a` i `b` o jeden krok do przodu:\n",
    "\n",
    "![](Images/Fibonacci.png)\n",
    "\n",
    "W ten sposób kolejny element będzie sumą dwóch poprzednich, a także jego poprzednik zostanie odpowiednio przesunięty. Tu oczywiście nowe zmienne także nazywają się `a` i `b`; subskrypt \"new\" ma tylko zadanie podkreślić, że są to \"nowe\" wartości, po dokonaniu kroku rekursywnego. Jak zakodować to przypisanie? W Lekcji 7 dowiemy się, jak zrobić to bardzo elegancko za pomocą tupli:\n",
    "```\n",
    "( a , b ) = ( b , a + b )\n",
    "```\n",
    "(jak na rysunku - nowa wartość `a` to `b`, zaś nowa wartość `b` to `a + b`). Bez użycia tupli nie możemy zapisać tego tak zwięźle! Zauważ, że gdybyśmy napisali:\n",
    "```\n",
    "a = b\n",
    "b = a + b\n",
    "```\n",
    "to _najpierw_ zmienna `a` przyjmie wartość `b`, a wówczas drugie przypisanie będzie tak naprawdę `b = b + b`, czyli nie to, co chcemy! Podobnie pisząc w odwrotnej kolejności:\n",
    "```\n",
    "b = a + b\n",
    "a = b\n",
    "```\n",
    "to _najpierw_ `b` zmieni wartość i ta _nowa_ wartość zostanie przypisana do `a` w drugim kroku, nie _stara_ wartość, jak chcemy. Aby rozwiązać ten dylemat, musimy posłużyć się zmienną pomocniczą, nazwijmy ją `temp` (od \"temporary\"). Najpierw przechowajmy w niej starą wartość `b`:\n",
    "```\n",
    "temp = b\n",
    "```\n",
    "Teraz możemy spokojnie utworzyć nową wartość `b`:\n",
    "```\n",
    "b = a + b\n",
    "```\n",
    "gdyż stara wartość jest zapisana w zmiennej `temp`, którą teraz użyjmy do przypisania:\n",
    "```\n",
    "a = temp\n",
    "```\n",
    "co poprawnie przypisuje do `a` starą, a nie nową, wartość `b`."
   ]
  },
  {
   "cell_type": "markdown",
   "metadata": {},
   "source": [
    "Wydrukujmy pierwsze sto elementów (setny element powinien być równy 354224848179261915075):"
   ]
  },
  {
   "cell_type": "code",
   "execution_count": 58,
   "metadata": {},
   "outputs": [
    {
     "name": "stdout",
     "output_type": "stream",
     "text": [
      "1\n",
      "1\n",
      "2\n",
      "3\n",
      "5\n",
      "8\n",
      "13\n",
      "21\n",
      "34\n",
      "55\n",
      "89\n",
      "144\n",
      "233\n",
      "377\n",
      "610\n",
      "987\n",
      "1597\n",
      "2584\n",
      "4181\n",
      "6765\n",
      "10946\n",
      "17711\n",
      "28657\n",
      "46368\n",
      "75025\n",
      "121393\n",
      "196418\n",
      "317811\n",
      "514229\n",
      "832040\n",
      "1346269\n",
      "2178309\n",
      "3524578\n",
      "5702887\n",
      "9227465\n",
      "14930352\n",
      "24157817\n",
      "39088169\n",
      "63245986\n",
      "102334155\n",
      "165580141\n",
      "267914296\n",
      "433494437\n",
      "701408733\n",
      "1134903170\n",
      "1836311903\n",
      "2971215073\n",
      "4807526976\n",
      "7778742049\n",
      "12586269025\n",
      "20365011074\n",
      "32951280099\n",
      "53316291173\n",
      "86267571272\n",
      "139583862445\n",
      "225851433717\n",
      "365435296162\n",
      "591286729879\n",
      "956722026041\n",
      "1548008755920\n",
      "2504730781961\n",
      "4052739537881\n",
      "6557470319842\n",
      "10610209857723\n",
      "17167680177565\n",
      "27777890035288\n",
      "44945570212853\n",
      "72723460248141\n",
      "117669030460994\n",
      "190392490709135\n",
      "308061521170129\n",
      "498454011879264\n",
      "806515533049393\n",
      "1304969544928657\n",
      "2111485077978050\n",
      "3416454622906707\n",
      "5527939700884757\n",
      "8944394323791464\n",
      "14472334024676221\n",
      "23416728348467685\n",
      "37889062373143906\n",
      "61305790721611591\n",
      "99194853094755497\n",
      "160500643816367088\n",
      "259695496911122585\n",
      "420196140727489673\n",
      "679891637638612258\n",
      "1100087778366101931\n",
      "1779979416004714189\n",
      "2880067194370816120\n",
      "4660046610375530309\n",
      "7540113804746346429\n",
      "12200160415121876738\n",
      "19740274219868223167\n",
      "31940434634990099905\n",
      "51680708854858323072\n",
      "83621143489848422977\n",
      "135301852344706746049\n",
      "218922995834555169026\n",
      "354224848179261915075\n"
     ]
    }
   ],
   "source": [
    "a = 1\n",
    "b = 1\n",
    "\n",
    "for _ in range( 100 ):\n",
    "    \n",
    "    print( a )\n",
    "    \n",
    "    temp = b\n",
    "    b = a + b\n",
    "    a = temp"
   ]
  },
  {
   "cell_type": "markdown",
   "metadata": {},
   "source": [
    "(Zauważmy, że możemy tu użyć \"niemego iteratora\", jako że jego wartości nigdzie w ciele pętli nie używamy.)"
   ]
  },
  {
   "cell_type": "markdown",
   "metadata": {},
   "source": [
    "## <a id=\"3\"></a>3. Pętla `while`"
   ]
  },
  {
   "cell_type": "markdown",
   "metadata": {},
   "source": [
    "### <a id=\"3.1\"></a>3.1. Zasada pętli `while`"
   ]
  },
  {
   "cell_type": "markdown",
   "metadata": {},
   "source": [
    "<img style = 'float: right; margin-left: 10px; margin-bottom: 10px' src = 'Images/while_loop.png' width = '250px'>Pętla `while` (a więc: \"podczas gdy\") ma ogólną składnię:\n",
    "```\n",
    "while condition:\n",
    "    statement\n",
    "    statement\n",
    "    ...\n",
    "    statement\n",
    "```\n",
    "\n",
    "Ponownie, składnia ta wygląda analogicznie do składni instrukcji warunkowych i do składni pętli `for`:\n",
    "\n",
    "- zaczynamy od słowa kluczowego `while`;\n",
    "\n",
    "- następnie mamy zdanie logiczne, a więc zmienną typu `bool`, tutaj nazwane `condition`;\n",
    "\n",
    "- linijka zamyka się dwukropkiem `:` - tak samo jak w instrukcjach warunkowych i jak w pętli `for`;\n",
    "\n",
    "- dalej następuje blok kodu - wyróżniony, jak zawsze, wcięciem na cztery spacje.\n",
    "\n",
    "Kod ten dokonuje następującej czynności: \"podczas gdy warunek logiczny `condition` jest prawdziwy, wykonuj cyklicznie poniższy blok kodu\". Przez \"cyklicznie\" rozumiemy, że blok jest wykonywany, po czym przechodzimy do jego początku i wykonujemy go ponownie itd. - jest to w końcu \"pętla\"!\n",
    "\n",
    "Zauważmy zatem, iż blok kodu powinien _modyfikować warunek_ `condition`! Gdyby warunek `condition` był na początku równy `True`, a blok kodu by go w żaden sposób nie modyfikował, to pętla ta działałaby (teoretycznie) w nieskończoność! Innymi słowy, ideą jest, że blok kodu jakoś zmienia wartość zdania logicznego `condition` - i w momencie, kiedy przestaje ono być prawdziwe, także i pętla się zatrzymuje.\n",
    "\n",
    "Podkreślmy także, że w przeciwieństwie do pętli `for` tutaj - w ogólnym przypadku - nie znamy z góry liczby iteracji, jakie się dokonają - jest to iteracja nieokreślona."
   ]
  },
  {
   "cell_type": "markdown",
   "metadata": {},
   "source": [
    "Jako przykład, wypiszmy liczby od 0 do 4. Nie jest to najbardziej fortunny wybór - jest to przecież klasyczny przykład iteracji określonej: mamy dokładnie pięć iteracji. Zatem naturalnym rozwiązaniem tego problemu byłoby użycie pętli `for`:"
   ]
  },
  {
   "cell_type": "code",
   "execution_count": null,
   "metadata": {},
   "outputs": [],
   "source": [
    "for i in range( 5 ):\n",
    "    print( i )"
   ]
  },
  {
   "cell_type": "markdown",
   "metadata": {},
   "source": [
    "... ale zilustrujmy jednak konstrukcję pętli `while` na tym przykładzie:"
   ]
  },
  {
   "cell_type": "code",
   "execution_count": null,
   "metadata": {},
   "outputs": [],
   "source": [
    "i = 0\n",
    "while i < 5: # dopóki i jest mniejsze od 5, wykonuj cyklicznie poniższy blok\n",
    "    print( i ) # wydrukuj i\n",
    "    i += 1 # zwiększ i o 1 (pamiętamy, że znaczy to i = i + 1)"
   ]
  },
  {
   "cell_type": "markdown",
   "metadata": {},
   "source": [
    "Przeanalizujmy to krok po kroku:\n",
    "\n",
    "- wartość zmiennej `i` jest na początku 0 (pamiętaj, aby wszelkie zmienne, których używasz w warunku, były wcześniej zadeklarowane!); sprawdzmy warunek `i < 5`, jest on prawdziwy, a więc wykonujemy blok: drukujemy 0 i zwiększamy `i` o 1, ma ono zatem teraz wartość 1;\n",
    "\n",
    "- wracamy do początku bloku: sprawdzamy warunek `i < 5`, jest on nadal prawdziwy, a więc wykonujemy blok: drukujemy 1 zwiększamy `i` o 1, ma ono więc teraz wartość 2;\n",
    "\n",
    "- powtarzamy to cyklicznie; kiedy wydrukowaliśmy 4 i zwiększyliśmy `i` o 1, `i` ma teraz wartość 5 - zatem po powrocie do początku okazuje się, iż warunek `i < 5` jest fałszywy; nic się zatem dalej tu nie dzieje - pętla się przerywa!\n",
    "\n",
    "Widzimy więc, że w każdym kroku pętli zmieniamy wartość zmiennej `i` i poprzez to zmieniamy też warunek, aż w pewnym momencie przestaje być prawdziwy i pętla się zatrzymuje."
   ]
  },
  {
   "cell_type": "markdown",
   "metadata": {},
   "source": [
    "<img style = 'float: left; margin-right: 10px; margin-bottom: 10px' src = 'Images/question.png'> Szybkie ćwiczenie 7: Wypisz wszystkie liczby naturalne mniejsze od 100 i podzielne przez 17, używając pętli `while`."
   ]
  },
  {
   "cell_type": "code",
   "execution_count": null,
   "metadata": {},
   "outputs": [],
   "source": [
    "# szybkie ćwiczenie 7 - rozwiązanie\n",
    "\n"
   ]
  },
  {
   "cell_type": "markdown",
   "metadata": {},
   "source": [
    "<img style = 'float: left; margin-right: 10px; margin-bottom: 10px' src = 'Images/question.png'> Szybkie ćwiczenie 8: Wypisz liczby naturalne od 4 do 0, w malejącej kolejności, używając pętli `while`."
   ]
  },
  {
   "cell_type": "code",
   "execution_count": null,
   "metadata": {},
   "outputs": [],
   "source": [
    "# szybkie ćwiczenie 8 - rozwiązanie\n",
    "\n"
   ]
  },
  {
   "cell_type": "markdown",
   "metadata": {},
   "source": [
    "Wszystkie powyższe przykłady nie były może idealne jeśli chodzi o zilustrowanie pętli `while` - lepiej wybrać do ich rozwiązania pętli `for`. Fakt ten pokazuje nam, że istotnym jest wybór właściwego narzędzia do danego problemu. Pokażmy teraz inne zadanie, gdzie pętla `while` jest nieodzowna - naprawdę nie znamy zawczasu liczby iteracji:\n",
    "\n",
    "Problem to tzw. [hipoteza Collatz'a](https://en.wikipedia.org/wiki/Collatz_conjecture) i - jak wiele najtrudniejszych i nierozwiązanych problemów w matematyce - jest bardzo prosty do opisania: Zacznij od dowolnej dodatniej liczby całkowitej $n$. Następną liczbę w ciągu otrzymaj tak: jeśli $n$ jest parzysta, to następną liczbą jest $n/2$, a jeśli $n$ jest nieparzysta, to następną liczbą jest $(3n + 1)$. Np. startując od 12, otrzymujemy ciąg: 6, 3, 10, 5, 16, 8, 4, 2, 1 - przeanalizuj, dlaczego. Mamy tu ciąg o długości 9, który kończy się liczbą 1.\n",
    "\n",
    "Hipoteza Collatz'a mówi, że startując od dowolnej liczby $n$ dostaniemy na końcu 1.\n",
    "\n",
    "O problemie tym najwięksi matematycy wypowiadają się w następujących słowach: \"Matematyka może nie być gotowa na takie problemy\" (Paul Erdős), \"To jest niezwykle skomplikowany problem, całkowicie poza zasięgiem współczesnej matematyki\" (Jeffrey Lagarias). My nie będziemy próbować go rozwiązać! Spróbujmy jednak napisać pętlę `while`, która pozwoli nam zacząć od dowolnej liczby $n$ i iterować transformację Collatz'a tyle razy, aż dojedziemy do 1 - przy okazji wypisując kolejne liczby, a na koniec liczbę kroków (którą zawrzyjmy w zmiennej kumulującej `steps`, którą co iterację powiększajmy o 1). Jest to idealny przykład iteracji nieokreślonej - liczba kroków jest absolutnie nieznana, nawet nie jest udowodnione, że 1 zawsze zostanie osiągnięta!"
   ]
  },
  {
   "cell_type": "code",
   "execution_count": null,
   "metadata": {},
   "outputs": [],
   "source": [
    "# nasza liczba startowa\n",
    "\n",
    "n = 9\n",
    "print( f'Our starting number is: {n}.' )\n",
    "print( '' )\n",
    "\n",
    "# zmienna steps będzie mierzyć kroki od początku aż do osiągnięcia 1\n",
    "\n",
    "steps = 0\n",
    "\n",
    "# pętla while - nie mamy najmniejszego pojęcia, ile kroków zajmie iteracja - to piękny przykład iteracji nieokreślonej\n",
    "\n",
    "while n != 1:\n",
    "    \n",
    "    if n % 2 == 0:\n",
    "        n = int( n / 2 ) # techniczny punkt: n/2 jest liczbą całkowitą, ale Python potraktuje ją i tak jak float (np. 6.0) - zmieńmy ją na int (np. 6)\n",
    "    else:\n",
    "        n = 3 * n + 1\n",
    "    \n",
    "    steps += 1 # zwiększamy licznik kroków\n",
    "    \n",
    "    print( f'After step {steps}, the number is: {n}.' ) # drukujemy nową wartość - po transformacji Collatz'a\n",
    "\n",
    "print( '' )\n",
    "print( f'The number of steps to reach 1 is {steps}.' )"
   ]
  },
  {
   "cell_type": "markdown",
   "metadata": {},
   "source": [
    "Spróbuj zmieniać wartość `n` i zobacz, co się dzieje; spróbuj np. wartości 8, 9, 97."
   ]
  },
  {
   "cell_type": "markdown",
   "metadata": {},
   "source": [
    "Podkreślmy to jeszcze raz: jedynym sposobem na obliczenie wartości `steps` dla zadanej wartości `n` jest użycie nieokreślonej iteracji pętlą `while`."
   ]
  },
  {
   "cell_type": "markdown",
   "metadata": {},
   "source": [
    "### <a id=\"3.2\"></a>3.2. Ucieczka z pętli - `break` i `continue`"
   ]
  },
  {
   "cell_type": "markdown",
   "metadata": {},
   "source": [
    "<img style = 'float: right; margin-right: 10px; margin-bottom: 10px' src = 'Images/break_continue.png' width = '250px'>W powyższych przykładach, dopóki tylko warunek był prawdziwy, to cały blok kodu był wykonywany. Python dostarcza dodatkowo dwa słowa kluczowe, które pozwalają zmodyfikować to zachowanie:\n",
    "\n",
    "- instrukcja `break` natychmiast przerywa wykonywanie _całej_ pętli - interpreter od razu przeskakuje do najbliższej linijki poza pętlą;\n",
    "\n",
    "- instrukcja `continue` natychmiast przerywa wykonywanie _obecnej iteracji_ pętli - interpreter wraca do sprawdzenia warunku i, jeśli ten jest prawdziwy, do wykonania bloku od początku.\n",
    "\n",
    "Obie te instrukcje mogą być równie dobrze używane w pętli `for`."
   ]
  },
  {
   "cell_type": "markdown",
   "metadata": {},
   "source": [
    "Pokażmy to na powyższym prostym przykładzie, który nieco zmodyfikujmy - najpierw dokonajmy zwiększenia `i` o 1, a dopiero potem drukowania:"
   ]
  },
  {
   "cell_type": "code",
   "execution_count": null,
   "metadata": {},
   "outputs": [],
   "source": [
    "i = 0\n",
    "while i < 5:\n",
    "    i += 1\n",
    "    print( i )"
   ]
  },
  {
   "cell_type": "markdown",
   "metadata": {},
   "source": [
    "Zilustrujmy teraz działanie słowa `break`, które wstawmy między powyższe linijki, a które aktywować będzie pewna instrukcja warunkowa:"
   ]
  },
  {
   "cell_type": "code",
   "execution_count": null,
   "metadata": {},
   "outputs": [],
   "source": [
    "i = 0\n",
    "while i < 5:\n",
    "    i += 1\n",
    "    if i == 4:\n",
    "        break\n",
    "    print( i )"
   ]
  },
  {
   "cell_type": "markdown",
   "metadata": {},
   "source": [
    "... i rzeczywiście, w czwartej iteracji dzieje się co następuje: `i` ma na początku wartość 3, którą od razu zwiększamy o 1, ma więc teraz wartość 4; zanim jednak to \"4\" wydrukujemy, warunek `i == 4` staje się prawdziwy i aktywuje instrukcję `break`, a ta natychmiast kończy pętle - zanim wydrukujemy \"4\", zanim też przeszlibyśmy do kolejnej iteracji, która wydrukowałaby \"5\"."
   ]
  },
  {
   "cell_type": "markdown",
   "metadata": {},
   "source": [
    "Z kolei instrukcja `continue` w identycznym miejscu miałaby następujący efekt:"
   ]
  },
  {
   "cell_type": "code",
   "execution_count": null,
   "metadata": {},
   "outputs": [],
   "source": [
    "i = 0\n",
    "while i < 5:\n",
    "    i += 1\n",
    "    if i == 4:\n",
    "        continue\n",
    "    print( i )"
   ]
  },
  {
   "cell_type": "markdown",
   "metadata": {},
   "source": [
    "... i tu z kolei wydrukowały się wszystkie liczby, oprócz \"4\". Dlaczego? W czwartej iteracji, kiedy to zwiększyliśmy `i` z 3 na 4 i sprawdziliśmy (prawdziwy teraz) warunek `i == 4`, aktywowane zostało słowo `continue` - czego efektem jest pominięcie reszty części tej pętli, tj. instrukcji drukowania; zatem \"4\" się nie wydrukuje. Natomiast tutaj nie przerywamy całej pętli - zaczynamy normalnie piątą iterację, co drukuje liczbę \"5\"."
   ]
  },
  {
   "cell_type": "markdown",
   "metadata": {},
   "source": [
    "### <a id=\"3.3\"></a>3.3. Nieskończona pętla"
   ]
  },
  {
   "cell_type": "markdown",
   "metadata": {},
   "source": [
    "Wspominaliśmy wcześniej o dość przerażającej sytuacji - nieskończona pętla! Jeśli warunek będzie zawsze prawdziwy, iteracja nigdy się nie skończy (\"infinite loop\")! Przeczytaj poniższy kod i zastanów się, co się stanie po jego wykonaniu:"
   ]
  },
  {
   "cell_type": "code",
   "execution_count": null,
   "metadata": {},
   "outputs": [],
   "source": [
    "a = 10\n",
    "while a < 20:\n",
    "    print( a )"
   ]
  },
  {
   "cell_type": "markdown",
   "metadata": {},
   "source": [
    "... lub też:"
   ]
  },
  {
   "cell_type": "code",
   "execution_count": null,
   "metadata": {
    "colab": {},
    "colab_type": "code",
    "id": "fs5sXAUhIFHW"
   },
   "outputs": [],
   "source": [
    "name = 'Ala'\n",
    "while True:\n",
    "    print( name )"
   ]
  },
  {
   "cell_type": "markdown",
   "metadata": {},
   "source": [
    "Szczególnie ten drugi przykład jest klarowny: warunkiem pętli `while` jest `True` - zawsze prawda! Będzie więc powtarzać się w nieskończoność. Choć wygląda to dość absurdalnie, to jednak powyższa konstrukcja pojawia się z pewną regularnością w programach Pythona - idea jest następująca: powtarzaj jakiś blok kodu w nieskończoność, ale zawrzyj w nim klauzulę ucieczki `break`, jeśli jakieś warunki zostaną spełnione."
   ]
  },
  {
   "cell_type": "markdown",
   "metadata": {},
   "source": [
    "Klasycznym przykładem jest wpisanie przez użytkownika właściwego hasła. Napiszmy nieskończoną pętlę `while`, która niekończąco prosi użytkownika o wpisanie hasła - funkcją `input` - a jest przerywana (słowem `break`) tylko gdy wpisane hasło zgadza się z poprawnym hasłem:"
   ]
  },
  {
   "cell_type": "code",
   "execution_count": null,
   "metadata": {},
   "outputs": [],
   "source": [
    "correct_password = 'iamsocool!'\n",
    "\n",
    "while True:\n",
    "    password = input( 'Please enter your password: ' )\n",
    "    if password == correct_password:\n",
    "        print( 'Correct password!' )\n",
    "        break\n",
    "    else:\n",
    "        print( 'Incorrect password!' )"
   ]
  },
  {
   "cell_type": "markdown",
   "metadata": {},
   "source": [
    "Liczba iteracji rzeczywiście jest tu nieskończona - i powinna taka być! - dopóki nie wpiszemy poprawnego hasła, po czym pętla natychmiast się kończy."
   ]
  },
  {
   "cell_type": "markdown",
   "metadata": {},
   "source": [
    "Alternatywnie, moglibyśmy warunek ten umieścić po `while`:"
   ]
  },
  {
   "cell_type": "code",
   "execution_count": null,
   "metadata": {},
   "outputs": [],
   "source": [
    "password = ''\n",
    "while password != correct_password:\n",
    "    password = input( 'Please enter your password: ' )\n",
    "\n",
    "print( 'Correct password!' )"
   ]
  },
  {
   "cell_type": "markdown",
   "metadata": {},
   "source": [
    "<img style = 'float: left; margin-right: 10px; margin-bottom: 10px' src = 'Images/question.png'> Szybkie ćwiczenie 9: Zmodyfikuj poniższy kod w taki sposób, aby string `'Ala'` został wypisany 5 razy:\n",
    "```\n",
    "name = 'Ala'\n",
    "i = ___\n",
    "while True:\n",
    "    if i < ___:\n",
    "        print( name )\n",
    "        i += ___\n",
    "    else:\n",
    "        break\n",
    "```"
   ]
  },
  {
   "cell_type": "code",
   "execution_count": null,
   "metadata": {},
   "outputs": [],
   "source": [
    "# szybkie ćwiczenie 9 - rozwiązanie\n",
    "\n"
   ]
  },
  {
   "cell_type": "markdown",
   "metadata": {},
   "source": [
    "Jako ciekawostkę dodajmy, że nieskończoną pętlę możemy osiągnąć także składnią `for`! Możemy bowiem w trakcie iteracji po skończonej kolekcji... modyfikować tę kolekcję! Np. poniższa pętla `for` po liście ciągle dodaje kolejne jej liczby na jej koniec, a więc nigdy tego końca nie osiągniemy - to jak gonienie horyzontu! Dodaliśmy tam `break`, aby zakończyć pętlę, ale bez niego szła by w nieskończoność."
   ]
  },
  {
   "cell_type": "code",
   "execution_count": 81,
   "metadata": {},
   "outputs": [
    {
     "data": {
      "text/plain": [
       "[1, 2, 1, 2, 1, 2, 1, 2, 1, 2, 1, 2, 1, 2, 1, 2, 1, 2, 1, 2]"
      ]
     },
     "execution_count": 81,
     "metadata": {},
     "output_type": "execute_result"
    }
   ],
   "source": [
    "my_short_list = [ 1 , 2 ]\n",
    "\n",
    "for number in my_short_list:\n",
    "    my_short_list += [ number ] # operator += na listach działa jak na stringach - zob. Lekcja 5-6\n",
    "    \n",
    "    # bez tego pętla szła by w nieskończoność\n",
    "    if len( my_short_list ) >= 20:\n",
    "        break\n",
    "\n",
    "my_short_list"
   ]
  },
  {
   "cell_type": "markdown",
   "metadata": {},
   "source": [
    "## <a id=\"4\"></a>4. Zadania domowe"
   ]
  },
  {
   "cell_type": "markdown",
   "metadata": {},
   "source": [
    "<img style = 'float: left; margin-right: 10px; margin-bottom: 10px' src = 'Images/question.png'> Dłuższe ćwiczenie 10: Analiza danych synoptycznych.\n",
    "\n",
    "Dana jest poniżej lista `temperatures` zawierająca średnie temperatury dobowe Krakowa, [zmierzone](https://dane.imgw.pl/data/dane_pomiarowo_obserwacyjne/dane_meteorologiczne/dobowe/synop/) w stacji Kraków-Balice w styczniu 2018 roku, dla kolejnych dni. Twoje zadania to:\n",
    "\n",
    "(a) Oblicz średnią temperaturę w styczniu 2018.\n",
    "\n",
    "(b) Zlicz liczbę \"ciepłych dni\" (temperatura większa bądź równa 0 stopni Celsjusza)...\n",
    "\n",
    "(c) ... oraz liczbę \"mroźnych dni\" (temperatura mniejsza niż 0 stopni Celsjusza).\n",
    "\n",
    "(d) Oblicz średnią temperaturę \"ciepłych dni\"...\n",
    "\n",
    "(e) ... oraz średnią temperaturę \"mroźnych dni\"."
   ]
  },
  {
   "cell_type": "markdown",
   "metadata": {},
   "source": [
    "Wskazówka: Użyj metody zmiennej kumulującej. (Postaraj się zrobić to zadanie bez użycia funkcji wbudowanych `len`, `sum`; poćwicz technikę \"pudełka\".)|"
   ]
  },
  {
   "cell_type": "code",
   "execution_count": null,
   "metadata": {},
   "outputs": [],
   "source": [
    "temperatures = [\n",
    "    3.1 , 0.8 , 2.5 , 4.3 , 4.6 , 6.2 , 4.7 ,\n",
    "    0.2 , -0.4 , 2.7 , 0.7 , 0.3 , -1.3 , -4.2 ,\n",
    "    -6.3 , -3.3 , 1.5 , 1.4 , 1.9 , -1.0 , -1.9 ,\n",
    "    -3.1 , -4.0 , 0.2 , 1.4 , -0.6 , 0.1 , 3.9 ,\n",
    "    7.8 , 5.1 , 2.1\n",
    "]"
   ]
  },
  {
   "cell_type": "code",
   "execution_count": null,
   "metadata": {},
   "outputs": [],
   "source": [
    "# dłuższe ćwiczenie 10a - rozwiązanie\n",
    "\n"
   ]
  },
  {
   "cell_type": "code",
   "execution_count": null,
   "metadata": {},
   "outputs": [],
   "source": [
    "# dłuższe ćwiczenie 10b - rozwiązanie\n",
    "\n"
   ]
  },
  {
   "cell_type": "code",
   "execution_count": null,
   "metadata": {},
   "outputs": [],
   "source": [
    "# dłuższe ćwiczenie 10c - rozwiązanie\n",
    "\n"
   ]
  },
  {
   "cell_type": "code",
   "execution_count": null,
   "metadata": {},
   "outputs": [],
   "source": [
    "# dłuższe ćwiczenie 10d - rozwiązanie\n",
    "\n"
   ]
  },
  {
   "cell_type": "code",
   "execution_count": null,
   "metadata": {},
   "outputs": [],
   "source": [
    "# dłuższe ćwiczenie 10e - rozwiązanie\n",
    "\n"
   ]
  },
  {
   "cell_type": "markdown",
   "metadata": {},
   "source": [
    "<img style = 'float: left; margin-right: 10px; margin-bottom: 10px' src = 'Images/question.png'><img style = 'float: right; margin-left: 10px; margin-bottom: 10px' src = 'Images/chess_board.png'  width=\"250px\"> Dłuższe ćwiczenie 11: Szachownica.\n",
    "\n",
    "Wypisz wszystkie pola szachownicy w postaci pojedynczego stringa o postaci `'a1, a2, ..., h7, h8'`."
   ]
  },
  {
   "cell_type": "markdown",
   "metadata": {},
   "source": [
    "Wskazówka:\n",
    "\n",
    "- Napisz zagnieżdżoną pętlę `for`, najpierw po stringu `chess_alphabet = 'abcdefgh'`, potem po odpowiednim zakresie `range`.\n",
    "\n",
    "- Pamiętaj, że liczba otrzymana z funkcji `range` będzie typu `int`, a chcemy mieć ją w postaci stringa - jak dokonać konwersji?\n",
    "\n",
    "- W każdym kroku tej podwójnej iteracji stwórz zbitkę litery i liczby, np. `'c5'`.\n",
    "\n",
    "- Natomiast aby utworzyć żądany string, wykorzystaj technikę zmiennej kumulującej: zdefiniuj na samym początku pusty string `chess_fields = ''`, jako nasz \"pusty pojemnik\", a w każdym kroku zagnieżdżonej pętli \"wrzucaj\" do niego kolejną zbitkę jak `'c5'` itd. Pamiętaj też o przecinkach i spacjach (zrób to bez użycia metody stringów `join`!). Spróbuj wziąć pod uwagę, że po ostatnim wpisie nie ma przecinka i spacji.\n",
    "\n",
    "- Przez \"wrzucaj\" rozumiemy tutaj łączenie stringów - przypomnij sobie, jak operator `+` działa na stringach."
   ]
  },
  {
   "cell_type": "code",
   "execution_count": null,
   "metadata": {},
   "outputs": [],
   "source": [
    "# dłuższe ćwiczenie 11 - rozwiązanie\n",
    "\n"
   ]
  },
  {
   "cell_type": "markdown",
   "metadata": {},
   "source": [
    "<img style = 'float: left; margin-right: 10px; margin-bottom: 10px' src = 'Images/question.png'> Dłuższe ćwiczenie 12 (*): Iteracja do zera.\n",
    "\n",
    "Masz daną dodatnią liczbę całkowitą `n`. Dokonujesz na niej cyklicznie następujących operacji:\n",
    "\n",
    "- jeśli liczba jest parzysta, podziel ją przez 2;\n",
    "\n",
    "- jeśli liczba jest nieparzysta, odejmij od niej 1.\n",
    "\n",
    "Iterując to zachowanie, w pewnym momencie osiągniesz zero. Po ilu krokach to się zdarzy?\n",
    "\n",
    "Np. dla `n = 123` będzie to po 12 krokach: 123 → 122 → 61 → 60 → 30 → 15 → 14 → 7 → 6 → 3 → 2 → 1 → 0. Rzeczywiście, 123 jest nieparzysta, więc odejmujemy od niej 1, dostając 122; ta jest parzysta, więc dzielimy przez 2, dostając 61; ta jest nieparzysta, odejmujemy 1, dostając 60; itd."
   ]
  },
  {
   "cell_type": "markdown",
   "metadata": {},
   "source": [
    "Wskazówka: Zapisz to pętlą `while`, podobnie jak w problemie Collatz'a."
   ]
  },
  {
   "cell_type": "code",
   "execution_count": null,
   "metadata": {},
   "outputs": [],
   "source": [
    "# dłuższe ćwiczenie 12 - rozwiązanie\n",
    "\n"
   ]
  },
  {
   "cell_type": "markdown",
   "metadata": {},
   "source": [
    "<img style = 'float: left; margin-right: 10px; margin-bottom: 10px' src = 'Images/question.png'> Dłuższe ćwiczenie 13 (*): Suma liczb bez zera.\n",
    "\n",
    "Liczbę całkowitą nazwijmy \"liczbą bez zera\", jeśli wśród cyfr tej liczby nie ma zera. Zatem 12 jest liczbą bez zera, ale 101 już nie.\n",
    "\n",
    "Masz daną dodatnią liczbę całkowitą `n`. Zapisz ją jako sumę dwóch liczb bez zera. Innymi słowy, dla danego `n`, wydrukuj dwie takie liczby całkowite dodatnie `a` i `b`, które są bez zera i dla których $a + b = n$. Takich par liczb `a` i `b` może być więcej niż jedna - wydrukuj dowolną z nich.\n",
    "\n",
    "Np. dla `n = 1010`, suma 1 i 1009 nie są dobrą parą, bo sumują się do 1010, ale 1009 ma w sobie cyfrę zero. Podobnie 2 i 1008 itd. Ale już 11 i 999 jest dobrą parą: 11 + 999 = 1010 oraz ani 11, ani 999 nie mają w sobie cyfry zero."
   ]
  },
  {
   "cell_type": "markdown",
   "metadata": {},
   "source": [
    "Wskazówka: Zacznij od `a = 1` i `b = n - a`. Użyj pętli `while`, gdzie w każdym kroku zwiększasz `a` o 1, natomiast `b` pozostaje takie, aby suma się zgadzała. Jako warunek pętli `while` daj, że zero jest cyfrą `a` lub zero jest cyfrą `b`. Jak sprawdzić, czy zero jest cyfrą danej liczby? Pomyśl nad następującym trikiem: przekonwertuj liczbę na string i na tym stringu napisz odpowiedni warunek."
   ]
  },
  {
   "cell_type": "code",
   "execution_count": null,
   "metadata": {},
   "outputs": [],
   "source": [
    "# dłuższe ćwiczenie 13 - rozwiązanie\n",
    "\n"
   ]
  },
  {
   "cell_type": "markdown",
   "metadata": {},
   "source": [
    "<img style = 'float: left; margin-right: 10px; margin-bottom: 10px' src = 'Images/question.png'> Dłuższe ćwiczenie 14 (*): Nawiasy.\n",
    "\n",
    "Masz dany string złożony z nawiasów okrągłych `'('` i `')'` (domkniętych w odpowiedni sposób, tj. każdy nawias otwierający ma partnera zamykającego) oraz z liczb całkowitych dodatnich, np. `'((5)41(1(23)))'`, czy też `'(((56)28(92)3)43(89(2))((45)(223(4)2)))'`. Twoim zadaniem jest obliczenie następującej sumy: Chcesz zsumować wszystkie liczby obecne w tym stringu, ale każda z nich jest dodatkowo pomnożona przez liczbę nawiasów, wewnątrz których się znajduje.\n",
    "\n",
    "A więc w tym pierwszym przypadku mielibyśmy: $5 \\cdot 2$ (bo 5 znajduje się wewnątrz 2 nawiasów), plus $4 \\cdot 1$, plus $1 \\cdot 1$ (bo 4 i 1 są wewnątrz jednego nawiasu), plus $1 \\cdot 2$, plus $2 \\cdot 3$, plus $3 \\cdot 3$ - razem wynik jest 32. W drugim przypadku wynik powinien być 209."
   ]
  },
  {
   "cell_type": "markdown",
   "metadata": {},
   "source": [
    "Wskazówka: Przeiteruj się pętlą `for` przez dany string. Zdefiniuj dwie zmienne kumulujące, nazwijmy je `result = 0` (kumulującą całkowity wynik zadania) oraz `brackets = 0` (kumulującą aktualną liczbę nawiasów, wewnątrz których jesteśmy). Jeśli napotkasz nawias otwarty, zwiększaj `brackets` o 1; jeśli nawias zamykający, to zmniejszaj ją o 1; jeśli liczbę, powiększaj odpowiednio `result`."
   ]
  },
  {
   "cell_type": "code",
   "execution_count": null,
   "metadata": {},
   "outputs": [],
   "source": [
    "# dłuższe ćwiczenie 14 - rozwiązanie\n",
    "\n"
   ]
  },
  {
   "cell_type": "markdown",
   "metadata": {},
   "source": [
    "<img style = 'float: left; margin-right: 10px; margin-bottom: 10px' src = 'Images/question.png'> Dłuższe ćwiczenie 15 (*): Wynajem mieszkania.\n",
    "\n",
    "Chcesz kupić mieszkanie i je wynająć. Mieszkanie kosztuje 300 000 zł. Od razu po kupieniu mieszkania zaczynasz je wynajmować, za kwotę 1 500 zł miesięcznie.\n",
    "\n",
    "Załóżmy, że musisz wziąć kredyt na wspomianą kwotę. Kredyt oprocentowany jest na 5 procent w skali roku; spłata rozłożona jest na 300 malejących rat; odsetki naliczane są ostatniego dnia miesiąca; na ratę za dany miesiąc składa się (1) rata kredytowa równa 300 000 zł / 300 rat = 1000 zł, plus (2) rata odsetkowa równe kredytowi pozostałemu do spłaty (już po odjęciu właśnie zapłaconego 1000 zł) razy miesięczna stopa procentowa, czyli 5%/12.\n",
    "\n",
    "A więc po pierwszym miesiącu z wynajmu dostaniemy 1 500 zł, zaś rata do zapłaty będzie wynosić 1 000 zł (rata kredytowa) plus 5%/12 $\\cdot$ (300 000 - 1 000) zł. Po drugim miesiącu znowu zyskamy 1 500 zł z wynajmu, a zapłacimy 1 000 zł (rata kredytowa) plus 5%/12 $\\cdot$ (300 000 - 2 000) zł.\n",
    "\n",
    "(a) W którym miesiącu zaczniesz mieć dodatni bilans finansów?, tj. cały dotychczasowy zysk na wynajmie zaczyna przekraczać to, co do tej pory zostało zapłacone na kredycie (wszystkie dotychczasowe raty kredytowe + wszystkie dotychczasowe raty odsetkowe) - i odtąd już zawsze będziesz mieć dodatni bilans, bo raty maleją.\n",
    "\n",
    "(b) W którym miesiącu dotychczasowy zysk z wynajmu zacznie przekraczać _cały_ koszt kredytu?, tj. wszystkie raty kredytowe i odsetkowe przez cały okres kredytowania.\n",
    "\n",
    "W obu podpunktach oblicz też wynik w przypadku, gdyby liczba rat wynosiła 600, przy tej samej stopie procentowej."
   ]
  },
  {
   "cell_type": "markdown",
   "metadata": {},
   "source": [
    "Wskazówka do (a):\n",
    "\n",
    "- Wszystkie parametry zadania przypisz na początku do zmiennych, np. `price = 300000`, `rent = 1500`, `loan_len = 300` itd. To pozwoli szybko je modyfikować na inne wartości.\n",
    "\n",
    "- Napisz pętlę `while`. Musisz w niej śledzić trzy rzeczy: aktualny miesiąc `month` (zaczynąjąc od `month = 0` i w każdej iteracji zwiększając go o 1), nasz dotychczasowy bilans finansowy `balance`, a więc sumę wszystkich dotychczasowych wpływów z wynajmu oraz spłat kredytu (zaczynąjąc od `balance = 0` i w każdej iteracji modyfikując go odpowiednio), a także kwotę kredytu pozostającą do spłaty `loan_outstanding` (zaczynając od `loan_outstanding = price` i w każdej iteracji ją zminiejszając o ratę kredytową).\n",
    "\n",
    "- Kiedy w każdej iteracji modyfikujesz `balance`, pamiętaj, iż spłata kredytu następuje tylko aż do czasu, jak go spłacisz całkowicie. Może się bowiem zdarzyć, że bilans dodatni uzyskasz już jakiś czas po spłacie całego kredytu. Uwzględnij to odpowiednią instrukcją warunkową (albo patrzącą na `month` - aż nie przekroczy on `loan_len` - albo patrzącą na `loan_outstanding` - aż osiągnie ona zero)."
   ]
  },
  {
   "cell_type": "markdown",
   "metadata": {},
   "source": [
    "Wskazówka do (b): Odpowiedzią jest cały koszt kredytu podzielony przez `rent`. Aby obliczyć całkowity koszt kredytu, napisz pętlę `while` podobną do tej w (a), lecz prostszą - niech warunkiem będzie aż spłacisz kredyt (np. śledząc `loan_outstanding`), zaś `balance` modyfikuj tylko o raty."
   ]
  },
  {
   "cell_type": "code",
   "execution_count": null,
   "metadata": {},
   "outputs": [],
   "source": [
    "# dłuższe ćwiczenie 15a - rozwiązanie\n",
    "\n"
   ]
  },
  {
   "cell_type": "code",
   "execution_count": null,
   "metadata": {},
   "outputs": [],
   "source": [
    "# dłuższe ćwiczenie 15b - rozwiązanie\n",
    "\n"
   ]
  },
  {
   "cell_type": "code",
   "execution_count": null,
   "metadata": {},
   "outputs": [],
   "source": []
  }
 ],
 "metadata": {
  "colab": {
   "collapsed_sections": [],
   "name": "Untitled3.ipynb",
   "provenance": [],
   "toc_visible": true
  },
  "kernelspec": {
   "display_name": "Python 3",
   "language": "python",
   "name": "python3"
  },
  "language_info": {
   "codemirror_mode": {
    "name": "ipython",
    "version": 3
   },
   "file_extension": ".py",
   "mimetype": "text/x-python",
   "name": "python",
   "nbconvert_exporter": "python",
   "pygments_lexer": "ipython3",
   "version": "3.7.9"
  }
 },
 "nbformat": 4,
 "nbformat_minor": 4
}
