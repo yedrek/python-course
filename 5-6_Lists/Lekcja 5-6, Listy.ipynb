{
 "cells": [
  {
   "cell_type": "markdown",
   "metadata": {},
   "source": [
    "# Lekcja 5-6: Listy"
   ]
  },
  {
   "cell_type": "markdown",
   "metadata": {},
   "source": [
    "## Spis treści"
   ]
  },
  {
   "cell_type": "markdown",
   "metadata": {},
   "source": [
    "<a href=\"#1\">1. Co to jest lista?</a>\n",
    "    \n",
    "    \n",
    "  - <a href=\"#1.1\">1.1. Rzut oka z góry - kolekcje w Pythonie</a>\n",
    "    - <a href=\"#1.1_b1\">Kolekcje</a>\n",
    "    - <a href=\"#1.1_b2\">Typy</a>\n",
    "    - <a href=\"#1.1_b3\">Cechy charakterystyczne kolekcji</a>\n",
    "    \n",
    "    \n",
    "  - <a href=\"#1.2\">1.2. Tworzenie list</a>\n",
    "  \n",
    "  \n",
    "  - <a href=\"#1.3\">1.3. Iterowanie pętlą `for` przez listę - wprowadzenie</a>\n",
    "    \n",
    "    \n",
    "  - <a href=\"#1.4\">1.4. Operator `in`</a>\n",
    "    \n",
    "\n",
    "<a href=\"#2\">2. Listy są uporządkowane - indeks</a>\n",
    "\n",
    "\n",
    "  - <a href=\"#2.1\">2.1. Dostęp do pojedynczych elementów listy</a>\n",
    "  \n",
    "  \n",
    "  - <a href=\"#2.2\">2.2. Segmenty indeksów</a>\n",
    "    - <a href=\"#2.2_b1\">Od (...) do (...)</a>\n",
    "    - <a href=\"#2.2_b2\">Od początku do (...); od (...) do końca</a>\n",
    "    - <a href=\"#2.2_b3\">Ujemne indeksy</a>\n",
    "    - <a href=\"#2.2_b4\">Krok</a>\n",
    "    - <a href=\"#2.2_b5\">Ujemny krok</a>\n",
    "    - <a href=\"#2.2_b6\">Elegancki przykład: odwracanie listy</a>\n",
    "    - <a href=\"#2.2_b7\">(*) Obiekt `slice`</a>\n",
    "  \n",
    "  \n",
    "  - <a href=\"#2.3\">2.3. Metody list `index` i `count`</a>\n",
    "\n",
    "\n",
    "<a href=\"#3\">3. Listy można modyfikować</a>\n",
    "    \n",
    "    \n",
    "  - <a href=\"#3.1\">3.1. Zmiany wartości elementów listy</a>\n",
    "  \n",
    "  \n",
    "  - <a href=\"#3.2\">3.2. (*) Mutowalność, aliasy, kopie</a>\n",
    "    \n",
    "    \n",
    "  - <a href=\"#3.3\">3.3. Dodawanie i usuwanie elementów z listy - metody list</a>\n",
    "    - <a href=\"#3.3_b1\">Dodawanie elementów do listy: `append`, `extend`, `insert`</a>\n",
    "    - <a href=\"#3.3_b2\">Usuwanie elementów z listy: `remove`, `pop`, `del`, `clear`</a>\n",
    "    \n",
    "    \n",
    "  - <a href=\"#3.4\">3.4. Rozszerzanie list - operatory `+`, `*`</a>\n",
    "    - <a href=\"#3.4_b1\">Operator dodawania `+`</a>\n",
    "    - <a href=\"#3.4_b2\">Operator mnożenia `*`</a>\n",
    "\n",
    "\n",
    "<a href=\"#4\">4. Zadania domowe do Lekcji 5</a>\n",
    "\n",
    "\n",
    "<a href=\"#5\">5. Iterowanie przez listę</a>\n",
    "\n",
    "\n",
    "  - <a href=\"#5.1\">5.1. Pętla `for`</a>\n",
    "  \n",
    "  \n",
    "  - <a href=\"#5.2\">5.2. Pusta lista (lub pusty string) jako \"puste pudełko\" w pętli `for`</a>\n",
    "  \n",
    "  \n",
    "  - <a href=\"#5.3\">5.3. (*) Stos i kolejka</a>\n",
    "  \n",
    "  \n",
    "  - <a href=\"#5.4\">5.4. Pętla `for` po indeksach</a>\n",
    "    - <a href=\"#5.4_b1\">Funkcja `range`</a>\n",
    "    - <a href=\"#5.4_b2\">Iterowanie po indeksach listy</a>\n",
    "    \n",
    "    \n",
    "  - <a href=\"#5.5\">5.5. Pętla `for` zarówno po indeksach, jak i elementach listy - funkcja `enumerate`</a>\n",
    "  \n",
    "  \n",
    "  - <a href=\"#5.6\">5.6. Pętla `for` po kilku listach jednocześnie złączonych \"na suwak\" - funkcja `zip`</a>\n",
    "  \n",
    "  \n",
    "  - <a href=\"#5.7\">5.7. List comprehension</a>\n",
    "  \n",
    "  \n",
    "  - <a href=\"#5.8\">5.8. List comprehension - `if` - `else`</a>\n",
    "  \n",
    "  \n",
    "  - <a href=\"#5.9\">5.9. List comprehension - zagnieżdżone pętle</a>\n",
    "\n",
    "\n",
    "<a href=\"#6\">6. (*) Transformacje list - programowanie funkcyjne</a>\n",
    "\n",
    "\n",
    "  - <a href=\"#6.1\">6.1. Wstęp: funkcje lambda</a>\n",
    "  \n",
    "  \n",
    "  - <a href=\"#6.2\">6.2. Redukowanie list</a>\n",
    "    - <a href=\"#6.2_b1\">Redukowanie poprzez użycie pętli</a>\n",
    "    - <a href=\"#6.2_b2\">Wbudowane funkcje działające na listach</a>\n",
    "    - <a href=\"#6.2_b3\">`reduce`</a>\n",
    "    \n",
    "    \n",
    "  - <a href=\"#6.3\">6.3. Mapowanie list</a>\n",
    "    - <a href=\"#6.3_b1\">Mapowanie poprzez użycie pętli</a>\n",
    "    - <a href=\"#6.3_b2\">`map`</a>\n",
    "    - <a href=\"#6.3_b3\">Mapowanie poprzez \"list comprehension\"</a>\n",
    "    \n",
    "    \n",
    "  - <a href=\"#6.4\">6.4. Filtrowanie list</a>\n",
    "    - <a href=\"#6.4_b1\">Filtrowanie poprzez użycie pętli</a>\n",
    "    - <a href=\"#6.4_b2\">`filter`</a>\n",
    "    - <a href=\"#6.4_b3\">Filtrowanie poprzez \"list comprehension\"</a>\n",
    "\n",
    "\n",
    "<a href=\"#7\">7. Zadania domowe do Lekcji 6</a>"
   ]
  },
  {
   "cell_type": "markdown",
   "metadata": {},
   "source": [
    "## <a id=\"1\"></a>1. Co to jest lista?"
   ]
  },
  {
   "cell_type": "markdown",
   "metadata": {},
   "source": [
    "### <a id=\"1.1\"></a>1.1. Rzut oka z góry - kolekcje w Pythonie"
   ]
  },
  {
   "cell_type": "markdown",
   "metadata": {},
   "source": [
    "#### <a id=\"1.1_b1\"></a>Kolekcje"
   ]
  },
  {
   "cell_type": "markdown",
   "metadata": {},
   "source": [
    "Od tej lekcji zaczniemy zajmować się nowymi typami danych - takimi, które opisują _kolekcje_ elementów. Kolekcje, jak nazwa wskazuje, ułatwiają pracę z większą ilością danych - pozwalają _zebrać wiele różnych wartości w jeden obiekt_. Wyobraźmy sobie np. listę imion uczniów w klasie; czy też wszystkie przedmioty w koszyku zakupów online; lub spis dziennych warunków pogodowych w jakimś miejscu... Przechowywanie wielu elementów w jednym \"miejscu\" to bardzo powszechna sytuacja - co więcej, chcielibyśmy takie kolekcje móc przeglądać, przeszukiwać, modyfikować. O tym wszystkim nauczymy się podczas Lekcji 5-8.\n",
    "\n",
    "W Pythonie mamy następujące podstawowe typy danych **kolekcji** (\"collections\"):\n",
    "\n",
    "- **listy** (\"list\", typ danych `list`),\n",
    "\n",
    "- **tuple**, lub bardziej po polsku **krotki** (\"tuple\", typ danych `tuple`),\n",
    "\n",
    "- **zbiory** (\"set\", typ danych `set`),\n",
    "\n",
    "- **słowniki** (\"dictionary\", typ danych `dict`),\n",
    "\n",
    "a także:\n",
    "\n",
    "- poznane już **stringi** (\"string\", typ danych `str`) jako kolekcje pojedynczych znaków.\n",
    "\n",
    "Jedynie gwoli zapoznania się z podstawową składnią pierwszych czterech typów - **elementy** (\"elements\" lub \"items\") zawsze rozdzielamy przecinkami, a kolekcję tworzy się przez wzięcie elementów w nawiasy - oto kilka przykładów:"
   ]
  },
  {
   "cell_type": "code",
   "execution_count": null,
   "metadata": {},
   "outputs": [],
   "source": [
    "# lista - nawiasy kwadratowe\n",
    "\n",
    "lst = [ 10 , 20 , 30 , 40 ] # unikajmy nazywania zmiennych pojedynczą literą \"l\" - ciężko ją odróżnić od \"1\"\n",
    "\n",
    "# tupla (krotka) - nawiasy okrągłe\n",
    "\n",
    "t = ( 'cat' , 'dog' , 'mouse' )\n",
    "\n",
    "# zbiór - nawiasy klamrowe\n",
    "\n",
    "s = { 'apple' , 'banana' , 'plum' , 'orange' }\n",
    "\n",
    "# słownik - również nawiasy klamrowe (zwróć uwagę, że każdy element składa się z dwóch części rozdzielonych dwukropkiem)\n",
    "\n",
    "d = { 'John' : 26 , 'Mary' : 18 , 'Theresa' : 31 }"
   ]
  },
  {
   "cell_type": "markdown",
   "metadata": {},
   "source": [
    "Podkreślmy jeszcze raz, iż stringi - mimo odrębnej składni (cudzysłowy zamiast nawiasów; brak przecinków rozdzielających) - są także kolekcjami i wiele z popularnych operacji na kolekcjach można w ten sam sposób wykonywać na stringach."
   ]
  },
  {
   "cell_type": "markdown",
   "metadata": {},
   "source": [
    "#### <a id=\"1.1_b2\"></a>Typy"
   ]
  },
  {
   "cell_type": "markdown",
   "metadata": {},
   "source": [
    "Robiąc jeszcze jeden krok wstecz, przypomnijmy, że w Pythonie mamy najróżniejsze obiekty (\"objects\"), które możemy nazwać też **typami** (\"types\"). Mamy więc np. typ liczb całkowitych (\"integer\") `int`, typ liczb tzw. zmiennoprzecinkowych (\"floating-point\") `float`, typ \"tekstowy\", a więc tzw. stringi (\"string\") `str` itd. (Co więcej, każdy użytkownik może tworzyć swoje własne typy obiektów, np. obiekt \"samochód\" - który moglibyśmy nazwać `car` - ale to wybieganie za daleko w przyszłość!)\n",
    "\n",
    "Jak pamiętamy już z Lekcji 2, typ każdego obiektu w Pythonie możemy sprawdzić za pomocą wbudowanej funkcji `type`."
   ]
  },
  {
   "cell_type": "code",
   "execution_count": null,
   "metadata": {},
   "outputs": [],
   "source": [
    "type( 5577 ) # typ liczby całkowitej"
   ]
  },
  {
   "cell_type": "code",
   "execution_count": null,
   "metadata": {},
   "outputs": [],
   "source": [
    "type( 3.1415926 ) # typ liczby zmiennoprzecinkowej"
   ]
  },
  {
   "cell_type": "code",
   "execution_count": null,
   "metadata": {},
   "outputs": [],
   "source": [
    "type( 'I am hungry!' ) # typ stringu"
   ]
  },
  {
   "cell_type": "markdown",
   "metadata": {},
   "source": [
    "Przekonajmy się zatem sami, jak nazywają się typy zdefiniowanych właśnie obiektów czterech podstawowych kolekcji w Pythonie:"
   ]
  },
  {
   "cell_type": "code",
   "execution_count": null,
   "metadata": {},
   "outputs": [],
   "source": [
    "type( lst ) # lista"
   ]
  },
  {
   "cell_type": "code",
   "execution_count": null,
   "metadata": {},
   "outputs": [],
   "source": [
    "type( t ) # tupla"
   ]
  },
  {
   "cell_type": "code",
   "execution_count": null,
   "metadata": {},
   "outputs": [],
   "source": [
    "type( s ) # zbiór"
   ]
  },
  {
   "cell_type": "code",
   "execution_count": null,
   "metadata": {},
   "outputs": [],
   "source": [
    "type( d ) # słownik"
   ]
  },
  {
   "cell_type": "markdown",
   "metadata": {},
   "source": [
    "Przypomnijmy też, że czasem można dokonać **konwersji typu** (\"type conversion\"). Wydaje się bowiem bardzo naturalne, że np. mając liczbę powinniśmy móc zmienić ją na string będący po prostu tekstowym zapisem tej liczby - i rzeczywiście, dokonujemy tego funkcją `str` (a więc funkcją o tej samej nazwie, co typ, _na który_ konwertujemy):"
   ]
  },
  {
   "cell_type": "code",
   "execution_count": null,
   "metadata": {},
   "outputs": [],
   "source": [
    "str( 5577 )"
   ]
  },
  {
   "cell_type": "code",
   "execution_count": null,
   "metadata": {},
   "outputs": [],
   "source": [
    "str( 3.1415926 )"
   ]
  },
  {
   "cell_type": "markdown",
   "metadata": {},
   "source": [
    "Konwersja odwrotna dokonana jest funkcją `int` albo `float`, czyli znów, funkcją o nazwie takiej, co typ, na który konwertujemy:"
   ]
  },
  {
   "cell_type": "code",
   "execution_count": null,
   "metadata": {},
   "outputs": [],
   "source": [
    "int( '5577' )"
   ]
  },
  {
   "cell_type": "code",
   "execution_count": null,
   "metadata": {},
   "outputs": [],
   "source": [
    "float( '3.1415926' )"
   ]
  },
  {
   "cell_type": "markdown",
   "metadata": {},
   "source": [
    "Zamiast dokładnie wypisywać przypadki, kiedy można takiej konwersji dokonać, powiedzmy po prostu tyle - \"kiedy ma to sens\". Jest z góry jasne, że np. konwersja tekstu `'I am hungry!'` na `int`-a nie zadziała:"
   ]
  },
  {
   "cell_type": "code",
   "execution_count": null,
   "metadata": {},
   "outputs": [],
   "source": [
    "int( 'I am hungry!' )"
   ]
  },
  {
   "cell_type": "markdown",
   "metadata": {},
   "source": [
    "Wracając do typów kolekcji - tutaj też nierzadko można dokonać konwersji typu, \"jeśli ma to sens\". Typowym przykładem dla list jest konwersja stringu na listę - string to kolekcja pojedynczych znaków, a po konwersji będziemy mieć listę z tymi kolejnymi znakami. Konwersji tej dokonujemy oczywiście funkcją o nazwie `list` - a więc typu, na który konwertujemy:"
   ]
  },
  {
   "cell_type": "code",
   "execution_count": null,
   "metadata": {},
   "outputs": [],
   "source": [
    "list( 'I am hungry!' )"
   ]
  },
  {
   "cell_type": "markdown",
   "metadata": {},
   "source": [
    "O konwersjach powiązanych z typami `tuple`, `set`, `dict` powiemy w Lekcji 7-8."
   ]
  },
  {
   "cell_type": "markdown",
   "metadata": {},
   "source": [
    "#### <a id=\"1.3_b1\"></a>Cechy charakterystyczne kolekcji"
   ]
  },
  {
   "cell_type": "markdown",
   "metadata": {},
   "source": [
    "<img style = 'float: right; margin-left: 10px; margin-bottom: 10px' src = 'Images/lotto.png' width = '600px'>\n",
    "\n",
    "Podstawowe różnice między nimi biorą się z następujących własności:\n",
    "\n",
    "1. Czy kolekcja elementów jest **uporządkowana** (\"ordered\"), czy nie. Innymi słowy, czy kolejność elementów ma znaczenie, czy nie; jeszcze inaczej, czy można powiedzieć, który element jest pierwszy, drugi, ..., ostatni.\n",
    "\n",
    "  - Listy i tuple (a także stringi) są uporządkowane.\n",
    "  \n",
    "  - Zbiory i słowniki zaś nie są uporządkowane (nie ma pojęcia \"to jest pierwszy element\" itd., są jakby \"workiem\" na elementy).\n",
    "\n",
    "2. Czy po utworzeniu kolekcję można modyfikować - czy jest **mutowalna** (\"mutable\"), czy też nie (\"immutable\").\n",
    "\n",
    "  - Listy i słowniki można do woli modyfikować, zarówno skład ich elementów (np. dodawanie, usuwanie itd.), jak i wartości poszczególnych elementów.\n",
    "  \n",
    "  - Tupli (i stringów) nie można modyfikować w żaden sposób.\n",
    "  \n",
    "  - Zbiory są pomiędzy: można dodawać/usuwać elementy, ale nie można zmieniać wartości już istniejących elementów.\n",
    "\n",
    "| Typ | Nazwa | Uporządkowany? | Mutowalny? |\n",
    "| --- | --- | --- | --- |\n",
    "| <center>`str`</center> | <center>string</center> | <center>✅</center> | <center>❌</center> |\n",
    "| <center>`list`</center> | <center>lista</center> | <center>✅</center> | <center>✅</center> |\n",
    "| <center>`tuple`</center> | <center>tupla</center> | <center>✅</center> | <center>❌</center>\n",
    "| <center>`set`</center> | <center>zbiór</center> | <center>❌</center> | <center>✅</center> |\n",
    "| <center>`dict`</center> | <center>słownik</center> | <center>❌</center> | <center>✅</center> |"
   ]
  },
  {
   "cell_type": "markdown",
   "metadata": {},
   "source": [
    "Z pojęciem uporządkowania wiąże się pojęcie **indeksu** (\"index\").\n",
    "\n",
    "- W kolekcjach uporządkowanych - jak już wiemy, są to listy, tuple, stringi - kolejność elementów ma znaczenie, np. w liście `[10, 20, 30, 40]`, `10` jest elementem pierwszym, `20` drugim itp. Ta kolejność to właśnie indeks, z tym że w Pythonie **indeksujemy zawsze od zera, nie od jedynki!**, czyli `10` ma indeks 0, `20` ma indeks 1 itd. Podobnie w stringu `'Kraków'`, symbol `'K'` ma indeks 0, symbol `'r'` indeks 1 itd.\n",
    "\n",
    "- Zbiory są nieuporządkowane, więc nie ma pojęcia indeksu.\n",
    "\n",
    "- Słowniki także są nieuporządkowane, natomiast słownik _sam definiuje_ swój indeks, nazywany **kluczem** (\"key\"), który może być dowolnym obiektem, niekoniecznie ciągiem 0, 1, 2, ... W powyższym przykładzie słownika `{'John': 26, 'Mary': 18, 'Theresa': 31}`, elementami są liczby `26`, `18`, `31`, a są one indeksowane stringami: `'John'`, `'Mary'`, `'Theresa'`. Nie możemy więc powiedzieć, że element `26` jest \"pierwszy\", nie możemy \"dostać się do niego\" poprzez indeks 0 - możemy natomiast \"dostać się do niego\" poprzez klucz `'John'`."
   ]
  },
  {
   "cell_type": "markdown",
   "metadata": {},
   "source": [
    "Z pojęciem uporządkowania wiąże się też kwestia **duplikatów** (\"duplicates\").\n",
    "\n",
    "- W kolekcjach uporządkowanych (listy, tuple, stringi) możemy mieć kilka identycznych elementów. Mamy przecież indeks, który nam precyzyjnie je rozróżnia; np. w liście `['cat', 'cat', 'dog', 'cat']`, mamy pierwszego (indeks 0), drugiego (indeks 1) i czwartego (indeks 3) kota.\n",
    "\n",
    "- W kolekcjach nieuporządkowanych (słowniki i zbiory) nie może być duplikatów."
   ]
  },
  {
   "cell_type": "markdown",
   "metadata": {},
   "source": [
    "### <a id=\"1.2\"></a>1.2. Tworzenie list"
   ]
  },
  {
   "cell_type": "markdown",
   "metadata": {},
   "source": [
    "W tej lekcji zajmiemy się wyłącznie listami. Już wiemy, że lista to kolekcja elementów, która:\n",
    "\n",
    "- jest uporządkowana - a więc można stwierdzić \"ten element jest pierwszy\" (tj. ma indeks 0), \"ten jest drugi\" (tj. ma indeks 1) itd.;\n",
    "\n",
    "- jest mutowalna (modyfikowalna) - można do woli zmieniać jej kompozycję (np. dodawać/usuwać elementy), czy też modyfikować istniejące elementy."
   ]
  },
  {
   "cell_type": "markdown",
   "metadata": {},
   "source": [
    "Widzieliśmy też, że listę definiuje się poprzez umieszczenie kolekcji elementów między nawiasami kwadratowymi. Do listy możemy \"wrzucić\" zupełnie dowolny element, co więcej, poszczególne elementy nie muszą być tego samego typu."
   ]
  },
  {
   "cell_type": "code",
   "execution_count": null,
   "metadata": {},
   "outputs": [],
   "source": [
    "lst_1 = [ 18 , 5 , 26 , -11 , 0 , -4 ] # lista liczb całkowitych\n",
    "\n",
    "lst_2 = [ 'USD' , 'EUR' , 'PLN' , 'MYR' ] # lista stringów\n",
    "\n",
    "lst_3 = [ 3.67 , 'coffee' , [ 8 , 5 , -1 ] ] # lista mieszana: elementy mają różne typy"
   ]
  },
  {
   "cell_type": "markdown",
   "metadata": {},
   "source": [
    "W ostatnim przykładzie widzimy, że elementami listy mogą także być inne listy - oczywiście, skoro dowolny obiekt może być elementem listy. Taką listę nazywamy **zagnieżdżoną** (\"nested\") wewnątrz innej listy. W szczególności, tu dygresja, możemy modelować w ten sposób matematyczny obiekt **macierzy** (\"matrix\")."
   ]
  },
  {
   "cell_type": "code",
   "execution_count": null,
   "metadata": {},
   "outputs": [],
   "source": [
    "my_matrix = [ [ 1 , 2 , 3 ] , [ 4 , 5 , 6 ] , [ 7 , 8 , 9 ] , [ 10 , 11 , 12 ] ] # macierz 4 x 3"
   ]
  },
  {
   "cell_type": "markdown",
   "metadata": {},
   "source": [
    "Możemy utworzyć też **pustą listę** (\"empty list\"). Wyobrazić możemy sobie to jako \"pusty pojemnik\", do którego będziemy \"wrzucać\" kolejne elementy (w kolejności!)."
   ]
  },
  {
   "cell_type": "code",
   "execution_count": null,
   "metadata": {},
   "outputs": [],
   "source": [
    "lst_4 = []"
   ]
  },
  {
   "cell_type": "markdown",
   "metadata": {},
   "source": [
    "<img style = 'float: left; margin-right: 10px; margin-bottom: 10px' src = 'Images/question.png'> Szybkie ćwiczenie 1: Utwórz i przypisz do zmiennej listę złożoną z powyżej zdefiniowanych list `lst_1`, `lst_2`, `lst_3`, `lst_4`, a następnie wydrukuj jej zawartość."
   ]
  },
  {
   "cell_type": "code",
   "execution_count": null,
   "metadata": {},
   "outputs": [],
   "source": [
    "# szybkie ćwiczenie 1 - rozwiązanie\n",
    "\n"
   ]
  },
  {
   "cell_type": "markdown",
   "metadata": {},
   "source": [
    "### <a id=\"1.3\"></a>1.3. Iterowanie pętlą `for` przez listę - wprowadzenie"
   ]
  },
  {
   "cell_type": "markdown",
   "metadata": {},
   "source": [
    "Lekcję 4 poświęciliśmy pętlom `for` i `while`. W szczególności, pętla `for` opisuje iterację określoną, tj. przejście krok po kroku, element po elemencie, przez zadaną kolekcję. Teraz przypomnijmy tylko krótko, jak to robimy - zostawiając różne rozszerzenia do sekcji <a href=\"#5\">Iterowanie przez listę</a> poniżej.\n",
    "\n",
    "Np. ta pętla `for` iteruje się przez listę `lst_2` i drukuje każdy kolejny element; iterator nazwaliśmy tu `currency`:"
   ]
  },
  {
   "cell_type": "code",
   "execution_count": null,
   "metadata": {},
   "outputs": [],
   "source": [
    "lst_2"
   ]
  },
  {
   "cell_type": "code",
   "execution_count": null,
   "metadata": {},
   "outputs": [],
   "source": [
    "for currency in lst_2: # zmienna currency przyjmuje wartości kolejnych elementów listy lst_2, od początku do końca\n",
    "    print( currency ) # drukuj wartość zmiennej currency"
   ]
  },
  {
   "cell_type": "markdown",
   "metadata": {},
   "source": [
    "<img style = 'float: left; margin-right: 10px; margin-bottom: 10px' src = 'Images/question.png'> Szybkie ćwiczenie 2:\n",
    "\n",
    "(a) Napisz pętlę `for`, którą przeiterujesz się przez listę `lst_1`. W każdym kroku dodaj instrukcję warunkową sprawdzającą, czy aktualny element jest większy od zera; jeśli tak, wydrukuj go.\n",
    "\n",
    "(b) Napisz pętlę `for`, którą przeiterujesz się przez listę `lst_3`. W każdym kroku dodaj instrukcję warunkową sprawdzającą, czy aktualny element jest typu string; jeśli tak, wydrukuj go."
   ]
  },
  {
   "cell_type": "code",
   "execution_count": null,
   "metadata": {},
   "outputs": [],
   "source": [
    "# szybkie ćwiczenie 2a - rozwiązanie\n",
    "\n"
   ]
  },
  {
   "cell_type": "code",
   "execution_count": null,
   "metadata": {},
   "outputs": [],
   "source": [
    "# szybkie ćwiczenie 2b - rozwiązanie\n",
    "\n"
   ]
  },
  {
   "cell_type": "markdown",
   "metadata": {},
   "source": [
    "### <a id=\"1.4\"></a>1.4. Operator `in`"
   ]
  },
  {
   "cell_type": "markdown",
   "metadata": {},
   "source": [
    "Przypomnijmy sobie parę list, które zdefiniowaliśmy powyżej:"
   ]
  },
  {
   "cell_type": "code",
   "execution_count": null,
   "metadata": {},
   "outputs": [],
   "source": [
    "lst_2"
   ]
  },
  {
   "cell_type": "code",
   "execution_count": null,
   "metadata": {},
   "outputs": [],
   "source": [
    "lst_3"
   ]
  },
  {
   "cell_type": "markdown",
   "metadata": {},
   "source": [
    "Aby łatwo otrzymać odpowiedź na pytanie, czy dany obiekt jest elementem naszej listy, używamy operatora `in`:"
   ]
  },
  {
   "cell_type": "code",
   "execution_count": null,
   "metadata": {},
   "outputs": [],
   "source": [
    "'CAD' in lst_2"
   ]
  },
  {
   "cell_type": "code",
   "execution_count": null,
   "metadata": {},
   "outputs": [],
   "source": [
    "3.67 in lst_3"
   ]
  },
  {
   "cell_type": "markdown",
   "metadata": {},
   "source": [
    "Ale zwróć uwagę, że:"
   ]
  },
  {
   "cell_type": "code",
   "execution_count": null,
   "metadata": {},
   "outputs": [],
   "source": [
    "8 in lst_3"
   ]
  },
  {
   "cell_type": "markdown",
   "metadata": {},
   "source": [
    "... gdyż 8 nie jest elementem listy `lst_3`; 8 jest natomiast elementem listy, która sama jest elementem listy `lst_3`."
   ]
  },
  {
   "cell_type": "markdown",
   "metadata": {},
   "source": [
    "Jest to kolejny przykład konstrukcji zdania logicznego, z którym się spotykamy (przypomnijmy sobie wyrażenia typu `2 < 5` z poprzednich lekcji). Całe takie wyrażenie logiczne jest odrębnym \"bytem\" - obiektem typu Boolean, `bool`. Możemy to rzecz jasna sprawdzić funkcją `type`:"
   ]
  },
  {
   "cell_type": "code",
   "execution_count": null,
   "metadata": {},
   "outputs": [],
   "source": [
    "type( 2 < 5 )"
   ]
  },
  {
   "cell_type": "code",
   "execution_count": null,
   "metadata": {},
   "outputs": [],
   "source": [
    "type( 8 in lst_3 )"
   ]
  },
  {
   "cell_type": "markdown",
   "metadata": {},
   "source": [
    "Możemy te obiekty oczywiście dowolnie przypisywać do zmiennych, np.:"
   ]
  },
  {
   "cell_type": "code",
   "execution_count": null,
   "metadata": {},
   "outputs": [],
   "source": [
    "cad_check = 'CAD' in lst_2 # lub też bez nawiasów!\n",
    "\n",
    "cad_check"
   ]
  },
  {
   "cell_type": "markdown",
   "metadata": {},
   "source": [
    "Mamy też do dyspozycji operatory logiczne, jak poznane przez nas `and` (\"i\"), `or` (\"lub\"), `not` (zaprzeczenie), za pomocą których możemy tworzyć złożone warunki logiczne, np.:"
   ]
  },
  {
   "cell_type": "code",
   "execution_count": null,
   "metadata": {},
   "outputs": [],
   "source": [
    "( 'USD' in lst_2 ) and ( 'CAD' in lst_2 ) # pierwszy nawias ma wartość True, a drugi False"
   ]
  },
  {
   "cell_type": "code",
   "execution_count": null,
   "metadata": {},
   "outputs": [],
   "source": [
    "( 'USD' in lst_2 ) or ( 'CAD' in lst_2 )"
   ]
  },
  {
   "cell_type": "code",
   "execution_count": null,
   "metadata": {},
   "outputs": [],
   "source": [
    "not ( 'CAD' in lst_2 )"
   ]
  },
  {
   "cell_type": "markdown",
   "metadata": {},
   "source": [
    "... gdzie tę ostatnią operację możemy zapisać także krócej - przy użyciu nowego operatora `not in` - jako:"
   ]
  },
  {
   "cell_type": "code",
   "execution_count": null,
   "metadata": {},
   "outputs": [],
   "source": [
    "'CAD' not in lst_2"
   ]
  },
  {
   "cell_type": "markdown",
   "metadata": {},
   "source": [
    "(Jak zwykle, wiele z tych nawiasów można pominąć...)"
   ]
  },
  {
   "cell_type": "markdown",
   "metadata": {},
   "source": [
    "<img style = 'float: left; margin-right: 10px; margin-bottom: 10px' src = 'Images/question.png'> Szybkie ćwiczenie 3:\n",
    "\n",
    "(a) Sprawdź, czy pusta lista jest elementem powyżej utworzonej listy złożonej z list `lst_1`, `lst_2`, `lst_3`, `lst_4`.\n",
    "\n",
    "(b) Sprawdź, czy dwu-elementowa lista złożona ze stringów `'USD'` i `'EUR'` jest elementem listy `lst_2`.\n",
    "\n",
    "(c) Jak wspominaliśmy, stringi można traktować także jako pewną kolekcję, tj. kolekcję pojedynczych znaków. Napisz wyrażenie, które sprawdza, czy string `'ham'` jest elementem stringu `'Chatham'`."
   ]
  },
  {
   "cell_type": "code",
   "execution_count": null,
   "metadata": {},
   "outputs": [],
   "source": [
    "# szybkie ćwiczenie 3a - rozwiązanie\n",
    "\n"
   ]
  },
  {
   "cell_type": "code",
   "execution_count": null,
   "metadata": {},
   "outputs": [],
   "source": [
    "# szybkie ćwiczenie 3b - rozwiązanie\n",
    "\n"
   ]
  },
  {
   "cell_type": "code",
   "execution_count": null,
   "metadata": {},
   "outputs": [],
   "source": [
    "# szybkie ćwiczenie 3c - rozwiązanie\n",
    "\n"
   ]
  },
  {
   "cell_type": "markdown",
   "metadata": {},
   "source": [
    "<img style = 'float: left; margin-right: 10px; margin-bottom: 10px' src = 'Images/question.png'> Szybkie ćwiczenie 4: Powyżej zdefiniowaliśmy listę list `my_matrix`. Napisz pętlę `for` iterującą się przez tę listę tak, aby wydrukować tylko te jej elementy (tj. tylko te jej pod-listy), które zawierają liczby 4 lub 8."
   ]
  },
  {
   "cell_type": "code",
   "execution_count": null,
   "metadata": {},
   "outputs": [],
   "source": [
    "# szybkie ćwiczenie 4 - rozwiązanie\n",
    "\n"
   ]
  },
  {
   "cell_type": "markdown",
   "metadata": {},
   "source": [
    "## <a id=\"2\"></a>2. Listy są uporządkowane - indeks"
   ]
  },
  {
   "cell_type": "markdown",
   "metadata": {},
   "source": [
    "Od początku wspominaliśmy o dwóch definicyjnych własnościach list, tj. iż:\n",
    "\n",
    "- listy są uporządkowane - mamy element nr 0, element nr 1 itd.;\n",
    "\n",
    "- listy są mutowalne - można je do woli modyfikować.\n",
    "\n",
    "W tym rozdziale zajmiemy się pierwszą z tych własności, a w szczególności pytaniem, jak używać **indeksu**, aby otrzymać dostęp do elementów listy. Innymi słowy, będziemy pytać np. \"jaki jest piąty element naszej listy?\", lub też \"jakie są elementy między siódmym a dziesiątym?\""
   ]
  },
  {
   "cell_type": "markdown",
   "metadata": {},
   "source": [
    "Popracujemy na takiej przykładowej liście:"
   ]
  },
  {
   "cell_type": "code",
   "execution_count": null,
   "metadata": {},
   "outputs": [],
   "source": [
    "nato_code = [\n",
    "    'Alfa' ,\n",
    "    'Bravo' ,\n",
    "    'Charlie' ,\n",
    "    'Delta' ,\n",
    "    'Echo' ,\n",
    "    'Foxtrot' ,\n",
    "    'Golf' ,\n",
    "    'Hotel' ,\n",
    "    'India' ,\n",
    "    'Juliett' ,\n",
    "    'Kilo' ,\n",
    "    'Lima' ,\n",
    "    'Mike' ,\n",
    "    'November' ,\n",
    "    'Oscar' ,\n",
    "    'Papa' ,\n",
    "    'Quebec' ,\n",
    "    'Romeo' ,\n",
    "    'Sierra' ,\n",
    "    'Tango' ,\n",
    "    'Uniform' ,\n",
    "    'Victor' ,\n",
    "    'Whiskey' ,\n",
    "    'X-ray' ,\n",
    "    'Yankee' ,\n",
    "    'Zulu'\n",
    "]"
   ]
  },
  {
   "cell_type": "markdown",
   "metadata": {},
   "source": [
    "### <a id=\"2.1\"></a>2.1. Dostęp do pojedynczych elementów listy"
   ]
  },
  {
   "cell_type": "markdown",
   "metadata": {},
   "source": [
    "Aby uzyskać dostęp do elementów listy poprzez ich indeks, używamy **operatora nawiasów kwadratowych** (\"bracket operator\"), wewnątrz którego umieszczamy interesujący nas indeks.\n",
    "\n",
    "Uwaga: Nie pomylmy tych tutaj nawiasów kwadratowych, wewnątrz których znajduje się indeks, z nawiasami, wewnątrz których umieszczamy elementy by utworzyć listę - to dwa zupełnie różne pojęcia.\n",
    "\n",
    "Warto podkreślić to jeszcze raz: **w Pythonie indeks zawsze zaczyna się od zera, nie od jedynki!**"
   ]
  },
  {
   "cell_type": "markdown",
   "metadata": {},
   "source": [
    "Mamy zatem pierwszy element:"
   ]
  },
  {
   "cell_type": "code",
   "execution_count": null,
   "metadata": {},
   "outputs": [],
   "source": [
    "nato_code[ 0 ] # pierwszy element ma indeks 0"
   ]
  },
  {
   "cell_type": "markdown",
   "metadata": {},
   "source": [
    "![](Images/Segments/segment_1.png)"
   ]
  },
  {
   "cell_type": "markdown",
   "metadata": {},
   "source": [
    "... drugi element:"
   ]
  },
  {
   "cell_type": "code",
   "execution_count": null,
   "metadata": {},
   "outputs": [],
   "source": [
    "nato_code[ 1 ] # drugi element ma indeks 1"
   ]
  },
  {
   "cell_type": "markdown",
   "metadata": {},
   "source": [
    "![](Images/Segments/segment_2.png)"
   ]
  },
  {
   "cell_type": "markdown",
   "metadata": {},
   "source": [
    "... itd."
   ]
  },
  {
   "cell_type": "markdown",
   "metadata": {},
   "source": [
    "Gdybyśmy spróbowali otrzymać dostęp do elementu o nieistniejącym indeksie, otrzymamy zamiast tego błąd, tzw. `IndexError`."
   ]
  },
  {
   "cell_type": "code",
   "execution_count": null,
   "metadata": {},
   "outputs": [],
   "source": [
    "nato_code[ 26 ] # ta lista ma tylko 26 elementów, a więc jej ostatni indeks to 25 (indeksujemy od 0!)"
   ]
  },
  {
   "cell_type": "markdown",
   "metadata": {},
   "source": [
    "Inny przykład: Wiemy już, że elementami list mogą być całkowicie dowolne obiekty, np. inne listy, stringi itd. Przykładem takiej listy powyżej była `lst_3`:"
   ]
  },
  {
   "cell_type": "code",
   "execution_count": null,
   "metadata": {},
   "outputs": [],
   "source": [
    "lst_3"
   ]
  },
  {
   "cell_type": "markdown",
   "metadata": {},
   "source": [
    "... i mamy np.:"
   ]
  },
  {
   "cell_type": "code",
   "execution_count": null,
   "metadata": {},
   "outputs": [],
   "source": [
    "lst_3[ 2 ] # trzecim elementem listy lst_3 jest lista [8, 5, -1]"
   ]
  },
  {
   "cell_type": "markdown",
   "metadata": {},
   "source": [
    "<img style = 'float: left; margin-right: 10px; margin-bottom: 10px' src = 'Images/question.png'> Szybkie ćwiczenie 5: Wróćmy jeszcze raz do listy list `my_matrix`.\n",
    "\n",
    "(a) Jak dostać się poprzez indeks do wartości 8?\n",
    "\n",
    "(b) Napisz pętlę `for` iterującą przez listę `my_matrix` i w każdym kroku drukującą pierwszy element listy będącej aktualnym elementem listy `my_matrix`."
   ]
  },
  {
   "cell_type": "code",
   "execution_count": null,
   "metadata": {},
   "outputs": [],
   "source": [
    "my_matrix"
   ]
  },
  {
   "cell_type": "code",
   "execution_count": null,
   "metadata": {},
   "outputs": [],
   "source": [
    "# szybkie ćwiczenie 5a - rozwiązanie\n",
    "\n"
   ]
  },
  {
   "cell_type": "code",
   "execution_count": null,
   "metadata": {},
   "outputs": [],
   "source": [
    "# szybkie ćwiczenie 5b - rozwiązanie\n",
    "\n"
   ]
  },
  {
   "cell_type": "markdown",
   "metadata": {},
   "source": [
    "<img style = 'float: left; margin-right: 10px; margin-bottom: 10px' src = 'Images/question.png'> Szybkie ćwiczenie 6: W Lekcji 4 ćwiczyliśmy pętlę `for` m.in. na liście stringów `purse = ['keys', 'lipstick', 'sandwich', 'smartphone']`. Drukowaliśmy np. tylko elementy zaczynające się na literę `'s'`, do czego używaliśmy wbudowanej metody stringów `startswith`. Jak zrobić to samo za pomocą indeksów?"
   ]
  },
  {
   "cell_type": "code",
   "execution_count": null,
   "metadata": {},
   "outputs": [],
   "source": [
    "# szybkie ćwiczenie 6 - rozwiązanie\n",
    "\n"
   ]
  },
  {
   "cell_type": "markdown",
   "metadata": {},
   "source": [
    "<img style = 'float: left; margin-right: 10px; margin-bottom: 10px' src = 'Images/question.png'> Szybkie ćwiczenie 7: Powyższa Lista `nato_code` ma za elementy stringi, o których dobrze już wiemy, że same są kolekcjami - i równie dobrze można do nich stosować indeksowanie. Napisz pętlę `for` iterującą się przez listę `nato_code` i drukującą tylko pierwszą literę każdego stringa."
   ]
  },
  {
   "cell_type": "code",
   "execution_count": null,
   "metadata": {},
   "outputs": [],
   "source": [
    "# szybkie ćwiczenie 7 - rozwiązanie\n",
    "\n"
   ]
  },
  {
   "cell_type": "markdown",
   "metadata": {},
   "source": [
    "### <a id=\"2.2\"></a>2.2. Segmenty indeksów"
   ]
  },
  {
   "cell_type": "markdown",
   "metadata": {},
   "source": [
    "Wewnątrz operatora nawiasów kwadratowych możemy umieścić nie tylko pojedynczy indeks - możemy szerzej opisać cały _zakres_ indeksów, który nas interesuje, używając składni tzw. **segmentów** (\"slices\")."
   ]
  },
  {
   "cell_type": "markdown",
   "metadata": {},
   "source": [
    "#### <a id=\"2.2_b1\"></a>Od (...) do (...)"
   ]
  },
  {
   "cell_type": "markdown",
   "metadata": {},
   "source": [
    "Podstawowa składnia odpowiada na zadanie \"weź indeksy od... do...\" i wygląda tak:\n",
    "\n",
    "`start_index : end_index`\n",
    "\n",
    "co oznacza, iż bierzemy wszystkie indeksy poczynając od `start_index`, a kończąc na `end_index` - przy czym mamy tu istotną konwencję, o której należy pamiętać: kończymy na indeksie _poprzedzającym_ `end_index`, a więc `start_index` owszem zalicza się do wybranych indeksów, lecz `end_index` już nie!\n",
    "\n",
    "Np. `3:8` oznacza wybranie indeksów 3, 4, 5, 6, 7 (ale już nie 8!)."
   ]
  },
  {
   "cell_type": "code",
   "execution_count": null,
   "metadata": {},
   "outputs": [],
   "source": [
    "nato_code[ 3:8 ]"
   ]
  },
  {
   "cell_type": "markdown",
   "metadata": {},
   "source": [
    "![](Images/Segments/segment_3.png)"
   ]
  },
  {
   "cell_type": "markdown",
   "metadata": {},
   "source": [
    "#### <a id=\"2.2_b2\"></a>Od początku do (...); od (...) do końca"
   ]
  },
  {
   "cell_type": "markdown",
   "metadata": {},
   "source": [
    "Jeśli jedną z granic naszego segmentu jest albo początek listy (tj. indeks 0), albo koniec listy (tj. ostatni indeks), możemy go w tej składni _pominąć_."
   ]
  },
  {
   "cell_type": "code",
   "execution_count": null,
   "metadata": {},
   "outputs": [],
   "source": [
    "nato_code[ :8 ] # segment od początku listy do indeksu 7, równoważne do nato_code[ 0:8 ]"
   ]
  },
  {
   "cell_type": "markdown",
   "metadata": {},
   "source": [
    "![](Images/Segments/segment_4.png)"
   ]
  },
  {
   "cell_type": "code",
   "execution_count": null,
   "metadata": {},
   "outputs": [],
   "source": [
    "nato_code[ 15: ] # segment od indeksu 15 do końca listy (nie musimy wiedzieć, ile elementów ma lista!)"
   ]
  },
  {
   "cell_type": "markdown",
   "metadata": {},
   "source": [
    "![](Images/Segments/segment_5.png)"
   ]
  },
  {
   "cell_type": "markdown",
   "metadata": {},
   "source": [
    "Możemy chcieć też pominąć _obie_ granice! Wtedy bierzemy segment od początku listy do jej końca... a więc całą listę!"
   ]
  },
  {
   "cell_type": "code",
   "execution_count": null,
   "metadata": {},
   "outputs": [],
   "source": [
    "nato_code[ : ]"
   ]
  },
  {
   "cell_type": "code",
   "execution_count": null,
   "metadata": {},
   "outputs": [],
   "source": [
    "nato_code[ : ] == nato_code"
   ]
  },
  {
   "cell_type": "markdown",
   "metadata": {},
   "source": [
    "Operacja ta może służyć do tworzenia kopii listy, o czym powiemy więcej w sekcji <a href=\"#3.2\">(*) Mutowalność, aliasy, kopie</a>."
   ]
  },
  {
   "cell_type": "markdown",
   "metadata": {},
   "source": [
    "<img style = 'float: left; margin-right: 10px; margin-bottom: 10px' src = 'Images/question.png'> Szybkie ćwiczenie 8: Przeiteruj się przez elementy od jedenastego do trzynastego listy `nato_code`, drukując jej stringi od drugiej litery do końca."
   ]
  },
  {
   "cell_type": "code",
   "execution_count": null,
   "metadata": {},
   "outputs": [],
   "source": [
    "# szybkie ćwiczenie 8 - rozwiązanie\n",
    "\n"
   ]
  },
  {
   "cell_type": "markdown",
   "metadata": {},
   "source": [
    "#### <a id=\"2.2_b3\"></a>Ujemne indeksy"
   ]
  },
  {
   "cell_type": "markdown",
   "metadata": {},
   "source": [
    "Wiemy już, że indeksy w Pythonie liczymy od 0, 1, 2, ... Natomiast bardzo wygodną składnią są **ujemne indeksy**, które oznaczają po prostu, że liczymy je _od końca listy wstecz_. Ostatni element listy ma w tej konwencji indeks -1, przedostatni -2 itd."
   ]
  },
  {
   "cell_type": "markdown",
   "metadata": {},
   "source": [
    "Pojedynczy element uzyskujemy jak zawsze:"
   ]
  },
  {
   "cell_type": "code",
   "execution_count": null,
   "metadata": {},
   "outputs": [],
   "source": [
    "nato_code[ -1 ] # ostatni element"
   ]
  },
  {
   "cell_type": "markdown",
   "metadata": {},
   "source": [
    "![](Images/Segments/segment_6.png)"
   ]
  },
  {
   "cell_type": "markdown",
   "metadata": {},
   "source": [
    "Identycznie działają też segmenty - gdzie cały czas musimy pamiętać, że `start_index` zalicza się do segmentu, zaś `end_index` się nie zalicza:"
   ]
  },
  {
   "cell_type": "code",
   "execution_count": null,
   "metadata": {},
   "outputs": [],
   "source": [
    "nato_code[ -4:-1 ] # elementy od czwartego od końca do przedostatniego; ostatni (indeks -1) się nie zalicza!"
   ]
  },
  {
   "cell_type": "markdown",
   "metadata": {},
   "source": [
    "![](Images/Segments/segment_7.png)"
   ]
  },
  {
   "cell_type": "code",
   "execution_count": null,
   "metadata": {},
   "outputs": [],
   "source": [
    "nato_code[ :-10 ] # elementy od początku listy do jedenastego od końca włącznie"
   ]
  },
  {
   "cell_type": "markdown",
   "metadata": {},
   "source": [
    "![](Images/Segments/segment_8.png)"
   ]
  },
  {
   "cell_type": "code",
   "execution_count": null,
   "metadata": {},
   "outputs": [],
   "source": [
    "nato_code[ -10: ] # ostatnie dziesięć elementów listy"
   ]
  },
  {
   "cell_type": "markdown",
   "metadata": {},
   "source": [
    "![](Images/Segments/segment_9.png)"
   ]
  },
  {
   "cell_type": "markdown",
   "metadata": {},
   "source": [
    "<img style = 'float: left; margin-right: 10px; margin-bottom: 10px' src = 'Images/question.png'> Szybkie ćwiczenie 9: Przeiteruj się przez ostatnie pięć elementów listy `nato_code`, drukując jej stringi od drugiej litery do przedostatniej litery, włącznie."
   ]
  },
  {
   "cell_type": "code",
   "execution_count": null,
   "metadata": {},
   "outputs": [],
   "source": [
    "# szybkie ćwiczenie 9 - rozwiązanie\n",
    "\n"
   ]
  },
  {
   "cell_type": "markdown",
   "metadata": {},
   "source": [
    "#### <a id=\"2.2_b4\"></a>Krok"
   ]
  },
  {
   "cell_type": "markdown",
   "metadata": {},
   "source": [
    "Składnię segmentów możemy jeszcze rozszerzyć o **krok** (\"step\"):\n",
    "\n",
    "`start_index : end_index : step`"
   ]
  },
  {
   "cell_type": "markdown",
   "metadata": {},
   "source": [
    "Czyli możemy np. wybrać elementy od trzeciego do siedemnastego, idąc co trzeci element:"
   ]
  },
  {
   "cell_type": "code",
   "execution_count": null,
   "metadata": {},
   "outputs": [],
   "source": [
    "nato_code[ 2:17:3 ] # segment od indeksu 2 do indeksu 16 włącznie (ale nie 17!), w krokach co 3"
   ]
  },
  {
   "cell_type": "markdown",
   "metadata": {},
   "source": [
    "![](Images/Segments/segment_10.png)"
   ]
  },
  {
   "cell_type": "markdown",
   "metadata": {},
   "source": [
    "Oczywiście możemy łączyć to z całą paletą zachowań opisanych powyżej (omijanie wpisu, ujemny krok)!"
   ]
  },
  {
   "cell_type": "markdown",
   "metadata": {},
   "source": [
    "<img style = 'float: left; margin-right: 10px; margin-bottom: 10px' src = 'Images/question.png'> Szybkie ćwiczenie 10: Z powyższej listy `nato_code` wybierz:\n",
    "\n",
    "(a) segment od początku listy do dziesiątego elementu włącznie, w krokach co 3;\n",
    "\n",
    "(b) segment od trzeciego elementu do końca listy, w krokach co 3;\n",
    "\n",
    "(c) cała lista w krokach co 3;\n",
    "\n",
    "(d) segment od trzeciego elementu do elementu trzeciego od końca włącznie, w krokach co 3."
   ]
  },
  {
   "cell_type": "code",
   "execution_count": null,
   "metadata": {},
   "outputs": [],
   "source": [
    "# szybkie ćwiczenie 10a - rozwiązanie\n",
    "\n"
   ]
  },
  {
   "cell_type": "code",
   "execution_count": null,
   "metadata": {},
   "outputs": [],
   "source": [
    "# szybkie ćwiczenie 10b - rozwiązanie\n",
    "\n"
   ]
  },
  {
   "cell_type": "code",
   "execution_count": null,
   "metadata": {},
   "outputs": [],
   "source": [
    "# szybkie ćwiczenie 10c - rozwiązanie\n",
    "\n"
   ]
  },
  {
   "cell_type": "code",
   "execution_count": null,
   "metadata": {},
   "outputs": [],
   "source": [
    "# szybkie ćwiczenie 10d - rozwiązanie\n",
    "\n"
   ]
  },
  {
   "cell_type": "markdown",
   "metadata": {},
   "source": [
    "Na pewno wymaga to trochę praktyki, aby tak napisać składnię segmentu, by dostać dokładnie te indeksy, które się chce!"
   ]
  },
  {
   "cell_type": "markdown",
   "metadata": {},
   "source": [
    "#### <a id=\"2.2_b5\"></a>Ujemny krok"
   ]
  },
  {
   "cell_type": "markdown",
   "metadata": {},
   "source": [
    "Ostatnia modyfikacja składni segmentów polega na dopuszczeniu **ujemnego kroku**. Na pewno zgadniesz, co to oznacza - krok w tył listy! Pamiętać tutaj tylko trzeba o towarzyszącej temu zmianie w całej składni - teraz początek i koniec segmentu piszemy w odwrotnej kolejności!\n",
    "\n",
    "`end_index : start_index : (-step)`\n",
    "\n",
    "gdzie trzeba także pamiętać o tym, która granica leży w segmencie, a która nie: tym razem `end_index` jest obecny w segmencie (bo od tego indeksu zaczynamy), a `start_index` nie."
   ]
  },
  {
   "cell_type": "code",
   "execution_count": null,
   "metadata": {},
   "outputs": [],
   "source": [
    "nato_code[ 10:1:-3 ] # segment od indeksu 10 włącznie do indeksu 2 (nie 1!), w krokach co 3 do tyłu"
   ]
  },
  {
   "cell_type": "markdown",
   "metadata": {},
   "source": [
    "![](Images/Segments/segment_11.png)"
   ]
  },
  {
   "cell_type": "markdown",
   "metadata": {},
   "source": [
    "Idąc w tył często wygodniej użyć także ujemnych indeksów (choć oczywiście nie jest to wymagane) - idąc od tyłu po prostu łatwiej numerować elementy także od tyłu:"
   ]
  },
  {
   "cell_type": "code",
   "execution_count": null,
   "metadata": {},
   "outputs": [],
   "source": [
    "nato_code[ -2:-7:-2 ] # segment od elementu przedostatniego włącznie do szóstego od końca włącznie, w krokach co 2 do tyłu"
   ]
  },
  {
   "cell_type": "markdown",
   "metadata": {},
   "source": [
    "![](Images/Segments/segment_12.png)"
   ]
  },
  {
   "cell_type": "code",
   "execution_count": null,
   "metadata": {},
   "outputs": [],
   "source": [
    "nato_code[ -2::-4 ] # segment od elementu przedostatniego włącznie do początku listy, w krokach co 4 do tyłu"
   ]
  },
  {
   "cell_type": "markdown",
   "metadata": {},
   "source": [
    "![](Images/Segments/segment_13.png)"
   ]
  },
  {
   "cell_type": "code",
   "execution_count": null,
   "metadata": {},
   "outputs": [],
   "source": [
    "nato_code[ :-10:-4 ] # segment od końca listy do elementu dziewiątego od końca, w krokach co 4 do tyłu"
   ]
  },
  {
   "cell_type": "markdown",
   "metadata": {},
   "source": [
    "![](Images/Segments/segment_14.png)"
   ]
  },
  {
   "cell_type": "markdown",
   "metadata": {},
   "source": [
    "#### <a id=\"2.2_b6\"></a>Elegancki przykład: odwracanie listy"
   ]
  },
  {
   "cell_type": "markdown",
   "metadata": {},
   "source": [
    "<img style = 'float: left; margin-right: 10px; margin-bottom: 10px' src = 'Images/question.png'> Szybkie ćwiczenie 11: Czy wiesz, jak używając tej składni _odwrócić_ kolejność elementów w liście? Tj. zmienić np. `[1, 2, 3]` na `[3, 2, 1]` itp.\n",
    "\n",
    "Rozwiązanie jest poniżej, ale spróbuj najpierw samodzielnie pomyśleć!"
   ]
  },
  {
   "cell_type": "code",
   "execution_count": null,
   "metadata": {},
   "outputs": [],
   "source": [
    "# szybkie ćwiczenie 11 - rozwiązanie\n",
    "\n"
   ]
  },
  {
   "cell_type": "markdown",
   "metadata": {},
   "source": [
    "Rozwiązanie jest następujące: Co to znaczy odwrócić listę? To znaczy przejść przez nią całą, ale od końca do początku (czyli wspak, czyli w krokach co -1). Skoro przechodzimy całą listę, możemy pominąć `start_index` i `end_index`; za krok musimy ponadto wybrać -1."
   ]
  },
  {
   "cell_type": "code",
   "execution_count": null,
   "metadata": {},
   "outputs": [],
   "source": [
    "nato_code[ ::-1 ] # odwrócenie listy!"
   ]
  },
  {
   "cell_type": "markdown",
   "metadata": {},
   "source": [
    "Jest to niezwykle eleganckie rozwiązanie!\n",
    "\n",
    "Jest to dobry moment na następującą dygresję: Cały Python jest językiem, który nie tylko umożliwia, ale wręcz aż prosi się o pisanie w nim elegancko i zwięźle - takie eleganckie rozwiązania uważa się za zgodne z \"duchem Pythona\" (**\"Pythonic\"**)."
   ]
  },
  {
   "cell_type": "code",
   "execution_count": null,
   "metadata": {},
   "outputs": [],
   "source": [
    "import this"
   ]
  },
  {
   "cell_type": "markdown",
   "metadata": {},
   "source": [
    "<img style = 'float: left; margin-right: 10px; margin-bottom: 10px' src = 'Images/question.png'> Szybkie ćwiczenie 12: Odwracanie list jest przydatną umiejętnością! Sprawdź np., że przypisywane Napoleonowi zdanie, `'Able was I ere I saw Elba'` (nie biorąc pod uwagę wielkości liter - jak to zakodować?) jest palindromem, tj. czytane wspak jest identyczne ze sobą."
   ]
  },
  {
   "cell_type": "code",
   "execution_count": null,
   "metadata": {},
   "outputs": [],
   "source": [
    "# szybkie ćwiczenie 12 - rozwiązanie\n",
    "\n"
   ]
  },
  {
   "cell_type": "markdown",
   "metadata": {},
   "source": [
    "#### <a id=\"2.2_b7\"></a>(*) Obiekt `slice`"
   ]
  },
  {
   "cell_type": "markdown",
   "metadata": {},
   "source": [
    "Na koniec uwaga: Jeśli chcielibyśmy danego rodzaju segmentu używać wielokrotnie, możemy zdefiniować go za pomocą funkcji `slice`, zwracającą obiekt nowego typu, tzw. `slice`."
   ]
  },
  {
   "cell_type": "code",
   "execution_count": null,
   "metadata": {},
   "outputs": [],
   "source": [
    "# zdefiniujmy parę list\n",
    "\n",
    "some_primes = [ 11 , 13 , 17 , 19 , 23 , 29 , 31 , 37 , 41 , 43 , 47 , 53 , 59 ]\n",
    "more_primes = [ 61 , 67 , 71 , 73 , 79 , 83 , 89 , 97 , 101 , 103 , 107 , 109 , 113 , 127 ]\n",
    "even_more_primes = [ 131 , 137 , 139 , 149 , 151 , 157 , 163 , 167 , 173 , 179 , 181 , 191 , 193 ]\n",
    "\n",
    "# obiekt slice: od indeksu 2 do indeksu 9 włącznie, w krokach co 3\n",
    "\n",
    "seg = slice( 2 , 10 , 3 )\n",
    "\n",
    "# możemy go używać wielokrotnie\n",
    "\n",
    "print( some_primes[ seg ] )\n",
    "print( more_primes[ seg ] )\n",
    "print( even_more_primes[ seg ] )"
   ]
  },
  {
   "cell_type": "markdown",
   "metadata": {},
   "source": [
    "Sprawdźmy typ:"
   ]
  },
  {
   "cell_type": "code",
   "execution_count": null,
   "metadata": {},
   "outputs": [],
   "source": [
    "type( seg )"
   ]
  },
  {
   "cell_type": "markdown",
   "metadata": {},
   "source": [
    "Jeśli któryś argument chcemy pominąć, stosujemy słówko kluczowe `None`:"
   ]
  },
  {
   "cell_type": "code",
   "execution_count": null,
   "metadata": {},
   "outputs": [],
   "source": [
    "reverse = slice( None , None , -1 ) # implementujemy nasze rozwiązanie odwrócenia listy poprzez ::-1\n",
    "\n",
    "print( some_primes[ reverse ] )\n",
    "print( more_primes[ reverse ] )\n",
    "print( even_more_primes[ reverse ] )"
   ]
  },
  {
   "cell_type": "markdown",
   "metadata": {},
   "source": [
    "### <a id=\"2.3\"></a>2.3. Metody list `index` i `count`"
   ]
  },
  {
   "cell_type": "markdown",
   "metadata": {},
   "source": [
    "Przy okazji wspomnijmy o dwóch dość użytecznych metodach typu `list`.\n",
    "\n",
    "Uwaga techniczna: Używaliśmy do tej pory nie raz tzw. \"metod\", ale bez ich dokładnego zdefiniowania. Ogólnie mówiąc, metoda jest to pewna operacja `method` dokonywana na jakimś obiekcie `object` - poprzez składnię `object.method(arguments)`; tutaj `arguments` to tzw. \"argumenty\", a więc dodatkowe informacje, które musimy przekazać metodzie, aby wiedziała, jak zadziałać. Wyobraźmy sobie, że mamy obiekt o nazwie `car` i metodę o nazwie `paint`; moglibyśmy pewnie napisać `car.paint('blue')`, gdzie string `'blue'` jest argumentem metody - pomaluje ona nasz samochód na niebiesko!\n",
    "\n",
    "Podkreślmy - metoda jest zdefiniowana dla konkretnego typu danych. Np. poniższe metody są \"rozumiane\" przez typ `list`. Aczkolwiek okazuje się, że typ `str` też je \"rozumie\" - i działają one na stringach zupełnie analogicznie, jak na listach. (Z Lekcji 2 pamiętamy całą serię innych metod typu danych `str`.)\n",
    "\n",
    "| Metoda | Działanie |\n",
    "| --- | --- |\n",
    "| <center>`index`</center> | <center>znajdź indeks pierwszego wystąpienia elementu</center> |\n",
    "| <center>`count`</center> | <center>zlicz, ile razy dany element występuje</center> |"
   ]
  },
  {
   "cell_type": "markdown",
   "metadata": {},
   "source": [
    "Mamy więc np.:"
   ]
  },
  {
   "cell_type": "code",
   "execution_count": null,
   "metadata": {},
   "outputs": [],
   "source": [
    "animals = [ 'cat' , 'cat' , 'dog' , 'cat' ]"
   ]
  },
  {
   "cell_type": "markdown",
   "metadata": {},
   "source": [
    "... i indeksem pierwszego wystąpienia elementu `'cat'` jest 0:"
   ]
  },
  {
   "cell_type": "code",
   "execution_count": null,
   "metadata": {},
   "outputs": [],
   "source": [
    "animals.index( 'cat' )"
   ]
  },
  {
   "cell_type": "markdown",
   "metadata": {},
   "source": [
    "... zaś występuje on trzy razy:"
   ]
  },
  {
   "cell_type": "code",
   "execution_count": null,
   "metadata": {},
   "outputs": [],
   "source": [
    "animals.count( 'cat' )"
   ]
  },
  {
   "cell_type": "markdown",
   "metadata": {},
   "source": [
    "Można by zadać następujące ciekawe pytanie: Jak uogólnić metodę `index`, aby zwracała _wszystkie_ indeksy, na których dany element występuje w liście (lista - pamiętamy - może mieć duplikaty)? Czyli w powyższym przykładzie `[0, 1, 3]`. Problem ten rozwiążemy poniżej za pomocą tzw. składni \"list comprehension\"."
   ]
  },
  {
   "cell_type": "markdown",
   "metadata": {},
   "source": [
    "## <a id=\"3\"></a>3. Listy można modyfikować"
   ]
  },
  {
   "cell_type": "markdown",
   "metadata": {},
   "source": [
    "Dwie podstawowe własności list to, na pewno pamiętasz:\n",
    "\n",
    "- listy są uporządkowane;\n",
    "\n",
    "- listy są mutowalne.\n",
    "\n",
    "W poprzedniej sekcji mówiliśmy o indeksach, czyli liczbach całkowitych, które pozwalają nam wykorzystać porządek listy do wybierania z niej elementów. W tej sekcji zajmiemy się drugą z definicyjnych właściwości, czyli modyfikacjami listy, a w szczególności zarówno:\n",
    "\n",
    "- zmianą wartości poszczególnych elementów listy,\n",
    "\n",
    "- a także zmianą samej listy poprzez dodawanie/usuwanie z niej elementów."
   ]
  },
  {
   "cell_type": "markdown",
   "metadata": {},
   "source": [
    "### <a id=\"3.1\"></a>3.1. Zmiany wartości elementów listy"
   ]
  },
  {
   "cell_type": "markdown",
   "metadata": {},
   "source": [
    "Jeśli chcemy zmienić wartość jakiegoś elementu listy, po prostu wybieramy go używając indeksu (jak widzieliśmy w poprzednim rozdziale) i przypisujemy (`=`) mu nową wartość."
   ]
  },
  {
   "cell_type": "code",
   "execution_count": null,
   "metadata": {},
   "outputs": [],
   "source": [
    "letters = [ 'a' , 'b' , 'c' , 'd' , 'e' , 'f' ]\n",
    "\n",
    "letters[ 3 ] = 'x' # zmieniamy wartość elementu o indeksie 3, czyli 'd', na 'x'\n",
    "\n",
    "letters"
   ]
  },
  {
   "cell_type": "markdown",
   "metadata": {},
   "source": [
    "Możemy oczywiście wybierać cały segment listy, aby go modyfikować za jednym zamachem."
   ]
  },
  {
   "cell_type": "code",
   "execution_count": null,
   "metadata": {},
   "outputs": [],
   "source": [
    "letters[ -2: ] = [ 'y' , 'z' ] # zmieniamy dwa ostatnie elementy na dwa inne\n",
    "\n",
    "letters"
   ]
  },
  {
   "cell_type": "markdown",
   "metadata": {},
   "source": [
    "Możemy w ten sposób listę rozszerzać lub skurczać, gdyż nowa liczba elementów może być różna od długości segmentu!"
   ]
  },
  {
   "cell_type": "code",
   "execution_count": null,
   "metadata": {},
   "outputs": [],
   "source": [
    "letters[ :3 ] = [ 's' , 't' , 'u' , 'w' , 'v' ] # zmieniamy trzy pierwsze elementy na pięć innych\n",
    "\n",
    "letters"
   ]
  },
  {
   "cell_type": "markdown",
   "metadata": {},
   "source": [
    "Oczywiście cała kombinacja składni segmentów jest do naszej dyspozycji. Jeśli użyjemy kroku innego niż 1, musimy jednak dokładnie dopasować długość nowej listy!"
   ]
  },
  {
   "cell_type": "code",
   "execution_count": null,
   "metadata": {},
   "outputs": [],
   "source": [
    "letters[ ::2 ] = [ 'S' , 'U' , 'V' , 'Y' ] # zmieniamy co drugi element\n",
    "\n",
    "letters"
   ]
  },
  {
   "cell_type": "markdown",
   "metadata": {},
   "source": [
    "<img style = 'float: left; margin-right: 10px; margin-bottom: 10px' src = 'Images/question.png'> Szybkie ćwiczenie 13: Zdefiniuj listę liczb całkowitych od 1 do 100 i zastąp jej \"środek\", tj. elementy bez pierwszego i ostatniego, poprzez tenże \"środek\" w odwróconej kolejności."
   ]
  },
  {
   "cell_type": "markdown",
   "metadata": {},
   "source": [
    "Wskazówka: Do zdefiniowania oryginalnej listy użyj funkcji `range`, ale przekonwertuj jej wynik na listę funkcją `list`."
   ]
  },
  {
   "cell_type": "code",
   "execution_count": null,
   "metadata": {},
   "outputs": [],
   "source": [
    "# szybkie ćwiczenie 13 - rozwiązanie\n",
    "\n"
   ]
  },
  {
   "cell_type": "markdown",
   "metadata": {},
   "source": [
    "### <a id=\"3.2\"></a>3.2. (*) Mutowalność, aliasy, kopie"
   ]
  },
  {
   "cell_type": "markdown",
   "metadata": {},
   "source": [
    "Mutowalność może wydawać się naturalną cechą - dlaczego nie mielibyśmy móc zmienić jakiegoś obiektu!? - jest jednak dość wyjątkowa biorąc pod uwagę typu obiektów dotychczas poznanych! Większość z nich jest niemutowalna.\n",
    "\n",
    "| Typ | Nazwa | Mutowalny? |\n",
    "| --- | --- | --- |\n",
    "| <center>`int`</center> | <center>liczba całkowita</center> | <center>❌</center> |\n",
    "| <center>`float`</center> | <center>liczba zmiennoprzecinkowa</center> | <center>❌</center> |\n",
    "| <center>`bool`</center> | <center>wyrażenie logiczne</center> | <center>❌</center> |\n",
    "| <center>`str`</center> | <center>string</center> | <center>❌</center> |\n",
    "| <center>`list`</center> | <center>lista</center> | <center>✅</center> |\n",
    "| <center>`tuple`</center> | <center>tupla</center> | <center>❌</center> |\n",
    "| <center>`set`</center> | <center>zbiór</center> | <center>✅</center> |\n",
    "| <center>`dict`</center> | <center>słownik</center> | <center>✅</center> |"
   ]
  },
  {
   "cell_type": "markdown",
   "metadata": {},
   "source": [
    "W tej sekcji skupimy się przez chwilę na tym bardziej technicznym zagadnieniu mutowalności, w jego relacji do operacji przypisywania obiektu do zmiennej. Rozważmy następującą serię przypisań:"
   ]
  },
  {
   "cell_type": "code",
   "execution_count": null,
   "metadata": {},
   "outputs": [],
   "source": [
    "a = 'Cheshire Cat'\n",
    "b = a\n",
    "\n",
    "print( a )\n",
    "print( b )"
   ]
  },
  {
   "cell_type": "markdown",
   "metadata": {},
   "source": [
    "Stworzyliśmy obiekt typu `str` o wartości `'Cheshire Cat'`, a także przypisaliśmy do niego \"etykiety\", tj. zmienne, `a` i `b`. Możemy sprawdzić, że `a` i `b` wskazują na ten sam obiekt na dwa sposoby: albo wbudowanym operatorem `is`:"
   ]
  },
  {
   "cell_type": "code",
   "execution_count": null,
   "metadata": {},
   "outputs": [],
   "source": [
    "b is a"
   ]
  },
  {
   "cell_type": "markdown",
   "metadata": {},
   "source": [
    "... albo za pomocą wbudowanej funkcji `id`, która pokazuje \"identyfikator\" miejsca w pamięci, które ten obiekt zajmuje:"
   ]
  },
  {
   "cell_type": "code",
   "execution_count": null,
   "metadata": {},
   "outputs": [],
   "source": [
    "print( id( a ) )\n",
    "print( id( b ) )\n",
    "print( id( a ) == id( b ) )"
   ]
  },
  {
   "cell_type": "markdown",
   "metadata": {},
   "source": [
    "Moglibyśmy spróbować zmodyfikować obiekt `'Cheshire Cat'`, np. przy użyciu operatora `+`:"
   ]
  },
  {
   "cell_type": "code",
   "execution_count": null,
   "metadata": {},
   "outputs": [],
   "source": [
    "a += ' disappearing'\n",
    "\n",
    "print( a )\n",
    "print( b )"
   ]
  },
  {
   "cell_type": "markdown",
   "metadata": {},
   "source": [
    "... i teraz:"
   ]
  },
  {
   "cell_type": "code",
   "execution_count": null,
   "metadata": {},
   "outputs": [],
   "source": [
    "b is a"
   ]
  },
  {
   "cell_type": "code",
   "execution_count": null,
   "metadata": {},
   "outputs": [],
   "source": [
    "print( id( a ) )\n",
    "print( id( b ) )\n",
    "print( id( a ) == id( b ) )"
   ]
  },
  {
   "cell_type": "markdown",
   "metadata": {},
   "source": [
    "Co tu się stało? Obiekt `'Cheshire Cat'` się nie zmienił - jest niemutowalny. Zmieniło się tylko przypisanie zmiennej `a` - wskazuje ona teraz na inny obiekt, `'Cheshire Cat disappearing'`. Zmienna `b` dalej pokazuje na obiekt `'Cheshire Cat'`."
   ]
  },
  {
   "cell_type": "markdown",
   "metadata": {},
   "source": [
    "Co natomiast, gdybyśmy zrobili podobną rzecz z listami?"
   ]
  },
  {
   "cell_type": "code",
   "execution_count": null,
   "metadata": {},
   "outputs": [],
   "source": [
    "a = [ 1 , 2 , 3 ]\n",
    "b = a\n",
    "\n",
    "print( a )\n",
    "print( b )"
   ]
  },
  {
   "cell_type": "code",
   "execution_count": null,
   "metadata": {},
   "outputs": [],
   "source": [
    "b is a"
   ]
  },
  {
   "cell_type": "code",
   "execution_count": null,
   "metadata": {},
   "outputs": [],
   "source": [
    "print( id( a ) )\n",
    "print( id( b ) )\n",
    "print( id( a ) == id( b ) )"
   ]
  },
  {
   "cell_type": "markdown",
   "metadata": {},
   "source": [
    "Zmienne `a` i `b` znów wskazują na ten sam obiekt - tym razem listę. Listę tę możemy jednak zmienić - jest mutowalna - a wówczas wartość i w zmiennej `a`, i w zmiennej `b` podobnie się zmieni! Dlaczego? Nie zmieniamy tu przypisania zmiennych, gdyż _obiekt jest ten sam_ (sprawdź jego jego `id` - jest niezmienione!); obie zmienne `a` i `b` na niego cały czas wskazują. Ale zmieniła się _jego wartość_ (bo jest mutowalny), zatem i `a`, i `b` to widzą."
   ]
  },
  {
   "cell_type": "code",
   "execution_count": null,
   "metadata": {},
   "outputs": [],
   "source": [
    "a[ 0 ] = 10\n",
    "\n",
    "print( a )\n",
    "print( b )"
   ]
  },
  {
   "cell_type": "code",
   "execution_count": null,
   "metadata": {},
   "outputs": [],
   "source": [
    "print( id( a ) )\n",
    "print( id( b ) )\n",
    "print( id( a ) == id( b ) )"
   ]
  },
  {
   "cell_type": "markdown",
   "metadata": {},
   "source": [
    "Jest to zgodne z diagramem:\n",
    "\n",
    "![](Images/list_assignment_2.png)\n",
    "\n",
    "... czego konsekwencją jest, iż jeśli zmienimy coś w liście, to zarówno zmienna `a`, jak i `b` to zobaczą. Tutaj `a` i `b` nazywamy **aliasami**. I jak łatwo przewidzieć, to zachowanie jest podatne na błędy, kiedy zmienimy coś w jednym aliasie, a zapomnimy o innym!"
   ]
  },
  {
   "cell_type": "markdown",
   "metadata": {},
   "source": [
    "Aby tego uniknąć, moglibyśmy powyższe przypisanie dokonać następująco:"
   ]
  },
  {
   "cell_type": "code",
   "execution_count": null,
   "metadata": {},
   "outputs": [],
   "source": [
    "a = [ 1 , 2 , 3 ]\n",
    "b = [ 1 , 2 , 3 ]\n",
    "\n",
    "print( a )\n",
    "print( b )"
   ]
  },
  {
   "cell_type": "markdown",
   "metadata": {},
   "source": [
    "... i teraz te listy są _różnymi_ obiektami, choć mają tę samą wartość:"
   ]
  },
  {
   "cell_type": "code",
   "execution_count": null,
   "metadata": {},
   "outputs": [],
   "source": [
    "b is a"
   ]
  },
  {
   "cell_type": "code",
   "execution_count": null,
   "metadata": {},
   "outputs": [],
   "source": [
    "print( id( a ) )\n",
    "print( id( b ) )\n",
    "print( id( a ) == id( b ) )"
   ]
  },
  {
   "cell_type": "markdown",
   "metadata": {},
   "source": [
    "... a zatem `a` i `b` wskazują na dwie różne listy, zgodnie z następującym diagramem:\n",
    "\n",
    "![](Images/list_assignment_1.png)"
   ]
  },
  {
   "cell_type": "markdown",
   "metadata": {},
   "source": [
    "Zmieniając coś w pierwszej liście, drugiej tym razem nie naruszymy:"
   ]
  },
  {
   "cell_type": "code",
   "execution_count": null,
   "metadata": {},
   "outputs": [],
   "source": [
    "a[ 0 ] = 10\n",
    "\n",
    "print( a )\n",
    "print( b )"
   ]
  },
  {
   "cell_type": "markdown",
   "metadata": {},
   "source": [
    "W ten sposób utworzyliśmy dwie odrębne **kopie** listy. Zamiast jednak przepisywać listę jak wyżej, możemy zrobić to skrótowo za pomocą metody list `copy`:"
   ]
  },
  {
   "cell_type": "code",
   "execution_count": null,
   "metadata": {},
   "outputs": [],
   "source": [
    "a = [ 1 , 2 , 3 ]\n",
    "b = a.copy()\n",
    "\n",
    "print( a )\n",
    "print( b )"
   ]
  },
  {
   "cell_type": "code",
   "execution_count": null,
   "metadata": {},
   "outputs": [],
   "source": [
    "b is a"
   ]
  },
  {
   "cell_type": "code",
   "execution_count": null,
   "metadata": {},
   "outputs": [],
   "source": [
    "print( id( a ) )\n",
    "print( id( b ) )\n",
    "print( id( a ) == id( b ) )"
   ]
  },
  {
   "cell_type": "markdown",
   "metadata": {},
   "source": [
    "Ponadto, zamiast metody `copy` możemy skorzystać z zaobserwowanej wyżej własności składni segmentów - `[:]` tworzy kopię listy:"
   ]
  },
  {
   "cell_type": "code",
   "execution_count": null,
   "metadata": {},
   "outputs": [],
   "source": [
    "a = [ 1 , 2 , 3 ]\n",
    "b = a[ : ]\n",
    "\n",
    "print( a )\n",
    "print( b )"
   ]
  },
  {
   "cell_type": "code",
   "execution_count": null,
   "metadata": {},
   "outputs": [],
   "source": [
    "b is a"
   ]
  },
  {
   "cell_type": "code",
   "execution_count": null,
   "metadata": {},
   "outputs": [],
   "source": [
    "print( id( a ) )\n",
    "print( id( b ) )\n",
    "print( id( a ) == id( b ) )"
   ]
  },
  {
   "cell_type": "markdown",
   "metadata": {},
   "source": [
    "Trzeba na te sprawy uważać dokonując przypisywania do zmiennych obiektów mutowalnych."
   ]
  },
  {
   "cell_type": "markdown",
   "metadata": {},
   "source": [
    "### <a id=\"3.3\"></a>3.3. Dodawanie i usuwanie elementów z listy - metody list"
   ]
  },
  {
   "cell_type": "markdown",
   "metadata": {},
   "source": [
    "Listę można modyfikować nie tylko poprzez zmianę wartości jej elementów, ale także poprzez dodawanie/usuwanie elementów. Już udało nam się to - nie wprost - zrobić poprzez przypisywanie nowej listy do wybranego segmentu starej listy. Tutaj pokażemy kilka standardowych metod dla tych operacji.\n",
    "\n",
    "| Metoda | Działanie |\n",
    "| --- | --- |\n",
    "| <center>`append`</center> | <center>dodaj element na koniec listy</center> |\n",
    "| <center>`extend`</center> | <center>dodaj listę na koniec listy</center> |\n",
    "| <center>`insert`</center> | <center>dodaj element w dowolnym miejscu listy</center> |\n",
    "| <center>`remove`</center> | <center>usuń pierwsze wystąpienie elementu</center>\n",
    "| <center>`pop`</center> | <center>usuń element o danym indeksie</center> |\n",
    "| <center>`del` (operator)</center> | <center>usuń element o danym indeksie</center> |\n",
    "| <center>`clear`</center> | <center>oczyść całą listę</center> |"
   ]
  },
  {
   "cell_type": "markdown",
   "metadata": {},
   "source": [
    "#### <a id=\"3.3_b1\"></a>Dodawanie elementów do listy: `append`, `extend`, `insert`"
   ]
  },
  {
   "cell_type": "markdown",
   "metadata": {},
   "source": [
    "Metoda `append` służy do dodania nowego pojedynczego elementu na koniec listy (ten element jest podany jako argument metody `append`)."
   ]
  },
  {
   "cell_type": "code",
   "execution_count": null,
   "metadata": {},
   "outputs": [],
   "source": [
    "cars = [ 'audi' , 'vw' , 'mercedes' ]\n",
    "\n",
    "cars.append( 'porsche' ) # metoda append z argumentem 'porsche' (string) działająca na listę cars\n",
    "\n",
    "cars"
   ]
  },
  {
   "cell_type": "markdown",
   "metadata": {},
   "source": [
    "Jeśli chcemy dodać kilka nowych elementów, a więc całą ich listę, używamy metody `extend`; ona przyjmuje także jeden argument - argument ten musi być jednak listą!"
   ]
  },
  {
   "cell_type": "code",
   "execution_count": null,
   "metadata": {},
   "outputs": [],
   "source": [
    "newest_cars = [ 'bugatti' , 'maserati' , 'lamborghini' ]\n",
    "\n",
    "cars.extend( newest_cars ) # metoda extend z argumentem newest_cars (lista stringów) działająca na listę cars\n",
    "\n",
    "cars"
   ]
  },
  {
   "cell_type": "markdown",
   "metadata": {},
   "source": [
    "Jako dygresja, czy wiesz, co by się stało, gdybyśmy zamiast `extend` (które jako swój argument ma listę) użyli tutaj `append` (które jako argument ma pojedynczy element)? Nie to, czego oczekujemy:"
   ]
  },
  {
   "cell_type": "code",
   "execution_count": null,
   "metadata": {},
   "outputs": [],
   "source": [
    "cars_again = [ 'audi' , 'vw' , 'mercedes' , 'porsche' ]\n",
    "\n",
    "cars_again.append( newest_cars )\n",
    "\n",
    "cars_again"
   ]
  },
  {
   "cell_type": "markdown",
   "metadata": {},
   "source": [
    "Oczywiście: poprzez `append` dodaliśmy _pojedynczy_ element, a elementem tym jest _lista_ `newest_cars`."
   ]
  },
  {
   "cell_type": "markdown",
   "metadata": {},
   "source": [
    "Metoda `insert` również wstawia jeden nowy element, podobnie jak `append`, ale nie na końcu, ale w dowolnym miejscu, które specyfikujemy przez jego indeks; metoda ta ma więc _dwa_ argumenty."
   ]
  },
  {
   "cell_type": "code",
   "execution_count": null,
   "metadata": {},
   "outputs": [],
   "source": [
    "cars.insert( 2 , 'mazda' ) # nowy element - string 'mazda' - po wstawieniu będzie miał indeks 2\n",
    "\n",
    "cars"
   ]
  },
  {
   "cell_type": "markdown",
   "metadata": {},
   "source": [
    "Bardziej zaawansowana uwaga: Zauważ, że te trzy metody `append`, `extend`, `insert` modyfikują listę, ale nic nie zwracają, a więc składnia jest np. `cars.extend(newest_cars)`, a nie `cars = cars.extend(newest_cars)`. Działają one **w miejscu** (\"in place\")."
   ]
  },
  {
   "cell_type": "markdown",
   "metadata": {},
   "source": [
    "#### <a id=\"3.3_b2\"></a>Usuwanie elementów z listy: `remove`, `pop`, `del`, `clear`"
   ]
  },
  {
   "cell_type": "markdown",
   "metadata": {},
   "source": [
    "Jeśli wiemy, jaki element chcemy usunąć, używamy metody `remove`, która jednakże usuwa tylko pierwsze wystąpienie tego elementu (pamiętaj, że lista może zawierać duplikaty)."
   ]
  },
  {
   "cell_type": "code",
   "execution_count": null,
   "metadata": {},
   "outputs": [],
   "source": [
    "cars.remove( 'maserati' )\n",
    "\n",
    "cars"
   ]
  },
  {
   "cell_type": "markdown",
   "metadata": {},
   "source": [
    "Gdybyśmy mieli duplikaty, to usunięty jest tylko pierwszy z nich:"
   ]
  },
  {
   "cell_type": "code",
   "execution_count": null,
   "metadata": {},
   "outputs": [],
   "source": [
    "fruit = [ 'apple' , 'banana' , 'orange' , 'apple' , 'apple' , 'pear' ]\n",
    "\n",
    "fruit.remove( 'apple' )\n",
    "\n",
    "fruit"
   ]
  },
  {
   "cell_type": "markdown",
   "metadata": {},
   "source": [
    "Jak - elegancko! - usunąć wszystkie wystąpienia danego elementu? O tym pomówimy później, przy okazji filtrów i tzw. \"list comprehension\". Tutaj warto zaznaczyć, że wszystkie te metody do usuwania elementów nie są zbyt uniwersalne - i właśnie takie bardziej zaawansowane, eleganckie metody są częściej używane w praktyce."
   ]
  },
  {
   "cell_type": "markdown",
   "metadata": {},
   "source": [
    "Dla porządku natomiast wymieńmy, co robią pozostałe wspomniane wyrażenia. Jeśli znamy indeks elementu do usunięcia, użyjemy `pop` z argumentem będącym indeksem. Ta metoda jest nieco inna od pozostałych, ponieważ nie tylko usuwa z listy element o danym indeksie, ale też _zwraca_ wartość tego elementu."
   ]
  },
  {
   "cell_type": "code",
   "execution_count": null,
   "metadata": {},
   "outputs": [],
   "source": [
    "little_too_expensive = cars.pop( 5 ) # pop nie tylko usuwa element o danym indeksie, ale zwraca jego wartość\n",
    "\n",
    "cars"
   ]
  },
  {
   "cell_type": "code",
   "execution_count": null,
   "metadata": {},
   "outputs": [],
   "source": [
    "little_too_expensive"
   ]
  },
  {
   "cell_type": "markdown",
   "metadata": {},
   "source": [
    "Indeks w metodzie `pop` jest argumentem opcjonalnym - niepodanie go oznacza, że chcemy usunąć ostatni element listy."
   ]
  },
  {
   "cell_type": "markdown",
   "metadata": {},
   "source": [
    "Jeśli znamy indeks elementu do usunięcia, jak przy `pop`, ale nie interesuje nas wartość usuwanego elementu, możemy użyć operatora `del`, którego składnia wygląda następująco:"
   ]
  },
  {
   "cell_type": "code",
   "execution_count": null,
   "metadata": {},
   "outputs": [],
   "source": [
    "del cars[ 4 ]\n",
    "\n",
    "cars"
   ]
  },
  {
   "cell_type": "markdown",
   "metadata": {},
   "source": [
    "... i którego możemy użyć także do usunięcia większej liczby elementów używając składni segmentów:"
   ]
  },
  {
   "cell_type": "code",
   "execution_count": null,
   "metadata": {},
   "outputs": [],
   "source": [
    "del cars[ -2: ]\n",
    "\n",
    "cars"
   ]
  },
  {
   "cell_type": "markdown",
   "metadata": {},
   "source": [
    "(`del` to tzw. operator, a nie metoda - widzimy, że składnia jest inna.)"
   ]
  },
  {
   "cell_type": "markdown",
   "metadata": {},
   "source": [
    "Mamy też metodę `clear`, która - zgodnie z nazwą - oczyszcza całą listę. (Zauważmy, że nie ma ona żadnych argumentów. Oczywiście - nic nie musimy tej metodzie \"mówić\", ona po prostu czyści wszystko. Ciągle jednak nawiasy muszą być - tyle że puste w środku.)"
   ]
  },
  {
   "cell_type": "code",
   "execution_count": null,
   "metadata": {},
   "outputs": [],
   "source": [
    "cars.clear()\n",
    "\n",
    "cars"
   ]
  },
  {
   "cell_type": "markdown",
   "metadata": {},
   "source": [
    "### <a id=\"3.4\"></a>3.4. Rozszerzanie list - operatory `+`, `*`"
   ]
  },
  {
   "cell_type": "markdown",
   "metadata": {},
   "source": [
    "Dobra wiadomość - możemy bez powyższych metod zupełnie się obejść! Są one niełatwe do zapamiętania, każda ma swoją specyfikę i ograniczenia. Na szczęście, istnieją ogólniejsze rozwiązania. Jednym z takich eleganckich rozwiązań jest zmiana działania podstawowych operatorów arytmetycznych - dodawania `+` i mnożenia `*` - w użyciu ich w kontekście list, analogicznie do ich działania na stringach (jest to więc kolejny przykład polimorfizmu). Innym rozwiązaniem jest bardzo użyteczna składnia \"list comprehension\", omówiona dokładnie w sekcji <a href=\"#5.7\">List comprehension</a> i dalszych."
   ]
  },
  {
   "cell_type": "markdown",
   "metadata": {},
   "source": [
    "#### <a id=\"3.4_b1\"></a>Operator dodawania `+`"
   ]
  },
  {
   "cell_type": "markdown",
   "metadata": {},
   "source": [
    "Operator `+` łączy (\"concatenation\") dwie listy:"
   ]
  },
  {
   "cell_type": "code",
   "execution_count": null,
   "metadata": {},
   "outputs": [],
   "source": [
    "home = [ 'kitchen' , 'bedroom' , 'bathroom' ]\n",
    "garden = [ 'lawn' , 'tree' , 'path' ]\n",
    "\n",
    "home + garden"
   ]
  },
  {
   "cell_type": "markdown",
   "metadata": {},
   "source": [
    "... bardzo podobnie do łączenia stringów:"
   ]
  },
  {
   "cell_type": "code",
   "execution_count": null,
   "metadata": {},
   "outputs": [],
   "source": [
    "'Jan' + ' ' + 'Kowalski' # łączymy trzy stringi w jeden"
   ]
  },
  {
   "cell_type": "markdown",
   "metadata": {},
   "source": [
    "Zauważ, że podobny efekt moglibyśmy uzyskać poprzez metodę `extend`, która jednak zmodyfikowałaby by jedną z obecnych tu list, np. `home.extend(garden)` modyfikuje listę `home`. Używając `+` zarówno `home`, jak i `garden`, są nienaruszone.\n",
    "\n",
    "W każdym razie, zamiast metod `append` i `extend` możemy bardziej skrótowo (i elegancko!) wykorzystać `+`:"
   ]
  },
  {
   "cell_type": "code",
   "execution_count": null,
   "metadata": {},
   "outputs": [],
   "source": [
    "home += [ 'terrace' ] # równoważne home.append( 'terrace' )\n",
    "\n",
    "home\n",
    "\n",
    "# gdybyśmy nie chcieli modyfikować listy home, tylko wynik zapisać w innej liście:\n",
    "# home_new = home + [ 'terrace' ]"
   ]
  },
  {
   "cell_type": "code",
   "execution_count": null,
   "metadata": {},
   "outputs": [],
   "source": [
    "home += [ 'fireplace' , 'sauna' ] # równoważne home.extend( [ 'fireplace' , 'sauna' ] )\n",
    "\n",
    "home"
   ]
  },
  {
   "cell_type": "markdown",
   "metadata": {},
   "source": [
    "Nie musisz więc pamiętać, co konkretnie robią `append` i `extend` - wystarczy posługiwać się operatorem dodawania `+`, co jest bardziej zwięzłe i eleganckie."
   ]
  },
  {
   "cell_type": "markdown",
   "metadata": {},
   "source": [
    "#### <a id=\"3.4_b2\"></a>Operator mnożenia `*`"
   ]
  },
  {
   "cell_type": "markdown",
   "metadata": {},
   "source": [
    "Kończąc tę sekcję, wspomnijmy o operatorze `*` działającym na listę i liczbę całkowitą. Jeśli liczba ta jest dodatnia, $n > 0$, efektem jest lista złożona z $n$ powtórzeń wyjściowej listy. (Jeśli $n \\leq 0$, efektem jest pusta lista.) Jest to zatem działanie zupełnie analogiczne do tego na stringach."
   ]
  },
  {
   "cell_type": "code",
   "execution_count": null,
   "metadata": {},
   "outputs": [],
   "source": [
    "5 * [ 'I' , 'love' , 'Python' ]"
   ]
  },
  {
   "cell_type": "code",
   "execution_count": null,
   "metadata": {},
   "outputs": [],
   "source": [
    "7 * [ 1 , 2 , 3 ]"
   ]
  },
  {
   "cell_type": "markdown",
   "metadata": {},
   "source": [
    "Dla stringów było to podobnie:"
   ]
  },
  {
   "cell_type": "code",
   "execution_count": null,
   "metadata": {},
   "outputs": [],
   "source": [
    "10 * 'abc'"
   ]
  },
  {
   "cell_type": "markdown",
   "metadata": {},
   "source": [
    "<img style = 'float: left; margin-right: 10px; margin-bottom: 10px' src = 'Images/question.png'> Szybkie ćwiczenie 14: Zdefiniuj zmienną `n_dashes`, która będzie liczbą całkowitą, np. 10. Napisz string wyglądający następująco: najpierw powtórzony w liczbie `n_dashes` znak `-`, następnie spacja, string `'The Title'`, spacja, i znowu `n_dashes` znaków `-`."
   ]
  },
  {
   "cell_type": "code",
   "execution_count": null,
   "metadata": {},
   "outputs": [],
   "source": [
    "# szybkie ćwiczenie 14 - rozwiązanie\n",
    "\n"
   ]
  },
  {
   "cell_type": "markdown",
   "metadata": {},
   "source": [
    "## <a id=\"4\"></a>4. Zadania domowe do Lekcji 5"
   ]
  },
  {
   "cell_type": "markdown",
   "metadata": {},
   "source": [
    "<img style = 'float: left; margin-right: 10px; margin-bottom: 10px' src = 'Images/question.png'> Dłuższe ćwiczenie 15: Podlisty.\n",
    "\n",
    "Masz daną listę `lst`, powiedzmy `lst = [7, 3, 2, 7, 7, 11, 4, 2]`, a także listę `sublist_candidate`, powiedzmy `sublist_candidate = [3, 2, 7]`. Napisz program, który sprawdza, czy `sublist_candidate` jest \"podlistą\" `lst`, tj. jakimiś kolejnymi elementami listy `lst`. Tutaj `[3, 2, 7]` jest podlistą, ale np. `[7, 7, 4, 2]` nie jest, bo pomija element `11`."
   ]
  },
  {
   "cell_type": "markdown",
   "metadata": {},
   "source": [
    "Wskazówka: Przeiteruj się przez listę `lst` w ten sposób, że w każdym kroku wycinasz z niej segment o długości równej długości `sublist_candidate`. Dokładniej mówiąc, interesują nas _indeksy_, zatem zamiast iterować się po liście `lst`, iteruj się po odpowiednim zakresie `range` zdefiniowanym przez jej długość. W każdym kroku iteracji sprawdź, czy ten wycięty segment jest równy liście `sublist_candidate`. Jeśli w którejkolwiek iteracji tak będzie, to odpowiedzieliśmy twierdząco na pytanie i możemy przerwać pętlę (instrukcją `break`) i wydrukować odpowiednią wiadomość.\n",
    "\n",
    "Możesz też na początku zdefiniować zmienną typu Boolean `is_sublist = False`. Następnie jeśli powyższy warunek zajdzie, to zamiast drukować wiadomość, zmień jej wartość na `True`."
   ]
  },
  {
   "cell_type": "code",
   "execution_count": null,
   "metadata": {},
   "outputs": [],
   "source": [
    "# dłuższe ćwiczenie 15 - rozwiązanie\n",
    "\n"
   ]
  },
  {
   "cell_type": "markdown",
   "metadata": {},
   "source": [
    "<img style = 'float: left; margin-right: 10px; margin-bottom: 10px' src = 'Images/question.png'> Dłuższe ćwiczenie 16 (*): Pig Latin.\n",
    "\n",
    "[Pig Latin](https://en.wikipedia.org/wiki/Pig_Latin) jest to \"sekretny język\"/\"gra słowna\", o historii sięgającej przynajmniej XIX wieku, w której angielskie wyrazy zamieniane są zgodnie z następującymi regułami: Zdefiniujmy najpierw zbiór samogłosek jako \"a\", \"e\", \"i\", \"o\", \"u\". Teraz:\n",
    "\n",
    "- Jeśli pierwsza litera słowa to spółgłoska, to zrób co następuje: weź wszystkie spółgłoski występujące na początku słowa i przenieś je na koniec słowa, a następnie na samym końcu słowa dodaj \"ay\". Np. dla wyrazu \"think\" (zaczyna się on na spółgłoskę), bierzemy początek spółgłoskowy, tj. \"th\", przenosimy go na koniec dostając \"inkth\", wreszcie dodajemy \"ay\", otrzymując \"inkthay\". Jest to \"think\" w języku Pig Latin. Inny przykład: \"string\" → \"ingstray\". (Dla słów złożonych [tylko ze spółgłosek](https://www.wordgamehelper.com/consonant-words), np. \"rhythms\" - pamiętaj, że \"y\" traktujemy jako spółgłoskę - efektem jest więc tylko dodanie \"ay\": \"rhythms\" → \"rhythmsay\".)\n",
    "\n",
    "- Jeśli pierwsza litera słowa to samogłoska, po prostu dodaj \"way\" na końcu. Np. \"eat\" → \"eatway\".\n",
    "\n",
    "Napisz program, w którym zdefiniujesz zmienną `word`, np. `word = 'think'`, a następnie przetłumaczysz ją na Pig Latin (powiedzmy w zmiennej `pig_latin_word`)."
   ]
  },
  {
   "cell_type": "markdown",
   "metadata": {},
   "source": [
    "Wskazówka: Trudniejsza jest oczywiście pierwsza gałąź warunku, tj. początek od spółgłoski. Możesz wykorzystać pętlę `while` do pójścia od początku wyrazu aż do napotkania pierwszej samogłoski - i tę część \"wyciąć\" z oryginalnego wyrazu poprzez składnię segmentów i dodać na końcu operatorem `+`.\n",
    "\n",
    "Jeśli chodzi o samo sprawdzanie, czy dana litera jest samogłoską czy nie, przypomnij sobie działanie operatora `in` na stringach i użyj pomocniczego stringa `'aeiou'`."
   ]
  },
  {
   "cell_type": "code",
   "execution_count": null,
   "metadata": {},
   "outputs": [],
   "source": [
    "# dłuższe ćwiczenie 16 - rozwiązanie\n",
    "\n"
   ]
  },
  {
   "cell_type": "markdown",
   "metadata": {},
   "source": [
    "<img style = 'float: left; margin-right: 10px; margin-bottom: 10px' src = 'Images/question.png'> Dłuższe ćwiczenie 17 (*): Odwracanie stringu na zmianę.\n",
    "\n",
    "Masz dany string `text` i liczbę naturalną `n` w zakresie od 2 do długości `text`. Stwórz zmienną `text_new` następująco: pierwsze `n` liter zapisz w odwrotnej kolejności; drugie `n` liter zostaw jak są; trzecie `n` liter znowu w odwrotnej kolejności; czwarte `n` zostaw jak są; itd. (Ostatni segment może mieć niepełne `n` liter.) Np. dla `text = 'abcdefghijklmn'` i `n = 3` odpowiedzią jest `'cbadefihgjklnm'`."
   ]
  },
  {
   "cell_type": "markdown",
   "metadata": {},
   "source": [
    "Wskazówka: Niech `text_new = ''` będzie na początku pustym stringiem, zmienną kumulującą. Iteruj się po liczbach naturalnych, skacząc co `2 * n` i \"wrzucając\" (`+=`) do \"pudełka\" odpowiednie segmenty z `text`.\n",
    "\n",
    "Możesz też rozwiązać to zadanie pętlą `while` - spróbuj! Jest ona podobna do powyższego `for`-a, ale w każdym kroku musimy też modyfikować zmienną `text` poprzez usuwanie z niej pierwszych `2 * n` znaków, aż będzie ona pusta."
   ]
  },
  {
   "cell_type": "code",
   "execution_count": null,
   "metadata": {},
   "outputs": [],
   "source": [
    "# dłuższe ćwiczenie 17 - rozwiązanie\n",
    "\n"
   ]
  },
  {
   "cell_type": "markdown",
   "metadata": {},
   "source": [
    "<img style = 'float: left; margin-right: 10px; margin-bottom: 10px' src = 'Images/question.png'> Dłuższe ćwiczenie 18 (**): Słowa kangurowe.\n",
    "\n",
    "Słowo nazywamy \"kangurowym\", jeśli zawiera w sobie inne słowa - gdzie przez \"zawiera\" rozumiemy, że litery mniejszego słowa wszystkie występują w większym, w dobrej kolejności, choć niekoniecznie sąsiadując ze sobą. Dobrym przykładem angielskiego słowa kangurowego jest \"encourage\", które zawiera w sobie np. słowa \"courage\", \"urge\", \"cure\" i sporo innych.\n",
    "\n",
    "Zdefiniujmy zatem `kangaroo_word = 'encourage'` oraz następującą listę wyrazów: `kangaroo_word_list = ['courage', 'cog', 'cur', 'urge', 'core', 'cure', 'nag', 'rag', 'age', 'nor', 'rage', 'enrage', 'cage']`. Twoim zadaniem jest przeiterować się przez tę listę, w każdym kroku drukując wynik sprawdzenia, że rzeczywiście dane pod-słowo \"zawiera się\" w `kangaroo_word`."
   ]
  },
  {
   "cell_type": "markdown",
   "metadata": {},
   "source": [
    "Wskazówka: \"Mięsem\" zadania jest oczywiście algorytm sprawdzający, czy dane słowo `sub_word`, np. `'cure'`, \"zawiera się\" w słowie `kangaroo_word`. Jak do tego podejść? Jeden pomysł jest następujący: Zdefiniuj zmienną tymczasową `kangaroo_word_current`, równą na początku `kangaroo_word`. Iteruj się po literach słowa `sub_word`. Jeśli danej litery nie ma w słowie `kangaroo_word_current`, to już wiesz, że odpowiedź jest negatywna. Jeśli zaś ta litera jest tam, to niech `kangaroo_word_current` będzie obcięte: od następnej litery po tej znalezionej do końca. Tu np. w pierwszej iteracji mamy literę `'c'`, która jest obecna w `'encourage'`; wycinamy je zatem od kolejnej po `'c'` litery, tj. pozostaje nam `'ourage'` jako nowa wartość `kangaroo_word_current`. Dalej mamy literę `'u'`, która jest tu obecna i zatem nową wartością `kangaroo_word_current` jest `'rage'`. Itd. Do tego \"obcinania\" użyj składni segmentów i metody `index`."
   ]
  },
  {
   "cell_type": "code",
   "execution_count": null,
   "metadata": {},
   "outputs": [],
   "source": [
    "# dłuższe ćwiczenie 18 - rozwiązanie\n",
    "\n"
   ]
  },
  {
   "cell_type": "markdown",
   "metadata": {},
   "source": [
    "<img style = 'float: left; margin-right: 10px; margin-bottom: 10px' src = 'Images/question.png'><img style = 'float: right; margin-left: 10px; margin-bottom: 10px' src = 'Images/josephus.jpg' width = '400px'> Dłuższe ćwiczenie 19 (**): Problem Józefa Flawiusza.\n",
    "\n",
    "[Problem Józefa Flawiusza](https://en.wikipedia.org/wiki/Josephus_problem) zainspirowany jest fragmentem z \"Wojny żydowskiej\", gdzie autor opisuje historię, jak podczas oblężenia miasta Yodfat w roku 67 n.e. został uwięziony wraz ze swoimi 40 żołnierzami w jaskini. Nie chcąc poddać się Rzymianom, uznali, iż lepszym wyborem będzie popełnienie samobójstwa. Flawiusz zasugerował systematyczny sposób wykonania tego zadania: mieli stanąć w kole i odliczać co drugą osobę, która natychmiast poddawała się egzekucji.\n",
    "\n",
    "Mamy zatem 41 osób stojących w koło, ponumerowanych od 1 do 41. Najpierw eliminowana jest osoba nr 2, potem nr 4 itd. Kiedy wyeliminowana będzie osoba nr 40, następna w kolejce jest nr 1. W tym momencie pamiętajmy, że nie ma już osoby nr 2 ani 4, zatem następna w kolejce jest nr 5. Eliminacja ta przeprowadzana jest aż zostanie żywa tylko jedna osoba. Mówi się, że Flawiusz obliczył tę \"szczęśliwą\" pozycję i stanął w kółku jako osoba nr 19. (W tekście autor mówi, że przeżył wraz z jednym towarzyszem i razem poddali się Rzymianom. Jego towarzysz miał stać na pozycji nr 35.)\n",
    "\n",
    "(W oryginalnym sformułowaniu, egzekucji poddawana jest co _trzecia_ osoba, najpierw nr 3, potem nr 6 itd. Wówczas Flawiusz powinien stanąć na pozycji nr 31, a jego towarzysz na nr 16.)\n",
    "\n",
    "Wyznacz, na jakiej pozycji powinien stanąć Józef Flawiusz jeśli mamy `n` osób, a egzekucje odbywają się w krokach co `k` osób."
   ]
  },
  {
   "cell_type": "markdown",
   "metadata": {},
   "source": [
    "Wskazówka: Rozważ listę liczb od 1 do `n`. Zaczynasz od egzekucji osoby na indeksie `i = k - 1`. Napisz pętlę `while`, gdzie w każdym kroku usuwasz element o indeksie `i` (użyj metody `pop`). Najważniejszym elementem programu jest napisanie, jak przejść od właśnie wyeliminowanego indeksu `i` do kolejnej osoby. Można by myśleć, że należy do `i` dodać `k`, skoro mamy iść co `k` osób - ale są z tym dwa problemy:\n",
    "\n",
    "- Po pierwsze, przez usunięcie elementu o indeksie `i` indeks kolejnej osoby _zmniejszył_ nam się o 1 (lista się skurczyła!). Czyli trzeba iść co `(k - 1)` kroków.\n",
    "\n",
    "- Po drugie, trzeba zapisać cykliczność tego przejścia. Np. rozważmy sytuację, gdzie dochodzimy do końca pierwszego kółka, eliminując osobę nr 40. Jest to 20-ta osoba do eliminacji. Zanim ją zatem wyeliminujemy, nasza lista ma 41 - 19 = 22 elementy, zaś osoba nr 40 ma na aktualnej liście indeks 20 - jest przedostatnia. Po jej eliminacji lista ma 21 elementów. Teraz od indeksu 20 chcemy skoczyć do indeksu 0 (przeskakując osobę nr 41). Jak to zrobić arytmetycznie? Przypomnij sobie operator reszty z dzielenia `%`.\n",
    "\n",
    "Pętla `while` kończy się, gdy lista zawiera tylko jeden element (albo dwa, jeśli interesuje nas też pozycja towarzysza Flawiusza)."
   ]
  },
  {
   "cell_type": "code",
   "execution_count": null,
   "metadata": {},
   "outputs": [],
   "source": [
    "# dłuższe ćwiczenie 19 - rozwiązanie\n",
    "\n"
   ]
  },
  {
   "cell_type": "markdown",
   "metadata": {},
   "source": [
    "<img style = 'float: left; margin-right: 10px; margin-bottom: 10px' src = 'Images/question.png'> Dłuższe ćwiczenie 20 (**): Liczby Lychrel.\n",
    "\n",
    "Rozważmy dodatnie liczby całkowite `n` o następującej własności: Do `n` dodajemy jej odbicie lustrzane (tj. `n` napisaną wspak). Czasem suma ta będzie \"liczbą palindromiczną\" - tj. czytana wspak będzie identyczna ze sobą samą. Np. dla `n = 47` mamy 47 + 74 = 121, no i 121 jest liczbą palindromiczną. Czasem nie będzie od razu liczbą palindromiczną, ale dopiero po kilku iteracjach tej procedury. Np. dla `n = 349` potrzebujemy trzech iteracji, aby dojść do liczby palindromicznej:\n",
    "```\n",
    "349 + 943 = 1292\n",
    "1292 + 2921 = 4213\n",
    "4213 + 3124 = 7337\n",
    "```\n",
    "\n",
    "Dla wielu liczb startowych `n` liczba iteracji potrzebnych do dojścia do palindromu jest stosunkowo niewielka. Spośród małych liczb `n` wyjątkowa w tym względzie jest `n = 89`, która potrzebuje aż 24 iteracji by dojść do 13-cyfrowej liczby palindromicznej 8813200023188. Obecny (z 26 kwietnia 2019 r.) rekord świata jeśli chodzi o największą liczbę iteracji należy do `n = 12000700000025339936491`, która potrzebuje 288 iteracji by dojść do 142-cyfrowej liczby palindromicznej.\n",
    "\n",
    "Można zapytać, czy istnieją liczby startowe `n`, które _nigdy_ nie doprowadzą do palindromu. Takie liczby nazywamy właśnie [liczbami Lychrel](https://en.wikipedia.org/wiki/Lychrel_number) (nazwa nadana została przez Wade Van Landingham i jest zgrubnym anagramem imienia jego dziewczyny, Cheryl).\n",
    "\n",
    "Nie istnieje dowód matematyczny na istnienie żadnej liczby Lychrel, tj. nie możemy z całą pewnością powiedzieć, iż jakieś `n` nigdy nie utworzy palindromu. Istnieją natomiast \"kandydaci\", gdzie po długich obliczeniach numerycznych nie znaleziono palindromu. Najmniejszym \"kandydatem Lychrel\" jest `n = 196`. Pierwsza długa iteracja startująca od 196 została rozpoczęta w 1987 r. i po ok. trzech latach i ok. 2.5 miliona iteracji osiągnęła liczbę o milionie cyfr, nie znajdując palindromu. Najświeższy rezultat pochodzi z 2015 r., gdzie iteracja dotarła do liczby o _miliardzie_ cyfr - bez znalezienia palindromu.\n",
    "\n",
    "W tym zadaniu przyjmijmy arbitralnie, że liczba startowa `n` jest \"Lychrel\" jeśli nie osiągnie palindromu przed upływem 300 iteracji (pamiętajmy, że obecny rekord długości iteracji wynosi 288). Ile jest liczb \"Lychrel\" mniejszych niż 10 000? A ile mniejszych niż 100 000?\n",
    "\n",
    "Sprawdź swoją odpowiedź: Jest 246 liczb \"Lychrel\" mniejszych niż 10 000, zaś 6 020 mniejszych niż 100 000."
   ]
  },
  {
   "cell_type": "markdown",
   "metadata": {},
   "source": [
    "Wskazówka: Napisz pętlę `while`. Zliczaj liczbę iteracji i przerwij pętlę dotarłszy do 300 (nasz arbitralny limit). W każdym kroku zmieniasz `n` na sumę `n` i jej odbicia lustrzanego - wykorzystaj w tym celu konwersję na string i odwracanie kolekcji składnią segmentów. Napisz warunek sprawdzający, czy aktualne `n` jest palindromem - podobnie przez stringi i składnię odwracania. Jeśli tak, to liczba nie jest Lychrel i możesz przerwać pętlę. Jeśli dotrzesz do końca pętli bez znalezienia palindromu, zapisz startową wartość `n` na uprzednio utworzonej pustej liście."
   ]
  },
  {
   "cell_type": "code",
   "execution_count": null,
   "metadata": {},
   "outputs": [],
   "source": [
    "# dłuższe ćwiczenie 20 - rozwiązanie\n",
    "\n"
   ]
  },
  {
   "cell_type": "markdown",
   "metadata": {},
   "source": [
    "## <a id=\"5\"></a>5. Iterowanie przez listę"
   ]
  },
  {
   "cell_type": "markdown",
   "metadata": {},
   "source": [
    "W Lekcji 4 poświęciliśmy sporo czasu na omówienie pętli `for` i `while`, gdzie szczególnie ta pierwsza służy do \"przechodzenia krok po kroku\" (czyli **iterowania się**) przez jakąś kolekcję, np. listę czy string. W tej Lekcji też używaliśmy pętli `for` niejednokrotnie, zob. <a href=\"#1.3\">Iterowanie pętlą `for` przez listę - wprowadzenie</a> i dalej. Teraz zbierzmy wszelkie ciekawe informacje na temat: pętla `for` a listy. Jest to niezwykle ważny temat - tych konstrukcji używa się cały czas! Jest zatem bardzo istotne dobrze go przećwiczyć, stąd też sporo (niełatwych!) zadań domowych.\n",
    "\n",
    "W szczególności, powiemy także o tzw. \"list comprehension\" (nie ma chyba dobrego polskiego tłumaczenia!) - bardzo ogólnej, efektywnej i zwięzłej metodzie konstrukcji nowych list z istniejących list. Celem tej sekcji i zadań domowych będzie Twoje mistrzostwo w tej technice."
   ]
  },
  {
   "cell_type": "markdown",
   "metadata": {},
   "source": [
    "### <a id=\"5.1\"></a>5.1. Pętla `for`"
   ]
  },
  {
   "cell_type": "markdown",
   "metadata": {},
   "source": [
    "\"Koniem pociągowym\" iterowania przez listę jest znana nam już świetnie pętla `for`:"
   ]
  },
  {
   "cell_type": "code",
   "execution_count": null,
   "metadata": {},
   "outputs": [],
   "source": [
    "words = [ 'desk' , 'chair' , 'lamp' , 'pen' , 'computer' ]"
   ]
  },
  {
   "cell_type": "code",
   "execution_count": null,
   "metadata": {},
   "outputs": [],
   "source": [
    "for word in words:\n",
    "    print( word )"
   ]
  },
  {
   "cell_type": "markdown",
   "metadata": {},
   "source": [
    "Zauważmy, jak elegancka jest ta składnia! Mamy zmienną `word` (tzw. iterator), która krok po kroku przybiera wszystkie wartości elementów w liście. W każdej iteracji mamy więc przypisanie, `word = 'desk'`, potem `word = 'chair'` itd. Następnie wykonujemy blok kodu; tutaj jest to prosty `print`, ale może to być oczywiście dowolnie skomplikowany kod."
   ]
  },
  {
   "cell_type": "markdown",
   "metadata": {},
   "source": [
    "### <a id=\"5.2\"></a>5.2. Pusta lista (lub pusty string) jako \"puste pudełko\" w pętli `for`"
   ]
  },
  {
   "cell_type": "markdown",
   "metadata": {},
   "source": [
    "Bardzo częstym użyciem pętli `for` jest akumulacja wartości. W Lekcji 4 zaczęliśmy omawiać ten temat - stworzenie \"pustego pudełka\", do którego następnie \"wrzucamy\" jakieś rzeczy poprzez pętlę `for`. Przypomnijmy sobie np., jak napisaliśmy kod sumujący liczby będące elementami danej listy - stworzyliśmy \"puste pudełko\" `total_sum = 0`, a następnie szliśmy pętlą `for` przez listę i kolejne jej elementy dodawaliśmy (operatorem `+=`) do zmiennej `total_sum`.\n",
    "\n",
    "Analogicznie moglibyśmy jako \"puste pudełko\" rozważyć pustą listę `[]` i do niej \"wrzucać\" (znowu operatorem `+=`, bo przecież działa on też na listach!) wyniki kolejnych iteracji pętli `for`. Otrzymalibyśmy wtedy na końcu listę zawierającą w jakiś sposób przekształcone elementy danej listy wyjściowej."
   ]
  },
  {
   "cell_type": "markdown",
   "metadata": {},
   "source": [
    "Stwórzmy dla przykładu listę kwadratów liczb całkowitych od 0 do 10:"
   ]
  },
  {
   "cell_type": "code",
   "execution_count": null,
   "metadata": {},
   "outputs": [],
   "source": [
    "squares = [] # \"puste pudełko\"\n",
    "for number in range( 11 ):\n",
    "    squares += [ number ** 2 ] # równoważne: squares = squares + [ number ** 2 ]\n",
    "\n",
    "squares"
   ]
  },
  {
   "cell_type": "markdown",
   "metadata": {},
   "source": [
    "Mamy więc \"puste pudełko\" `squares`, do którego \"wrzucamy\" kolejne kwadraty liczb. \"Wrzucanie\" następuje za pomocą operatora `+=`, gdzie zwróćmy uwagę, iż aby dodać do listy `squares` jeden element, musimy dodać w rzeczywistości jednoelementową listę z tym elementem; operator `+` działa między listami!"
   ]
  },
  {
   "cell_type": "markdown",
   "metadata": {},
   "source": [
    "<img style = 'float: left; margin-right: 10px; margin-bottom: 10px' src = 'Images/question.png'> Szybkie ćwiczenie 21: Zdefiniuj pustą listę o nazwie `rooms`. To będzie \"pusty pojemnik\", do którego wrzucać będziemy pewne elementy za pomocą operatora `+`. Przeiteruj się pętlą `for` przez listę `home = ['kitchen', 'bedroom', 'bathroom', 'terrace', 'fireplace', 'sauna']`; w każdym kroku napisz instrukcję warunkową, sprawdzającą, czy string `'room'` jest częścią aktualnego elementu listy `home` - jeśli tak, dodaj go do listy `rooms` w opisany powyżej sposób."
   ]
  },
  {
   "cell_type": "markdown",
   "metadata": {},
   "source": [
    "Wskazówka: Przypomnij sobie operator `in`."
   ]
  },
  {
   "cell_type": "code",
   "execution_count": null,
   "metadata": {},
   "outputs": [],
   "source": [
    "# szybkie ćwiczenie 21 - rozwiązanie\n",
    "\n"
   ]
  },
  {
   "cell_type": "markdown",
   "metadata": {},
   "source": [
    "<img style = 'float: left; margin-right: 10px; margin-bottom: 10px' src = 'Images/question.png'> Szybkie ćwiczenie 22: Utwórz pustą listę o nazwie `my_home`. Przeiteruj się przez listę stringów `home`, do każdego elementu dodając string `'My '` na początku, i tak zmieniony wyraz zapisując w liście `my_home`. Innymi słowy, na końcu nasza lista powinna być `my_home = ['My kitchen', 'My bedroom', ...]`."
   ]
  },
  {
   "cell_type": "code",
   "execution_count": null,
   "metadata": {},
   "outputs": [],
   "source": [
    "# szybkie ćwiczenie 22 - rozwiązanie\n",
    "\n"
   ]
  },
  {
   "cell_type": "markdown",
   "metadata": {},
   "source": [
    "Podkreślmy jeszcze raz, że zupełnie analogicznie możemy utworzyć \"puste pudełko\" jako pusty string `''` i \"wrzucać\" do niego (znów poprzez `+=`) stringi powstające w kolejnych krokach jakiejś iteracji."
   ]
  },
  {
   "cell_type": "markdown",
   "metadata": {},
   "source": [
    "### <a id=\"5.3\"></a>5.3. (*) Stos i kolejka"
   ]
  },
  {
   "cell_type": "markdown",
   "metadata": {},
   "source": [
    "<img style = 'float: left; margin-right: 10px; margin-bottom: 10px' src = 'Images/stack.png' width = '400px'>\n",
    "\n",
    "<img style = 'float: right; margin-left: 10px; margin-bottom: 10px' src = 'Images/queue.png' width = '500px'>\n",
    "\n",
    "W tej opcjonalnej sekcji powiedzmy krótko o dwóch konstrukcjach algorytmicznych, które można zaimplementować za pomocą pętli `for` po listach i \"pudełka\", używając także \"wrzucania do pudełka\" (za pomocą operatora `+=` lub też metody `append`) oraz \"wyrzucania z pudełka\" (za pomocą metody `pop`).\n",
    "\n",
    "- **Stos** (\"stack\") jest to struktura danych opisana akronimem **FILO** = \"First-In Last-Out\". Przykładem jest stos książek na biurku: na stos odkładamy kolejno książki (ta operacja nazywa się ogólnie \"push\"); ostatnio odłożona książka będzie pierwsza do wzięcia z góry (ta operacja to \"pop\"); innymi słowy, książka położona pierwsza (\"First-In\") będzie odłożona ostatnia (\"Last-Out\"). Przykładem algorytmicznym jest program `Ctrl+Z`, czyli cofania operacji np. w edytorze tekstu; operacja ostatnio wykonana jest pierwsza do cofnięcia.\n",
    "\n",
    "- **Kolejka** (\"queue\") jest z kolei opisana akronimem **FIFO** = \"First-In First-Out\". Jak w kolejce do sklepu, kto pierwszy przyszedł (\"First-In\") jest też pierwszy do obsłużenia (\"First-Out\"). Operacje wejścia do kolejki i wyjścia z niej są określane słowami \"enqueue\" i \"dequeue\".\n",
    "\n",
    "Prostą implementacją obu tych struktur jest lista:\n",
    "\n",
    "- Wyobraźmy sobie jakąś iterację, gdzie w każdym kroku do \"pudełka\" \"wrzucamy\" elementy poprzez metodę `append`, a \"wyrzucamy\" poprzez `pop()` (przypomnijmy sobie, że `pop` bez argumentów usuwa ostatni element) - jest to stos, bo to co ostatnio dołączyliśmy przez `append` jest pierwsze usunięte przez `pop()`.\n",
    "\n",
    "- Bardzo podobnie, wrzucając przez `append`, zaś wyrzucając przez `pop(0)` (czyli usuń pierwszy element listy) - mamy kolejkę, bo to co ostatnio dołączyliśmy jest ostatnie wyrzucone.\n",
    "\n",
    "(W Pythonie są lepsze, bardziej zoptymalizowane, implementacje stosu i kolejki. Tutaj chcemy tylko pokazać, że obie te struktury danych można prosto samemu zapisać za pomocą poznanych do tej pory pojęć.)"
   ]
  },
  {
   "cell_type": "markdown",
   "metadata": {},
   "source": [
    "Pokażmy przykład zadania, gdzie pojęcie stosu pojawia się dość naturalnie. Jest to trudniejsze ćwiczenie, ale przeanalizuj go, aby zaznajomić się bardziej z myśleniem algorytmicznym - jak atakować takie problemy. Zadanie jest następujące: Dany jest string złożony z nawiasów trzech rodzajów, `'('`, `')'`, `'['`, `']'`, `'{'`, `'}'`, np. `'{[]{()}}'` czy też `'[(])'`. Należy odpowiedzieć na pytanie, czy jest on \"zbalansowany\" - tj. czy każdy nawias otwierający ma partnera zamykającego w odpowiednim miejscu - czy nie. Pierwszy przykład jest zbalansowany, a drugi nie.\n",
    "\n",
    "Jak możemy do tego podejść? Stwórzmy \"puste pudełko\" (które będzie - jak zobaczymy - naszym stosem), jako pustą listę. Iterujmy się przez nasz dany string nawiasów. Jeśli nawias jest otwierający, to dorzućmy go do \"pudełka\" (operatorem `+=` lub metodą `append`). Powiedzmy, że natknęliśmy się teraz po raz pierwszy na nawias zamykający, np. `']'`. Jeśli string jest zbalansowany, to nawiasem _ostatnio_ wrzuconym do \"pudełka\" musi być jego partner otwierający, a więc `'['`. Jeśli nie jest, to już wiemy, że string nie jest zbalansowany. Jeśli tak jednak jest, to wyobraźmy sobie, że te dwa nawiasy się \"anihilują wzajemnie\": \"puf!\" i oba znikają! Idziemy dalej i powtarzamy procedurę - jeśli w ten sposób anihilujemy cały string, to jest on zbalansowany. I zauważmy, że ta \"anihilacja\" to dokładnie usunięcie ostatnio wrzuconego elementu - czyli mamy stos!\n",
    "\n",
    "Zobaczmy na pierwszym przykładzie (`'{[]{()}}'`), jak nasz stos ewoluuje: (1) dodajemy: `'{'`, (2) dodajemy: `'{['`, (3) usuwamy: `'{'`, (4) dodajemy: `'{{'`, (5) dodajemy: `'{{('`, (6) usuwamy: `'{{'`, (7) usuwamy: `'{'`, (8) usuwamy: `''`. Skończyliśmy na pustym stringu, co dowodzi zbalansowania.\n",
    "\n",
    "Przeanalizuj poniższy kod implementujący ten stos za pomocą metod `append` i `pop`:"
   ]
  },
  {
   "cell_type": "code",
   "execution_count": null,
   "metadata": {},
   "outputs": [],
   "source": [
    "brackets = '[(])'\n",
    "\n",
    "open_list = [ '(' , '[' , '{' ]\n",
    "close_list = [ ')' , ']' , '}' ]\n",
    "\n",
    "stack = []\n",
    "\n",
    "for s in brackets:\n",
    "    if s in open_list:\n",
    "        stack.append( s ) # nawias otwarty po prostu dorzuć na stos\n",
    "    elif s in close_list:\n",
    "        s_match = open_list[ close_list.index( s ) ] # otwierający partner nawiasu zamykającego s\n",
    "        if len( stack ) > 0 and stack[ -1 ] == s_match: # jeśli ostatni element na stosie jest identyczny z otwierającym partnerem nawiasu zamykającego s, to je anihiluj!\n",
    "            stack.pop()\n",
    "        else: # jeśli nie, to na pewno string jest niezbalansowany\n",
    "            print( 'Unbalanced' )\n",
    "\n",
    "if len( stack ) == 0: # aby string był zbalansowany cała ta procedura musi skończyć się pustym stringiem\n",
    "    print( 'Balanced' )"
   ]
  },
  {
   "cell_type": "markdown",
   "metadata": {},
   "source": [
    "### <a id=\"5.4\"></a>5.4. Pętla `for` po indeksach"
   ]
  },
  {
   "cell_type": "markdown",
   "metadata": {},
   "source": [
    "Wróćmy do bardziej podstawowej dyskusji pętli `for`. Moglibyśmy zapisać ją także nieco inaczej: iterując po indeksach, a więc przechodząc kolejne wartości, jakie indeks przyjmuje: od 0 do długości listy minus 1 (np. dla listy o długości 5 indeksy to 0, 1, 2, 3, 4), dla każdego indeksu `i` biorąc odpowiedni element listy za pomocą operatora `[i]`."
   ]
  },
  {
   "cell_type": "markdown",
   "metadata": {},
   "source": [
    "#### <a id=\"5.4_b1\"></a>Funkcja `range`"
   ]
  },
  {
   "cell_type": "markdown",
   "metadata": {},
   "source": [
    "Przypomnijmy sobie tu poznaną w Lekcji 4 funkcję `range`:\n",
    "\n",
    "| Wersja | Działanie |\n",
    "| --- | --- |\n",
    "| <center>`range(n)`</center> | <center>ciąg 0, 1, ..., $(n - 1)$</center> |\n",
    "| <center>`range(m, n)`</center> | <center>ciąg $m$, $(m + 1)$, ..., $(n - 1)$</center> |\n",
    "| <center>`range(m, n, k)`</center> | <center>ciąg od $m$ do $(n - 1)$ w krokach co $k$</center> |"
   ]
  },
  {
   "cell_type": "markdown",
   "metadata": {},
   "source": [
    "Mamy więc np.:"
   ]
  },
  {
   "cell_type": "code",
   "execution_count": null,
   "metadata": {},
   "outputs": [],
   "source": [
    "for i in range( 5 ):\n",
    "    print( i )"
   ]
  },
  {
   "cell_type": "code",
   "execution_count": null,
   "metadata": {},
   "outputs": [],
   "source": [
    "for i in range( 5 , 10 ):\n",
    "    print( i )"
   ]
  },
  {
   "cell_type": "code",
   "execution_count": null,
   "metadata": {},
   "outputs": [],
   "source": [
    "for i in range( 10 , 20 , 2 ):\n",
    "    print( i )"
   ]
  },
  {
   "cell_type": "markdown",
   "metadata": {},
   "source": [
    "Uwaga techniczna: Można by pomyśleć, iż funkcja `range` zwraca listę odpowiednich liczb całkowitych. Jeśli jednak napiszemy:"
   ]
  },
  {
   "cell_type": "code",
   "execution_count": null,
   "metadata": {},
   "outputs": [],
   "source": [
    "range( 5 )"
   ]
  },
  {
   "cell_type": "code",
   "execution_count": null,
   "metadata": {},
   "outputs": [],
   "source": [
    "type( range( 5 ) )"
   ]
  },
  {
   "cell_type": "markdown",
   "metadata": {},
   "source": [
    "... to nie jest to lista, ale odrębny typ danych, tzw. typ `range`. Bez wchodzenia w szczegóły powiedzmy tylko, że jak zawsze to robimy, typ `range` możemy przekonwertować na typ listy poprzez użycie funkcji o nazwie tej samej, jak typ, na który konwertujemy, czyli `list`:"
   ]
  },
  {
   "cell_type": "code",
   "execution_count": null,
   "metadata": {},
   "outputs": [],
   "source": [
    "list( range( 5 ) )"
   ]
  },
  {
   "cell_type": "markdown",
   "metadata": {},
   "source": [
    "Zanim pójdziemy dalej, przypomnijmy też funkcję `len`, zwracającą długość dowolnej kolekcji. Np.:"
   ]
  },
  {
   "cell_type": "code",
   "execution_count": null,
   "metadata": {},
   "outputs": [],
   "source": [
    "len( range( 6789 , 768231 , 131 ) ) # ile jest liczb całkowitych od 6789 do 768230 (nie 768231!) w krokach co 131?"
   ]
  },
  {
   "cell_type": "markdown",
   "metadata": {},
   "source": [
    "#### <a id=\"5.4_b2\"></a>Iterowanie po indeksach listy"
   ]
  },
  {
   "cell_type": "markdown",
   "metadata": {},
   "source": [
    "Wrócmy do tematu iterowania po listach. Możemy teraz napisać pętlę `for`, którą przeiterujemy się przez _indeksy_ listy zamiast po prostu przez jej elementy; iterujemy zatem od 0, 1, ... aż do długość listy minus 1 - ciąg ten dokładnie opisuje `range(len(lst))` dla listy `lst`."
   ]
  },
  {
   "cell_type": "code",
   "execution_count": null,
   "metadata": {},
   "outputs": [],
   "source": [
    "list( range( len( words ) ) ) # ciąg indeksów listy words: od 0 do (len(words) - 1)"
   ]
  },
  {
   "cell_type": "code",
   "execution_count": null,
   "metadata": {},
   "outputs": [],
   "source": [
    "for i in range( len( words ) ): # iterujemy po indeksach 0, 1, 2, ..., aż do długość listy minus jeden\n",
    "    print( words[ i ] ) # element o indeksie i uzyskujemy operatorem nawiasów kwadratowych"
   ]
  },
  {
   "cell_type": "markdown",
   "metadata": {},
   "source": [
    "Jest to poprawny sposób iteracji - natomiast na pewno mniej elegancki od iteracji wprost po elementach listy!"
   ]
  },
  {
   "cell_type": "markdown",
   "metadata": {},
   "source": [
    "### <a id=\"5.5\"></a>5.5. Pętla `for` zarówno po indeksach, jak i elementach listy - funkcja `enumerate`"
   ]
  },
  {
   "cell_type": "markdown",
   "metadata": {},
   "source": [
    "Zdarza się, iż iterując przez listę i np. sprawdzając zadane warunki (np. czy dany element jest liczbą dodatnią), chcielibyśmy uzyskać informację nie tylko o tym, _który element_ spełnia nasz warunek, ale też _jakie indeksy_ mają wskazane elementy.\n",
    "\n",
    "Przydatnym narzędziem do tego celu jest funkcja `enumerate`, która przekształca listę daną jej jako argument w listę tej samej długości, ale w której każdy element jest _parą_ (dokładnie mówiąc: tuplą - zob. początek tej Lekcji oraz Lekcję 7); w tej parze pierwsza pozycja jest indeksem, a druga pozycja właściwym elementem listy o tym indeksie.\n",
    "\n",
    "(Dokładniej mówiąc, jak już widzieliśmy powyżej, powstały ciąg par (indeks, element) nie jest sam w sobie listą, ale innym typem danych, który jednakże możemy przekształcić w listę za pomocą funkcji konwersji typów `list`.)"
   ]
  },
  {
   "cell_type": "code",
   "execution_count": null,
   "metadata": {},
   "outputs": [],
   "source": [
    "enumerate( words )"
   ]
  },
  {
   "cell_type": "code",
   "execution_count": null,
   "metadata": {},
   "outputs": [],
   "source": [
    "list( enumerate( words ) )"
   ]
  },
  {
   "cell_type": "markdown",
   "metadata": {},
   "source": [
    "Widzimy tu przypisany każdemy elementowi listy `words` odpowiadający mu indeks - co może być bardzo wygodne w zastosowaniach, gdzie interesuje nas wartość indeksu."
   ]
  },
  {
   "cell_type": "markdown",
   "metadata": {},
   "source": [
    "Powiedzmy, że interesuje nas, aby uzyskać wszystkie wartości indeksu elementów listy `words`, które zawierają literę `'p'`. Jest to rodzaj \"filtrowania\" (powiemy o tym ogólniej w sekcji <a href=\"#6.4\">Filtrowanie list</a>), czyli wybierania konkretnych elementów listy na podstawie zadanych warunków, co już zdarzało nam się robić za pomocą pętli `for` - z tą różnicą, że teraz interesują nas też indeksy."
   ]
  },
  {
   "cell_type": "code",
   "execution_count": null,
   "metadata": {},
   "outputs": [],
   "source": [
    "for i , word in enumerate( words ): # iterujemy przez ciąg par (indeks, element)\n",
    "    if 'p' in word:\n",
    "        print( f'index: {i} corresponds to element: {word}' ) # wydrukujmy zarówno indeks, jak i wartość elementu"
   ]
  },
  {
   "cell_type": "markdown",
   "metadata": {},
   "source": [
    "Zauważmy, jak elegancko zachowuje się składnia - elementami ciągu `enumerate(words)` są _pary_ (dokładniej: tuple), a więc iterując po tym ciągu iterujemy po parach: w każdym kroku mamy _dwie_ zmienne, `i` oraz `word`, które przyjmują kolejne wartości odpowiednio pierwszej pozycji w parze i drugiej pozycji w parze. W składni pętli `for` po prostu oddzielamy je od siebie przecinkiem. Dla większej czytelności moglibyśmy wziąć je w nawiasy, `(i, word)`, ale nie jest to konieczne."
   ]
  },
  {
   "cell_type": "markdown",
   "metadata": {},
   "source": [
    "<img style = 'float: left; margin-right: 10px; margin-bottom: 10px' src = 'Images/question.png'> Szybkie ćwiczenie 23: Jako przykład zastosowania, spróbujmy odpowiedzieć na następujące pytanie: Mamy daną listę oraz pewną wartość. Jakie są indeksy, którym odpowiadające elementy listy przyjmują tę daną wartość? (Pamiętamy, że lista może zawierać duplikaty, a więc kilka elementów o tej samej wartości.) Np. mając daną listę `[5, -7, 5, 3, 4, -1, 5, -7]` i wartość 5, odpowiedzią byłyby indeksy 0, 2, 6, czyli pozycje, gdzie 5 występuje.\n",
    "\n",
    "Uwaga: Istnieje wbudowana metoda `index`, która daje indeks danej wartości - jednakże daje ona tylko indeks _pierwszego wystąpienia_ tejże wartości, co niekoniecznie jest pożądanym działaniem w przypadku występowania duplikatów.\n",
    "\n",
    "(Spróbuj rozwiązać to samodzielnie zanim zobaczysz rozwiązanie poniżej.)"
   ]
  },
  {
   "cell_type": "code",
   "execution_count": null,
   "metadata": {},
   "outputs": [],
   "source": [
    "# szybkie ćwiczenie 23 - rozwiązanie\n",
    "\n"
   ]
  },
  {
   "cell_type": "markdown",
   "metadata": {},
   "source": [
    "Rozwiązanie: W tym celu przeiterujmy się przez daną listę, na każdym kroku sprawdzając, czy dany element równy jest 5. Jeśli tak, dodajmy jego indeks do (zainicjowanej wcześniej) pustej listy - naszego \"pudełka\" z wynikami. Z uwagi na to, że interesują nas indeksy, musimy iterować nie tylko po samej liście, ale po parach (indeks, element)."
   ]
  },
  {
   "cell_type": "code",
   "execution_count": null,
   "metadata": {},
   "outputs": [],
   "source": [
    "value_to_check = 5\n",
    "value_list = [ 5 , -7 , 5 , 3 , 4 , -1 , 5 , -7 ]\n",
    "\n",
    "indices_of_value = [] # \"pusty pojemnik\" na indeksy, w których występuje element o wartości zmiennej value_to_check\n",
    "for i , value in enumerate( value_list ): # iterujemy przez ciąg par (indeks, element)\n",
    "    if value == value_to_check: # jeśli aktualna wartość elementu równa jest wartości zmiennej value_to_check...\n",
    "        indices_of_value += [ i ] # ... to do \"pojemnika\" dodajemy indeks tej wartości; alternatywnie: indices_of_value.append( i )\n",
    "\n",
    "indices_of_value"
   ]
  },
  {
   "cell_type": "markdown",
   "metadata": {},
   "source": [
    "Metoda `index` daje tylko pierwsze wystąpienie:"
   ]
  },
  {
   "cell_type": "code",
   "execution_count": null,
   "metadata": {},
   "outputs": [],
   "source": [
    "value_list.index( 5 ) # 5 występuje po raz pierwszy na pozycji 0 (ale są inne piątki w liście, który tu nie widzimy!)"
   ]
  },
  {
   "cell_type": "markdown",
   "metadata": {},
   "source": [
    "<img style = 'float: left; margin-right: 10px; margin-bottom: 10px' src = 'Images/question.png'> Szybkie ćwiczenie 24: Utwórz listę indeksów, które mają te elementy danej listy, które są _pomiędzy_ jakimiś wartościami, np. `mn = 2` i `mx = 6`. Użyj powyższych przykładów. (Moglibyśmy taką funkcję nazwać `index_range`.)"
   ]
  },
  {
   "cell_type": "code",
   "execution_count": null,
   "metadata": {},
   "outputs": [],
   "source": [
    "# szybkie ćwiczenie 24 - rozwiązanie\n",
    "\n"
   ]
  },
  {
   "cell_type": "markdown",
   "metadata": {},
   "source": [
    "### <a id=\"5.6\"></a>5.6. Pętla `for` po kilku listach jednocześnie złączonych \"na suwak\" - funkcja `zip`"
   ]
  },
  {
   "cell_type": "markdown",
   "metadata": {},
   "source": [
    "Zwróćmy dokładniejszą uwagę na strukturę funkcji `enumerate`. Tworzy ona listę, której każdy element jest _parą_ (dokładniej: tuplą) o postaci (indeks, element); indeks przyjmuje wartości 0, 1, 2, ... aż do długości listy minus jeden; element przyjmuje zaś wartości z danej listy."
   ]
  },
  {
   "cell_type": "code",
   "execution_count": null,
   "metadata": {},
   "outputs": [],
   "source": [
    "names = [ 'Kacper' , 'Ania' , 'Bartek' , 'Kamila' , 'Basia' ]\n",
    "\n",
    "list( enumerate( names ) )"
   ]
  },
  {
   "cell_type": "markdown",
   "metadata": {},
   "source": [
    "<img style = 'float: right; margin-left: 10px; margin-bottom: 10px' src = 'Images/zip.png' width = '300px'>\n",
    "\n",
    "Zauważmy tutaj \"strukturę suwaka\": Wyobraźmy sobie, że mamy drugą listę - zawierającą wartości indeksów pierwszej listy, a zatem `[0, 1, 2, 3, 4]`. Mamy więc dwie listy: `[0, 1, 2, 3, 4]` oraz `['Kacper', 'Ania', 'Bartek', 'Kamila', 'Basia']`. Powyższy wynik funkcji `enumerate` powstaje ze \"sparowania\" odpowiadających sobie elementów tych dwu list: `0` jest przypisane do `'Kacper'`, `1` do `'Ania'` itd. Jakbyśmy te dwie listy spinali ze sobą \"na suwak\".\n",
    "\n",
    "Do spinania list ze sobą \"na suwak\" służy funkcja - oczywiście! - `zip`. Daje ona z dwóch list o tej samej długości ciąg par, gdzie każda para to odpowiadające sobie elementy najpierw z pierwszej, potem z drugiej listy. (Znowu, aby ciąg ten przekształcić w listę, zastosujmy funkcję `list` do wyniku.)"
   ]
  },
  {
   "cell_type": "code",
   "execution_count": null,
   "metadata": {},
   "outputs": [],
   "source": [
    "zip( [ 0 , 1 , 2 , 3 , 4 ] , names )"
   ]
  },
  {
   "cell_type": "code",
   "execution_count": null,
   "metadata": {},
   "outputs": [],
   "source": [
    "list( zip( [ 0 , 1 , 2 , 3 , 4 ] , names ) )"
   ]
  },
  {
   "cell_type": "markdown",
   "metadata": {},
   "source": [
    "Spinać na suwak możemy oczywiście dowolne listy. (Listy powinny być tej samej długości - a jeżeli jedna z nich będzie krótsza, to druga zostanie obcięta do tej mniejszej długości!)"
   ]
  },
  {
   "cell_type": "code",
   "execution_count": null,
   "metadata": {},
   "outputs": [],
   "source": [
    "scores = [ 26.5 , 33.2 , 31.7 , 28.4 , 35.3 ]\n",
    "\n",
    "list( zip( names , scores ) ) # spinamy na suwak dwie listy: names i scores"
   ]
  },
  {
   "cell_type": "markdown",
   "metadata": {},
   "source": [
    "Po takiej liście par możemy iterować pętlą `for` dokładnie tak samo, jak w przypadku `enumerate`, tj. pamiętając, że iterujemy po kilku wartościach naraz."
   ]
  },
  {
   "cell_type": "code",
   "execution_count": null,
   "metadata": {},
   "outputs": [],
   "source": [
    "for name , score in zip( names , scores ):\n",
    "    print( f'{name} scored {score} points.' )"
   ]
  },
  {
   "cell_type": "markdown",
   "metadata": {},
   "source": [
    "Możemy tak \"spinać na suwak\" więcej niż dwie listy:"
   ]
  },
  {
   "cell_type": "code",
   "execution_count": null,
   "metadata": {},
   "outputs": [],
   "source": [
    "games_played = [ 2 , 4 , 4 , 3 , 6 ]\n",
    "\n",
    "list( zip( names , scores , games_played ) ) # spinamy na suwak trzy listy"
   ]
  },
  {
   "cell_type": "code",
   "execution_count": null,
   "metadata": {},
   "outputs": [],
   "source": [
    "for name , score , games in zip( names , scores , games_played ):\n",
    "    print( f'{name} scored {score} points, and played {games} games.' )"
   ]
  },
  {
   "cell_type": "markdown",
   "metadata": {},
   "source": [
    "<img style = 'float: left; margin-right: 10px; margin-bottom: 10px' src = 'Images/question.png'> Szybkie ćwiczenie 25: Użyj powyższych list `names`, `scores`, `games_played`.\n",
    "\n",
    "(a) Wydrukuj wszystkie imiona osób, które miały więcej niż 30 punktów.\n",
    "\n",
    "(b) Wydrukuj liczbę gier zagranych przez osoby, które miały mniej niż 30 punktów.\n",
    "\n",
    "(c) Wydrukuj wszystkie imiona osób, które miały mniej niż 32 punkty, ale zagrały więcej niż 2 gry."
   ]
  },
  {
   "cell_type": "code",
   "execution_count": null,
   "metadata": {},
   "outputs": [],
   "source": [
    "# szybkie ćwiczenie 25a - rozwiązanie\n",
    "\n"
   ]
  },
  {
   "cell_type": "code",
   "execution_count": null,
   "metadata": {},
   "outputs": [],
   "source": [
    "# szybkie ćwiczenie 25b - rozwiązanie\n",
    "\n"
   ]
  },
  {
   "cell_type": "code",
   "execution_count": null,
   "metadata": {},
   "outputs": [],
   "source": [
    "# szybkie ćwiczenie 25c - rozwiązanie\n",
    "\n"
   ]
  },
  {
   "cell_type": "markdown",
   "metadata": {},
   "source": [
    "### <a id=\"5.7\"></a>5.7. List comprehension"
   ]
  },
  {
   "cell_type": "markdown",
   "metadata": {},
   "source": [
    "Sekcję tę skończymy chyba najpiękniejszym 😀 i jednym z najbardziej użytecznych, najczęściej używanych w praktyce, elementem składni Pythona dotyczącym list - tzw. **list comprehension**.\n",
    "\n",
    "W skrócie, jest to bardzo zwięzła metoda tworzenia nowych list z list istniejących. I tylko o krok do niej od pętli `for`, które niejednokrotnie pisaliśmy w tej Lekcji - zauważmy, że często miały one następującą ogólną postać:\n",
    "```\n",
    "for item in lst:\n",
    "    if condition:\n",
    "        expression\n",
    "```\n",
    "Innymi słowy, iterujemy przez daną listę `lst`; jeśli aktualny element `item` spełnia zadany warunek logiczny `condition` (np. \"liczba jest podzielna przez 100\", \"słowo zaczyna się na literę `'a'`\" itp.), to wykonujemy pewne wyrażenie, pewną operację `expression` na elemencie `item`. (Warunek `condition` jest opcjonalny - czasem chcemy wykonać operacje na wszystkich elementach listy. Wówczas warunek ten pomijamy.)\n",
    "\n",
    "Możemy myśleć o tej pętli jako o _tworzeniu nowej listy_. Mianowicie, ta nowa lista będzie miała tyle elementów, ile przeszło przez \"sito\" warunku `condition`. Co więcej, element po przejściu \"sita\" poddawany jest jeszcze jakimś przekształceniom, zawartym w wyrażeniu `expression`."
   ]
  },
  {
   "cell_type": "markdown",
   "metadata": {},
   "source": [
    "Zobaczymy, jak to działa, na prostym przykładzie listy liczbowej, z której wybieramy tylko liczby ujemne i zmieniamy ich znak oraz mnożymy przez 100:"
   ]
  },
  {
   "cell_type": "code",
   "execution_count": null,
   "metadata": {},
   "outputs": [],
   "source": [
    "numbers = [ 10 , 30 , -15 , 25 , -20 , 5 ]"
   ]
  },
  {
   "cell_type": "code",
   "execution_count": null,
   "metadata": {},
   "outputs": [],
   "source": [
    "numbers_new = [] # \"pusty pojemnik\", do którego wrzucimy wybrane i przekształcone elementy\n",
    "for number in numbers: # iterujemy po liście...\n",
    "    if number < 0: # ... jeśli liczba jest ujemna...\n",
    "        number_new = - 100 * number # ... to odwróć jej znak i pomnóż przez 100\n",
    "        numbers_new += [ number_new ] # wynik \"wrzucamy\" do \"pojemnika\"\n",
    "\n",
    "numbers_new"
   ]
  },
  {
   "cell_type": "markdown",
   "metadata": {},
   "source": [
    "Powyższa ogólna pętla `for` z warunkiem może być dużo zwięźlej zapisana w postaci składni \"list comprehension\":\n",
    "\n",
    "`[ expression for item in lst if condition ]`\n",
    "\n",
    "Pierwszą rzeczą jest wzięcie całości w nawiasy kwadratowe - od razu sugeruje to, że wynikiem będzie jakaś lista! Wewnątrz nawiasów dzieje się natomiast następująca rzecz: \"wykonaj wyrażenie `expression` dla każdego elementu `item` z listy `lst` spełniającego warunek logiczny `condition`\". To tyle!\n",
    "\n",
    "Gdyby nie było żadnego warunku, ten ostatni element pomijamy:\n",
    "\n",
    "`[ expression for item in lst ]`"
   ]
  },
  {
   "cell_type": "markdown",
   "metadata": {},
   "source": [
    "W naszym przykładzie nową listę tworzymy zatem (bardzo zwięźle!) tak:"
   ]
  },
  {
   "cell_type": "code",
   "execution_count": null,
   "metadata": {},
   "outputs": [],
   "source": [
    "[ -100 * number for number in numbers if number < 0 ]"
   ]
  },
  {
   "cell_type": "markdown",
   "metadata": {},
   "source": [
    "... jako że nasze przekształcenie `expression` dokonywane na aktualnym elemencie `number` listy `numbers` to odwrócenie znaku i mnożenie przez 100, a więc `-100 * number`, natomiast warunek `condition` to aby aktualny element `number` był ujemy, tj. `number < 0`."
   ]
  },
  {
   "cell_type": "markdown",
   "metadata": {},
   "source": [
    "Inny przykład, bez instrukcji warunkowej: podnieśmy do kwadratu wszystkie elementy listy:"
   ]
  },
  {
   "cell_type": "code",
   "execution_count": null,
   "metadata": {},
   "outputs": [],
   "source": [
    "[ number ** 2 for number in numbers ]"
   ]
  },
  {
   "cell_type": "markdown",
   "metadata": {},
   "source": [
    "Z listy słów wybierzmy tylko te zawierające literę `'p'` i zapiszmy je w odwrotnej kolejności (przypomnij sobię składnię segmentów i jak użyliśmy jej do odwrócenia kolejności elementów listy!):"
   ]
  },
  {
   "cell_type": "code",
   "execution_count": null,
   "metadata": {},
   "outputs": [],
   "source": [
    "words"
   ]
  },
  {
   "cell_type": "code",
   "execution_count": null,
   "metadata": {},
   "outputs": [],
   "source": [
    "[ word[ ::-1 ] for word in words if 'p' in word ]"
   ]
  },
  {
   "cell_type": "markdown",
   "metadata": {},
   "source": [
    "Wyrażenia te są nie tylko zwięzłe i eleganckie - ale też bardzo przypominają język naturalny, dlatego też łatwo je pisać i czytać ze zrozumieniem."
   ]
  },
  {
   "cell_type": "markdown",
   "metadata": {},
   "source": [
    "<img style = 'float: left; margin-right: 10px; margin-bottom: 10px' src = 'Images/question.png'> Szybkie ćwiczenie 26: Z listy kolejnych liczb całkowitych od 10 do 100 wybierz tylko liczby podzielne przez 17 i podnieś je do trzeciej potęgi."
   ]
  },
  {
   "cell_type": "code",
   "execution_count": null,
   "metadata": {},
   "outputs": [],
   "source": [
    "# szybkie ćwiczenie 26 - rozwiązanie\n",
    "\n"
   ]
  },
  {
   "cell_type": "markdown",
   "metadata": {},
   "source": [
    "<img style = 'float: left; margin-right: 10px; margin-bottom: 10px' src = 'Images/question.png'> Szybkie ćwiczenie 27: Zdefiniuj zmienną o nazwie `n` i przypisz jej jakąś liczbę całkowitą, np. 100. Stwórz za pomocą \"list comprehension\" listę jej dzielników, a więc liczb całkowitych dodatnich i mniejszych od `n`, przez które `n` się dzieli. A więc dla `n = 100` byłoby to `[1, 2, 4, 5, 10, 20, 25, 50]`."
   ]
  },
  {
   "cell_type": "markdown",
   "metadata": {},
   "source": [
    "Wskazówka: Przypomnij sobie operator reszty z dzielenia `%`. Jeśli liczbę `n` podzielimy przez jej jakiś dzielnik, dostaniemy resztę zero, np. `100 % 50` jest równe 0."
   ]
  },
  {
   "cell_type": "code",
   "execution_count": null,
   "metadata": {},
   "outputs": [],
   "source": [
    "# szybkie ćwiczenie 27 - rozwiązanie\n",
    "\n"
   ]
  },
  {
   "cell_type": "markdown",
   "metadata": {},
   "source": [
    "<img style = 'float: left; margin-right: 10px; margin-bottom: 10px' src = 'Images/question.png'> Szybkie ćwiczenie 28: Przypomnij sobie zdefiniowane wcześniej listy `names`, `scores`, `games_played`, a także konstrukcję `zip` \"spinającą listy na suwak\". Rozwiąż ćwiczenia tam podane za pomocą \"list comprehension\", a więc:\n",
    "\n",
    "(a) Utwórz listę zawierającą wszystkie imiona osób, które miały więcej niż 30 punktów.\n",
    "\n",
    "(b) Utwórz listę zawierającą liczbę gier zagranych przez osoby, które miały mniej niż 30 punktów.\n",
    "\n",
    "(c) Utwórz listę zawierającą wszystkie imiona osób, które miały mniej niż 32 punkty, ale zagrały więcej niż 2 gry."
   ]
  },
  {
   "cell_type": "code",
   "execution_count": null,
   "metadata": {},
   "outputs": [],
   "source": [
    "# szybkie ćwiczenie 28a - rozwiązanie\n",
    "\n"
   ]
  },
  {
   "cell_type": "code",
   "execution_count": null,
   "metadata": {},
   "outputs": [],
   "source": [
    "# szybkie ćwiczenie 28b - rozwiązanie\n",
    "\n"
   ]
  },
  {
   "cell_type": "code",
   "execution_count": null,
   "metadata": {},
   "outputs": [],
   "source": [
    "# szybkie ćwiczenie 28c - rozwiązanie\n",
    "\n"
   ]
  },
  {
   "cell_type": "markdown",
   "metadata": {},
   "source": [
    "<img style = 'float: left; margin-right: 10px; margin-bottom: 10px' src = 'Images/question.png'> Szybkie ćwiczenie 29: Przypomnij sobie metodę list `count`, która zlicza, ile razy jakiś element `m` wystąpił w liście `lst`. Np. dla `lst = [7, 3, 2, 3, 8, 11, 2, 7, 7, 11, 4, 2, 8, 1]` i `m = 7` byłoby to 3 razy. Zapisz to za pomocą składni \"list comprehension\"."
   ]
  },
  {
   "cell_type": "markdown",
   "metadata": {},
   "source": [
    "Wskazówka: Przeiteruj się przez `lst` wybierając tylko elementy równe `m` (i nie przekształcając ich później w żaden sposób). Na koniec oblicz długość tej listy."
   ]
  },
  {
   "cell_type": "code",
   "execution_count": null,
   "metadata": {},
   "outputs": [],
   "source": [
    "# szybkie ćwiczenie 29 - rozwiązanie\n",
    "\n"
   ]
  },
  {
   "cell_type": "markdown",
   "metadata": {},
   "source": [
    "<img style = 'float: left; margin-right: 10px; margin-bottom: 10px' src = 'Images/question.png'> Szybkie ćwiczenie 30: Uogólnij powyższą funkcję `count` na funkcję, którą moglibyśmy nazwać `count_range`, a więc odpowiadającą na pytanie, ile jest elementów między danymi wartościami, np. `mn = 5` i `mx = 9`."
   ]
  },
  {
   "cell_type": "code",
   "execution_count": null,
   "metadata": {},
   "outputs": [],
   "source": [
    "# szybkie ćwiczenie 30 - rozwiązanie\n",
    "\n"
   ]
  },
  {
   "cell_type": "markdown",
   "metadata": {},
   "source": [
    "<img style = 'float: left; margin-right: 10px; margin-bottom: 10px' src = 'Images/question.png'> Szybkie ćwiczenie 31: Przypomnij sobie metodę `remove`, która usuwa z listy _pierwsze_ wystąpienie danego elementu `m`. Napisz uogólnienie tej metody za pomocą \"list comprehension\", które usuwa _wszystkie_ wystąpienia `m` w liście."
   ]
  },
  {
   "cell_type": "code",
   "execution_count": null,
   "metadata": {},
   "outputs": [],
   "source": [
    "# szybkie ćwiczenie 31 - rozwiązanie\n",
    "\n"
   ]
  },
  {
   "cell_type": "markdown",
   "metadata": {},
   "source": [
    "<img style = 'float: left; margin-right: 10px; margin-bottom: 10px' src = 'Images/question.png'> Szybkie ćwiczenie 32: Masz dany string, np. `jewels = 'aA'`, gdzie każda litera to rodzaj kamienia szlachetnego (myślmy o tym jako o kodzie: `'a'` to zakodowana nazwa diamentu, `'A'` szmaragdu itp.). Masz też string, np. `stones = 'caAbbcAAbabc'`, który opisuje rodzaje kamieni, jakie masz w posiadaniu; tylko część z nich jest szlachetna, mianowicie te, które występują w stringu `J` (tu masz więc 5 kamieni szlachetnych). Oblicz liczbę posiadanych kamieni szlachetnych za pomocą \"list comprehension\" (i na końcu funkcji `len`)."
   ]
  },
  {
   "cell_type": "code",
   "execution_count": null,
   "metadata": {},
   "outputs": [],
   "source": [
    "# szybkie ćwiczenie 32 - rozwiązanie\n",
    "\n"
   ]
  },
  {
   "cell_type": "markdown",
   "metadata": {},
   "source": [
    "<img style = 'float: left; margin-right: 10px; margin-bottom: 10px' src = 'Images/question.png'> Szybkie ćwiczenie 33: Lista cyfr danej liczby naturalnej.\n",
    "\n",
    "To jest bardzo przydatne ćwiczenie! Masz daną liczbę naturalną, np. `n = 5781`, a chcemy dostać listę jej cyfr, tj. `[5, 7, 8, 1]`.\n",
    "\n",
    "(Jest pewien trik, który tu można użyć, opisane we wskazówce poniżej - ale pomyśl najpierw samodzielnie: przyda się pewna konwersja typu...)"
   ]
  },
  {
   "cell_type": "markdown",
   "metadata": {},
   "source": [
    "Wskazówka: Następujący trik jest przydatny: Najpierw przekonwertujmy `n` na stringa `'5781'` za pomocą funkcji `str`. Napiszmy następnie \"list comprehension\" iterujące się po tym stringu - iterator będzie przyjmował więc kolejne wartości `'5'`, `'7'`, `'8'`, `'1'`. To już niemal to, co chcemy: musimy tylko każdy ten jednocyfrowy string przekonwertować z powrotem na liczbę za pomocą funkcji `int`."
   ]
  },
  {
   "cell_type": "code",
   "execution_count": null,
   "metadata": {},
   "outputs": [],
   "source": [
    "# szybkie ćwiczenie 33 - rozwiązanie\n",
    "\n"
   ]
  },
  {
   "cell_type": "markdown",
   "metadata": {},
   "source": [
    "### <a id=\"5.8\"></a>5.8. List comprehension - `if` - `else`"
   ]
  },
  {
   "cell_type": "markdown",
   "metadata": {},
   "source": [
    "Wiemy, że w instrukcjach warunkowych (`if`) możemy mieć też część `else`, czyli co się dzieje, jeśli dany warunek nie został spełniony. Możemy zawrzeć to w składni \"list comprehension\" w następujący sposób:\n",
    "\n",
    "`[ expression_1 if condition else expression_2 for item in lst ]`\n",
    "\n",
    "Zwróćmy uwagę, że instrukcja warunkowa `if` - `else` znajduje się tu _przed_ pętlą `for`, a nie po niej, jak w przypadkach bez `else`!"
   ]
  },
  {
   "cell_type": "code",
   "execution_count": 1,
   "metadata": {},
   "outputs": [],
   "source": [
    "numbers = [ 10 , 30 , -15 , 25 , -20 , 5 ]"
   ]
  },
  {
   "cell_type": "code",
   "execution_count": 4,
   "metadata": {},
   "outputs": [
    {
     "data": {
      "text/plain": [
       "[20, 60, -150, 50, -200, 10]"
      ]
     },
     "execution_count": 4,
     "metadata": {},
     "output_type": "execute_result"
    }
   ],
   "source": [
    "[ 2 * number if number > 0 else 10 * number for number in numbers ] # jeśli liczba jest dodatnia, pomnóż ją przez 2, a jeśli nie, to przez 10"
   ]
  },
  {
   "cell_type": "markdown",
   "metadata": {},
   "source": [
    "<img style = 'float: left; margin-right: 10px; margin-bottom: 10px' src = 'Images/question.png'> Szybkie ćwiczenie 34: Zdefiniuj listy `foods = ['apple', 'chocolate', 'banana', 'cabbage', 'cookie', 'cauliflower']` oraz `forbidden_foods = ['chocolate', 'cookie']`. Zmień listę `foods` w listę zawierającą jej elementy, ale jeśli miałby to być element należący także do listy `forbidden_foods`, zamień go na string `'not healthy!'`; innymi słowy, ma powstać lista `['apple', 'not healthy!', 'banana', 'cabbage', 'not healthy!', 'cauliflower']`."
   ]
  },
  {
   "cell_type": "code",
   "execution_count": null,
   "metadata": {},
   "outputs": [],
   "source": [
    "# szybkie ćwiczenie 34 - rozwiązanie\n",
    "\n"
   ]
  },
  {
   "cell_type": "markdown",
   "metadata": {},
   "source": [
    "### <a id=\"5.9\"></a>5.9. List comprehension - zagnieżdżone pętle"
   ]
  },
  {
   "cell_type": "markdown",
   "metadata": {},
   "source": [
    "Wspomnijmy tu jeszcze o innych sposobach na użycie \"list comprehension\". Po pierwsze, nic nie stoi na przeszkodzie, aby mieć wielokrotne, zagnieżdżone w sobie pętle (\"nested loops\"). A więc np.:\n",
    "```\n",
    "for item_1 in list_1:\n",
    "    for item_2 in list_2:\n",
    "        expression\n",
    "```\n",
    "zapisalibyśmy jako:\n",
    "```\n",
    "[ expression for item_1 in list_1 for item_2 in list_2 ]\n",
    "```\n",
    "gdzie kolejność instrukcji `for` jest od lewej do prawej. Jest to więc identyczna składnia, jak wcześniej, z tym że mamy kilka pętli `for` pisanych jedna po drugiej od lewej do prawej.\n",
    "\n",
    "Możemy w każdej pętli dodać warunki, np.:\n",
    "```\n",
    "for item_1 in list_1:\n",
    "    if condition_1:\n",
    "        for item_2 in list_2:\n",
    "            if condition_2:\n",
    "                expression\n",
    "```\n",
    "zapisalibyśmy jako:\n",
    "```\n",
    "[ expression for item_1 in list_1 if condition_1 for item_2 in list_2 if condition_2 ]\n",
    "```"
   ]
  },
  {
   "cell_type": "markdown",
   "metadata": {},
   "source": [
    "Dla przykładu, spróbujmy znaleźć elementy wspólne dwóch list. W tym celu musimy przeiterować się przez obie listy - pętla zagnieżdzona - i wybrać tylko równe sobie elementy."
   ]
  },
  {
   "cell_type": "code",
   "execution_count": 5,
   "metadata": {},
   "outputs": [
    {
     "name": "stdout",
     "output_type": "stream",
     "text": [
      "-1\n",
      "3\n"
     ]
    }
   ],
   "source": [
    "a_list = [ 7 , -1 , 12 , 3 , 5 , 14 , 21 ]\n",
    "b_list = [ 4 , -1 , 3 , 8 ]\n",
    "\n",
    "for a in a_list:\n",
    "    for b in b_list:\n",
    "        if a == b:\n",
    "            print( a )"
   ]
  },
  {
   "cell_type": "markdown",
   "metadata": {},
   "source": [
    "... i to samo w postaci \"list comprehension\":"
   ]
  },
  {
   "cell_type": "code",
   "execution_count": 6,
   "metadata": {},
   "outputs": [
    {
     "data": {
      "text/plain": [
       "[-1, 3]"
      ]
     },
     "execution_count": 6,
     "metadata": {},
     "output_type": "execute_result"
    }
   ],
   "source": [
    "[ a for a in a_list for b in b_list if a == b ]"
   ]
  },
  {
   "cell_type": "markdown",
   "metadata": {},
   "source": [
    "Ciekawym zastosowaniem \"list comprehension\" z zagnieżdżonymi pętlami jest **wypłaszczanie** (\"flattening\") listy list. Jak pamiętamy, elementy listy mogą być dowolnego typu, w szczególności same mogą być listami. Zdarza się, że chcielibyśmy wziąć taką listę list i przekształcić ją w listę pojedynczych elementów, np.:\n",
    "\n",
    "`[ [ 5 , 3 ] , [ 1 , -4 , -8 ] , [ -7 , 16 ] , [ 0 , 10 , 23 , 11 , -9 ] ]`\n",
    "\n",
    "zmienić w:\n",
    "\n",
    "`[ 5 , 3 , 1 , -4 , -8 , -7 , 16 , 0 , 10 , 23 , 11 , -9 ]`\n",
    "\n",
    "Można zrobić to zagnieżdżonymi pętlami: najpierw iterujemy po pod-listach listy wyjściowej, a następnie iterujemy po aktualnej pod-liście:"
   ]
  },
  {
   "cell_type": "code",
   "execution_count": 7,
   "metadata": {},
   "outputs": [],
   "source": [
    "list_of_lists = [ [ 5 , 3 ] , [ 1 , -4 , -8 ] , [ -7 , 16 ] , [ 0 , 10 , 23 , 11 , -9 ] ]"
   ]
  },
  {
   "cell_type": "markdown",
   "metadata": {},
   "source": [
    "Zobaczmy najpierw, co robi pierwsza pętla, po pod-listach:"
   ]
  },
  {
   "cell_type": "code",
   "execution_count": 8,
   "metadata": {},
   "outputs": [
    {
     "name": "stdout",
     "output_type": "stream",
     "text": [
      "[5, 3]\n",
      "[1, -4, -8]\n",
      "[-7, 16]\n",
      "[0, 10, 23, 11, -9]\n"
     ]
    }
   ],
   "source": [
    "for sublist in list_of_lists: # iterujemy po pod-listach\n",
    "    print( sublist )"
   ]
  },
  {
   "cell_type": "markdown",
   "metadata": {},
   "source": [
    "... i rzeczywiście, elementami listy `list_of_lists` są inne listy i tutaj je wydrukowaliśmy."
   ]
  },
  {
   "cell_type": "markdown",
   "metadata": {},
   "source": [
    "Iterując po pod-listach, mamy aktualną pod-listę `sublist`. Teraz chcemy iterować po jej elementach i te elementy wrzucać do (zainicjowanego wcześniej) \"pustego pojemnika\":"
   ]
  },
  {
   "cell_type": "code",
   "execution_count": 9,
   "metadata": {},
   "outputs": [
    {
     "data": {
      "text/plain": [
       "[5, 3, 1, -4, -8, -7, 16, 0, 10, 23, 11, -9]"
      ]
     },
     "execution_count": 9,
     "metadata": {},
     "output_type": "execute_result"
    }
   ],
   "source": [
    "list_of_lists_flattened = [] # \"pusty pojemnik\"\n",
    "\n",
    "for sublist in list_of_lists: # iterujemy po pod-listach\n",
    "    for item in sublist: # iterujemy po elementach aktualnej pod-listy sublist\n",
    "        list_of_lists_flattened += [ item ] # wrzucamy ten element do \"pojemnika\"\n",
    "\n",
    "list_of_lists_flattened"
   ]
  },
  {
   "cell_type": "markdown",
   "metadata": {},
   "source": [
    "Ta sama operacja w formie \"list comprehension\" (zauważ, że nie ma tutaj żadnego warunku) to po prostu:"
   ]
  },
  {
   "cell_type": "code",
   "execution_count": 11,
   "metadata": {},
   "outputs": [
    {
     "data": {
      "text/plain": [
       "[0, 0, 0, 0, 10, 10, 10, 10, 23, 23, 23, 23, 11, 11, 11, 11, -9, -9, -9, -9]"
      ]
     },
     "execution_count": 11,
     "metadata": {},
     "output_type": "execute_result"
    }
   ],
   "source": [
    "[ item for item in sublist for sublist in list_of_lists ]"
   ]
  },
  {
   "cell_type": "markdown",
   "metadata": {},
   "source": [
    "Piękniej się chyba nie da. 😀"
   ]
  },
  {
   "cell_type": "markdown",
   "metadata": {},
   "source": [
    "## <a id=\"6\"></a>6. (*) Transformacje list - programowanie funkcyjne"
   ]
  },
  {
   "cell_type": "markdown",
   "metadata": {},
   "source": [
    "<img style = 'float: right; margin-left: 10px; margin-bottom: 10px' src = 'Images/function.png' width = '400px'>\n",
    "\n",
    "Mając listę, zwykle chcielibyśmy coś z nią zrobić! Nauczyliśmy się już, jak modyfikować listy poprzez zmianę wartości ich elementów, poprzez dodawanie/usuwanie elementów z listy, a także jak tworzyć nowe listy poprzez bardzo efektywną (i efektowną!) składnię \"list comprehension\".\n",
    "\n",
    "W tej opcjonalnej sekcji zajemiemy się trzema konkretnymi, choć bardzo ogólnymi, klasami operacji, jakie moglibyśmy na listach przeprowadzać. Mieszczą się one w paradygmacie tzw. **programowania funkcyjnego** (\"functional programming\"); paradygmat ten każe traktować program komputerowy jako serię obliczeń matematycznych **funkcji** (\"function\") - a funkcję możemy wyobrazić sobie jako \"maszynkę\", do której z jednej strony wrzucamy różne \"składniki\"/argumenty, na których \"maszynka\"/funkcja przeprowadza rozmaite operacje, aby z drugiej strony zwrócić \"gotowy produkt\"/rezultat.\n",
    "\n",
    "O funkcjach będziemy uczyć się w Lekcjach 9-10.\n",
    "\n",
    "Te trzy klasy operacji są następujące:\n",
    "\n",
    "1. Z danej listy chcielibyśmy uzyskać - poprzez kombinację jej elementów - jedną wartość, która jakoś tę listę opisuje. Może być to np. suma wszystkich elementów listy, liczba jej elementów itp. Mówimy, że **redukujemy** listę do jednej wartości; w Pythonie wiąże się z tym słowo kluczowe `reduce`.\n",
    "\n",
    "2. Każdy elemeny danej listy moglibyśmy poddać najróżniejszym przekształceniom funkcyjnym, otrzymując w wyniku inną listę tej samej długości, gdzie każdy element powstał w wyniku przekształcenia odpowiedniego elementu oryginalnej listy. Np. chcemy każdy element listy liczbowej podnieść do kwadratu; lub też każdy element listy słów przekształcić na wielkie litery; itp. Tutaj **mapujemy/przekształcamy** każdy element w inny element; słowo kluczowe to `map`.\n",
    "\n",
    "3. Chcemy z danej listy wybrać pod-listę elementów, spełniających zadane kryteria. Np. wybrać tylko liczby parzyste z listy liczb całkowitych; lub też słowa zaczynające się z wielkiej litery z listy słów. Tutaj **filtrujemy** elementy przez zadane \"sito\"; powiązane słowo kluczowe to `filter`."
   ]
  },
  {
   "cell_type": "markdown",
   "metadata": {},
   "source": [
    "### <a id=\"6.1\"></a>6.1. Wstęp: funkcje `lambda`"
   ]
  },
  {
   "cell_type": "markdown",
   "metadata": {},
   "source": [
    "O funkcjach w Pythonie będziemy dopiero się uczyć (Lekcje 9-10), ale skoro już teraz chcemy stosować przekształcenia funkcyjne do list, musimy zapoznać się choćby z najprostszym rodzajem funkcji, tzw. **funkcjami lambda** (\"lambda functions\").\n",
    "\n",
    "Funkcja lambda to najprostsza \"maszynka\", do której wrzucamy \"składniki\"/**argumenty** (\"arguments\"), na których owa \"maszynka\" przeprowadza tylko jedno obliczenie - dane pewnym matematycznym **wyrażeniem** (\"expression\") - i zwraca jego **rezultat** (\"result\"). Składnia jest następująca:\n",
    "\n",
    "`lambda arguments : expression`\n",
    "\n",
    "Np. funkcja lambda, która ma dwa argumenty liczbowe `x` i `y`, a która zwraca ich sumę `x + y`, wygląda następująco:\n",
    "\n",
    "`lambda x , y : x + y`"
   ]
  },
  {
   "cell_type": "code",
   "execution_count": null,
   "metadata": {},
   "outputs": [],
   "source": [
    "f = lambda x , y : x + y # definiujemy f jako funkcję lambda obliczającą sumę (x + y) jej dwóch argumentów x, y"
   ]
  },
  {
   "cell_type": "markdown",
   "metadata": {},
   "source": [
    "... natomiast funckję wywołujemy poprzez podanie jej argumentów w nawiasach okrągłych, czyli dokładnie tak samo, jak w funkcjach matematycznych:"
   ]
  },
  {
   "cell_type": "code",
   "execution_count": null,
   "metadata": {},
   "outputs": [],
   "source": [
    "f( 3 , 4 ) # argumenty podane do funkcji w nawiasach okrągłych"
   ]
  },
  {
   "cell_type": "markdown",
   "metadata": {},
   "source": [
    "Podobnie, funkcja lambda z jednym argumentem liczbowym, podnosząca ten argument do kwadratu:"
   ]
  },
  {
   "cell_type": "code",
   "execution_count": null,
   "metadata": {},
   "outputs": [],
   "source": [
    "f1 = lambda x : x ** 2 # funkcja lambda z jednym argumentem x, podnosząca x do kwadratu"
   ]
  },
  {
   "cell_type": "code",
   "execution_count": null,
   "metadata": {},
   "outputs": [],
   "source": [
    "f1( 9 ) # argumenty podane do funkcji w nawiasach okrągłych"
   ]
  },
  {
   "cell_type": "markdown",
   "metadata": {},
   "source": [
    "Wyrażenie w funkcji lambda, mimo jego krótkiej postaci, może wykonywać najróżniejsze zadania. Przypomnijmy sobie np., że w Pythonie mając zmienną liczbową `x`, wyrażenie `x > 0` ma wartość logiczną prawda/fałsz (`True`/`False`) w zależności, czy `x` jest dodatnia, czy nie."
   ]
  },
  {
   "cell_type": "code",
   "execution_count": null,
   "metadata": {},
   "outputs": [],
   "source": [
    "x = -2.3\n",
    "\n",
    "x > 0"
   ]
  },
  {
   "cell_type": "markdown",
   "metadata": {},
   "source": [
    "Chcąc zatem napisać funkcję lambda, która przyjmuje jeden argument liczbowy `x` i zwraca wartość logiczną prawda/fałsz odpowiadającą na pytanie \"czy `x > 0`?\", piszemy po prostu:"
   ]
  },
  {
   "cell_type": "code",
   "execution_count": null,
   "metadata": {},
   "outputs": [],
   "source": [
    "f2 = lambda x : x > 0 # funkcja lambda z jednym argumentem x, zwracająca wartość logiczną wyrażenia (x > 0)"
   ]
  },
  {
   "cell_type": "code",
   "execution_count": null,
   "metadata": {},
   "outputs": [],
   "source": [
    "f2( -7.5 ) # argumenty podane do funkcji w nawiasach okrągłych"
   ]
  },
  {
   "cell_type": "markdown",
   "metadata": {},
   "source": [
    "Uczyliśmy się już o instrukcjach warunkowych (Lekcja 3). Możemy te instrukcje również zawierać w treści wyrażenia funkcji lambda. Np. funkcja lambda przyjmująca dwa argumenty liczbowe `x` i `y` i zwracająca większą z nich, powinna obliczyć wyrażenie: `x` jeśli `x > y`, lub `y` w przeciwnym wypadku (tj. jeśli `x <= y`)."
   ]
  },
  {
   "cell_type": "code",
   "execution_count": null,
   "metadata": {},
   "outputs": [],
   "source": [
    "f3 = lambda x , y : x if x > y else y # funkcja lambda z dwoma argumentami x, y, zwracająca x jeśli x > y oraz y w przeciwnym razie"
   ]
  },
  {
   "cell_type": "code",
   "execution_count": null,
   "metadata": {},
   "outputs": [],
   "source": [
    "f3( 5 , 8 ) # argumenty podane do funkcji w nawiasach okrągłych"
   ]
  },
  {
   "cell_type": "markdown",
   "metadata": {},
   "source": [
    "Na pewno rzuciła ci się w oczy _zwartość_ tych wyrażeń - i ich elegancja! To jest właśnie wielka zaleta Pythona - możliwość bardzo zwięzłego zapisywania operacji, które chce się przeprowadzić."
   ]
  },
  {
   "cell_type": "markdown",
   "metadata": {},
   "source": [
    "<img style = 'float: left; margin-right: 10px; margin-bottom: 10px' src = 'Images/question.png'> Szybkie ćwiczenie 35:\n",
    "\n",
    "(a) Napisz funkcję lambda z jednym argumentem typu string, która zwraca jego pierwszy znak.\n",
    "\n",
    "(b) Napisz funkcję lambda z jednym argumentem typu string, która zwraca wartość logiczną `True` jeśli ostatni znak argumentu to `'s'`."
   ]
  },
  {
   "cell_type": "code",
   "execution_count": null,
   "metadata": {},
   "outputs": [],
   "source": [
    "# szybkie ćwiczenie 35a - rozwiązanie\n",
    "\n"
   ]
  },
  {
   "cell_type": "code",
   "execution_count": null,
   "metadata": {},
   "outputs": [],
   "source": [
    "# szybkie ćwiczenie 35b - rozwiązanie\n",
    "\n"
   ]
  },
  {
   "cell_type": "markdown",
   "metadata": {},
   "source": [
    "### <a id=\"6.2\"></a>6.2. Redukowanie list"
   ]
  },
  {
   "cell_type": "markdown",
   "metadata": {},
   "source": [
    "Wróćmy do tematu list. Wiele operacji na listach ma formę **redukcji**, gdzie chcemy z listy wyciągnąć pojedynczą wartość jakoś tę listę opisującą, np. długość listy, sumę jej elementów, wartość największą (maksimum), medianę itp."
   ]
  },
  {
   "cell_type": "markdown",
   "metadata": {},
   "source": [
    "#### <a id=\"6.2_b1\"></a>Redukowanie poprzez użycie pętli"
   ]
  },
  {
   "cell_type": "markdown",
   "metadata": {},
   "source": [
    "Najprostszym podejściem do tematu byłoby przejść przez daną listę od początku do końca, przez każdy jej element - czyli przeiterować się np. pętlą `for` - i element po elemencie konstruować żądany rezultat. Np. aby obliczyć sumę wszystkich elementów listy, możemy iść przez listę krok po kroku i kolejno dodawać do siebie elementy: zaczynamy od pierwszego, do niego dodajemy drugi; do wyniku tej sumy dodajemy trzeci; itd."
   ]
  },
  {
   "cell_type": "markdown",
   "metadata": {},
   "source": [
    "Znamy to już dobrze: Zdefiniujmy zmienną `total_sum` z wartością początkową zero. Następnie iterujmy się przez listę, idąc element po elemencie, i każdorazowo dodając kolejny element do zmiennej `total_sum`. Po przejściu w ten sposób całej listy, `total_sum` będzie równe sumie wszystkich jej elementów."
   ]
  },
  {
   "cell_type": "code",
   "execution_count": null,
   "metadata": {},
   "outputs": [],
   "source": [
    "numbers"
   ]
  },
  {
   "cell_type": "code",
   "execution_count": null,
   "metadata": {},
   "outputs": [],
   "source": [
    "# suma wszystkich elementów listy poprzez pętlę for\n",
    "\n",
    "total_sum = 0\n",
    "for number in numbers: # iterujemy listę\n",
    "    total_sum += number # skrótowe zapisanie przypisania total_sum = total_sum + number\n",
    "\n",
    "total_sum"
   ]
  },
  {
   "cell_type": "markdown",
   "metadata": {},
   "source": [
    "Zmienna `total_sum` akumuluje sumę elementów w miarę jak pętla się wykonuje - zmienną taką nazywa się **zmienną kumulującą** (\"accumulator\")."
   ]
  },
  {
   "cell_type": "markdown",
   "metadata": {},
   "source": [
    "Inny przykład: Chcąc obliczyć liczbę elementów listy, możemy znów iterować się przez listę używając pętli `for`, za każdym krokiem dodając do zmiennej kumulującej 1:"
   ]
  },
  {
   "cell_type": "code",
   "execution_count": null,
   "metadata": {},
   "outputs": [],
   "source": [
    "# liczba elementów listy poprzez pętlę for\n",
    "\n",
    "total_len = 0\n",
    "for number in numbers:\n",
    "    total_len += 1\n",
    "\n",
    "total_len"
   ]
  },
  {
   "cell_type": "markdown",
   "metadata": {},
   "source": [
    "Gdybyśmy chcieli uzyskać maksymalną wartość znajdującą się w liście, musimy dodać jeszcze instrukcję warunkową: zainicjujmy zmienną `maximum` jako pierwszy element listy i iterujmy przez listę, za każdym razem sprawdzając, czy kolejny element jest większy od obecnej wartości (w którym to przypadku przypiszmy go do zmiennej `maximum`), czy też (wówczas nie róbmy nic w danym kroku iteracji)."
   ]
  },
  {
   "cell_type": "code",
   "execution_count": null,
   "metadata": {},
   "outputs": [],
   "source": [
    "# maksimum poprzez pętlę for\n",
    "\n",
    "maximum = numbers[ 0 ]\n",
    "for number in numbers: # moglibyśmy zacząć iterować listę od jej drugiego elementu, tj. numbers[ 1: ]\n",
    "    if number > maximum:\n",
    "        maximum = number\n",
    "\n",
    "maximum"
   ]
  },
  {
   "cell_type": "markdown",
   "metadata": {},
   "source": [
    "#### <a id=\"6.2_b2\"></a>Wbudowane funkcje działające na listach"
   ]
  },
  {
   "cell_type": "markdown",
   "metadata": {},
   "source": [
    "Tak standardowe operacje są oczywiście wbudowane w standardową bibliotekę Pythona i nikt nie musi pisać pętli, aby obliczać sumę elementów listy liczbowej! (Natomiast jest to bardzo dobre ćwiczenie, aby zapoznać się z działaniem pętli `for`!) A więc mamy np. takie wbudowane funkcje - `sum`, `len`, `max`, `min` - które jako argument przyjmują całą listę i zwracają jedną wartość liczbową:"
   ]
  },
  {
   "cell_type": "code",
   "execution_count": null,
   "metadata": {},
   "outputs": [],
   "source": [
    "len( numbers ) # długość listy"
   ]
  },
  {
   "cell_type": "code",
   "execution_count": null,
   "metadata": {},
   "outputs": [],
   "source": [
    "sum( numbers ) # suma elementów listy"
   ]
  },
  {
   "cell_type": "code",
   "execution_count": null,
   "metadata": {},
   "outputs": [],
   "source": [
    "max( numbers ) # największy element listy"
   ]
  },
  {
   "cell_type": "code",
   "execution_count": null,
   "metadata": {},
   "outputs": [],
   "source": [
    "min( numbers ) # najmniejszy element listy"
   ]
  },
  {
   "cell_type": "markdown",
   "metadata": {},
   "source": [
    "#### <a id=\"6.2_b3\"></a>`reduce`"
   ]
  },
  {
   "cell_type": "markdown",
   "metadata": {},
   "source": [
    "Powyższe operacje zaliczają się do następującej ogólnej klasy:\n",
    "\n",
    "Mamy funkcję o _dwóch_ argumentach, np. funkcję `lambda x , y : x + y`.\n",
    "\n",
    "Tę funkcję stosujemy iteracyjnie do naszej listy w następujący sposób:\n",
    "\n",
    "1. Na początku, stosujemy ją do elementu pierwszego i drugiego, co zwraca pewną wartość.\n",
    "\n",
    "2. W kolejnym kroku stosujemy ją do tejże zwróconej wartości i do elementu trzeciego. Itd.\n",
    "\n",
    "Biorąc za przykład wspomnianą sumę dwóch liczb, obliczenie sumy wszystkich elementów listy w opisany tu sposób przyjęłoby formę:\n",
    "\n",
    "`( ( ( ( ( 10 + 30 ) + 15 ) + 25 ) + 20 ) + 5)`\n",
    "\n",
    "Możemy zrobić to za pomocą pętli `for`, a w przypadku standardowych operacji także za pomocą wbudowanej funkcji. Ogólnie natomiast służy do tego funkcja `reduce`, o następującej składni:\n",
    "\n",
    "`reduce( function_two_args , sequence )`\n",
    "\n",
    "która w opisany powyżej sposób stosuję funkcję dwu-argumentową `function_two_args` do listy `sequence`."
   ]
  },
  {
   "cell_type": "markdown",
   "metadata": {},
   "source": [
    "Uwaga techniczna: Python występuje w dwóch wersjach: 2 i 3. Wersja 2 przestała być wspierana [1 stycznia 2020](https://pythonclock.org/). Cały nowoczesny kod pisany jest zatem w Pythonie w wersji 3.\n",
    "\n",
    "W Pythonie w wersji 2 `reduce` było częścią biblioteki standardowej; w Pythonie 3 należy je natomiast zaimportować z modułu `functools`:"
   ]
  },
  {
   "cell_type": "code",
   "execution_count": null,
   "metadata": {},
   "outputs": [],
   "source": [
    "from functools import reduce"
   ]
  },
  {
   "cell_type": "markdown",
   "metadata": {},
   "source": [
    "... i dopiero po takim zaimportowaniu możemy funkcji `reduce` używać."
   ]
  },
  {
   "cell_type": "markdown",
   "metadata": {},
   "source": [
    "Obliczenie sumy wszystkich elementów listy ma teraz bardzo krótką formę, gdzie wykorzystamy napisaną przez nas już wcześniej funkcję `lambda x , y : x + y`:"
   ]
  },
  {
   "cell_type": "code",
   "execution_count": null,
   "metadata": {},
   "outputs": [],
   "source": [
    "reduce( lambda x , y : x + y , numbers )"
   ]
  },
  {
   "cell_type": "markdown",
   "metadata": {},
   "source": [
    "<img style = 'float: left; margin-right: 10px; margin-bottom: 10px' src = 'Images/question.png'> Szybkie ćwiczenie 36: Znajdź minimum listy liczbowej poprzez technikę `reduce`."
   ]
  },
  {
   "cell_type": "code",
   "execution_count": null,
   "metadata": {},
   "outputs": [],
   "source": [
    "# szybkie ćwiczenie 36 - rozwiązanie\n",
    "\n"
   ]
  },
  {
   "cell_type": "markdown",
   "metadata": {},
   "source": [
    "### <a id=\"6.3\"></a>6.3. Mapowanie list"
   ]
  },
  {
   "cell_type": "markdown",
   "metadata": {},
   "source": [
    "Ta klasa operacji polega na przechodzeniu krok po kroku przez całą listę i aplikowanie do każdego jej elementu funkcji o jednym argumencie. Efektem jest nowa lista, o tej samej długości, co lista stara, ale gdzie każdy element jest przekształcony (\"przemapowany\") w nowy element. Możemy np. chcieć podnieść do kwadratu każdy element listy liczbowej."
   ]
  },
  {
   "cell_type": "markdown",
   "metadata": {},
   "source": [
    "#### <a id=\"6.3_b1\"></a>Mapowanie poprzez użycie pętli"
   ]
  },
  {
   "cell_type": "markdown",
   "metadata": {},
   "source": [
    "Naturalne podejście do problemu ponownie polega na użyciu pętli `for`. Tym razem jednak nasza zmienna kumulująca sama jest listą - zaczniemy od listy pustej, czyli od \"pustego pojemnika\", do którego będziemy sukcesywnie wrzucać rezultaty działania naszej 1-argumentowej funkcji na kolejne elementy starej listy.\n",
    "\n",
    "Przypomnijmy sobie jeszcze, jak do istniejącej listy \"wrzucamy\"/dodajemy nowe elementy: możemy użyć albo metody `append`, albo też operatora `+`."
   ]
  },
  {
   "cell_type": "code",
   "execution_count": null,
   "metadata": {},
   "outputs": [],
   "source": [
    "# nowa lista powstała z podniesienia do kwadratu wszystkich elementów danej listy, poprzez pętlę for\n",
    "\n",
    "numbers_squared = [] # inicjujejmy pustą listę, do której dodawać będziemy kolejne kwadraty liczb ze starej listy\n",
    "for number in numbers: # iterujemy listę\n",
    "    numbers_squared.append( number ** 2 ) # albo inaczej: numbers_squared += [ number ** 2 ]\n",
    "\n",
    "numbers_squared"
   ]
  },
  {
   "cell_type": "markdown",
   "metadata": {},
   "source": [
    "Jako wynik dostaliśmy zatem listę tej samej długości, co lista wyjściowa, ale gdzie każdy element jest podniesiony do kwadratu."
   ]
  },
  {
   "cell_type": "markdown",
   "metadata": {},
   "source": [
    "#### <a id=\"6.3_b2\"></a>`map`"
   ]
  },
  {
   "cell_type": "markdown",
   "metadata": {},
   "source": [
    "Analogicznie do funkcji `reduce`, mamy funkcję `map`, o identycznej składni:\n",
    "\n",
    "`map( function_one_arg , sequence )`\n",
    "\n",
    "która przechodzi przez listę `sequence` is aplikuję 1-argumentową funkcję `function_one_arg` do każdego jej elementu, zwracając tak zmodyfikowaną listę."
   ]
  },
  {
   "cell_type": "markdown",
   "metadata": {},
   "source": [
    "Nauczyliśmy się już, jak pisać proste funkcje lambda; napisaliśmy też w szczególności funkcję podnoszącą swój argument do kwadratu. A zatem możemy po prostu wykonać:"
   ]
  },
  {
   "cell_type": "code",
   "execution_count": null,
   "metadata": {},
   "outputs": [],
   "source": [
    "map( lambda x : x ** 2 , numbers )"
   ]
  },
  {
   "cell_type": "markdown",
   "metadata": {},
   "source": [
    "Zaraz, zaraz... co tu się stało? Otóż jest jeszcze jeden detal: `map` nie zwraca listy samo z siebie - zwraca iterator; podobne zachowanie widzieliśmy przy okazji funkcji `enumerate` oraz `zip`. Aby przekształcić go w listę, potrzebujemy użyć funkcji `list`, która konwertuje jego typ na dobrze nam znaną listę."
   ]
  },
  {
   "cell_type": "code",
   "execution_count": null,
   "metadata": {},
   "outputs": [],
   "source": [
    "list( map( lambda x : x ** 2 , numbers ) )"
   ]
  },
  {
   "cell_type": "markdown",
   "metadata": {},
   "source": [
    "Jako kolejny przykład weźmy listę słów:"
   ]
  },
  {
   "cell_type": "code",
   "execution_count": null,
   "metadata": {},
   "outputs": [],
   "source": [
    "words"
   ]
  },
  {
   "cell_type": "markdown",
   "metadata": {},
   "source": [
    "Przypomnijmy sobie, że piękną cechą Pythona jest to, że wiele z poznanych do tej pory operacji na listach można stosować też do stringów - np. wybierać segmenty znaków używając nawiasów kwadratowych i składni segmentów `start_index : stop_index : step`; używać wbudowanych funkcji typu `len`. Np.:"
   ]
  },
  {
   "cell_type": "code",
   "execution_count": null,
   "metadata": {},
   "outputs": [],
   "source": [
    "'computer'[ 2:5 ]"
   ]
  },
  {
   "cell_type": "code",
   "execution_count": null,
   "metadata": {},
   "outputs": [],
   "source": [
    "len( 'computer' )"
   ]
  },
  {
   "cell_type": "markdown",
   "metadata": {},
   "source": [
    "Wracając do naszej listy stringów, powiedzmy, że chcemy otrzymać z niej listę tej samej długości, gdzie każdy nowy element byłby liczbą stanowiącą długość słowa w starej liście. Innymi słowy, chcemy zastosować funkcję `len` do każdego słowa w liście - co naturalnie wykonujemy poprzez `map`:"
   ]
  },
  {
   "cell_type": "code",
   "execution_count": null,
   "metadata": {},
   "outputs": [],
   "source": [
    "list( map( len , words ) )"
   ]
  },
  {
   "cell_type": "markdown",
   "metadata": {},
   "source": [
    "<img style = 'float: left; margin-right: 10px; margin-bottom: 10px' src = 'Images/question.png'> Szybkie ćwiczenie 37: A co gdybyśmy chcieli otrzymać nową listę słów z listy `words`, gdzie każde nowe słowo powstało z napisania starego słowa wspak?\n",
    "\n",
    "(Rozwiązanie poniżej - spróbuj najpierw samodzielnie!)"
   ]
  },
  {
   "cell_type": "code",
   "execution_count": null,
   "metadata": {},
   "outputs": [],
   "source": [
    "# szybkie ćwiczenie 37 - rozwiązanie\n",
    "\n"
   ]
  },
  {
   "cell_type": "markdown",
   "metadata": {},
   "source": [
    "Rozwiązanie: Przypomnijmy sobie, jak odwracaliśmy kolejność elementów listy używając notacji segmentów: `[ ::-1 ]`, co oznaczało przejście od końca do początku listy w krokach co 1 wspak."
   ]
  },
  {
   "cell_type": "code",
   "execution_count": null,
   "metadata": {},
   "outputs": [],
   "source": [
    "'computer'[ ::-1 ]"
   ]
  },
  {
   "cell_type": "markdown",
   "metadata": {},
   "source": [
    "Innymi słowy, chcielibyśmy do każdego stringu w naszej liście `words` zastosować następującą funkcję - miałaby ona jeden argument o typie string, nazwijmy go `word`, i zwracała następujące jego przekształcenie: `word[ ::-1 ]`, czyli słowo to napisane wspak. Już wiemy, że takie proste funkcje najlepiej zapisać w notacji lambda:\n",
    "\n",
    "`lambda word : word[ ::-1 ]`\n",
    "\n",
    "Tę 1-argumentową funkcję następnie umieszczamy w funkcji `map`:"
   ]
  },
  {
   "cell_type": "code",
   "execution_count": null,
   "metadata": {},
   "outputs": [],
   "source": [
    "list( map( lambda word : word[ ::-1 ] , words ) )"
   ]
  },
  {
   "cell_type": "markdown",
   "metadata": {},
   "source": [
    "#### <a id=\"6.3_b3\"></a>Mapowanie poprzez \"list comprehension\""
   ]
  },
  {
   "cell_type": "markdown",
   "metadata": {},
   "source": [
    "Zwróćmy uwagę, że wszystkie takie operacje mapowania możemy zapisać - nawet bardziej elegancko - poprzez składnię \"list comprehension\". Np.:"
   ]
  },
  {
   "cell_type": "code",
   "execution_count": null,
   "metadata": {},
   "outputs": [],
   "source": [
    "[ number ** 2 for number in numbers ]"
   ]
  },
  {
   "cell_type": "code",
   "execution_count": null,
   "metadata": {},
   "outputs": [],
   "source": [
    "[ len( word ) for word in words ]"
   ]
  },
  {
   "cell_type": "code",
   "execution_count": null,
   "metadata": {},
   "outputs": [],
   "source": [
    "[ word[ ::-1 ] for word in words ]"
   ]
  },
  {
   "cell_type": "markdown",
   "metadata": {},
   "source": [
    "### <a id=\"6.4\"></a>6.4. Filtrowanie list"
   ]
  },
  {
   "cell_type": "markdown",
   "metadata": {},
   "source": [
    "W tej klasie operacji przechodzimy krok po kroku przez całą listę i do każdego z elementów aplikujemy 1-argumentową funkcję, której rezultatem jest wartość logiczna (typ `bool`) prawda/fałsz (`True`/`False`). Może być to np. funkcja, która zwraca wartość logiczną `True` jeśli jej argument `x` jest dodatni, a `False` w przeciwnym razie. Wynikiem przejścia przez całą listę jest nowa lista zawierająca jedynie te elementy listy wyjściowej, dla których funkcja zwróciła `True`. Lista, którą otrzymujemy, ma zatem inną długość niż lista wyjściowa (jest krótsza lub równa jej długości) - i zawiera tylko i wyłączne elementy listy wyjściowej, które \"przeszły przez nasze sito\", tj. dla których nasza funkcja dała wartość logiczną \"prawda\"."
   ]
  },
  {
   "cell_type": "markdown",
   "metadata": {},
   "source": [
    "#### <a id=\"6.4_b1\"></a>Filtrowanie poprzez użycie pętli"
   ]
  },
  {
   "cell_type": "markdown",
   "metadata": {},
   "source": [
    "Ponownie, naturalnie jest zastosować pętlę `for` do przejścia przez daną listę. Na każdym kroku używamy instrukcji warunkowej, aby zobaczyć, czy aktualny element spełnia nasz warunek - jeśli tak, dodajemy go do naszego \"akumulującego pudełka\" - początkowo pustej listy, do której \"wrzucamy\" przefiltrowane elementy.\n",
    "\n",
    "Spróbujmy w ten sposób przefiltrować tylko liczby dodatnie:"
   ]
  },
  {
   "cell_type": "code",
   "execution_count": null,
   "metadata": {},
   "outputs": [],
   "source": [
    "# nowa lista powstała z podniesienia do kwadratu wszystkich elementów danej listy, poprzez pętlę for\n",
    "\n",
    "numbers_positive = [] # inicjujejmy pustą listę, do której dodawać będziemy tylko te liczby ze starej listy, które są dodatnie\n",
    "for number in numbers: # iterujemy listę\n",
    "    if number > 0: # tylko jeśli warunek dodatniości jest spełniony dodajemy tę liczbę do listy kumulującej\n",
    "        numbers_positive.append( number ) # albo inaczej: numbers_positive += [ number ]\n",
    "\n",
    "numbers_positive"
   ]
  },
  {
   "cell_type": "markdown",
   "metadata": {},
   "source": [
    "Jako wynik dostaliśmy listę krótszą, zawierającą tylko przefiltrowane liczby - tylko dodatnie."
   ]
  },
  {
   "cell_type": "markdown",
   "metadata": {},
   "source": [
    "#### <a id=\"6.4_b2\"></a>`filter`"
   ]
  },
  {
   "cell_type": "markdown",
   "metadata": {},
   "source": [
    "Analogicznie do `reduce` i `map`, mamy funkcję `filter`, o dokładnie tej samej składni:\n",
    "\n",
    "`filter( logical_function_one_arg , sequence )`"
   ]
  },
  {
   "cell_type": "markdown",
   "metadata": {},
   "source": [
    "Widzieliśmy już też, jak napisać funkcję lambda, która testuje, czy jej argument jest dodatni, czy nie:\n",
    "\n",
    "`lambda x : x > 0`\n",
    "\n",
    "Możemy zatem bardzo zwięźle napisać:"
   ]
  },
  {
   "cell_type": "code",
   "execution_count": null,
   "metadata": {},
   "outputs": [],
   "source": [
    "numbers"
   ]
  },
  {
   "cell_type": "code",
   "execution_count": null,
   "metadata": {},
   "outputs": [],
   "source": [
    "list( filter( lambda x : x > 0 , numbers ) )"
   ]
  },
  {
   "cell_type": "markdown",
   "metadata": {},
   "source": [
    "Jako inny przykład weźmy ponownie naszą listę słów:"
   ]
  },
  {
   "cell_type": "code",
   "execution_count": null,
   "metadata": {},
   "outputs": [],
   "source": [
    "words"
   ]
  },
  {
   "cell_type": "markdown",
   "metadata": {},
   "source": [
    "Powiedzmy, że chcemy wybrać (przefiltrować) z niej tylko te słowa, które zawierają literę `p`. Na początku tej lekcji wspomnieliśmy o małym, a przydatnym, operatorze `in`, który zastosowaliśmy do sprawdzenia, czy jakaś zmienna jest elementem listy:"
   ]
  },
  {
   "cell_type": "code",
   "execution_count": null,
   "metadata": {},
   "outputs": [],
   "source": [
    "3 in [ 1 , 2 , 3 ]"
   ]
  },
  {
   "cell_type": "markdown",
   "metadata": {},
   "source": [
    "Możemy go równie dobrze zastosować do stringów:"
   ]
  },
  {
   "cell_type": "code",
   "execution_count": null,
   "metadata": {},
   "outputs": [],
   "source": [
    "'p' in 'pen'"
   ]
  },
  {
   "cell_type": "markdown",
   "metadata": {},
   "source": [
    "Chcemy zatem napisać funkcję lambda, która przyjmowałaby jeden argument o typie string, nazwijmy go `word`, i zwracałaby wartość logiczną `True` jeśli litera `p` jest w słowie `word`, a `False` w przeciwnym razie. Jest to oczywiście:\n",
    "\n",
    "`lambda word : 'p' in word`"
   ]
  },
  {
   "cell_type": "markdown",
   "metadata": {},
   "source": [
    "Tę 1-argumentową funkcję logiczną umieszczamy w funkcji `filter`:"
   ]
  },
  {
   "cell_type": "code",
   "execution_count": null,
   "metadata": {},
   "outputs": [],
   "source": [
    "list( filter( lambda word : 'p' in word , words ) )"
   ]
  },
  {
   "cell_type": "markdown",
   "metadata": {},
   "source": [
    "<img style = 'float: left; margin-right: 10px; margin-bottom: 10px' src = 'Images/question.png'> Szybkie ćwiczenie 38: Z listy `words` wybierz tylko te elementy, które zawierają literę `'e'` oraz których długość przekracza 5."
   ]
  },
  {
   "cell_type": "code",
   "execution_count": null,
   "metadata": {},
   "outputs": [],
   "source": [
    "# szybkie ćwiczenie 38 - rozwiązanie\n",
    "\n"
   ]
  },
  {
   "cell_type": "markdown",
   "metadata": {},
   "source": [
    "#### <a id=\"6.4_b3\"></a>Filtrowanie poprzez \"list comprehension\""
   ]
  },
  {
   "cell_type": "markdown",
   "metadata": {},
   "source": [
    "Podobnie jak z mapowaniem, także i filtrowanie możemy zapisać używając składni \"list comprehension\". Np.:"
   ]
  },
  {
   "cell_type": "code",
   "execution_count": null,
   "metadata": {},
   "outputs": [],
   "source": [
    "[ number for number in numbers if number > 0 ]"
   ]
  },
  {
   "cell_type": "code",
   "execution_count": null,
   "metadata": {},
   "outputs": [],
   "source": [
    "[ word for word in words if 'p' in word ]"
   ]
  },
  {
   "cell_type": "markdown",
   "metadata": {},
   "source": [
    "Możemy także łączyć mapowanie i filtrowanie w jedno takie wyrażenie, jak widzieliśmy wcześniej. A zatem, \"list comprehension\" jest bardziej uniwersalnym językiem, który łączy `map` oraz `filter`, i czyni to w sposób bardziej czytelny i zwięzły."
   ]
  },
  {
   "cell_type": "code",
   "execution_count": null,
   "metadata": {},
   "outputs": [],
   "source": [
    "[ number ** 2 for number in numbers if number > 0 ]"
   ]
  },
  {
   "cell_type": "code",
   "execution_count": null,
   "metadata": {},
   "outputs": [],
   "source": [
    "[ word[ ::-1 ] for word in words if 'p' in word ]"
   ]
  },
  {
   "cell_type": "markdown",
   "metadata": {},
   "source": [
    "## <a id=\"7\"></a>7. Zadania domowe do Lekcji 6"
   ]
  },
  {
   "cell_type": "markdown",
   "metadata": {},
   "source": [
    "<img style = 'float: left; margin-right: 10px; margin-bottom: 10px' src = 'Images/question.png'> Dłuższe ćwiczenie 39: Masz daną listę stringów - adresów internetowych, jak poniżej. Za pomocą składni \"list comprehension\" (i odpowiedniej metody stringów) utwórz listę stringów z nazwami najwyższej domeny, a więc tutaj `['com', 'net', 'com', 'org', 'pl', ...]`."
   ]
  },
  {
   "cell_type": "markdown",
   "metadata": {},
   "source": [
    "Wskazówka: Przypomij sobie metodę stringów `split`. Podziel najpierw po znaku `'/'`, a potem po `'.'`. Najwyższa domena to trzeci element w podziale po `'/'` i ostatni w podziale po `'.'`."
   ]
  },
  {
   "cell_type": "code",
   "execution_count": null,
   "metadata": {},
   "outputs": [],
   "source": [
    "websites = [\n",
    "    'http://puzzles.bostonpython.com/' ,\n",
    "    'https://projecteuler.net/' ,\n",
    "    'https://stackoverflow.com/' ,\n",
    "    'https://arxiv.org/' ,\n",
    "    'https://znadplanszy.pl/blogi/' ,\n",
    "    'https://www.lego.com/pl-pl' ,\n",
    "    'https://chris.beams.io/posts/git-commit/' ,\n",
    "    'https://www.kaggle.com/tags/finance' ,\n",
    "    'https://skymind.ai/wiki/differentiableprogramming' ,\n",
    "    'https://www.risk.net/cutting-edge/banking/2436867/cva-greeks-and-aad' ,\n",
    "    'https://ml-con.nl/' ,\n",
    "    'https://www.infoworld.com/article/3241107/julia-vs-python-which-is-best-for-data-science.html'\n",
    "]"
   ]
  },
  {
   "cell_type": "code",
   "execution_count": null,
   "metadata": {},
   "outputs": [],
   "source": [
    "# dłuższe ćwiczenie 39 - rozwiązanie\n",
    "\n"
   ]
  },
  {
   "cell_type": "markdown",
   "metadata": {},
   "source": [
    "<img style = 'float: left; margin-right: 10px; margin-bottom: 10px' src = 'Images/question.png'> Dłuższe ćwiczenie 40: Palindromy.\n",
    "\n",
    "Masz daną (bardzo długą!) listę słów angielskich - wczytaj ją z załączonego pliku tekstowego. (O operacjach na plikach nie uczyliśmy się - po prostu wykonaj poniższą komórkę.) Utwórz z niej za pomocą \"list comprehension\" listę palindromów, a więc słów, które czytane wspak są identyczne do siebie samego.\n",
    "\n",
    "Sprawdź swoją odpowiedź: Są tu 103 palindromy."
   ]
  },
  {
   "cell_type": "code",
   "execution_count": null,
   "metadata": {},
   "outputs": [],
   "source": [
    "with open( 'Files/english_words.txt' ) as f:\n",
    "    english_words = f.readlines()\n",
    "\n",
    "english_words = [ word.strip() for word in english_words ]\n",
    "\n",
    "len( english_words )"
   ]
  },
  {
   "cell_type": "code",
   "execution_count": null,
   "metadata": {},
   "outputs": [],
   "source": [
    "# dłuższe ćwiczenie 40 - rozwiązanie\n",
    "\n"
   ]
  },
  {
   "cell_type": "markdown",
   "metadata": {},
   "source": [
    "<img style = 'float: left; margin-right: 10px; margin-bottom: 10px' src = 'Images/question.png'> Dłuższe ćwiczenie 41 (*): \"Szczęśliwy numer\".\n",
    "\n",
    "Niech `n` będzie dodatnią liczbą całkowitą. Liczbę tę nazywamy \"szczęśliwą\", jeśli zachodzi następująca własność: Startując od `n` przeprowadzamy następującą operację - zamieniamy `n` na sumę kwadratów jej cyfr. Następnie operację powtarzamy itd. Możliwe są dwa rodzaje zachowań takiego ciągu: albo (1) skończy się on liczbą 1 - i wówczas `n` nazywamy \"szczęśliwą\", albo (2) wpadnie w nieskończony cykl oscylujący między jakimiś liczbami różnymi od 1 - i wtedy `n` nie jest \"szczęśliwa\".\n",
    "\n",
    "Dla przykładu, 19 jest \"szczęśliwa\": W pierwszym kroku zmieniamy ją na $1^2 + 9^2 = 82$, w drugim na $8^2 + 2^2 = 68$, w trzecim na $6^2 + 8^2 = 100$, w czwartym na $1^2 + 0^2 + 0^2 = 1$. Nastomiast 112 nie jest \"szczęśliwa\" - iteracja wpada w nieskończoną pętlę 89, 145, 42, 20, 4, 16, 37, 58 i znowu 89.\n",
    "\n",
    "Napisz algorytm wyznaczający, czy dana `n` jest \"szczęśliwa\"."
   ]
  },
  {
   "cell_type": "markdown",
   "metadata": {},
   "source": [
    "Wskazówka: Napisz najpierw pętlę `while` (z warunkiem, że `n` jest różne od 1), gdzie w każdym kroku zmieniasz `n` na sumę kwadratów jej cyfr. Do obliczenia tejże wykorzystaj trik poznany w ćwiczeniu 31. To byłoby na tyle, gdyby nie konieczność sprawdzenia, czy wpadliśmy w nieskończoną pętlę. W tym celu zadeklaruj \"puste pudełko\" (o nazwie powiedzmy `memory`), do którego wrzucaj w każdej iteracji kolejną wartość `n`. Teraz dla każdej nowej wartości `n` sprawdzaj, czy jest ona w `memory` - jeśli tak, to mamy cykl i musimy uciec (`break`) z pętli, wypisując jakiś komunikat."
   ]
  },
  {
   "cell_type": "code",
   "execution_count": null,
   "metadata": {},
   "outputs": [],
   "source": [
    "# dłuższe ćwiczenie 41 - rozwiązanie\n",
    "\n"
   ]
  },
  {
   "cell_type": "markdown",
   "metadata": {},
   "source": [
    "<img style = 'float: left; margin-right: 10px; margin-bottom: 10px' src = 'Images/question.png'> Dłuższe ćwiczenie 42 (**): Konwersja nazwy kolumny w Excelu na liczbę.\n",
    "\n",
    "Masz dany string będący nazwą kolumny w Excelu, np. `excel_col = 'AA'` czy też `excel_col = 'NTP'`. Napisz za pomocą składni \"list comprehension\" algorytm przeliczający ją na wartość liczbową: `'A'` to kolumna 1, `'B'` to kolumna 2 itd. A więc np. `'AA'` to kolumna nr 27, zaś `'NTP'` to kolumna nr 10000."
   ]
  },
  {
   "cell_type": "markdown",
   "metadata": {},
   "source": [
    "Wskazówka: Pomyśl o nazwie kolumny jako o liczbie w systemie liczbowym o podstawie 26 (tyle jest liter w alfabecie angielskim). Rzeczywiście, popatrzmy na przykład `'NTP'`: `'N'` to 14-ta litera alfabetu, `'T'` 20-ta, zaś `'P'` 16-ta. Będzie to zatem kolumna o numerze $14 \\cdot 26^2 + 20 \\cdot 26 + 16 = 10000$. Podobnie `'AA'` ma numer $1 \\cdot 26 + 1 = 27$.\n",
    "\n",
    "Chcesz przeiterować się zatem przez string `excel_col`, w każdym kroku notując nie tylko literę, ale też i jej indeks - użyj funkcji `enumerate`. Tak naprawdę, przeiteruj się przez `excel_col` odwróconą wspak - chcesz bowiem, aby ostatnia litera miała indeks 0, przedostatnia 1 itd. Wówczas taki indeks `i` użyjesz w potędze `26 ** i`. Teraz tę potęge przemnóż przez indeks danej litery w alfabecie (plus 1) - użyj metody `index` i pomocniczej zmiennej `alphabet = 'ABCDEFGHIJKLMNOPQRSTUVWXYZ'` - np. dla `'P'` chcesz dostać tu liczbę 16, bo to 16-ta litera alfabetu."
   ]
  },
  {
   "cell_type": "code",
   "execution_count": null,
   "metadata": {},
   "outputs": [],
   "source": [
    "# dłuższe ćwiczenie 42 - rozwiązanie\n",
    "\n"
   ]
  },
  {
   "cell_type": "markdown",
   "metadata": {},
   "source": [
    "<img style = 'float: left; margin-right: 10px; margin-bottom: 10px' src = 'Images/question.png'> Dłuższe ćwiczenie 43 (**): Poćwiczmy konstrukcję stosu, zob. <a href=\"#5.3\">Stos i kolejka</a>, ale w prostszym wydaniu niż podany tam przykład.\n",
    "\n",
    "Mamy dwa stringi, powiedzmy `text_1 = 'a##c'` i `text_2 = '#a#c'`. Zawierają one tylko litery alfabetu angielskiego oraz znak `'#'`. Umawiamy się, że znak ten oznacza naciśnięcie \"backspace\". Innymi słowy, np. string `'abc##de#'` po wydrukowaniu to tak naprawdę byłby `'ad'`, bo litery \"b\", \"c\" zostaną skasowane przez dwa naciśnięcia \"backspace\", podobnie \"e\" zostanie skasowane przez jedno naciśnięcie. Napisz algorytm, który sprawdzi, czy taki stringi `text_1` i `text_2` są identyczne po wydrukowaniu w tej konwencji."
   ]
  },
  {
   "cell_type": "markdown",
   "metadata": {},
   "source": [
    "Wskazówka: Utwórz \"puste pudełko\" `stack`. Iteruj się przez dany string, np. `text_1`. Jeśli dany znak to litera (sprawdź to metodą stringów `isalpha`), to wrzuć go na stos (metodą `append` lub operatorem `+=`). Jeśli jest to `'#'`, to \"anihiluj\" ostatnią literę na stosie (metodą `pop()`). Dostaniesz na końcu formę stringa jakby \"po wydrukowaniu\"."
   ]
  },
  {
   "cell_type": "code",
   "execution_count": null,
   "metadata": {},
   "outputs": [],
   "source": [
    "# dłuższe ćwiczenie 43 - rozwiązanie\n",
    "\n"
   ]
  },
  {
   "cell_type": "markdown",
   "metadata": {},
   "source": [
    "<img style = 'float: left; margin-right: 10px; margin-bottom: 10px' src = 'Images/question.png'> Dłuższe ćwiczenie 44 (**): Odwracanie liter w stringu, ale nie znaków specjalnych.\n",
    "\n",
    "Powiedzmy, że mamy taki dziwny string, np. `text = 'Cha-th!am=Fin--anc+ial'`, złożony z liter oraz znaków specjalnych. Napisz algorytm, który zmieni go na `'lai-cn!an=iFm--aht+ahC'`, tj. string, gdzie wszystkie litery napisane są w odwrotnej kolejności, zaś znaki specjalne pozostawione są w oryginalnej kolejności."
   ]
  },
  {
   "cell_type": "markdown",
   "metadata": {},
   "source": [
    "Wskazówka: Utwórz najpierw listę `text_alpha`, składającą się tylko z liter tego stringa - wykorzystaj \"list comprehension\" i metodę stringów `isalpha`. Następnie ją odwróć. Mamy tu więc odwrócone litery. Teraz przeiteruj się przez string `text`, ale iterując się jednocześnie po jego indeksach - użyj funkcji `enumerate`. Dodaj w tej iteracji instrukcję warunkową, która sprawdzi, czy dany symbol _nie_ jest literą - jeśli nie jest, to wstaw go do listy `text_alpha` w odpowiadającym mu indeksie - przypomnij sobie, jak działa metoda `insert`. Dostaniesz w ten sposób listę wszystkich żądanych znaków w dobrej kolejności. Jako ostatni krok, napisz pętlę `for`, gdzie do pustego stringu wrzucisz te kolejne znaki, tworząc odpowiedź."
   ]
  },
  {
   "cell_type": "code",
   "execution_count": null,
   "metadata": {},
   "outputs": [],
   "source": [
    "# dłuższe ćwiczenie 44 - rozwiązanie\n",
    "\n"
   ]
  },
  {
   "cell_type": "markdown",
   "metadata": {},
   "source": [
    "<img style = 'float: left; margin-right: 10px; margin-bottom: 10px' src = 'Images/question.png'> Dłuższe ćwiczenie 45 (**): Trójkąt Pascala.\n",
    "\n",
    "[Trójkąt Pascala](https://en.wikipedia.org/wiki/Pascal's_triangle) możemy wyobrazić sobie jako następujący ciąg list, każda wydrukowana w kolejnej linijce:\n",
    "\n",
    "- lista w $n$-tej linijce ma długość $n$;\n",
    "\n",
    "- zawsze pierwsza i ostatnia liczba w każdej liście to 1;\n",
    "\n",
    "- aby natomiast dostać liczbę na dowolnej pozycji (powiedzmy o indeksie $k$) w liście w $n$-tej linijce, musisz zsumować dwie liczby, występujące w liście w $(n - 1)$-szej linijce, na pozycjach $k$ i $(k - 1)$.\n",
    "\n",
    "Np. spójrzmy na linijkę `[1, 5, 10, 10, 5, 1]` poniżej. Pierwsza liczba 10 powstała z liczb 4 i 6 z powyższej linijki.\n",
    "\n",
    "```\n",
    "[1]\n",
    "[1, 1]\n",
    "[1, 2, 1]\n",
    "[1, 3, 3, 1]\n",
    "[1, 4, 6, 4, 1]\n",
    "[1, 5, 10, 10, 5, 1]\n",
    "[1, 6, 15, 20, 15, 6, 1]\n",
    "[1, 7, 21, 35, 35, 21, 7, 1]\n",
    "[1, 8, 28, 56, 70, 56, 28, 8, 1]\n",
    "[1, 9, 36, 84, 126, 126, 84, 36, 9, 1]\n",
    "...\n",
    "```\n",
    "\n",
    "Napisz algorytm drukujący np. pierwsze 20 linijek trójkąta Pascala."
   ]
  },
  {
   "cell_type": "markdown",
   "metadata": {},
   "source": [
    "Wskazówka: Napisz pętlę `for` po zakresie `range(20)` (jeśli chcesz wydrukować pierwsze 20 linijek). Przed pętlą zdefiniuj `pascal_row = [1]`, to będzie pierwszy wiersz trójkąta Pascala. W każdej iteracji pętli `for` chcesz teraz zmienić `pascal_row`, aby przyjął postać kolejnego wiersza, na podstawie wiersza poprzedniego (rekursja). Możesz to zrobić przy użyciu indeksów, w stylu:\n",
    "```\n",
    "pascal_row = [ pascal_row[k] + pascal_row[k - 1] for k in range(len(pascal_row)) ]\n",
    "```\n",
    "To nie jest do końca dobrze - zmodyfikuj powyższe wyrażenie tak, aby dobrze obliczał skrajne jedynki (np. spróbuj wcześniej jeszcze zmodyfikować `pascal_row` przez dodanie do niego zer na początku i na końcu; także zakres `range` jest nie do końca poprawny).\n",
    "\n",
    "Możesz też rozwiązać to zadanie bez indeksów - sprobuj! Niech \"list comprehension\" będzie miało postać:\n",
    "```\n",
    "pascal_row = [ i + j for ... ]\n",
    "```\n",
    "gdzie `i` iterujesz po `pascal_row` rozszerzonym na początku przez zero, a `j` po `pascal_row` rozszerzonym na końcu przez zero (dlaczego?). Użyj funkcji `zip`, aby napisać tę iterację."
   ]
  },
  {
   "cell_type": "code",
   "execution_count": null,
   "metadata": {},
   "outputs": [],
   "source": [
    "# dłuższe ćwiczenie 45 - rozwiązanie\n",
    "\n"
   ]
  },
  {
   "cell_type": "markdown",
   "metadata": {},
   "source": [
    "<img style = 'float: left; margin-right: 10px; margin-bottom: 10px' src = 'Images/question.png'> Dłuższe ćwiczenie 46 (**): Liczby podzielne przez swoje cyfry.\n",
    "\n",
    "Wypisz wszystkie liczby od 1 do `n` (np. `n = 100`), które są podzielne przez wszystkie swoje cyfry.\n",
    "\n",
    "Np. w zakresie do 100 są to następujące liczby:\n",
    "```\n",
    "[1, 2, 3, 4, 5, 6, 7, 8, 9, 11, 12, 15, 22, 24, 33, 36, 44, 48, 55, 66, 77, 88, 99]\n",
    "```\n",
    "np. 24 jest podzielna przez 2 i 4, 36 jest podzielna przez 3 i 6 itd."
   ]
  },
  {
   "cell_type": "markdown",
   "metadata": {},
   "source": [
    "Wskazówka: Napisz proste \"list comprehension\" po odpowiednim zakresie:\n",
    "```\n",
    "[ k for k in range(1, n + 1) if ... ]\n",
    "```\n",
    "Nietrywialnie jest tu zapisać warunek po `if` - musi on decydować, czy dany iterator `k` jest podzielny przez wszystkie swoje cyfry. Jak to zrobić? Po pierwsze, warunek ten także zapisz w postaci \"list comprehension\", gdzie iterujesz się po cyfrach liczby `k`. Użyj triku z konwersją na string:\n",
    "```\n",
    "[ ... for d in str(k) ]\n",
    "```\n",
    "W tej \"list comprehension\" wypisuj wartości logiczne odpowiadające na pytanie, czy cyfra `d` jest różna od zera oraz czy `k` podzielone przez `d` daje resztę zero. (Zachowaj ostrożność jeśli chodzi o typy `int` i `str`!) Masz więc teraz listę wartości logicznych - i chcesz teraz zredukować ją do jednej wartości logicznej, odpowiadającej na pytanie, czy _wszystkie_ jej elementy są prawdziwe - innymi słowy, czy dla _wszystkich_ cyfr `d` prawdą jest, iż `d` jest różne od zera oraz `k` dzieli się przez `d` bez reszty - przypomnij sobie funkcję `all`."
   ]
  },
  {
   "cell_type": "code",
   "execution_count": null,
   "metadata": {},
   "outputs": [],
   "source": [
    "# dłuższe ćwiczenie 46 - rozwiązanie\n",
    "\n"
   ]
  },
  {
   "cell_type": "markdown",
   "metadata": {},
   "source": [
    "<img style = 'float: left; margin-right: 10px; margin-bottom: 10px' src = 'Images/question.png'> Dłuższe ćwiczenie 47 (\\*\\*): Największy palindromiczny iloczyn.\n",
    "\n",
    "\"Liczba palindromiczna\" to taka, która czytana wspak jest równa sobie samej, np. 1551.\n",
    "\n",
    "Rozważmy liczby będące iloczynami liczb dwucyfrowych. Okazuje się, że część takich liczb jest palindromiczna, zaś największą z nich jest $9009 = 91 \\cdot 99$.\n",
    "\n",
    "Jaka jest największa liczba palindromiczna będąca iloczynem liczb trzycyfrowych (i jakie są to liczby)? A jaka dla liczb czterocyfrowych?\n",
    "\n",
    "Sprawdź swoją odpowiedź: $888888 = 924 \\cdot 962$ oraz $99000099 = 9901 \\cdot 9999$."
   ]
  },
  {
   "cell_type": "markdown",
   "metadata": {},
   "source": [
    "Wskazówka: Napisz zagnieżdżoną \"list comprehension\", gdzie iterujesz się dwoma iteratorami `a` i `b` przez liczby trzycyfrowe (jaki to zakres?). Uwaga: Czy musisz oboma iteratorami przechodzić przez _wszystkie_ te liczby, czy możesz jakoś ograniczyć zakres dla `b`, bez straty ogólności? Wybierz tylko te pary, których iloczyn jest palindromiczny (aby to sprawdzić, przypomnij sobie konwersję na string i odwracanie stringów)."
   ]
  },
  {
   "cell_type": "code",
   "execution_count": null,
   "metadata": {},
   "outputs": [],
   "source": [
    "# dłuższe ćwiczenie 47 - rozwiązanie\n",
    "\n"
   ]
  },
  {
   "cell_type": "code",
   "execution_count": null,
   "metadata": {},
   "outputs": [],
   "source": []
  }
 ],
 "metadata": {
  "kernelspec": {
   "display_name": "Python 3",
   "language": "python",
   "name": "python3"
  },
  "language_info": {
   "codemirror_mode": {
    "name": "ipython",
    "version": 3
   },
   "file_extension": ".py",
   "mimetype": "text/x-python",
   "name": "python",
   "nbconvert_exporter": "python",
   "pygments_lexer": "ipython3",
   "version": "3.7.9"
  }
 },
 "nbformat": 4,
 "nbformat_minor": 4
}
