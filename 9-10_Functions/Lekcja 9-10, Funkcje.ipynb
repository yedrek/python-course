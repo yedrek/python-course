{
 "cells": [
  {
   "cell_type": "markdown",
   "metadata": {},
   "source": [
    "# Lekcja 9-10: Funkcje"
   ]
  },
  {
   "cell_type": "markdown",
   "metadata": {},
   "source": [
    "## Spis treści"
   ]
  },
  {
   "cell_type": "markdown",
   "metadata": {},
   "source": [
    "1. Co to jest funkcja?\n",
    "\n",
    "\n",
    "- 1.1. Funkcja jako \"maszynka\"\n",
    "\n",
    "\n",
    "- 1.2. Do czego służą funkcje?\n",
    "  - Modularność\n",
    "  - Prostota\n",
    "  - Nazewnictwo funkcji\n",
    "\n",
    "\n",
    "- 1.3. Wywoływanie funkcji\n",
    "  - Przykład: Funkcje do konwersji typów\n",
    "  - Przykład: Funkcje wbudowane\n",
    "  - Przykład: Metody to też funkcje!\n",
    "  - Przykład: Podstawowe funkcje matematyczne\n",
    "\n",
    "\n",
    "2. Definiowanie funkcji\n",
    "\n",
    "\n",
    "- 2.1. `def`\n",
    "  - Ogólna składnia\n",
    "  - Uwaga techniczna: `def` jest stwierdzeniem wykonywalnym\n",
    "\n",
    "\n",
    "- 2.2. Wariacje na temat `return`\n",
    "  - Funkcje zwracające wiele rezultatów jednocześnie\n",
    "  - Wielokrotny `return`\n",
    "  - Funkcje nic nie zwracające\n",
    "  - Instrukcja `pass`\n",
    "  - Funkcje czyste i modyfikatory\n",
    "\n",
    "\n",
    "- 2.3. Wariacje na temat argumentów\n",
    "  - Przekazywanie argumentów do funkcji\n",
    "  - Argumenty pozycyjne (wymagane)\n",
    "  - Argumenty nazwane\n",
    "  - X\n",
    "  - X\n",
    "  - X\n",
    "  - X\n",
    "\n",
    "\n",
    "\n",
    "\n",
    "\n"
   ]
  },
  {
   "cell_type": "code",
   "execution_count": null,
   "metadata": {},
   "outputs": [],
   "source": []
  },
  {
   "cell_type": "code",
   "execution_count": null,
   "metadata": {},
   "outputs": [],
   "source": []
  },
  {
   "cell_type": "code",
   "execution_count": null,
   "metadata": {},
   "outputs": [],
   "source": []
  },
  {
   "cell_type": "code",
   "execution_count": null,
   "metadata": {},
   "outputs": [],
   "source": []
  },
  {
   "cell_type": "code",
   "execution_count": null,
   "metadata": {},
   "outputs": [],
   "source": []
  },
  {
   "cell_type": "code",
   "execution_count": null,
   "metadata": {},
   "outputs": [],
   "source": []
  },
  {
   "cell_type": "code",
   "execution_count": null,
   "metadata": {},
   "outputs": [],
   "source": []
  },
  {
   "cell_type": "markdown",
   "metadata": {},
   "source": [
    "## 1. Co to jest funkcja?"
   ]
  },
  {
   "cell_type": "markdown",
   "metadata": {},
   "source": [
    "### 1.1. Funkcja jako \"maszynka\""
   ]
  },
  {
   "cell_type": "markdown",
   "metadata": {},
   "source": [
    "<img style = 'float: right; margin-left: 10px; margin-bottom: 10px' src = 'Images/function.png'>Aby wprowadzić pojęcie **funkcji** (\"function\"), powinniśmy na chwilę wrócić do szkolnej matematyki.\n",
    "\n",
    "Ze szkoły na pewno pamiętasz wyrażenia typu $f(x) = 2x + 5$. Mamy tu funkcję o **nazwie** (\"name\") $f$, która przyjmuje **argument** (\"argument\") o nazwie $x$, będący liczbą, a **zwraca** (\"returns\") wynik, w tym przypadku rezultat obliczenia $2x + 5$. Podstawiając za $x$ konkretną liczbę, np. $x = 7$, otrzymujemy konkretny liczbowy rezultat, tutaj: $f(7) = 2 \\cdot 7 + 5 = 19$.\n",
    "\n",
    "Można zatem funkcję wyobrazić sobie jako swoistą \"maszynkę\", do której z jednej strony wrzucamy \"składniki\"/argumenty, na których następnie \"maszynka\" dokonuje serię zdefiniowanych operacji, aby z drugiej strony wyrzucić \"gotowy produkt\"/rezultat.\n",
    "\n",
    "Funkcje w Pythonie generalnie działają dokładnie w ten sam sposób: należy dostarczyć im argumenty, na których przeprowadzane są wcześniej zdefiniowane operacje, a zwracany jest wynik tych operacji. Mogą to zrobić jednak w sposób dużo bardziej wszechstronny niż funkcje matematyczne!"
   ]
  },
  {
   "cell_type": "markdown",
   "metadata": {},
   "source": [
    "### 1.2. Do czego służą funkcje?"
   ]
  },
  {
   "cell_type": "markdown",
   "metadata": {},
   "source": [
    "#### Modularność"
   ]
  },
  {
   "cell_type": "markdown",
   "metadata": {},
   "source": [
    "Z punktu widzenia programistycznego, taka \"maszynka\" to _wyodrębniony blok kodu, który wykonuje konkretnie zdefiniowaną czynność._ I jak to \"maszynka\", ma ona dwa podstawowe zastosowania:\n",
    "\n",
    "1. Duże maszyny składają się z mniejszych elementów, a te z jeszcze mniejszych elementów itd. Dzięki funkcjom możemy rozbić duży, złożony problem na wiele małych, dobrze określonych, łatwiejszych do zrozumienia i zakodowania części (\"procedural decomposition\"). Np. programując robota przygotowującego pizzę, zamiast jednej długiej procedury `make_pizza`, lepiej rozbić ją na logiczne kawałki, `mix_dough`, `roll_out` , `add_toppings`, `bake` itp. Łatwiej takim kodem zarządzać, łatwiej szukać w nim błędów, łatwiej go skalować. Funkcje implementują zatem zasadę [\"DRY = Don't Repeat Yourself\"](https://en.wikipedia.org/wiki/Don%27t_repeat_yourself).\n",
    "\n",
    "2. Maszyny wyręczają nas w powtarzalnych czynnościach. Funkcja opisuje konkretną czynność, a zatem jest naturalnym obiektem wielokrotnego użytku - definiujemy ją raz, a możemy wywoływać wielokrotnie (\"code reusability\"). Również jeśli tę czynność chcemy później zmodyfikować, robimy to tylko raz - w ciele funkcji - a nie w każdym miejscu jej użycia. Co więcej, użyteczna funkcja może przydać się w kolejnych naszych projektach, nie tylko w danym programie.\n",
    "\n",
    "A zatem funkcje są bardzo uniwersalnym i podstawowym narzędziem strukturyzującym kod."
   ]
  },
  {
   "cell_type": "markdown",
   "metadata": {},
   "source": [
    "#### Prostota"
   ]
  },
  {
   "cell_type": "markdown",
   "metadata": {},
   "source": [
    "Od razu praktyczna uwaga: Każda nasza funkcyjna \"maszynka\" powinna:\n",
    "\n",
    "- być w miarę prosta i czytelna; ważnym kryterium jest po prostu liczba linijek kodu składająca się na funkcję - powinna ona być w miarę niska;\n",
    "\n",
    "- nie robić zbyt wielu rzeczy naraz - a najlepiej tylko jedną rzecz!\n",
    "\n",
    "Tylko wówczas będzie dobrze spełniać swoją rolę strukturyzowania kodu i unikania powtórzeń.\n",
    "\n",
    "Jeśli w trakcie pisania programu stworzyliśmy zbyt długą i przez to niezbyt zrozumiałą funkcję, spróbujmy przepisać ją na serię mniejszych kawałków - robiących koniec końców to samo, ale w bardziej czytelnej formie. Proces takiego przepisania nazywa się **\"refactoring\"**."
   ]
  },
  {
   "cell_type": "markdown",
   "metadata": {},
   "source": [
    "#### Nazewnictwo funkcji"
   ]
  },
  {
   "cell_type": "markdown",
   "metadata": {},
   "source": [
    "Dobrą praktyką programowania jest nadawanie funkcjom nazw złożonych z pełnych wyrazów angielskich, które dobrze opisują, co dana funkcja robi. Jest to inaczej niż w matematyce, gdzie funkcje zwykle nazywa się pojedynczymy literami, $f$, $g$ itp.\n",
    "\n",
    "- Dozwolone są wielkie i małe litery, cyfry, oraz podkreślnik `_`, z tym że nazwa nie może zaczynać się od cyfry. Nazwą nie może być też słowo zarezerwowane w Pythonie, takie jak `list`, `return` itp. - one już oznaczają coś konkretnego.\n",
    "\n",
    "- Nie powinno się stosować skrótów, jako że utrudniają one zrozumienie nazwy przez osobę inną niż autor danego kodu.\n",
    "\n",
    "- Większość edytorów ma funkcję \"auto-complete\", a więc nawet jeśli nazwa funkcji będzie długa, to wystarczy wpisać ją w całości tylko raz, a później używać automatycznego uzupełniania, tj. zacząć pisać nazwę, a edytor dokończy ją za nas, po naciśnięciu odpowiedniego klawisza, np. `Tab`."
   ]
  },
  {
   "cell_type": "markdown",
   "metadata": {},
   "source": [
    "### 1.3. Wywoływanie funkcji"
   ]
  },
  {
   "cell_type": "markdown",
   "metadata": {},
   "source": [
    "Zobaczmy najpierw kilka przykładów funkcji. Zanim nauczymy się \"konstruować\"/definiować własne \"maszynki\"/funkcje, zobaczmy jak je \"uruchamiać\"/**wywoływać** (\"call\"). Podobnie jak w matematyce - np. $f(x)$ - robimy to poprzez nazwę funkcji i umieszczenie wartości jej argumentów w nawiasach okrągłych."
   ]
  },
  {
   "cell_type": "markdown",
   "metadata": {},
   "source": [
    "#### Przykład: Funkcje do konwersji typów"
   ]
  },
  {
   "cell_type": "markdown",
   "metadata": {},
   "source": [
    "Jedną z pierwszych poznanych przez nas funkcji była funkcja `type`, która przyjmuje jeden argument - dowolny obiekt - a zwraca jego typ danych, np.:"
   ]
  },
  {
   "cell_type": "code",
   "execution_count": null,
   "metadata": {},
   "outputs": [],
   "source": [
    "type( 55 )"
   ]
  },
  {
   "cell_type": "code",
   "execution_count": null,
   "metadata": {},
   "outputs": [],
   "source": [
    "type( 'I love functions!' )"
   ]
  },
  {
   "cell_type": "code",
   "execution_count": null,
   "metadata": {},
   "outputs": [],
   "source": [
    "type( { 'name' : 'John' , 'age' : 22 } )"
   ]
  },
  {
   "cell_type": "markdown",
   "metadata": {},
   "source": [
    "Wielokrotnie też spotykaliśmy się z funkcjami służącymi do konwersji typów. W czasie tego kursu poznaliśmy wiele różnych rodzajów - **typów** (\"types\") - obiektów, np. liczby całkowite (typ `int`), liczby zmiennoprzecinkowe (typ `float`), stringi (typ `str`), wartości logiczne (typ `bool`), listy (typ `list`), tuple (typ `tuple`), zbiory (typ `set`), słowniki (typ `dict`) itd. Funkcje do konwersji typów mają takie same nazwy, jak typ, _na jaki_ chcemy konwertować. Np.:"
   ]
  },
  {
   "cell_type": "code",
   "execution_count": null,
   "metadata": {},
   "outputs": [],
   "source": [
    "str( 55 ) # konwersja int na str"
   ]
  },
  {
   "cell_type": "code",
   "execution_count": null,
   "metadata": {},
   "outputs": [],
   "source": [
    "int( '55' ) # konwersja str na int"
   ]
  },
  {
   "cell_type": "code",
   "execution_count": null,
   "metadata": {},
   "outputs": [],
   "source": [
    "list( 'abc' )"
   ]
  },
  {
   "cell_type": "code",
   "execution_count": null,
   "metadata": {},
   "outputs": [],
   "source": [
    "set( [ 1 , 2 , 3 , 1 , 2 , 3 ] )"
   ]
  },
  {
   "cell_type": "code",
   "execution_count": null,
   "metadata": {},
   "outputs": [],
   "source": [
    "bool( '' )"
   ]
  },
  {
   "cell_type": "markdown",
   "metadata": {},
   "source": [
    "#### Przykład: Funkcje wbudowane"
   ]
  },
  {
   "cell_type": "markdown",
   "metadata": {},
   "source": [
    "W Pythonie mamy oczywiście wiele funkcji, które ktoś wcześniej dla nas zdefiniował - są to tzw. **funkcje wbudowane** (\"built-in functions\"), tu jest ich [spis](https://docs.python.org/3/library/functions.html). Część z nich już często używaliśmy, choćby `len`, `sum`, `max`, `min`; mają one jeden argument, będący kolekcją, a zwracają odpowiednio długość, sumę elementów i maksymalny/minimalny element kolekcji (jeśli pytanie o to ma sens). Np.:"
   ]
  },
  {
   "cell_type": "code",
   "execution_count": null,
   "metadata": {},
   "outputs": [],
   "source": [
    "len( { 'name' : 'John' , 'age' : 22 } )"
   ]
  },
  {
   "cell_type": "code",
   "execution_count": null,
   "metadata": {},
   "outputs": [],
   "source": [
    "sum( [ int( digit ) for digit in str( 12345 ) ] )"
   ]
  },
  {
   "cell_type": "code",
   "execution_count": null,
   "metadata": {},
   "outputs": [],
   "source": [
    "max( 'honorificabilitudinitatibus' )"
   ]
  },
  {
   "cell_type": "markdown",
   "metadata": {},
   "source": [
    "... itd."
   ]
  },
  {
   "cell_type": "markdown",
   "metadata": {},
   "source": [
    "Kilka innych przykładów: Funkcja wbudowana o nazwie `abs` przyjmuje jeden argument liczbowy i zwraca jego wartość bezwzględną:"
   ]
  },
  {
   "cell_type": "code",
   "execution_count": null,
   "metadata": {},
   "outputs": [],
   "source": [
    "abs( -7.8 )"
   ]
  },
  {
   "cell_type": "markdown",
   "metadata": {},
   "source": [
    "Funkcja wbudowana `pow` przyjmuje dwa argumenty i zwraca pierwszy z nich podniesiony do potęgi równej drugiemu z nich:"
   ]
  },
  {
   "cell_type": "code",
   "execution_count": null,
   "metadata": {},
   "outputs": [],
   "source": [
    "pow( 4 , 2 )"
   ]
  },
  {
   "cell_type": "markdown",
   "metadata": {},
   "source": [
    "Poznaliśmy też funkcje `range` i pamiętamy, iż może one być wywołana z jednym, dwoma albo trzema argumentami, a zwraca odpowiedni ciąg liczb całkowitych, który po konwersji na listę wygląda tak:"
   ]
  },
  {
   "cell_type": "code",
   "execution_count": null,
   "metadata": {},
   "outputs": [],
   "source": [
    "list( range( 10 ) )"
   ]
  },
  {
   "cell_type": "code",
   "execution_count": null,
   "metadata": {},
   "outputs": [],
   "source": [
    "list( range( 5 , 10 ) )"
   ]
  },
  {
   "cell_type": "code",
   "execution_count": null,
   "metadata": {},
   "outputs": [],
   "source": [
    "list( range( 5 , 10 , 2 ) )"
   ]
  },
  {
   "cell_type": "markdown",
   "metadata": {},
   "source": [
    "Zauważmy tu dwie rzeczy: Po pierwsze, liczba argumentów funkcji `range` waha się od jednego do trzech, ni mniej, ni więcej - zobaczymy później, jak definiować funkcje, które mogą przyjmować _różną liczbę argumentów_. Po drugie, wywołaliśmy tu funkcję `list` z argumentem będącym rezultatem wywołania funkcji `range`."
   ]
  },
  {
   "cell_type": "markdown",
   "metadata": {},
   "source": [
    "Poznaliśmy też funkcję `enumerate`, przyjmującą jako argument kolekcję uporządkowaną - np. string, listę, czy tuplę - a zwracającą listę tupli 2-elementowych:"
   ]
  },
  {
   "cell_type": "code",
   "execution_count": null,
   "metadata": {},
   "outputs": [],
   "source": [
    "list( enumerate( 'abc' ) )"
   ]
  },
  {
   "cell_type": "markdown",
   "metadata": {},
   "source": [
    "Inna funkcja wbudowana, `zip`, może przyjmować _dowolną_ liczbę argumentów będących kolekcjami uporządkowanymi i zwraca listę tupli zawierających kolejno ich pierwsze elementy, ich drugie elementy itd."
   ]
  },
  {
   "cell_type": "code",
   "execution_count": null,
   "metadata": {},
   "outputs": [],
   "source": [
    "list( zip( 'quiz' , 'hazy' , 'jack' , 'lazy' , 'haze' ) )"
   ]
  },
  {
   "cell_type": "markdown",
   "metadata": {},
   "source": [
    "Również później zobaczymy, jak definiować funkcje, które mogą przyjmować _nieokreśloną z góry liczbę argumentów_."
   ]
  },
  {
   "cell_type": "markdown",
   "metadata": {},
   "source": [
    "#### Przykład: Metody to też funkcje!"
   ]
  },
  {
   "cell_type": "markdown",
   "metadata": {},
   "source": [
    "W poprzednich Lekcjach wielokrotnie używaliśmy funkcji, ale także metod - i nigdy dokładnie nie wytłumaczyliśmy różnic między nimi. Są to pojęcia bardzo podobne - metoda to także funkcja, lecz \"powiązana\" z określonym typem danych. Mamy więc metody powiązane z typem danych `str`, takie jak `lower`, `join`, `replace` itd. (zob. Lekcja 2). Mamy metody powiązane z typem danych `list`, jak `index`, `count`, `append` (zob. Lekcja 5). Mamy metody powiązane z typem danych `dict`, jak `get` czy `update` (zob. Lekcja 8). Itd.\n",
    "\n",
    "Składnia wywoływania jest też nieco inna: Funkcje wywołujemy jak wyżej, tj. nazwa funkcji i argumenty w nawiasach okrągłych:\n",
    "```\n",
    "function_name(arguments)\n",
    "```\n",
    "Metodę natomiast - powiązaną z określonym typem danym - wywołujemy po kropce od obiektu tego typu, po której następuje nazwa metody i nawiasy okrągłe z ewentualnymi innymi argumentami (albo puste w środku, gdy tych argumentów nie ma):\n",
    "```\n",
    "obj.method_name(other_arguments)\n",
    "```\n",
    "Choć nie robi się tego w praktyce, można metodę wywołać identyczną składnią, jak funkcję - lecz trzeba wówczas:\n",
    "- podać jej \"pełną\" nazwę składającą się z nazwy typu, kropki i nazwy metody, np. metoda `count` typu danych `list` nazywa się w pełni `list.count`;\n",
    "- obiekt `obj`, na którym wywołujemy metodę, podać jako pierwszy argument w nawiasach okrągłych, a po nim dopiero ewentualną resztę argumentów.\n",
    "\n",
    "Zatem:\n",
    "```\n",
    "type_name.method_name(obj, other_arguments)\n",
    "```"
   ]
  },
  {
   "cell_type": "markdown",
   "metadata": {},
   "source": [
    "Np. zamiast:"
   ]
  },
  {
   "cell_type": "code",
   "execution_count": null,
   "metadata": {},
   "outputs": [],
   "source": [
    "'ABC'.lower()"
   ]
  },
  {
   "cell_type": "markdown",
   "metadata": {},
   "source": [
    "... możemy równie dobrze napisać:"
   ]
  },
  {
   "cell_type": "code",
   "execution_count": null,
   "metadata": {},
   "outputs": [],
   "source": [
    "str.lower( 'ABC' )"
   ]
  },
  {
   "cell_type": "markdown",
   "metadata": {},
   "source": [
    "Zamiast:"
   ]
  },
  {
   "cell_type": "code",
   "execution_count": null,
   "metadata": {},
   "outputs": [],
   "source": [
    "', '.join( [ 'one' , 'two' , 'three' ] )"
   ]
  },
  {
   "cell_type": "markdown",
   "metadata": {},
   "source": [
    "... możemy napisać:"
   ]
  },
  {
   "cell_type": "code",
   "execution_count": null,
   "metadata": {},
   "outputs": [],
   "source": [
    "str.join( ', ' , [ 'one' , 'two' , 'three' ] )"
   ]
  },
  {
   "cell_type": "markdown",
   "metadata": {},
   "source": [
    "Zamiast:"
   ]
  },
  {
   "cell_type": "code",
   "execution_count": null,
   "metadata": {},
   "outputs": [],
   "source": [
    "lst = [ 3 , 1 , 3 , 3 , 3 , 2 , 1 , 2 , 3 ]\n",
    "\n",
    "lst.count( 3 )"
   ]
  },
  {
   "cell_type": "markdown",
   "metadata": {},
   "source": [
    "... możemy napisać:"
   ]
  },
  {
   "cell_type": "code",
   "execution_count": null,
   "metadata": {},
   "outputs": [],
   "source": [
    "list.count( lst , 3 )"
   ]
  },
  {
   "cell_type": "markdown",
   "metadata": {},
   "source": [
    "Zamiast:"
   ]
  },
  {
   "cell_type": "code",
   "execution_count": null,
   "metadata": {},
   "outputs": [],
   "source": [
    "d = { 'a' : 1 , 'b' : 2 }\n",
    "\n",
    "d.get( 'c' , -1 )"
   ]
  },
  {
   "cell_type": "markdown",
   "metadata": {},
   "source": [
    "... możemy napisać:"
   ]
  },
  {
   "cell_type": "code",
   "execution_count": null,
   "metadata": {},
   "outputs": [],
   "source": [
    "dict.get( d , 'c' , -1 )"
   ]
  },
  {
   "cell_type": "markdown",
   "metadata": {},
   "source": [
    "I tak dalej. To pokazuje, że metody też są funkcjami - ale szczególnymi, bo powiązanymi z konkretnym typem danych, zdefiniowanymi w treści definicji tego typu."
   ]
  },
  {
   "cell_type": "markdown",
   "metadata": {},
   "source": [
    "#### Przykład: Podstawowe funkcje matematyczne"
   ]
  },
  {
   "cell_type": "markdown",
   "metadata": {},
   "source": [
    "Innym przykładem są typowe funkcje matematyczne, od których zaczęliśmy tę lekcję. Nie są one częścią biblioteki standardowej Pythona, ale możemy je **zaimportować** (\"import\") z **modułu** (\"module\") o nazwie `math`. Moduł to po prostu plik, który ktoś wcześniej przygotował, a który zawiera m.in. definicje pewnych funkcji. Importowanie oznacza spojrzenie do tego pliku i użycie definicji funkcji tam zawartych. Programowanie w Pythonie najczęściej polega na pracy z konkretnymi modułami zawierającymi przydatne nam rozwiązania; większość rzeczy ktoś już gdzieś napisał! Codzienna praca z Pythona polega więc często na wyszukiwaniu w sieci potrzebnych nam modułów i zapoznawaniu się z ich dokumentacją; proste wyszukanie pozwala nam np. stwierdzić, że opis funkcji zawartych w module `math` znajduje się [tutaj](https://docs.python.org/3/library/math.html)."
   ]
  },
  {
   "cell_type": "markdown",
   "metadata": {},
   "source": [
    "Zaimportować moduł możemy w całości, co daje nam dostęp do wszystkich funkcji w nim zdefiniowanych. Piszemy wtedy np.:\n",
    "```\n",
    "import math\n",
    "```\n",
    "co daje nam dostęp do wszystkich funkcji w module o nazwie `math`. Trzeba wówczas jednak pamiętać o następującej zasadzie: wywołanie funkcji odbywa się nie tylko poprzez nazwę funkcji, ale nazwa ta musi poprzedzona być nazwą modułu oraz kropką. Przykładem funkcji w module `math` jest sinus, `sin`, a więc wywołując ją musimy użyć pełnej nazwy `math.sin`."
   ]
  },
  {
   "cell_type": "code",
   "execution_count": null,
   "metadata": {},
   "outputs": [],
   "source": [
    "import math # importujemy moduł math, który jest plikiem zawierającym definicje wielu funkcji matematycznych\n",
    "\n",
    "math.sin( 0.87 ) # wywołanie funkcji math.sin, a więc funkcji sin z modułu math"
   ]
  },
  {
   "cell_type": "markdown",
   "metadata": {},
   "source": [
    "Import możemy przeprowadzić również w sposób selektywny, a więc zaimportować z danego modułu jedynie potrzebne nam funkcje, a nie cały plik. Piszemy wówczas np.:\n",
    "```\n",
    "from math import sin , cos , tan\n",
    "```\n",
    "i wtedy do wywołania funkcji używamy jej nazwy _bez_ poprzedzającej nazwy modułu."
   ]
  },
  {
   "cell_type": "code",
   "execution_count": null,
   "metadata": {},
   "outputs": [],
   "source": [
    "from math import sin , cos , tan # z modułu math importujemy tylko kilka funkcji (i nie mamy dostępu do żadnych innych!)\n",
    "\n",
    "tan( 0.87 ) * cos( 1.15 ) / sin( - 3.45 ) # teraz wywołanie odbywa się po prostu przy użyciu samej nazwy funkcji; nie: math.tan!"
   ]
  },
  {
   "cell_type": "markdown",
   "metadata": {},
   "source": [
    "## 2. Definiowanie funkcji"
   ]
  },
  {
   "cell_type": "markdown",
   "metadata": {},
   "source": [
    "### 2.1. `def`"
   ]
  },
  {
   "cell_type": "markdown",
   "metadata": {},
   "source": [
    "#### Ogólna składnia"
   ]
  },
  {
   "cell_type": "markdown",
   "metadata": {},
   "source": [
    "Oprócz funkcji wbudowanych (np. `abs`, `len`, `sum`, ...), lub też takich, które importujemy z jakiegoś modułu (np. `math.sin`), możemy **definiować własne funkcje** (\"user-defined functions\", UDFs). Mając w pamięci analogię z \"maszynką\", która przetwarza argumenty i \"wypluwa\" wynik, z programistycznego punktu widzenia **definicja funkcji** (\"function definition\") będzie osobnym blokiem kodu, który:\n",
    "\n",
    "- nadaje funkcji nazwę;\n",
    "\n",
    "- zawiera listę argumentów, jakie funkcja przyjmuje;\n",
    "\n",
    "- definiuje operacje, jakie \"maszynka\" wykonuje na swoich argumentach;\n",
    "\n",
    "- definiuje końcowy rezultat, jaki funkcja zwraca.\n",
    "\n",
    "Ogólna składnia zbiera te wszystkie elementy, rozpoczynając od słowa kluczowego `def`, i zwykle wygląda tak:\n",
    "\n",
    "```\n",
    "def function_name(arguments):\n",
    "    # various operations\n",
    "    return result\n",
    "    \n",
    "```\n",
    "Pierwsza linijka - z nazwą `function_name` i argumentami `arguments` - nazywa się **nagłówkiem** (\"header\"), a cała treść wykonywanych operacji to **ciało** (\"body\") funkcji, które zawiera w szczególności - po słowie kluczowym `return` - rezultat `result`, który funkcja **zwraca** (\"returns\"); ciało funkcji określone jest przez wcięcie kodu, identycznie jak przy instrukcjach warunkowych czy pętlach."
   ]
  },
  {
   "cell_type": "markdown",
   "metadata": {},
   "source": [
    "Dla przykładu, prosta funkcja matematyczna z początku lekcji może być zdefiniowana jako:"
   ]
  },
  {
   "cell_type": "code",
   "execution_count": null,
   "metadata": {},
   "outputs": [],
   "source": [
    "def f( x ): # definicja funkcji o nazwie f z jednym argumentem x\n",
    "    \n",
    "    # ciało funkcji\n",
    "    \n",
    "    y = 2 * x + 5 # argument x jest przekształcany w y\n",
    "    \n",
    "    return y # y jest rezultatem zwracanym przez funkcję"
   ]
  },
  {
   "cell_type": "markdown",
   "metadata": {},
   "source": [
    "... a jej wywołanie jest:"
   ]
  },
  {
   "cell_type": "code",
   "execution_count": null,
   "metadata": {},
   "outputs": [],
   "source": [
    "f( 7 ) # wywołanie funkcji o nazwie f z argumentem o wartości 7"
   ]
  },
  {
   "cell_type": "markdown",
   "metadata": {},
   "source": [
    "Ta funkcja jest tak prosta, że całe wyrażenie obliczające rezultat możemy zawrzeć w linijce `return` bez ryzyka uczynienia kodu nieczytelnym."
   ]
  },
  {
   "cell_type": "code",
   "execution_count": null,
   "metadata": {},
   "outputs": [],
   "source": [
    "def f( x ):\n",
    "    return 2 * x + 5"
   ]
  },
  {
   "cell_type": "markdown",
   "metadata": {},
   "source": [
    "Zobaczmy inny przykład takiej \"krótkiej\" funkcji - a więc tylko `return` i jedno wyrażenie: Napiszmy funkcję, która ma dwa argumenty: listę `lst` oraz pewną dodatnią liczbę całkowitą `limit`. Niech zwraca ona wartość logiczną `True`/`False` odpowiadającą na pytanie: czy długość listy `lst` jest większa lub równa od liczby `limit`. Długość listy `lst` dana jest - jak wiemy - poprzez wywołanie funkcji `len`, tj. `len(lst)`. Operator porównania daje tę wartość logiczną, np.:"
   ]
  },
  {
   "cell_type": "code",
   "execution_count": null,
   "metadata": {},
   "outputs": [],
   "source": [
    "len( [ 1 , 2 , 3 ] ) >= 10"
   ]
  },
  {
   "cell_type": "markdown",
   "metadata": {},
   "source": [
    "... zatem ta funkcja miałaby po prostu postać:"
   ]
  },
  {
   "cell_type": "code",
   "execution_count": null,
   "metadata": {},
   "outputs": [],
   "source": [
    "def is_long( lst , limit ):\n",
    "    return len( lst ) >= limit"
   ]
  },
  {
   "cell_type": "code",
   "execution_count": null,
   "metadata": {},
   "outputs": [],
   "source": [
    "is_long( [ 1 , 2 , 3 ] , 10 )"
   ]
  },
  {
   "cell_type": "markdown",
   "metadata": {},
   "source": [
    "Funkcja nie musi mieć żadnych argumentów! Pamiętajmy jednak oczywiście o nawiasach okrągłych - zarówno w definicji takiej funkcji, jak i w jej wywołaniu!"
   ]
  },
  {
   "cell_type": "code",
   "execution_count": 1,
   "metadata": {},
   "outputs": [],
   "source": [
    "def say_hello():\n",
    "    return 'Hello!'"
   ]
  },
  {
   "cell_type": "code",
   "execution_count": 2,
   "metadata": {},
   "outputs": [
    {
     "data": {
      "text/plain": [
       "'Hello!'"
      ]
     },
     "execution_count": 2,
     "metadata": {},
     "output_type": "execute_result"
    }
   ],
   "source": [
    "say_hello()"
   ]
  },
  {
   "cell_type": "markdown",
   "metadata": {},
   "source": [
    "<img style = 'float: left; margin-right: 10px; margin-bottom: 10px' src = 'Images/question.png'> Szybkie ćwiczenie 1:\n",
    "\n",
    "(a) Napisz funkcję, która przyjmuje jako argument temperaturę w stopniach Fahrenheita i przelicza ją na stopnie Celsjusza, zgodnie ze wzorem $C = (F - 32) \\cdot 5/9$.\n",
    "\n",
    "(b) Napisz funkcję, która oblicza wskaźnik masy ciała BMI (waga/wzrost$^2$) na podstawie wagi (w kilogramach) i wzrostu (w metrach).\n",
    "\n",
    "(c) Niedawnym odkryciem amerykańskich naukowców jest nowy wzór przeliczający wiek psa (w latach) $d$ na odpowiadający mu wiek człowieka $h$; ma on postać: $h = 16 \\ln(d) + 31$, gdzie $\\ln$ to tzw. logarytm naturalny (nie przejmuj się, jeśli to nieznane pojęcie). Zaimportuj funkcję `log` z modułu `math` (implementuje ona logarytm naturalny), a następnie napisz krótką funkcję dokonującą tego przeliczenia.\n",
    "\n",
    "(d) Napisz krótką funkcję (nazwaną powiedzmy `is_palindrome`), która zwraca wartość logiczną `True`/`False` odpowiadającą na pytanie, czy jej argument - będący stringiem - jest palindromem, a więc jest identyczny do swojego lustrzanego odbicia."
   ]
  },
  {
   "cell_type": "code",
   "execution_count": null,
   "metadata": {},
   "outputs": [],
   "source": [
    "# szybkie ćwiczenie 1a - rozwiązanie\n",
    "\n"
   ]
  },
  {
   "cell_type": "code",
   "execution_count": null,
   "metadata": {},
   "outputs": [],
   "source": [
    "# szybkie ćwiczenie 1b - rozwiązanie\n",
    "\n"
   ]
  },
  {
   "cell_type": "code",
   "execution_count": null,
   "metadata": {},
   "outputs": [],
   "source": [
    "# szybkie ćwiczenie 1c - rozwiązanie\n",
    "\n"
   ]
  },
  {
   "cell_type": "code",
   "execution_count": null,
   "metadata": {},
   "outputs": [],
   "source": [
    "# szybkie ćwiczenie 1d - rozwiązanie\n",
    "\n"
   ]
  },
  {
   "cell_type": "markdown",
   "metadata": {},
   "source": [
    "Wszystkie powyższe funkcje były \"krótkie\" w tym sensie, że dało się je zapisać jako jedno wyrażenie po słowie `return`. Operacje, które funkcja wykonuje, mogą jednakże być dużo bardziej skomplikowane i rozciągać się na wiele linii kodu w ciele funkcji - zob. niżej."
   ]
  },
  {
   "cell_type": "markdown",
   "metadata": {},
   "source": [
    "#### Uwaga techniczna: `def` jest stwierdzeniem wykonywalnym"
   ]
  },
  {
   "cell_type": "markdown",
   "metadata": {},
   "source": [
    "`def` jest tzw. stwierdzeniem wykonywalnym (\"executable statement\"), co oznacza, iż funkcja zaczyna istnieć dopiero wtedy, kiedy Python przy wykonywaniu kodu (\"runtime\") dochodzi do miejsca z definicją `def`."
   ]
  },
  {
   "cell_type": "markdown",
   "metadata": {},
   "source": [
    "Jedną z implikacji jest to, że funkcję można do woli **redefiniować**, np.:"
   ]
  },
  {
   "cell_type": "code",
   "execution_count": null,
   "metadata": {},
   "outputs": [],
   "source": [
    "def f( a , b ): # funkcja f zaczyna istnieć, kiedy Python dochodzi do tego miejsca w kodzie\n",
    "    return a * b\n",
    "\n",
    "print( f( 5 , 7 ) )\n",
    "\n",
    "def f( a , b ): # kiedy Python dochodzi tutaj, tworzy inną funkcję o nazwie f - f teraz odnosi się do niej, nie do poprzedniej\n",
    "    return a + b\n",
    "\n",
    "print( f( 5 , 7 ) )"
   ]
  },
  {
   "cell_type": "markdown",
   "metadata": {},
   "source": [
    "Inną implikacją jest to, że `def` może pojawić się w dowolnym miejscu w kodzie, gdzie jakiekolwiek inne stwierdzenie mogłoby się pojawić - np. w instrukcji warunkowej:"
   ]
  },
  {
   "cell_type": "code",
   "execution_count": 8,
   "metadata": {},
   "outputs": [
    {
     "data": {
      "text/plain": [
       "0.3"
      ]
     },
     "execution_count": 8,
     "metadata": {},
     "output_type": "execute_result"
    }
   ],
   "source": [
    "flag = False\n",
    "\n",
    "if flag:\n",
    "    def rescale( x ):\n",
    "        return 10 * x\n",
    "else:\n",
    "    def rescale( x ):\n",
    "        return x / 10\n",
    "\n",
    "rescale( 3 )"
   ]
  },
  {
   "cell_type": "markdown",
   "metadata": {},
   "source": [
    "... czy pętli. Może być też zagnieżdżone w innym stwierdzeniu `def`:"
   ]
  },
  {
   "cell_type": "code",
   "execution_count": 26,
   "metadata": {},
   "outputs": [],
   "source": [
    "def cross_out_all_proper_names( text ):\n",
    "    \n",
    "    # definicja funkcji znajdująca się w ciele innej funkcji\n",
    "    \n",
    "    def cross_out_proper_name( word ):\n",
    "        \n",
    "        if word[ 0 ].isupper():\n",
    "            \n",
    "            word_transformed = '-----'\n",
    "            \n",
    "            last_symbol = word[ -1 ]\n",
    "            if not last_symbol.isalpha():\n",
    "                word_transformed += last_symbol\n",
    "        \n",
    "        elif word.isnumeric():\n",
    "            word_transformed = '?????'\n",
    "        \n",
    "        else:\n",
    "            word_transformed = word\n",
    "        \n",
    "        return word_transformed\n",
    "    \n",
    "    # używamy tak zdefiniowanej funkcji to różnych przekształceń...\n",
    "    \n",
    "    crossed_out_words = [ cross_out_proper_name( word ) for word in text.split() ]\n",
    "    crossed_out_text = ' '.join( crossed_out_words )\n",
    "    \n",
    "    return crossed_out_text"
   ]
  },
  {
   "cell_type": "code",
   "execution_count": 29,
   "metadata": {},
   "outputs": [
    {
     "data": {
      "text/plain": [
       "'----- -----, together with ----- and ????? dwarves, left the ----- in the year of ????? for a quest to the ----- ----- to reclaim the treasure of the dragon -----.'"
      ]
     },
     "execution_count": 29,
     "metadata": {},
     "output_type": "execute_result"
    }
   ],
   "source": [
    "cross_out_all_proper_names( 'Bilbo Baggins, together with Gandalf and 13 dwarves, left the Shire in the year of 2941 for a quest to the Lonely Mountain to reclaim the treasure of the dragon Smaug.' )"
   ]
  },
  {
   "cell_type": "markdown",
   "metadata": {},
   "source": [
    "Oczywiście, możemy zadać pytanie o _sens_ robienia tego w ten sposób - tu np. nic nie stoi na przeszkodzie, aby funkcję `cross_out_proper_name` zdefiniować wcześniej, a potem tylko wywołać w ciele funkcji `cross_out_all_proper_names`. Wyobraźmy sobie jednak, że nie interesuje nas używanie funkcji `cross_out_proper_name` w innych kontekstach - wówczas \"chowając\" jej definicję wewnątrz funkcji `cross_out_all_proper_names` chronimy się np. przed jej ponownym użyciem gdzie indziej, co może być niepożądane. Zatem decyzję o sensie tej konstrukcji musi podjąć programista - tu pokazujemy tylko, iż jest możliwe zagnieżdżanie stwierdzeń `def`."
   ]
  },
  {
   "cell_type": "markdown",
   "metadata": {},
   "source": [
    "Z drugiej strony, `def` będące stwierdzeniem oznacza, że nie możemy napisać np. listy zawierającej elementy ze słowami `def`:\n",
    "```\n",
    "[ def f1(x): ... , def f2(x): ... , def f3(x): ... ] # niepoprawnie!\n",
    "```\n",
    "Te funkcje musimy wcześniej zdefiniować, a potem w liście umieścić tylko ich nazwy:\n",
    "```\n",
    "[f1, f2, f3]\n",
    "```\n",
    "Np.:"
   ]
  },
  {
   "cell_type": "code",
   "execution_count": 47,
   "metadata": {},
   "outputs": [
    {
     "name": "stdout",
     "output_type": "stream",
     "text": [
      "19.68503937007874\n",
      "1.6404199475065617\n",
      "0.5468066491688539\n"
     ]
    }
   ],
   "source": [
    "def cm_to_in( cm ):\n",
    "    return cm / 2.54\n",
    "\n",
    "def cm_to_ft( cm ):\n",
    "    return cm / 30.48\n",
    "\n",
    "def cm_to_yards( cm ):\n",
    "    return cm / 91.44\n",
    "\n",
    "for convert_cm in [ cm_to_in , cm_to_ft , cm_to_yards ]:\n",
    "    print( convert_cm( 50 ) )"
   ]
  },
  {
   "cell_type": "markdown",
   "metadata": {},
   "source": [
    "### 2.2. Wariacje na temat `return`"
   ]
  },
  {
   "cell_type": "markdown",
   "metadata": {},
   "source": [
    "#### Funkcje zwracające wiele rezultatów jednocześnie"
   ]
  },
  {
   "cell_type": "markdown",
   "metadata": {},
   "source": [
    "Nic oczywiście nie stoi na przeszkodzie, aby funkcja zwracała _kolekcję_ obiektów, a więc kilka wartości jednocześnie. Poznaliśmy już kilka rodzajów kolekcji - listy, tuple, zbiory, słowniki - i każda z nich jest dobrym sposobem, aby zwrócić wiele wartości."
   ]
  },
  {
   "cell_type": "markdown",
   "metadata": {},
   "source": [
    "Napiszmy prostą funkcję, która dla danego stringu zwraca jego pierwszą i ostatnią literę, a także jego długość - i robi to w postaci słownika:"
   ]
  },
  {
   "cell_type": "code",
   "execution_count": 53,
   "metadata": {},
   "outputs": [
    {
     "data": {
      "text/plain": [
       "{'first letter': 'C', 'last letter': 'm', 'length': 7}"
      ]
     },
     "execution_count": 53,
     "metadata": {},
     "output_type": "execute_result"
    }
   ],
   "source": [
    "def word_stat( text ):\n",
    "    \n",
    "    first_letter = text[ 0 ]\n",
    "    last_letter = text[ -1 ]\n",
    "    text_len = len( text )\n",
    "    \n",
    "    return {\n",
    "        'first letter' : first_letter ,\n",
    "        'last letter' : last_letter ,\n",
    "        'length' : text_len\n",
    "    } # zwracamy kilka wartości w postaci słownika\n",
    "\n",
    "word_stat( 'Chatham' )"
   ]
  },
  {
   "cell_type": "markdown",
   "metadata": {},
   "source": [
    "Najczęstszym wyborem jest jednak tupla; w składni możemy pominąć nawiasy okrągłe (pakowanie tupli):"
   ]
  },
  {
   "cell_type": "code",
   "execution_count": 54,
   "metadata": {},
   "outputs": [
    {
     "data": {
      "text/plain": [
       "('C', 'm', 7)"
      ]
     },
     "execution_count": 54,
     "metadata": {},
     "output_type": "execute_result"
    }
   ],
   "source": [
    "def word_stat( text ):\n",
    "    \n",
    "    first_letter = text[ 0 ]\n",
    "    last_letter = text[ -1 ]\n",
    "    text_len = len( text )\n",
    "    \n",
    "    return first_letter , last_letter , text_len\n",
    "\n",
    "word_stat( 'Chatham' )"
   ]
  },
  {
   "cell_type": "markdown",
   "metadata": {},
   "source": [
    "... lub nawet:"
   ]
  },
  {
   "cell_type": "code",
   "execution_count": 55,
   "metadata": {},
   "outputs": [
    {
     "data": {
      "text/plain": [
       "('C', 'm', 7)"
      ]
     },
     "execution_count": 55,
     "metadata": {},
     "output_type": "execute_result"
    }
   ],
   "source": [
    "def word_stat( text ):\n",
    "    return text[ 0 ] , text[ -1 ] , len( text )\n",
    "\n",
    "word_stat( 'Chatham' )"
   ]
  },
  {
   "cell_type": "markdown",
   "metadata": {},
   "source": [
    "Chcąc przypisać wynik takiej funkcji do zmiennej, przypisujemy go do tupli tej samej długości - i również możemy pominąć nawiasy okrągłe (wypakowywanie tupli):"
   ]
  },
  {
   "cell_type": "code",
   "execution_count": 56,
   "metadata": {},
   "outputs": [
    {
     "name": "stdout",
     "output_type": "stream",
     "text": [
      "C\n",
      "m\n",
      "7\n"
     ]
    }
   ],
   "source": [
    "first , last , length = word_stat( 'Chatham' )\n",
    "\n",
    "print( first )\n",
    "print( last )\n",
    "print( length )"
   ]
  },
  {
   "cell_type": "markdown",
   "metadata": {},
   "source": [
    "Nie ma tu żadnej magii - funkcja może zwracać obiekt dowolnego typu, w szczególności tuplę czy słownik. Tupla będzie pewnie lepszym wyborem dla funkcji zwracajacych niewielką liczbę wartości, zaś słownik - gdy jest ich więcej i potrzebny jest opis tego, co która wartość znaczy."
   ]
  },
  {
   "cell_type": "markdown",
   "metadata": {},
   "source": [
    "#### Wielokrotny `return`"
   ]
  },
  {
   "cell_type": "markdown",
   "metadata": {},
   "source": [
    "Stwierdzenie `return` może pojawić się nie tylko na końcu ciała funkcji - jak do tej pory - ale w dowolnym jego miejscu, a nawet wielokrotnie! Zasada jest taka, że w momencie, w którym Python _pierwszy raz_ dochodzi do któregoś stwierdzenia `return`, wykonywanie funkcji jest natychmiast przerywane i dany rezultat zwracany."
   ]
  },
  {
   "cell_type": "markdown",
   "metadata": {},
   "source": [
    "Dla przykładu, [transformację Collatza](https://en.wikipedia.org/wiki/Collatz_conjecture) (mówiliśmy o niej w Lekcji 4 przy okazji pętli `while`) możemy zapisać \"klasycznie\":"
   ]
  },
  {
   "cell_type": "code",
   "execution_count": 188,
   "metadata": {},
   "outputs": [],
   "source": [
    "def collatz( n ):\n",
    "    \n",
    "    if n % 2 == 0:\n",
    "        n_transformed = n // 2\n",
    "    else:\n",
    "        n_transformed = 3 * n + 1\n",
    "    \n",
    "    return n_transformed"
   ]
  },
  {
   "cell_type": "code",
   "execution_count": 189,
   "metadata": {},
   "outputs": [
    {
     "data": {
      "text/plain": [
       "58"
      ]
     },
     "execution_count": 189,
     "metadata": {},
     "output_type": "execute_result"
    }
   ],
   "source": [
    "collatz( 19 )"
   ]
  },
  {
   "cell_type": "markdown",
   "metadata": {},
   "source": [
    "... lub też umieszczając `return` na różnych ścieżkach instrukcji warunkowej:"
   ]
  },
  {
   "cell_type": "code",
   "execution_count": 190,
   "metadata": {},
   "outputs": [],
   "source": [
    "def collatz( n ):\n",
    "    if n % 2 == 0:\n",
    "        return n // 2\n",
    "    else:\n",
    "        return 3 * n + 1"
   ]
  },
  {
   "cell_type": "code",
   "execution_count": 191,
   "metadata": {},
   "outputs": [
    {
     "data": {
      "text/plain": [
       "58"
      ]
     },
     "execution_count": 191,
     "metadata": {},
     "output_type": "execute_result"
    }
   ],
   "source": [
    "collatz( 19 )"
   ]
  },
  {
   "cell_type": "markdown",
   "metadata": {},
   "source": [
    "Inny przykład - napiszmy funkcję obliczającą najmniejszy dzielnik danej liczby naturalnej `n`:"
   ]
  },
  {
   "cell_type": "code",
   "execution_count": 64,
   "metadata": {},
   "outputs": [],
   "source": [
    "def min_divisor( n ):\n",
    "    if type( n ) is int and n >= 2:\n",
    "        for m in range( 2 , n + 1 ):\n",
    "            if n % m == 0:\n",
    "                return m\n",
    "    else:\n",
    "        return 'Error!'"
   ]
  },
  {
   "cell_type": "code",
   "execution_count": 67,
   "metadata": {},
   "outputs": [
    {
     "data": {
      "text/plain": [
       "11"
      ]
     },
     "execution_count": 67,
     "metadata": {},
     "output_type": "execute_result"
    }
   ],
   "source": [
    "min_divisor( 187 )"
   ]
  },
  {
   "cell_type": "code",
   "execution_count": 246,
   "metadata": {},
   "outputs": [
    {
     "data": {
      "text/plain": [
       "'Error!'"
      ]
     },
     "execution_count": 246,
     "metadata": {},
     "output_type": "execute_result"
    }
   ],
   "source": [
    "min_divisor( '187' )"
   ]
  },
  {
   "cell_type": "markdown",
   "metadata": {},
   "source": [
    "#### Funkcje czyste i modyfikatory"
   ]
  },
  {
   "cell_type": "markdown",
   "metadata": {},
   "source": [
    "W powyższych przykładach ciało funkcji kończy się zawsze stwierdzeniem `return`, po którym następuje wyrażenie, jakie funkcja zwraca. Nie jest to jednak konieczność - funkcja może nic nie zwracać! Co zatem nasza \"maszynka\" - po wrzuceniu do niej \"składników\" - robi? Ogólnie mówiąc, może zmieniać elementy swojego \"otoczenia\" - mieć tzw. **efekty uboczne** (\"side effects\") - np.:\n",
    "\n",
    "- drukować jakąś wiadomość;\n",
    "\n",
    "- modyfikować jakiś obiekt istniejący poza funkcją.\n",
    "\n",
    "Funkcje, z jakimi mieliśmy do tej pory do czynienia, nic nie drukowały, nie zmieniały też nic w swoim otoczeniu, a po prostu produkowały jakiś rezultat - są one nazywane **funkcjami czystymi** (\"pure functions\"). Odwrotnie, funkcje mające efekty uboczne w postaci np. drukowania lub modyfikacji czegoś zewnętrznego to tzw. **modyfikatory** (\"modifiers\").\n",
    "\n",
    "Modyfikatory mogą wprowadzać pewne zamieszanie, gdyż należy pamiętać, co i jak modyfikujemy. Niektóre języki programowania dopuszczają tylko czyste funkcje - to tzw. **programowanie funkcyjne** (\"functional programming\") - i są pewne dowody na to, że programowanie funkcyjne jest szybsze i mniej podatne na błędy. Modyfikatory bywają jednak użyteczne!"
   ]
  },
  {
   "cell_type": "markdown",
   "metadata": {},
   "source": [
    "#### Funkcje nic nie zwracające"
   ]
  },
  {
   "cell_type": "markdown",
   "metadata": {},
   "source": [
    "Najprostszym przykładem funkcji nie zwracającej żadnej wartości a mającej efekty uboczne jest funkcja, która coś drukuje:"
   ]
  },
  {
   "cell_type": "code",
   "execution_count": 250,
   "metadata": {},
   "outputs": [
    {
     "name": "stdout",
     "output_type": "stream",
     "text": [
      "Hello, dear Basia!\n"
     ]
    }
   ],
   "source": [
    "def greeting( name ):\n",
    "    print( 'Hello, dear ' + name + '!' ) # funkcja greeting nie zwraca żadnej wartości, ma jedynie efekt uboczny - drukowanie\n",
    "\n",
    "greeting( 'Basia' )"
   ]
  },
  {
   "cell_type": "markdown",
   "metadata": {},
   "source": [
    "Zauważmy brak linijki z `return`! Tak naprawdę, nie jest to do końca prawda: formalnie rzecz biorąc, funkcja nie posiadająca stwierdzenia `return` zwraca tzw. wartość `None`. Sprawdźmy to, próbując przypisać wynik powyższej funkcji do zmiennej:"
   ]
  },
  {
   "cell_type": "code",
   "execution_count": 251,
   "metadata": {},
   "outputs": [
    {
     "name": "stdout",
     "output_type": "stream",
     "text": [
      "Hello, dear Joasia!\n"
     ]
    }
   ],
   "source": [
    "g = greeting( 'Joasia' )"
   ]
  },
  {
   "cell_type": "code",
   "execution_count": 252,
   "metadata": {},
   "outputs": [],
   "source": [
    "g"
   ]
  },
  {
   "cell_type": "code",
   "execution_count": 253,
   "metadata": {},
   "outputs": [
    {
     "data": {
      "text/plain": [
       "True"
      ]
     },
     "execution_count": 253,
     "metadata": {},
     "output_type": "execute_result"
    }
   ],
   "source": [
    "g is None"
   ]
  },
  {
   "cell_type": "markdown",
   "metadata": {},
   "source": [
    "Kiedy nasza funkcja nie ma słowa `return`, Python automatycznie dodaje linijkę `return None`. Sami moglibyśmy to zrobić, aby podkreślić, że taka funkcja jednak coś zwraca - mianowicie `None`:"
   ]
  },
  {
   "cell_type": "code",
   "execution_count": 254,
   "metadata": {},
   "outputs": [
    {
     "name": "stdout",
     "output_type": "stream",
     "text": [
      "Hello, dear Basia!\n"
     ]
    }
   ],
   "source": [
    "def greeting( name ):\n",
    "    print( 'Hello, dear ' + name + '!' )\n",
    "    return None\n",
    "\n",
    "greeting( 'Basia' )"
   ]
  },
  {
   "cell_type": "markdown",
   "metadata": {},
   "source": [
    "(Moglibyśmy też po prostu napisać `return` bez niczego i efekt byłby ten sam.)"
   ]
  },
  {
   "cell_type": "markdown",
   "metadata": {},
   "source": [
    "Tak napisana funkcja jest modyfikatorem - modyfikuje swoje \"otoczenie\" poprzez wydrukowanie wiadomości. Moglibyśmy przepisać ją w formie funkcji czystej następująco:"
   ]
  },
  {
   "cell_type": "code",
   "execution_count": 255,
   "metadata": {},
   "outputs": [],
   "source": [
    "def greeting_pure( name ):\n",
    "    return 'Hello, dear ' + name + '!'"
   ]
  },
  {
   "cell_type": "markdown",
   "metadata": {},
   "source": [
    "Funkcja ta nic nie modyfikuje, jedynie zwraca jakiś rezultat. Możemy sprawdzić przypisując wynik jej wywołania do zmiennej:"
   ]
  },
  {
   "cell_type": "code",
   "execution_count": 256,
   "metadata": {},
   "outputs": [
    {
     "data": {
      "text/plain": [
       "'Hello, dear Basia!'"
      ]
     },
     "execution_count": 256,
     "metadata": {},
     "output_type": "execute_result"
    }
   ],
   "source": [
    "p = greeting_pure( 'Basia' )\n",
    "\n",
    "p"
   ]
  },
  {
   "cell_type": "code",
   "execution_count": 257,
   "metadata": {},
   "outputs": [
    {
     "data": {
      "text/plain": [
       "False"
      ]
     },
     "execution_count": 257,
     "metadata": {},
     "output_type": "execute_result"
    }
   ],
   "source": [
    "p is None"
   ]
  },
  {
   "cell_type": "markdown",
   "metadata": {},
   "source": [
    "Dobrym pomysłem może być unikanie modyfikatorów jeśli nie ma istotnej potrzeby by ich użyć."
   ]
  },
  {
   "cell_type": "markdown",
   "metadata": {},
   "source": [
    "#### Instrukcja `pass`"
   ]
  },
  {
   "cell_type": "markdown",
   "metadata": {},
   "source": [
    "Wspomnijmy w tym miejscu o słowie kluczowym `pass` - oznacza ono, \"nic nie rób\"."
   ]
  },
  {
   "cell_type": "code",
   "execution_count": 258,
   "metadata": {},
   "outputs": [],
   "source": [
    "def nothing():\n",
    "    pass"
   ]
  },
  {
   "cell_type": "code",
   "execution_count": 259,
   "metadata": {},
   "outputs": [],
   "source": [
    "nothing()"
   ]
  },
  {
   "cell_type": "code",
   "execution_count": 260,
   "metadata": {},
   "outputs": [
    {
     "data": {
      "text/plain": [
       "True"
      ]
     },
     "execution_count": 260,
     "metadata": {},
     "output_type": "execute_result"
    }
   ],
   "source": [
    "nothing() is None"
   ]
  },
  {
   "cell_type": "markdown",
   "metadata": {},
   "source": [
    "Jednym z zastosowań jest prototypowanie kodu - definiujemy funkcję, która na razie nic nie robi, dopiero później wypełnimy ją treścią. _Ciało funkcji nie może być puste, musi być wciętym blokiem kodu_, zatem jedynym sposobem, aby nic nie robiło, jest użycie `pass`."
   ]
  },
  {
   "cell_type": "markdown",
   "metadata": {},
   "source": [
    "Ta sama zasada obowiązuje dla innych wciętych bloków kodu - nie mogą być puste - np. w instrukcjach warunkowych, czy pętlach, i wtedy również możemy użyć `pass`. Np. zamiast pisać:"
   ]
  },
  {
   "cell_type": "code",
   "execution_count": 261,
   "metadata": {},
   "outputs": [],
   "source": [
    "x = 10\n",
    "\n",
    "if x > 1000:\n",
    "    print( f'{x} is large!' )"
   ]
  },
  {
   "cell_type": "markdown",
   "metadata": {},
   "source": [
    "... moglibyśmy napisać instrukcję warunkową obejmującą wszystkie możliwe przypadki:"
   ]
  },
  {
   "cell_type": "code",
   "execution_count": 262,
   "metadata": {},
   "outputs": [],
   "source": [
    "x = 10\n",
    "\n",
    "if x > 1000:\n",
    "    print( f'{x} is large!' )\n",
    "else:\n",
    "    pass"
   ]
  },
  {
   "cell_type": "markdown",
   "metadata": {},
   "source": [
    "### 2.3. Wariacje na temat argumentów"
   ]
  },
  {
   "cell_type": "markdown",
   "metadata": {},
   "source": [
    "#### Przekazywanie argumentów do funkcji"
   ]
  },
  {
   "cell_type": "markdown",
   "metadata": {},
   "source": [
    "Zdefiniowawszy jakąś funkcję, np.:"
   ]
  },
  {
   "cell_type": "code",
   "execution_count": 1,
   "metadata": {},
   "outputs": [],
   "source": [
    "def greeting_function( greeting , name ):\n",
    "    print( f'{greeting}, {name}!' )"
   ]
  },
  {
   "cell_type": "markdown",
   "metadata": {},
   "source": [
    "... wywołujemy ją przez **przekazanie** (\"pass\") jej argumentów w nawiasach okrągłych:"
   ]
  },
  {
   "cell_type": "code",
   "execution_count": 2,
   "metadata": {},
   "outputs": [
    {
     "name": "stdout",
     "output_type": "stream",
     "text": [
      "Hello, Asia!\n"
     ]
    }
   ],
   "source": [
    "greeting_function( 'Hello' , 'Asia' ) # chcemy, aby argument greeting miał wartość 'Hello', a name wartość 'Asia'"
   ]
  },
  {
   "cell_type": "markdown",
   "metadata": {},
   "source": [
    "Mówiąc bardziej precyzyjnie:\n",
    "\n",
    "- `greeting` i `name` w _definicji_ funkcji to tzw. **parametry**, inaczej **parametry formalne**; zachowują się one jak _zmienne_ zdefiniowane w ciele funkcji;\n",
    "\n",
    "- kiedy zaś _wywołujemy_ funkcję, to w nawiasach okrągłych przekazujemy tzw. **argumenty**, inaczej **parametry faktyczne**, czyli obiekty, na których to konkretnie ma być wywołana funkcja; tutaj zatem argumentami są obiekty typu string, `'Hello'` i `'Asia'`.\n",
    "\n",
    "Kiedy wywołujemy funkcję z jakimiś argumentami, następuje tzw. **powiązanie** (\"binding\") argumentów do parametrów, analogicznie do zwykłego przypisania obiektu do zmiennej:\n",
    "```\n",
    "greeting = 'Hello'\n",
    "name = 'Asia'\n",
    "```\n",
    "Innymi słowy, w ciele funkcji utworzyliśmy zmienne lokalne `greeting` i `name`, które są teraz referencjami (\"etykietami\") do obiektów `'Hello'` i `'Asia'`."
   ]
  },
  {
   "cell_type": "markdown",
   "metadata": {},
   "source": [
    "#### Argumenty pozycyjne (wymagane)"
   ]
  },
  {
   "cell_type": "markdown",
   "metadata": {},
   "source": [
    "Jest dość intuicyjne, że argumenty powinniśmy przekazywać do funkcji _w tej samej kolejności_, jak ustawione są parametry. Innymi słowy, powiązanie parametrów z argumentami następuje wedle kolejności. Pierwszy argument `'Hello'` jest powiązany z parametrem `greeting`, a drugi argument `'Asia'` z parametrem `name`.\n",
    "\n",
    "Wywoławszy funkcję z inną kolejnością argumentów niż kolejność parametrów doprowadzi rzecz jasna do niepożądanych efektów:"
   ]
  },
  {
   "cell_type": "code",
   "execution_count": 3,
   "metadata": {},
   "outputs": [
    {
     "name": "stdout",
     "output_type": "stream",
     "text": [
      "Asia, Hello!\n"
     ]
    }
   ],
   "source": [
    "greeting_function( 'Asia' , 'Hello' )"
   ]
  },
  {
   "cell_type": "markdown",
   "metadata": {},
   "source": [
    "Mówimy, że są to **argumenty pozycyjne** (\"positional arguments\"), jako że pozycja argumentów w wywołaniu funkcji musi odpowiadać pozycji parametrów w definicji funkcji."
   ]
  },
  {
   "cell_type": "markdown",
   "metadata": {},
   "source": [
    "Co więcej, także _liczba_ argumentów musi być dokładnie taka, jak parametrów:"
   ]
  },
  {
   "cell_type": "code",
   "execution_count": 4,
   "metadata": {},
   "outputs": [
    {
     "ename": "TypeError",
     "evalue": "greeting_function() missing 1 required positional argument: 'name'",
     "output_type": "error",
     "traceback": [
      "\u001b[1;31m---------------------------------------------------------------------------\u001b[0m",
      "\u001b[1;31mTypeError\u001b[0m                                 Traceback (most recent call last)",
      "\u001b[1;32m<ipython-input-4-29b0127d04df>\u001b[0m in \u001b[0;36m<module>\u001b[1;34m\u001b[0m\n\u001b[1;32m----> 1\u001b[1;33m \u001b[0mgreeting_function\u001b[0m\u001b[1;33m(\u001b[0m \u001b[1;34m'Hello'\u001b[0m \u001b[1;33m)\u001b[0m\u001b[1;33m\u001b[0m\u001b[1;33m\u001b[0m\u001b[0m\n\u001b[0m",
      "\u001b[1;31mTypeError\u001b[0m: greeting_function() missing 1 required positional argument: 'name'"
     ]
    }
   ],
   "source": [
    "greeting_function( 'Hello' )"
   ]
  },
  {
   "cell_type": "markdown",
   "metadata": {},
   "source": [
    "Z tego powodu argumenty pozycyjne nazywane są także **argumentami wymaganymi** (\"required arguments\")."
   ]
  },
  {
   "cell_type": "markdown",
   "metadata": {},
   "source": [
    "Argumenty pozycyjne (wymagane) to najprostszy sposób przekazania argumentów do funkcji, lecz w praktyce mogący sprawiać problemy:\n",
    "\n",
    "- Programista wywołujący funkcję musi dokładnie znać kolejność parametrów w definicji funkcji, co może prowadzić do pomyłek jeśli tych parametrów jest sporo, a sama definicja funkcji jest napisana gdzieś \"daleko\" (w zupełnie innym fragmencie kodu, czy też w innym module).\n",
    "\n",
    "- Może to sprawić też problemy z czytelnością kodu z wywołaniem funkcji. Jeśli przeczytasz gdzieś `some_func(13, -1, True, 'all', 0.001)`, to nie jest prosto pamiętać, jakiemu parametrowi ma odpowiadać wartość `13`, a jakiemu `True` itd., bez dokładnego studiowania definicji funkcji. Wywoływanie funkcji z wieloma argumentami pozycyjnymi jest zupełnie nieczytelne!"
   ]
  },
  {
   "cell_type": "markdown",
   "metadata": {},
   "source": [
    "#### Argumenty nazwane"
   ]
  },
  {
   "cell_type": "markdown",
   "metadata": {},
   "source": [
    "Na szczęście funkcję można wywoływać za pomocą tzw. **argumentów nazwanych** (\"keyword arguments\"): powiązanie argumentów z parametrami nie następuje wtedy wedle kolejności, lecz poprzez składnię `parameter = argument`, czyli poprzez odwołanie się do parametrów za pomocą ich _nazwy_."
   ]
  },
  {
   "cell_type": "code",
   "execution_count": 5,
   "metadata": {},
   "outputs": [
    {
     "name": "stdout",
     "output_type": "stream",
     "text": [
      "Hello, Asia!\n"
     ]
    }
   ],
   "source": [
    "greeting_function( greeting = 'Hello' , name = 'Asia' )"
   ]
  },
  {
   "cell_type": "markdown",
   "metadata": {},
   "source": [
    "Wówczas kolejność w wywołaniu nie gra roli - Python wie dokładnie, jaki argument chcemy powiązać z jakim parametrem, gdyż odwołaliśmy się do nich przez nazwy:"
   ]
  },
  {
   "cell_type": "code",
   "execution_count": 6,
   "metadata": {},
   "outputs": [
    {
     "name": "stdout",
     "output_type": "stream",
     "text": [
      "Hello, Asia!\n"
     ]
    }
   ],
   "source": [
    "greeting_function( name = 'Asia' , greeting = 'Hello' )"
   ]
  },
  {
   "cell_type": "markdown",
   "metadata": {},
   "source": [
    "Oczywiście, ciągle _liczba_ argumentów musi się zgadzać:"
   ]
  },
  {
   "cell_type": "code",
   "execution_count": 7,
   "metadata": {},
   "outputs": [
    {
     "ename": "TypeError",
     "evalue": "greeting_function() missing 1 required positional argument: 'greeting'",
     "output_type": "error",
     "traceback": [
      "\u001b[1;31m---------------------------------------------------------------------------\u001b[0m",
      "\u001b[1;31mTypeError\u001b[0m                                 Traceback (most recent call last)",
      "\u001b[1;32m<ipython-input-7-93bf39d7b626>\u001b[0m in \u001b[0;36m<module>\u001b[1;34m\u001b[0m\n\u001b[1;32m----> 1\u001b[1;33m \u001b[0mgreeting_function\u001b[0m\u001b[1;33m(\u001b[0m \u001b[0mname\u001b[0m \u001b[1;33m=\u001b[0m \u001b[1;34m'Asia'\u001b[0m \u001b[1;33m)\u001b[0m\u001b[1;33m\u001b[0m\u001b[1;33m\u001b[0m\u001b[0m\n\u001b[0m",
      "\u001b[1;31mTypeError\u001b[0m: greeting_function() missing 1 required positional argument: 'greeting'"
     ]
    }
   ],
   "source": [
    "greeting_function( name = 'Asia' )"
   ]
  },
  {
   "cell_type": "markdown",
   "metadata": {},
   "source": [
    "Nie możemy też rzecz jasna użyć nazwy parametru, którego nie ma w definicji funkcji:"
   ]
  },
  {
   "cell_type": "code",
   "execution_count": 8,
   "metadata": {},
   "outputs": [
    {
     "ename": "TypeError",
     "evalue": "greeting_function() got an unexpected keyword argument 'sincere_greeting'",
     "output_type": "error",
     "traceback": [
      "\u001b[1;31m---------------------------------------------------------------------------\u001b[0m",
      "\u001b[1;31mTypeError\u001b[0m                                 Traceback (most recent call last)",
      "\u001b[1;32m<ipython-input-8-99ca7b81d280>\u001b[0m in \u001b[0;36m<module>\u001b[1;34m\u001b[0m\n\u001b[1;32m----> 1\u001b[1;33m \u001b[0mgreeting_function\u001b[0m\u001b[1;33m(\u001b[0m \u001b[0mname\u001b[0m \u001b[1;33m=\u001b[0m \u001b[1;34m'Asia'\u001b[0m \u001b[1;33m,\u001b[0m \u001b[0msincere_greeting\u001b[0m \u001b[1;33m=\u001b[0m \u001b[1;34m'Hello'\u001b[0m \u001b[1;33m)\u001b[0m\u001b[1;33m\u001b[0m\u001b[1;33m\u001b[0m\u001b[0m\n\u001b[0m",
      "\u001b[1;31mTypeError\u001b[0m: greeting_function() got an unexpected keyword argument 'sincere_greeting'"
     ]
    }
   ],
   "source": [
    "greeting_function( name = 'Asia' , sincere_greeting = 'Hello' )"
   ]
  },
  {
   "cell_type": "markdown",
   "metadata": {},
   "source": [
    "Zauważmy, jak składnia ta uwypukla fakt, iż powiązanie argumentów z parametrami jest analogiczne do świetnie nam znanego przypisania obiektów do zmiennych."
   ]
  },
  {
   "cell_type": "markdown",
   "metadata": {},
   "source": [
    "Możemy wywoływać funkcję używając obu tych metod jednocześnie, tj. zarówno z argumentami pozycyjnymi, jak i nazwanymi - z tym ograniczeniem, że wszystkie argumenty pozycyjne muszą być _wcześniej_ niż wszystkie argumenty nazwane:"
   ]
  },
  {
   "cell_type": "code",
   "execution_count": 9,
   "metadata": {},
   "outputs": [
    {
     "name": "stdout",
     "output_type": "stream",
     "text": [
      "Hello, Asia!\n"
     ]
    }
   ],
   "source": [
    "greeting_function( 'Hello' , name = 'Asia' )"
   ]
  },
  {
   "cell_type": "markdown",
   "metadata": {},
   "source": [
    "... ale nie:"
   ]
  },
  {
   "cell_type": "code",
   "execution_count": 10,
   "metadata": {},
   "outputs": [
    {
     "ename": "SyntaxError",
     "evalue": "positional argument follows keyword argument (<ipython-input-10-543526a04b56>, line 1)",
     "output_type": "error",
     "traceback": [
      "\u001b[1;36m  File \u001b[1;32m\"<ipython-input-10-543526a04b56>\"\u001b[1;36m, line \u001b[1;32m1\u001b[0m\n\u001b[1;33m    greeting_function( greeting = 'Hello' , 'Asia' )\u001b[0m\n\u001b[1;37m                                           ^\u001b[0m\n\u001b[1;31mSyntaxError\u001b[0m\u001b[1;31m:\u001b[0m positional argument follows keyword argument\n"
     ]
    }
   ],
   "source": [
    "greeting_function( greeting = 'Hello' , 'Asia' )"
   ]
  },
  {
   "cell_type": "markdown",
   "metadata": {},
   "source": [
    "#### Parametry opcjonalne i domyślne wartości argumentów"
   ]
  },
  {
   "cell_type": "markdown",
   "metadata": {},
   "source": [
    "Często dobrą praktyką przy pisaniu funkcji jest powiedzenie użytkownikowi czegoś w stylu: \"Dla tego parametru rozsądną wartością jest to czy to.\" To tzw. **argument domyślny** (\"default argument\"), zaś parametr taki nazywamy **parametrem opcjonalnym** (\"optional parameter\").\n",
    "\n",
    "- parametry opcjonalne w definicji funkcji tworzymy poprzez składnię `parameter = default_argument`;\n",
    "\n",
    "- wówczas w wywołaniu tej funkcji można takiego argumentu już nie przekazywać (tj. pominąć go) - wówczas Python założy, że chcemy temu parametrowi nadać wartość domyślną;\n",
    "\n",
    "- można też rzecz jasna wywołać ten parametr z inną wartością, jak zwykle.\n",
    "\n",
    "Uwaga: Nie pomylmy argumentów domyślnych w definicji funkcji z - dyskutowanym powyżej - wywoływaniem funkcji za pomocą argumentów nazwanych! Składnia wygląda podobnie, `parameter = argument`, lecz różnica jest taka, iż:\n",
    "\n",
    "- argumenty domyślne podajemy w _definicji_ funkcji (po `def`) jako `parameter = default_argument`;\n",
    "\n",
    "- argumenty nazwane służą do _wywoływania_ funkcji - i w tym wywołaniu odnosimy się do nich poprzez `parameter = argument`.\n",
    "\n",
    "Nie wszystkie parametry muszą mieć nadane wartości domyślne - może być to tylko część z nich. Zasada jest tylko taka, że w definicji funkcji wszystkie parametry z wartościami domyślnymi muszą występować _po_ parametrach bez wartości domyślnych."
   ]
  },
  {
   "cell_type": "markdown",
   "metadata": {},
   "source": [
    "Jako przykład zdefiniujmy funkcję, nadając jednemu z jej parametrów wartość domyślną (drugi nie ma wartości domyślnej - musi być w definicji funkcji występować _przed_ tym z wartością domyślną):"
   ]
  },
  {
   "cell_type": "code",
   "execution_count": 16,
   "metadata": {},
   "outputs": [],
   "source": [
    "def polite_greeting_function( name , greeting = 'Most cordially welcome' ):\n",
    "    print( f'{greeting}, {name}!' )"
   ]
  },
  {
   "cell_type": "markdown",
   "metadata": {},
   "source": [
    "... gdzie podkreślmy, że nie możemy w definicji umieścić parametrów opcjonalnych przed tymi wymaganymi:"
   ]
  },
  {
   "cell_type": "code",
   "execution_count": 17,
   "metadata": {},
   "outputs": [
    {
     "ename": "SyntaxError",
     "evalue": "non-default argument follows default argument (<ipython-input-17-eb698c38bc80>, line 1)",
     "output_type": "error",
     "traceback": [
      "\u001b[1;36m  File \u001b[1;32m\"<ipython-input-17-eb698c38bc80>\"\u001b[1;36m, line \u001b[1;32m1\u001b[0m\n\u001b[1;33m    def polite_greeting_function( greeting = 'Most cordially welcome' , name ):\u001b[0m\n\u001b[1;37m                                 ^\u001b[0m\n\u001b[1;31mSyntaxError\u001b[0m\u001b[1;31m:\u001b[0m non-default argument follows default argument\n"
     ]
    }
   ],
   "source": [
    "def polite_greeting_function( greeting = 'Most cordially welcome' , name ):\n",
    "    print( f'{greeting}, {name}!' )"
   ]
  },
  {
   "cell_type": "markdown",
   "metadata": {},
   "source": [
    "Możemy funkcję tę wywołać jak zwykle, podając jej oba argumenty:"
   ]
  },
  {
   "cell_type": "code",
   "execution_count": 18,
   "metadata": {},
   "outputs": [
    {
     "name": "stdout",
     "output_type": "stream",
     "text": [
      "Hi, Asia!\n"
     ]
    }
   ],
   "source": [
    "polite_greeting_function( 'Asia' , 'Hi' ) # wywołanie za pomocą argumentów pozycyjnych"
   ]
  },
  {
   "cell_type": "code",
   "execution_count": 13,
   "metadata": {},
   "outputs": [
    {
     "name": "stdout",
     "output_type": "stream",
     "text": [
      "Hi, Asia!\n"
     ]
    }
   ],
   "source": [
    "polite_greeting_function( name = 'Asia' , greeting = 'Hi' ) # wywołanie za pomocą argumentów nazwanych"
   ]
  },
  {
   "cell_type": "markdown",
   "metadata": {},
   "source": [
    "Jednakże możemy też każdy z parametrów opcjonalnych _pominąć w wywołaniu_ funkcji - wtedy Python rozumie, że ma on mieć wartość domyślną:"
   ]
  },
  {
   "cell_type": "code",
   "execution_count": 14,
   "metadata": {},
   "outputs": [
    {
     "name": "stdout",
     "output_type": "stream",
     "text": [
      "Most cordially welcome, Asia!\n"
     ]
    }
   ],
   "source": [
    "polite_greeting_function( 'Asia' ) # wywołanie za pomocą argumentów pozycyjnych"
   ]
  },
  {
   "cell_type": "code",
   "execution_count": 15,
   "metadata": {},
   "outputs": [
    {
     "name": "stdout",
     "output_type": "stream",
     "text": [
      "Most cordially welcome, Asia!\n"
     ]
    }
   ],
   "source": [
    "polite_greeting_function( name = 'Asia' ) # wywołanie za pomocą argumentów nazwanych"
   ]
  },
  {
   "cell_type": "markdown",
   "metadata": {},
   "source": [
    "Gdybyśmy oba parametry zdefiniowali jako opcjonalne:"
   ]
  },
  {
   "cell_type": "code",
   "execution_count": 21,
   "metadata": {},
   "outputs": [],
   "source": [
    "def polite_greeting_function( name = '... ah, what\\'s your name?' , greeting = 'Most cordially welcome' ):\n",
    "    print( f'{greeting}, {name}!' )"
   ]
  },
  {
   "cell_type": "markdown",
   "metadata": {},
   "source": [
    "... to możemy rzecz jasna oba pominąć w wywołaniu:"
   ]
  },
  {
   "cell_type": "code",
   "execution_count": 22,
   "metadata": {},
   "outputs": [
    {
     "name": "stdout",
     "output_type": "stream",
     "text": [
      "Most cordially welcome, ... ah, what's your name?!\n"
     ]
    }
   ],
   "source": [
    "polite_greeting_function()"
   ]
  },
  {
   "cell_type": "markdown",
   "metadata": {},
   "source": [
    "... lub także tylko jeden z nich:"
   ]
  },
  {
   "cell_type": "code",
   "execution_count": 23,
   "metadata": {},
   "outputs": [
    {
     "name": "stdout",
     "output_type": "stream",
     "text": [
      "Most cordially welcome, Kasia!\n"
     ]
    }
   ],
   "source": [
    "polite_greeting_function( name = 'Kasia' )"
   ]
  },
  {
   "cell_type": "code",
   "execution_count": 24,
   "metadata": {},
   "outputs": [
    {
     "name": "stdout",
     "output_type": "stream",
     "text": [
      "Cheers, ... ah, what's your name?!\n"
     ]
    }
   ],
   "source": [
    "polite_greeting_function( greeting = 'Cheers' )"
   ]
  },
  {
   "cell_type": "markdown",
   "metadata": {},
   "source": [
    "Uwaga: Powyżej wywoływaliśmy tę funkcję używając składni argumentów nazwanych. Możemy też oczywiście użyć wywołania za pomocą argumentów pozycyjnych:"
   ]
  },
  {
   "cell_type": "code",
   "execution_count": 26,
   "metadata": {},
   "outputs": [
    {
     "name": "stdout",
     "output_type": "stream",
     "text": [
      "Yo, Paulina!\n"
     ]
    }
   ],
   "source": [
    "polite_greeting_function( 'Paulina' , 'Yo' )"
   ]
  },
  {
   "cell_type": "markdown",
   "metadata": {},
   "source": [
    "... i także wtedy możemy parametry opcjonalne pomijać - jednak składnia ma teraz swoje ograniczenia, jako że wywołanie tylko z jednym argumentem odnosi go tylko do pierwszego parametru:"
   ]
  },
  {
   "cell_type": "code",
   "execution_count": 25,
   "metadata": {},
   "outputs": [
    {
     "name": "stdout",
     "output_type": "stream",
     "text": [
      "Most cordially welcome, Kasia!\n"
     ]
    }
   ],
   "source": [
    "polite_greeting_function( 'Kasia' )"
   ]
  },
  {
   "cell_type": "markdown",
   "metadata": {},
   "source": [
    "... i nie dalibyśmy rady w ten sposób wywołać tej funkcji z parametrem `name` o wartości domyślnej, a parametrem `greeting` o wartości przekazanej w wywołaniu. Innymi słowy, bezpieczniej jest używać wywołania za pomocą argumentów nazawanych i wówczas mamy pełną kontrolę nad tym, któremu parametrowi przekazujemy wartość samodzielnie, a któremu pozostawiamy wartość domyślną."
   ]
  },
  {
   "cell_type": "markdown",
   "metadata": {},
   "source": [
    "#### Funkcje z nieznaną z góry liczbą parametrów wywoływanych pozycyjnie"
   ]
  },
  {
   "cell_type": "markdown",
   "metadata": {},
   "source": [
    "Możliwa jest jeszcze następująca \"magia\" - funkcja przyjmująca dowolną, niezadaną z góry, liczbę argumentów! Robimy to tak: w definicji funkcji, na liście parametrów, umieszczamy parametr poprzedzony operatorem gwiazdki `*` (zob. Lekcja 7); przyjęło się, że parametr ten nazywany jest `args` (choć dowolna nazwa jest dozwolona). Np.:"
   ]
  },
  {
   "cell_type": "code",
   "execution_count": 31,
   "metadata": {},
   "outputs": [],
   "source": [
    "def my_sum( *args ):\n",
    "    return sum( args )"
   ]
  },
  {
   "cell_type": "markdown",
   "metadata": {},
   "source": [
    "Teraz:\n",
    "\n",
    "- wywołując tę funkcję, możemy podać jej dowolną liczbę argumentów \"w miejsce\" `*args`,\n",
    "\n",
    "- te argumenty zostaną spakowane do tupli `args`, dostępnej wewnątrz funkcji."
   ]
  },
  {
   "cell_type": "code",
   "execution_count": 32,
   "metadata": {},
   "outputs": [
    {
     "data": {
      "text/plain": [
       "6"
      ]
     },
     "execution_count": 32,
     "metadata": {},
     "output_type": "execute_result"
    }
   ],
   "source": [
    "my_sum( 1 , 2 , 3 ) # wywołanie z trzema argumentami"
   ]
  },
  {
   "cell_type": "code",
   "execution_count": 33,
   "metadata": {},
   "outputs": [
    {
     "data": {
      "text/plain": [
       "15"
      ]
     },
     "execution_count": 33,
     "metadata": {},
     "output_type": "execute_result"
    }
   ],
   "source": [
    "my_sum( 1 , 2 , 3 , 7 , 11 , -9 ) # wywołanie z sześcioma argumentami"
   ]
  },
  {
   "cell_type": "markdown",
   "metadata": {},
   "source": [
    "Wszystkie przekazane tak argumenty pakowane są do tupli o nazwie `args` - i teraz z tuplą tą w ciele funkcji możemy robić, co tylko z tuplą można robić! Tu np. obliczyliśmy sumę elementów tupli za pomocą `sum(args)`. Pakowanie to odbywa się poprzez operator gwiazdki (zob. Lekcja 7):"
   ]
  },
  {
   "cell_type": "code",
   "execution_count": 35,
   "metadata": {},
   "outputs": [
    {
     "data": {
      "text/plain": [
       "[1, 2, 3]"
      ]
     },
     "execution_count": 35,
     "metadata": {},
     "output_type": "execute_result"
    }
   ],
   "source": [
    "*args , = 1 , 2 , 3\n",
    "\n",
    "args"
   ]
  },
  {
   "cell_type": "markdown",
   "metadata": {},
   "source": [
    "Inny przykład: Zdefiniujmy funkcję, która będzie miała dwa zwykłe parametry wymagane, a po nich dowolną liczbę parametrów wywoływanych pozycyjnie - to jest ogólna zasada, że `*args` musi być w definicji _po_ wszystkich parametrach wymaganych. Funkcja ta niech wydrukuje numer argumentu opcjonalnego i jego wartość - iterując się przez tuplę `args` w dobrze nam znany sposób:"
   ]
  },
  {
   "cell_type": "code",
   "execution_count": 36,
   "metadata": {},
   "outputs": [],
   "source": [
    "def print_args_with_comments( header , footer , *args ): # zwykłe argumenty pozycyjne muszą być na lewo od gwiazdki\n",
    "    \n",
    "    print( header )\n",
    "    \n",
    "    for i , arg in enumerate( args ): # args to tupla, tu się przez nią iterujemy\n",
    "        print( f'Argument number {i} is {arg}.' )\n",
    "    \n",
    "    print( footer )"
   ]
  },
  {
   "cell_type": "code",
   "execution_count": 37,
   "metadata": {},
   "outputs": [
    {
     "name": "stdout",
     "output_type": "stream",
     "text": [
      "List of arguments:\n",
      "Argument number 0 is 15.3.\n",
      "Argument number 1 is orange juice.\n",
      "Argument number 2 is [1, 2, 3].\n",
      "Argument number 3 is 0.\n",
      "That is all, folks!\n"
     ]
    }
   ],
   "source": [
    "print_args_with_comments( 'List of arguments:' , 'That is all, folks!' , 15.3 , 'orange juice' , [ 1 , 2 , 3 ] , 0 )"
   ]
  },
  {
   "cell_type": "markdown",
   "metadata": {},
   "source": [
    "Jako kolejny przykład, przypomnijmy sobie funkcję wbudowaną `range`. Może ona przyjmować jeden, dwa lub trzy argumenty:"
   ]
  },
  {
   "cell_type": "code",
   "execution_count": 38,
   "metadata": {},
   "outputs": [
    {
     "data": {
      "text/plain": [
       "[0, 1, 2, 3, 4, 5, 6, 7, 8, 9]"
      ]
     },
     "execution_count": 38,
     "metadata": {},
     "output_type": "execute_result"
    }
   ],
   "source": [
    "list( range( 10 ) )"
   ]
  },
  {
   "cell_type": "code",
   "execution_count": 39,
   "metadata": {},
   "outputs": [
    {
     "data": {
      "text/plain": [
       "[5, 6, 7, 8, 9]"
      ]
     },
     "execution_count": 39,
     "metadata": {},
     "output_type": "execute_result"
    }
   ],
   "source": [
    "list( range( 5 , 10 ) )"
   ]
  },
  {
   "cell_type": "code",
   "execution_count": 40,
   "metadata": {},
   "outputs": [
    {
     "data": {
      "text/plain": [
       "[5, 7, 9]"
      ]
     },
     "execution_count": 40,
     "metadata": {},
     "output_type": "execute_result"
    }
   ],
   "source": [
    "list( range( 5 , 10 , 2 ) )"
   ]
  },
  {
   "cell_type": "markdown",
   "metadata": {},
   "source": [
    "Spróbujmy teraz napisać samodzielnie tę funkcję - i to w ogólniejszej postaci, polegającej na tym, że każdy z argumentów może być dowolną liczbą zmiennoprzecinkową, niekoniecznie całkowitą; nasza funkcja będzie też od razu zwracać listę, bez potrzeby konwersji na listę j.w.\n",
    "\n",
    "Skoro możemy mieć jeden, dwa albo trzy argumenty, użyjmy konstrukcji z operatorem gwiazdki - przekazujemy argumenty funkcji za pomocą `*args`. Teraz `args` w ciele funkcji jest tuplą. Sprawdzamy najpierw, czy jej długość to 1, 2 albo 3 - jeśli nie, zwracamy komunikat z błędem. Jeśli tak, to w zależności od jej długości, tworzymy zmienne `start`, `stop` i `step`, do których odpowiednio przypisujemy elementy tupli `args`, w zależności od jej długości. Np. jeśli długość tupli `args` jest 1 (czyli podaliśmy jej jeden argument), to `start` ma być równe 0, `stop` ma być równe temu jednemu argumentowu, zaś `step` ma być równe 1. Finalnie, listę wynikową konstruujemy iteracyjnie, pętlą `while`."
   ]
  },
  {
   "cell_type": "code",
   "execution_count": 66,
   "metadata": {},
   "outputs": [],
   "source": [
    "def my_range( *args ):\n",
    "    \n",
    "    if len( args ) not in [ 1 , 2 , 3 ]:\n",
    "        return 'Error! Please pass one, two or three arguments to the function.'\n",
    "    \n",
    "    else:\n",
    "        \n",
    "        # w zależności od liczby przekazanych argumentów, zdefiniujmy początek (start), koniec (stop) i krok (step) naszego przedziału\n",
    "        \n",
    "        if len( args ) == 1:\n",
    "            start , stop , step = 0 , args[ 0 ] , 1\n",
    "        elif len( args ) == 2:\n",
    "            start , stop , step = args[ 0 ] , args[ 1 ] , 1 # lub: start , stop , step = *args , 1\n",
    "        elif len( args ) == 3:\n",
    "            start , stop , step = args\n",
    "        \n",
    "        # zdefiniujmy znak kroku - on będzie określał, czy idziemy \"do przodu\", czy w \"tył\"\n",
    "        \n",
    "        if step > 0:\n",
    "            step_sign = 1\n",
    "        elif step < 0:\n",
    "            step_sign = -1\n",
    "        else:\n",
    "            return 'Error! Step should be non-zero.'\n",
    "        \n",
    "        # tworzymy nasz rezultat - listę range_list - iteracyjnie\n",
    "        # zaczynamy od \"pustego pudełka\" [] i od pierwszego elementu na liście, item = start\n",
    "        # w każdym kroku iteracji dodajemy item do \"pudełka\" i zwiększamy item o step\n",
    "        # robimy to dopóki item < stop (dla kroku dodatniego) albo item > stop (dla kroku ujemnego), co łącznie można zapisać jako (stop - item) * step_sign > 0\n",
    "        \n",
    "        range_list = []\n",
    "        item = start\n",
    "        while ( stop - item ) * step_sign > 0:\n",
    "            range_list.append( item )\n",
    "            item += step\n",
    "    \n",
    "        return range_list"
   ]
  },
  {
   "cell_type": "markdown",
   "metadata": {},
   "source": [
    "Przykłady wywołania:"
   ]
  },
  {
   "cell_type": "code",
   "execution_count": 67,
   "metadata": {},
   "outputs": [
    {
     "data": {
      "text/plain": [
       "[0, 1, 2, 3, 4, 5, 6, 7, 8, 9, 10]"
      ]
     },
     "execution_count": 67,
     "metadata": {},
     "output_type": "execute_result"
    }
   ],
   "source": [
    "my_range( 10.3 )"
   ]
  },
  {
   "cell_type": "code",
   "execution_count": 58,
   "metadata": {},
   "outputs": [
    {
     "data": {
      "text/plain": [
       "[5.4, 6.4, 7.4, 8.4, 9.4, 10.4]"
      ]
     },
     "execution_count": 58,
     "metadata": {},
     "output_type": "execute_result"
    }
   ],
   "source": [
    "my_range( 5.4 , 10.5 )"
   ]
  },
  {
   "cell_type": "code",
   "execution_count": 59,
   "metadata": {},
   "outputs": [
    {
     "data": {
      "text/plain": [
       "[5.4, 6.9, 8.4, 9.9]"
      ]
     },
     "execution_count": 59,
     "metadata": {},
     "output_type": "execute_result"
    }
   ],
   "source": [
    "my_range( 5.4 , 10.5 , 1.5 )"
   ]
  },
  {
   "cell_type": "code",
   "execution_count": 61,
   "metadata": {},
   "outputs": [
    {
     "data": {
      "text/plain": [
       "[10, 9, 8, 7, 6]"
      ]
     },
     "execution_count": 61,
     "metadata": {},
     "output_type": "execute_result"
    }
   ],
   "source": [
    "my_range( 10 , 5 , -1 )"
   ]
  },
  {
   "cell_type": "code",
   "execution_count": 62,
   "metadata": {},
   "outputs": [
    {
     "data": {
      "text/plain": [
       "[10.5, 9.0, 7.5, 6.0]"
      ]
     },
     "execution_count": 62,
     "metadata": {},
     "output_type": "execute_result"
    }
   ],
   "source": [
    "my_range( 10.5 , 5.4 , -1.5 )"
   ]
  },
  {
   "cell_type": "code",
   "execution_count": 65,
   "metadata": {},
   "outputs": [
    {
     "data": {
      "text/plain": [
       "'Error! Step should be non-zero.'"
      ]
     },
     "execution_count": 65,
     "metadata": {},
     "output_type": "execute_result"
    }
   ],
   "source": [
    "my_range( 10.5 , 5.4 , 0 )"
   ]
  },
  {
   "cell_type": "code",
   "execution_count": 63,
   "metadata": {},
   "outputs": [
    {
     "data": {
      "text/plain": [
       "'Error! Please pass one, two or three arguments to the function.'"
      ]
     },
     "execution_count": 63,
     "metadata": {},
     "output_type": "execute_result"
    }
   ],
   "source": [
    "my_range()"
   ]
  },
  {
   "cell_type": "code",
   "execution_count": 64,
   "metadata": {},
   "outputs": [
    {
     "data": {
      "text/plain": [
       "'Error! Please pass one, two or three arguments to the function.'"
      ]
     },
     "execution_count": 64,
     "metadata": {},
     "output_type": "execute_result"
    }
   ],
   "source": [
    "my_range( 1 , 2 , 3 , 4 )"
   ]
  },
  {
   "cell_type": "markdown",
   "metadata": {},
   "source": [
    "#### Funkcje z nieznaną z góry liczbą parametrów wywoływanych przez argumenty nazwane"
   ]
  },
  {
   "cell_type": "markdown",
   "metadata": {},
   "source": [
    "Analogiczna konstrukcja służy do przekazania funkcji dowolnej, z góry nieznanej, liczby argumentów nazwanych.\n",
    "\n",
    "- W definicji funkcji, na liście parametrów, umieszczamy argument poprzedzony operatorem dwóch gwiazdek `**` (zob. Lekcja 8). Jego standardowa nazwa to `kwargs` (od \"keyword arguments\"), choć dowolna nazwa jest dozwolona.\n",
    "\n",
    "- W ciele funkcji zmienna `kwargs` będzie traktowana jako słownik, którego klucze odpowiadać będą nazwom parametrów, zaś wartości ich przekazanym wartościom.\n",
    "\n",
    "- W wywołaniu funkcji, w miejsce `kwargs`, podajemy dowolną liczbę argumentów nazwanych - zgodnie z odpowiednią składnią, `parameter = argument`."
   ]
  },
  {
   "cell_type": "markdown",
   "metadata": {},
   "source": [
    "Prosty przykład takiej funkcji, która wydrukuje nazwę argumentu i jego przekazaną wartość:"
   ]
  },
  {
   "cell_type": "code",
   "execution_count": 68,
   "metadata": {},
   "outputs": [],
   "source": [
    "def print_data( title , **kwargs ):\n",
    "    \n",
    "    print( title )\n",
    "    print( len( title ) * '-' )\n",
    "    \n",
    "    for key , value in kwargs.items(): # kwargs to słownik; tutaj iterujemy po jego kluczach i wartościach\n",
    "        print( key + ': ' + str( value ) )"
   ]
  },
  {
   "cell_type": "code",
   "execution_count": 69,
   "metadata": {},
   "outputs": [
    {
     "name": "stdout",
     "output_type": "stream",
     "text": [
      "Phone directory entry\n",
      "---------------------\n",
      "name: Magda\n",
      "phone: 123456\n"
     ]
    }
   ],
   "source": [
    "print_data( 'Phone directory entry' , name = 'Magda' , phone = 123456 )"
   ]
  },
  {
   "cell_type": "code",
   "execution_count": 70,
   "metadata": {},
   "outputs": [
    {
     "name": "stdout",
     "output_type": "stream",
     "text": [
      "Library entry\n",
      "-------------\n",
      "book: Lord of the Rings\n",
      "author: J.R.R. Tolkien\n",
      "year: 1954\n",
      "edition: 50th anniversary\n",
      "pages: 1184\n"
     ]
    }
   ],
   "source": [
    "print_data( 'Library entry' , book = 'Lord of the Rings' , author = 'J.R.R. Tolkien' , year = 1954 , edition = '50th anniversary' , pages = 1184 )"
   ]
  },
  {
   "cell_type": "markdown",
   "metadata": {},
   "source": [
    "#### Wszystkie rodzaje parametrów jednocześnie"
   ]
  },
  {
   "cell_type": "markdown",
   "metadata": {},
   "source": [
    "Wszystkie te sposoby mogą być stosowane jednocześnie - trzeba jedynie pilnować ich kolejności:\n",
    "\n",
    "- najpierw znane argumenty pozycyjne/wymagane;\n",
    "\n",
    "- następnie `*args`;\n",
    "\n",
    "- następnie znane argumenty z wartościami domyślnymi;\n",
    "\n",
    "- na końcu `**kwargs`."
   ]
  },
  {
   "cell_type": "markdown",
   "metadata": {},
   "source": [
    "Jako przykład, skomplikujmy trochę powyższą funkcję drukującą informacje - niech wydrukuje nam teraz pewne informacje o wpisie na blogu:"
   ]
  },
  {
   "cell_type": "code",
   "execution_count": null,
   "metadata": {},
   "outputs": [],
   "source": [
    "def print_blog_post_data(  ):\n",
    "    \n",
    "    \n",
    "    \n",
    "    "
   ]
  },
  {
   "cell_type": "code",
   "execution_count": null,
   "metadata": {},
   "outputs": [],
   "source": []
  },
  {
   "cell_type": "code",
   "execution_count": null,
   "metadata": {},
   "outputs": [],
   "source": []
  },
  {
   "cell_type": "code",
   "execution_count": null,
   "metadata": {},
   "outputs": [],
   "source": []
  },
  {
   "cell_type": "code",
   "execution_count": null,
   "metadata": {},
   "outputs": [],
   "source": []
  },
  {
   "cell_type": "code",
   "execution_count": null,
   "metadata": {},
   "outputs": [],
   "source": []
  },
  {
   "cell_type": "code",
   "execution_count": null,
   "metadata": {},
   "outputs": [],
   "source": []
  },
  {
   "cell_type": "code",
   "execution_count": null,
   "metadata": {},
   "outputs": [],
   "source": []
  },
  {
   "cell_type": "code",
   "execution_count": null,
   "metadata": {},
   "outputs": [],
   "source": []
  },
  {
   "cell_type": "code",
   "execution_count": null,
   "metadata": {},
   "outputs": [],
   "source": []
  },
  {
   "cell_type": "code",
   "execution_count": null,
   "metadata": {},
   "outputs": [],
   "source": []
  },
  {
   "cell_type": "code",
   "execution_count": null,
   "metadata": {},
   "outputs": [],
   "source": []
  },
  {
   "cell_type": "code",
   "execution_count": null,
   "metadata": {},
   "outputs": [],
   "source": []
  },
  {
   "cell_type": "code",
   "execution_count": null,
   "metadata": {},
   "outputs": [],
   "source": []
  },
  {
   "cell_type": "code",
   "execution_count": null,
   "metadata": {},
   "outputs": [],
   "source": []
  },
  {
   "cell_type": "code",
   "execution_count": null,
   "metadata": {},
   "outputs": [],
   "source": []
  },
  {
   "cell_type": "code",
   "execution_count": null,
   "metadata": {},
   "outputs": [],
   "source": []
  },
  {
   "cell_type": "code",
   "execution_count": null,
   "metadata": {},
   "outputs": [],
   "source": []
  },
  {
   "cell_type": "code",
   "execution_count": null,
   "metadata": {},
   "outputs": [],
   "source": []
  },
  {
   "cell_type": "markdown",
   "metadata": {},
   "source": [
    "#### Przestrzeń nazw"
   ]
  },
  {
   "cell_type": "markdown",
   "metadata": {},
   "source": [
    "Do tej pory wszystkie nasze programy składały się z ciągu linii kodu, wykonywanych jedna po drugiej. Nawet gdy była to instrukcja warunkowa czy pętla, interpreter Pythona szedł przez nie \"krok po kroku\", w \"ciągły\" sposób. Obecność definicji funkcji w programie zmienia ten obraz diametralnie - definicja funkcji stanowi osobną tzw. **przestrzeń nazw** (\"namespace\"), oddzieloną od głównej części programu w \"nieciągły\" sposób.\n",
    "\n",
    "Przestrzeń nazw jest to region programu, gdzie \"żyją\" nazwy zmiennych. Możemy mieć zmienne o tej samej nazwie, ale \"żyjące\" w odrębnych przestrzeniach nazw, i nie będą one ze sobą interferowały. W szczególności, w definicji funkcji możemy używać zmiennych o tych samych nazwach, co \"na zewnątrz\" tej definicji, i nie doprowadzi to do zamieszania. Upraszcza to pisanie kodu - pisząc funkcję, nie musisz przejmować się, że jakieś nazwy zmiennych zostały już użyte."
   ]
  },
  {
   "cell_type": "markdown",
   "metadata": {},
   "source": [
    "Mówiąc bardziej szczegółowo, zmienne zdefiniowane \"na zewnątrz\" jakiejkolwiek funkcji są **globalne** (to tzw. \"global scope\"). Są one dostępne dla wszystkich, także z ciała funkcji:"
   ]
  },
  {
   "cell_type": "code",
   "execution_count": 3,
   "metadata": {},
   "outputs": [
    {
     "name": "stdout",
     "output_type": "stream",
     "text": [
      "5\n"
     ]
    }
   ],
   "source": [
    "x = 5\n",
    "\n",
    "def func():\n",
    "    print( x )\n",
    "\n",
    "func()"
   ]
  },
  {
   "cell_type": "markdown",
   "metadata": {},
   "source": [
    "Jeśli zdefiniujesz zmienną o tej samej nazwie **lokalnie**, \"wewnątrz\" funkcji (to tzw. \"local scope\"), Python potraktuje je mimo to jako odrębne \"etykiety\"."
   ]
  },
  {
   "cell_type": "code",
   "execution_count": null,
   "metadata": {},
   "outputs": [],
   "source": [
    "x = 5\n",
    "\n",
    "def func( x ):\n",
    "    x = 10\n",
    "    print( f'x inside the function equals {x}.' )\n",
    "\n",
    "func( x )\n",
    "print( f'x outside the function equals {x}.' )"
   ]
  },
  {
   "cell_type": "markdown",
   "metadata": {},
   "source": [
    "Okazuje się, iż możemy dostać dostęp do regionu zewnętrznego z wewnątrz funkcji - służy do tego słowo kluczowe `global`."
   ]
  },
  {
   "cell_type": "code",
   "execution_count": null,
   "metadata": {},
   "outputs": [],
   "source": [
    "x = 5\n",
    "\n",
    "def func():\n",
    "    global x\n",
    "    x = 10\n",
    "    print( f'x inside the function equals {x}.' )\n",
    "\n",
    "func()\n",
    "print( f'x outside the function equals {x}.' )"
   ]
  },
  {
   "cell_type": "markdown",
   "metadata": {},
   "source": [
    "Czy oznacza to, że nie jesteśmy w stanie zmienić wartości argumentów podanych do funkcji poprzez operacje wewnątrz funkcji? Jesteśmy w stanie - jeśli mamy do czynienia z argumentami _mutowalnymi_, jak listy czy słowniki."
   ]
  },
  {
   "cell_type": "code",
   "execution_count": null,
   "metadata": {},
   "outputs": [],
   "source": [
    "def cross_out_first( lst ):\n",
    "    lst[ 0 ] = '---'\n",
    "    # lst = ['---', 'bar', 'baz', 'qux']\n",
    "\n",
    "my_lst = [ 'foo' , 'bar' , 'baz' , 'qux' ]\n",
    "\n",
    "cross_out_first( my_lst )\n",
    "my_lst"
   ]
  },
  {
   "cell_type": "markdown",
   "metadata": {},
   "source": [
    "... i zmodyfikowaliśmy argument podany do funkcji! Chodzi o to, że ciało funkcji nie próbuje przypisać do `lst` innego obiektu, ale _zmodyfikować_ (mutowalny!) obiekt, do którego referencja jest funkcji przekazana."
   ]
  },
  {
   "cell_type": "markdown",
   "metadata": {},
   "source": [
    "Jest to dobry przykład modyfikatora. Widać również, jak wiele takie funkcje mogą wprowadzić zamieszania, kiedy przestaniemy kontrolować ich efekty uboczne. Dlatego dobrym wyborem jest pisanie funkcji czystych."
   ]
  },
  {
   "cell_type": "code",
   "execution_count": null,
   "metadata": {},
   "outputs": [],
   "source": []
  },
  {
   "cell_type": "code",
   "execution_count": null,
   "metadata": {},
   "outputs": [],
   "source": []
  },
  {
   "cell_type": "code",
   "execution_count": null,
   "metadata": {},
   "outputs": [],
   "source": []
  },
  {
   "cell_type": "code",
   "execution_count": null,
   "metadata": {},
   "outputs": [],
   "source": []
  },
  {
   "cell_type": "code",
   "execution_count": null,
   "metadata": {},
   "outputs": [],
   "source": [
    "# late binding - at call time"
   ]
  },
  {
   "cell_type": "code",
   "execution_count": 36,
   "metadata": {},
   "outputs": [
    {
     "name": "stdout",
     "output_type": "stream",
     "text": [
      "bar\n"
     ]
    }
   ],
   "source": [
    "global_var = 'foo'\n",
    "\n",
    "def my_function():\n",
    "    print(global_var)\n",
    "\n",
    "global_var = 'bar'\n",
    "my_function()"
   ]
  },
  {
   "cell_type": "code",
   "execution_count": 33,
   "metadata": {},
   "outputs": [],
   "source": [
    "f_list = []\n",
    "for i in range(3):\n",
    "    def f():\n",
    "        return i\n",
    "    f_list.append( f )"
   ]
  },
  {
   "cell_type": "code",
   "execution_count": 34,
   "metadata": {},
   "outputs": [
    {
     "data": {
      "text/plain": [
       "[<function __main__.f()>, <function __main__.f()>, <function __main__.f()>]"
      ]
     },
     "execution_count": 34,
     "metadata": {},
     "output_type": "execute_result"
    }
   ],
   "source": [
    "f_list"
   ]
  },
  {
   "cell_type": "code",
   "execution_count": 35,
   "metadata": {},
   "outputs": [
    {
     "name": "stdout",
     "output_type": "stream",
     "text": [
      "2\n",
      "2\n",
      "2\n"
     ]
    }
   ],
   "source": [
    "for f in f_list:\n",
    "    print( f() )"
   ]
  },
  {
   "cell_type": "code",
   "execution_count": null,
   "metadata": {},
   "outputs": [],
   "source": []
  },
  {
   "cell_type": "code",
   "execution_count": null,
   "metadata": {},
   "outputs": [],
   "source": []
  },
  {
   "cell_type": "code",
   "execution_count": null,
   "metadata": {},
   "outputs": [],
   "source": []
  },
  {
   "cell_type": "code",
   "execution_count": null,
   "metadata": {},
   "outputs": [],
   "source": []
  },
  {
   "cell_type": "code",
   "execution_count": null,
   "metadata": {},
   "outputs": [],
   "source": [
    "# list.append as a modifier; list.pop as a modifier returning value"
   ]
  },
  {
   "cell_type": "code",
   "execution_count": 80,
   "metadata": {},
   "outputs": [],
   "source": [
    "def my_append( lst , item ):\n",
    "    lst[ len( lst ): ] = [ item ]"
   ]
  },
  {
   "cell_type": "code",
   "execution_count": 85,
   "metadata": {},
   "outputs": [
    {
     "data": {
      "text/plain": [
       "[1, 2, 3, 4, 5]"
      ]
     },
     "execution_count": 85,
     "metadata": {},
     "output_type": "execute_result"
    }
   ],
   "source": [
    "my_lst = [ 1 , 2 , 3 , 4 ]\n",
    "\n",
    "my_append( my_lst , 5 )\n",
    "\n",
    "my_lst"
   ]
  },
  {
   "cell_type": "code",
   "execution_count": 86,
   "metadata": {},
   "outputs": [],
   "source": [
    "def my_pop( lst , item_idx ):\n",
    "    item = lst[ item_idx ]\n",
    "    lst[ item_idx:( item_idx + 1 ) ] = []\n",
    "    return item"
   ]
  },
  {
   "cell_type": "code",
   "execution_count": 87,
   "metadata": {},
   "outputs": [
    {
     "data": {
      "text/plain": [
       "[1, 2, 3, 4, 5]"
      ]
     },
     "execution_count": 87,
     "metadata": {},
     "output_type": "execute_result"
    }
   ],
   "source": [
    "my_lst"
   ]
  },
  {
   "cell_type": "code",
   "execution_count": 88,
   "metadata": {},
   "outputs": [
    {
     "data": {
      "text/plain": [
       "3"
      ]
     },
     "execution_count": 88,
     "metadata": {},
     "output_type": "execute_result"
    }
   ],
   "source": [
    "my_pop( my_lst , 2 )"
   ]
  },
  {
   "cell_type": "code",
   "execution_count": 89,
   "metadata": {},
   "outputs": [
    {
     "data": {
      "text/plain": [
       "[1, 2, 4, 5]"
      ]
     },
     "execution_count": 89,
     "metadata": {},
     "output_type": "execute_result"
    }
   ],
   "source": [
    "my_lst"
   ]
  },
  {
   "cell_type": "code",
   "execution_count": null,
   "metadata": {},
   "outputs": [],
   "source": []
  },
  {
   "cell_type": "code",
   "execution_count": null,
   "metadata": {},
   "outputs": [],
   "source": []
  },
  {
   "cell_type": "code",
   "execution_count": null,
   "metadata": {},
   "outputs": [],
   "source": []
  },
  {
   "cell_type": "code",
   "execution_count": null,
   "metadata": {},
   "outputs": [],
   "source": []
  },
  {
   "cell_type": "code",
   "execution_count": null,
   "metadata": {},
   "outputs": [],
   "source": []
  },
  {
   "cell_type": "code",
   "execution_count": null,
   "metadata": {},
   "outputs": [],
   "source": []
  },
  {
   "cell_type": "code",
   "execution_count": null,
   "metadata": {},
   "outputs": [],
   "source": [
    "# early binding - default values"
   ]
  },
  {
   "cell_type": "markdown",
   "metadata": {},
   "source": [
    "Default values (the right-hand i in i=i is a default value for argument name i, which is the left-hand i in i=i) are looked up at def time, not at call time, so essentially they're a way to specifically looking for early binding."
   ]
  },
  {
   "cell_type": "code",
   "execution_count": 44,
   "metadata": {},
   "outputs": [],
   "source": [
    "f_list = []\n",
    "for i in range(3):\n",
    "    def f( x = i ):\n",
    "        return x\n",
    "    f_list.append( f )"
   ]
  },
  {
   "cell_type": "code",
   "execution_count": 45,
   "metadata": {},
   "outputs": [
    {
     "name": "stdout",
     "output_type": "stream",
     "text": [
      "0\n",
      "1\n",
      "2\n"
     ]
    }
   ],
   "source": [
    "for f in f_list:\n",
    "    print( f() )"
   ]
  },
  {
   "cell_type": "code",
   "execution_count": 76,
   "metadata": {},
   "outputs": [],
   "source": [
    "def new( lst = [] ):\n",
    "    lst.append( 'I\\'m new here!' )\n",
    "    return lst"
   ]
  },
  {
   "cell_type": "code",
   "execution_count": 77,
   "metadata": {},
   "outputs": [
    {
     "data": {
      "text/plain": [
       "[\"I'm new here!\"]"
      ]
     },
     "execution_count": 77,
     "metadata": {},
     "output_type": "execute_result"
    }
   ],
   "source": [
    "new()"
   ]
  },
  {
   "cell_type": "code",
   "execution_count": 78,
   "metadata": {},
   "outputs": [
    {
     "data": {
      "text/plain": [
       "[\"I'm new here!\", \"I'm new here!\"]"
      ]
     },
     "execution_count": 78,
     "metadata": {},
     "output_type": "execute_result"
    }
   ],
   "source": [
    "new()"
   ]
  },
  {
   "cell_type": "code",
   "execution_count": 79,
   "metadata": {},
   "outputs": [
    {
     "data": {
      "text/plain": [
       "[\"I'm new here!\", \"I'm new here!\", \"I'm new here!\"]"
      ]
     },
     "execution_count": 79,
     "metadata": {},
     "output_type": "execute_result"
    }
   ],
   "source": [
    "new()"
   ]
  },
  {
   "cell_type": "code",
   "execution_count": null,
   "metadata": {},
   "outputs": [],
   "source": []
  },
  {
   "cell_type": "code",
   "execution_count": null,
   "metadata": {},
   "outputs": [],
   "source": []
  },
  {
   "cell_type": "code",
   "execution_count": null,
   "metadata": {},
   "outputs": [],
   "source": []
  },
  {
   "cell_type": "code",
   "execution_count": null,
   "metadata": {},
   "outputs": [],
   "source": []
  },
  {
   "cell_type": "code",
   "execution_count": null,
   "metadata": {},
   "outputs": [],
   "source": []
  },
  {
   "cell_type": "code",
   "execution_count": null,
   "metadata": {},
   "outputs": [],
   "source": []
  },
  {
   "cell_type": "code",
   "execution_count": null,
   "metadata": {},
   "outputs": [],
   "source": []
  },
  {
   "cell_type": "code",
   "execution_count": null,
   "metadata": {},
   "outputs": [],
   "source": []
  },
  {
   "cell_type": "code",
   "execution_count": null,
   "metadata": {},
   "outputs": [],
   "source": []
  },
  {
   "cell_type": "code",
   "execution_count": null,
   "metadata": {},
   "outputs": [],
   "source": [
    "# first-class"
   ]
  },
  {
   "cell_type": "code",
   "execution_count": 273,
   "metadata": {},
   "outputs": [],
   "source": [
    "def create_empty( type_name ):\n",
    "    return type_name()"
   ]
  },
  {
   "cell_type": "code",
   "execution_count": 274,
   "metadata": {},
   "outputs": [
    {
     "name": "stdout",
     "output_type": "stream",
     "text": [
      "0\n",
      "0.0\n",
      "\n",
      "[]\n",
      "()\n",
      "set()\n",
      "{}\n"
     ]
    }
   ],
   "source": [
    "for t in [ int , float , str , list , tuple , set , dict ]:\n",
    "    print( create_empty( t ) )"
   ]
  },
  {
   "cell_type": "code",
   "execution_count": null,
   "metadata": {},
   "outputs": [],
   "source": []
  },
  {
   "cell_type": "code",
   "execution_count": null,
   "metadata": {},
   "outputs": [],
   "source": []
  },
  {
   "cell_type": "code",
   "execution_count": null,
   "metadata": {},
   "outputs": [],
   "source": []
  },
  {
   "cell_type": "code",
   "execution_count": null,
   "metadata": {},
   "outputs": [],
   "source": []
  },
  {
   "cell_type": "code",
   "execution_count": null,
   "metadata": {},
   "outputs": [],
   "source": []
  },
  {
   "cell_type": "code",
   "execution_count": null,
   "metadata": {},
   "outputs": [],
   "source": [
    "# decorators"
   ]
  },
  {
   "cell_type": "code",
   "execution_count": null,
   "metadata": {},
   "outputs": [],
   "source": [
    "# decorators wrap a function, modifying its behavior"
   ]
  },
  {
   "cell_type": "code",
   "execution_count": 199,
   "metadata": {},
   "outputs": [
    {
     "name": "stdout",
     "output_type": "stream",
     "text": [
      "Something is happening before the function is called.\n",
      "Whee!\n",
      "Something is happening after the function is called.\n"
     ]
    }
   ],
   "source": [
    "def my_decorator(func):\n",
    "    def wrapper():\n",
    "        print(\"Something is happening before the function is called.\")\n",
    "        func()\n",
    "        print(\"Something is happening after the function is called.\")\n",
    "    return wrapper\n",
    "\n",
    "def say_whee():\n",
    "    print(\"Whee!\")\n",
    "\n",
    "say_whee = my_decorator(say_whee)\n",
    "\n",
    "say_whee()"
   ]
  },
  {
   "cell_type": "code",
   "execution_count": 200,
   "metadata": {},
   "outputs": [
    {
     "data": {
      "text/plain": [
       "<function __main__.my_decorator.<locals>.wrapper()>"
      ]
     },
     "execution_count": 200,
     "metadata": {},
     "output_type": "execute_result"
    }
   ],
   "source": [
    "say_whee"
   ]
  },
  {
   "cell_type": "code",
   "execution_count": null,
   "metadata": {},
   "outputs": [],
   "source": [
    "def my_decorator(func):\n",
    "    def wrapper():\n",
    "        print(\"Something is happening before the function is called.\")\n",
    "        func()\n",
    "        print(\"Something is happening after the function is called.\")\n",
    "    return wrapper\n",
    "\n",
    "def say_whee():\n",
    "    print(\"Whee!\")\n",
    "\n",
    "say_whee = my_decorator(say_whee)\n",
    "\n",
    "say_whee()"
   ]
  },
  {
   "cell_type": "code",
   "execution_count": 211,
   "metadata": {},
   "outputs": [
    {
     "name": "stdout",
     "output_type": "stream",
     "text": [
      "Whee!\n",
      "Whee!\n"
     ]
    }
   ],
   "source": [
    "def do_twice(func):\n",
    "    def wrapper_do_twice( *args , **kwargs ):\n",
    "        func( *args , **kwargs )\n",
    "        func( *args , **kwargs )\n",
    "    return wrapper_do_twice\n",
    "\n",
    "@do_twice\n",
    "def say_whee():\n",
    "    print(\"Whee!\")\n",
    "\n",
    "say_whee()"
   ]
  },
  {
   "cell_type": "code",
   "execution_count": 216,
   "metadata": {},
   "outputs": [
    {
     "name": "stdout",
     "output_type": "stream",
     "text": [
      "Whee!\n",
      "Using... say_whee with () and {}, returning None.\n"
     ]
    }
   ],
   "source": [
    "def print_function_use(func):\n",
    "    def wrapper( *args , **kwargs ):\n",
    "        result = func( *args , **kwargs )\n",
    "        print( f'Using... {func.__name__} with {args} and {kwargs}, returning {result}.' )\n",
    "        return result\n",
    "    return wrapper\n",
    "\n",
    "@print_function_use\n",
    "def say_whee():\n",
    "    print(\"Whee!\")\n",
    "\n",
    "say_whee()"
   ]
  },
  {
   "cell_type": "code",
   "execution_count": 219,
   "metadata": {},
   "outputs": [],
   "source": [
    "@print_function_use\n",
    "def say_hi( name ,  greet = 'Hi' ):\n",
    "    print( f'{greet}, {name}.' )"
   ]
  },
  {
   "cell_type": "code",
   "execution_count": 221,
   "metadata": {},
   "outputs": [
    {
     "name": "stdout",
     "output_type": "stream",
     "text": [
      "Hello, Magda.\n",
      "Using... say_hi with ('Magda',) and {'greet': 'Hello'}, returning None.\n"
     ]
    }
   ],
   "source": [
    "say_hi( 'Magda' , greet = 'Hello' )"
   ]
  },
  {
   "cell_type": "code",
   "execution_count": 228,
   "metadata": {},
   "outputs": [],
   "source": [
    "PLUGINS = {}\n",
    "\n",
    "def register(func):\n",
    "    \n",
    "    PLUGINS[func.__name__] = func\n",
    "    \n",
    "    return func\n",
    "\n",
    "@register\n",
    "def say_hello(name):\n",
    "    return f\"Hello {name}\"\n",
    "\n",
    "@register\n",
    "def say_hi(name):\n",
    "    return f\"Hi {name}\""
   ]
  },
  {
   "cell_type": "code",
   "execution_count": 230,
   "metadata": {},
   "outputs": [
    {
     "data": {
      "text/plain": [
       "'Hi Ania'"
      ]
     },
     "execution_count": 230,
     "metadata": {},
     "output_type": "execute_result"
    }
   ],
   "source": [
    "PLUGINS[ 'say_hi' ]('Ania')"
   ]
  },
  {
   "cell_type": "code",
   "execution_count": 222,
   "metadata": {},
   "outputs": [],
   "source": [
    "from collections import defaultdict\n",
    "PLUGINS = defaultdict( int )\n",
    "\n",
    "def register(func):\n",
    "    \n",
    "    PLUGINS[ func.__name__ ] += 1\n",
    "    \n",
    "    return func\n",
    "\n",
    "@register\n",
    "def say_hello(name):\n",
    "    return f\"Hello {name}\""
   ]
  },
  {
   "cell_type": "code",
   "execution_count": 225,
   "metadata": {},
   "outputs": [
    {
     "data": {
      "text/plain": [
       "defaultdict(int, {'say_hello': 1})"
      ]
     },
     "execution_count": 225,
     "metadata": {},
     "output_type": "execute_result"
    }
   ],
   "source": [
    "PLUGINS"
   ]
  },
  {
   "cell_type": "code",
   "execution_count": 224,
   "metadata": {},
   "outputs": [
    {
     "data": {
      "text/plain": [
       "'Hello A'"
      ]
     },
     "execution_count": 224,
     "metadata": {},
     "output_type": "execute_result"
    }
   ],
   "source": [
    "say_hello('A')"
   ]
  },
  {
   "cell_type": "code",
   "execution_count": 208,
   "metadata": {},
   "outputs": [
    {
     "name": "stdout",
     "output_type": "stream",
     "text": [
      "Whee!\n",
      "Whee!\n",
      "Whee!\n",
      "Whee!\n",
      "Whee!\n",
      "Whee!\n",
      "Whee!\n",
      "Whee!\n",
      "Whee!\n",
      "Whee!\n"
     ]
    }
   ],
   "source": [
    "def repeat( n ):\n",
    "    def do_n( func ):\n",
    "        def wrapper( *args , **kwargs ):\n",
    "            for _ in range( n ):\n",
    "                func( *args , **kwargs )\n",
    "        return wrapper\n",
    "    return do_n\n",
    "\n",
    "@repeat( n = 10 )\n",
    "def say_whee():\n",
    "    print(\"Whee!\")\n",
    "\n",
    "say_whee()"
   ]
  },
  {
   "cell_type": "code",
   "execution_count": null,
   "metadata": {},
   "outputs": [],
   "source": [
    "# Stateful Decorators"
   ]
  },
  {
   "cell_type": "code",
   "execution_count": null,
   "metadata": {},
   "outputs": [],
   "source": [
    "# we talked about pure functions returning a value based on given arguments. Stateful decorators are quite the opposite, where the return value will depend on the current state, as well as the given arguments."
   ]
  },
  {
   "cell_type": "code",
   "execution_count": 232,
   "metadata": {},
   "outputs": [
    {
     "data": {
      "text/plain": [
       "{}"
      ]
     },
     "execution_count": 232,
     "metadata": {},
     "output_type": "execute_result"
    }
   ],
   "source": [
    "say_whee.__dict__"
   ]
  },
  {
   "cell_type": "code",
   "execution_count": 240,
   "metadata": {},
   "outputs": [
    {
     "name": "stdout",
     "output_type": "stream",
     "text": [
      "Whee!\n",
      "Call 1\n"
     ]
    }
   ],
   "source": [
    "def log_function_use(func):\n",
    "    def wrapper( *args , **kwargs ):\n",
    "        result = func( *args , **kwargs )\n",
    "        wrapper.__dict__[ 'n_calls' ] += 1\n",
    "        print( 'Call ' + str( wrapper.__dict__[ 'n_calls' ] ) )\n",
    "        return result\n",
    "    wrapper.n_calls = 0\n",
    "    return wrapper\n",
    "\n",
    "@log_function_use\n",
    "def say_whee():\n",
    "    print(\"Whee!\")\n",
    "\n",
    "say_whee()"
   ]
  },
  {
   "cell_type": "code",
   "execution_count": 241,
   "metadata": {},
   "outputs": [
    {
     "data": {
      "text/plain": [
       "{'n_calls': 1}"
      ]
     },
     "execution_count": 241,
     "metadata": {},
     "output_type": "execute_result"
    }
   ],
   "source": [
    "say_whee.__dict__"
   ]
  },
  {
   "cell_type": "code",
   "execution_count": 244,
   "metadata": {},
   "outputs": [
    {
     "name": "stdout",
     "output_type": "stream",
     "text": [
      "Whee!\n",
      "Call 3\n"
     ]
    }
   ],
   "source": [
    "say_whee()"
   ]
  },
  {
   "cell_type": "code",
   "execution_count": 245,
   "metadata": {},
   "outputs": [
    {
     "data": {
      "text/plain": [
       "{'n_calls': 3}"
      ]
     },
     "execution_count": 245,
     "metadata": {},
     "output_type": "execute_result"
    }
   ],
   "source": [
    "say_whee.__dict__"
   ]
  },
  {
   "cell_type": "code",
   "execution_count": null,
   "metadata": {},
   "outputs": [],
   "source": []
  },
  {
   "cell_type": "code",
   "execution_count": null,
   "metadata": {},
   "outputs": [],
   "source": []
  },
  {
   "cell_type": "code",
   "execution_count": null,
   "metadata": {},
   "outputs": [],
   "source": []
  },
  {
   "cell_type": "code",
   "execution_count": null,
   "metadata": {},
   "outputs": [],
   "source": []
  },
  {
   "cell_type": "code",
   "execution_count": null,
   "metadata": {},
   "outputs": [],
   "source": []
  },
  {
   "cell_type": "code",
   "execution_count": null,
   "metadata": {},
   "outputs": [],
   "source": []
  },
  {
   "cell_type": "code",
   "execution_count": null,
   "metadata": {},
   "outputs": [],
   "source": []
  },
  {
   "cell_type": "code",
   "execution_count": null,
   "metadata": {},
   "outputs": [],
   "source": []
  },
  {
   "cell_type": "code",
   "execution_count": null,
   "metadata": {},
   "outputs": [],
   "source": []
  },
  {
   "cell_type": "code",
   "execution_count": null,
   "metadata": {},
   "outputs": [],
   "source": []
  },
  {
   "cell_type": "code",
   "execution_count": null,
   "metadata": {},
   "outputs": [],
   "source": []
  },
  {
   "cell_type": "code",
   "execution_count": null,
   "metadata": {},
   "outputs": [],
   "source": []
  },
  {
   "cell_type": "markdown",
   "metadata": {},
   "source": [
    "## 3. Tematy zaawansowane"
   ]
  },
  {
   "cell_type": "markdown",
   "metadata": {},
   "source": [
    "### 3.1. Rekursja"
   ]
  },
  {
   "cell_type": "markdown",
   "metadata": {},
   "source": [
    "<img style = 'float: right; margin-left: 10px; margin-bottom: 10px' src = 'Images/recursion.png' width = '300px'>Seymour Papert, współtwórca języka programowania [Logo](https://en.wikipedia.org/wiki/Logo_(programming_language)), znanego wielu z nas ze szkoły podstawowej (grafika żółwia), stwierdził:\n",
    "\n",
    "> \"Of all ideas I have introduced to children, recursion stands out as the one idea that is particularly able to evoke an excited response.\"\n",
    "\n",
    "**Rekursja** (\"recursion\") to bardzo [ogólna idea](https://en.wikipedia.org/wiki/Recursion), polegająca na tym, że **funkcja w swoim ciele odwołuje się do siebie samej**. Pierwszą myślą jest, że może spowodować to nieskończoną lawinę odwołań: funkcja woła samą siebie, ta znów woła samą siebie... i tak dalej, w nieskończoność (\"infinite regress\"). Ten pozorny paradoks jest źródłem tzw. \"humoru rekursji\". W niektórych książkach o programowaniu, indeks pojęć zawiera żartobliwy wpis:\n",
    "\n",
    "> Recursion, _see Recursion_.\n",
    "\n",
    "Kiedy w wyszukiwarkę Google wpiszesz hasło \"recursion\", żartobliwie podpowiada ona:\n",
    "\n",
    "> Did you mean: _recursion_\n",
    "\n",
    "Pewna osoba zapytana na rozmowie rekrutacyjnej o zdefiniowanie rekursji, wzięła kartkę papieru i napisała po jej obu stronach:\n",
    "\n",
    "> Please turn over.\n",
    "\n",
    "Innym przykładem są tzw. [\"rekursywne akronimy\"](https://en.wikipedia.org/wiki/Recursive_acronym), np. nazwa popularnego języka programowania PHP, pierwotnie oznaczająca \"Personal Home Page\", teraz tłumaczona jest jako \"PHP: Hypertext Preprocessor\".\n",
    "\n",
    "<img style = 'float: right; margin-left: 10px; margin-bottom: 10px' src = 'Images/print_gallery.jfif' width = '300px'>Jest wiele innych kontekstów rekursji, np. w geometrii (fraktale - ich coraz mniejsze części wyglądają jak całość), czy sztuce (np. litografia Eschera \"Print Gallery\", technika [\"Mise en abyme\"](https://en.wikipedia.org/wiki/Mise_en_abyme)).\n",
    "\n",
    "W praktyce unikamy nieskończonego regresu poprzez umieszczenie odpowiedniego warunku brzegowego. Musimy mieć zatem dwa komponenty:\n",
    "\n",
    "- Prosty, podstawowy, **warunek brzegowy** - krańcowy scenariusz, który _nie_ używa rekursji w swojej definicji.\n",
    "\n",
    "- **Krok rekursywny** - odwołanie funkcji do samej siebie, ale w taki sposób, który przybliża nas coraz bardziej do warunku brzegowego.\n",
    "\n",
    "Klasycznym przykładem definicji rekursywnej jest dobrze nam znany ciąg Fibonacciego, dla którego:\n",
    "\n",
    "- warunkiem brzegowym jest $F_0 = 0$, $F_1 = 1$;\n",
    "\n",
    "- krokiem rekursywnym jest wołanie samego siebie, $F_n = F_{n - 1} + F_{n - 2}$, dla $n \\geq 2$.\n",
    "\n",
    "Widzimy tu zatem, iż chociaż mamy to odwołanie do samego siebie, to krok rekursywny prowadzi coraz bliżej warunku brzegowego, gdzie rekursja się zatrzymuje."
   ]
  },
  {
   "cell_type": "markdown",
   "metadata": {},
   "source": [
    "W informatyce słowo \"rekursja\" ma zwykle nieco bardziej ograniczone znaczenie i dotyczy _funkcji_, które w swoim ciele wołają same siebie. Jako jeszcze prostszy niż ciąg Fibonacciego przykład rekursji rozważmy obliczenie sumy liczb od 0 do `n`. Możemy oczywiście zrobić to funkcją wbudowaną:"
   ]
  },
  {
   "cell_type": "code",
   "execution_count": 6,
   "metadata": {},
   "outputs": [
    {
     "data": {
      "text/plain": [
       "5050"
      ]
     },
     "execution_count": 6,
     "metadata": {},
     "output_type": "execute_result"
    }
   ],
   "source": [
    "sum( range( 101 ) )"
   ]
  },
  {
   "cell_type": "markdown",
   "metadata": {},
   "source": [
    "... ale spróbujmy sami zdefiniować tę sumę rekurencyjnie. Jeśli zdefiniujemy $S_n = 0 + 1 + 2 + \\ldots + n$, to widzimy, iż:\n",
    "\n",
    "- krok rekurencyjny to $S_n = n + S_{n - 1}$,\n",
    "\n",
    "- warunek brzegowy to $S_0 = 0$.\n",
    "\n",
    "Zakodujmy to poznaną składnią `def`:"
   ]
  },
  {
   "cell_type": "code",
   "execution_count": 7,
   "metadata": {},
   "outputs": [],
   "source": [
    "def sum_recursion( n ):\n",
    "    if n == 0:\n",
    "        return 0\n",
    "    else:\n",
    "        return n + sum_recursion( n - 1 )"
   ]
  },
  {
   "cell_type": "code",
   "execution_count": 8,
   "metadata": {},
   "outputs": [
    {
     "data": {
      "text/plain": [
       "5050"
      ]
     },
     "execution_count": 8,
     "metadata": {},
     "output_type": "execute_result"
    }
   ],
   "source": [
    "sum_recursion( 100 )"
   ]
  },
  {
   "cell_type": "markdown",
   "metadata": {},
   "source": [
    "<img style = 'float: left; margin-right: 10px; margin-bottom: 10px' src = 'Images/question.png'> Szybkie ćwiczenie 2: Silnia.\n",
    "\n",
    "Innym klasycznym przykładem definicji rekursywnej jest silnia, $n! = 1 \\cdot 2 \\cdot \\ldots \\cdot n$, czyli iloczyn kolejnych liczb naturalnych. Możemy tę definicję wyrazić jako:\n",
    "\n",
    "- krok rekursywny: $n! = n \\cdot (n - 1)!$;\n",
    "\n",
    "- warunek brzegowy: $1! = 1$.\n",
    "\n",
    "Napisz rekursywną definicję tej funkcji (nazwijmy ją `factorial_recursion`)."
   ]
  },
  {
   "cell_type": "code",
   "execution_count": 9,
   "metadata": {},
   "outputs": [],
   "source": [
    "# szybkie ćwiczenie 2 - rozwiązanie\n",
    "\n"
   ]
  },
  {
   "cell_type": "markdown",
   "metadata": {},
   "source": [
    "<img style = 'float: left; margin-right: 10px; margin-bottom: 10px' src = 'Images/question.png'> Szybkie ćwiczenie 3: Funkcja Ackermanna.\n",
    "\n",
    "Bardzo ciekawym przykładem funkcji zdefiniowanej rekursywnie jest [funkcja Ackermanna](https://en.wikipedia.org/wiki/Ackermann_function). (Jest to najprostszy znany przykład funkcji, która nie jest \"pierwotnie rekursywna\", co z grubsza oznacza, iż nie da jej się zapisać wyłącznie za pomocą pętli `for`.)\n",
    "\\begin{equation}\n",
    "A( m , n ) =\n",
    "    \\begin{cases}\n",
    "        n + 1 & \\text{jeśli $m = 0$}\\\\\n",
    "        A( m - 1 , 1 ) & \\text{jeśli $m > 0$ i $n = 0$}\\\\\n",
    "        A( m - 1 , A( m , n - 1 ) ) & \\text{jeśli $m > 0$ i $n > 0$}\n",
    "    \\end{cases}\n",
    "\\end{equation}\n",
    "\n",
    "Napisz rekursywną definicję tej funkcji (nazwijmy ją `ackermann`). Jej wartości rosną w niezwykle szybkim tempie, podobnie jak liczba wywołań potrzebnych do dojścia do warunku brzegowego, więc nie próbuj wywoływać już nawet `ackermann(4, 1)`. Natomiast `ackermann(3, 1)` jest równe 13."
   ]
  },
  {
   "cell_type": "code",
   "execution_count": 16,
   "metadata": {},
   "outputs": [],
   "source": [
    "# szybkie ćwiczenie 3 - rozwiązanie\n",
    "\n"
   ]
  },
  {
   "cell_type": "markdown",
   "metadata": {},
   "source": [
    "<img style = 'float: left; margin-right: 10px; margin-bottom: 10px' src = 'Images/question.png'> Szybkie ćwiczenie 4: Największy wspólny dzielnik.\n",
    "\n",
    "Obliczenie największego wspólnego dzielnika (GCD = \"greatest common divisor\") dwóch liczb naturalnych `m` i `n` (czyli największej takiej liczby, przez którą `m` i `n` obie dzielą się bez reszty) można dokonać tzw. [algorytmem Euklidesa](https://en.wikipedia.org/wiki/Euclidean_algorithm):\n",
    "\\begin{equation}\n",
    "GCD( m , n ) =\n",
    "    \\begin{cases}\n",
    "        m & \\text{jeśli $n = 0$}\\\\\n",
    "        GCD( n , m \\% n ) & \\text{jeśli $n > 0$}\n",
    "    \\end{cases}\n",
    "\\end{equation}\n",
    "... gdzie `m % n` to reszta z dzielenia `m` przez `n`. Zdefiniuj tę funkcję `GCD` rekursywnie.\n",
    "\n",
    "Sprawdź swoją odpowiedź: GCD liczb 1386 i 3213 wynosi 63."
   ]
  },
  {
   "cell_type": "code",
   "execution_count": 18,
   "metadata": {},
   "outputs": [],
   "source": [
    "# szybkie ćwiczenie 4 - rozwiązanie\n",
    "\n"
   ]
  },
  {
   "cell_type": "markdown",
   "metadata": {},
   "source": [
    "Na koniec pewna uwaga praktyczna: Zdefiniujmy najpierw rekursywnie ciąg Fibonacciego, ale dodajmy do niego instrukcję `print`, sprawdzającą, ile razy funkcja wywołała samą siebie:"
   ]
  },
  {
   "cell_type": "code",
   "execution_count": 20,
   "metadata": {},
   "outputs": [],
   "source": [
    "def fibonacci_recursion( n ):\n",
    "    print( f'Calling F({n}).' )\n",
    "    \n",
    "    if n == 0:\n",
    "        return 0\n",
    "    elif n == 1:\n",
    "        return 1\n",
    "    else:\n",
    "        return fibonacci_recursion( n - 1 ) + fibonacci_recursion( n - 2 )"
   ]
  },
  {
   "cell_type": "code",
   "execution_count": 21,
   "metadata": {},
   "outputs": [
    {
     "name": "stdout",
     "output_type": "stream",
     "text": [
      "Calling F(5).\n",
      "Calling F(4).\n",
      "Calling F(3).\n",
      "Calling F(2).\n",
      "Calling F(1).\n",
      "Calling F(0).\n",
      "Calling F(1).\n",
      "Calling F(2).\n",
      "Calling F(1).\n",
      "Calling F(0).\n",
      "Calling F(3).\n",
      "Calling F(2).\n",
      "Calling F(1).\n",
      "Calling F(0).\n",
      "Calling F(1).\n"
     ]
    },
    {
     "data": {
      "text/plain": [
       "5"
      ]
     },
     "execution_count": 21,
     "metadata": {},
     "output_type": "execute_result"
    }
   ],
   "source": [
    "fibonacci_recursion( 5 )"
   ]
  },
  {
   "cell_type": "markdown",
   "metadata": {},
   "source": [
    "Problem z tą implementacją jest taki, że niepotrzebnie wielokrotnie obliczamy te same elementy ciągu. Rozwiązaniem jest przechowywanie raz obliczonych elementów ciągu w pamięci tymczasowej (\"cache\"), a następnie jedynie odwoływanie się do nich w razie potrzeby. Można dokonać tego następującym kodem - którego na razie nie tłumaczmy! `lru_cache` to tzw. **dekorator**."
   ]
  },
  {
   "cell_type": "code",
   "execution_count": 22,
   "metadata": {},
   "outputs": [
    {
     "name": "stdout",
     "output_type": "stream",
     "text": [
      "Calling F(5).\n",
      "Calling F(4).\n",
      "Calling F(3).\n",
      "Calling F(2).\n",
      "Calling F(1).\n",
      "Calling F(0).\n"
     ]
    },
    {
     "data": {
      "text/plain": [
       "5"
      ]
     },
     "execution_count": 22,
     "metadata": {},
     "output_type": "execute_result"
    }
   ],
   "source": [
    "from functools import lru_cache\n",
    "\n",
    "@lru_cache( maxsize = None )\n",
    "def fibonacci_recursion( n ):\n",
    "    print( f'Calling F({n}).' )\n",
    "    \n",
    "    if n == 0:\n",
    "        return 0\n",
    "    elif n == 1:\n",
    "        return 1\n",
    "    else:\n",
    "        return fibonacci_recursion( n - 1 ) + fibonacci_recursion( n - 2 )\n",
    "\n",
    "fibonacci_recursion( 5 )"
   ]
  },
  {
   "cell_type": "markdown",
   "metadata": {},
   "source": [
    "### 3.2. Funkcje anonimowe (`lambda`)"
   ]
  },
  {
   "cell_type": "markdown",
   "metadata": {},
   "source": [
    "Mamy już sporo doświadczenia z definiowaniem funkcji za pomocą słowa kluczowego `def`. Konstrukcja ta ma nieograniczone możliwości - dowolne zachowanie jesteśmy w stanie wyabstrahować w postaci funkcji zdefiniowanej przez `def`. W tej sekcji zajemiemy się drugą metodą definicji funkcji, tzw. **funkcjach anonimowych**, znanych też jako funkcje `lambda`. (Wspominaliśmy już o nich w materiałach dodatkowych do Lekcji 6, na temat technik `reduce`, `map`, `filter`. Spotkaliśmy je też przy okazji omawiania typu `defaultdict` w Lekcji 8.)\n",
    "\n",
    "Najpierw składnia: są one definiowane przy użyciu słowa kluczowego `lambda`, a nie `def`, w postaci:\n",
    "```\n",
    "lambda arguments : expression\n",
    "```\n",
    "\n",
    "Są to generalnie takie same \"maszynki\", które przyjmują argumenty `arguments` i zwracają wyrażenie `expression` - z trzema ogólnymi różnicami wobec \"pełnoprawnych funkcji\":\n",
    "\n",
    "- powinny być \"krótkie\" - rezultat jest ograniczony do jednego wyrażenia `expression`, a więc operacja, którą definiują, musi dać się \"krótko\" zapisać (choć jak widzieliśmy, nawet dość skomplikowane operacje da się tak zapisać, choćby przy użyciu \"list comprehension\");\n",
    "\n",
    "- są **anonimowe** (\"anonymous\") - nie mają nazwy (można je przypisać do zmiennej, ale to nie jest nazwa funkcji!);\n",
    "\n",
    "- z formalnego punktu widzenia, `lambda` to wyrażenie (\"expression\"), a nie stwierdzenie (\"statement\") jak `def` - oznacza to, iż można je umieszczać w miejscach niedozwolonych dla stwierdzeń, np. jako argument przy wywoływaniu innej funkcji, element listy itd.\n",
    "\n",
    "Funkcje `lambda` są bardzo użyteczne w różnych kontekstach, gdzie liczy się szybka, zwięzła operacja funkcyjna."
   ]
  },
  {
   "cell_type": "markdown",
   "metadata": {},
   "source": [
    "Np. prosta funkcja matematyczna z początku tej lekcji w formie `lambda`, przypisana do zmiennej o nazwie `fun`:"
   ]
  },
  {
   "cell_type": "code",
   "execution_count": 23,
   "metadata": {},
   "outputs": [
    {
     "data": {
      "text/plain": [
       "19"
      ]
     },
     "execution_count": 23,
     "metadata": {},
     "output_type": "execute_result"
    }
   ],
   "source": [
    "fun = lambda x : 2 * x + 5\n",
    "\n",
    "fun( 7 )"
   ]
  },
  {
   "cell_type": "markdown",
   "metadata": {},
   "source": [
    "Funkcje `lambda` powinny być \"krótkie\", natomiast jedno wyrażenie może robić więcej niż się wydaje! Z drugiej strony, jeśli chcemy tworzyć naprawdę złożone funkcje, zwykle dobrym pomysłem jest jednak użycie `def` - funkcje `lambda` zaprojektowane są z myślą o krótkich fragmentach kodu wykonywanego w tej samej linijce, w której są wstawione. Tu np. funkcja `lambda` z dwoma argumentami, listą liczb `amounts` i stringiem `currency`, zwracająca listę, gdzie każda z liczb zmieniona jest na string wypisujący tę liczbę, z dodanym po spacji słówkiem `currency`:"
   ]
  },
  {
   "cell_type": "code",
   "execution_count": 24,
   "metadata": {},
   "outputs": [
    {
     "data": {
      "text/plain": [
       "['15000000.0 USD', '230000000.0 USD', '7800000.0 USD', '-39000000.0 USD']"
      ]
     },
     "execution_count": 24,
     "metadata": {},
     "output_type": "execute_result"
    }
   ],
   "source": [
    "curr = lambda amounts , currency : [ str( amount ) + ' ' + currency for amount in amounts ]\n",
    "\n",
    "curr( [ 1.5e7 , 2.3e8 , 7.8e6 , -3.9e7 ] , 'USD' )"
   ]
  },
  {
   "cell_type": "markdown",
   "metadata": {},
   "source": [
    "Inny przykład:"
   ]
  },
  {
   "cell_type": "code",
   "execution_count": 25,
   "metadata": {},
   "outputs": [
    {
     "data": {
      "text/plain": [
       "True"
      ]
     },
     "execution_count": 25,
     "metadata": {},
     "output_type": "execute_result"
    }
   ],
   "source": [
    "is_even = lambda n : n % 2 == 0\n",
    "\n",
    "is_even( 8 )"
   ]
  },
  {
   "cell_type": "markdown",
   "metadata": {},
   "source": [
    "Funkcja `lambda` może też nie przyjmować żadnych argumentów, np.:"
   ]
  },
  {
   "cell_type": "code",
   "execution_count": 26,
   "metadata": {},
   "outputs": [
    {
     "data": {
      "text/plain": [
       "'Always there!'"
      ]
     },
     "execution_count": 26,
     "metadata": {},
     "output_type": "execute_result"
    }
   ],
   "source": [
    "always = lambda : 'Always there!'\n",
    "\n",
    "always()"
   ]
  },
  {
   "cell_type": "markdown",
   "metadata": {},
   "source": [
    "... a funkcje takie są przydatne np. przy tworzeniu słowników `defaultdict`."
   ]
  },
  {
   "cell_type": "markdown",
   "metadata": {},
   "source": [
    "#### Przykład: Konstrukcja \"switch\""
   ]
  },
  {
   "cell_type": "markdown",
   "metadata": {},
   "source": [
    "Funkcje `lambda` można umieszczać w miejscach niedozwolonych dla stwierdzeń `def`, np. jako elementy list czy słowników. Wyobraźmy sobie np. \"tabelę akcji\" (tzw. **\"switch\"**), czyli słownik, w którym klucze to różne przypadki, a wartości to proste funkcje (\"akcje\"), wykonywane w danym przypadku:"
   ]
  },
  {
   "cell_type": "code",
   "execution_count": null,
   "metadata": {},
   "outputs": [],
   "source": [
    "action = {\n",
    "    'case A' : lambda x : x + 5 ,\n",
    "    'case B' : lambda x : 2 * x - 3 ,\n",
    "    'case C' : lambda x : x ** 2 + 1 ,\n",
    "    'case D' : lambda x : abs( x ) - 7\n",
    "}\n",
    "\n",
    "action[ 'case C' ]( 3.64 ) # action[ 'case C' ] jest funkcją, którą wywołujemy z argumentem o wartości 3.64"
   ]
  },
  {
   "cell_type": "markdown",
   "metadata": {},
   "source": [
    "W ten sposób możemy zdefiniować paletę prostych zachowań zależnych np. od decyzji użytkownika, np.:"
   ]
  },
  {
   "cell_type": "code",
   "execution_count": null,
   "metadata": {},
   "outputs": [],
   "source": [
    "from math import pi\n",
    "\n",
    "cylinder = {\n",
    "    'total volume' : lambda r , h : pi * r ** 2 * h ,\n",
    "    'total surface' : lambda r , h : 2 * pi * r * h + 2 * pi * r ** 2 ,\n",
    "    'side surface' : lambda r , h : 2 * pi * r * h\n",
    "}\n",
    "\n",
    "r = float( input( 'Enter cylinder\\'s radius:' ) )\n",
    "h = float( input( 'Enter cylinder\\'s height:' ) )\n",
    "what = input( 'What would you like to calculate (total volume, total surface, side surface):' )\n",
    "\n",
    "print( f'{what.capitalize()} of your cylinder is {cylinder[ what ]( r , h )}.' )"
   ]
  },
  {
   "cell_type": "markdown",
   "metadata": {},
   "source": [
    "#### Przykład: Sortowanie według klucza"
   ]
  },
  {
   "cell_type": "markdown",
   "metadata": {},
   "source": [
    "Inne przydatne zastosowanie funkcji `lambda` ma związek z **sortowaniem**. Rozważmy kolekcję obiektów, dla których zdefiniowane jest pojęcie \"porządku\" (mniejszy/większy), np. liczb czy stringów (porządek leksykograficzny). Możemy je posortować funkcją wbudowaną `sorted`:"
   ]
  },
  {
   "cell_type": "code",
   "execution_count": null,
   "metadata": {},
   "outputs": [],
   "source": [
    "sorted( [ 5 , 2 , 4 , 1 , 3 ] )"
   ]
  },
  {
   "cell_type": "code",
   "execution_count": null,
   "metadata": {},
   "outputs": [],
   "source": [
    "sorted( [ 'ABCdef' , 'abcde' , 'aBcd' , 'Abc' ] ) # wielkie litery są \"mniejsze\" od małych liter"
   ]
  },
  {
   "cell_type": "code",
   "execution_count": null,
   "metadata": {},
   "outputs": [],
   "source": [
    "sorted( 'unununium' )"
   ]
  },
  {
   "cell_type": "code",
   "execution_count": null,
   "metadata": {},
   "outputs": [],
   "source": [
    "sorted( { 2 : 'a' , 1 : 'b' } ) # sortuje klucze słownika"
   ]
  },
  {
   "cell_type": "markdown",
   "metadata": {},
   "source": [
    "Funkcja `sorted` nie modyfikuje oryginalnej kolekcji, lecz zwraca nową kolekcję, z posortowanymi elementami. Typ `list` ma także analogiczną metodę `sort`, która sortuje listę \"w miejscu\", np.:"
   ]
  },
  {
   "cell_type": "code",
   "execution_count": null,
   "metadata": {},
   "outputs": [],
   "source": [
    "lst = [ 3 , 2 , 1 ]\n",
    "\n",
    "lst.sort()\n",
    "\n",
    "lst"
   ]
  },
  {
   "cell_type": "markdown",
   "metadata": {},
   "source": [
    "... ale skupmy się jednak na funkcji `sorted`; jest ona choćby ogólniejsza od metody `sort`, jako że ta jest metodą stricte list, natomiast funkcja `sorted` działa na ogólniejszych kolekcjach."
   ]
  },
  {
   "cell_type": "markdown",
   "metadata": {},
   "source": [
    "Funkcja `sorted` ma opcjonalny argument nazwany `reverse`, z wartością domyślną `False`; kiedy ustawi się ją na `True`, sortowanie przebiega od największego do najmniejszego:"
   ]
  },
  {
   "cell_type": "code",
   "execution_count": null,
   "metadata": {},
   "outputs": [],
   "source": [
    "sorted( [ 5 , 2 , 4 , 1 , 3 ] , reverse = True )"
   ]
  },
  {
   "cell_type": "markdown",
   "metadata": {},
   "source": [
    "Ma ona też drugi opcjonalny argument nazwany, `key`, na którym to właśnie się skupmy. Argument ten powinien być funkcją o jednym argumencie, która zwraca \"klucz\", po którym będziemy sortować. Klasycznym przykładem jest sortowanie listy tupli, gdzie możemy zechcieć np. sortować po drugim elemencie:"
   ]
  },
  {
   "cell_type": "code",
   "execution_count": null,
   "metadata": {},
   "outputs": [],
   "source": [
    "kids = [ ( 'Ania' , 15 ) , ( 'Basia' , 11 ) , ( 'Ela' , 13 ) ]\n",
    "\n",
    "sorted( kids , key = lambda x : x[ 1 ] )"
   ]
  },
  {
   "cell_type": "markdown",
   "metadata": {},
   "source": [
    "Funkcja przekazana przez argument `key` robi co następuje:\n",
    "\n",
    "- Jest ona aplikowana do każdego elementu kolekcji. Tutaj mamy listę tupli 2-elementowych `kids`. Funkcja podana w argumencie `key` jest aplikowana do wszystkich tych tupli po kolei. Jak widzimy, dla każdej takiej tupli zwraca jej drugi element. Zatem efektem zaaplikowania tej funkcji do wszystich elementów będzie lista `[15, 11, 13]`.\n",
    "\n",
    "- Dopiero tak otrzymaną listę sortujemy. Tutaj dostajemy `[11, 13, 15]`, co przekłada się na porządek oryginalnej listy `\n",
    "[('Basia', 11), ('Ela', 13), ('Ania', 15)]`."
   ]
  },
  {
   "cell_type": "markdown",
   "metadata": {},
   "source": [
    "Często w tym miejscu stosuje się funkcję `lambda` j.w. Nie musi tak jednak być. Oto przykład, gdzie sortujemy listę stringów, ale nie biorąc pod uwagę wielkości liter (jak pamiętamy, wielkie litery są \"mniejsze\" od małych - tu chcemy tę własność zaniedbać):"
   ]
  },
  {
   "cell_type": "code",
   "execution_count": null,
   "metadata": {},
   "outputs": [],
   "source": [
    "sorted( [ 'ABCdef' , 'abcde' , 'aBcd' , 'Abc' ] , key = str.lower )"
   ]
  },
  {
   "cell_type": "markdown",
   "metadata": {},
   "source": [
    "Argumentem `key` jest tu funkcja z jednym argumentem, `str.lower`, zamieniająca wielkie litery na małe (`lower` to metoda stringów, ale pamiętamy, iż metody to też funkcje, tylko trzeba je odpowiednio nazwać: nazwa typu, kropka, nazwa metody). Ona zatem najpierw konwertuje naszą listę na `[ 'abcdef' , 'abcde' , 'abcd' , 'abc' ]` i to ją sortuje, `\n",
    "['abc', 'abcd', 'abcde', 'abcdef']`, co przekłada się na powyższą postać listy oryginalnej."
   ]
  },
  {
   "cell_type": "markdown",
   "metadata": {},
   "source": [
    "Inny przykład: Rozważmy listę:"
   ]
  },
  {
   "cell_type": "code",
   "execution_count": null,
   "metadata": {},
   "outputs": [],
   "source": [
    "list( range( -5 , 6 ) )"
   ]
  },
  {
   "cell_type": "markdown",
   "metadata": {},
   "source": [
    "... i posortujmy ją według klucza będącego wartością bezwzględną:"
   ]
  },
  {
   "cell_type": "code",
   "execution_count": null,
   "metadata": {},
   "outputs": [],
   "source": [
    "sorted( range( -5 , 6 ) , key = abs )"
   ]
  },
  {
   "cell_type": "markdown",
   "metadata": {},
   "source": [
    "Co tu się stało? Funkcja z jednym argumentem `abs` zaaplikowana do każdego elementu oryginalnej listy dała listę `[5, 4, 3, 2, 1, 0, 1, 2, 3, 4, 5]`. To tę listę sortujemy, co przekłada się na powyższy wynik.\n",
    "\n",
    "Pojawia się przy okazji ciekawe spostrzeżenie: w tej przekonwertowanej liście są elementy o _tej samej wartości_. Jak zatem są one sortowane? Odpowiedź na to pytanie pojawia się w dokumentacji Pythona: sortowania mają zagwarantowaną **stabilność**. [Stabilność algorytmu sortującego](https://en.wikipedia.org/wiki/Sorting_algorithm#Stability) oznacza, iż elementy o tym samym kluczu pozostawione są w oryginalnej kolejności. Zatem np. skoro elementy -1 i 1 oryginalnej listy mają ten sam klucz (tj. tę samą wartość 1 po przekonwertowaniu funkcją `abs`), to pozostawione zostają w oryginalnej kolejności, czyli -1 przed 1."
   ]
  },
  {
   "cell_type": "markdown",
   "metadata": {},
   "source": [
    "<img style = 'float: left; margin-right: 10px; margin-bottom: 10px' src = 'Images/question.png'> Szybkie ćwiczenie 5: Jak zmodyfikować powyższy przykład, aby po posortowaniu dostać listę `[0, 1, -1, 2, -2, 3, -3, 4, -4, 5, -5]`, gdzie -1 jest _po_ 1 itd.?"
   ]
  },
  {
   "cell_type": "markdown",
   "metadata": {},
   "source": [
    "Wskazówka: Wykorzystaj stabilność sortowania i odpowiednio zmodyfikuj oryginalną listę."
   ]
  },
  {
   "cell_type": "code",
   "execution_count": null,
   "metadata": {},
   "outputs": [],
   "source": [
    "# szybkie ćwiczenie 5 - rozwiązanie\n",
    "\n"
   ]
  },
  {
   "cell_type": "markdown",
   "metadata": {},
   "source": [
    "<img style = 'float: left; margin-right: 10px; margin-bottom: 10px' src = 'Images/question.png'> Szybkie ćwiczenie 6: Masz daną listę `numerals`, jak niżej.\n",
    "\n",
    "(a) Posortuj ją według długości słów, od najdłuższego do najkrótszego.\n",
    "\n",
    "(b) Posortuj ją według ostatniej litery (w normalnym porządku leksykograficznym).\n",
    "\n",
    "(c) Posortuj ją według liczby wystąpień litery `'e'` w nich."
   ]
  },
  {
   "cell_type": "code",
   "execution_count": null,
   "metadata": {},
   "outputs": [],
   "source": [
    "numerals = [ 'zero' , 'one' , 'two' , 'three' , 'four' , 'five' , 'six' , 'seven' , 'eight' , 'nine' ]"
   ]
  },
  {
   "cell_type": "code",
   "execution_count": null,
   "metadata": {},
   "outputs": [],
   "source": [
    "# szybkie ćwiczenie 6a - rozwiązanie\n",
    "\n"
   ]
  },
  {
   "cell_type": "code",
   "execution_count": null,
   "metadata": {},
   "outputs": [],
   "source": [
    "# szybkie ćwiczenie 6b - rozwiązanie\n",
    "\n"
   ]
  },
  {
   "cell_type": "code",
   "execution_count": null,
   "metadata": {},
   "outputs": [],
   "source": [
    "# szybkie ćwiczenie 6c - rozwiązanie\n",
    "\n"
   ]
  },
  {
   "cell_type": "markdown",
   "metadata": {},
   "source": [
    "<img style = 'float: left; margin-right: 10px; margin-bottom: 10px' src = 'Images/question.png'> Szybkie ćwiczenie 7: Masz daną listę `origami_masters` imion i nazwisk; masz także osobny słownik `birthdays`, którego kluczami są te imiona, a wartościami stringi z datami urodzin.\n",
    "\n",
    "(a) Posortuj listę `origami_masters` według nazwisk.\n",
    "\n",
    "(b) Posortuj listę `origami_masters` według dat urodzenia, zapisanych w słowniku `birthdays`."
   ]
  },
  {
   "cell_type": "code",
   "execution_count": 1,
   "metadata": {},
   "outputs": [],
   "source": [
    "origami_masters = [\n",
    "    'Toshikazu Kawasaki' ,\n",
    "    'Satoshi Kamiya' ,\n",
    "    'Akira Yoshizawa' ,\n",
    "    'Éric Joisel' ,\n",
    "    'Robert J. Lang' ,\n",
    "    'Nick Robinson' ,\n",
    "    'Sipho Mabona'\n",
    "]\n",
    "\n",
    "birthdays = {\n",
    "    'Toshikazu Kawasaki' : '1955-11-26' ,\n",
    "    'Satoshi Kamiya' : '1981-06-06' ,\n",
    "    'Akira Yoshizawa' : '1911-03-14' ,\n",
    "    'Éric Joisel' : '1956-11-15' ,\n",
    "    'Robert J. Lang' : '1961-05-04' ,\n",
    "    'Nick Robinson' : '1957-01-08' ,\n",
    "    'Sipho Mabona' : '1980-01-11'\n",
    "}"
   ]
  },
  {
   "cell_type": "code",
   "execution_count": 3,
   "metadata": {},
   "outputs": [],
   "source": [
    "# szybkie ćwiczenie 7a - rozwiązanie\n",
    "\n"
   ]
  },
  {
   "cell_type": "code",
   "execution_count": 5,
   "metadata": {},
   "outputs": [],
   "source": [
    "# szybkie ćwiczenie 7b - rozwiązanie\n",
    "\n"
   ]
  },
  {
   "cell_type": "markdown",
   "metadata": {},
   "source": [
    "### 3.3. Typowanie"
   ]
  },
  {
   "cell_type": "markdown",
   "metadata": {},
   "source": [
    "#### \"Duck typing\""
   ]
  },
  {
   "cell_type": "markdown",
   "metadata": {},
   "source": [
    "Jedną z pięknych i bardzo użytecznych cech Pythona jest tzw. **\"duck typing\"**. Oznacza to ogólnie, że dana operacja (funkcja, metoda, operator...) może przyjąć jako argument obiekt _dowolnego typu_, jeśli tylko jest ona dla tego typu zdefiniowana. Innymi słowy, ta sama operacja może być zdefiniowana dla obiektów różnych typów, dla każdego typu dając inny efekt - specyficzny dla tego typu.\n",
    "\n",
    "Klasycznym przykładem w Pythonie jest operator `+`, który dla liczb (typy `int` i `float`) oznacza dodawanie arytmetyczne:"
   ]
  },
  {
   "cell_type": "code",
   "execution_count": null,
   "metadata": {},
   "outputs": [],
   "source": [
    "9 + 16"
   ]
  },
  {
   "cell_type": "markdown",
   "metadata": {},
   "source": [
    "Ten sam operator `+` zastosowany jednak do dwóch list ma zupełnie inne znaczenie - łączy te listy ze sobą:"
   ]
  },
  {
   "cell_type": "code",
   "execution_count": null,
   "metadata": {},
   "outputs": [],
   "source": [
    "[ 'apple' , 'orange' , 'pear' ] + [ 'potato' , 'cabbage' ]"
   ]
  },
  {
   "cell_type": "markdown",
   "metadata": {},
   "source": [
    "... a zastosowany do stringów, łączy je w jeden string:"
   ]
  },
  {
   "cell_type": "code",
   "execution_count": null,
   "metadata": {},
   "outputs": [],
   "source": [
    "'Jan' + ' ' + 'Kowalski'"
   ]
  },
  {
   "cell_type": "markdown",
   "metadata": {},
   "source": [
    "Typ danych obiektu jest zatem mniej istotny od zdefiniowanych dla niego operacji. Skoro `+` jest zdefiniowany dla typów `int`, `float`, `list`, `str`, to pisząc wyrażenie z tym operatorem nie musimy sprawdzać typów - wystarczy wiedzieć, że operacja jest dla tych typów zdefiniowana.\n",
    "\n",
    "Nazwa \"duck typing\" pochodzi od tzw. [\"testu kaczki\"](https://en.wikipedia.org/wiki/Duck_test) i powiedzenia:\n",
    "\n",
    "> \"If it walks like a duck, and it quacks like a duck, then it must be a duck.\"\n",
    "\n",
    "Nie powinniśmy martwić się zatem, czy obiekt \"jest kaczką\" (czy jest liczbą, listą, stringiem...), a jedynie o to, czy \"kwacze\" (czy umie stosować `+`). Cokolwiek, co \"kwacze\" się nadaje, nawet jeśli nie jest \"kaczką\".\n",
    "\n",
    "Logika tu jest taka, iż wspomniane obiekty - liczby, listy, stringi - \"wiedzą\", co to jest `+`; w definicji tych obiektów zawarta została definicja operatora `+`, opisująca, co on na obiektach tych robi. \"Duck typing\" działa automatycznie, jeśli tylko użyte obiekty \"wiedzą\" o istnieniu danej operacji."
   ]
  },
  {
   "cell_type": "code",
   "execution_count": null,
   "metadata": {},
   "outputs": [],
   "source": [
    "8 + [ 2 ] # operator + nie jest zdefiniowany między liczbą a listą!"
   ]
  },
  {
   "cell_type": "markdown",
   "metadata": {},
   "source": [
    "Innym klasycznym przykładem jest funkcja wbudowana `len`, którą można wywołać np. na stringach, listach, tuplach, zbiorach, słownikach."
   ]
  },
  {
   "cell_type": "markdown",
   "metadata": {},
   "source": [
    "To samo oczywiście stosuje się do naszych własnych funkcji. Zdefiniujmy np. funkcję, która przyjmuje dwa argumenty - w zamyśle listy - i zwraca ich elementy wspólne:"
   ]
  },
  {
   "cell_type": "code",
   "execution_count": null,
   "metadata": {},
   "outputs": [],
   "source": [
    "def intersect( seq_1 , seq_2 ):\n",
    "    return [ item for item in seq_1 if item in seq_2 ]"
   ]
  },
  {
   "cell_type": "markdown",
   "metadata": {},
   "source": [
    "Działa ona oczywiście na listach:"
   ]
  },
  {
   "cell_type": "code",
   "execution_count": null,
   "metadata": {},
   "outputs": [],
   "source": [
    "intersect( [ 5 , 8 , -3 , 11 , 9 ] , [ 9 , 4 , 5 ] )"
   ]
  },
  {
   "cell_type": "markdown",
   "metadata": {},
   "source": [
    "... ale po przyjrzeniu się jej treści widzimy, że równie dobrze możemy zastosować ją np. do dwóch stringów, ponieważ stringi \"wiedzą\", co to pętla `for` i co to operator `in`:"
   ]
  },
  {
   "cell_type": "code",
   "execution_count": null,
   "metadata": {},
   "outputs": [],
   "source": [
    "intersect( 'monkey' , 'donkey' )"
   ]
  },
  {
   "cell_type": "markdown",
   "metadata": {},
   "source": [
    "Jeden argument może być listą, drugi stringiem, nie ma problemu:"
   ]
  },
  {
   "cell_type": "code",
   "execution_count": null,
   "metadata": {},
   "outputs": [],
   "source": [
    "digraphs = [ 'ch' , 'cz' , 'dz' , 'dź' , 'dż' , 'rz' , 'sz' ]\n",
    "text = 'w szczebrzeszynie chrząszcz brzmi w trzcinie'\n",
    "\n",
    "intersect( digraphs , text )"
   ]
  },
  {
   "cell_type": "markdown",
   "metadata": {},
   "source": [
    "#### Adnotacje"
   ]
  },
  {
   "cell_type": "markdown",
   "metadata": {},
   "source": [
    "\"Duck typing\" jest niezwykle wygodny, lecz może być podatny na błędy, jeśli zechcemy zastosować daną operację na typie danych, który o niej \"nie wie\". Pewną pomocą w tej kwestii są tzw. **adnotacje** (\"annotations\", \"type hints\"), które umieszczamy w definicji funkcji w następujący sposób:"
   ]
  },
  {
   "cell_type": "code",
   "execution_count": null,
   "metadata": {},
   "outputs": [],
   "source": [
    "def intersect( seq_1 : list , seq_2 : list ) -> list:\n",
    "    return [ item for item in seq_1 if item in seq_2 ]"
   ]
  },
  {
   "cell_type": "markdown",
   "metadata": {},
   "source": [
    "Adnotacje możemy dodać po argumentach funkcji, po dwukropku `:`, i oznaczają one wtedy, że _sugerowanym_ typem argumentu jest ten podany po nim. Podobnie możemy zasugerować typ obiektu zwracanego przez funkcję, po symbolu `->` w nagłówku. Są to jednak cały czas tylko sugestie, w żaden sposób nie wymuszane w czasie wykonywania programu; możemy np. nadal wykonać:"
   ]
  },
  {
   "cell_type": "code",
   "execution_count": null,
   "metadata": {},
   "outputs": [],
   "source": [
    "intersect( digraphs , text )"
   ]
  },
  {
   "cell_type": "markdown",
   "metadata": {},
   "source": [
    "Można sprawić, aby Python statycznie sprawdzał adnotacje i wyrzucał błąd jeśli otrzymane argumenty nie będą takiego typu, jak zasugerowany - służy do tego [zewnętrzna biblioteka `mypy`](http://mypy-lang.org/). Ale nawet i bez takiego rygoru adnotacje mogą pomóc utrzymać porządek w kodzie - choć na pewno ich pisanie dodaje pracy; są one [szczególnie pomocne](https://www.bernat.tech/the-state-of-type-hints-in-python/) w większych projektach, nad którymi pracuje więcej osób."
   ]
  },
  {
   "cell_type": "markdown",
   "metadata": {},
   "source": [
    "Dodajmy jeszcze, że adnotacje danej funkcji możemy sprawdzić przez jej atrybut `__annotations__`:"
   ]
  },
  {
   "cell_type": "code",
   "execution_count": null,
   "metadata": {},
   "outputs": [],
   "source": [
    "intersect.__annotations__"
   ]
  },
  {
   "cell_type": "markdown",
   "metadata": {},
   "source": [
    "Temat sprawdzania typów w Pythonie jest [dość złożony](https://realpython.com/python-type-checking/) i bardzo techniczny, poza ramami tego kursu."
   ]
  },
  {
   "cell_type": "markdown",
   "metadata": {},
   "source": [
    "#### \"Docstrings\""
   ]
  },
  {
   "cell_type": "markdown",
   "metadata": {},
   "source": [
    "Rozpowszechnionym sposobem na poprawę czytelności programów są tzw. **\"docstrings\"**, czyli opisy działania funkcji skonstruowane wedle [ściśle określonych zasad](https://www.python.org/dev/peps/pep-0257/) (choć są różne warianty, m.in. \"Sphinx Style\", \"Google Style\", \"Numpy Style\"). Podstawowe zasady to:\n",
    "\n",
    "- są to wielolinijkowe stringi, zamknięte w potrójnych cudzysłowach `\"`;\n",
    "\n",
    "- \"docstring\" zaczyna się od razu po nagłówku funkcji;\n",
    "\n",
    "- jego pierwsza linijka stanowi krótkie podsumowanie działania funkcji, zaś po nim mamy linijkę przerwy;\n",
    "\n",
    "- następnie mamy dłuższy opis działania funkcji;\n",
    "\n",
    "- na końcu opisujemy pokrótce każdy z argumentów i rezultat zwracany przez funkcję;\n",
    "\n",
    "- ostatnia linijka \"docstring\" jest pusta."
   ]
  },
  {
   "cell_type": "code",
   "execution_count": null,
   "metadata": {},
   "outputs": [],
   "source": [
    "def intersect( seq_1 , seq_2 ):\n",
    "    \"\"\" \n",
    "    Intersection of two lists.\n",
    "    \n",
    "    Iterates through the first list and retains only the elements present in the second list.\n",
    "    \n",
    "    Parameters:\n",
    "    seq_1 (list): the first list\n",
    "    seq_2 (list): the second list\n",
    "    \n",
    "    Returns:\n",
    "    list: A list containing the common elements of seq_1 and seq_2.\n",
    "\n",
    "    \"\"\"\n",
    "    return [ item for item in seq_1 if item in seq_2 ]"
   ]
  },
  {
   "cell_type": "markdown",
   "metadata": {},
   "source": [
    "\"Docstring\" danej funkcji dostępny jest przez atrybut `__doc__`:"
   ]
  },
  {
   "cell_type": "code",
   "execution_count": null,
   "metadata": {},
   "outputs": [],
   "source": [
    "print( intersect.__doc__ )"
   ]
  },
  {
   "cell_type": "markdown",
   "metadata": {},
   "source": [
    "### 3.4. Funkcje to obiekty pierwszej klasy"
   ]
  },
  {
   "cell_type": "markdown",
   "metadata": {},
   "source": [
    "Widzieliśmy już na różnych przykładach, że z funkcjami w Pythonie można \"wszystko robić\", tj.:\n",
    "\n",
    "- można przypisywać funkcję do zmiennej;\n",
    "\n",
    "- funkcje można przechowywać w różnych strukturach danych, jak listy, słowniki itd.;\n",
    "\n",
    "- funkcja może być podana jako argument do innej funkcji;\n",
    "\n",
    "- funkcja może zwracać inną funkcję.\n",
    "\n",
    "Obiekty, z którymi można robić te fundamentalne czynności, nazywane są **obiektami pierwszej klasy** (\"first-class objects\") - przykłady to liczby, stringi, listy - a więc funkcje to w Pythonie również obiekty pierwszej klasy."
   ]
  },
  {
   "cell_type": "markdown",
   "metadata": {},
   "source": [
    "#### Przypisywanie funkcji do zmiennej"
   ]
  },
  {
   "cell_type": "markdown",
   "metadata": {},
   "source": [
    "Zdefiniujmy prostą funkcję jako przykład:"
   ]
  },
  {
   "cell_type": "code",
   "execution_count": null,
   "metadata": {},
   "outputs": [],
   "source": [
    "def shout( text ):\n",
    "    return text.upper()"
   ]
  },
  {
   "cell_type": "markdown",
   "metadata": {},
   "source": [
    "Przypisujemy ją do zmiennej `yell`:"
   ]
  },
  {
   "cell_type": "code",
   "execution_count": null,
   "metadata": {},
   "outputs": [],
   "source": [
    "yell = shout"
   ]
  },
  {
   "cell_type": "markdown",
   "metadata": {},
   "source": [
    "... i teraz zmienna ta wskazuje na funkcję `shout`:"
   ]
  },
  {
   "cell_type": "code",
   "execution_count": null,
   "metadata": {},
   "outputs": [],
   "source": [
    "yell( 'hello!' )"
   ]
  },
  {
   "cell_type": "markdown",
   "metadata": {},
   "source": [
    "Nazwę funkcji możemy w Pythonie otrzymać atrybutem `__name__`:"
   ]
  },
  {
   "cell_type": "code",
   "execution_count": null,
   "metadata": {},
   "outputs": [],
   "source": [
    "shout.__name__"
   ]
  },
  {
   "cell_type": "markdown",
   "metadata": {},
   "source": [
    "... i mamy:"
   ]
  },
  {
   "cell_type": "code",
   "execution_count": null,
   "metadata": {},
   "outputs": [],
   "source": [
    "yell.__name__"
   ]
  },
  {
   "cell_type": "markdown",
   "metadata": {},
   "source": [
    "Zmienna wskazująca na funkcję i sama ta funkcja to dwie odrębne rzeczy."
   ]
  },
  {
   "cell_type": "markdown",
   "metadata": {},
   "source": [
    "Spotkaliśmy się też już z przypisywaniem funkcji `lambda` do zmiennej."
   ]
  },
  {
   "cell_type": "markdown",
   "metadata": {},
   "source": [
    "#### Przechowywanie funkcji w strukturach danych"
   ]
  },
  {
   "cell_type": "markdown",
   "metadata": {},
   "source": [
    "Funkcje mogą być np. elementami kolekcji. Widzieliśmy już wcześniej słownik funkcji przy okazji konstrukcji \"switch\". Tutaj inny przykład, z listą funkcji:"
   ]
  },
  {
   "cell_type": "code",
   "execution_count": null,
   "metadata": {},
   "outputs": [],
   "source": [
    "format_options = [\n",
    "    yell ,\n",
    "    str.lower ,\n",
    "    str.capitalize\n",
    "]\n",
    "\n",
    "for format_option in format_options:\n",
    "    print( format_option( 'Hello World!' ) )"
   ]
  },
  {
   "cell_type": "markdown",
   "metadata": {},
   "source": [
    "#### Przekazywanie funkcji jako argument innej funkcji"
   ]
  },
  {
   "cell_type": "markdown",
   "metadata": {},
   "source": [
    "Napiszmy funkcję `greet`, która wydrukuje tekst powitania, ale przekażmy jej jako argument inną funkcję, która zdefiniuje nam sposób formatowania tego powitania:"
   ]
  },
  {
   "cell_type": "code",
   "execution_count": null,
   "metadata": {},
   "outputs": [],
   "source": [
    "def greet( format_option ):\n",
    "    return format_option( 'Hello World!' )"
   ]
  },
  {
   "cell_type": "markdown",
   "metadata": {},
   "source": [
    "Teraz wywołajmy funkcję `greet` z różnymi wartościami argumentu, tj. różnymi funkcjami:"
   ]
  },
  {
   "cell_type": "code",
   "execution_count": null,
   "metadata": {},
   "outputs": [],
   "source": [
    "greet( yell )"
   ]
  },
  {
   "cell_type": "code",
   "execution_count": null,
   "metadata": {},
   "outputs": [],
   "source": [
    "greet( str.lower )"
   ]
  },
  {
   "cell_type": "code",
   "execution_count": null,
   "metadata": {},
   "outputs": [],
   "source": [
    "greet( lambda text : text[ ::2 ] )"
   ]
  },
  {
   "cell_type": "markdown",
   "metadata": {},
   "source": [
    "... itd. Jest to dość niesamowite: funkcji możemy jako argument przekazywać \"zachowanie\", w formie funkcji opisującej to \"zachowanie\". Podobny przykład widzieliśmy przy okazji argumentu `key` funkcji wbudowanej `sorted`."
   ]
  },
  {
   "cell_type": "markdown",
   "metadata": {},
   "source": [
    "#### Funkcja zwracająca funkcję"
   ]
  },
  {
   "cell_type": "markdown",
   "metadata": {},
   "source": [
    "Wspomnieliśmy już wcześniej, że funkcję możemy zdefiniować wewnątrz definicji innej funkcji. Co więcej, możemy taką funkcję zwrócić jako rezultat - innymi słowy, funkcje mogą zwracać \"zachowanie\"."
   ]
  },
  {
   "cell_type": "code",
   "execution_count": null,
   "metadata": {},
   "outputs": [],
   "source": [
    "def speak( how ):\n",
    "    \n",
    "    def scream( text ):\n",
    "        return text.upper() + '!!!'\n",
    "    \n",
    "    def murmur( text ):\n",
    "        return '...' + text.lower() + '...'\n",
    "    \n",
    "    def just_say_it( text ):\n",
    "        return text\n",
    "    \n",
    "    if how == 'scream':\n",
    "        return scream\n",
    "    elif how == 'murmur':\n",
    "        return murmur\n",
    "    else:\n",
    "        return just_say_it"
   ]
  },
  {
   "cell_type": "markdown",
   "metadata": {},
   "source": [
    "Teraz np.:"
   ]
  },
  {
   "cell_type": "code",
   "execution_count": null,
   "metadata": {},
   "outputs": [],
   "source": [
    "speak( 'scream' )"
   ]
  },
  {
   "cell_type": "markdown",
   "metadata": {},
   "source": [
    "... jest funkcją, którą możemy wywołać na tekście:"
   ]
  },
  {
   "cell_type": "code",
   "execution_count": null,
   "metadata": {},
   "outputs": [],
   "source": [
    "speak( 'scream' )( 'Hello world' )"
   ]
  },
  {
   "cell_type": "markdown",
   "metadata": {},
   "source": [
    "Zastosowaniem tej możliwości jest tzw. \"fabryka funkcji\", np.:"
   ]
  },
  {
   "cell_type": "code",
   "execution_count": null,
   "metadata": {},
   "outputs": [],
   "source": [
    "def generate_power( n ):\n",
    "    \n",
    "    def nth_power( x ):\n",
    "        return x ** n\n",
    "    \n",
    "    return nth_power"
   ]
  },
  {
   "cell_type": "code",
   "execution_count": null,
   "metadata": {},
   "outputs": [],
   "source": [
    "pow_3 = generate_power( 3 )\n",
    "\n",
    "pow_3"
   ]
  },
  {
   "cell_type": "code",
   "execution_count": null,
   "metadata": {},
   "outputs": [],
   "source": [
    "pow_3( 2 )"
   ]
  },
  {
   "cell_type": "markdown",
   "metadata": {},
   "source": [
    "Funkcje przyjmujące jako argumenty inne funkcje, bądź zwracające inne funkcje, nazywane są **funkcjami wyższego rzędu** (\"higher-order functions\")."
   ]
  },
  {
   "cell_type": "markdown",
   "metadata": {},
   "source": [
    "## 4. Zadania domowe"
   ]
  },
  {
   "cell_type": "markdown",
   "metadata": {},
   "source": [
    "### 4.1. Dłuższe ćwiczenia"
   ]
  },
  {
   "cell_type": "markdown",
   "metadata": {},
   "source": [
    "<img style = 'float: left; margin-right: 10px; margin-bottom: 10px' src = 'Images/question.png'><img style = 'float: right; margin-left: 10px; margin-bottom: 10px' src = 'Images/heron.png' width = '250px'> Dłuższe ćwiczenie 8: Wzór Herona.\n",
    "\n",
    "[Wzór Herona](https://pl.wikipedia.org/wiki/Wz%C3%B3r_Herona) pozwala obliczyć pole trójkąta na podstawie długości jego boków, `a`, `b` i `c`:\n",
    "\n",
    "$S = \\sqrt{p(p - a)(p - b)(p - c)} , \\quad p = (a + b + c)/2$\n",
    "\n",
    "Napisz funkcję implementującą tę formułę. Uwzględnij sytuację, kiedy wyrażenie pod pierwiastkiem kwadratowym jest ujemne - wówczas odcinki `a`, `b`, `c` mają długości niepozwalające na utworzenie trójkąta; w tym wypadku wydrukuj odpowiedni komunikat, np. \"It's not a triangle!\". Odnajdź i zaimportuj funkcję pierwiastka kwadratowego z modułu `math`.\n",
    "\n",
    "Sprawdź swoją odpowiedź: Pole trójkąta o bokach 3, 4, 5 wynosi 6."
   ]
  },
  {
   "cell_type": "code",
   "execution_count": null,
   "metadata": {},
   "outputs": [],
   "source": [
    "# dłuższe ćwiczenie 8 - rozwiązanie\n",
    "\n"
   ]
  },
  {
   "cell_type": "markdown",
   "metadata": {},
   "source": [
    "<img style = 'float: left; margin-right: 10px; margin-bottom: 10px' src = 'Images/question.png'><img style = 'float: right; margin-left: 10px; margin-bottom: 10px' src = 'Images/riemann_sum.gif' width = '350px'> Dłuższe ćwiczenie 9 (\\*): Całka określona.\n",
    "\n",
    "Napisz funkcję (o nazwie `integrate`), przyjmującą cztery argumenty: pierwszym argumentem jest _inna funkcja_ `f` (ona będzie miała jeden argument liczbowy), kolejne dwa to liczby zmienno-przecinkowe `a`, `b`, a ostatnim dodatnia liczba całkowita `n`.\n",
    "\n",
    "Funkcja ta dokona przybliżonego obliczenia tzw. całki określonej funkcji $f$ między punktami $a$ i $b$, tj. $\\int_{a}^{b} f(x)dx$. Pojęcie całki jest co prawda dość zaawansowane, ale sama jej definicja jest bardzo prosta! Jest to pole powierzchni pod wykresem funkcji $f$, a między pionowymi liniami postawionymi w punktach $a$ i $b$.\n",
    "\n",
    "Przybliżone jej obliczenie polega na narysowaniu serii $n$ wąskich prostokątów i zsumowanie ich pól powierzchni (jest to tzw. \"suma Riemanna\"). Podstawa każdego prostokąta ma długość $d/n$, gdzie zdefiniujmy $d = b - a$, gdyż odcinek między $a$ i $b$ dzielimy na $n$ równych części. Podział ten jest dokonany w następujących punktach:\n",
    "$$\n",
    "x_0 = a, \\quad x_1 = a + \\frac{d}{n}, \\quad x_2 = a + \\frac{2d}{n}, \\quad \\ldots \\quad x_n = a + n \\cdot \\frac{d}{n} = b\n",
    "$$\n",
    "Wysokość natomiast kolejnych prostokątów to $f(x_0)$, $f(x_1)$, ..., $f(x_{n - 1})$. Skoro tak, to pole powierzchni każdego prostokąta to kolejno $f(x_0) \\cdot d/n$, $f(x_1) \\cdot d/n$, ..., $f(x_{n - 1}) \\cdot d/n$. Zatem przybliżona wartość całki określonej to suma tych pól powierzchni:\n",
    "$$\n",
    "\\frac{d}{n} \\left( f( x_0 ) + f( x_1 ) + \\ldots + f( x_{n - 1} ) \\right)\n",
    "$$\n",
    "Oczywiście, im liczba $n$ większa, tym dokładniejsze jest przybliżenie. Możesz używać wartości np. 10 000.\n",
    "\n",
    "Napisz tę funkcję najpierw krok po kroku, jak to tu opisano, definiując kolejno zmienne `d`, `x_list` (lista punktów $x_0$, ..., $x_{n - 1}$), `f_list` (listę wartości funkcji $f$ w tych punktach) i wreszcie wynik `riemann_sum`. Następnie spróbuj napisać ją w jednej linijce, po słowie `return`, za pomocą \"list comprehension\".\n",
    "\n",
    "Sprawdź swoje rozwiązanie: Całka określona funkcji $f(x) = x^2 \\sin(x)^3$ między 0 a 3 wynosi ok. 3.6159. Wywołaj swoją funkcję `integrate` z tymi wartościami argumentów, gdzie funkcję `f` zapisz jako funkcję `lambda` bezpośrednio w wywołaniu funkcji `integrate` (potrzebna będzie ci też funkcja sinus z modułu `math`)."
   ]
  },
  {
   "cell_type": "code",
   "execution_count": null,
   "metadata": {},
   "outputs": [],
   "source": [
    "# dłuższe ćwiczenie 9 - rozwiązanie dłuższe\n",
    "\n"
   ]
  },
  {
   "cell_type": "code",
   "execution_count": null,
   "metadata": {},
   "outputs": [],
   "source": [
    "# dłuższe ćwiczenie 9 - rozwiązanie krótsze\n",
    "\n"
   ]
  },
  {
   "cell_type": "code",
   "execution_count": null,
   "metadata": {},
   "outputs": [],
   "source": [
    "# dłuższe ćwiczenie 9 - sprawdź swoje rozwiązanie\n",
    "\n"
   ]
  },
  {
   "cell_type": "markdown",
   "metadata": {},
   "source": [
    "<img style = 'float: left; margin-right: 10px; margin-bottom: 10px' src = 'Images/question.png'><img style = 'float: right; margin-left: 10px; margin-bottom: 10px' src = 'Images/caesar_cipher.png' width = '250px'> Dłuższe ćwiczenie 10: Szyfr Cezara.\n",
    "\n",
    "[Szyfr Cezara](https://en.wikipedia.org/wiki/Caesar_cipher) to jedna z najstarszych znanych metod szyfrowania; od Swetoniusza wiemy, że używał go Juliusz Cezar do szyfrowania listów do swoich przyjaciół. Polega on na tym, że każdą literę w alfabecie przesuwamy o daną liczbę miejsc, np. o 3, czyli np. `'a'` dałoby `'d'`, zaś `'y'` dałoby `'b'` itd. Aby zakodować dany tekst, przesuwamy każdą jego literę o 3 w przód; aby zakodowany tekst odkodować, przesuwamy jego litery o 3 w tył.\n",
    "\n",
    "Napisz funkcję `ceasar_shift`, która przyjmie dwa argumenty: literę `letter` i liczbę całkowitą `shift`, a zwróci literę po odpowiednim przesunięciu. Przesunięcie to ma działać tylko na litery, zaś wszelkie inne znaki (cyfry, spacje, znaki interpunkcyjne itp.) pozostawiać niezmienione. Ma też działać równie dobrze na małe i na wielkie litery.\n",
    "\n",
    "Napisz następnie funkcję `ceasar_code`, która przyjmie dwa argumenty, string `text` i liczbę całkowitą `shift`, a zwróci zakodowany tekst.\n",
    "\n",
    "Przyda ci się zdefiniowany poniżej string `ALPHABET`.\n",
    "\n",
    "Sprawdź swoją odpowiedź: Tekst `'I love coding in Python!!'` po zaszyfrowaniu z przesunięciem 3 ma postać `L oryh frglqj lq Sbwkrq!!`. Sprawdź też, czy po odkodowaniu (przesunięcie -3) otrzymasz oryginalny tekst."
   ]
  },
  {
   "cell_type": "markdown",
   "metadata": {},
   "source": [
    "Wskazówka do części pierwszej: Aby uzyskać przesunięcie litery, wyznacz najpierw indeks litery `letter` w alfabecie `ALPHABET` za pomocą metody `index`, a następnie powiększ go o wartość `shift`. Użyj arytmetyki modulo długość stringu `ALPHABET` (wynosi ona 26), aby przejść od indeksów \"późnych\" liter na początek alfabetu; np. indeks litery `'z'` to 25, po dodaniu 3 to 28, ale modulo 26 daje to 2, czyli indeks litery `'c'` - przyda się operator reszty z dzielenia `%`.\n",
    "\n",
    "Zawrzyj to w instrukcji warunkowej sprawdzającej, czy znak jest literą (metoda stringów `isalpha`).\n",
    "\n",
    "Co więcej, przesunięcia dokonuj zawsze na literach zmienionych na małe (jako że tylko małe litery mamy w stringu `ALPHABET`), a następnie zwracaj przesuniętą literę albo małą, albo dużą, zależnie od wielkości oryginalnej litery."
   ]
  },
  {
   "cell_type": "markdown",
   "metadata": {},
   "source": [
    "Wskazówka do części drugiej: Aby zakodować cały tekst `text`, zakoduj każdą literę z osobna używając zdefiniowanej w poprzednim kroku funkcji `ceasar_shift` i składni \"list comprehension\". Następnie połącz tak otrzymaną listę znaków w jeden string za pomocą metody stringów `join`."
   ]
  },
  {
   "cell_type": "code",
   "execution_count": null,
   "metadata": {},
   "outputs": [],
   "source": [
    "ALPHABET = 'abcdefghijklmnopqrstuvwxyz'"
   ]
  },
  {
   "cell_type": "code",
   "execution_count": null,
   "metadata": {},
   "outputs": [],
   "source": [
    "# dłuższe ćwiczenie 10 - rozwiązanie, część pierwsza\n",
    "\n"
   ]
  },
  {
   "cell_type": "code",
   "execution_count": null,
   "metadata": {},
   "outputs": [],
   "source": [
    "# dłuższe ćwiczenie 10 - rozwiązanie, część druga\n",
    "\n"
   ]
  },
  {
   "cell_type": "markdown",
   "metadata": {},
   "source": [
    "<img style = 'float: left; margin-right: 10px; margin-bottom: 10px' src = 'Images/question.png'><img style = 'float: right; margin-left: 10px; margin-bottom: 10px' src = 'Images/iambic_paddle.jpg' width = '300px'> Dłuższe ćwiczenie 11: Kod Morse'a.\n",
    "\n",
    "Wczytaj załączony do tej lekcji plik `morse_code.txt` z [kodem Morse'a](https://en.wikipedia.org/wiki/Morse_code) i zapisz go w słowniku `morse_code_dict` - wykonaj po prostu poniższą komórkę. Przydadzą się też zdefiniowane niżej zmienne `SHORT_GAP` (trzy spacje) i `MEDIUM_GAP` (siedem spacji), które konwencyjnie rozdzielają odpowiednio litery i słowa zapisane w języku Morse'a.\n",
    "\n",
    "(a) Napisz funkcję `morse_code_word`, która przyjmie jeden argument, string `word` (zakładamy, składający się z jednego tylko słowa, lecz pisanego dowolnie małymi lub wielkimi literami), a zwróci inny string, jego reprezentację w języku Morse'a. Np. słowo `'SOS'` to `'...   ---   ...'`, gdzie zwróćmy uwagę na odstęp trzech spacji między literami.\n",
    "\n",
    "(b) Napisz funkcję `morse_code_text`, która przyjmie jeden argument, string `text` (składający się potencjalnie z wielu słów), a zwróci inny string, jego reprezentację w języku Morse'a. Np. tekst `'I love coding in Python!!'` ma postać:\n",
    "```\n",
    "'..       .-..   ---   ...-   .       -.-.   ---   -..   ..   -.   --.       ..   -.       .--.   -.--   -   ....   ---   -.   -.-.--   -.-.--'\n",
    "```\n",
    "gdzie mamy siedmio-spacjowe odstępy miedzy wyrazami.\n",
    "\n",
    "(c) Stwórz słownik `morse_code_dict_reverse`, w którym klucze i wartości to odpowiednio wartości i klucze słownika `morse_code_dict`.\n",
    "\n",
    "(d) Napisz funkcję `morse_decode_word` dekodującą pojedyncze słowo napisane w języku Morse'a. Zakładamy, że słowo po odkodowaniu składa się jedynie z wielkich liter.\n",
    "\n",
    "(e) Napisz funkcję `morse_decode_text` dekodującą cały tekst zapisany w języku Morse'a."
   ]
  },
  {
   "cell_type": "markdown",
   "metadata": {},
   "source": [
    "Wskazówka: Używaj składni \"list comprehension\" i odpowiedniego słownika do kodowania/dekodowania. Powstałą tak listę łącz metodą `join` z odpowiednim separatorem, `SHORT_GAP` (w funkcji `morse_code_word`), `MEDIUM_GAP` (w funkcji `morse_code_text`), `''` (w funkcji `morse_decode_word`), czy też `' '` (w funkcji `morse_decode_text`).\n",
    "\n",
    "W funkcji `morse_code_word` pamiętaj ponadto o przekonwertowaniu każdej litery słowa na wielkie litery (metoda `upper`). Kiedy natomiast tworzysz listę do iteracji w powyższych \"list comprehension\", przyda się metoda `split`, odpowiednio po `' '` (w funkcji `morse_code_text`), `SHORT_GAP` (w funkcji `morse_decode_word`), `MEDIUM_GAP` (w funkcji `morse_decode_text`)"
   ]
  },
  {
   "cell_type": "code",
   "execution_count": null,
   "metadata": {},
   "outputs": [],
   "source": [
    "morse_code_dict = {}\n",
    "with open( 'Files/morse_code.txt' ) as f:\n",
    "    for line in f:\n",
    "        key , val = line.split()\n",
    "        morse_code_dict[ key ] = val"
   ]
  },
  {
   "cell_type": "code",
   "execution_count": null,
   "metadata": {},
   "outputs": [],
   "source": [
    "SHORT_GAP = '   '\n",
    "MEDIUM_GAP = '       '"
   ]
  },
  {
   "cell_type": "code",
   "execution_count": null,
   "metadata": {},
   "outputs": [],
   "source": [
    "# dłuższe ćwiczenie 11a - rozwiązanie\n",
    "\n"
   ]
  },
  {
   "cell_type": "code",
   "execution_count": null,
   "metadata": {},
   "outputs": [],
   "source": [
    "# dłuższe ćwiczenie 11b - rozwiązanie\n",
    "\n"
   ]
  },
  {
   "cell_type": "code",
   "execution_count": null,
   "metadata": {},
   "outputs": [],
   "source": [
    "# dłuższe ćwiczenie 11c - rozwiązanie\n",
    "\n"
   ]
  },
  {
   "cell_type": "code",
   "execution_count": null,
   "metadata": {},
   "outputs": [],
   "source": [
    "# dłuższe ćwiczenie 11d - rozwiązanie\n",
    "\n"
   ]
  },
  {
   "cell_type": "code",
   "execution_count": null,
   "metadata": {},
   "outputs": [],
   "source": [
    "# dłuższe ćwiczenie 11e - rozwiązanie\n",
    "\n"
   ]
  },
  {
   "cell_type": "markdown",
   "metadata": {},
   "source": [
    "<img style = 'float: left; margin-right: 10px; margin-bottom: 10px' src = 'Images/question.png'> Dłuższe ćwiczenie 12: Masz daną listę liczb całkowitych `lst`, np. `lst = [5, 3, 2, 3, 1, 4, 2]`.\n",
    "\n",
    "(a) Posortuj ją w taki sposób, aby wszystkie liczby parzyste były przed wszystkimi liczbami nieparzystymi (lecz względny porządek zarówno pośród liczb parzystych, jak i pośród liczb nieparzystych, pozostał taki sam, jak w liście `lst`). Czyli tu dostalibyśmy wynik `[2, 4, 2, 5, 3, 3, 1]`.\n",
    "\n",
    "(b) Posortuj ją znowu tak, aby wszystkie liczby parzyste były przed wszystkimi liczbami nieparzystymi, lecz teraz aby zarówno liczby parzyste, jak i nieparzyste, były także pośród siebie posortowane. Czyli tu mielibyśmy resultat `[2, 2, 4, 1, 3, 3, 5]`."
   ]
  },
  {
   "cell_type": "markdown",
   "metadata": {},
   "source": [
    "Wskazówka: Użyj wbudowanej funkcji `sorted` z kluczem `key`. Musisz napisać w obu przypadkach odpowiednią funkcję `lambda`. W punkcie (a) chcesz przetransformować listę `lst` w celach porównawczych używając reszty z dzielenia przez 2 - reszta zero pójdzie pierwsza, reszta jeden następna. W punkcie (b) chcesz sortować wedle wartości tupli 2-elementowej, gdzie jej pierwszy element to reszta z dzielenia przez 2, a drugi to sam element."
   ]
  },
  {
   "cell_type": "code",
   "execution_count": null,
   "metadata": {},
   "outputs": [],
   "source": [
    "# dłuższe ćwiczenie 12a - rozwiązanie\n",
    "\n"
   ]
  },
  {
   "cell_type": "code",
   "execution_count": null,
   "metadata": {},
   "outputs": [],
   "source": [
    "# dłuższe ćwiczenie 12b - rozwiązanie\n",
    "\n"
   ]
  },
  {
   "cell_type": "markdown",
   "metadata": {},
   "source": [
    "<img style = 'float: left; margin-right: 10px; margin-bottom: 10px' src = 'Images/question.png'> Dłuższe ćwiczenie 13: Masz daną listę stringów `lst`, np. `lst = ['ccba', 'bca', 'aba', 'aaa', 'bac', 'a']`. Posortuj ją wedle pozycji litery `'a'` w wyrazie, tj. czym wcześniej litera `'a'` występuje w stringu, tym wcześniej powinien być na posortowanej liście (jeśli pierwsze wystąpienie litery `'a'` w różnych stringach jest na tym samym miejscu, to ich względna pozycja nie ulega zmianie). Czyli tu dostalibyśmy wynik `['aba', 'aaa', 'a', 'bac', 'bca', 'ccba']`."
   ]
  },
  {
   "cell_type": "markdown",
   "metadata": {},
   "source": [
    "Wskazówka: Kluczem do sortowania powinien być indeks pierwszego wystąpienia litery `'a'`."
   ]
  },
  {
   "cell_type": "code",
   "execution_count": null,
   "metadata": {},
   "outputs": [],
   "source": [
    "# dłuższe ćwiczenie 13 - rozwiązanie\n",
    "\n"
   ]
  },
  {
   "cell_type": "markdown",
   "metadata": {},
   "source": [
    "<img style = 'float: left; margin-right: 10px; margin-bottom: 10px' src = 'Images/question.png'> Dłuższe ćwiczenie 14: Napisz funkcję `sum_of_digits`, która obliczy sumę cyfr dodatniej liczby całkowitej `n`, podanej jej jako jedyny argument. Widzieliśmy już, jak rozwiązać to zadanie bardzo elegancko za pomocą składni \"list comprehension\" i konwersji między typami `int` a `str`. Tutaj jednak rozwiąż to zadanie _rekursywnie_ - niech funkcja `sum_of_digits` wywołuja sama siebie w swoim ciele."
   ]
  },
  {
   "cell_type": "markdown",
   "metadata": {},
   "source": [
    "Wskazówka: Zauważ, iż mając liczbę `n`, np. `n = 12345`, operacja reszty z dzielenia przez 10 daje ostatnią jej cyfrę, `12345 % 10` jest równe `5`. Czyli mamy już ostatnią cyfrę. Jak teraz jej się \"pozbyć\"? Otóż część całkowita z dzielenia przez 10 dokładnie ją \"wycina\", `12345 // 10` jest równe `1234`.\n",
    "\n",
    "Krok rekursywny implementuje to rozumowanie: Funkcja `sum_of_digits` powinna zwracać resztę z dzielenia `n` przez 10 (tj. ostatnią cyfrę liczby `n`) plus wartość samej siebie wywołanej na liczbie `n // 10`, a więc pozbawionej tejże ostatniej cyfry.\n",
    "\n",
    "Warunek brzegowy jest taki, że kiedy wreszcie `n` stanie się równe `0` (po \"usunięciu\" ostatniej cyfry, jaka pozostała), to niech funkcja `sum_of_digits` zwraca `0`."
   ]
  },
  {
   "cell_type": "code",
   "execution_count": null,
   "metadata": {},
   "outputs": [],
   "source": [
    "# dłuższe ćwiczenie 14 - rozwiązanie\n",
    "\n"
   ]
  },
  {
   "cell_type": "markdown",
   "metadata": {},
   "source": [
    "<img style = 'float: left; margin-right: 10px; margin-bottom: 10px' src = 'Images/question.png'> Dłuższe ćwiczenie 15 (\\*): Quicksort.\n",
    "\n",
    "[\"Quicksort\"](https://en.wikipedia.org/wiki/Quicksort) to efektywny i cały czas popularny algorytm sortowania, opracowany przez Tony'ego Hoare'a w 1959 r. W tym ćwiczeniu napisz funkcję `quicksort`, która przyjmuje jako jeden argument listę `lst`, a zwraca listę w wersji posortowanej (od najmniejszego do największego elementu); spróbuj napisać tę funkcję rekursywnie.\n",
    "\n",
    "Zasada algorytmu \"quicksort\" jest bardzo prosta:\n",
    "\n",
    "- Wybierz element listy `lst` o dowolnym indeksie, tzw. \"pivot\". Np. mamy listę `lst = [5, 3, 2, 3, 1, 4, 2]` i powiedzmy, że wybieramy element o indeksie 3, czyli drugi element `3` - to nasz \"pivot\".\n",
    "\n",
    "- Iterując się przez listę `lst`, stwórz trzy listy: (1) listę wszystkich elementów mniejszych od elementu \"pivot\" (nazwijmy ją `left`), (2) listę wszystkich elementów równych elementowi \"pivot\" (nazwijmy ją `middle`), (3) listę wszystkich elementów większych od elementu \"pivot\" (nazwijmy ją `right`). W naszym przykładzie mielibyśmy `left = [2, 1, 2]`, `middle = [3, 3]` i `right = [5, 4]`.\n",
    "\n",
    "- Teraz zastosuj algorytm \"quicksort\" rekursywnie do listy `left` i do listy `right` (to nam je rekursywnie posortuje), a na końcu połącz (\"concatenate\") ze sobą (1) tak posortowaną listę `left`, (2) listę `middle`, (3) tak posortowaną listę `right`.\n",
    "\n",
    "- Warunkiem brzegowym rekursji jest, iż jeśli lista `lst` jest pusta, to zwróć ją samą.\n",
    "\n",
    "Uwaga odnośnie pierwszego kroku: Wybór elementu \"pivot\" jest dowolny, natomiast okazuje się, że \"mądry\" jego wybór może zdecydowanie przyspieszyć działanie algorytmu, zaś \"niemądry\" wybór go spowolnić. Istnieją zatem złożone algorytmy jego wyboru. Tu nie będziemy się tym przejmować - postanówmy, że wybór elementu \"pivot\" dokonujemy w połowie, tj. jego indeks niech będzie połową długości listy `lst` (dokładniej: częścią całkowitą jej dzielenia przez 2)."
   ]
  },
  {
   "cell_type": "markdown",
   "metadata": {},
   "source": [
    "Wskazówka: Do wyboru elementu \"pivot\" przyda się operator `//`. Konstrukcji list `left`, `middle`, `right` dokonaj za pomocą składni \"list comprehension\". Krok rekursywny zwraca złączenie list, więc przyda się operator `+`; połącz posortowaną przez `quicksort` listę `left`, następnie listę `middle`, następnie posortowaną przez `quicksort` listę `right`. Nie zapomnij o warunku brzegowym - zapisz go elegancko, pamiętając, iż Python traktuje pustą listę jak wartość logiczną `False`."
   ]
  },
  {
   "cell_type": "code",
   "execution_count": null,
   "metadata": {},
   "outputs": [],
   "source": [
    "# dłuższe ćwiczenie 15 - rozwiązanie\n",
    "\n"
   ]
  },
  {
   "cell_type": "markdown",
   "metadata": {},
   "source": [
    "### 4.2. Projekty końcowe"
   ]
  },
  {
   "cell_type": "markdown",
   "metadata": {},
   "source": [
    "<img style = 'float: left; margin-right: 10px; margin-bottom: 10px' src = 'Images/question.png'><img style = 'float: right; margin-left: 10px; margin-bottom: 10px' src = 'Images/calendar.jfif' width = '200px'> Dłuższe ćwiczenie 16: Zabawa z kalendarzem.\n",
    "\n",
    "To będzie nasz pierwszy projekt końcowy! Napiszemy serię funkcji związanych z utworzeniem \"kartki z kalendarza\".\n",
    "\n",
    "W biblitece standardowej Pythona mamy [moduł `calendar`](https://docs.python.org/3/library/calendar.html) zawierający wiele przydatnych funkcji związanych z kalendarzem. W szczególności, mamy funkcję `month`, która zwraca string opisujący \"kartkę z kalendarza\" na dany miesiąc. Wydrukowanie tego stringu za pomocą funkcji `print` wyświetla go w ładnie sformatowanym stylu. Naszym zadaniem będzie napisanie serii funkcji pozwalających odtworzyć tę funkcjonalność."
   ]
  },
  {
   "cell_type": "code",
   "execution_count": null,
   "metadata": {},
   "outputs": [],
   "source": [
    "from calendar import month"
   ]
  },
  {
   "cell_type": "code",
   "execution_count": null,
   "metadata": {},
   "outputs": [],
   "source": [
    "month( 2020 , 3 )"
   ]
  },
  {
   "cell_type": "code",
   "execution_count": null,
   "metadata": {},
   "outputs": [],
   "source": [
    "print( month( 2020 , 3 ) )"
   ]
  },
  {
   "cell_type": "markdown",
   "metadata": {},
   "source": [
    "Zdefiniujmy najpierw kilka przydatnych zmiennych:\n",
    "\n",
    "- lista nazw miesięcy `MONTHS`;\n",
    "\n",
    "- lista skrótowych (2-literowych) nazw dni tygodnia `WEEKDAYS`, w konwencji takiej, iż zaczynamy od poniedziałku;\n",
    "\n",
    "- string `WEEKDAYS_HEADER` o postaci dokładnie takiej, jak nagłówek z dniami tygodnia otrzymywany z funkcji `calendar.month`, tj. `'Mo Tu We Th Fr Sa Su'`;\n",
    "\n",
    "- jego długość `CALENDAR_WIDTH` (równa 20), która jednocześnie definiuje nam szerokość \"kartki z kalendarza\"."
   ]
  },
  {
   "cell_type": "code",
   "execution_count": null,
   "metadata": {},
   "outputs": [],
   "source": [
    "MONTHS = [ 'January' , 'February' , 'March' , 'April' , 'May' , 'June' , 'July' , 'August' , 'September' , 'October' , 'November' , 'December' ]"
   ]
  },
  {
   "cell_type": "code",
   "execution_count": null,
   "metadata": {},
   "outputs": [],
   "source": [
    "WEEKDAYS = [ 'Mo' , 'Tu' , 'We' , 'Th' , 'Fr' , 'Sa' , 'Su' ]\n",
    "WEEKDAYS_HEADER = ' '.join( WEEKDAYS )\n",
    "CALENDAR_WIDTH = len( WEEKDAYS_HEADER )"
   ]
  },
  {
   "cell_type": "markdown",
   "metadata": {},
   "source": [
    "Część (a): Napisz funkcję `display_header` przyjmującą dwa argumenty: string `month` (np. `'March'`) i liczbę całkowitą `year` (np. `2020`), a zwracającą string będący \"nagłówkiem kartki z kalendarza\", a zatem składający się z dwóch linijek: w pierwszej linijce wyśrodkowany tekst zawierający miesiąc i rok, a w drugiej wspomniany wyżej nagłówek z dniami tygodnia (np. `'     March 2020\\nMo Tu We Th Fr Sa Su'`)."
   ]
  },
  {
   "cell_type": "markdown",
   "metadata": {},
   "source": [
    "Wskazówka do (a): Wyśrodkowanie uzyskaj albo metodą stringów `center`, albo manualnie, poprzez obliczenie liczby spacji przed i po tekście z miesiącem i rokiem; liczbę spacji przed oblicz jako szerokość \"kartki\" minus długość tekstu, podzielone przez dwa i z tego część całkowita (np. użyj operatora `//`). Pamiętaj, iż nową linię otrzymujemy przez \"escape character\" `'\\n'`."
   ]
  },
  {
   "cell_type": "code",
   "execution_count": null,
   "metadata": {},
   "outputs": [],
   "source": [
    "# dłuższe ćwiczenie 16a - rozwiązanie\n",
    "\n"
   ]
  },
  {
   "cell_type": "markdown",
   "metadata": {},
   "source": [
    "Część (b): Widzimy, że dni w naszej \"kartce z kalendarza\" wydrukowane są tak, iż jeśli dzień jest liczbą 1-cyfrową, to i tak zajmuje on dwa znaki, gdzie pierwszy jest spację, np. `' 8'`. Napisz funkcję `double_digit_str` przyjmującą jeden argument, liczbę całkowitą `day` (np. `8`), a zwracający jej reprezentację jako string, przy czym 1-cyfrowe dni są rozszerzone spację j.w."
   ]
  },
  {
   "cell_type": "markdown",
   "metadata": {},
   "source": [
    "Wskazówka do (b): Użyj konwersji na string, prostej instrukcji warunkowej sprawdzającej jego długość i operatora `+`."
   ]
  },
  {
   "cell_type": "code",
   "execution_count": null,
   "metadata": {},
   "outputs": [],
   "source": [
    "# dłuższe ćwiczenie 16b - rozwiązanie\n",
    "\n"
   ]
  },
  {
   "cell_type": "markdown",
   "metadata": {},
   "source": [
    "Część (c): Napisz funkcję `display_week`, która zwróci string zawierający dni pojedynczego tygodnia z \"kartki z kalendarza\", np.:\n",
    "```\n",
    "' 2  3  4  5  6  7  8'\n",
    "```\n",
    "to drugi tydzień marca 2020. Niech przyjmuje ona dwa argumenty, liczby całkowite `week_beginning` (pierwszy dzień tego tygodnia, np. `2`) i `n_days` (całkowita liczba dni w miesiącu, np. `31`). Przyjmijmy konwencję taką, iż `week_beginning` może być ujemne, np. pierwszy tydzień marca 2020 miałby wartość tego argumentu `-5`. Natomiast wyświetlić się muszą oczywiście tylko dni tego tygodnia, ale ograniczone od 1 do `n_days`, czyli np. pierwszy tydzień marca 2020 to:\n",
    "```\n",
    "'                   1'\n",
    "```"
   ]
  },
  {
   "cell_type": "markdown",
   "metadata": {},
   "source": [
    "Wskazówka do (c): Utwórz najpierw listę dni z tygodnia zaczynającego się w `week_beginning`, przekonwertowanych od razu napisaną w punkcie (b) funkcją `double_digit_str`; użyj składni \"list comprehension\" z warunkiem `if-else` (przypomnij sobie tę szczególną składnię!), który upewni się, że wyświetlasz dni tylko od 1 do `n_days`, a w przeciwnym przypadku podwójną spację `'  '`. Następnie połącz tę listę metodą stringów `join` z separatorem będącym pojedynczą spacją `' '`."
   ]
  },
  {
   "cell_type": "code",
   "execution_count": null,
   "metadata": {},
   "outputs": [],
   "source": [
    "# dłuższe ćwiczenie 16c - rozwiązanie\n",
    "\n"
   ]
  },
  {
   "cell_type": "markdown",
   "metadata": {},
   "source": [
    "Część (d): W punkcie (c) napisaliśmy funkcję wyświetlającą pojedynczy tydzień z miesiąca na podstawie jego pierwszego dnia, w konwencji takiej, że może to być liczba ujemna, co oznacza, iż tydzień taki zaczyna się w poprzednim miesiącu. W tym punkcie napiszemy funkcję obliczającą wszystkie te \"pierwsze dni\" tygodnia. Mianowicie, napisz funkcję `week_beginnings` przyjmującą dwa argumenty: `first_weekday` i `n_days`; pierwszy argument to string opisujący dzień tygodnia (w naszej konwencji 2-literowej), którym jest pierwszy tego miesiąca, np. 1 marca 2020 to niedziela, zatem string ten byłby tu `'Su'`; drugi argument to całkowita liczba dni w miesiącu. Niech funkcja ta zwraca listę pierwszych dni każdego tygodnia w tym miesiącu, np. dla marca 2020 byłoby to `[-5, 2, 9, 16, 23, 30]`."
   ]
  },
  {
   "cell_type": "markdown",
   "metadata": {},
   "source": [
    "Wskazówka do (d): Użyj funkcji `range` z trzema argumentami. Drugi i trzeci argument tej funkcji są proste: chcesz iść w krokach co 7 do maksymalnie `n_days` włącznie. Natomiast jaki jest pierwszy argument, opisujący pierwszy element listy? Dla przykładu, jeśli `first_weekday` jest równe `'Su'`, czyli dzień na liście `WEEKDAYS` o indeksie 6, to chcesz iść od dnia -5, co jest równe 1 - 6. Uzasadnij tę zależność, a następnie posłuż się metodą list `index`."
   ]
  },
  {
   "cell_type": "code",
   "execution_count": null,
   "metadata": {},
   "outputs": [],
   "source": [
    "# dłuższe ćwiczenie 16d - rozwiązanie\n",
    "\n"
   ]
  },
  {
   "cell_type": "markdown",
   "metadata": {},
   "source": [
    "Część (e): Napisz funkcję `display_weeks`, która wydrukuje całą \"kartkę z kalendarza\", jeszcze bez \"nagłówka\", tj. wszystkie dni tygodnia, wydrukowane tak samo jak we wbudowanej funkcji `calendar.month`. Niech przyjmuje dwa argumenty, te same co funkcja `week_beginnings` z punktu (d), tj. `first_weekday` (dzień tygodnia, którym jest pierwszy dzień danego miesiąca, w formacie 2-literowego skrótu, np. `'Su'`) i `n_days` (całkowita liczba dni w tym miesiącu). Niech zwraca string, złożony z odpowiedniej liczby linijek, gdzie każda linijka to odpowiedni tydzień, np. dla marca 2020:\n",
    "```\n",
    "'                   1\\n 2  3  4  5  6  7  8\\n 9 10 11 12 13 14 15\\n16 17 18 19 20 21 22\\n23 24 25 26 27 28 29\\n30 31               '\n",
    "```\n",
    "co po wydrukowaniu funkcją `print` daje:\n",
    "```\n",
    "                   1\n",
    " 2  3  4  5  6  7  8\n",
    " 9 10 11 12 13 14 15\n",
    "16 17 18 19 20 21 22\n",
    "23 24 25 26 27 28 29\n",
    "30 31 \n",
    "```"
   ]
  },
  {
   "cell_type": "markdown",
   "metadata": {},
   "source": [
    "Wskazówka do (e): W ciele funkcji utwórz najpierw listę pierwszych dni każdego tygodnia za pomocą funkcji `week_beginnings` z punktu (d). Następnie skonstruuj listę - za pomocą składni \"list comprehension\", iterując po tej liście pierwszych dni tygodnia - której każdym elementem jest string opisujący dany tydzień, otrzymany za pomocą funkcji `display_week` z punktu (c). Tak otrzymaną listę połącz metodą stringów `join`, z separatorem `'\\n'`."
   ]
  },
  {
   "cell_type": "code",
   "execution_count": null,
   "metadata": {},
   "outputs": [],
   "source": [
    "# dłuższe ćwiczenie 16e - rozwiązanie\n",
    "\n"
   ]
  },
  {
   "cell_type": "markdown",
   "metadata": {},
   "source": [
    "Część (f): Dzięki funkcjom napisanym w punktach (a)-(e) możemy już ładnie wydrukować naszą \"kartkę z kalendarza\". Jednakże funkcje te opierają się na założeniu, iż podajmy im jako argumenty pewne szczegółowe dane, jak np. to, jakim dniem tygodnia zaczyna się dany miesiąc, czy ile w miesiącu jest dni. W kolejnych punktach zautomatyzujemy podawanie tych informacji, jedynie na podstawie danego miesiąca i roku.\n",
    "\n",
    "Napisz najpierw funkcję `is_leap` z jednym argumentem, liczbą całkowitą `year` (np. `2020`), która zwraca wartość logiczną odpowiadającą na pytanie, czy dany rok jest przestępny. Zasada jest następująca:\n",
    "\n",
    "- jeśli rok jest podzielny przez 400, to jest przestępny;\n",
    "\n",
    "- z pozostałych lat, jeśli rok jest podzielny przez 100, to nie jest przestępny;\n",
    "\n",
    "- z pozostałych lat, jeśli rok jest podzielny przez 4, to jest przestępny;\n",
    "\n",
    "- wszystkie pozostałe lata nie są przestępne."
   ]
  },
  {
   "cell_type": "markdown",
   "metadata": {},
   "source": [
    "Wskazówka do (f): Możesz zapisać to za pomocą kolejnych instrukcji warunkowych (i oczywiście operatora `%`). Ale spróbuj napisać to w jednej linijce, używając operatorów logicznych i odpowiednio umieszczając nawiasy."
   ]
  },
  {
   "cell_type": "code",
   "execution_count": null,
   "metadata": {},
   "outputs": [],
   "source": [
    "# dłuższe ćwiczenie 16f - rozwiązanie\n",
    "\n"
   ]
  },
  {
   "cell_type": "markdown",
   "metadata": {},
   "source": [
    "Sprawdź swoją odpowiedź w (f): Zaimportuj funkcję wbudowaną `isleap` z modułu `calendar` i sprawdź, czy jej wyniki są równe twoim dla kilku tysięcy lat."
   ]
  },
  {
   "cell_type": "code",
   "execution_count": null,
   "metadata": {},
   "outputs": [],
   "source": [
    "from calendar import isleap"
   ]
  },
  {
   "cell_type": "code",
   "execution_count": null,
   "metadata": {},
   "outputs": [],
   "source": [
    "all( [ calendar.isleap( year ) == is_leap( year ) for year in range( 3000 ) ] )"
   ]
  },
  {
   "cell_type": "markdown",
   "metadata": {},
   "source": [
    "Część (g): Napisz funkcję `number_of_days`, która przyjmie dwa argumenty: `month` (będący stringiem, jednym z listy `MONTHS`) i `leap` (będący obiektem typu Boolean), a zwróci liczbę dni w tym miesiącu: 28 lub 29 dla lutego, 30 dla kwietnia, czerwca, września, listopada, a 31 dla pozostałych."
   ]
  },
  {
   "cell_type": "code",
   "execution_count": null,
   "metadata": {},
   "outputs": [],
   "source": [
    "# dłuższe ćwiczenie 16g - rozwiązanie\n",
    "\n"
   ]
  },
  {
   "cell_type": "markdown",
   "metadata": {},
   "source": [
    "Część (h): W tym punkcie napiszemy funkcję `julian_day_number` implementującą tzw. [datę juliańską](https://en.wikipedia.org/wiki/Julian_day). Wbrew swojej polskiej nazwie, nie jest to data, ale liczba całkowita, mianowicie liczba dni, jakie upłynęły od umownej daty 24 listopada 4714 roku p.n.e., licząc według tzw. [proleptycznego kalendarza gregoriańskiego](https://en.wikipedia.org/wiki/Proleptic_Gregorian_calendar), czyli przedłużając obecny kalendarz gregoriański wstecz w czasie od jego wprowadzenia w 1582 r. Także wbrew swojej nazwie, nie ma ona nic wspólnego z Juliuszem Cezarem i kalendarzem juliańskim, lecz pochodzi ona od Juliusza Cezara Scaligera, ojca francuskiego uczonego Josepha Justusa Scaligera, który ją wprowadził.\n",
    "\n",
    "Data juliańska używana jest przede wszystkim w obliczeniach astronomicznych. Jest też prostym sposobem na obliczenie liczby dni, jakie upłynęły między dwoma danymi datami - wystarczy po prostu odjąć od siebie odpowiadające tym datom liczby juliańskie. Innym jej zastosowaniem jest odpowiedź na pytanie, jakim dniem tygodnia była dana data - i to właśnie wykorzystamy w punkcie (i) poniżej.\n",
    "\n",
    "Uwaga: Bardziej precyzyjnie, data juliańska odnosi się nie tylko do _dnia_, ale do dokładnej godziny. W szczególności, dzień liczy się od południa czasu UTC. My jednak nie przejmujmy się tym i obliczmy uproszczoną wersję daty juliańskiej, opisującą jedynie dzień.\n",
    "\n",
    "Funkcja `julian_day_number` niech przyjmuje trzy argumenty: `day` (liczba całkowita, dany dzień), `month` (string, jak w liście `MONTHS`, opisujący miesiąc), `year` (liczba całkowita, dany rok). Procedura jest następująca: Miesiącom przypisane są ich kolejne liczby porządkowe, przy czym jeśli miesiąc to styczeń lub luty, to należy: (1) od roku `year` odjąć 1, (2) do liczby porządkowej miesiąca dodać 12. Innymi słowy, miesiącom przypisane są liczby: 3 dla marca, 4 dla kwietnia, ..., 12 dla grudnia, 13 dla stycznia, 14 dla lutego, przy czym styczeń i luty traktowane są jako miesiące _poprzedniego_ roku. W ciele funkcji zdefiniujmy zatem zmienne `Y` i `M` opisujące rok i miesiąc w tej konwencji. Np. styczeń 2020 miałby `Y = 2019` i `M = 13`. Na podstawie tych zmiennych, data juliańska dana jest wzorem:\n",
    "```\n",
    "Y * 365 + Y // 4 - Y // 100 + Y // 400 + ( 153 * M - 7 ) // 5 + day + 1721029\n",
    "```"
   ]
  },
  {
   "cell_type": "code",
   "execution_count": null,
   "metadata": {},
   "outputs": [],
   "source": [
    "# dłuższe ćwiczenie 16h - rozwiązanie\n",
    "\n"
   ]
  },
  {
   "cell_type": "markdown",
   "metadata": {},
   "source": [
    "Sprawdź swoją odpowiedź w (h): Data juliańska dnia 24 listopada -4713 (czyli 4714 r. p.n.e.; pamiętajmy, że nie było roku zerowego naszej ery!) to 0, dnia 16 listopada 1858 to 2400000, 8 marca 2020 to 2458917, zaś 31 sierpnia 2132 to 2500000."
   ]
  },
  {
   "cell_type": "code",
   "execution_count": null,
   "metadata": {},
   "outputs": [],
   "source": [
    "for date in [ ( 24 , 'November' , -4713 ) , ( 16 , 'November' , 1858 ) , ( 8 , 'March' , 2020 ) , ( 31 , 'August' , 2132 ) ]:\n",
    "    print( julian_day_number( *date ) )"
   ]
  },
  {
   "cell_type": "markdown",
   "metadata": {},
   "source": [
    "Część (i): Okazuje się, że reszta z dzielenia przez 7 daty juliańskiej dokładnie opisuje dzień tygodnia tej daty, gdzie 0 to poniedziałek, 1 wtorek itd. Napisz funkcję `weekday`, przyjmującą trzy argumenty, te same, co wyżej, tj. `day`, `month`, `year`, a zwracającą dzień tygodnia tej daty, w naszej konwencji 2-literowych skrótów obecnych w liście `WEEKDAYS`, np. `'Mo'`."
   ]
  },
  {
   "cell_type": "code",
   "execution_count": null,
   "metadata": {},
   "outputs": [],
   "source": [
    "# dłuższe ćwiczenie 16i - rozwiązanie\n",
    "\n"
   ]
  },
  {
   "cell_type": "markdown",
   "metadata": {},
   "source": [
    "Sprawdź swoją odpowiedź: Daty urodzenia kilku sławnych uczonych wypadają w następujące dni tygodnia:\n",
    "\n",
    "| Uczony | Data urodzenia | Dzień tygodnia |\n",
    "| --- | --- | --- |\n",
    "| <center>Mikołaj Kopernik</center> | <center>19 lutego 1473</center> | <center>środa</center> |\n",
    "| <center>Galileusz</center> | <center>15 lutego 1564</center> | <center>sobota</center> |\n",
    "| <center>Isaac Newton</center> | <center>4 stycznia 1643</center> | <center>niedziela</center> |\n",
    "| <center>Leonhard Euler</center> | <center>15 kwietnia 1707</center> | <center>piątek</center> |\n",
    "| <center>Carl Friedrich Gauss</center> | <center>30 kwietnia 1777</center> | <center>środa</center> |\n",
    "| <center>James Clerk Maxwell</center> | <center>13 czerwca 1831</center> | <center>poniedziałek</center> |\n",
    "| <center>Albert Einstein</center> | <center>14 marca 1879</center> | <center>piątek</center> |\n",
    "| <center>Kurt Gödel</center> | <center>28 kwietnia 1906</center> | <center>sobota</center> |\n",
    "| <center>Alan Turing</center> | <center>23 czerwca 1912</center> | <center>niedziela</center> |\n",
    "| <center>Benoit Mandelbrot</center> | <center>20 listopada 1924</center> | <center>czwartek</center> |"
   ]
  },
  {
   "cell_type": "code",
   "execution_count": null,
   "metadata": {},
   "outputs": [],
   "source": [
    "birthdates = {\n",
    "    'Nicolaus Copernicus' : ( 19 , 'February' , 1473 ) ,\n",
    "    'Galileo Galilei' : ( 15 , 'February' , 1564 ) ,\n",
    "    'Isaac Newton' : ( 4 , 'January' , 1643 ) ,\n",
    "    'Leonhard Euler' : ( 15 , 'April' , 1707 ) ,\n",
    "    'Carl Friedrich Gauss' : ( 30 , 'April' , 1777 ) ,\n",
    "    'James Clerk Maxwell' : ( 13 , 'June' , 1831 ) ,\n",
    "    'Albert Einstein' : ( 14 , 'March' , 1879 ) ,\n",
    "    'Kurt Gödel' : ( 28 , 'April' , 1906 ) ,\n",
    "    'Alan Turing' : ( 23 , 'June' , 1912 ) ,\n",
    "    'Benoit Mandelbrot' : ( 20 , 'November' , 1924 )\n",
    "}\n",
    "\n",
    "correct_answers = [ 'We' , 'Sa' , 'Su' , 'Fr' , 'We' , 'Mo' , 'Fr' , 'Sa' , 'Su' , 'Th' ]\n",
    "\n",
    "for ( name , ( day , month , year ) ) , correct_answer in zip( birthdates.items() , correct_answers ):\n",
    "    verdict = 'CORRECT' if weekday( day , month , year ) == correct_answer else 'INCORRECT'\n",
    "    print( f'{name} was born on {day} {month} {year}, which is... {weekday( day , month , year )}, and which is {verdict}.' )"
   ]
  },
  {
   "cell_type": "markdown",
   "metadata": {},
   "source": [
    "Część (j): Napisz finalną funkcję tego zadania, `display_calendar`, która przyjmie dwa argumenty, `month` (string z listy `MONTHS`) i `year` (liczba całkowita), a zwróci string opisujący pełną \"kartkę z kalendarza\" dla danego miesiąca i roku."
   ]
  },
  {
   "cell_type": "markdown",
   "metadata": {},
   "source": [
    "Wskazówka do (j): W ciele funkcji dokonaj następujących obliczeń:\n",
    "\n",
    "- zdefiniuj zmienną typu Boolean `leap`, która odpowie na pytanie, czy rok `year` jest przestępny - użyj funkcji `is_leap` z punktu (f);\n",
    "\n",
    "- zdefiniuj zmienną `n_days`, wyznaczającą liczbę dni tego miesiąca - użyj funkcji `number_of_days` z punktu (g);\n",
    "\n",
    "- zdefiniuj zmienną `first_weekday`, będącą stringiem opisującym dzień tygodnia, jakim jest dzień pierwszy tego miesiąca - użyj funkcji `weekday` z punktu (i);\n",
    "\n",
    "- wreszcie skomponuj \"kartkę z kalendarza\", tworząc jej nagłówek - za pomocą funkcji `display_header` z punktu (a) - oraz kolejne dni tygodnia - za pomocą funkcji `display_weeks` z punktu (e)."
   ]
  },
  {
   "cell_type": "code",
   "execution_count": null,
   "metadata": {},
   "outputs": [],
   "source": [
    "# dłuższe ćwiczenie 16j - rozwiązanie\n",
    "\n"
   ]
  },
  {
   "cell_type": "markdown",
   "metadata": {},
   "source": [
    "Sprawdź swoją odpowiedź: \"Kartka z kalendarza\" dla marca 2020 powinna mieć postać:\n",
    "```\n",
    "'     March 2020\\nMo Tu We Th Fr Sa Su\\n                   1\\n 2  3  4  5  6  7  8\\n 9 10 11 12 13 14 15\\n16 17 18 19 20 21 22\\n23 24 25 26 27 28 29\\n30 31               '\n",
    "```\n",
    "co po wydrukowaniu funkcją `print` wygląda tak:\n",
    "```\n",
    "     March 2020\n",
    "Mo Tu We Th Fr Sa Su\n",
    "                   1\n",
    " 2  3  4  5  6  7  8\n",
    " 9 10 11 12 13 14 15\n",
    "16 17 18 19 20 21 22\n",
    "23 24 25 26 27 28 29\n",
    "30 31               \n",
    "```"
   ]
  },
  {
   "cell_type": "code",
   "execution_count": null,
   "metadata": {},
   "outputs": [],
   "source": [
    "display_calendar( 'March' , 2020 )"
   ]
  },
  {
   "cell_type": "code",
   "execution_count": null,
   "metadata": {},
   "outputs": [],
   "source": [
    "print( display_calendar( 'March' , 2020 ) )"
   ]
  },
  {
   "cell_type": "markdown",
   "metadata": {},
   "source": [
    "<img style = 'float: left; margin-right: 10px; margin-bottom: 10px' src = 'Images/question.png'><img style = 'float: right; margin-left: 10px; margin-bottom: 10px' src = 'Images/tic-tac-toe.jfif' width = '200px'> Dłuższe ćwiczenie 17: Kółko i krzyżyk.\n",
    "\n",
    "To będzie nasz drugi projekt końcowy! Napiszemy kompletny program realizujący grę w kółko i krzyżyk (na planszy 3 x 3), łącznie ze sztuczną inteligencją komputera!\n",
    "\n",
    "Plansza do gry reprezentowana będzie przez listę list - listę o trzech elementach, każdy z nich także będący listą o trzech elementach, które to należą do zestawu stringów: `'X'` (dane pole zajęte przez X), `'O'` (dane pole zajęte przez O), `' '` (dane pole puste). Np. `[['X', ' ', ' '], ['X', ' ', 'O'], [' ', 'O', 'X']]`. Graczy nazwiemy `'Player'` i `'Computer'`."
   ]
  },
  {
   "cell_type": "markdown",
   "metadata": {},
   "source": [
    "Przydadzą się następujące importy:\n",
    "\n",
    "- Funkcja `random.choice` przyjmuje jako argument listę, a zwraca losowo wybrany jej element. Przyda nam się przy wyborze pierwszego gracza, a także jako część strategii gry komputera.\n",
    "\n",
    "- Funkcja `copy.deepcopy` dokonuje tzw. \"kopii głębokiej\" listy list. Jest to związane z zagadnieniem wspominanym w Lekcji 5, mutowalności list. Jeśli mamy listę list - a takim właśnie obiektem będzie nasza plansza do gry - to jeżeli utworzymy jej zwykłą kopię (metodą list `copy`), a następnie w tej kopii zmienimy wartość elementu pod-listy, to okazuje się, iż wartość ta zmieni się także w oryginale! Aby tego uniknąć, należy utworzyć \"kopię głęboką\". Przyda nam się to przy pisaniu algorytmu sztucznej inteligencji - komputer utworzy kopię głęboką aktualnej planszy do gry, a następnie na niej będzie rozważał swój kolejny ruch."
   ]
  },
  {
   "cell_type": "code",
   "execution_count": null,
   "metadata": {},
   "outputs": [],
   "source": [
    "from random import choice\n",
    "from copy import deepcopy"
   ]
  },
  {
   "cell_type": "code",
   "execution_count": null,
   "metadata": {},
   "outputs": [],
   "source": [
    "choice( range( 100 ) ) # losowy wybór z listy"
   ]
  },
  {
   "cell_type": "code",
   "execution_count": null,
   "metadata": {},
   "outputs": [],
   "source": [
    "board_example = [ [ 'X' , ' ' , ' ' ] , [ ' ' , ' ' , ' ' ] , [ ' ' , ' ' , ' ' ] ]\n",
    "\n",
    "board_example_copy = board_example.copy() # zwykła kopia listy list\n",
    "board_example_copy[ 1 ][ 2 ] = 'O'\n",
    "\n",
    "print( board_example_copy )\n",
    "print( board_example ) # zmienna board_example zmieniła wartość!!"
   ]
  },
  {
   "cell_type": "code",
   "execution_count": null,
   "metadata": {},
   "outputs": [],
   "source": [
    "board_example = [ [ 'X' , ' ' , ' ' ] , [ ' ' , ' ' , ' ' ] , [ ' ' , ' ' , ' ' ] ]\n",
    "\n",
    "board_example_copy = deepcopy( board_example ) # kopia głęboka listy list\n",
    "board_example_copy[ 1 ][ 2 ] = 'O'\n",
    "\n",
    "print( board_example_copy )\n",
    "print( board_example ) # zmienna board_example NIE zmieniła teraz wartości"
   ]
  },
  {
   "cell_type": "markdown",
   "metadata": {},
   "source": [
    "Część (a): Napisz funkcję `generate_empty_board`, nieprzyjmującą żadnych argumentów, a zwracającą pustą planszę, tj. listę list, gdzie każdy string to `' '`, czyli `[[' ', ' ', ' '], [' ', ' ', ' '], [' ', ' ', ' ']]`."
   ]
  },
  {
   "cell_type": "markdown",
   "metadata": {},
   "source": [
    "Wskazówka do (a): Napisz zagnieżdżoną \"list comprehension\", gdzie iterujesz się po `range(3)` (możesz użyć niemego iteratora!)."
   ]
  },
  {
   "cell_type": "code",
   "execution_count": null,
   "metadata": {},
   "outputs": [],
   "source": [
    "# dłuższe ćwiczenie 17a - rozwiązanie\n",
    "\n"
   ]
  },
  {
   "cell_type": "markdown",
   "metadata": {},
   "source": [
    "Część (b): Narysuj planszę. Napisz funkcję `display_board`, która przyjmie jeden argument `board` (będący naszym obiektem planszy, tj. listą list j.w.), nie będzie nic zwracać, a jej efektem ubocznym będzie wydrukowanie w ładny sposób planszy `board`, łącznie ze współrzędnymi pól. Np. dla `board = [['X', ' ', ' '], ['X', ' ', 'O'], [' ', 'O', 'X']]` chcemy otrzymać:\n",
    "```\n",
    "  1 2 3\n",
    "a X| | \n",
    "b X| |O\n",
    "c  |O|X\n",
    "```\n",
    "Współrzędne rzędów nazwiemy a, b, c, zaś kolumn 1, 2, 3 - przez nie będziemy później m.in. definiować ruch gracza czy komputera."
   ]
  },
  {
   "cell_type": "markdown",
   "metadata": {},
   "source": [
    "Wskazówka do (b): Utwórz najpierw \"nagłówek\" z numerami kolumn.\n",
    "\n",
    "Następnie utwórz listę stringów, gdzie każdy string to będzie kolejny wiersz naszej planszy, łącznie z literką wiersza. Użyj składni \"list comprehension\", gdzie iterujesz się po złączonych \"na suwak\" (funkcją `zip`) kolekcjach: stringu `'abc'` (to da ci kolejne literki wierszy) i listy `board` (gdzie każdy jej kolejny element to 3-elementowa lista). Każdy kolejny string w tej iteracji składa się z kolejnej literki wiersza, dołączonej (`+`) do kolejnej pod-listy listy `board`, złączonej metodą `join` z separatorem `|`.\n",
    "\n",
    "Na koniec połącz \"nagłówek\" z powyżej utworzoną listą, złączoną metodą `join` z separatorem `'\\n'`."
   ]
  },
  {
   "cell_type": "code",
   "execution_count": null,
   "metadata": {},
   "outputs": [],
   "source": [
    "# dłuższe ćwiczenie 17b - rozwiązanie\n",
    "\n"
   ]
  },
  {
   "cell_type": "markdown",
   "metadata": {},
   "source": [
    "Część (c): Wybierz literę gracza. Napisz funkcję `input_player_letter`, bez argumentów, a która wczytywać będzie (funkcją `input`) od gracza, którą literką chciałby grać, X czy O. Niech zwraca tuplę 2-elementową, której pierwszym elementem jest literka gracza, a drugim literka komputera. Gdyby gracz wpisał coś innego niż `'X'` czy `'O'`, niech pojawi się odpowiedni komunikat, np. `'This is not a valid letter!'`."
   ]
  },
  {
   "cell_type": "markdown",
   "metadata": {},
   "source": [
    "Wskazówka do (c): Ciało funkcji niech będzie złożone z pętli `while True`. Zdefiniuj tam zmienną `player_letter` poprzez funkcję `input` z odpowiednim komunikatem, np. `'Choose X or O:'`.\n",
    "\n",
    "Jeśli wybrana litera będzie jedną z `'X'` czy `'O'`, to zdefiniuj `computer_letter` jako literę \"przeciwną\" i przerwij pętlę. W przeciwnym wypadku, wydrukuj komunikat o niewłaściwej literze.\n",
    "\n",
    "Na koniec zwróć tuplę liter."
   ]
  },
  {
   "cell_type": "code",
   "execution_count": null,
   "metadata": {},
   "outputs": [],
   "source": [
    "# dłuższe ćwiczenie 17c - rozwiązanie\n",
    "\n"
   ]
  },
  {
   "cell_type": "markdown",
   "metadata": {},
   "source": [
    "Część (d): Napisz funkcję `who_starts`, bez argumentów, która zwraca losowo wybrany string spośród `'Player'`, `'Computer'`. Niech też jako efekt uboczny drukuje odpowiednią informację, np. `'Player goes first!'`."
   ]
  },
  {
   "cell_type": "markdown",
   "metadata": {},
   "source": [
    "Wskazówka do (d): Użyj funkcji `choice` z modułu `random`."
   ]
  },
  {
   "cell_type": "code",
   "execution_count": null,
   "metadata": {},
   "outputs": [],
   "source": [
    "# dłuższe ćwiczenie 17d - rozwiązanie\n",
    "\n"
   ]
  },
  {
   "cell_type": "markdown",
   "metadata": {},
   "source": [
    "Część (e): Funkcje pomocniczne. Napisz dwie następujące przydatne funkcje:\n",
    "\n",
    "(e-1) Funkcja `move_to_indices` przyjmuje jeden argument `move`, którym będzie string 2-znakowy o postaci np. `'1a'` czy `'2c'` itp., wskazujący na żądane pole na planszy - w powyżej zdefiniowanych współrzędnych. Niech zwraca ona tuplę 2-elementową indeksów 0, 1, 2 odpowiadających temu polu. Czyli np. `'1a'` odpowiada indeksom 0, 0, zaś `'2c'` indeksom 2, 1.\n",
    "\n",
    "(e-2) Funkcja `indices_to_move` jest odwrotna do poprzedniej: przyjmuje dwa argumenty `row` i `col`, będące liczbami 0, 1, 2, a zwraca string 2-znakowy o powyższej postaci. Czyli dla argumentów 2, 1 powinna dawać `'2c'` itd."
   ]
  },
  {
   "cell_type": "markdown",
   "metadata": {},
   "source": [
    "Wskazówka do (e-1): String `move` zamień najpierw na tuplę `num, let` stosując konwersję typów funkcją `tuple`. Chcesz zwrócić tuplę indeksów `row, col`. Teraz `col` jest powiązany z `num` w prosty sposób - konwersja na `int` i odjęcie jedynki. Natomiast aby dostać `row` z literki `let` użyj metody `index` na stringu `'abc'`."
   ]
  },
  {
   "cell_type": "markdown",
   "metadata": {},
   "source": [
    "Wskazówka do (e-2): Argument `row` zamień na literkę przy użyciu składni nawiasów kwadratowych na stringu `'abc'`. Argument `col` zamień na numerek przez zwiększenie go o jeden i konwersję na string."
   ]
  },
  {
   "cell_type": "code",
   "execution_count": null,
   "metadata": {},
   "outputs": [],
   "source": [
    "# dłuższe ćwiczenie 17e-1 - rozwiązanie\n",
    "\n"
   ]
  },
  {
   "cell_type": "code",
   "execution_count": null,
   "metadata": {},
   "outputs": [],
   "source": [
    "# dłuższe ćwiczenie 17e-2 - rozwiązanie\n",
    "\n"
   ]
  },
  {
   "cell_type": "markdown",
   "metadata": {},
   "source": [
    "Część (f): Lista dostępnych ruchów. Napisz funkcję `available_moves`, która przyjmie jeden argument `board` (będący naszym obiektem planszy - listą list), a zwróci listę wolnych (tj. niezajętych ani przez X, ani przez O) pól, w formacie 2-znakowych stringów j.w. Np. dla planszy `board = [['X', ' ', ' '], ['X', ' ', 'O'], [' ', 'O', 'X']]` powinna zwrócić listę `['2a', '3a', '2b', '1c']`."
   ]
  },
  {
   "cell_type": "markdown",
   "metadata": {},
   "source": [
    "Wskazówka do (f): Napisz podwójnie zagnieżdżoną \"list comprehension\". W pierwszej iteracji idź (iteratorem `row, line`) po `enumerate(board)`, a w drugiej (iteratorem `col, letter`) po `enumerate(line)`, filtrując tylko te pola `letter`, które są równe `' '` (czyli niezajęte). W ten sposób `row` i `col` będą indeksami tychże niezajętych pól. Ale skoro chcemy otrzymać nie indeksy, a 2-znakowe oznaczenia pól, to przekonwertuj `row` i `col` funkcją `indices_to_move` z punktu (e-2)."
   ]
  },
  {
   "cell_type": "code",
   "execution_count": null,
   "metadata": {},
   "outputs": [],
   "source": [
    "# dłuższe ćwiczenie 17f - rozwiązanie\n",
    "\n"
   ]
  },
  {
   "cell_type": "markdown",
   "metadata": {},
   "source": [
    "Część (g): Wpisz ruch gracza. Napisz funkcję `input_player_move`, która przyjmie jeden argument `board` (obiekt planszy). W jej ciele utwórz zmienną `player_move` poprzez wprowadzenie jej wartości (w formacie 2-znakowych współrzędnych) przez gracza (funkcją `input`, z odpowiednim pytaniem, np. `'Where do you want to move:'`). Sprawdź, czy ruch ten jest pośród ruchów dostępnych, a jeśli nie, to wydrukuj odpowiedni komunikat, np. `'Choose another move!'` i kontunuuj proszenie użytkownika o wybór. Na koniec, zwróć `player_move`."
   ]
  },
  {
   "cell_type": "markdown",
   "metadata": {},
   "source": [
    "Wskazówka do (g): Utwórz najpierw listę dostępnych ruchów używając funkcji `available_moves` z punktu (f). Następnie pytanie funkcją `input` zawrzyj w pętli `while True`. Jeśli wprowadzony ruch będzie na liście dostępnych ruchów, to pętlę przerwij."
   ]
  },
  {
   "cell_type": "code",
   "execution_count": null,
   "metadata": {},
   "outputs": [],
   "source": [
    "# dłuższe ćwiczenie 17g - rozwiązanie\n",
    "\n"
   ]
  },
  {
   "cell_type": "markdown",
   "metadata": {},
   "source": [
    "Część (h): Wykonaj ruch. Napisz funkcję `make_move`, przyjmującą trzy argumenty: `board` (aktualną planszę), `letter` (aktualną literę, `'X'` albo `'O'`) oraz `move` (aktualny ruch, w formacie 2-znakowych współrzędnych, np. `'2a'`). Niech funkcja ta nic nie zwraca, ma natomiast efekt uboczny modyfikacji swojego argumentu `board` literą `letter` na pozycji `move`."
   ]
  },
  {
   "cell_type": "markdown",
   "metadata": {},
   "source": [
    "Wskazówka do (h): Przekonwertuj najpierw współrzędne `move` na indeksy `row, col` funkcją `move_to_indices` z punktu (e-1). Następnie zmień element listy list `board` o indeksach `row` i `col` na `letter`."
   ]
  },
  {
   "cell_type": "code",
   "execution_count": null,
   "metadata": {},
   "outputs": [],
   "source": [
    "# dłuższe ćwiczenie 17h - rozwiązanie\n",
    "\n"
   ]
  },
  {
   "cell_type": "markdown",
   "metadata": {},
   "source": [
    "Część (i): Sprawdź zwycięstwo. Zwycięstwo litery `letter` zachodzi wtedy, kiedy jeden z następujących warunków jest prawdziwy: w którymś z rzędów wszystkie trzy pola zajmuje litera `letter`; w którejś kolumnie tak jest; na którejś z dwóch przekątnych tak jest. W tej części zaimplementujemy funkcję sprawdzjącą zwycięstwo litery `letter` na danej planszy `board`. W tym celu napiszmy następujące funkcje pomocnicze:\n",
    "\n",
    "(i-1) Napisz funkcję `all_equal`, przyjmującą dwa argumenty: listę `lst` i literę `letter`, a zwracającą wartość logiczną odpowiadającą na pytanie, czy wszystkie elementy listy `lst` są równe `letter`.\n",
    "\n",
    "(i-2) Napisz funkcję `transpose_board`, przyjmującą jeden argument `board` i zwracającą jego tzw. [\"transpozycję\"](https://en.wikipedia.org/wiki/Transpose), czyli odbicie lustrzane w głównej przekątnej, a więc zmieniające wiersze na kolumny i na odwrót. A więc dla `board = [['X', ' ', ' '], ['X', ' ', 'O'], ['O', ' ', 'X']]` dostalibyśmy `[['X', 'X', 'O'], [' ', ' ', ' '], [' ', 'O', 'X']]` (obejrzyj to sobie przy użyciu funkcji `display_board` z punktu (b)).\n",
    "\n",
    "(i-3) Napisz funkcję `diagonals`, z jednym argumentem `board`, a zwracającą 2-elementową listę przekątnych planszy `board`. Czyli dla `board = [['X', ' ', ' '], ['X', ' ', 'O'], ['O', ' ', 'X']]` byłaby to lista `[['X', ' ', 'X'], ['O', ' ', ' ']]`.\n",
    "\n",
    "(i-4) Napisz funkcję `is_winner`, z dwoma argumentami: `board` (aktualna plansza) i `letter` (aktualna litera, `'X'` albo `'O'`). Niech zwraca wartość logiczną odpowiadającą na pytanie, czy litera `letter` zwycięża na tej planszy."
   ]
  },
  {
   "cell_type": "markdown",
   "metadata": {},
   "source": [
    "Wskazówka do (i-1): Zmień listę `lst` na zbiór i sprawdź jego równość 1-elementowemu zbiorowi z literą `letter`."
   ]
  },
  {
   "cell_type": "markdown",
   "metadata": {},
   "source": [
    "Wskazówka do (i-2): Napisz \"list comprehension\" po `range(3)` (iterator `i`), gdzie każdym elementem jest inne \"list comprehension\", po pod-listach `board` (iterator `line`). Chcesz wybrać `line[i]`"
   ]
  },
  {
   "cell_type": "markdown",
   "metadata": {},
   "source": [
    "Wskazówka do (i-3): Pierwsza diagonala składa się z elementów `board[i][i]`, a druga z `board[2 - i][i]`, gdzie iterator `i` przechodzi przez `range(3)`."
   ]
  },
  {
   "cell_type": "markdown",
   "metadata": {},
   "source": [
    "Wskazówka do (i-4): Napisz \"list comprehension\", gdzie iterujesz się po złączonych (operatorem `+`) listach `board`, `transpose_board(board)` i `diagonals(board)`. W każdym kroku iteracji sprawdź, czy dana pod-lista składa się tylko z liter `letter` (funkcją `all_equal` z punktu (i-1)). Pomocna będzie funkcja wbudowana `any`."
   ]
  },
  {
   "cell_type": "code",
   "execution_count": null,
   "metadata": {},
   "outputs": [],
   "source": [
    "# dłuższe ćwiczenie 17i-1 - rozwiązanie\n",
    "\n"
   ]
  },
  {
   "cell_type": "code",
   "execution_count": null,
   "metadata": {},
   "outputs": [],
   "source": [
    "# dłuższe ćwiczenie 17i-2 - rozwiązanie\n",
    "\n"
   ]
  },
  {
   "cell_type": "code",
   "execution_count": null,
   "metadata": {},
   "outputs": [],
   "source": [
    "# dłuższe ćwiczenie 17i-3 - rozwiązanie\n",
    "\n"
   ]
  },
  {
   "cell_type": "code",
   "execution_count": null,
   "metadata": {},
   "outputs": [],
   "source": [
    "# dłuższe ćwiczenie 17i-4 - rozwiązanie\n",
    "\n"
   ]
  },
  {
   "cell_type": "markdown",
   "metadata": {},
   "source": [
    "Część (j): Sprawdź, czy plansza jest zapełniona. Napisz funkcję `is_board_full`, z jednym argumentem `board`, która zwróci wartość logiczną odpowiadającą na pytanie, czy plansza jest całkowicie zapełniona, tj. czy nie ma na niej ani jednego pustego pola `' '`."
   ]
  },
  {
   "cell_type": "markdown",
   "metadata": {},
   "source": [
    "Wskazówka do (j): Napisz \"list comprehension\", gdzie iterujesz się po pod-listach `line` planszy `board`. W każdym kroku iteracji obliczaj warunek logiczny, że `' '` jest w `line` (użyj operatora `in`). Na koniec tak otrzymaną listę obłóż funkcją `any`."
   ]
  },
  {
   "cell_type": "code",
   "execution_count": null,
   "metadata": {},
   "outputs": [],
   "source": [
    "# dłuższe ćwiczenie 17j - rozwiązanie\n",
    "\n"
   ]
  },
  {
   "cell_type": "markdown",
   "metadata": {},
   "source": [
    "Część (k): Zmień turę i literę. Napisz funkcję `change_turn_and_letter`, z dwoma argumentami: `turn` (string `'Player'` lub `'Computer'`) oraz letter (string `'X'` lub `'O'`). Niech funkcja ta zwraca ich \"wartości przeciwne\", tj. tuplę 2-elementową `new_turn , new_letter`."
   ]
  },
  {
   "cell_type": "markdown",
   "metadata": {},
   "source": [
    "Wskazówka do (k): Możesz zrobić to 1-linijkowymi wyrażeniami `if-else`."
   ]
  },
  {
   "cell_type": "code",
   "execution_count": null,
   "metadata": {},
   "outputs": [],
   "source": [
    "# dłuższe ćwiczenie 17k - rozwiązanie\n",
    "\n"
   ]
  },
  {
   "cell_type": "markdown",
   "metadata": {},
   "source": [
    "Część (l): Wygeneruj ruch komputera. To będzie nasza najdłuższa funkcja - odpowiadającą za \"sztuczną inteligencję\" komputera w naszej grze. Napisz funkcję `generate_computer_move`, z dwoma argumentami: `board` (aktualna plansza) i `computer_letter` (litera, jaką gra komputer). Niech zwraca ona ruch komputera, jako 2-znakowe współrzędne.\n",
    "\n",
    "W ciele funkcji najpierw utwórz zmienną `player_letter` jako literę \"przeciwną\" do `computer_letter`, a także listę dostępnych ruchów na planszy `board`.\n",
    "\n",
    "Algorytm, jaki tu zapiszemy, składa się z następujących pięciu kroków:\n",
    "\n",
    "Krok 1: Sprawdź, czy komputer może wygrać tym ruchem. Przeanalizuj wszystkie możliwe warianty najbliższego ruchu komputera (spośród dostępnych ruchów) i jeśli któryś doprowadza do zwycięstwa, to zwróć go.\n",
    "\n",
    "Krok 2: Sprawdź, czy gdyby to gracz dokonywał następnego ruchu, to mógłby nim wygrać. Jeśli tak, zablokuj ten ruch poprzez wykonanie go samemu - zwróć ten ruch.\n",
    "\n",
    "Krok 3: Zwróć jako ruch jeden (losowo wybrany) z dostępnych rogów planszy (pola `'1a'`, `'3a'`, `'1c'`, `'3c'`).\n",
    "\n",
    "Krok 4: Zwróć jako ruch środek planszy (pole `'2b'`).\n",
    "\n",
    "Krok 5: Zwróć jako ruch jeden (losowo wybrany) z dostępnych boków planszy (pola `'1b'`, `'2a'`, `'2c'`, `'3b'`).\n",
    "\n",
    "Przypomnij sobie, że napotkany `return` kończy wykonywanie ciała funkcji, a zatem warunki te sprawdzane są w wypisanej kolejności i jeśli tylko któryś zajdzie, to zwracana jest odpowiednia wartość, a wykonywanie ciała funkcji natychmiast się przerywa."
   ]
  },
  {
   "cell_type": "markdown",
   "metadata": {},
   "source": [
    "Wskazówka do (l): Krok 1 i 2 piszemy analogicznie:\n",
    "\n",
    "- Przeiteruj się (iteratorem `move`) przez listę dostępnych ruchów (otrzymaną z funkcji `available_moves` z punktu (f)).\n",
    "\n",
    "- W każdym kroku utwórz zmienną `virtual_board` będącą \"kopią głęboką\" planszy `board`.\n",
    "\n",
    "- Na tej wirtualnej planszy dokonaj ruchu `move` funkcją `make_move` z punktu (h). Ruch jest literą komputera (w Kroku 1) albo gracza (w Kroku 2).\n",
    "\n",
    "- Napisz instrukcję warunkową sprawdzającą, czy dana litera jest zwycięzcą po tym ruchu - użyj funkcji `is_winner` z punktu (i-4). Jeśli tak, zwróć ruch `move`.\n",
    "\n",
    "Aby napisać Krok 3 i 5, stwórz najpierw listę dostępnych rogów albo boków, np. poprzez odpowiednie \"list comprehension\". Jeśli jest niepusta, zwróć losowy jej element (funkcją `choice` z modułu `random`).\n",
    "\n",
    "W Kroku 4 sprawdź, czy środek planszy jest dostępny, a jeśli tak, to go zwróć."
   ]
  },
  {
   "cell_type": "code",
   "execution_count": null,
   "metadata": {},
   "outputs": [],
   "source": [
    "# dłuższe ćwiczenie 17l - rozwiązanie\n",
    "\n"
   ]
  },
  {
   "cell_type": "markdown",
   "metadata": {},
   "source": [
    "Część (m): Właściwa gra. Napisz program \"kółko i krzyżyk\":\n",
    "\n",
    "- Zdefiniuj zmienną `bo` jako pustą planszę - użyj funkcji `generate_empty_board` z punktu (a).\n",
    "\n",
    "- Wydrukuj planszę `bo` - użyj funkcji `display_board` z punktu (b).\n",
    "\n",
    "- Zdefiniuj litery gracza i komputera, `pl, cl` - poprzez funkcję `input_player_letter` z punktu (c).\n",
    "\n",
    "- Zdefinuj turę `tn` (`'Player'` albo `'Computer'`)  - funkcją `who_starts` z punktu (d). Niech zmienna `let` opisuje literę aktualnego gracza, czyli `pl` jeśli `tn` jest równe `'Player'` i `cl` jeśli `tn` jest równe `'Computer'`.\n",
    "\n",
    "Główna część programu poniżej zawarta będzie w pętli `while True`:\n",
    "\n",
    "- Jeśli `tn` jest równe `'Player'`, zdefinuj ruch `m` funkcją `input_player_move` z punktu (g). Jeśli `tn` jest równe `'Computer'`, to `m` niech będzie ruchem komputera, wygenerowanym funkcją `generate_computer_move` z punktu (l). W tym drugim przypadku wydrukuj też odpowiednią wiadomość, np. `'Computer moved to ...'`.\n",
    "\n",
    "- Wykonaj na planszy `bo` literą `let` ruch `m` - użyj funkcji `make_move` z punktu (h).\n",
    "\n",
    "- Wydrukuj aktualną planszę `bo` - funkcją `display_board` z punktu (b).\n",
    "\n",
    "- Sprawdź warunki: Jeśli litera `let` wygrywa - użyj funkcji `is_winner` z punktu (i-4) - to wypisz odpowiedni komentarz (np. `'Player, playing X, is the winner!!!'`) i przerwij pętlę. Jeśli nie, to sprawdź warunek, czy plansza jest całkowicie zapełniona - funkcją `is_board_full` z punktu (j) - i jeśli tak, to wydrukuj odpowiedni komentarz (np. `'The board is full - the game is a tie!'`) i przerwij pętlę. Wreszcie jeśli żaden z tych wariantów nie jest spełniony, zmień turę i literę - funkcją `change_turn_and_letter` z punktu (k)."
   ]
  },
  {
   "cell_type": "code",
   "execution_count": null,
   "metadata": {},
   "outputs": [],
   "source": [
    "# dłuższe ćwiczenie 17m - rozwiązanie\n",
    "\n"
   ]
  },
  {
   "cell_type": "markdown",
   "metadata": {},
   "source": [
    "### 4.3. Zamiast zakończenia"
   ]
  },
  {
   "cell_type": "markdown",
   "metadata": {},
   "source": [
    "<img style = 'float: left; margin-right: 10px; margin-bottom: 10px' src = 'Images/congratulations.png'> Gratulacje!!!\n",
    "\n",
    "Dotarliśmy do końca kursu! Rozwiązaliśmy masę zadań! Ten kurs, choć \"podstawowy\", wcale taki podstawowy nie był - nauczyliśmy się nie tylko fundamentów składni, ale dotarliśmy do naprawdę zaawansowanych tematów - kochasz i nienawidzisz jednocześnie składnię \"list comprehension\", nie straszne ci indeksy kolekcji, wiesz co to rekursja, umiesz napisać algorytm sortujący i grę, z łatwością żonglujesz stringami. Poćwiczyliśmy na tuzinach zadań używane na co dzień przez każdego programistę Pythona rozwiązania, jak \"list comprehension\", słowniki, metody stringów, funkcje lambda. Dowiedzieliśmy się co nieco, jak pisać kod, który określony może być jako \"elegancki\" - \"Pythonic\". Zaznajomiliśmy się z myśleniem algorytmicznym. No i dowiedzieliśmy się, jakie supersamochody produkuje LEGO, kto był pradziadkiem Bilbo Bagginsa, jaki jest najtrudniejszy prosty problem w matematyce i że Einstein urodził się w piątek 🙂.\n",
    "\n",
    "Co dalej?\n",
    "\n",
    "Pamiętajmy o dwóch sentencjach łacińskich, które przyświecały temu kursowi: \"quidquid discis, tibi discis\", czyli \"czegokolwiek się uczysz, uczysz się dla siebie\", a także \"repetitio est mater studiorum\", czyli \"powtarzanie jest matką wiedzy\". Nauczyliśmy się tu naprawdę dużo. Aby tego nie zapomnieć, należy te rzeczy ćwiczyć - czy to na zadaniach, czy na praktycznych projektach. Droga do zostania programistą Pythona stoi otworem - z takim fundamentem masz bardzo mocny start."
   ]
  },
  {
   "cell_type": "markdown",
   "metadata": {},
   "source": [
    "#### Zadania"
   ]
  },
  {
   "cell_type": "markdown",
   "metadata": {},
   "source": [
    "<img style = 'float: right; margin-left: 10px; margin-bottom: 10px' src = 'Images/feynman.webp' width = '400px'>Jeśli nie masz jeszcze dość **zadań** 🙂, ćwicz je na wielu dostępnych stronach, np.:\n",
    "\n",
    "- [Project Euler](https://projecteuler.net/),\n",
    "\n",
    "- [LeetCode](https://leetcode.com/),\n",
    "\n",
    "- [Programming Praxis](https://programmingpraxis.com/),\n",
    "\n",
    "- [Code Wars](https://www.codewars.com/),\n",
    "\n",
    "- wielu innych stronach i repozytoriach, jak [tutaj](http://pythonpracticeprojects.com/), [tutaj](http://puzzles.bostonpython.com/), [tutaj](https://github.com/blakeembrey/code-problems), czy [tutaj](https://github.com/donnemartin/interactive-coding-challenges).\n",
    "\n",
    "Wyjątkowym zbiorem wyzwań programistycznych jest [\"Build your own X\"](https://github.com/danistefanovic/build-your-own-x), gdzie możesz - kodując w różnych językach - samodzielnie napisać program do rozszerzonej rzeczywistości, blockchain, bazę danych, grę, czy system operacyjny! A nawet napisać swój własny język programowania! W ten sposób możesz zapoznać się z najważniejszymi zasadami tych technologii poprzez samodzielne ich kodowanie, zgodnie z dewizą Richarda Feynmana, zostawioną na jego ostatniej tablicy kredowej, \"What I cannot create, I do not understand\".\n",
    "\n",
    "Prawdziwą kopalnią trudniejszych problemów jest [repozytorium](https://github.com/norvig/pytudes) Petera Norviga, dyrektora badań w Google. Wiele z jego problemów pochodzi od [The Riddler](https://fivethirtyeight.com/tag/the-riddler/).\n",
    "\n",
    "Lista ta mogłaby się długo ciągnąć. Część ćwiczeń może wydawać się czasem niepraktyczna (\"znowu reszta z dzielenia, kiedy ja chcę robić strony internetowe!?\"), ale nie daj się zwieść - rozwiązywanie takich zadań nie tylko kształtuje umysł, ogólne myślenie logiczne i zdolność rozwiązywania problemów, tak u dzieci, jak i dorosłych, ale także przygotowuje do bardzo prawdziwych wyzwań stojących przed programistą. To też filozofia za japońską koncepcją \"kata\", gdzie przez wielokrotne powtarzanie czynności nabywa się w niej mistrzostwo (zob. np. [tutaj](http://codekata.com/)). Wreszcie, proces rekrutacyjny w wielu firmach technologicznych polega na rozwiązywaniu dokładnie takich ćwiczeń; świetnym przykładem jest tajny proces rekrutacyjny Google, tzw. [\"Google foo.bar Challenge\"](https://www.freecodecamp.org/news/the-foobar-challenge-googles-hidden-test-for-developers-ed8027c1184/)."
   ]
  },
  {
   "cell_type": "markdown",
   "metadata": {},
   "source": [
    "#### Tutoriale"
   ]
  },
  {
   "cell_type": "markdown",
   "metadata": {},
   "source": [
    "Jest mnóstwo wszelkich **tutoriali** Pythona - gość na nich często w poszukiwaniu inspiracji i eleganckich rozwiązań! Wymieńmy choćby:\n",
    "\n",
    "- [Real Python](https://realpython.com/),\n",
    "\n",
    "- [W3 Schools](https://www.w3schools.com/python/),\n",
    "\n",
    "- [ten kurs](https://www.python-course.eu/),\n",
    "\n",
    "- [Geeks for Geeks](https://www.geeksforgeeks.org/) itd.\n",
    "\n",
    "Absolutnie kluczowym portalem jest [Stack Overflow](https://stackoverflow.com/) (\"stack\" to stos - pamiętasz go z Lekcji 5? a problem \"stack overflow\" może być sposodowany np. przez bardzo głęboką rekursję), forum pytań i odpowiedzi na wszelkie tematy związane z programowaniem. Wiele czasu każdego programisty jest poświęcone na szukaniu tam odpowiedzi!\n",
    "\n",
    "Rozważ subskrypcję [Medium](https://medium.com/), gdzie znajdziesz niekończący się strumień czasem lepszych, czasem gorszych, a czasem wyśmienitych artykułów na różne tematy, m.in. te związane z Pythonem."
   ]
  },
  {
   "cell_type": "markdown",
   "metadata": {},
   "source": [
    "#### Specjalizacja"
   ]
  },
  {
   "cell_type": "markdown",
   "metadata": {},
   "source": [
    "Zastanów się, jaka część programowania interesuje cię najbardziej i spróbuj zacząć szkolić się w tym **wybranym kierunku**. Na tym kursie poznaliśmy zręby tzw. biblioteki standardowej Pythona, ale prócz niej istnieją niezliczone biblioteki i rozwiązania specjalistyczne, przeznaczone do konkretnych celów.\n",
    "\n",
    "- Interesuje cię praca z danymi? Fundamentalna będzie `pandas`.\n",
    "\n",
    "- Chcesz zacząć przygodę z uczeniem maszynowym i sztuczną inteligencją? Prócz `pandas` konieczne będą `numpy`, `scikit-learn` i `TensorFlow`. Przeczytaj też [najlepsze wprowadzenie](https://www.amazon.com/Hands-Machine-Learning-Scikit-Learn-TensorFlow/dp/1491962291) do tematu.\n",
    "\n",
    "- Chcesz w końcu pisać te strony internetowe!? Poświęć się uczeniu `Django` i `Flask`.\n",
    "\n",
    "- Chcesz tworzyć wizualizacje i dashboardy? Zapoznaj się z `matplotlib`, `seaborn`, `Bokeh` i `Dash`.\n",
    "\n",
    "Interesuje cię tworzenie GUIs (Graphical User Interfaces), programownie Raspberry Pi, analiza danych geo-przestrzennych, bioinformatyka, kryptografia, etyczne hakerstwo, pisanie gier, obliczenia naukowe, automatyzacja codziennych zadań na komputerze... wszystko to - i dużo więcej - możesz zrobić w Pythonie. I to... _elegancko_ 😉."
   ]
  },
  {
   "cell_type": "code",
   "execution_count": null,
   "metadata": {},
   "outputs": [],
   "source": []
  }
 ],
 "metadata": {
  "kernelspec": {
   "display_name": "Python 3",
   "language": "python",
   "name": "python3"
  },
  "language_info": {
   "codemirror_mode": {
    "name": "ipython",
    "version": 3
   },
   "file_extension": ".py",
   "mimetype": "text/x-python",
   "name": "python",
   "nbconvert_exporter": "python",
   "pygments_lexer": "ipython3",
   "version": "3.7.9"
  }
 },
 "nbformat": 4,
 "nbformat_minor": 4
}
