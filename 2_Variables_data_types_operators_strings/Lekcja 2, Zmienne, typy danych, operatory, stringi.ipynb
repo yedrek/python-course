{
 "cells": [
  {
   "cell_type": "markdown",
   "metadata": {},
   "source": [
    "# Lekcja 2: Zmienne, typy danych, podstawowe operatory, wprowadzenie do stringów"
   ]
  },
  {
   "cell_type": "markdown",
   "metadata": {},
   "source": [
    "## Spis treści"
   ]
  },
  {
   "cell_type": "markdown",
   "metadata": {},
   "source": [
    "<a href=\"#1\">1. Zmienne i typy danych</a>\n",
    "\n",
    "\n",
    "- <a href=\"#1.1\">1.1. Co to jest zmienna?</a>\n",
    "  - <a href=\"#1.1_b1\">Uwaga techniczna: Wyświetlanie wartości na ekranie</a>\n",
    "\n",
    "\n",
    "- <a href=\"#1.2\">1.2. `int`, `float`, `str` - pierwsze spotkanie z typami danych</a>\n",
    "  - <a href=\"#1.2_b1\">Typy danych</a>\n",
    "  - <a href=\"#1.2_b2\">Funkcja `type`<a>\n",
    "\n",
    "\n",
    "- <a href=\"#1.3\">1.3. Nieco więcej o stringach - `str`</a>\n",
    "  - <a href=\"#1.3_b1\">Definiowanie stringów</a>\n",
    "  - <a href=\"#1.3_b2\">Pojedynczy cudzysłów</a>\n",
    "  - <a href=\"#1.3_b3\">Podwójny cudzysłów; znaki niedozwolone</a>\n",
    "  - <a href=\"#1.3_b4\">Potrójny cudzysłów</a>\n",
    "\n",
    "\n",
    "- <a href=\"#1.4\">1.4. Typ logiczny (Boolean) - `bool`</a>\n",
    "  - <a href=\"1.4_b1\">Co to jest typ `bool`?</a>\n",
    "  - <a href=\"1.4_b2\">Operatory porównania</a>\n",
    "  - <a href=\"1.4_b3\">Obiekty typu `bool` i przypisywanie ich do zmiennych</a>\n",
    "\n",
    "\n",
    "- <a href=\"#1.5\">1.5. Modyfikowanie wartości przechowywanej w zmiennej</a>\n",
    "  - <a href=\"#1.5_b1\">Zmienna jako etykieta</a>\n",
    "  - <a href=\"#1.5_b2\">Dynamiczne typowanie</a>\n",
    "  - <a href=\"#1.5_b3\">x = x + 1 ???</a>\n",
    "  - <a href=\"#1.5_b4\">Inne operatory przypisania</a>\n",
    "\n",
    "\n",
    "- <a href=\"#1.6\">1.6. Uwagi praktyczne: Jak nazywać zmienne?</a>\n",
    "\n",
    "\n",
    "<a href=\"#2\">2. Podstawowe działania na zmiennych (operatory i metody)</a>\n",
    "\n",
    "\n",
    "- <a href=\"#2.1\">2.1. Operatory arytmetyczne</a>\n",
    "  - <a href=\"#2.1_b1\">Dzielenie</a>\n",
    "\n",
    "\n",
    "- <a href=\"#2.2\">2.2. Operatory logiczne</a>\n",
    "\n",
    "\n",
    "- <a href=\"#2.3\">2.3. Podstawowe operacje na stringach: tworzenie i drukowanie stringów</a>\n",
    "  - <a href=\"#2.3_b1\">Łączenie stringów</a>\n",
    "  - <a href=\"#2.3_b2\">Praktyczne tworzenie stringów za pomocą operatora `+`</a>\n",
    "  - <a href=\"#2.3_b3\">Metoda `format`</a>\n",
    "  - <a href=\"#2.3_b4\">Interpolacja stringów</a>\n",
    "\n",
    "\n",
    "- <a href=\"#2.4\">(*) 2.4. Podstawowe operacje na stringach: przydatne metody manipulacji stringów</a>\n",
    "  - <a href=\"#2.4_b1\">Zamień małe i wielkie litery</a>\n",
    "  - <a href=\"#2.4_b2\">Rozbij string na listę składowych</a>\n",
    "  - <a href=\"#2.4_b3\">Usuń znaki</a>\n",
    "  - <a href=\"#2.4_b4\">Znajdź lub zamień</a>\n",
    "  - <a href=\"#2.4_b5\">Sprawdź cechę stringu</a>\n",
    "\n",
    "\n",
    "<a href=\"#3\">3. Zadania domowe"
   ]
  },
  {
   "cell_type": "markdown",
   "metadata": {},
   "source": [
    "## <a id=\"1\"></a>1. Zmienne i typy danych"
   ]
  },
  {
   "cell_type": "markdown",
   "metadata": {},
   "source": [
    "### <a id=\"1.1\"></a>1.1. Co to jest zmienna?"
   ]
  },
  {
   "cell_type": "markdown",
   "metadata": {},
   "source": [
    "**Zmienna** (\"variable\") pozwala na przechowywanie różnych wartości w pamięci programu. Wartości przechowywane w zmiennych mogą zostać wykorzystane przez nasz program do wykonania różnych czynności, obliczeń itp. Możecie zaobrazować sobie zmienną jako _etykietę_, która \"przyklejona\" jest do jakiejś wartości; dzięki tej etykiecie możemy do tej wartości odwoływać się używając nazwy umieszczonej na etykiecie. Jest to również analogiczne do zmiennych w matematyce, gdzie pisząc $x = 5$ rozumiemy, iż wartość $5$ jest teraz przechowywana w zmiennej o nazwie $x$.\n",
    "\n",
    "Podobnie zresztą jak w matematyce, przypisanie wartości do zmiennej odbywa się poprzez użycie **operatora przypisania** (\"assignment operator\") `=`, poprzez składnię `variable_name = value`."
   ]
  },
  {
   "cell_type": "code",
   "execution_count": null,
   "metadata": {},
   "outputs": [],
   "source": [
    "x = 5 # przypisujemy wartość 5 do zmiennej o nazwie x\n",
    "\n",
    "print( x ) # drukujemy wartość, do której odnosi się zmienna x"
   ]
  },
  {
   "cell_type": "code",
   "execution_count": null,
   "metadata": {},
   "outputs": [],
   "source": [
    "my_number = 3.1415 # przypisujemy wartość 3.1415 do zmiennej o nazwie my_number\n",
    "\n",
    "print( my_number ) # drukujemy wartość, do której odnosi się zmienna my_number"
   ]
  },
  {
   "cell_type": "markdown",
   "metadata": {},
   "source": [
    "Przypiszmy teraz do zmiennej wartość innego rodzaju - nie liczbę, a tekst; musi on być zamknięty w cudzysłowach:"
   ]
  },
  {
   "cell_type": "code",
   "execution_count": null,
   "metadata": {
    "colab": {
     "base_uri": "https://localhost:8080/",
     "height": 34
    },
    "colab_type": "code",
    "id": "fuGcQ251V54P",
    "outputId": "4bcbd318-565e-4a32-cb6e-b2eb4c39bdcc"
   },
   "outputs": [],
   "source": [
    "employee_name = 'Josh' # przypisujemy wartość 'Josh' (tekst zamknięty w cudzysłowach) do zmiennej o nazwie employee_name\n",
    "company_name = 'SuperBank'\n",
    "\n",
    "print( f\"Hi, I'm {employee_name} and I work for {company_name}!\" ) # co się dzieje wewnątrz funkcji print - wyjaśnimy później! na razie sprawdź tylko, jak to działa"
   ]
  },
  {
   "cell_type": "markdown",
   "metadata": {},
   "source": [
    "<img style = 'float: left; margin-right: 10px; margin-bottom: 10px' src = 'Images/question.png'> Szybkie ćwiczenie 1: Ile zmiennych zawiera powyższy program?"
   ]
  },
  {
   "cell_type": "markdown",
   "metadata": {},
   "source": [
    "<img style = 'float: left; margin-right: 10px; margin-bottom: 10px' src = 'Images/question.png'> Szybkie ćwiczenie 2: Uzupełnij poniższe deklaracje zmiennych i wydrukuj ich wartości."
   ]
  },
  {
   "cell_type": "code",
   "execution_count": null,
   "metadata": {
    "colab": {},
    "colab_type": "code",
    "id": "ZxoEkhk4ukvD"
   },
   "outputs": [],
   "source": [
    "# szybkie ćwiczenie 2 - rozwiązanie\n",
    "\n",
    "# przypiszmy wybrane przez siebie wartości do zmiennych\n",
    "\n",
    "first_name = '____' # wpisz tu tekst, tj. między cudzysłowami\n",
    "\n",
    "last_name = '____' # wpisz tu tekst, tj. między cudzysłowami\n",
    "\n",
    "favorite_programming_language = 'Python' # możesz tu oczywiście wpisać coś innego\n",
    "\n",
    "current_year = ____ # wpisz tu liczbę\n",
    "\n",
    "# wydrukujmy je wszystkie po kolei\n",
    "\n",
    "print( first_name )\n",
    "print( last_name )\n",
    "print( favorite_programming_language )\n",
    "print( current_year )"
   ]
  },
  {
   "cell_type": "markdown",
   "metadata": {},
   "source": [
    "#### <a id=\"1.1_b1\"></a>Uwaga techniczna: Wyświetlanie wartości na ekranie"
   ]
  },
  {
   "cell_type": "markdown",
   "metadata": {},
   "source": [
    "Często będziemy drukować (tj. wyświetlać na ekranie) różne wartości. W środowisku interaktywnym jakim jest Jupyter Lab, pojedynczą wartość możemy wydrukować po prostu poprzez wywołanie (`Shift+Enter`) komórki z nazwą zmiennej:"
   ]
  },
  {
   "cell_type": "code",
   "execution_count": null,
   "metadata": {},
   "outputs": [],
   "source": [
    "x"
   ]
  },
  {
   "cell_type": "markdown",
   "metadata": {},
   "source": [
    "Jeśli chcemy poprzez instrukcję w jednej komórce wydrukować więcej niż jedną wartość, nie możemy po prostu napisać większej liczby zmiennych - wyświetli się tylko ostatnia z nich:"
   ]
  },
  {
   "cell_type": "code",
   "execution_count": null,
   "metadata": {},
   "outputs": [],
   "source": [
    "x # x się nie wyświetli!\n",
    "\n",
    "my_number"
   ]
  },
  {
   "cell_type": "markdown",
   "metadata": {},
   "source": [
    "Wówczas trzeba użyć wbudowanej funkcji `print`:"
   ]
  },
  {
   "cell_type": "code",
   "execution_count": null,
   "metadata": {},
   "outputs": [],
   "source": [
    "print( x )\n",
    "\n",
    "print( my_number )"
   ]
  },
  {
   "cell_type": "markdown",
   "metadata": {},
   "source": [
    "Bardziej złożonym sposobem - który będziemy jeszcze ćwiczyć - jest tzw. **interpolacja stringów** (\"f-strings\"): przyjrzyj się na razie tylko, jak nazwy zmiennych umieszczamy w nawiasach klamrowych wewnątrz tekstu, a Python drukuje ich wartość w odpowiednim miejscu:"
   ]
  },
  {
   "cell_type": "code",
   "execution_count": null,
   "metadata": {},
   "outputs": [],
   "source": [
    "print( f'Hello, my name is {first_name} {last_name}. As of {current_year}, my favorite programming language is {favorite_programming_language}!' )"
   ]
  },
  {
   "cell_type": "markdown",
   "metadata": {},
   "source": [
    "(W dalszej części lekcji dokładnie omówimy, co tu się dzieje!)"
   ]
  },
  {
   "cell_type": "markdown",
   "metadata": {},
   "source": [
    "### <a id=\"1.2\"></a>1.2. `int`, `float`, `str` - pierwsze spotkanie z typami danych"
   ]
  },
  {
   "cell_type": "markdown",
   "metadata": {},
   "source": [
    "#### <a id=\"1.2_b1\"></a>Typy danych"
   ]
  },
  {
   "cell_type": "markdown",
   "metadata": {},
   "source": [
    "Powyższe przykłady ilustrują różne _rodzaje_ wartości, jakie do zmiennych można przypisywać - tzw. **typy danych** (\"data types\"), np.:\n",
    "\n",
    "- 5 jest wartością typu \"liczba całkowita\" (\"integer\") - ten typ nazywa się w Pythonie `int`; inne przykłady:\n",
    "\n",
    "```\n",
    "employee_age = 30\n",
    "orders_amount = 1000\n",
    "height = 180\n",
    "```\n",
    "\n",
    "\n",
    "- 3.1415 jest wartością typu \"liczba rzeczywista\", czy w nazewnictwie informatycznym, \"liczba zmiennoprzecinkowa\" (\"floating-point\") - typ `float`; inne przykłady:\n",
    "\n",
    "```\n",
    "negative_coefficient = -1.09\n",
    "eur_usd_rate = 1.1\n",
    "ratio = 0.35\n",
    "```\n",
    "\n",
    "\n",
    "- `'Josh'` (tekst zawarty między cudzysłowami) jest wartością typu \"tekst\", czy w nazewnictwie informatycznym, \"łańcuch znaków\" (\"string\") - typ `str`.\n",
    "\n",
    "Jest wiele innych typów danych; o niektórych dowiemy się niedługo (np. typ `bool` - wartość logiczna), o innych w czasie kolejnych lekcji (np. tzw. typy \"kolekcji\", a więc zbierające wiele wartości w jeden obiekt, np. listy - typ `list`, czy słowniki - typ `dict`). Co więcej, każdy może tworzyć/definiować własne typy danych - nazywają się one wtedy **klasami** (\"classes\")! (O tym nie będziemy niestety się uczyć podczas tego kursu.)\n",
    "\n",
    "Generalnie rzecz biorąc, typ danych będzie charakteryzował obiekt w dwojaki sposób:\n",
    "\n",
    "- Typ opisuje \"cechy\" obiektu; są to tzw. **atrybuty** (\"attributes\"). Np. typ `int` \"rozumie\", że liczba całkowita ma swoją wartość, np. 5; stworzony przez użytkownika typ (klasa) `car` mógłby natomiast \"rozumieć\", że samochód ma cechy/atrybuty takie jak \"kolor\", \"moc silnika\" itd.\n",
    "\n",
    "- Typ opisuje \"czynności\", jakie na obiekcie można wykonać; są to tzw. **metody** (\"methods\"). Np. typ `int` \"rozumie\", co to znaczy dodawać, odejmować itd. liczby całkowite; typ `car` mógłby \"rozumieć\", co to znaczy \"skręć w prawo\", \"przyspiesz\" itd."
   ]
  },
  {
   "cell_type": "markdown",
   "metadata": {},
   "source": [
    "#### <a id=\"1.2_b2\"></a>Funkcja `type`"
   ]
  },
  {
   "cell_type": "markdown",
   "metadata": {},
   "source": [
    "Typ obiektu możemy sprawdzić za pomocą wbudowanej funkcji `type`.\n",
    "\n",
    "Uwaga: To nasze pierwsze spotkanie z pojęciem **funkcji**. Funkcjom poświęcimy Lekcje 9-10, natomiast teraz powiedzmy tylko, iż funkcja opisuje pewną \"czynność\" dokonywaną na swoich **argumentach**, które podajemy jej w nawiasach okrągłych. Składnia jest zatem podobna do funkcji w matematyce, gdzie $f(x)$ oznacza funkcję o nazwie $f$, która wykonuje pewne \"czynności\" na argumencie $x$ i zwraca jakąś wartość. Np. $f(x) = 2 \\cdot x + 3$ dokonuje na argumencie $x$ \"czynności\" pomnożenia go przez 2 i dodania 3.\n",
    "\n",
    "Funkcja `type` przyjmuje jako argument dowolny obiekt Pythona i dokonuje na nim \"czynności\" odczytania jego typu danych."
   ]
  },
  {
   "cell_type": "code",
   "execution_count": null,
   "metadata": {},
   "outputs": [],
   "source": [
    "type( x )"
   ]
  },
  {
   "cell_type": "code",
   "execution_count": null,
   "metadata": {},
   "outputs": [],
   "source": [
    "type( my_number )"
   ]
  },
  {
   "cell_type": "code",
   "execution_count": null,
   "metadata": {},
   "outputs": [],
   "source": [
    "type( employee_name )"
   ]
  },
  {
   "cell_type": "markdown",
   "metadata": {},
   "source": [
    "Jako argument funkcji `type` podaliśmy w powyższych przykładach zmienną, ale równie dobrze możemy od razu przekazać konkretną wartość - oczywiście, zmienna to przecież tylko etykieta dla wartości:"
   ]
  },
  {
   "cell_type": "code",
   "execution_count": null,
   "metadata": {},
   "outputs": [],
   "source": [
    "type( 12345 )"
   ]
  },
  {
   "cell_type": "code",
   "execution_count": null,
   "metadata": {},
   "outputs": [],
   "source": [
    "type( 'This is a string!' )"
   ]
  },
  {
   "cell_type": "markdown",
   "metadata": {},
   "source": [
    "<img style = 'float: left; margin-right: 10px; margin-bottom: 10px' src = 'Images/question.png'> Szybkie ćwiczenie 3:\n",
    "\n",
    "(a) Zdefiniuj zmienną o nazwie `my_string` i przypisz do niej string `'Hello Python!'`.\n",
    "\n",
    "(b) Zdefiniuj zmienną o nazwie `my_integer` i przypisz do niej liczbę całkowitą 50.\n",
    "\n",
    "(c) Wydrukuj - za pomocą funkcji `print`, w jednej komórce - nazwy typów tych dwóch zmiennych."
   ]
  },
  {
   "cell_type": "code",
   "execution_count": null,
   "metadata": {},
   "outputs": [],
   "source": [
    "# szybkie ćwiczenie 3a - rozwiązanie\n",
    "\n"
   ]
  },
  {
   "cell_type": "code",
   "execution_count": null,
   "metadata": {},
   "outputs": [],
   "source": [
    "# szybkie ćwiczenie 3b - rozwiązanie\n",
    "\n"
   ]
  },
  {
   "cell_type": "code",
   "execution_count": null,
   "metadata": {},
   "outputs": [],
   "source": [
    "# szybkie ćwiczenie 3c - rozwiązanie\n",
    "\n"
   ]
  },
  {
   "cell_type": "markdown",
   "metadata": {},
   "source": [
    "Uwaga: Pamiętajmy, że ułamki dziesiętne (typ `float`) zawsze zapisujemy używając _kropki_ (jak np. w krajach anglosaskich), a nie przecinka (jak np. w Polsce), jako separator dziesiętny (\"decimal separator\").\n",
    "\n",
    "![](Images/decimal_separator.png)"
   ]
  },
  {
   "cell_type": "markdown",
   "metadata": {},
   "source": [
    "<img style = 'float: left; margin-right: 10px; margin-bottom: 10px' src = 'Images/question.png'> Szybkie ćwiczenie 4: Zdefiniuj zmienną o nazwie `my_number_not_really` i przypisz jej wartość 3,1415 - a więc z przecinkiem zamiast kropki przez pomyłkę. Jaki typ ma ta zmienna?"
   ]
  },
  {
   "cell_type": "code",
   "execution_count": null,
   "metadata": {},
   "outputs": [],
   "source": [
    "# szybkie ćwiczenie 4 - rozwiązanie\n",
    "\n"
   ]
  },
  {
   "cell_type": "markdown",
   "metadata": {},
   "source": [
    "Jest to nasze pierwsze - przypadkowe! - spotkanie z jednym z typów kolekcji, tzw. tuplą (`tuple`); ta powyższa tupla zbiera w jeden obiekt dwie liczby całkowite, 3 oraz 1415."
   ]
  },
  {
   "cell_type": "markdown",
   "metadata": {},
   "source": [
    "### <a id=\"1.3\"></a>1.3. Nieco więcej o stringach - `str`"
   ]
  },
  {
   "cell_type": "markdown",
   "metadata": {},
   "source": [
    "#### <a id=\"1.3_b1\"></a>Definiowanie stringów"
   ]
  },
  {
   "cell_type": "markdown",
   "metadata": {},
   "source": [
    "Pochylmy się troszkę dłużej nad typem `str`, opisującym tzw. **stringi**, czyli dane tekstowe/łańcuchy znaków.\n",
    "\n",
    "Stringi możemy definiować na kilka sposobów:\n",
    "\n",
    "- poprzez \"opakowanie\" ciągu znaków w **pojedynczy cudzysłów** (\"single quotes\"):\n",
    "\n",
    "```\n",
    "employee_first_name = 'John'\n",
    "```\n",
    "\n",
    "\n",
    "- za pomocą **podwójnego cudzysłowu** (\"double quotes\"):\n",
    "\n",
    "```\n",
    "employee_first_name = \"John\"\n",
    "```\n",
    "\n",
    "\n",
    "- za pomocą **potrójnego cudzysłowu** (pojedynczego `'` lub podwójnego `\"` powtórzonego trzy razy - \"triple quotes\"):\n",
    "\n",
    "```\n",
    "employee_first_name = '''John'''\n",
    "employee_last_name = \"\"\"Doe\"\"\"\n",
    "```\n",
    "\n",
    "Jaka jest różnica między tymi sposobami definicji?"
   ]
  },
  {
   "cell_type": "markdown",
   "metadata": {},
   "source": [
    "#### <a id=\"1.3_b2\"></a>Pojedynczy cudzysłów"
   ]
  },
  {
   "cell_type": "markdown",
   "metadata": {},
   "source": [
    "Możemy uznać, że definiowanie za pomocą pojedynczych cudzysłowów to najbardziej podstawowy sposób."
   ]
  },
  {
   "cell_type": "code",
   "execution_count": 2,
   "metadata": {},
   "outputs": [
    {
     "name": "stdout",
     "output_type": "stream",
     "text": [
      "W Szczebrzeszynie chrząszcz brzmi w trzcinie\n"
     ]
    }
   ],
   "source": [
    "poem_line = 'W Szczebrzeszynie chrząszcz brzmi w trzcinie' # przypisanie obiektu typu str to zmiennej o nazwie text\n",
    "\n",
    "print( poem_line )"
   ]
  },
  {
   "cell_type": "markdown",
   "metadata": {},
   "source": [
    "#### <a id=\"1.3_b3\"></a>Podwójny cudzysłów; znaki niedozwolone"
   ]
  },
  {
   "cell_type": "markdown",
   "metadata": {},
   "source": [
    "Co by się jednak stało, gdybyśmy chcieli użyć znaku `'` jako fragmentu tekstu?"
   ]
  },
  {
   "cell_type": "code",
   "execution_count": null,
   "metadata": {},
   "outputs": [],
   "source": [
    "poirot_title = 'Śmierć lorda Edgware'a'\n",
    "\n",
    "print( poirot_title )"
   ]
  },
  {
   "cell_type": "markdown",
   "metadata": {},
   "source": [
    "Dostaliśmy błąd! Nie jest trudno zrozumieć, że z naszym stringiem - zapisanym w zmiennej o nazwie `poirot_title` - jest coś nie tak! Otóż pierwsze wystąpienie znaku `'` jest interpretowane jako początek łańcucha znaków, a ponowne jego wystąpienie (tutaj: po słowie `Edgware`) będzie traktowane jako zakończenie łańcucha; Python zatem nie wie, co zrobić ze znakami `a'` znajdującymi się po (niechcianym!) zakończeniu łańcucha."
   ]
  },
  {
   "cell_type": "markdown",
   "metadata": {},
   "source": [
    "Pierwszym rozwiązaniem tego problemu jest użycie podwójnego cudzysłowu:"
   ]
  },
  {
   "cell_type": "code",
   "execution_count": null,
   "metadata": {},
   "outputs": [],
   "source": [
    "poirot_title = \"Śmierć lorda Edgware'a\"\n",
    "\n",
    "print( poirot_title )"
   ]
  },
  {
   "cell_type": "markdown",
   "metadata": {},
   "source": [
    "... i teraz pojedynczy cudzysłów wewnątrz tekstu nie sprawia kłopotu: Python rozumie, że string zaczynamy i kończymy znakiem `\"`, więc pojawiający się znak `'` nie kończy stringu."
   ]
  },
  {
   "cell_type": "markdown",
   "metadata": {},
   "source": [
    "Drugim rozwiązaniem jest użycie tzw. **znaku modyfikacji/ucieczki/uwalniania** (\"escape character\") - aby takie \"niedozwolone\" znaki jak `'` (tj. zarezerwowane na coś innego) użyć w tekście, dodajemy \"backslash\" `\\` bezpośrednio przed nimi. W definicji stringu poprzez pojedyncze cudzysłowy możemy napisać `\\'` zamiast po prostu `'` i da to pożądany efekt wydrukowania znaku `'`:"
   ]
  },
  {
   "cell_type": "code",
   "execution_count": null,
   "metadata": {},
   "outputs": [],
   "source": [
    "poirot_title = 'Śmierć lorda Edgware\\'a'\n",
    "\n",
    "print( poirot_title )"
   ]
  },
  {
   "cell_type": "markdown",
   "metadata": {},
   "source": [
    "Inne popularne \"escape characters\" (powodujące alternatywną interpretację znaków następujących po `\\`) to:\n",
    "\n",
    "- `\\\"` - znak podwójnego cytowania;\n",
    "\n",
    "- `\\\\` - \"backslash\";\n",
    "\n",
    "- `\\t` - tabulator;\n",
    "\n",
    "- `\\n` - znak nowej linii (\"newline\");\n",
    "\n",
    "- `\\r` - znak powrotu karetki (\"carriage return\"), tj. powrotu do początku linii."
   ]
  },
  {
   "cell_type": "markdown",
   "metadata": {},
   "source": [
    "<img style = 'float: left; margin-right: 10px; margin-bottom: 10px' src = 'Images/question.png'> Dłuższe ćwiczenie 5: Spróbuj przypisać do zmiennej (o nazwie powiedzmy `path_description`) i wydrukować (za pomocą funkcji `print`) następujący string:\n",
    "```\n",
    "Ścieżki to:\n",
    "\"C:\\my_docs\\images\\cat.gif\"\n",
    "oraz\n",
    "\"C:\\my_docs\\images\\dog.gif\"\n",
    "```\n",
    "używając niektórych z powyższych znaków modyfikacji; zdefiniuj ten string za pomocą pojedynczych znakach cudzysłowu."
   ]
  },
  {
   "cell_type": "code",
   "execution_count": null,
   "metadata": {},
   "outputs": [],
   "source": [
    "# dłuższe ćwiczenie 5 - rozwiązanie\n",
    "\n"
   ]
  },
  {
   "cell_type": "markdown",
   "metadata": {},
   "source": [
    "#### <a id=\"1.3_b4\"></a>Potrójny cudzysłów"
   ]
  },
  {
   "cell_type": "markdown",
   "metadata": {},
   "source": [
    "W powyższym ćwiczeniu napisaliśmy string złożony z kilku linijek tekstu - w tym celu musieliśmy użyć znaku modyfikacji `\\n`, oznaczającego przejście do nowej linii. Możemy uprościć pisanie wielolinijkowych stringów właśnie za pomocą potrójnych cudzysłowów:"
   ]
  },
  {
   "cell_type": "code",
   "execution_count": 1,
   "metadata": {},
   "outputs": [
    {
     "name": "stdout",
     "output_type": "stream",
     "text": [
      "W Szczebrzeszynie chrząszcz brzmi w trzcinie\n",
      "I Szczebrzeszyn z tego słynie.\n",
      "Wół go pyta: \"Panie chrząszczu,\n",
      "Po co pan tak brzęczy w gąszczu?\"\n",
      "\"Jak to – po co? To jest praca,\n",
      "Każda praca się opłaca.\"\n"
     ]
    }
   ],
   "source": [
    "poem = '''W Szczebrzeszynie chrząszcz brzmi w trzcinie\n",
    "I Szczebrzeszyn z tego słynie.\n",
    "Wół go pyta: \\\"Panie chrząszczu,\n",
    "Po co pan tak brzęczy w gąszczu?\\\"\n",
    "\\\"Jak to – po co? To jest praca,\n",
    "Każda praca się opłaca.\\\"'''\n",
    "\n",
    "print( poem )"
   ]
  },
  {
   "cell_type": "markdown",
   "metadata": {},
   "source": [
    "(Zauważmy wystąpienie znaku modyfikacji `\\\"` - tylko tak możemy mieć `\"` jako fragment tekstu!)\n",
    "\n",
    "Spróbuj zamienić `'''` na `'` lub `\"` - Python nie zrozumie przejścia do nowej linii!"
   ]
  },
  {
   "cell_type": "markdown",
   "metadata": {},
   "source": [
    "### <a id=\"1.4\"></a>1.4. Typ logiczny (Boolean) - `bool`"
   ]
  },
  {
   "cell_type": "markdown",
   "metadata": {},
   "source": [
    "#### <a id=\"1.4_b1\"></a>Co to jest typ `bool`?"
   ]
  },
  {
   "cell_type": "markdown",
   "metadata": {},
   "source": [
    "No więc wprowadźmy kolejny typ danych! Nazwą tego typu w Pythonie jest `bool`, od **\"Boolean\"**, słowo od nazwiska dziewiętnastowiecznego angielskiego matematyka i filozofa, George'a Boole'a. Obiekt typu `bool` może przyjmować tylko dwie wartości: prawda (oznaczona w Pythonie słowem kluczowym `True`; uwaga na wielką literę!) albo fałsz (`False`) - jest to zatem typ danych logicznych."
   ]
  },
  {
   "cell_type": "markdown",
   "metadata": {},
   "source": [
    "Jako prosty przykład, zadeklarujmy dwie zmienne i przypiszmy im wartości logiczne:"
   ]
  },
  {
   "cell_type": "code",
   "execution_count": null,
   "metadata": {
    "colab": {
     "base_uri": "https://localhost:8080/",
     "height": 51
    },
    "colab_type": "code",
    "id": "FhPCaLwpm-7o",
    "outputId": "9586b4db-f18b-4971-c1dc-3237d66e9b2b"
   },
   "outputs": [],
   "source": [
    "is_active = True # jako ćwiczenie, spróbuj napisać true z małej litery - co się stanie?\n",
    "threshold_met = False"
   ]
  },
  {
   "cell_type": "markdown",
   "metadata": {},
   "source": [
    "... sprawdzając typ tych zmiennych:"
   ]
  },
  {
   "cell_type": "code",
   "execution_count": null,
   "metadata": {},
   "outputs": [],
   "source": [
    "type( is_active )"
   ]
  },
  {
   "cell_type": "code",
   "execution_count": null,
   "metadata": {},
   "outputs": [],
   "source": [
    "type( threshold_met )"
   ]
  },
  {
   "cell_type": "markdown",
   "metadata": {},
   "source": [
    "#### <a id=\"1.4_b2\"></a>Operatory porównania"
   ]
  },
  {
   "cell_type": "markdown",
   "metadata": {},
   "source": [
    "Wartości typu logicznego pojawiają się często jako rezultat działania tzw. **operatorów porównania** (\"comparison operators\"):\n",
    "\n",
    "Operator | Działanie\n",
    "--- | ---\n",
    "<center>`==`</center> | <center>równe</center>\n",
    "<center>`!=`</center> | <center>różne</center>\n",
    "<center>`>`</center> | <center>większe niż</center>\n",
    "<center>`<`</center> | <center>mniejsze niż</center>\n",
    "<center>`>=`</center> | <center>większe lub równe niż</center>\n",
    "<center>`<=`</center> | <center>mniejsze lub równe niż</center>"
   ]
  },
  {
   "cell_type": "markdown",
   "metadata": {},
   "source": [
    "Uwaga: Bardzo ważne jest zapamiętanie, że operatorem równości jest w Pythonie `==` (podwójny znak równości); operator `=` już spotkaliśmy - jest to operator przypisania!"
   ]
  },
  {
   "cell_type": "markdown",
   "metadata": {},
   "source": [
    "Kiedy używamy operatorów porównania, odpowiadamy na pewne pytanie. Np. użycie operatora `<` w wyrażeniu `(2 < 5)` odpowiada na pytanie, \"czy 2 jest mniejsze od 5?\" Odpowiedzią na takie pytanie może być tylko tak albo nie, czy też - prawda (`True`) albo fałsz (`False`). Spróbujmy zadać to pytanie Pythonowi:"
   ]
  },
  {
   "cell_type": "code",
   "execution_count": null,
   "metadata": {},
   "outputs": [],
   "source": [
    "2 < 5"
   ]
  },
  {
   "cell_type": "code",
   "execution_count": null,
   "metadata": {},
   "outputs": [],
   "source": [
    "10 <= 5"
   ]
  },
  {
   "cell_type": "code",
   "execution_count": null,
   "metadata": {},
   "outputs": [],
   "source": [
    "1.1 != 1.11"
   ]
  },
  {
   "cell_type": "code",
   "execution_count": null,
   "metadata": {},
   "outputs": [],
   "source": [
    "1 == 1.0"
   ]
  },
  {
   "cell_type": "markdown",
   "metadata": {},
   "source": [
    "... i widzimy, że jako odpowiedzi otrzymujemy rzeczywiście wartości logiczne - albo `True`, albo `False`."
   ]
  },
  {
   "cell_type": "markdown",
   "metadata": {},
   "source": [
    "To że możemy porównać dwie liczby, np. `(2 < 5)`, jest dość naturalne. Co ciekawe i niezbyt oczywiste, możemy tych operatorów porównania nierzadko użyć do _obiektów innych typów_ niż typy liczbowe! Okazuje się np., iż działają one także z typem `str`:"
   ]
  },
  {
   "cell_type": "code",
   "execution_count": null,
   "metadata": {},
   "outputs": [],
   "source": [
    "'ham' == 'HAM'"
   ]
  },
  {
   "cell_type": "code",
   "execution_count": null,
   "metadata": {
    "colab": {},
    "colab_type": "code",
    "id": "RNoOADjTq4f_"
   },
   "outputs": [],
   "source": [
    "'ham' != 'spam'"
   ]
  },
  {
   "cell_type": "code",
   "execution_count": null,
   "metadata": {},
   "outputs": [],
   "source": [
    "'a' < 'b' # tzw. porządek leksykograficzny - jak w słowniku"
   ]
  },
  {
   "cell_type": "code",
   "execution_count": null,
   "metadata": {},
   "outputs": [],
   "source": [
    "'Adalbert' <= 'Albert'"
   ]
  },
  {
   "cell_type": "markdown",
   "metadata": {},
   "source": [
    "Co tu się dzieje?! Wróćmy pamięcią do komentarza w paragrafie <a href=\"#1.2_b1\">Typy danych</a>: typ danych opisuje obiekt w dwojaki sposób - jego atrybuty (czyli \"cechy\", jakie obiekt posiada) oraz jego metody (czyli \"czynności\", jakie na obiekcie można dokonywać). Okazuje się, że programista, który - u zarania dziejów Pythona! - pisał typ danych `str`, zdecydował, iż jednymi z metod typu danych `str` - jednymi z \"czynności\", jakie można na stringach dokonywać - będzie używanie operatorów porównania. Zdecydował też, iż będą one działać w sposób tu pokazany, a więc np. że operator mniejszości `<` będzie działał na zasadzie \"mniejszy znaczy wcześniejszy w słowniku\" (tzw. porządek leksykograficzny). Była to decyzja absolutnie arbitralna - można było zrobić to zupełnie inaczej! Co jest ważne, to zapamiętanie, że definicje, jak działają operatory porównania na stringach są _częścią definicji typu `str`_ - innymi słowy, że typ `str` \"rozumie\" te operatory; a nie, że te operatory \"wiedzą\" cokolwiek o typie `str`.\n",
    "\n",
    "Aby to jeszcze dokładniej zobrazować, wyobraźmy sobie, że napisaliśmy własny typ danych - klasę `car`, opisującą samochody. Czy operator `<` wie cokolwiek o typie `car`? Oczywiście, że nie - dopiero ją napisaliśmy! Moglibyśmy natomiast zdefiniować - jako metodę klasy `car` - działanie operatora `<` między dwoma obiektami klasy `car`. Moglibyśmy np. zdefiniować (to zależy tylko od nas!), że jeden samochód jest \"mniejszy\" od drugiego, jeżeli ma niższą moc silnika, mniejsze przyspieszenie i mniejszy bagażnik. Wówczas nasz typ `car` zacząłby \"rozumieć\", co oznacza operator `<` i spokojnie moglibyśmy pisać wyrażenia typu `(my_car_1 < my_car_2)`.\n",
    "\n",
    "Drugą lekcją jest tutaj fakt, iż ten sam operator, ale działający na obiektach różnego typu, daje różne wyniki - w zależności, jak ten operator jest zdefiniowany w kodzie danego typu. Operator `<` na liczbach oznacza mniejszość w sensie arytmetycznym; na stringach mniejszość w porządku leksykograficznym; a na naszej klasie `car` wspominane wyżej porównanie parametrów samochodu. Jest to przykład tzw. **polimorfizmu**."
   ]
  },
  {
   "cell_type": "markdown",
   "metadata": {},
   "source": [
    "#### <a id=\"1.4_b3\"></a>Obiekty typu `bool` i przypisywanie ich do zmiennych"
   ]
  },
  {
   "cell_type": "markdown",
   "metadata": {},
   "source": [
    "To, co teraz zobaczymy, jest niezwykle ważne! Może być też trochę nieintuicyjne - zatem jest bardzo ważne, aby dobrze to zrozumieć!\n",
    "\n",
    "Wyświetlaliśmy powyżej wartości wyrażeń typu `(2 < 5)` - są to wartości logiczne, albo `True`, albo `False`. Co jest niezwykle istotne, to iż całe wyrażenie `(2 < 5)` jest _obiektem_, osobnym \"bytem\" - właśnie obiektem typu `bool`. Tak jak liczba 5 jest obiektem typu `int` o wartości 5, tak `(2 < 5)` jest obiektem typu `bool` o wartości `True`.\n",
    "\n",
    "Skoro `(2 < 5)` jest obiektem, podobnie jak liczba 5 czy string `'Josh'`, to na tej samej zasadzie możemy przypisać go do zmiennej! Oczywiście - przecież każdy obiekt możemy przypisać do zmiennej."
   ]
  },
  {
   "cell_type": "code",
   "execution_count": null,
   "metadata": {},
   "outputs": [],
   "source": [
    "check = ( 2 < 5 ) # przypisujemy obiekt typu bool (2 < 5) do zmiennej o nazwie check"
   ]
  },
  {
   "cell_type": "markdown",
   "metadata": {},
   "source": [
    "... i jej wartość to prawda (`True`):"
   ]
  },
  {
   "cell_type": "code",
   "execution_count": null,
   "metadata": {},
   "outputs": [],
   "source": [
    "check"
   ]
  },
  {
   "cell_type": "markdown",
   "metadata": {},
   "source": [
    "... zaś typ to oczywiście `bool`:"
   ]
  },
  {
   "cell_type": "code",
   "execution_count": null,
   "metadata": {},
   "outputs": [],
   "source": [
    "type( check )"
   ]
  },
  {
   "cell_type": "markdown",
   "metadata": {},
   "source": [
    "Wyrażenie typu `check = (2 < 5)` na pewno wygląda podejrzanie! Ale nie ma tu nic dziwnego - `(2 < 5)` jest samo w sobie odrębnym \"bytem\", obiektem typu `bool`, o wartości `True`; możemy je zatem przypisać do zmiennej."
   ]
  },
  {
   "cell_type": "markdown",
   "metadata": {},
   "source": [
    "Co więcej, możemy też usunąć nawiasy!"
   ]
  },
  {
   "cell_type": "code",
   "execution_count": null,
   "metadata": {},
   "outputs": [],
   "source": [
    "check = 2 < 5\n",
    "\n",
    "check"
   ]
  },
  {
   "cell_type": "markdown",
   "metadata": {},
   "source": [
    "To już wygląda bardzo dziwnie! Nie ma tu problemu z następującego powodu: Operator przypisania `=` jest operatorem o tzw. najniższej precedencji. Oznacza to, iż kiedy mamy jakieś przypisanie do zmiennej, `check = ...`, to _najpierw_ wykonywane są wszystkie obliczenia po prawej stronie operatora `=`, a dopiero _na końcu_ ich wynik przypisywany jest do zmiennej. A więc w naszym przykładzie, Python najpierw obliczy wartość wyrażenia `2 < 5`, która jest `True`, a następnie dopiero przypisze tę wartość `True` do zmiennej `check`.\n",
    "\n",
    "Notacja z nawiasami jest na pewno bardziej czytelna - i lepiej ją stosować na początku. Natomiast należy być przygotowanym na czytanie kodu bez nawiasów!"
   ]
  },
  {
   "cell_type": "markdown",
   "metadata": {},
   "source": [
    "<img style = 'float: left; margin-right: 10px; margin-bottom: 10px' src = 'Images/question.png'> Szybkie ćwiczenie 6: Zdefiniuj zmienną o nazwie `my_score` i przypisz jej wartość 113.5; zdefiniuj zmienną o nazwie `score_threshold` i przypisz jej wartość 100. Zdefiniuj zmienną o nazwie `admitted` i przypisz jej wartość logiczną odpowiadającą na pytanie: \"czy zmienna `my_score` jest większa lub równa zmiennej `score_threshold`?\"; wydrukuj jej wartość."
   ]
  },
  {
   "cell_type": "code",
   "execution_count": null,
   "metadata": {},
   "outputs": [],
   "source": [
    "# szybkie ćwiczenie 6 - rozwiązanie\n",
    "\n"
   ]
  },
  {
   "cell_type": "markdown",
   "metadata": {},
   "source": [
    "### <a id=\"1.5\"></a>1.5. Modyfikowanie wartości przechowywanej w zmiennej"
   ]
  },
  {
   "cell_type": "markdown",
   "metadata": {},
   "source": [
    "#### <a id=\"1.5_b1\"></a>Zmienna jako etykieta"
   ]
  },
  {
   "cell_type": "markdown",
   "metadata": {},
   "source": [
    "Podkreślmy raz jeszcze, że zmienna przechowuje tylko daną wartość. Dobrze ilustruje to następujący przykład:"
   ]
  },
  {
   "cell_type": "code",
   "execution_count": null,
   "metadata": {},
   "outputs": [],
   "source": [
    "print( 'Before:' )\n",
    "\n",
    "a = 1 # przypisujemy wartość 1 do zmiennej a\n",
    "b = a # przypisujemy wartość zawartą obecnie w zmiennej a (a więc 1) do zmiennej o nazwie b\n",
    "\n",
    "print( f'variable a has value: {a}\\nvariable b has value: {b}' )"
   ]
  },
  {
   "cell_type": "code",
   "execution_count": null,
   "metadata": {},
   "outputs": [],
   "source": [
    "print( 'After:' )\n",
    "\n",
    "a = 2 # przypisujemy wartość 2 do zmiennej a\n",
    "\n",
    "print( f'variable a has value: {a}\\nvariable b has value: {b}' )"
   ]
  },
  {
   "cell_type": "markdown",
   "metadata": {},
   "source": [
    "Dzieje się tu co następuje:\n",
    "\n",
    "1. Instrukcja `a = 1` przypisuje oczywiście wartość 1 do zmiennej `a`. Kolejna instrukcja `b = a` nie powoduje natomiast, że zmienna `b` \"wskazuje\" na ten sam obiekt, co zmienna `a`! Podobnie jak dyskutowaliśmy to wyżej przy okazji `check = 2 < 5` (_najpierw_ obliczamy wartość `2 < 5`, a _potem_ przypisujemy tę wartość do zmiennej `check`), tak i tu _najpierw_ obliczamy wartość wszystkiego po prawej stronie `=` - tutaj jest to `a`, której wartość to 1 - a _potem_ tę wartość 1 przypisujemy do zmiennej `b`. Zmienna `b` ma więcej teraz wartość 1 i tyle. Nie \"wskazuje\" ona na to samo, co zmienna `a` - ma po prostu wartość 1.\n",
    "\n",
    "2. Dlatego też kiedy zmieniamy wartość zmiennej `a` instrukcją `a = 2`, to wartość zmiennej `b` się nie zmienia i pozostaje 1. Niby dlaczego miałaby się zmienić, skoro `b` i `a` nie mają nic wspólnego!"
   ]
  },
  {
   "cell_type": "markdown",
   "metadata": {},
   "source": [
    "#### <a id=\"1.5_b2\"></a>Dynamiczne typowanie"
   ]
  },
  {
   "cell_type": "markdown",
   "metadata": {},
   "source": [
    "Mamy więc istniejące zmienne `a` i `b`, pierwsza ma wartość 2, druga 1. Obie te zmienne są zatem typu `int`. Spróbujmy przypisać do nich wartości innego typu, np. `str`:"
   ]
  },
  {
   "cell_type": "code",
   "execution_count": null,
   "metadata": {},
   "outputs": [],
   "source": [
    "print( 'Let\\'s try changing data type!' )\n",
    "\n",
    "a = 'two' # przypisujemy wartość (typu string) 'two' do zmiennej a\n",
    "b = 'one' # przypisujemy wartość (typu string) 'one' do zmiennej b\n",
    "\n",
    "print( f'variable a has value: {a}\\nvariable b has value: {b}' )"
   ]
  },
  {
   "cell_type": "markdown",
   "metadata": {},
   "source": [
    "A zatem nowa wartość nie musi być tego samego typu, co poprzednia! Dzieje się tak, ponieważ Python jest językiem **dynamicznie typowanym** (\"dynamically typed\") - interpreter sam zdefiniuje typ zmiennej na podstawie wartości, którą jej przypiszemy. Wiele języków programowania jest **statycznie typowanych** (\"statically typed\") - oznacza to, że podczas definicji zmiennej musimy nie tylko podać jej wartość, ale także typ danych! I tego typu nie możemy później zmieniać! Czy np. do raz zdefiniowanej zmiennej typu `int` nie moglibyśmy później przypisać wartości typu `str`."
   ]
  },
  {
   "cell_type": "markdown",
   "metadata": {},
   "source": [
    "#### <a id=\"1.5_b3\"></a>x = x + 1 ???"
   ]
  },
  {
   "cell_type": "markdown",
   "metadata": {},
   "source": [
    "Jest pewna składnia, która z jednej strony występuje nadzwyczaj często w programowaniu, a która u osoby początkującej może powodować pewne zdenerwowanie, wręcz Weltschmerz!"
   ]
  },
  {
   "cell_type": "markdown",
   "metadata": {},
   "source": [
    "Przypomnijmy sobie zdefiniowaną wcześniej zmienną `x`:"
   ]
  },
  {
   "cell_type": "code",
   "execution_count": null,
   "metadata": {},
   "outputs": [],
   "source": [
    "x"
   ]
  },
  {
   "cell_type": "markdown",
   "metadata": {},
   "source": [
    "... i napiszmy teraz:"
   ]
  },
  {
   "cell_type": "code",
   "execution_count": null,
   "metadata": {},
   "outputs": [],
   "source": [
    "x = x + 1\n",
    "\n",
    "x"
   ]
  },
  {
   "cell_type": "markdown",
   "metadata": {},
   "source": [
    "Co tu się stało? Gdyby matematyk zobaczył $x = x + 1$, złapałby się za głowę - nie ma chyba takiego systemu formalnego, gdzie to wyrażenie jest prawdą! Rozwiązanie tego dylematu leży w przypomnieniu sobie, iż w Pythonie `=` nie jest operatorem równości, ale operatorem przypisania; operatorem równości jest `==`. Innymi słowy, nie sprawdzamy tutaj warunku logicznego, że `x` jest równe `x + 1`. Dzieje się raczej co następuje:\n",
    "\n",
    "- mamy zmienną `x` o wartości 5;\n",
    "\n",
    "- wykonujemy najpierw wyrażenie `x + 1`, znajdujące się po prawej stronie - daje ono wartość 6;\n",
    "\n",
    "- tę właśnie wartość 6 przypisujemy do zmiennej o nazwie `x` - tej samej nazwie, co poprzednio, co jest absolutnie dozwolone; zmienna `x` nie wskazuje teraz na wartość 5, ale na nową wartość 6, tj. rezultat wyrażenia `x + 1`.\n",
    "\n",
    "Jeszcze inaczej: _najpierw_ wykonujemy wyrażenie `x + 1`, gdzie `x` jest równe 5; a _następnie_ wartość wyrażenia przypisujemy do zmiennej `x`. Już to nie raz widzieliśmy - operator przypisania `=` ma najniższą precedencję, najpierw wykonujemy wszystkie obliczenia po jego prawej stronie, a dopiero potem wynik przypisujemy do zmiennej po lewej."
   ]
  },
  {
   "cell_type": "markdown",
   "metadata": {},
   "source": [
    "<img style = 'float: left; margin-right: 10px; margin-bottom: 10px' src = 'Images/question.png'> Szybkie ćwiczenie 7:\n",
    "\n",
    "(a) Wykonaj przypisanie `x = 2 * x`; jaką wartość ma teraz zmienna `x`?\n",
    "\n",
    "(b) Napisz `x == 2 * x`. Co oznacza to wyrażenie? Jaki ma typ? Jaką wartość?"
   ]
  },
  {
   "cell_type": "code",
   "execution_count": null,
   "metadata": {},
   "outputs": [],
   "source": [
    "# szybkie ćwiczenie 7a - rozwiązanie\n",
    "\n"
   ]
  },
  {
   "cell_type": "code",
   "execution_count": null,
   "metadata": {},
   "outputs": [],
   "source": [
    "# szybkie ćwiczenie 7b - rozwiązanie\n",
    "\n"
   ]
  },
  {
   "cell_type": "markdown",
   "metadata": {},
   "source": [
    "#### <a id=\"1.5_b4\"></a>Inne operatory przypisania"
   ]
  },
  {
   "cell_type": "markdown",
   "metadata": {},
   "source": [
    "Operacje tego typu są na tyle częste - nie tylko w Pythonie, ale we wszystkich językach programowania - że definiowane są inne, pomocnicze operatory przypisania, które skrótowo opisują takie operacje. Np. zamiast pisać:\n",
    "```\n",
    "x = x + 1\n",
    "```\n",
    "wystarczy napisać:\n",
    "```\n",
    "x += 1\n",
    "```"
   ]
  },
  {
   "cell_type": "code",
   "execution_count": null,
   "metadata": {},
   "outputs": [],
   "source": [
    "x"
   ]
  },
  {
   "cell_type": "code",
   "execution_count": null,
   "metadata": {},
   "outputs": [],
   "source": [
    "x += 10 # to samo, co x = x + 10, czyli najpierw obliczenie wartości (x + 10), a następnie przypisanie jej do zmiennej x\n",
    "\n",
    "x"
   ]
  },
  {
   "cell_type": "markdown",
   "metadata": {},
   "source": [
    "Zamiast `x = x - 12` napisalibyśmy `x -= 12`:"
   ]
  },
  {
   "cell_type": "code",
   "execution_count": null,
   "metadata": {},
   "outputs": [],
   "source": [
    "x -= 12\n",
    "\n",
    "x"
   ]
  },
  {
   "cell_type": "markdown",
   "metadata": {},
   "source": [
    "Inne **operatory przypisania** (\"assignment operators\") to m.in.:\n",
    "\n",
    "| Operator | Działanie |\n",
    "| --- | --- |\n",
    "| <center>`=`</center> | <center>przypisuje wartość po prawej stronie do zmiennej po lewej stronie</center> |\n",
    "| <center>`+=`</center> | <center>zwiększa zmienną po lewej stronie o wartość po prawej stronie oraz przypisuje wynik do zmiennej po lewej stronie</center> |\n",
    "| <center>`-=`</center> | <center>zmniejsza zmienną po lewej stronie o wartość po prawej stronie oraz przypisuje wynik do zmiennej po lewej stronie</center> |\n",
    "| <center>`*=`</center> | <center>mnoży zmienną po lewej stronie przez wartość po prawej stronie oraz przypisuje wynik do zmiennej po lewej stronie</center> |\n",
    "| <center>`/=`</center> | <center>dzieli zmienną po lewej stronie przez wartość po prawej stronie oraz przypisuje wynik do zmiennej po lewej stronie</center> |\n",
    "| <center>`//=`</center> | <center>bierze część całkowitą zmiennej po lewej stronie z dzielenia przez wartość po prawej stronie oraz przypisuje wynik do zmiennej po lewej stronie</center> |\n",
    "| <center>`%=`</center> | <center>bierze resztę z dzielenia zmiennej po lewej stronie przez wartość po prawej stronie oraz przypisuje wynik do zmiennej po lewej stronie</center> |\n",
    "| <center>`**=`</center> | <center>podnosi zmienną po lewej stronie do potęgi po prawej stronie oraz przypisuje wynik do zmiennej po lewej stronie</center> |"
   ]
  },
  {
   "cell_type": "markdown",
   "metadata": {},
   "source": [
    "<img style = 'float: left; margin-right: 10px; margin-bottom: 10px' src = 'Images/question.png'> Szybkie ćwiczenie 8: Podnieś zmienną `x` do potęgi 5 i przypisz wynik z powrotem do zmiennej `x`. Wydrukuj wartość zmiennej `x`."
   ]
  },
  {
   "cell_type": "code",
   "execution_count": null,
   "metadata": {},
   "outputs": [],
   "source": [
    "# szybkie ćwiczenie 8 - rozwiązanie\n",
    "\n"
   ]
  },
  {
   "cell_type": "markdown",
   "metadata": {},
   "source": [
    "### <a id=\"1.6\"></a>1.6. Uwagi praktyczne: Jak nazywać zmienne?"
   ]
  },
  {
   "cell_type": "markdown",
   "metadata": {},
   "source": [
    "Na koniec tej sekcji, parę uwag na temat nazewnictwa zmiennych.\n",
    "\n",
    "Z jednej strony, mamy pewne wymagania formalne:\n",
    "\n",
    "- nazwa zmiennej musi rozpoczynać się literą bądź symbolem \"underscore\" `_`;\n",
    "\n",
    "- w szczególności, nazwa zmiennej nie może rozpoczynać się od cyfry;\n",
    "\n",
    "- nazwa zmiennej może zawierać tylko znaki alfanumeryczne (`A`-`Z`, `a`-`z`, `0`-`9`, `_`), ale nie znaki specjalne;\n",
    "\n",
    "- wielkość liter ma znaczenie, np. poniższe zmienne są różne:\n",
    "```\n",
    "firstname = 'Joe 1'\n",
    "firstName = 'Joe 2'\n",
    "FirstName = 'Joe 3'\n",
    "FIRSTNAME = 'Joe 4'\n",
    "```"
   ]
  },
  {
   "cell_type": "code",
   "execution_count": null,
   "metadata": {
    "colab": {
     "base_uri": "https://localhost:8080/",
     "height": 85
    },
    "colab_type": "code",
    "id": "-vunnU_xX3wK",
    "outputId": "8036c5e4-7d2c-4414-b526-9eb1fcaae219"
   },
   "outputs": [],
   "source": [
    "firstname = 'Joe 1'\n",
    "firstName = 'Joe 2'\n",
    "FirstName = 'Joe 3'\n",
    "FIRSTNAME = 'Joe 4'\n",
    "\n",
    "print( firstname )\n",
    "print( firstName )\n",
    "print( FirstName )\n",
    "print( FIRSTNAME )"
   ]
  },
  {
   "cell_type": "markdown",
   "metadata": {},
   "source": [
    "Ponadto, mamy wymagania \"zdroworozsądkowe\", wynikające z ogólnie przyjętych konwencji:\n",
    "\n",
    "- przyjęło się, aby rozpoczynać nazwy zmiennych od małej litery i separować wyrazy symbolem `_` (notacja \"snake case\"):\n",
    "```\n",
    "employee_first_name = 'Joe'\n",
    "employee_age = 50\n",
    "```\n",
    "\n",
    "\n",
    "- nazwa zmiennej powinna dobrze odzwierciedlać wartość, którą przechowuje, jak w poniższym przykładzie:"
   ]
  },
  {
   "cell_type": "code",
   "execution_count": null,
   "metadata": {
    "colab": {
     "base_uri": "https://localhost:8080/",
     "height": 34
    },
    "colab_type": "code",
    "id": "u4R0Cd72EAvU",
    "outputId": "7f9e36bc-3cd7-47e9-a898-81cd78dffc4e"
   },
   "outputs": [],
   "source": [
    "x = 20\n",
    "y = 18\n",
    "\n",
    "if x >= y:\n",
    "    print( 'Employee can have a beer!' )\n",
    "else:\n",
    "    print( 'No beer for this employee!' )"
   ]
  },
  {
   "cell_type": "markdown",
   "metadata": {},
   "source": [
    "... versus:"
   ]
  },
  {
   "cell_type": "code",
   "execution_count": null,
   "metadata": {
    "colab": {
     "base_uri": "https://localhost:8080/",
     "height": 34
    },
    "colab_type": "code",
    "id": "DAujmUvP6lsK",
    "outputId": "3dfbf93d-6566-4ef2-b0f9-1e5054d50645"
   },
   "outputs": [],
   "source": [
    "employee_age = 20\n",
    "age_of_majority = 18\n",
    "\n",
    "if employee_age >= age_of_majority:\n",
    "    print( 'Employee can have a beer!' )\n",
    "else:\n",
    "    print( 'No beer for this employee!' )"
   ]
  },
  {
   "cell_type": "markdown",
   "metadata": {
    "colab_type": "text",
    "id": "2bxk62SBEKPz"
   },
   "source": [
    "W obu przypadkach kod zadziała tak samo. Jedyną różnicą jest sposób nazwania zmiennej przechowującej wiek pracownika (`x` versus `employee_age`) oraz zmiennej określającej wiek pełnoletności (`y` versus `age_of_majority`). Zmienna o nazwie `x` lub `y` nie zdradza zbyt wielu szczegółów odnośnie wartości, którą przechowuje. Tutaj mamy do czynienia jedynie z kilkoma linijkami kodu; co stałoby się, gdy tych linijek mielibyśmy np. kilkaset i nasza zmienna byłaby używana w wielu miejsach? Z kolei, na zmienne `employee_age` bądź `age_of_majority` wystarczy spojrzeć i od razu wiemy, jakiego rodzaju wartości przechowują. Tak pisany kod jest zdecydowanie łatwiejszy do zrozumienia!"
   ]
  },
  {
   "cell_type": "markdown",
   "metadata": {},
   "source": [
    "## <a id=\"2\"></a>2. Podstawowe działania na zmiennych (operatory i metody)"
   ]
  },
  {
   "cell_type": "markdown",
   "metadata": {},
   "source": [
    "### <a id=\"2.1\"></a>2.1. Operatory arytmetyczne"
   ]
  },
  {
   "cell_type": "markdown",
   "metadata": {},
   "source": [
    "Na zmiennych o typach liczbowych (`int`, `float`) możemy wykonywać znane nam dobrze opracje arytmetyczne:\n",
    "\n",
    "| Operator | Działanie |\n",
    "| --- | --- |\n",
    "| <center>`+`</center> | <center>dodawanie</center> |\n",
    "| <center>`-`</center> | <center>odejmowanie</center> |\n",
    "| <center>`*`</center> | <center>mnożenie</center> |\n",
    "| <center>`/`</center> | <center>dzielenie (\"floating-point division\")</center> |\n",
    "| <center>`//`</center> | <center>część całkowita z dzielenia (\"floor division\")</center> |\n",
    "| <center>`%`</center> | <center>reszta z dzielenia (\"modulus\")</center> |\n",
    "| <center>`**`</center> | <center>potęgowanie</center> |"
   ]
  },
  {
   "cell_type": "code",
   "execution_count": null,
   "metadata": {},
   "outputs": [],
   "source": [
    "1 + 1"
   ]
  },
  {
   "cell_type": "code",
   "execution_count": null,
   "metadata": {},
   "outputs": [],
   "source": [
    "12 - 7"
   ]
  },
  {
   "cell_type": "code",
   "execution_count": null,
   "metadata": {},
   "outputs": [],
   "source": [
    "1768162.127 * 1828976123.972"
   ]
  },
  {
   "cell_type": "code",
   "execution_count": null,
   "metadata": {},
   "outputs": [],
   "source": [
    "12797 / 107"
   ]
  },
  {
   "cell_type": "code",
   "execution_count": null,
   "metadata": {},
   "outputs": [],
   "source": [
    "5 ** 2"
   ]
  },
  {
   "cell_type": "markdown",
   "metadata": {},
   "source": [
    "#### <a id=\"2.1_b1\"></a>Dzielenie"
   ]
  },
  {
   "cell_type": "markdown",
   "metadata": {},
   "source": [
    "Zatrzymajmy się na chwilę przy dzieleniu. Mamy aż trzy operatory powiązane z tą operacją arytmetyczną. Operator `/` wykonuje normalne dzielenie. Co jest warte podkreślenia, to zachowanie się typów liczbowych: nawet jeśli dzielimy dwie liczby całkowite (typ `int`) i nawet jeśli są one podzielne przez siebie, to wynikiem będzie liczba typu `float`, nie `int`:"
   ]
  },
  {
   "cell_type": "code",
   "execution_count": null,
   "metadata": {},
   "outputs": [],
   "source": [
    "div = 15 / 3\n",
    "\n",
    "div"
   ]
  },
  {
   "cell_type": "code",
   "execution_count": null,
   "metadata": {},
   "outputs": [],
   "source": [
    "type( div )"
   ]
  },
  {
   "cell_type": "markdown",
   "metadata": {},
   "source": [
    "Ponadto możemy wykonać dzielenie z resztą, tj. otrzymać część całkowitą z dzielenia oraz resztę. Np. 17 podzielone przez 5 daje część całkowitą 3 i resztę 2, jako że $17 = 5 \\cdot 3 + 2$. Wykonujemy to operatorami odpowiednio `//` oraz `%`."
   ]
  },
  {
   "cell_type": "code",
   "execution_count": null,
   "metadata": {},
   "outputs": [],
   "source": [
    "17 // 5 # część całkowita z dzielenia 17 przez 5"
   ]
  },
  {
   "cell_type": "code",
   "execution_count": null,
   "metadata": {},
   "outputs": [],
   "source": [
    "17 % 5 # reszta z dzielenia 17 przez 5"
   ]
  },
  {
   "cell_type": "markdown",
   "metadata": {},
   "source": [
    "Operatorów tych często używa się w kontekście zdań logicznych - np. \"czy dana liczba jest parzysta?\" Liczba parzysta daje z dzielenia przez 2 resztę 0, a więc odpowiedzią na nasze pytanie - np. dla liczby 17 - jest:"
   ]
  },
  {
   "cell_type": "code",
   "execution_count": null,
   "metadata": {},
   "outputs": [],
   "source": [
    "17 % 2 == 0"
   ]
  },
  {
   "cell_type": "markdown",
   "metadata": {},
   "source": [
    "... i rzeczywiście, liczba 17 jest nieparzysta."
   ]
  },
  {
   "cell_type": "markdown",
   "metadata": {},
   "source": [
    "<img style = 'float: left; margin-right: 10px; margin-bottom: 10px' src = 'Images/question.png'> Szybkie ćwiczenie 9: Niech zmienna `number` będzie równa 123. Stwórz zmienną o nazwie `is_even` i przypisz do niej wartość logiczną, odpowiadającą na pytanie, \"czy zmienna `number` jest parzysta?\"."
   ]
  },
  {
   "cell_type": "code",
   "execution_count": null,
   "metadata": {},
   "outputs": [],
   "source": [
    "# szybkie ćwiczenie 9 - rozwiązanie\n",
    "\n"
   ]
  },
  {
   "cell_type": "markdown",
   "metadata": {},
   "source": [
    "### <a id=\"2.2\"></a>2.2. Operatory logiczne"
   ]
  },
  {
   "cell_type": "markdown",
   "metadata": {
    "colab_type": "text",
    "id": "HYpa8YjglGrt"
   },
   "source": [
    "Na zmiennych typu logicznego (`bool`) możemy m.in. dokonywać następujących podstawowych operacji logicznych:\n",
    "\n",
    "| Operator | Działanie |\n",
    "| ---|--- |\n",
    "| <center>`and`</center> | <center>\"i\"; zwraca `True`, gdy oba wyrażenia są `True`</center> |\n",
    "| <center>`or`</center> | <center>\"lub\"; zwraca `True`, gdy przynajmniej jedno wyrażenie jest `True`</center> |\n",
    "| <center>`not`</center> | <center>\"nie\"; negacja/zaprzeczenie, odwraca `True` na `False` i odwrotnie</center> |"
   ]
  },
  {
   "cell_type": "code",
   "execution_count": null,
   "metadata": {},
   "outputs": [],
   "source": [
    "num = 777\n",
    "\n",
    "( num < 1000 ) and ( num > 0 ) # oba wyrażenia są prawdziwe"
   ]
  },
  {
   "cell_type": "code",
   "execution_count": null,
   "metadata": {},
   "outputs": [],
   "source": [
    "( num < 10 ) or ( num > 20 ) # pierwsze wyrażenie jest fałszywe, ale drugie jest prawdziwe"
   ]
  },
  {
   "cell_type": "code",
   "execution_count": null,
   "metadata": {},
   "outputs": [],
   "source": [
    "not ( num < 10 ) # zaprzeczenie wyrażenia fałszywego"
   ]
  },
  {
   "cell_type": "markdown",
   "metadata": {},
   "source": [
    "Uwaga: Wszędzie powyżej możemy usunąć nawiasy! Byłoby to mniej czytelne, ale poprawne:"
   ]
  },
  {
   "cell_type": "code",
   "execution_count": null,
   "metadata": {},
   "outputs": [],
   "source": [
    "num < 1000 and num > 0"
   ]
  },
  {
   "cell_type": "code",
   "execution_count": null,
   "metadata": {},
   "outputs": [],
   "source": [
    "num < 1000 or num > 0"
   ]
  },
  {
   "cell_type": "code",
   "execution_count": null,
   "metadata": {},
   "outputs": [],
   "source": [
    "not num < 10"
   ]
  },
  {
   "cell_type": "markdown",
   "metadata": {},
   "source": [
    "Przy konstrukcji bardziej złożonych zdań logicznych używajmy jednak nawiasów, aby uzyskać dokładnie to, co zamierzamy!"
   ]
  },
  {
   "cell_type": "code",
   "execution_count": null,
   "metadata": {},
   "outputs": [],
   "source": [
    "( ( num < 1000 and num > 0 ) or ( num < 3000 and num > 2000 ) ) and ( not num > 10000 )"
   ]
  },
  {
   "cell_type": "markdown",
   "metadata": {},
   "source": [
    "<img style = 'float: left; margin-right: 10px; margin-bottom: 10px' src = 'Images/question.png'> Dłuższe ćwiczenie 10: Stwórz zmienną (o nazwie powiedzmy `check`) o następującej wartości logicznej: zmienna `num` jest parzysta i mniejsza lub równa 100, lub też jest nieparzysta i większa niż 500.\n",
    "\n",
    "Wskazówka: Użycie nawiasów jest tu konieczne!"
   ]
  },
  {
   "cell_type": "code",
   "execution_count": null,
   "metadata": {},
   "outputs": [],
   "source": [
    "# dłuższe ćwiczenie 10 - rozwiązanie\n",
    "\n"
   ]
  },
  {
   "cell_type": "markdown",
   "metadata": {},
   "source": [
    "### <a id=\"2.3\"></a>2.3. Podstawowe operacje na stringach: tworzenie i drukowanie stringów"
   ]
  },
  {
   "cell_type": "markdown",
   "metadata": {},
   "source": [
    "#### <a id=\"2.3_b1\"></a>Łączenie stringów"
   ]
  },
  {
   "cell_type": "markdown",
   "metadata": {},
   "source": [
    "Co ciekawe, dwa operatory arytmetyczne, `+` oraz `*`, mogą być użyte na obiektach tekstowych - stringach! Mają one wówczas następujące znaczenie:\n",
    "\n",
    "- `+` łączy (\"concatenate\") dwa stringi ze sobą;\n",
    "\n",
    "- `*` pomiędzy stringiem a liczbą całkowitą dodatnią $n > 0$ tworzy nowy string, powtarzając oryginalny string $n$ razy."
   ]
  },
  {
   "cell_type": "code",
   "execution_count": null,
   "metadata": {},
   "outputs": [],
   "source": [
    "greeting = 'Hello'\n",
    "separator = ', '\n",
    "name = 'Alice'\n",
    "\n",
    "greeting + separator + name"
   ]
  },
  {
   "cell_type": "code",
   "execution_count": null,
   "metadata": {},
   "outputs": [],
   "source": [
    "word = 'abc'\n",
    "\n",
    "word * 10"
   ]
  },
  {
   "cell_type": "markdown",
   "metadata": {},
   "source": [
    "To, co się tu wydarzyło, jest bardzo ciekawe i jest to kolejny przykład polimorfizmu - ten sam operator, ale działający na obiektach różnego typu, daje różne wyniki. Np. `+` na dwóch liczbach wykonuje dodawanie arytmetyczne; ten sam `+` na dwóch stringach przeprowadza ich łączenie. Jak wspominaliśmy wcześniej, typ danych zawiera w sobie informację o metodach/operacjach, jakie na obiektach tego typu można przeprowadzać. Osoba kodująca typy numeryczne (`int`, `float`), zawarła w definicji tych typów zachowanie operatora `+` jako dodawania arytmetycznego - zgodnie z tym, czego byśmy się spodziewali! Inna osoba, kodująca typ `str`, zdefiniowała w nim zachowanie `+` jako konkatenacji stringów."
   ]
  },
  {
   "cell_type": "markdown",
   "metadata": {},
   "source": [
    "#### <a id=\"2.3_b2\"></a>Praktyczne tworzenie stringów za pomocą operatora `+`"
   ]
  },
  {
   "cell_type": "markdown",
   "metadata": {},
   "source": [
    "Operator `+` jest bardzo przydatny, gdy chcemy utworzyć string będący połączeniem kilku innych stringów."
   ]
  },
  {
   "cell_type": "code",
   "execution_count": null,
   "metadata": {},
   "outputs": [],
   "source": [
    "first_name = 'Paul'\n",
    "\n",
    "sentence = 'My name is ' + first_name + '.' # łączymy trzy stringi za pomocą operatora +\n",
    "\n",
    "print( sentence )"
   ]
  },
  {
   "cell_type": "markdown",
   "metadata": {},
   "source": [
    "Rozważmy podobny przykład:"
   ]
  },
  {
   "cell_type": "code",
   "execution_count": null,
   "metadata": {},
   "outputs": [],
   "source": [
    "first_name = 'Paul'\n",
    "age = 45\n",
    "\n",
    "sentence = 'My name is ' + first_name + ', and I am ' + age + ' year-old.'\n",
    "\n",
    "print( sentence )"
   ]
  },
  {
   "cell_type": "markdown",
   "metadata": {},
   "source": [
    "Wykonanie tego kodu kończy się zwróceniem wyjątku `TypeError`. Przenalizujmy treść błędu:\n",
    "\n",
    "`TypeError: can only concatenate str (not \"int\") to str`\n",
    "\n",
    "Interpreterowi nie podoba się to, że próbujemy w jednym stringu złączyć dwa różne typy danych: kilka stringów oraz jeden `int` - zmienną `age`. Jak możemy temu zaradzić? Należy dokonać **konwersji** zmiennej `age` typu `int` na typ `str` - konwersji typów dokonujemy ogólnie rzecz biorąc za pomocą wbudowanych funkcji, których nazwa odpowiada typowi, na jaki konwertujemy. Tutaj jest to funkcja `str`, jako że konwertujemy na typ `str`:"
   ]
  },
  {
   "cell_type": "code",
   "execution_count": null,
   "metadata": {},
   "outputs": [],
   "source": [
    "str( age )"
   ]
  },
  {
   "cell_type": "markdown",
   "metadata": {},
   "source": [
    "Jest to string `'45'`, a nie liczba `45`!"
   ]
  },
  {
   "cell_type": "markdown",
   "metadata": {},
   "source": [
    "Zmieniony kod:"
   ]
  },
  {
   "cell_type": "code",
   "execution_count": null,
   "metadata": {},
   "outputs": [],
   "source": [
    "sentence = 'My name is ' + first_name + ', and I am ' + str( age ) + ' year-old.' # łączymy pięć stringów za pomocą operatora +\n",
    "\n",
    "print( sentence )"
   ]
  },
  {
   "cell_type": "markdown",
   "metadata": {},
   "source": [
    "#### <a id=\"2.3_b3\"></a>Metoda `format`"
   ]
  },
  {
   "cell_type": "markdown",
   "metadata": {},
   "source": [
    "Poznaliśmy już dwie \"czynności\", jakie na typie `str` można dokonywać: operatory `+` i `*`. Jest wiele innych metod, jakie na stringach mogą zostać wywołane. Jak już mówiliśmy, **metoda** to \"czynność\", jaką na obiekcie danego typu danych można wykonywać. Metody są zdefiniowane w kodzie opisującym typ danych. I tak typ `str` ma w sobie definicje wielu różnych metod, z których kilka teraz omówimy.\n",
    "\n",
    "Uważny uczeń mógłby przypomnieć sobie z początku tej Lekcji, iż wspominaliśmy też o _funkcjach_ jako o \"czynnościach\". I rzeczywiście, metody i funkcje to z grubsza to samo! Nie będziemy tu wnikać w różnice - jedynie podkreślmy nieco inny sposób wywoływania metod i funkcji. Funkcje wywoływaliśmy poprzez nazwę funkcji i podanie w nawiasach okrągłych argumentów, np. `type(x)`. Metody wywołujemy nieco inaczej: najpierw obiekt, na którym wywołujemy metodę, potem kropka, potem nazwa metody, a dalej w nawiasach okrągłych ewentualne inne argumenty, np. `my_object.my_method(some_other_args)`. Gdyby metoda nie przyjmowała innych argumentów, to nawiasy okrągłe pozostawiamy puste."
   ]
  },
  {
   "cell_type": "markdown",
   "metadata": {},
   "source": [
    "Metoda `format` umożliwia wygodne łączenie stringów, z tą zaletą, iż ewentualna konwersja typów odbywa się automatycznie. Składnia jest następująca:"
   ]
  },
  {
   "cell_type": "code",
   "execution_count": null,
   "metadata": {},
   "outputs": [],
   "source": [
    "sentence = 'My name is {} and I am {} years old.'\n",
    "\n",
    "print( sentence.format( first_name , age ) )"
   ]
  },
  {
   "cell_type": "markdown",
   "metadata": {},
   "source": [
    "Miejsca, w które zamierzaliśmy podstawić nasze zmienne zastępujemy symbolem `{}`. Następnie jako argumenty metody `format` podajemy zmienne, których wartości chcemy podstawić w miejscach `{}`, w odpowiedniej kolejności."
   ]
  },
  {
   "cell_type": "markdown",
   "metadata": {},
   "source": [
    "Zauważmy składnię metody: Mamy obiekt typu `str` w zmiennej `sequence`. Aplikujemy do niego - po kropce - metodę `format`. Przyjmuje ona dowolną liczbę argumentów - tutaj dwa, w nawiasach okrągłych - odpowiadającą liczbie `{}` w stringu `sequence`."
   ]
  },
  {
   "cell_type": "markdown",
   "metadata": {},
   "source": [
    "#### <a id=\"2.3_b4\"></a>Interpolacja stringów"
   ]
  },
  {
   "cell_type": "markdown",
   "metadata": {},
   "source": [
    "Wraz z wejściem w życie Pythona w wersji 3.6 otrzymaliśmy dodatkowy sposób formatowania stringów, nazywany **interpolacją**. String, na którym chcielibyśmy użyć interpolacji, powinien rozpoczynać się małą literą `f`, po której następują cudzysłowy (pojedyncze/podwójne/potrójne). Wewnątrz samego stringa miejsca, w które chcemy podstawić wartości, zaznaczymy za pomocą klamry `{}`. Do środka klamry wstawiamy jakąś wartość/zmienną/wyrażenie."
   ]
  },
  {
   "cell_type": "code",
   "execution_count": null,
   "metadata": {},
   "outputs": [],
   "source": [
    "print( f'My current age is {29}.' )"
   ]
  },
  {
   "cell_type": "code",
   "execution_count": null,
   "metadata": {},
   "outputs": [],
   "source": [
    "age = 29\n",
    "\n",
    "print( f'My current age is {age}.' )"
   ]
  },
  {
   "cell_type": "code",
   "execution_count": null,
   "metadata": {},
   "outputs": [],
   "source": [
    "date_of_birth = 1991\n",
    "current_year = 2020\n",
    "\n",
    "print( f'My current age is {current_year - date_of_birth}.' )"
   ]
  },
  {
   "cell_type": "code",
   "execution_count": null,
   "metadata": {},
   "outputs": [],
   "source": [
    "current_age = 29\n",
    "city = 'Kraków'\n",
    "favorite_language = 'Python'\n",
    "\n",
    "sentence = f'I am currently {current_age} years old, I live in {city}, and my favorite programming language is {favorite_language}.'\n",
    "\n",
    "print( sentence )"
   ]
  },
  {
   "cell_type": "markdown",
   "metadata": {},
   "source": [
    "### <a id=\"2.4\"></a>(*) 2.4. Podstawowe operacje na stringach: przydatne metody manipulacji stringów"
   ]
  },
  {
   "cell_type": "markdown",
   "metadata": {},
   "source": [
    "Powyżej omówiliśmy trzy rodzaje drukowania stringów: łączenie stringów za pomocą operatora `+`, metodę `format` oraz interpolację stringów. Na koniec przyjrzyjmy się paru innym metodom zdefiniowanym dla typu `str`, które wykonują na stringach różne przydatne operacje.\n",
    "\n",
    "Uwaga: Niektóre z tych metod mają więcej możliwości niż tu opiszemy - poszukaj w dokumentacji!\n",
    "\n",
    "| Metoda | Działanie |\n",
    "| ---|--- |\n",
    "| <center>`lower`</center> | <center>zmienia wszystkie litery na małe</center> |\n",
    "| <center>`upper`</center> | <center>zmienia wszystkie litery na wielkie</center> |\n",
    "| <center>`capitalize`</center> | <center>zmienia tylko pierwszą literę na wielką, a wszystkie pozostałe na małe</center> |\n",
    "| <center>`title`</center> | <center>zmienia pierwszą literę każdego wyrazu na wielką</center> |\n",
    "| <center>`swapcase`</center> | <center>zmienia wielkie litery na małe, a małe na wielkie</center> |\n",
    "| <center>`split`</center> | <center>rozbija string na listę wyrazów</center> |\n",
    "| <center>`splitlines`</center> | <center>rozbija string na listę linijek</center> |\n",
    "| <center>`strip`</center> | <center>usuwa spacje po lewej i prawej stronie stringu</center> |\n",
    "| <center>`lstrip`</center> | <center>usuwa spacje tylko po lewej stronie stringu</center> |\n",
    "| <center>`rstrip`</center> | <center>usuwa spacje tylko po prawej stronie stringu</center> |\n",
    "| <center>`find`</center> | <center>zwraca indeks pierwszego wystąpienia pod-stringu</center> |\n",
    "| <center>`replace`</center> | <center>zmienia jeden pod-string na inny</center> |\n",
    "| <center>`isalpha`</center> | <center>sprawdza, czy każdy znak jest literą</center> |\n",
    "| <center>`isalnum`</center> | <center>sprawdza, czy każdy znak jest literą lub cyfrą</center> |\n",
    "| <center>`isdigit`</center> | <center>sprawdza, czy każdy znak jest cyfrą</center> |\n",
    "| <center>`islower`</center> | <center>sprawdza, czy każdy znak jest mały</center> |\n",
    "| <center>`isupper`</center> | <center>sprawdza, czy każdy znak jest wielki</center> |\n",
    "| <center>`startswith`</center> | <center>sprawdza, czy string zaczyna się od pod-stringu</center> |\n",
    "| <center>`endswith`</center> | <center>sprawdza, czy string kończy się pod-stringiem</center> |"
   ]
  },
  {
   "cell_type": "markdown",
   "metadata": {},
   "source": [
    "#### <a id=\"2.4_b1\"></a>Zamień małe i wielkie litery"
   ]
  },
  {
   "cell_type": "markdown",
   "metadata": {},
   "source": [
    "Kilka przydatnych metod do zmieniania małych liter na wielkie i odwrotnie:\n",
    "\n",
    "- metoda `lower` zmienia wszystkie litery na małe;\n",
    "\n",
    "- metoda `upper` zmienia wszystkie litery na wielkie;\n",
    "\n",
    "- metoda `capitalize` zmienia tylko pierwszą literę na wielką, a wszystkie pozostałe na małe;\n",
    "\n",
    "- metoda `title` zmienia pierwszą literę każdego wyrazu na wielką;\n",
    "\n",
    "- metoda `swapcase` zmienia wielkie litery na małe, a małe na wielkie."
   ]
  },
  {
   "cell_type": "code",
   "execution_count": 3,
   "metadata": {},
   "outputs": [
    {
     "data": {
      "text/plain": [
       "'W Szczebrzeszynie chrząszcz brzmi w trzcinie'"
      ]
     },
     "execution_count": 3,
     "metadata": {},
     "output_type": "execute_result"
    }
   ],
   "source": [
    "poem_line"
   ]
  },
  {
   "cell_type": "code",
   "execution_count": 4,
   "metadata": {},
   "outputs": [
    {
     "name": "stdout",
     "output_type": "stream",
     "text": [
      "w szczebrzeszynie chrząszcz brzmi w trzcinie\n"
     ]
    }
   ],
   "source": [
    "print( poem_line.lower() )"
   ]
  },
  {
   "cell_type": "code",
   "execution_count": 5,
   "metadata": {},
   "outputs": [
    {
     "name": "stdout",
     "output_type": "stream",
     "text": [
      "W SZCZEBRZESZYNIE CHRZĄSZCZ BRZMI W TRZCINIE\n"
     ]
    }
   ],
   "source": [
    "print( poem_line.upper() )"
   ]
  },
  {
   "cell_type": "code",
   "execution_count": 6,
   "metadata": {},
   "outputs": [
    {
     "name": "stdout",
     "output_type": "stream",
     "text": [
      "W szczebrzeszynie chrząszcz brzmi w trzcinie\n"
     ]
    }
   ],
   "source": [
    "print( poem_line.capitalize() )"
   ]
  },
  {
   "cell_type": "code",
   "execution_count": 7,
   "metadata": {},
   "outputs": [
    {
     "name": "stdout",
     "output_type": "stream",
     "text": [
      "W Szczebrzeszynie Chrząszcz Brzmi W Trzcinie\n"
     ]
    }
   ],
   "source": [
    "print( poem_line.title() )"
   ]
  },
  {
   "cell_type": "code",
   "execution_count": 8,
   "metadata": {},
   "outputs": [
    {
     "name": "stdout",
     "output_type": "stream",
     "text": [
      "w sZCZEBRZESZYNIE CHRZĄSZCZ BRZMI W TRZCINIE\n"
     ]
    }
   ],
   "source": [
    "print( poem_line.swapcase() )"
   ]
  },
  {
   "cell_type": "markdown",
   "metadata": {},
   "source": [
    "Zwróćmy znów uwagę na składnię: są to wszystko metody, a więc wywołane po kropce; nie przyjmują żadnych argumentów, więc mamy puste w środku nawiasy okrągłe."
   ]
  },
  {
   "cell_type": "markdown",
   "metadata": {},
   "source": [
    "#### <a id=\"2.4_b2\"></a>Rozbij string na listę składowych"
   ]
  },
  {
   "cell_type": "markdown",
   "metadata": {},
   "source": [
    "Ważną metodą jest `split`. Rozbija ona dany string na pojedyncze wyrazy i daje ich listę. Przez \"wyrazy\" rozumiemy tutaj części stringu rozdzielone spacją."
   ]
  },
  {
   "cell_type": "code",
   "execution_count": 9,
   "metadata": {},
   "outputs": [
    {
     "name": "stdout",
     "output_type": "stream",
     "text": [
      "W Szczebrzeszynie chrząszcz brzmi w trzcinie\n",
      "I Szczebrzeszyn z tego słynie.\n",
      "Wół go pyta: \"Panie chrząszczu,\n",
      "Po co pan tak brzęczy w gąszczu?\"\n",
      "\"Jak to – po co? To jest praca,\n",
      "Każda praca się opłaca.\"\n"
     ]
    }
   ],
   "source": [
    "print( poem )"
   ]
  },
  {
   "cell_type": "code",
   "execution_count": 10,
   "metadata": {},
   "outputs": [
    {
     "data": {
      "text/plain": [
       "['W',\n",
       " 'Szczebrzeszynie',\n",
       " 'chrząszcz',\n",
       " 'brzmi',\n",
       " 'w',\n",
       " 'trzcinie',\n",
       " 'I',\n",
       " 'Szczebrzeszyn',\n",
       " 'z',\n",
       " 'tego',\n",
       " 'słynie.',\n",
       " 'Wół',\n",
       " 'go',\n",
       " 'pyta:',\n",
       " '\"Panie',\n",
       " 'chrząszczu,',\n",
       " 'Po',\n",
       " 'co',\n",
       " 'pan',\n",
       " 'tak',\n",
       " 'brzęczy',\n",
       " 'w',\n",
       " 'gąszczu?\"',\n",
       " '\"Jak',\n",
       " 'to',\n",
       " '–',\n",
       " 'po',\n",
       " 'co?',\n",
       " 'To',\n",
       " 'jest',\n",
       " 'praca,',\n",
       " 'Każda',\n",
       " 'praca',\n",
       " 'się',\n",
       " 'opłaca.\"']"
      ]
     },
     "execution_count": 10,
     "metadata": {},
     "output_type": "execute_result"
    }
   ],
   "source": [
    "poem.split()"
   ]
  },
  {
   "cell_type": "markdown",
   "metadata": {},
   "source": [
    "Wynikiem tej metody jest niespotkany przez nas do tej pory typ danych, tzw. **lista** (`list`). Listom poświęcimy Lekcje 5-6. W tym momencie warto tylko powiedzieć, iż lista to _kolekcja elementów_ rozdzielonych przecinkami, zawarta w nawiasach kwadratowych. Metoda `split` rozbiła string na listę jego pod-stringów rozdzielonych spacją."
   ]
  },
  {
   "cell_type": "markdown",
   "metadata": {},
   "source": [
    "Opcjonalnie, możemy dać metodzie `split` argument, którym będzie inny string (tzw. **separator**) - i to po nim, a nie po spacji, będziemy dzielić na części."
   ]
  },
  {
   "cell_type": "code",
   "execution_count": 11,
   "metadata": {},
   "outputs": [
    {
     "data": {
      "text/plain": [
       "['apple', 'banana', 'orange', 'grape']"
      ]
     },
     "execution_count": 11,
     "metadata": {},
     "output_type": "execute_result"
    }
   ],
   "source": [
    "'apple, banana, orange, grape'.split( ', ' ) # separatorem jest przecinek i spacja"
   ]
  },
  {
   "cell_type": "code",
   "execution_count": 12,
   "metadata": {},
   "outputs": [
    {
     "data": {
      "text/plain": [
       "['a', 'b', 'c', 'd']"
      ]
     },
     "execution_count": 12,
     "metadata": {},
     "output_type": "execute_result"
    }
   ],
   "source": [
    "'a-b-c-d'.split( '-' ) # separatorem jest myślnik"
   ]
  },
  {
   "cell_type": "markdown",
   "metadata": {},
   "source": [
    "(Zatem `split()` bez argumentów jest równoważne `split(' ')` z separatorem będącym spacją.)"
   ]
  },
  {
   "cell_type": "markdown",
   "metadata": {},
   "source": [
    "Pokrewną metodą jest `splitlines`, która dzieli string na linie i zwraca listę tych linii (innymi słowy, wykonuje metodę `split` po separatorze `'\\n'`)."
   ]
  },
  {
   "cell_type": "code",
   "execution_count": 14,
   "metadata": {},
   "outputs": [
    {
     "data": {
      "text/plain": [
       "['W Szczebrzeszynie chrząszcz brzmi w trzcinie',\n",
       " 'I Szczebrzeszyn z tego słynie.',\n",
       " 'Wół go pyta: \"Panie chrząszczu,',\n",
       " 'Po co pan tak brzęczy w gąszczu?\"',\n",
       " '\"Jak to – po co? To jest praca,',\n",
       " 'Każda praca się opłaca.\"']"
      ]
     },
     "execution_count": 14,
     "metadata": {},
     "output_type": "execute_result"
    }
   ],
   "source": [
    "poem.splitlines()"
   ]
  },
  {
   "cell_type": "markdown",
   "metadata": {},
   "source": [
    "... to samo, co:"
   ]
  },
  {
   "cell_type": "code",
   "execution_count": 15,
   "metadata": {},
   "outputs": [
    {
     "data": {
      "text/plain": [
       "['W Szczebrzeszynie chrząszcz brzmi w trzcinie',\n",
       " 'I Szczebrzeszyn z tego słynie.',\n",
       " 'Wół go pyta: \"Panie chrząszczu,',\n",
       " 'Po co pan tak brzęczy w gąszczu?\"',\n",
       " '\"Jak to – po co? To jest praca,',\n",
       " 'Każda praca się opłaca.\"']"
      ]
     },
     "execution_count": 15,
     "metadata": {},
     "output_type": "execute_result"
    }
   ],
   "source": [
    "poem.split( '\\n' )"
   ]
  },
  {
   "cell_type": "markdown",
   "metadata": {},
   "source": [
    "#### <a id=\"2.4_b3\"></a>Usuń znaki"
   ]
  },
  {
   "cell_type": "markdown",
   "metadata": {},
   "source": [
    "Metoda `strip` usuwa spacje z początku oraz końca stringu:"
   ]
  },
  {
   "cell_type": "code",
   "execution_count": 16,
   "metadata": {},
   "outputs": [
    {
     "data": {
      "text/plain": [
       "'This text contains lots of    unnecessary    spaces'"
      ]
     },
     "execution_count": 16,
     "metadata": {},
     "output_type": "execute_result"
    }
   ],
   "source": [
    "before_strip = '             This text contains lots of    unnecessary    spaces                           '\n",
    "after_strip = before_strip.strip()\n",
    "\n",
    "after_strip"
   ]
  },
  {
   "cell_type": "markdown",
   "metadata": {},
   "source": [
    "Aby usunąć spacje tylko z lewej bądź tylko z prawej strony, stosujemy metody `lstrip` oraz `rstrip`:"
   ]
  },
  {
   "cell_type": "code",
   "execution_count": 17,
   "metadata": {},
   "outputs": [
    {
     "data": {
      "text/plain": [
       "'This text contains lots of    unnecessary    spaces                           '"
      ]
     },
     "execution_count": 17,
     "metadata": {},
     "output_type": "execute_result"
    }
   ],
   "source": [
    "after_lstrip = before_strip.lstrip()\n",
    "\n",
    "after_lstrip"
   ]
  },
  {
   "cell_type": "code",
   "execution_count": 18,
   "metadata": {},
   "outputs": [
    {
     "data": {
      "text/plain": [
       "'             This text contains lots of    unnecessary    spaces'"
      ]
     },
     "execution_count": 18,
     "metadata": {},
     "output_type": "execute_result"
    }
   ],
   "source": [
    "after_rstrip = before_strip.rstrip()\n",
    "\n",
    "after_rstrip"
   ]
  },
  {
   "cell_type": "markdown",
   "metadata": {},
   "source": [
    "Zauważmy też, że wewnętrzne spacje nie są usuwane."
   ]
  },
  {
   "cell_type": "markdown",
   "metadata": {},
   "source": [
    "Każdej z tych metod możemy również podać jako argument string - wówczas usunięte zostaną (albo z obu stron, albo tylko z lewej, albo tylko z prawej) wszystkie znaki obecne w tym argumencie, bez względu na ich kolejność:"
   ]
  },
  {
   "cell_type": "code",
   "execution_count": 21,
   "metadata": {},
   "outputs": [
    {
     "data": {
      "text/plain": [
       "'califragilisticexpialidocio'"
      ]
     },
     "execution_count": 21,
     "metadata": {},
     "output_type": "execute_result"
    }
   ],
   "source": [
    "'supercalifragilisticexpialidocious'.strip( 'super' )"
   ]
  },
  {
   "cell_type": "markdown",
   "metadata": {},
   "source": [
    "#### <a id=\"2.4_b4\"></a>Znajdź lub zamień"
   ]
  },
  {
   "cell_type": "markdown",
   "metadata": {},
   "source": [
    "Metoda `find` wyszukuje pozycję _pierwszego wystąpienia_ danego znaku/pod-łańcucha wewnątrz łańcucha tekstu (jeśli nie znajdzie wystąpienia, zwraca -1). Podkreślmy, iż pokazuje nam tylko pierwsze wystąpienie; jeżeli dany znak/pod-łańcuch występuje kilkukrotnie, pozostałe wystąpienia nie będą pokazane."
   ]
  },
  {
   "cell_type": "code",
   "execution_count": 22,
   "metadata": {},
   "outputs": [
    {
     "data": {
      "text/plain": [
       "8"
      ]
     },
     "execution_count": 22,
     "metadata": {},
     "output_type": "execute_result"
    }
   ],
   "source": [
    "string_to_be_searched = 'This is python programming course.'\n",
    "\n",
    "string_to_be_searched.find( 'p' )"
   ]
  },
  {
   "cell_type": "markdown",
   "metadata": {},
   "source": [
    "Czym jest ta \"pozycja\", którą dostaliśmy? Napotykamy się tu po raz pierwszy na bardzo ważny koncept - który będzie kluczowy przy rozważaniu typów kolekcji, szczególnie list. Mając uporządkowaną kolekcję elementów - a string jest uporządkowaną kolekcją kolejnych znaków - elementy liczymy od zera, nie od jedynki. Innymi słowy, pierwszy element kolekcji ma tzw. **indeks** 0, drugi element ma indeks 1 itd.\n",
    "\n",
    "![](Images/this_is_python_programming_course.png)"
   ]
  },
  {
   "cell_type": "code",
   "execution_count": 23,
   "metadata": {},
   "outputs": [
    {
     "data": {
      "text/plain": [
       "8"
      ]
     },
     "execution_count": 23,
     "metadata": {},
     "output_type": "execute_result"
    }
   ],
   "source": [
    "string_to_be_searched.find( 'python' )"
   ]
  },
  {
   "cell_type": "code",
   "execution_count": 24,
   "metadata": {},
   "outputs": [
    {
     "data": {
      "text/plain": [
       "-1"
      ]
     },
     "execution_count": 24,
     "metadata": {},
     "output_type": "execute_result"
    }
   ],
   "source": [
    "string_to_be_searched.find( 'hello world' ) # ten string nie występuje w oryginalnym stringu, zatem find zwróci -1"
   ]
  },
  {
   "cell_type": "markdown",
   "metadata": {},
   "source": [
    "Metoda `replace` zmienia każde wystąpienie pod-stringu podanego jako pierwszy argument stringiem z drugiego argumentu:"
   ]
  },
  {
   "cell_type": "code",
   "execution_count": 25,
   "metadata": {},
   "outputs": [
    {
     "data": {
      "text/plain": [
       "'Python rocks!'"
      ]
     },
     "execution_count": 25,
     "metadata": {},
     "output_type": "execute_result"
    }
   ],
   "source": [
    "motto = 'Python sucks!'\n",
    "\n",
    "motto.replace( 'sucks' , 'rocks' )"
   ]
  },
  {
   "cell_type": "code",
   "execution_count": 27,
   "metadata": {},
   "outputs": [
    {
     "data": {
      "text/plain": [
       "'maSSachuSettS'"
      ]
     },
     "execution_count": 27,
     "metadata": {},
     "output_type": "execute_result"
    }
   ],
   "source": [
    "'massachusetts'.replace( 's' , 'S' )"
   ]
  },
  {
   "cell_type": "markdown",
   "metadata": {},
   "source": [
    "#### <a id=\"2.4_b5\"></a>Sprawdź cechę stringu"
   ]
  },
  {
   "cell_type": "markdown",
   "metadata": {},
   "source": [
    "Poniższe metody zwracają obiekt typu `bool`; bywają więc pomocne przy konstrukcji wszelakich warunków dotyczących stringów."
   ]
  },
  {
   "cell_type": "markdown",
   "metadata": {},
   "source": [
    "Czy każdy znak jest literą?"
   ]
  },
  {
   "cell_type": "code",
   "execution_count": 33,
   "metadata": {},
   "outputs": [
    {
     "data": {
      "text/plain": [
       "True"
      ]
     },
     "execution_count": 33,
     "metadata": {},
     "output_type": "execute_result"
    }
   ],
   "source": [
    "'abc'.isalpha()"
   ]
  },
  {
   "cell_type": "code",
   "execution_count": 34,
   "metadata": {},
   "outputs": [
    {
     "data": {
      "text/plain": [
       "False"
      ]
     },
     "execution_count": 34,
     "metadata": {},
     "output_type": "execute_result"
    }
   ],
   "source": [
    "'abc def'.isalpha()"
   ]
  },
  {
   "cell_type": "code",
   "execution_count": 39,
   "metadata": {},
   "outputs": [
    {
     "data": {
      "text/plain": [
       "False"
      ]
     },
     "execution_count": 39,
     "metadata": {},
     "output_type": "execute_result"
    }
   ],
   "source": [
    "'abc123'.isalpha()"
   ]
  },
  {
   "cell_type": "code",
   "execution_count": 41,
   "metadata": {},
   "outputs": [
    {
     "data": {
      "text/plain": [
       "False"
      ]
     },
     "execution_count": 41,
     "metadata": {},
     "output_type": "execute_result"
    }
   ],
   "source": [
    "'123'.isalpha()"
   ]
  },
  {
   "cell_type": "markdown",
   "metadata": {},
   "source": [
    "Czy każdy znak jest literą lub cyfrą?"
   ]
  },
  {
   "cell_type": "code",
   "execution_count": 36,
   "metadata": {},
   "outputs": [
    {
     "data": {
      "text/plain": [
       "True"
      ]
     },
     "execution_count": 36,
     "metadata": {},
     "output_type": "execute_result"
    }
   ],
   "source": [
    "'abc'.isalnum()"
   ]
  },
  {
   "cell_type": "code",
   "execution_count": 37,
   "metadata": {},
   "outputs": [
    {
     "data": {
      "text/plain": [
       "False"
      ]
     },
     "execution_count": 37,
     "metadata": {},
     "output_type": "execute_result"
    }
   ],
   "source": [
    "'abc def'.isalnum()"
   ]
  },
  {
   "cell_type": "code",
   "execution_count": 40,
   "metadata": {},
   "outputs": [
    {
     "data": {
      "text/plain": [
       "True"
      ]
     },
     "execution_count": 40,
     "metadata": {},
     "output_type": "execute_result"
    }
   ],
   "source": [
    "'abc123'.isalnum()"
   ]
  },
  {
   "cell_type": "code",
   "execution_count": 42,
   "metadata": {},
   "outputs": [
    {
     "data": {
      "text/plain": [
       "True"
      ]
     },
     "execution_count": 42,
     "metadata": {},
     "output_type": "execute_result"
    }
   ],
   "source": [
    "'123'.isalnum()"
   ]
  },
  {
   "cell_type": "markdown",
   "metadata": {},
   "source": [
    "Czy każdy znak jest cyfrą?"
   ]
  },
  {
   "cell_type": "code",
   "execution_count": 43,
   "metadata": {},
   "outputs": [
    {
     "data": {
      "text/plain": [
       "False"
      ]
     },
     "execution_count": 43,
     "metadata": {},
     "output_type": "execute_result"
    }
   ],
   "source": [
    "'abc'.isdigit()"
   ]
  },
  {
   "cell_type": "code",
   "execution_count": 44,
   "metadata": {},
   "outputs": [
    {
     "data": {
      "text/plain": [
       "False"
      ]
     },
     "execution_count": 44,
     "metadata": {},
     "output_type": "execute_result"
    }
   ],
   "source": [
    "'abc def'.isdigit()"
   ]
  },
  {
   "cell_type": "code",
   "execution_count": 45,
   "metadata": {},
   "outputs": [
    {
     "data": {
      "text/plain": [
       "False"
      ]
     },
     "execution_count": 45,
     "metadata": {},
     "output_type": "execute_result"
    }
   ],
   "source": [
    "'abc123'.isdigit()"
   ]
  },
  {
   "cell_type": "code",
   "execution_count": 46,
   "metadata": {},
   "outputs": [
    {
     "data": {
      "text/plain": [
       "True"
      ]
     },
     "execution_count": 46,
     "metadata": {},
     "output_type": "execute_result"
    }
   ],
   "source": [
    "'123'.isdigit()"
   ]
  },
  {
   "cell_type": "markdown",
   "metadata": {},
   "source": [
    "Czy wszystkie znaki pisane są małą/wielką literą?"
   ]
  },
  {
   "cell_type": "code",
   "execution_count": 48,
   "metadata": {},
   "outputs": [
    {
     "data": {
      "text/plain": [
       "True"
      ]
     },
     "execution_count": 48,
     "metadata": {},
     "output_type": "execute_result"
    }
   ],
   "source": [
    "'abc'.islower()"
   ]
  },
  {
   "cell_type": "code",
   "execution_count": 49,
   "metadata": {},
   "outputs": [
    {
     "data": {
      "text/plain": [
       "True"
      ]
     },
     "execution_count": 49,
     "metadata": {},
     "output_type": "execute_result"
    }
   ],
   "source": [
    "'abc def'.islower()"
   ]
  },
  {
   "cell_type": "code",
   "execution_count": 50,
   "metadata": {},
   "outputs": [
    {
     "data": {
      "text/plain": [
       "True"
      ]
     },
     "execution_count": 50,
     "metadata": {},
     "output_type": "execute_result"
    }
   ],
   "source": [
    "'abc123'.islower()"
   ]
  },
  {
   "cell_type": "code",
   "execution_count": 51,
   "metadata": {},
   "outputs": [
    {
     "data": {
      "text/plain": [
       "False"
      ]
     },
     "execution_count": 51,
     "metadata": {},
     "output_type": "execute_result"
    }
   ],
   "source": [
    "'123'.islower()"
   ]
  },
  {
   "cell_type": "markdown",
   "metadata": {},
   "source": [
    "... oraz:"
   ]
  },
  {
   "cell_type": "code",
   "execution_count": 56,
   "metadata": {},
   "outputs": [
    {
     "data": {
      "text/plain": [
       "True"
      ]
     },
     "execution_count": 56,
     "metadata": {},
     "output_type": "execute_result"
    }
   ],
   "source": [
    "'ABC'.isupper()"
   ]
  },
  {
   "cell_type": "code",
   "execution_count": 57,
   "metadata": {},
   "outputs": [
    {
     "data": {
      "text/plain": [
       "True"
      ]
     },
     "execution_count": 57,
     "metadata": {},
     "output_type": "execute_result"
    }
   ],
   "source": [
    "'ABC DEF'.isupper()"
   ]
  },
  {
   "cell_type": "code",
   "execution_count": 58,
   "metadata": {},
   "outputs": [
    {
     "data": {
      "text/plain": [
       "True"
      ]
     },
     "execution_count": 58,
     "metadata": {},
     "output_type": "execute_result"
    }
   ],
   "source": [
    "'ABC123'.isupper()"
   ]
  },
  {
   "cell_type": "code",
   "execution_count": 59,
   "metadata": {},
   "outputs": [
    {
     "data": {
      "text/plain": [
       "False"
      ]
     },
     "execution_count": 59,
     "metadata": {},
     "output_type": "execute_result"
    }
   ],
   "source": [
    "'123'.isupper()"
   ]
  },
  {
   "cell_type": "markdown",
   "metadata": {},
   "source": [
    "Czy string zaczyna się od/kończy się na danym pod-stringu?"
   ]
  },
  {
   "cell_type": "code",
   "execution_count": 62,
   "metadata": {},
   "outputs": [
    {
     "data": {
      "text/plain": [
       "True"
      ]
     },
     "execution_count": 62,
     "metadata": {},
     "output_type": "execute_result"
    }
   ],
   "source": [
    "'William Shakespeare'.startswith( 'Will' )"
   ]
  },
  {
   "cell_type": "code",
   "execution_count": 63,
   "metadata": {},
   "outputs": [
    {
     "data": {
      "text/plain": [
       "True"
      ]
     },
     "execution_count": 63,
     "metadata": {},
     "output_type": "execute_result"
    }
   ],
   "source": [
    "'William Shakespeare'.endswith( 'e' )"
   ]
  },
  {
   "cell_type": "markdown",
   "metadata": {},
   "source": [
    "## <a id=\"3\"></a>3. Zadania domowe"
   ]
  },
  {
   "cell_type": "markdown",
   "metadata": {},
   "source": [
    "<img style = 'float: left; margin-right: 10px; margin-bottom: 10px' src = 'Images/question.png'> Dłuższe ćwiczenie 11: Twoim zadaniem jest stworzenie stringu, który będzie zawierał w sobie informacje o najpopularniejszym języku programowania wg. wskaźnika PYPL.\n",
    "\n",
    "`As of <current_year>, <language> is the most popular language (according to PYPL index). Its share index is <share_percentage>%.`\n",
    "\n",
    "Informacje o roku, języku programowania oraz wskaźniku przechowaj w zmiennych `current_year`, `language`, `share_percentage` (niech wartość zmiennej `current_year` będzie typu `int`, a zmiennej `share_percentage` typu `float`).\n",
    "\n",
    "Dane te znajdziesz [tutaj](http://pypl.github.io/PYPL.html).\n",
    "\n",
    "Skonstruuj to zdanie na trzy różne sposoby:\n",
    "\n",
    "(a) Poprzez tradycyjne łączenie stringów (operator `+`). Wynik przechowaj w zmiennej `pypl_concatenated`.\n",
    "\n",
    "(b) Poprzez interpolację stringów (f-strings). Wynik przechowaj w zmiennej `pypl_fstring`.\n",
    "\n",
    "(c)  Poprzez metodę `format`. Wynik przechowaj w zmiennej `pypl_str_format`."
   ]
  },
  {
   "cell_type": "code",
   "execution_count": null,
   "metadata": {},
   "outputs": [],
   "source": [
    "# dłuższe ćwiczenie 11 - definicja zmiennych\n",
    "\n"
   ]
  },
  {
   "cell_type": "code",
   "execution_count": null,
   "metadata": {},
   "outputs": [],
   "source": [
    "# dłuższe ćwiczenie 11a - rozwiązanie\n",
    "\n"
   ]
  },
  {
   "cell_type": "code",
   "execution_count": null,
   "metadata": {},
   "outputs": [],
   "source": [
    "# dłuższe ćwiczenie 11b - rozwiązanie\n",
    "\n"
   ]
  },
  {
   "cell_type": "code",
   "execution_count": null,
   "metadata": {},
   "outputs": [],
   "source": [
    "# dłuższe ćwiczenie 11c - rozwiązanie\n",
    "\n"
   ]
  },
  {
   "cell_type": "markdown",
   "metadata": {},
   "source": [
    "<img style = 'float: left; margin-right: 10px; margin-bottom: 10px' src = 'Images/question.png'> Szybkie ćwiczenie 12: Przeedytuj zmienne `some_failing_sentence_1`, `some_failing_sentence_2` tak, aby interpreter przestał zwracać błędy `SyntaxError` oraz `TypeError`."
   ]
  },
  {
   "cell_type": "code",
   "execution_count": null,
   "metadata": {},
   "outputs": [],
   "source": [
    "# szybkie ćwiczenie 12a - rozwiązanie\n",
    "\n",
    "some_failing_sentence_1 = 'Ooops, looks like it's failing'\n",
    "\n",
    "print( some_failing_sentence_1 )"
   ]
  },
  {
   "cell_type": "code",
   "execution_count": null,
   "metadata": {},
   "outputs": [],
   "source": [
    "# szybkie ćwiczenie 12b - rozwiązanie\n",
    "\n",
    "some_failing_sentence_2 = \"In Poland, you have to be at least \" + 18 + \" years old to vote.\"\n",
    "\n",
    "print( some_failing_sentence_2 )"
   ]
  },
  {
   "cell_type": "markdown",
   "metadata": {},
   "source": [
    "<img style = 'float: left; margin-right: 10px; margin-bottom: 10px' src = 'Images/question.png'> Szybkie ćwiczenie 13: Zdefiniuj zmienne `room_lenght` i `room_width` opisujące wymiary pokoju w metrach, przypisz im jakieś wartości. Wydrukuj zdanie, \"Room's area is <...> square meters.\", gdzie w miejsce wielokropka wpisujesz powierzchnię pokoju."
   ]
  },
  {
   "cell_type": "code",
   "execution_count": null,
   "metadata": {},
   "outputs": [],
   "source": [
    "# szybkie ćwiczenie 13 - rozwiązanie\n",
    "\n"
   ]
  },
  {
   "cell_type": "markdown",
   "metadata": {},
   "source": [
    "<img style = 'float: left; margin-right: 10px; margin-bottom: 10px' src = 'Images/question.png'> Szybkie ćwiczenie 13: Zdefiniuj zmienną `num` jako jakąś liczbę całkowitą, np. 786.\n",
    "\n",
    "(a) Zdefiniuj (i wydrukuj jej wartość) zmienną logiczną (np. `is_divisible_by_2`), odpowiadającą na pytanie, \"czy wartość w zmiennej `num` jest podzielna przez 2?\" Podobnie zdefiniuj zmienne `is_divisible_by_3` i `is_divisible_by_5`, sprawdzające warunek podzielności przez 3 i 5, odpowiednio.\n",
    "\n",
    "(b) Zdefiniuj (i wydrukuj jej wartość) zmienną logiczną sprawdzającą podzielność przez 2 i przez 3 i przez 5...\n",
    "\n",
    "(c) ... przez 2 lub przez 3 lub przez 5...\n",
    "\n",
    "(d) ... przez 2 i przez 3 lub 5...\n",
    "\n",
    "(e) ... przez żadną z tych liczb."
   ]
  },
  {
   "cell_type": "code",
   "execution_count": null,
   "metadata": {},
   "outputs": [],
   "source": [
    "# szybkie ćwiczenie 13a - rozwiązanie\n",
    "\n"
   ]
  },
  {
   "cell_type": "code",
   "execution_count": null,
   "metadata": {},
   "outputs": [],
   "source": [
    "# szybkie ćwiczenie 13b - rozwiązanie\n",
    "\n"
   ]
  },
  {
   "cell_type": "code",
   "execution_count": null,
   "metadata": {},
   "outputs": [],
   "source": [
    "# szybkie ćwiczenie 13c - rozwiązanie\n",
    "\n"
   ]
  },
  {
   "cell_type": "code",
   "execution_count": null,
   "metadata": {},
   "outputs": [],
   "source": [
    "# szybkie ćwiczenie 13d - rozwiązanie\n",
    "\n"
   ]
  },
  {
   "cell_type": "code",
   "execution_count": null,
   "metadata": {},
   "outputs": [],
   "source": [
    "# szybkie ćwiczenie 13e - rozwiązanie\n",
    "\n"
   ]
  },
  {
   "cell_type": "markdown",
   "metadata": {},
   "source": [
    "<img style = 'float: left; margin-right: 10px; margin-bottom: 10px' src = 'Images/question.png'> Szybkie ćwiczenie 14: Prześledź operacje wykonywane na zmiennej `some_number` (bez wykonywania komórki z kodem) i wprowadź do zmiennej `my_guess` wartość, jaką finalnie przyjmie według Ciebie ta zmienna. Czy masz rację?"
   ]
  },
  {
   "cell_type": "code",
   "execution_count": null,
   "metadata": {},
   "outputs": [],
   "source": [
    "# szybkie ćwiczenie 14 - rozwiązanie\n",
    "\n",
    "some_number = 0\n",
    "some_number += 1\n",
    "some_number = 1\n",
    "some_number += 2\n",
    "some_number -= 1\n",
    "some_number %= 2\n",
    "\n",
    "my_guess = ____ # wpisz tu przewidywaną wartość\n",
    "\n",
    "if some_number == my_guess:\n",
    "    print( f'You are correct! some_number after all the operations equals to: {some_number}.' )\n",
    "else:\n",
    "    print( f'Actual value of some_number is {some_number}, and your guess is {my_guess}.' )\n",
    "    print( 'Please try to go through the operations once again.' )"
   ]
  },
  {
   "cell_type": "code",
   "execution_count": null,
   "metadata": {},
   "outputs": [],
   "source": []
  }
 ],
 "metadata": {
  "colab": {
   "collapsed_sections": [],
   "name": "Copy of let_them_code_zmienne_stringi_typy_danych_operatory.ipynb",
   "provenance": []
  },
  "kernelspec": {
   "display_name": "Python 3",
   "language": "python",
   "name": "python3"
  },
  "language_info": {
   "codemirror_mode": {
    "name": "ipython",
    "version": 3
   },
   "file_extension": ".py",
   "mimetype": "text/x-python",
   "name": "python",
   "nbconvert_exporter": "python",
   "pygments_lexer": "ipython3",
   "version": "3.7.9"
  }
 },
 "nbformat": 4,
 "nbformat_minor": 4
}
