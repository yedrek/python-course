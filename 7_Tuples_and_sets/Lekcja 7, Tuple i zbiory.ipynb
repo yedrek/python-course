{
 "cells": [
  {
   "cell_type": "markdown",
   "metadata": {},
   "source": [
    "# Lekcja 7: Tuple i zbiory"
   ]
  },
  {
   "cell_type": "markdown",
   "metadata": {},
   "source": [
    "## Spis treści"
   ]
  },
  {
   "cell_type": "markdown",
   "metadata": {},
   "source": [
    "<a href=\"#1\">1. Tuple</a>\n",
    "\n",
    "\n",
    "- <a href=\"#1.1\">1.1. Co to jest tupla?</a>\n",
    "    - <a href=\"#1.1_b1\">Przypomnienie o kolekcjach w Pythonie</a>\n",
    "    - <a href=\"#1.1_b2\">Tuple</a>\n",
    "    - <a href=\"#1.1_b3\">Po co są tuple?</a>\n",
    "\n",
    "\n",
    "- <a href=\"#1.2\">1.2. Tworzenie tupli</a>\n",
    "    - <a href=\"#1.2_b1\">Elementy w nawiasach okrągłych</a>\n",
    "    - <a href=\"#1.2_b2\">Tupla pusta</a>\n",
    "    - <a href=\"#1.2_b3\">Tupla 1-elementowa</a>\n",
    "    - <a href=\"#1.2_b4\">Konwersja innej kolekcji do tupli</a>\n",
    "    - <a href=\"#1.2_b5\">Pakowanie i wypakowywanie tupli</a>\n",
    "    - <a href=\"#1.2_b6\">(\\*) Operator gwiazdki `*`</a>\n",
    "\n",
    "\n",
    "- <a href=\"#1.3\">1.3. Tuple są uporządkowane - indeks</a>\n",
    "\n",
    "\n",
    "- <a href=\"#1.4\">1.4. Tupli nie można modyfikować</a>\n",
    "    - <a href=\"#1.4_b1\">Zmiana wartości elementów</a>\n",
    "    - <a href=\"#1.4_b2\">Dodawanie i usuwanie elementów z tupli</a>\n",
    "\n",
    "\n",
    "- <a href=\"#1.5\">1.5. Użyteczne funkcje, metody, operatory na tuplach</a>\n",
    "    - <a href=\"#1.5_b1\">Funkcje</a>\n",
    "    - <a href=\"#1.5_b2\">Metody</a>\n",
    "    - <a href=\"#1.5_b3\">Operatory</a>\n",
    "  \n",
    "  \n",
    "- <a href=\"#1.6\">1.6. Iterowanie przez tuplę</a>\n",
    "    - <a href=\"#1.6_b1\">Iterowanie się pętlą `for` przez tuplę</a>\n",
    "    - <a href=\"#1.6_b2\">Funkcje `enumerate` i `zip` tworzą listy tupli</a>\n",
    "    - <a href=\"#1.6_b3\">\"Tuple comprehension\" nie istnieje. Generatory</a>\n",
    "\n",
    "\n",
    "<a href=\"#2\">2. Zbiory</a>\n",
    "\n",
    "\n",
    "- <a href=\"#2.1\">2.1. Co to jest zbiór?</a>\n",
    "\n",
    "\n",
    "- <a href=\"#2.2\">2.2. Tworzenie zbiorów</a>\n",
    "    - <a href=\"#2.2_b1\">Elementy w nawiasach klamrowych</a>\n",
    "    - <a href=\"#2.2_b2\">Zbiór pusty</a>\n",
    "    - <a href=\"#2.2_b3\">Konwersja innej kolekcji do zbioru; usuwanie duplikatów</a>\n",
    "  \n",
    "  \n",
    "- <a href=\"#2.3\">2.3. Zbiory są nieuporządkowane</a>\n",
    "\n",
    "\n",
    "- <a href=\"#2.4\">2.4. Zbiorów nie można modyfikować</a>\n",
    "\n",
    "\n",
    "- <a href=\"#2.5\">2.5. Operacje na zbiorach</a>\n",
    "\n",
    "\n",
    "- <a href=\"#2.6\">2.6. Iterowanie przez zbiór i składnia \"set comprehension\"</a>\n",
    "\n",
    "\n",
    "<a href=\"#3\">3. Zadania domowe</a>"
   ]
  },
  {
   "cell_type": "markdown",
   "metadata": {},
   "source": [
    "## <a id=\"1\"></a>1. Tuple"
   ]
  },
  {
   "cell_type": "markdown",
   "metadata": {},
   "source": [
    "### <a id=\"1.1\"></a>1.1. Co to jest tupla?"
   ]
  },
  {
   "cell_type": "markdown",
   "metadata": {},
   "source": [
    "#### <a id=\"1.1_b1\"></a>Przypomnienie o kolekcjach w Pythonie"
   ]
  },
  {
   "cell_type": "markdown",
   "metadata": {},
   "source": [
    "Na początku Lekcji 5 dowiedzieliśmy się, że w Pythonie występuje kilka struktur danych opisujących _kolekcje_ elementów - a więc zbierających pewną liczbę elementów w jeden obiekt - z których podstawowe to:\n",
    "\n",
    "- listy (typ `list`),\n",
    "\n",
    "- tuple/krotki (typ `tuple`),\n",
    "\n",
    "- zbiory (typ `set`),\n",
    "\n",
    "- słowniki (typ `dict`),\n",
    "\n",
    "a także:\n",
    "\n",
    "- stringi (typ `str`).\n",
    "\n",
    "<img style = 'float: right; margin-left: 10px; margin-bottom: 10px' src = 'Images/lotto.png' width = '600px'>\n",
    "\n",
    "Powiedzieliśmy też, że podstawowe rozróżnienie między nimi sprowadza się do dwóch cech: czy kolekcja jest uporządkowana, czy nie; a także czy da się ją modyfikować, czy nie. Pod pierwszym względem:\n",
    "\n",
    "- listy i tuple są uporządkowane - mają pojęcie indeksu, opisującego kolejność elementów (\"pierwszy\", \"drugi\" itd.);\n",
    "\n",
    "- zbiory i słowniki nie są uporządkowane - nie mają pojęcia indeksu.\n",
    "\n",
    "Pod drugim względem:\n",
    "\n",
    "- listy i słowniki można dowolnie modyfikować - zmieniać wartość ich elementów bądź skład kolekcji (dodawanie/usuwanie elementów);\n",
    "\n",
    "- tupli nie można w żaden sposób modyfikować;\n",
    "\n",
    "- zbiory można modyfikować tylko poprzez dodawanie/usuwanie elementów, ale nie można zmieniać wartości istniejących elementów.\n",
    "\n",
    "Lekcje 5-6 poświęcone były w dość szczegółowym stopniu listom. W Lekcjach 7-8 omówimy trzy pozostałe typy kolekcji. Wiele z pojęć poznanych wcześniej będzie tu bardzo podobnych, zatem nauka powinna być szybsza - i stanowić zarazem utrwalenie ogólnej wiedzy o kolekcjach."
   ]
  },
  {
   "cell_type": "markdown",
   "metadata": {},
   "source": [
    "#### <a id=\"1.1_b2\"></a>Tuple"
   ]
  },
  {
   "cell_type": "markdown",
   "metadata": {},
   "source": [
    "W tej sekcji zajmiemy się **tuplami**, zwanymi inaczej **krotkami** (\"tuples\"), czyli kolekcjami:\n",
    "\n",
    "- uporządkowanymi,\n",
    "\n",
    "- niemutowalnymi.\n",
    "\n",
    "Podobnie zatem jak w przypadku list, będziemy mieli pojęcie indeksu i możliwość dostępu do elementów tupli poprzez indeks lub składnię segmentów. Odwrotnie jednak jak przy listach:\n",
    "\n",
    "- nie istnieje możliwość zmiany długości raz utworzonej krotki,\n",
    "\n",
    "- ani też wartości powiązanej z konkretną pozycją utworzonej krotki.\n",
    "\n",
    "Innymi słowy, ich ostateczny kształt zostaje zamrożony w chwili definicji; aby utworzyć krotkę, musimy więc z góry znać wartości każdego z jej elementów."
   ]
  },
  {
   "cell_type": "markdown",
   "metadata": {},
   "source": [
    "#### <a id=\"1.1_b3\"></a>Po co są tuple?"
   ]
  },
  {
   "cell_type": "markdown",
   "metadata": {},
   "source": [
    "- W niektórych przypadkach niemutowalna kolekcja pozwala ograniczyć ryzyko błędu lub nieprzewidzianego zachowania, jako że niemożliwe ją zmienić przypadkowo.\n",
    "\n",
    "- Tuple często używane są w kontekście funkcji - o których w Lekcjach 9-10 - służąc do przekazywania funkcji argumentów lub też do zwracania przez funkcję rezultatów.\n",
    "\n",
    "- Poniżej będziemy uczyć się o słownikach i zobaczymy, że tzw. klucze słownika muszą być niemutowalne; zatem w szczególności nie możemy jako kluczy użyć list - zamiast nich możemy wykorzystać tuple.\n",
    "\n",
    "- Operacje na tuplach są szybsze niż na listach, choć to jest zauważalne dopiero dla dużych kolekcji."
   ]
  },
  {
   "cell_type": "markdown",
   "metadata": {},
   "source": [
    "### <a id=\"1.2\"></a>1.2. Tworzenie tupli"
   ]
  },
  {
   "cell_type": "markdown",
   "metadata": {},
   "source": [
    "#### <a id=\"1.2_b1\"></a>Elementy w nawiasach okrągłych"
   ]
  },
  {
   "cell_type": "markdown",
   "metadata": {},
   "source": [
    "Tuple tworzymy poprzez zebranie elementów rozdzielonych przecinkami wewnątrz nawiasów okrągłych, np.:"
   ]
  },
  {
   "cell_type": "code",
   "execution_count": null,
   "metadata": {},
   "outputs": [],
   "source": [
    "k = ( 'abc' , 34 ) # tupla 2-elementowa"
   ]
  },
  {
   "cell_type": "markdown",
   "metadata": {},
   "source": [
    "Możemy sprawdzić jej typ znaną nam już funkcją `type`:"
   ]
  },
  {
   "cell_type": "code",
   "execution_count": null,
   "metadata": {},
   "outputs": [],
   "source": [
    "type( k )"
   ]
  },
  {
   "cell_type": "markdown",
   "metadata": {},
   "source": [
    "Podobnie jak przy listach, elementy mogą być zupełnie dowolnego typu - tutaj mamy np. string i liczbę całkowitą."
   ]
  },
  {
   "cell_type": "markdown",
   "metadata": {},
   "source": [
    "#### <a id=\"1.2_b2\"></a>Tupla pusta"
   ]
  },
  {
   "cell_type": "markdown",
   "metadata": {},
   "source": [
    "Analogicznie jak pusta lista, `[]`, pusta tupla, tj. niezawierająca żadnych elementów:"
   ]
  },
  {
   "cell_type": "code",
   "execution_count": null,
   "metadata": {},
   "outputs": [],
   "source": [
    "empty_tuple = ()"
   ]
  },
  {
   "cell_type": "code",
   "execution_count": null,
   "metadata": {},
   "outputs": [],
   "source": [
    "type( empty_tuple )"
   ]
  },
  {
   "cell_type": "markdown",
   "metadata": {},
   "source": [
    "#### <a id=\"1.2_b3\"></a>Tupla 1-elementowa"
   ]
  },
  {
   "cell_type": "markdown",
   "metadata": {},
   "source": [
    "Pewna subtelność występuje przy konstrukcji tupli zawierającej tylko jeden element."
   ]
  },
  {
   "cell_type": "markdown",
   "metadata": {},
   "source": [
    "<img style = 'float: left; margin-right: 10px; margin-bottom: 10px' src = 'Images/question.png'> Szybkie ćwiczenie 1: Można by się spodziewać, że tuplę jednoelementową konstruujemy następująco: `one = ( 'the only element' )` (tutaj tym jednym elementem jest string). Wykonaj to przypisanie i sprawdź, jaki typ ma zmienna `one`. Czy jest to tupla, czy inny obiekt?"
   ]
  },
  {
   "cell_type": "code",
   "execution_count": null,
   "metadata": {},
   "outputs": [],
   "source": [
    "# szybkie ćwiczenie 1 - rozwiązanie\n",
    "\n"
   ]
  },
  {
   "cell_type": "markdown",
   "metadata": {},
   "source": [
    "Właściwa konstrukcja tupli jednoelementowej to:"
   ]
  },
  {
   "cell_type": "code",
   "execution_count": null,
   "metadata": {},
   "outputs": [],
   "source": [
    "one = ( 'the only element' , )\n",
    "\n",
    "type( one )"
   ]
  },
  {
   "cell_type": "markdown",
   "metadata": {},
   "source": [
    "... gdzie zwróćmy uwagę na przecinek, który musi się pojawić przed zamykającym nawiasem."
   ]
  },
  {
   "cell_type": "markdown",
   "metadata": {},
   "source": [
    "<img style = 'float: left; margin-right: 10px; margin-bottom: 10px' src = 'Images/question.png'> Szybkie ćwiczenie 2: Co się stanie, jeśli przecinek postawimy na końcu tupli, która ma więcej elementów niż 1?"
   ]
  },
  {
   "cell_type": "code",
   "execution_count": null,
   "metadata": {},
   "outputs": [],
   "source": [
    "# szybkie ćwiczenie 2 - rozwiązanie\n",
    "\n"
   ]
  },
  {
   "cell_type": "markdown",
   "metadata": {},
   "source": [
    "Okazuje się, że jest to prawdą także dla innych kolekcji - ostatni przecinek jest przez Pythona ignorowany! Ma to praktyczne znaczenie - często wypisując elementy kolekcji dokonujemy wielokrotnych poprawek, wycinania i wklejania elementów itp. Dzięki tej własności możemy kopiować/wklejać element razem z przecinkiem, nie dbając o to, czy jest elementem ostatnim, czy nie."
   ]
  },
  {
   "cell_type": "code",
   "execution_count": null,
   "metadata": {},
   "outputs": [],
   "source": [
    "[ 1 , 2 , 3 , ]"
   ]
  },
  {
   "cell_type": "markdown",
   "metadata": {},
   "source": [
    "#### <a id=\"1.2_b4\"></a>Konwersja innej kolekcji do tupli"
   ]
  },
  {
   "cell_type": "markdown",
   "metadata": {},
   "source": [
    "Dość często przydawało nam się do tej pory konwertowanie różnych obiektów na inne typy, np. `int` na `str` (`5` → `'5'`), `str` na `int` (`'5'` → `5`), `str` na `list` (`'abc'` → `['a', 'b', 'c']`) itd. Konwersja taka działa, gdy \"ma ona sens\". Dokonujemy jej - przypomnijmy - poprzez zastosowanie funkcji o nazwie takiej, jak typ _na jaki_ konwertujemy.\n",
    "\n",
    "Możemy więc wszelkie kolekcje konwertować na tuple funkcją `tuple`. Np. listę:"
   ]
  },
  {
   "cell_type": "code",
   "execution_count": null,
   "metadata": {},
   "outputs": [],
   "source": [
    "tuple( [ 1 , 2 , 3 , 4 , 5 ] )"
   ]
  },
  {
   "cell_type": "markdown",
   "metadata": {},
   "source": [
    "... czy string:"
   ]
  },
  {
   "cell_type": "code",
   "execution_count": null,
   "metadata": {},
   "outputs": [],
   "source": [
    "tuple( 'abc' )"
   ]
  },
  {
   "cell_type": "markdown",
   "metadata": {},
   "source": [
    "#### <a id=\"1.2_b5\"></a>Pakowanie i wypakowywanie tupli"
   ]
  },
  {
   "cell_type": "markdown",
   "metadata": {},
   "source": [
    "Tuple możemy też tworzyć pomijając nawiasy - tę operację nazywamy **pakowaniem** (\"packing\"). Na przykład wyrażenie `10, 20` utworzy nam tuplę w ten sam sposób, w jaki moglibyśmy ją utworzyć przy pomocy \"pełnego\" wyrażenia `(10, 20)`:"
   ]
  },
  {
   "cell_type": "code",
   "execution_count": null,
   "metadata": {},
   "outputs": [],
   "source": [
    "p = 10 , 20 # zmiennej p przypisujemy tuplę dwuelementową (10, 20)"
   ]
  },
  {
   "cell_type": "code",
   "execution_count": null,
   "metadata": {},
   "outputs": [],
   "source": [
    "type( p )"
   ]
  },
  {
   "cell_type": "code",
   "execution_count": null,
   "metadata": {},
   "outputs": [],
   "source": [
    "p"
   ]
  },
  {
   "cell_type": "markdown",
   "metadata": {},
   "source": [
    "<img style = 'float: left; margin-right: 10px; margin-bottom: 10px' src = 'Images/question.png'> Szybkie ćwiczenie 3: Utwórz tuplę 1-elementową (niech tym elementem będzie np. string `'the only element'`) za pomocą składni pakowania."
   ]
  },
  {
   "cell_type": "code",
   "execution_count": null,
   "metadata": {},
   "outputs": [],
   "source": [
    "# szybkie ćwiczenie 3 - rozwiązanie\n",
    "\n"
   ]
  },
  {
   "cell_type": "markdown",
   "metadata": {},
   "source": [
    "Operacją odwrotną jest tzw. **wypakowywanie** (\"unpacking\") - polega ona na rozbijaniu tupli z powrotem na pojedyncze wartości i przypisywanie ich do osobnych zmiennych."
   ]
  },
  {
   "cell_type": "code",
   "execution_count": null,
   "metadata": {},
   "outputs": [],
   "source": [
    "p"
   ]
  },
  {
   "cell_type": "code",
   "execution_count": null,
   "metadata": {},
   "outputs": [],
   "source": [
    "a , b = p # tuplę dwuelementową p wypakowujemy do zmiennych a, b\n",
    "\n",
    "print( f'a = {a}' )\n",
    "print( f'b = {b}' )"
   ]
  },
  {
   "cell_type": "markdown",
   "metadata": {},
   "source": [
    "Powyższe wyrażenie przypisze kolejne wartości z tupli (a więc `10` i `20`) odpowiednio do zmiennych `a` oraz `b`."
   ]
  },
  {
   "cell_type": "markdown",
   "metadata": {},
   "source": [
    "<img style = 'float: left; margin-right: 10px; margin-bottom: 10px' src = 'Images/question.png'> Szybkie ćwiczenie 4: Sprawdź, co się stanie:\n",
    "\n",
    "(a) przy próbie wypakowania tupli, która jest krótsza niż liczba zmiennych, do których chcemy ją wypakować;\n",
    "\n",
    "(b) jeśli tupla będzie dłuższa niż liczba tych zmiennych;\n",
    "\n",
    "(c) jeśli spróbujemy wypakować listę."
   ]
  },
  {
   "cell_type": "code",
   "execution_count": null,
   "metadata": {},
   "outputs": [],
   "source": [
    "# szybkie ćwiczenie 4a - rozwiązanie\n",
    "\n"
   ]
  },
  {
   "cell_type": "code",
   "execution_count": null,
   "metadata": {},
   "outputs": [],
   "source": [
    "# szybkie ćwiczenie 4b - rozwiązanie\n",
    "\n"
   ]
  },
  {
   "cell_type": "code",
   "execution_count": null,
   "metadata": {},
   "outputs": [],
   "source": [
    "# szybkie ćwiczenie 4c - rozwiązanie\n",
    "\n"
   ]
  },
  {
   "cell_type": "markdown",
   "metadata": {},
   "source": [
    "Czasem zdarza się, iż mamy tuplę, którą chcemy wypakować do kilku zmiennych, ale nie wszystkie tak naprawdę nas interesują. Powiedzmy, że z tupli `p` interesuje nas tylko jej pierwsza wartość, którą chcemy przypisać do zmiennej `a`, zaś druga wartość nas nie interesuje; oczywiście, ciągle możemy przypisać ją do zmiennej `b` j.w., ale wówczas \"marnujemy\" nazwę `b` - używa się wtedy specjalnej nazwy zmiennej `_`, tej samej, co dla \"niemego iteratora\":"
   ]
  },
  {
   "cell_type": "code",
   "execution_count": null,
   "metadata": {},
   "outputs": [],
   "source": [
    "p"
   ]
  },
  {
   "cell_type": "code",
   "execution_count": null,
   "metadata": {},
   "outputs": [],
   "source": [
    "a , _ = p"
   ]
  },
  {
   "cell_type": "markdown",
   "metadata": {},
   "source": [
    "Pakowanie i wypakowywanie możemy połączyć w jedno wyrażenie, np.:"
   ]
  },
  {
   "cell_type": "code",
   "execution_count": null,
   "metadata": {},
   "outputs": [],
   "source": [
    "a , b = 15 , 30 # wartości 15 i 30 są pakowane do tupli (15, 30), która jest następnie wypakowywana do zmiennych a, b\n",
    "\n",
    "print( f'a = {a}' )\n",
    "print( f'b = {b}' )"
   ]
  },
  {
   "cell_type": "markdown",
   "metadata": {},
   "source": [
    "<img style = 'float: left; margin-right: 10px; margin-bottom: 10px' src = 'Images/question.png'> Szybkie ćwiczenie 5: Mamy zmienne `a` i `b`, i chcielibyśmy _zamienić je miejscami_, tj. zmienną `a` przypisać do zmiennej `b`, a `b` do `a`. Można by przeprowadzić tę operację krok po kroku jak w komórkach poniżej.\n",
    "\n",
    "Spróbuj wymyślić, jak operację takiej zamiany przeprowadzić w bardzo krótki - jednolinijkowy - sposób za pomocą pakowania i wypakowywania tupli."
   ]
  },
  {
   "cell_type": "code",
   "execution_count": null,
   "metadata": {},
   "outputs": [],
   "source": [
    "temp = a # zmienną a przypisujmy do tymczasowej zmiennej temp (od: \"temporary\")\n",
    "\n",
    "temp"
   ]
  },
  {
   "cell_type": "code",
   "execution_count": null,
   "metadata": {},
   "outputs": [],
   "source": [
    "a = b # ponieważ zmienną a już przechowaliśmy w zmiennej temp, do a możemy przypisać b bez ryzyka zapomnienia o wartości a\n",
    "\n",
    "a"
   ]
  },
  {
   "cell_type": "code",
   "execution_count": null,
   "metadata": {},
   "outputs": [],
   "source": [
    "b = temp # przypisawszy zmienną b do zmiennej a, możemy teraz orygonalną wartość a (będącą teraz w temp) przypisać do b\n",
    "\n",
    "b"
   ]
  },
  {
   "cell_type": "code",
   "execution_count": null,
   "metadata": {},
   "outputs": [],
   "source": [
    "a , b"
   ]
  },
  {
   "cell_type": "markdown",
   "metadata": {},
   "source": [
    "Wskazówka: Chcemy przypisać tuplę z elementami `b`, `a` do tupli z elementami `a`, `b`."
   ]
  },
  {
   "cell_type": "code",
   "execution_count": null,
   "metadata": {},
   "outputs": [],
   "source": [
    "# szybkie ćwiczenie 5 - rozwiązanie\n",
    "\n"
   ]
  },
  {
   "cell_type": "markdown",
   "metadata": {},
   "source": [
    "Nie da się tego piękniej rozwiązać!"
   ]
  },
  {
   "cell_type": "markdown",
   "metadata": {},
   "source": [
    "<img style = 'float: left; margin-right: 10px; margin-bottom: 10px' src = 'Images/question.png'> Szybkie ćwiczenie 6: Wypisz pierwsze 10 wartości ciągu Fibonacciego (przypomnij sobie go z Lekcji 4: $F_n = F_{n - 1} + F_{n - 2}$) zapisując zarówno warunek początkowy, jak i krok rekursywny w postaci przypisania tupli."
   ]
  },
  {
   "cell_type": "markdown",
   "metadata": {},
   "source": [
    "Wskazówka: Zmienną kumulującą jest tu dwuelementowa tupla `a, b`. Jej wartość początkowa to `0, 1` (zacznijmy iterację o krok wcześniej niż w Lekcji 4). Krok rekursywny polega na przypisaniu `a + b` do zmiennej `b`, zaś `b` do zmiennej `a`."
   ]
  },
  {
   "cell_type": "code",
   "execution_count": null,
   "metadata": {},
   "outputs": [],
   "source": [
    "# szybkie ćwiczenie 6 - rozwiązanie\n",
    "\n"
   ]
  },
  {
   "cell_type": "markdown",
   "metadata": {},
   "source": [
    "#### <a id=\"1.2_b6\"></a>(\\*) Operator gwiazdki `*`"
   ]
  },
  {
   "cell_type": "markdown",
   "metadata": {},
   "source": [
    "Wróćmy jeszcze do samego wypakowywania. Może to tego posłużyć **operator wypakowywania** (**operator gwiazdki**) `*`, który ma jednak nieco inne działanie w różnych kontekstach i może być trochę nieintuicyjny."
   ]
  },
  {
   "cell_type": "markdown",
   "metadata": {},
   "source": [
    "Pierwszym kontekstem jest gdy znajduje się on **po prawej** stronie operatora przypisania `=`. Wówczas wypakowuje on kolekcję (niekoniecznie tuplę) do zmiennych po lewej. Np.:"
   ]
  },
  {
   "cell_type": "code",
   "execution_count": null,
   "metadata": {},
   "outputs": [],
   "source": [
    "tup_1 = ( 1 , 2 , 3 )\n",
    "tup_2 = ( 4 , 5 , 6 )\n",
    "\n",
    "a , b , c , d , e , f = *tup_1 , *tup_2\n",
    "\n",
    "print( a , b , c , d , e , f )"
   ]
  },
  {
   "cell_type": "markdown",
   "metadata": {},
   "source": [
    "... lub po prostu:"
   ]
  },
  {
   "cell_type": "code",
   "execution_count": null,
   "metadata": {},
   "outputs": [],
   "source": [
    "tup = *tup_1 , *tup_2\n",
    "\n",
    "tup"
   ]
  },
  {
   "cell_type": "markdown",
   "metadata": {},
   "source": [
    "Gdybyśmy chcieli w ten sposób wypakować jedną tuplę, musimy umieścić przecinek na końcu, aby Python zrozumiał, że chodzi o tuplę:"
   ]
  },
  {
   "cell_type": "code",
   "execution_count": null,
   "metadata": {},
   "outputs": [],
   "source": [
    "tup_1_new = *tup_1 ,\n",
    "\n",
    "tup_1_new"
   ]
  },
  {
   "cell_type": "markdown",
   "metadata": {},
   "source": [
    "Moglibyśmy równie dobrze wypakować wartości w `tup_1` do np. listy:"
   ]
  },
  {
   "cell_type": "code",
   "execution_count": null,
   "metadata": {},
   "outputs": [],
   "source": [
    "tup_1_list = [ *tup_1 ]\n",
    "\n",
    "tup_1_list"
   ]
  },
  {
   "cell_type": "markdown",
   "metadata": {},
   "source": [
    "Możemy operator gwiazdki zastosować do innych kolekcji, np. stringów czy list:"
   ]
  },
  {
   "cell_type": "code",
   "execution_count": null,
   "metadata": {},
   "outputs": [],
   "source": [
    "*'abcd' ,"
   ]
  },
  {
   "cell_type": "code",
   "execution_count": null,
   "metadata": {},
   "outputs": [],
   "source": [
    "*[ 1 , 2 , 3 , 4 ] ,"
   ]
  },
  {
   "cell_type": "markdown",
   "metadata": {},
   "source": [
    "(Nie zapomnijmy o ostatnim przecinku - tworzymy przecież tuplę!)"
   ]
  },
  {
   "cell_type": "markdown",
   "metadata": {},
   "source": [
    "Drugim kontekstem jest gdy znajduje się on **po lewej** stronie operatora przypisania `=`. Oznacza on wtedy, \"złap wszystkie elementy kolekcji znajdującej się po prawej stronie operatora przypisania i przypisz do ogwiazdkowanej zmiennej - jako _listę_\". Jest to wtedy jakby \"operator łapania\". Np.:"
   ]
  },
  {
   "cell_type": "code",
   "execution_count": null,
   "metadata": {},
   "outputs": [],
   "source": [
    "*letters , = 'abcd'\n",
    "\n",
    "letters"
   ]
  },
  {
   "cell_type": "markdown",
   "metadata": {},
   "source": [
    "Operator ten łapie tylko elementy kolekcji _już nieprzypisane_ do innych zmiennych, np.:"
   ]
  },
  {
   "cell_type": "code",
   "execution_count": null,
   "metadata": {},
   "outputs": [],
   "source": [
    "first_letter , *letters , last_letter = 'abcd'\n",
    "\n",
    "print( first_letter )\n",
    "print( letters )\n",
    "print( last_letter )"
   ]
  },
  {
   "cell_type": "markdown",
   "metadata": {},
   "source": [
    "Może to wydawać się w tym momencie dość dziwne, ale kontekst ten jest często spotykany przy okazji przekazywania argumentów do funkcji (zob. Lekcja 9-10). Dzięki operatorowi gwiazdki możemy przekazać do funkcji _dowolną_ liczbę argumentów, które operator ten następnie wypakuje - efektywnie funkcja będzie miała do dyspozycji tuplę ze wszystkimi tymi argumentami. To tzw. temat \"args & kwargs\", do którego przejdziemy w Lekcji 9-10."
   ]
  },
  {
   "cell_type": "markdown",
   "metadata": {},
   "source": [
    "### <a id=\"1.3\"></a>1.3. Tuple są uporządkowane - indeks"
   ]
  },
  {
   "cell_type": "markdown",
   "metadata": {},
   "source": [
    "Podobnie jak listy, tuple są uporządkowane - ma sens powiedzieć, \"to jest pierwszy element\", \"to jest drugi element\" itd. - mają też indeks (liczony od zera!), który je numeruje. Elementy o danym indeksie wybieramy identycznie, jak w przypadku list - poprzez składnię nawiasów kwadratowych (nie okrągłych, mimo że to tupla!); w szczególności, cała składnia segmentów (\"slices\") `start_index : end_index : step` jest identycznie dostępna."
   ]
  },
  {
   "cell_type": "code",
   "execution_count": null,
   "metadata": {},
   "outputs": [],
   "source": [
    "k2 = ( 5.67 , -8 , 'Tuples are great!' , [ 5 , 6 , 7 ] , ( 'abc' , 'def' ) ) # tupla 5-elementowa (każdy element ma inny typ - może tak być)"
   ]
  },
  {
   "cell_type": "code",
   "execution_count": null,
   "metadata": {},
   "outputs": [],
   "source": [
    "k2[ 0 ] # element o indeksie 0, tj. pierwszy"
   ]
  },
  {
   "cell_type": "markdown",
   "metadata": {},
   "source": [
    "<img style = 'float: left; margin-right: 10px; margin-bottom: 10px' src = 'Images/question.png'> Szybkie ćwiczenie 7: Z tupli `k2` wybierz:\n",
    "\n",
    "(a) element ostatni (jaki ma on typ?);\n",
    "\n",
    "(b) elementy od trzeciego do końca;\n",
    "\n",
    "(c) wszystkie elementy w odwrotnej kolejności.\n",
    "\n",
    "(d) Spróbuj wybrać element o nieistniejącym indeksie, np. 7 - co się stanie?\n",
    "\n",
    "(e) Jak dostać się do elementu `6` w liście, będącej jednym z elementów tupli `k2`?"
   ]
  },
  {
   "cell_type": "code",
   "execution_count": null,
   "metadata": {},
   "outputs": [],
   "source": [
    "# szybkie ćwiczenie 7a - rozwiązanie\n",
    "\n"
   ]
  },
  {
   "cell_type": "code",
   "execution_count": null,
   "metadata": {},
   "outputs": [],
   "source": [
    "# szybkie ćwiczenie 7b - rozwiązanie\n",
    "\n"
   ]
  },
  {
   "cell_type": "code",
   "execution_count": null,
   "metadata": {},
   "outputs": [],
   "source": [
    "# szybkie ćwiczenie 7c - rozwiązanie\n",
    "\n"
   ]
  },
  {
   "cell_type": "code",
   "execution_count": null,
   "metadata": {},
   "outputs": [],
   "source": [
    "# szybkie ćwiczenie 7d - rozwiązanie\n",
    "\n"
   ]
  },
  {
   "cell_type": "code",
   "execution_count": null,
   "metadata": {},
   "outputs": [],
   "source": [
    "# szybkie ćwiczenie 7e - rozwiązanie\n",
    "\n"
   ]
  },
  {
   "cell_type": "markdown",
   "metadata": {},
   "source": [
    "### <a id=\"1.4\"></a>1.4. Tupli nie można modyfikować"
   ]
  },
  {
   "cell_type": "markdown",
   "metadata": {},
   "source": [
    "#### <a id=\"1.4_b1\"></a>Zmiana wartości elementów"
   ]
  },
  {
   "cell_type": "markdown",
   "metadata": {},
   "source": [
    "... ale jak zobaczymy, nie jest to do końca prawda! Na pewno nie można zmienić wartości konkretnego elementu; spróbujmy np. zmienić wartość pierwszego elementu tupli `k2`:"
   ]
  },
  {
   "cell_type": "code",
   "execution_count": null,
   "metadata": {},
   "outputs": [],
   "source": [
    "k2"
   ]
  },
  {
   "cell_type": "code",
   "execution_count": null,
   "metadata": {},
   "outputs": [],
   "source": [
    "k2[ 0 ] = 7777"
   ]
  },
  {
   "cell_type": "markdown",
   "metadata": {},
   "source": [
    "Jednakże jeśli elementem tupli jest obiekt mutowalny - taki, którego można zmieniać, np. lista - wtedy możemy go zmieniać!"
   ]
  },
  {
   "cell_type": "markdown",
   "metadata": {},
   "source": [
    "<img style = 'float: left; margin-right: 10px; margin-bottom: 10px' src = 'Images/question.png'> Szybkie ćwiczenie 8: Czwartym elementem tupli `k2` jest pewna lista. Spróbuj zmienić jej drugi element na `6000`."
   ]
  },
  {
   "cell_type": "code",
   "execution_count": null,
   "metadata": {},
   "outputs": [],
   "source": [
    "# szybkie ćwiczenie 8 - rozwiązanie\n",
    "\n"
   ]
  },
  {
   "cell_type": "markdown",
   "metadata": {},
   "source": [
    "#### <a id=\"1.4_b2\"></a>Dodawanie i usuwanie elementów z tupli"
   ]
  },
  {
   "cell_type": "markdown",
   "metadata": {},
   "source": [
    "Teoretycznie raz utworzonej tupli nie można modyfikować poprzez dodawanie/usuwanie z niej elementów. Jednak w praktyce możemy utworzyć nową tuplę - powstałą np. z dodania jakiegoś elementu do istniejącej tupli - i przypisać ją do tej samej zmiennej. _Wygląda to_ jak modyfikacja składu tupli, choć formalnie nią nie jest."
   ]
  },
  {
   "cell_type": "code",
   "execution_count": null,
   "metadata": {},
   "outputs": [],
   "source": [
    "k2 = k2 + ( 'X' , 'Y' ) # efektywnie dodajemy do tupli k2 tuplę 2-elementową ( 'X' , 'Y' ); przypomnij sobie operator + na listach\n",
    "\n",
    "k2"
   ]
  },
  {
   "cell_type": "markdown",
   "metadata": {},
   "source": [
    "<img style = 'float: left; margin-right: 10px; margin-bottom: 10px' src = 'Images/question.png'> Szybkie ćwiczenie 9:\n",
    "\n",
    "(a) Spróbuj dodać do tupli `k2` jeden element równy stringowi `'I added an element!'` na samym końcu, za pomocą operatora `+=`. Wskazówka: zrób to uważnie!\n",
    "\n",
    "(b) Usuń z tupli `k2` pierwszy element. Wskazówka: użyj składni segmentów."
   ]
  },
  {
   "cell_type": "code",
   "execution_count": null,
   "metadata": {},
   "outputs": [],
   "source": [
    "# szybkie ćwiczenie 9a - rozwiązanie\n",
    "\n"
   ]
  },
  {
   "cell_type": "code",
   "execution_count": null,
   "metadata": {},
   "outputs": [],
   "source": [
    "# szybkie ćwiczenie 9b - rozwiązanie\n",
    "\n"
   ]
  },
  {
   "cell_type": "markdown",
   "metadata": {},
   "source": [
    "Pamiętajmy jednak, że w efekcie tworzymy nową tuplę o tej samej nazwie. Również metody te są trochę \"hakerskie\" i nie ma tu takiej swobody działania jak w przypadku list."
   ]
  },
  {
   "cell_type": "markdown",
   "metadata": {},
   "source": [
    "### <a id=\"1.5\"></a>1.5. Użyteczne funkcje, metody, operatory na tuplach"
   ]
  },
  {
   "cell_type": "markdown",
   "metadata": {},
   "source": [
    "#### <a id=\"1.5_b1\"></a>Funkcje"
   ]
  },
  {
   "cell_type": "markdown",
   "metadata": {},
   "source": [
    "Funkcje działające na listach, działają tak samo na tuplach, np.:"
   ]
  },
  {
   "cell_type": "code",
   "execution_count": null,
   "metadata": {},
   "outputs": [],
   "source": [
    "len( k2 )"
   ]
  },
  {
   "cell_type": "markdown",
   "metadata": {},
   "source": [
    "<img style = 'float: left; margin-right: 10px; margin-bottom: 10px' src = 'Images/question.png'> Szybkie ćwiczenie 10:\n",
    "\n",
    "(a) Rozważ tuplę liczbową `(1, 2, 3, 4, 5, 6, 7)`. Sprawdź, jak na niej działają funkcje `sum`, `max`, `min`.\n",
    "\n",
    "(b) Spróbuj zastosować te funkcje do tupli `k2`, zawierającej nie tylko liczbowe obiekty."
   ]
  },
  {
   "cell_type": "code",
   "execution_count": null,
   "metadata": {},
   "outputs": [],
   "source": [
    "# szybkie ćwiczenie 10a - rozwiązanie\n",
    "\n"
   ]
  },
  {
   "cell_type": "code",
   "execution_count": null,
   "metadata": {},
   "outputs": [],
   "source": [
    "# szybkie ćwiczenie 10b - rozwiązanie\n",
    "\n"
   ]
  },
  {
   "cell_type": "markdown",
   "metadata": {},
   "source": [
    "#### <a id=\"1.5_b2\"></a>Metody"
   ]
  },
  {
   "cell_type": "markdown",
   "metadata": {},
   "source": [
    "Dwie przydatne metody to `index` (zwraca pierwszy indeks, na którym znajduje się dana wartość) oraz `count` (zwraca liczbę wystąpień danej wartości wewnątrz tupli) - dokładnie tak samo, jak przy listach."
   ]
  },
  {
   "cell_type": "code",
   "execution_count": null,
   "metadata": {},
   "outputs": [],
   "source": [
    "k3 = 1 , 2 , 2 , 3 , 3 , 4 , 4 , 4 # definicja tupli z użyciem składni pakowania - bez nawiasów"
   ]
  },
  {
   "cell_type": "code",
   "execution_count": null,
   "metadata": {},
   "outputs": [],
   "source": [
    "k3.index( 4 ) # pierwsze wystąpienie wartości 4 jest na indeksie 5"
   ]
  },
  {
   "cell_type": "code",
   "execution_count": null,
   "metadata": {},
   "outputs": [],
   "source": [
    "k3.count( 4 ) # wartość 4 występuje 3 razy w tej tupli"
   ]
  },
  {
   "cell_type": "markdown",
   "metadata": {},
   "source": [
    "#### <a id=\"1.5_b3\"></a>Operatory"
   ]
  },
  {
   "cell_type": "markdown",
   "metadata": {},
   "source": [
    "Tu również zachowanie jest identyczne, jak w przypadku list:"
   ]
  },
  {
   "cell_type": "markdown",
   "metadata": {},
   "source": [
    "Operator przynależności `in` i jego zaprzeczenie `not in` (zwracają wartość logiczną prawda/fałsz `True`/`False` w zależności, czy dana wartość jest elementem tupli):"
   ]
  },
  {
   "cell_type": "code",
   "execution_count": null,
   "metadata": {},
   "outputs": [],
   "source": [
    "4 in k3"
   ]
  },
  {
   "cell_type": "code",
   "execution_count": null,
   "metadata": {},
   "outputs": [],
   "source": [
    "4 not in k3"
   ]
  },
  {
   "cell_type": "markdown",
   "metadata": {},
   "source": [
    "Operator dodawania `+` pomiędzy dwiema tuplami łączy je w jedną:"
   ]
  },
  {
   "cell_type": "code",
   "execution_count": null,
   "metadata": {},
   "outputs": [],
   "source": [
    "( 1 , 2 ) + ( 3 , 4 , 5 )"
   ]
  },
  {
   "cell_type": "markdown",
   "metadata": {},
   "source": [
    "... zaś operator mnożenia `*` (nie pomylmy go z operatorem gwiazdki!) między liczbą całkowitą a tuplą powtarza tuplę daną liczbę razy:"
   ]
  },
  {
   "cell_type": "code",
   "execution_count": null,
   "metadata": {},
   "outputs": [],
   "source": [
    "5 * ( 1 , 2 )"
   ]
  },
  {
   "cell_type": "markdown",
   "metadata": {},
   "source": [
    "Wszystkie powyższe funkcje, metody, operatory działają zatem identycznie jak w przypadku list."
   ]
  },
  {
   "cell_type": "markdown",
   "metadata": {},
   "source": [
    "### <a id=\"1.6\"></a>1.6. Iterowanie przez tuplę"
   ]
  },
  {
   "cell_type": "markdown",
   "metadata": {},
   "source": [
    "Tutaj również wszystko wygląda identycznie, jak przy listach, zatem tylko wspomnijmy kilka punktów."
   ]
  },
  {
   "cell_type": "markdown",
   "metadata": {},
   "source": [
    "#### <a id=\"1.6_b1\"></a>Iterowanie się pętlą `for` przez tuplę"
   ]
  },
  {
   "cell_type": "markdown",
   "metadata": {},
   "source": [
    "Wszystko jest identyczne, jak dla list:"
   ]
  },
  {
   "cell_type": "code",
   "execution_count": null,
   "metadata": {},
   "outputs": [],
   "source": [
    "for item in ( 'A' , 'B' , 'C' ):\n",
    "    print( item )"
   ]
  },
  {
   "cell_type": "markdown",
   "metadata": {},
   "source": [
    "#### <a id=\"1.6_b2\"></a>Funkcje `enumerate` i `zip` tworzą listy tupli"
   ]
  },
  {
   "cell_type": "markdown",
   "metadata": {},
   "source": [
    "Z Lekcji 6 pamiętamy funkcje `enumerate` i `zip` działające na listach - przypomnijmy je tu, gdyż generują one listy tupli."
   ]
  },
  {
   "cell_type": "markdown",
   "metadata": {},
   "source": [
    "Funkcja `enumerate` bierze listę i tworzy z niej listę tupli 2-elementowych, gdzie pierwszy element każdej tupli to indeks, a drugi to właściwy element listy."
   ]
  },
  {
   "cell_type": "code",
   "execution_count": null,
   "metadata": {},
   "outputs": [],
   "source": [
    "list( enumerate( [ 'a' , 'b' , 'c' , 'd' ] ) )"
   ]
  },
  {
   "cell_type": "markdown",
   "metadata": {},
   "source": [
    "Funkcja `zip` \"spina listy na suwak\", tworząc listę tupli, gdzie pierwszy element należy do pierwszej listy, a drugi do drugiej itd."
   ]
  },
  {
   "cell_type": "code",
   "execution_count": null,
   "metadata": {},
   "outputs": [],
   "source": [
    "list( zip( [ 'apple' , 'orange' , 'banana' ] , [ 2.29 , 4.99 , 3.99 ] , [ 52 , 47 , 89 ] ) )"
   ]
  },
  {
   "cell_type": "markdown",
   "metadata": {},
   "source": [
    "Skoro są to listy tupli, to iteracja po nich wygląda tak (już o tym mówiliśmy w Lekcji 6):"
   ]
  },
  {
   "cell_type": "code",
   "execution_count": null,
   "metadata": {},
   "outputs": [],
   "source": [
    "for fruit , price , calories in zip( [ 'apple' , 'orange' , 'banana' ] , [ 2.29 , 4.99 , 3.99 ] , [ 52 , 47 , 89 ] ):\n",
    "    print( f'{fruit} costs {price} PLN per kg, and has {calories} calories' )"
   ]
  },
  {
   "cell_type": "markdown",
   "metadata": {},
   "source": [
    "... jako że iterator jest tu tuplą 3-elementową, którą nazwaliśmy `fruit, price, calories`. Innymi słowy, każdy z trzech iteratorów, `fruit`, `price` i `calories` przechodzi \"równolegle\" nasze trzy listy. Iterator ten moglibyśmy oczywiście dla większej czytelności zapisać w nawiasach okrągłych, `(fruit, price, calories)`, ale zwykle się tego nie robi w praktyce - w Pythonie chcemy jak najmniej pisać! Moglibyśmy także nazwać go jedną zmienną, np. `fruit_data`, która jest tuplą - i wtedy odwoływać się do jej elementów przez indeksy:"
   ]
  },
  {
   "cell_type": "code",
   "execution_count": null,
   "metadata": {},
   "outputs": [],
   "source": [
    "for fruit_data in zip( [ 'apple' , 'orange' , 'banana' ] , [ 2.29 , 4.99 , 3.99 ] , [ 52 , 47 , 89 ] ):\n",
    "    print( f'{fruit_data[ 0 ]} costs {fruit_data[ 1 ]} PLN per kg, and has {fruit_data[ 2 ]} calories' )"
   ]
  },
  {
   "cell_type": "markdown",
   "metadata": {},
   "source": [
    "... ale taki zapis jest mniej czytelny i raczej niestosowany."
   ]
  },
  {
   "cell_type": "markdown",
   "metadata": {},
   "source": [
    "Dodajmy, że `enumerate` i `zip` mogą równie dobrze działać na innych kolekcjach uporządkowanych, nie tylko listach, np. na stringach czy tuplach."
   ]
  },
  {
   "cell_type": "code",
   "execution_count": null,
   "metadata": {},
   "outputs": [],
   "source": [
    "list( enumerate( 'abcd' ) )"
   ]
  },
  {
   "cell_type": "code",
   "execution_count": null,
   "metadata": {},
   "outputs": [],
   "source": [
    "list( enumerate( ( 'a' , 'b' , 'c' , 'd' ) ) )"
   ]
  },
  {
   "cell_type": "markdown",
   "metadata": {},
   "source": [
    "Tutaj obiekt `enumerate` przekonwertowaliśmy na listę. Moglibyśmy też przekonwertować go np. na tuplę:"
   ]
  },
  {
   "cell_type": "code",
   "execution_count": null,
   "metadata": {},
   "outputs": [],
   "source": [
    "tuple( enumerate( 'abcd' ) )"
   ]
  },
  {
   "cell_type": "markdown",
   "metadata": {},
   "source": [
    "... itd."
   ]
  },
  {
   "cell_type": "markdown",
   "metadata": {},
   "source": [
    "<img style = 'float: left; margin-right: 10px; margin-bottom: 10px' src = 'Images/question.png'> Szybkie ćwiczenie 11: Przeiteruj się przez tuplę `k3`, wypisując te indeksy, dla których wartość elementu tupli `k3` równa jest `4`."
   ]
  },
  {
   "cell_type": "markdown",
   "metadata": {},
   "source": [
    "Wskazówka: Interesuje nas tu zarówno indeks elementu (aby go wypisać), jak i sam element (aby sprawdzić, czy jest równy `4`) - przyda się więc funkcja `enumerate`."
   ]
  },
  {
   "cell_type": "code",
   "execution_count": null,
   "metadata": {},
   "outputs": [],
   "source": [
    "# szybkie ćwiczenie 11 - rozwiązanie\n",
    "\n"
   ]
  },
  {
   "cell_type": "markdown",
   "metadata": {},
   "source": [
    "#### <a id=\"1.6_b3\"></a>\"Tuple comprehension\" nie istnieje. Generatory"
   ]
  },
  {
   "cell_type": "markdown",
   "metadata": {},
   "source": [
    "Moglibyśmy spodziewać się, że podobnie jak przy listach, będziemy mieć też składnię \"tuple comprehension\":\n",
    "```\n",
    "( item for item in collection if condition )\n",
    "```\n",
    "Nie ma jej jednak w Pythonie! Powyższe wyrażenie jest natomiast poprawne, lecz tworzy tzw. **generator**. Z grubsza, jest to także kolekcja, ale taka, której każdy element nie jest zawczasu obliczany. Generator definiuje jakby tylko zasady iteracji, ale nie jest ona dokonywana w momencie definicji."
   ]
  },
  {
   "cell_type": "code",
   "execution_count": null,
   "metadata": {},
   "outputs": [],
   "source": [
    "gen = ( item for item in range( 1000000000000000000 ) if item % 13 == 0 and item % 17 == 0 ) # to nie jest obliczane z góry"
   ]
  },
  {
   "cell_type": "code",
   "execution_count": null,
   "metadata": {},
   "outputs": [],
   "source": [
    "for item in gen: # to może zająć sporo czasu...\n",
    "    print( item )"
   ]
  },
  {
   "cell_type": "markdown",
   "metadata": {},
   "source": [
    "Zawsze oczywiście możemy utworzyć listę poprzez składnię \"list comprehension\", a następnie przekonwertować ją do tupli za pomocą funkcji `tuple`, gdybyśmy mieli na to ochotę.\n",
    "\n",
    "Są za to składnie \"set comprehension\" oraz \"dictionary comprehension\", o których poniżej."
   ]
  },
  {
   "cell_type": "markdown",
   "metadata": {},
   "source": [
    "## <a id=\"2\"></a>2. Zbiory"
   ]
  },
  {
   "cell_type": "markdown",
   "metadata": {},
   "source": [
    "### <a id=\"2.1\"></a>2.1. Co to jest zbiór?"
   ]
  },
  {
   "cell_type": "markdown",
   "metadata": {},
   "source": [
    "**Zbiór** (\"set\") to kolekcja:\n",
    "\n",
    "- Nieuporządkowana - nie ma indeksu, nie ma pojęcia \"pierwszy element\" itd. Jest to więc jakby \"worek\", do którego wrzucamy elementy. Implikacją tego faktu jest, iż **zbiór nie może zawierać duplikatów** (identycznych elementów).\n",
    "\n",
    "- Niemutowalna - w tym sensie, że nie można zmieniać wartości istniejących elementów. Można natomiast dodawać/usuwać elementy. Implikacją tego pierwszego faktu jest to, że elementami zbioru nie mogą być obiekty mutowalne, jak listy."
   ]
  },
  {
   "cell_type": "markdown",
   "metadata": {},
   "source": [
    "### <a id=\"2.2\"></a>2.2. Tworzenie zbiorów"
   ]
  },
  {
   "cell_type": "markdown",
   "metadata": {},
   "source": [
    "#### <a id=\"2.2_b1\"></a>Elementy w nawiasach klamrowych"
   ]
  },
  {
   "cell_type": "markdown",
   "metadata": {},
   "source": [
    "Zbiór tworzymy przez zebranie elementów w nawiasach klamrowych:"
   ]
  },
  {
   "cell_type": "code",
   "execution_count": null,
   "metadata": {},
   "outputs": [],
   "source": [
    "s = { 15 , 'abc' , 7.33 }"
   ]
  },
  {
   "cell_type": "code",
   "execution_count": null,
   "metadata": {},
   "outputs": [],
   "source": [
    "type( s )"
   ]
  },
  {
   "cell_type": "markdown",
   "metadata": {},
   "source": [
    "Jeśli wydrukujemy stworzony właśnie zbiór:"
   ]
  },
  {
   "cell_type": "code",
   "execution_count": null,
   "metadata": {},
   "outputs": [],
   "source": [
    "s"
   ]
  },
  {
   "cell_type": "markdown",
   "metadata": {},
   "source": [
    "... wyświetlona kolejność elementów może być inna niż użyta przy tworzeniu - zbiór nie jest uporządkowany, nie ma znaczenia kolejność elementów."
   ]
  },
  {
   "cell_type": "markdown",
   "metadata": {},
   "source": [
    "Jak mówiliśmy, nie może być w zbiorze duplikatów - jeśli spróbujemy utworzyć zbiór z powtarzającymi się elementami, _zostaną one zredukowane do tylko pojedynczego wystąpienia_."
   ]
  },
  {
   "cell_type": "code",
   "execution_count": null,
   "metadata": {},
   "outputs": [],
   "source": [
    "s2 = { 1 , 1 , 1 , 2 , 2 , 3 } # 1 i 2 próbujemy wstawić wielokrotnie - to nie działa\n",
    "\n",
    "s2"
   ]
  },
  {
   "cell_type": "markdown",
   "metadata": {},
   "source": [
    "Ponadto, elementy zbioru mogą mieć różne typu - jak widzimy powyżej - ale nie mogą być mutowalne, jak np. listy."
   ]
  },
  {
   "cell_type": "code",
   "execution_count": null,
   "metadata": {},
   "outputs": [],
   "source": [
    "s3 = { [ 1 , 2 ] , [ 3 , 4 , 5 ] } # próba utworzenia zbioru, którego elementami są listy"
   ]
  },
  {
   "cell_type": "markdown",
   "metadata": {},
   "source": [
    "#### <a id=\"2.2_b2\"></a>Zbiór pusty"
   ]
  },
  {
   "cell_type": "markdown",
   "metadata": {},
   "source": [
    "Można by zgadywać, że pusty zbiór powstanie poprzez `{}`, podobnie jak pusta lista `[]` czy pusta tupla `()`. Nie jest to jednak prawda - w ten sposób powstanie pusty słownik (zob. niżej). Natomiast robimy to tak:"
   ]
  },
  {
   "cell_type": "code",
   "execution_count": null,
   "metadata": {},
   "outputs": [],
   "source": [
    "empty_set = set()"
   ]
  },
  {
   "cell_type": "code",
   "execution_count": null,
   "metadata": {},
   "outputs": [],
   "source": [
    "type( empty_set )"
   ]
  },
  {
   "cell_type": "markdown",
   "metadata": {},
   "source": [
    "Swoją drogą, pustą listę moglibyśmy też utworzyć za pomocą `list()` (zamiast `[]`), pustą tuplę za pomocą `tuple()` (zamiast `()`), zaś pusty słownik za pomocą `dict()` (zamiast `{}`)."
   ]
  },
  {
   "cell_type": "markdown",
   "metadata": {},
   "source": [
    "#### <a id=\"2.2_b3\"></a>Konwersja innej kolekcji do zbioru; usuwanie duplikatów"
   ]
  },
  {
   "cell_type": "markdown",
   "metadata": {},
   "source": [
    "Przypomnijmy sobie, że różne kolekcje możemy przekonwertować do listy poprzez funkcję `list`; do tupli poprzez funkcję `tuple`; zaś do zbioru - oczywiście - poprzez funkcję `set`."
   ]
  },
  {
   "cell_type": "code",
   "execution_count": null,
   "metadata": {},
   "outputs": [],
   "source": [
    "set( [ 1 , 2 , 3 , 4 , 5 ] ) # konwersja listy do zbioru"
   ]
  },
  {
   "cell_type": "code",
   "execution_count": null,
   "metadata": {},
   "outputs": [],
   "source": [
    "set( ( 1 , 2 , 3 , 4 , 5 ) ) # konwersja tupli do zbioru"
   ]
  },
  {
   "cell_type": "code",
   "execution_count": null,
   "metadata": {},
   "outputs": [],
   "source": [
    "set( 'abc' ) # konwersja stringu do zbioru"
   ]
  },
  {
   "cell_type": "markdown",
   "metadata": {},
   "source": [
    "Ciekawą konsekwencją faktu, iż zbiór nie może zawierać duplikatów, zaś listy, tuple i stringi mogą, jest prosty trick na _usuwanie duplikatów_ z tych drugich. Np. usuńmy duplikaty z listy:"
   ]
  },
  {
   "cell_type": "code",
   "execution_count": null,
   "metadata": {},
   "outputs": [],
   "source": [
    "set( [ 1 , 1 , 1 , 2 , 2 , 3 ] ) # usuwamy duplikaty z listy - zostają tylko pojedyncze wystąpienia"
   ]
  },
  {
   "cell_type": "markdown",
   "metadata": {},
   "source": [
    "... podobnie ze stringu:"
   ]
  },
  {
   "cell_type": "code",
   "execution_count": null,
   "metadata": {},
   "outputs": [],
   "source": [
    "set( 'Seriously, sets are soooooooo cool!!!!!!' )"
   ]
  },
  {
   "cell_type": "markdown",
   "metadata": {},
   "source": [
    "Jest to bardzo często używany trik!"
   ]
  },
  {
   "cell_type": "markdown",
   "metadata": {},
   "source": [
    "<img style = 'float: left; margin-right: 10px; margin-bottom: 10px' src = 'Images/question.png'> Szybkie ćwiczenie 12: [\"Green Eggs and Ham\"](https://en.wikipedia.org/wiki/Green_Eggs_and_Ham) to jedna z najpopularniejszych książek dla dzieci w języku angielskim, o szerokich implikacjach kulturowych. Napisana została przez [Dr. Seussa](https://en.wikipedia.org/wiki/Dr._Seuss) używając jedynie 50 słów, co wynikało z zakładu między autorem a jego wydawcą, a także rozważań na temat problemów z czytaniem przez dzieci.\n",
    "\n",
    "Wczytaj tę książkę wykonując poniższą komórkę: zmienna `green_eggs_and_ham_words` zawierać będzie listę kolejnych słów ksiażki, jest ich 775. Utwórz listę unikalnych słów. Ile ich jest?"
   ]
  },
  {
   "cell_type": "code",
   "execution_count": null,
   "metadata": {},
   "outputs": [],
   "source": [
    "import re\n",
    "\n",
    "green_eggs_and_ham_text = open( 'Files/green_eggs_and_ham.txt' ).read().lower()\n",
    "green_eggs_and_ham_words = re.findall( r'\\b[\\w-]+\\b' , green_eggs_and_ham_text )"
   ]
  },
  {
   "cell_type": "code",
   "execution_count": null,
   "metadata": {},
   "outputs": [],
   "source": [
    "# szybkie ćwiczenie 12 - rozwiązanie\n",
    "\n"
   ]
  },
  {
   "cell_type": "markdown",
   "metadata": {},
   "source": [
    "### <a id=\"2.3\"></a>2.3. Zbiory są nieuporządkowane"
   ]
  },
  {
   "cell_type": "markdown",
   "metadata": {},
   "source": [
    "Jak już widzieliśmy, nie ma sensu odwoływać się do elementów poprzez indeks:"
   ]
  },
  {
   "cell_type": "code",
   "execution_count": null,
   "metadata": {},
   "outputs": [],
   "source": [
    "s[ 0 ]"
   ]
  },
  {
   "cell_type": "markdown",
   "metadata": {},
   "source": [
    "Mamy natomiast jak zawsze operatory przynależności, którymi możemy sprawdzić, czy jakiś obiekt jest elementem zbioru:"
   ]
  },
  {
   "cell_type": "code",
   "execution_count": null,
   "metadata": {},
   "outputs": [],
   "source": [
    "15 in s"
   ]
  },
  {
   "cell_type": "code",
   "execution_count": null,
   "metadata": {},
   "outputs": [],
   "source": [
    "15 not in s"
   ]
  },
  {
   "cell_type": "markdown",
   "metadata": {},
   "source": [
    "### <a id=\"2.4\"></a>2.4. Zbiorów nie można modyfikować"
   ]
  },
  {
   "cell_type": "markdown",
   "metadata": {},
   "source": [
    "Niemożliwe jest zmienić wartość któregoś z elementów - nawet nie ma jak do niego się odwołać (nie mamy indeksu), poza tym jak wspomnieliśmy, elementy muszą niemutowalne. Możemy natomiast dodawać/usuwać elementy.\n",
    "\n",
    "| Metoda | Działanie |\n",
    "| --- | --- |\n",
    "| <center>`add`</center> | <center>dodaj jeden element</center> |\n",
    "| <center>`update`</center> | <center>dodaj kolekcję elementów</center> |\n",
    "| <center>`remove`, `discard`</center> | <center>usuń element</center> |"
   ]
  },
  {
   "cell_type": "markdown",
   "metadata": {},
   "source": [
    "Dodajemy metodami `add` (dodaje jeden element) i `update` (dodaje kolekcję elementów); są one analogiczne do metod list `append` i `extend`."
   ]
  },
  {
   "cell_type": "code",
   "execution_count": null,
   "metadata": {},
   "outputs": [],
   "source": [
    "s"
   ]
  },
  {
   "cell_type": "code",
   "execution_count": null,
   "metadata": {},
   "outputs": [],
   "source": [
    "s.add( 'ABCD' )\n",
    "\n",
    "s"
   ]
  },
  {
   "cell_type": "code",
   "execution_count": null,
   "metadata": {},
   "outputs": [],
   "source": [
    "s.update( [ 1 , 2 , 3 ] )\n",
    "\n",
    "s"
   ]
  },
  {
   "cell_type": "markdown",
   "metadata": {},
   "source": [
    "<img style = 'float: left; margin-right: 10px; margin-bottom: 10px' src = 'Images/question.png'> Szybkie ćwiczenie 13:\n",
    "\n",
    "(a) Spróbuj użyć jako argument metody `update` inną kolekcję, np. zbiór czy string.\n",
    "\n",
    "(b) Spróbuj dodać kilka identycznych elementów."
   ]
  },
  {
   "cell_type": "code",
   "execution_count": null,
   "metadata": {},
   "outputs": [],
   "source": [
    "# szybkie ćwiczenie 13a - rozwiązanie\n",
    "\n"
   ]
  },
  {
   "cell_type": "code",
   "execution_count": null,
   "metadata": {},
   "outputs": [],
   "source": [
    "# szybkie ćwiczenie 13b - rozwiązanie\n",
    "\n"
   ]
  },
  {
   "cell_type": "markdown",
   "metadata": {},
   "source": [
    "Elementy usuwamy metodami `remove` bądź `discard` - działają one obie z grubsza tak samo, a różnica jest w tym, jak reagują, gdy podany jako argument element nie jest częścią zbioru: `remove` zareaguje błędem, zaś `discard` po prostu nic nie zrobi."
   ]
  },
  {
   "cell_type": "code",
   "execution_count": null,
   "metadata": {},
   "outputs": [],
   "source": [
    "s.remove( 1 )\n",
    "\n",
    "s"
   ]
  },
  {
   "cell_type": "code",
   "execution_count": null,
   "metadata": {},
   "outputs": [],
   "source": [
    "s.discard( 2 )\n",
    "\n",
    "s"
   ]
  },
  {
   "cell_type": "markdown",
   "metadata": {},
   "source": [
    "... i dla elementu nie będącego elementem zbioru:"
   ]
  },
  {
   "cell_type": "code",
   "execution_count": null,
   "metadata": {},
   "outputs": [],
   "source": [
    "s.remove( 100 )\n",
    "\n",
    "s"
   ]
  },
  {
   "cell_type": "code",
   "execution_count": null,
   "metadata": {},
   "outputs": [],
   "source": [
    "s.discard( 100 )\n",
    "\n",
    "s"
   ]
  },
  {
   "cell_type": "markdown",
   "metadata": {},
   "source": [
    "### <a id=\"2.5\"></a>2.5. Operacje na zbiorach"
   ]
  },
  {
   "cell_type": "markdown",
   "metadata": {},
   "source": [
    "<img style = 'float: right; margin-left: 10px; margin-bottom: 10px' src = 'Images/set.png' width = '300px'>Ciekawsze jest kilka ważnych operacji na zbiorach:\n",
    "\n",
    "| Operator | Działanie |\n",
    "| --- | --- |\n",
    "| <center>`\\|`</center> | <center>**suma zbiorów** (\"union\"), a więc elementy będące w jednym lub w drugim zbiorze</center> |\n",
    "| <center>`&`</center> | <center>**część wspólna zbiorów** (\"intersection\"), czyli elementy będące i w jednym, i w drugim zbiorze</center> |\n",
    "| <center>`-`</center> | <center>**różnica zbiorów** (\"difference\"), tj. elementy będące w pierwszym, ale nie w drugim zbiorze</center> |\n",
    "| <center>`^`</center> | <center>**różnica symetryczna zbiorów** (\"symmetric diffference\"), tj. elementy będące dokładnie w jednym z tych zbiorów</center> |"
   ]
  },
  {
   "cell_type": "code",
   "execution_count": null,
   "metadata": {},
   "outputs": [],
   "source": [
    "A = { 'apple' , 'banana' , 'cherry' , 'orange' , 'plum' }\n",
    "B = { 'tomato' , 'plum' , 'orange' , 'kiwi' , 'blackberry' }\n",
    "\n",
    "print( f'Union: {A | B}' )\n",
    "print( f'Intersection: {A & B}' )\n",
    "print( f'Difference: {A - B}' )\n",
    "print( f'Symmetric difference: {A ^ B}' )"
   ]
  },
  {
   "cell_type": "markdown",
   "metadata": {},
   "source": [
    "<img style = 'float: left; margin-right: 10px; margin-bottom: 10px' src = 'Images/question.png'> Szybkie ćwiczenie 14: Rozważ listy: `l1 = [1, 2, 2, 3, 4, 4, 4]`, `l2 = [2, 5, 3, 3, 6, 7, 8, 8, 8]`, `l3 = [1, 1, 2, 7, 7, 8, 10, 12, 12]`. Znajdź unikalne elementy należące do `l1` i `l2`, ale nie należące do `l3`, zebrane jako lista, używając powyższych operacji na zbiorach."
   ]
  },
  {
   "cell_type": "code",
   "execution_count": null,
   "metadata": {},
   "outputs": [],
   "source": [
    "# szybkie ćwiczenie 14 - rozwiązanie\n",
    "\n"
   ]
  },
  {
   "cell_type": "markdown",
   "metadata": {},
   "source": [
    "Operatory te mają swoje wersje \"augmented assignment\", tj. `|=`, `&=`, `-=`, `^=`, podobne do `+=` itp."
   ]
  },
  {
   "cell_type": "markdown",
   "metadata": {},
   "source": [
    "### <a id=\"2.6\"></a>2.6. Iterowanie przez zbiór i składnia \"set comprehension\""
   ]
  },
  {
   "cell_type": "markdown",
   "metadata": {},
   "source": [
    "Przez zbiór możemy iterować się np. pętlą `for` dokładnie tak samo, jak w przypadku list i tupli. Mamy też składnię **\"set comprehension\"**:\n",
    "\n",
    "`{ expression for item in collection if condition }`\n",
    "\n",
    "która wygląda identycznie jak \"list comprehension\" za wyjątkiem nawiasów klamrowych. Tworzy ona zbiór elementów, efektów wyrażenia `expression`, stosowanego do kolejnych elementów `item` kolekcji `collection`, spełniających warunek `condition`. Różnica w stosunku do \"list comprehension\" jest taka, że zbiory - jak wiemy - nie dopuszczają duplikatów, więc zostaną one tutaj automatycznie usunięte, gdyby się pojawiły."
   ]
  },
  {
   "cell_type": "markdown",
   "metadata": {},
   "source": [
    "Powiedzmy, że interesowałyby nas unikalne litery, na jakie mogą kończyć się słowa książki \"Green Eggs and Ham\" (zob. Ćwiczenie 12) o długości większej niż 6. Składnia \"list comprehension\" wyprodukuje wiele duplikatów:"
   ]
  },
  {
   "cell_type": "code",
   "execution_count": null,
   "metadata": {},
   "outputs": [],
   "source": [
    "[ word[ -1 ] for word in green_eggs_and_ham_words if len( word ) >= 6 ]"
   ]
  },
  {
   "cell_type": "markdown",
   "metadata": {},
   "source": [
    "... zaś analogiczne \"set comprehension\" daje od razu unikalne wystąpienia:"
   ]
  },
  {
   "cell_type": "code",
   "execution_count": null,
   "metadata": {},
   "outputs": [],
   "source": [
    "{ word[ -1 ] for word in green_eggs_and_ham_words if len( word ) >= 6 }"
   ]
  },
  {
   "cell_type": "markdown",
   "metadata": {},
   "source": [
    "<img style = 'float: left; margin-right: 10px; margin-bottom: 10px' src = 'Images/question.png'> Szybkie ćwiczenie 15: Ile słów książki \"Green Eggs and Ham\" ma w sobie powtarzające się litery? (Np. \"that\" ma dwie litery \"t\".)"
   ]
  },
  {
   "cell_type": "code",
   "execution_count": null,
   "metadata": {},
   "outputs": [],
   "source": [
    "# szybkie ćwiczenie 15 - rozwiązanie\n",
    "\n"
   ]
  },
  {
   "cell_type": "markdown",
   "metadata": {},
   "source": [
    "## <a id=\"3\"></a>3. Zadania domowe"
   ]
  },
  {
   "cell_type": "markdown",
   "metadata": {},
   "source": [
    "<img style = 'float: left; margin-right: 10px; margin-bottom: 10px' src = 'Images/question.png'> Dłuższe ćwiczenie 16: Podobnie jak wcześniej, wczytajmy kilka plików tekstowych i utwórzmy listy ich kolejnych słów.\n",
    "\n",
    "Pierwszy plik zawiera \"Ulyssesa\" Jamesa Joyce'a, a listę jego kolejnych słów umieśćmy w liście `james_joyce_ulysses_words`.\n",
    "\n",
    "Następnie wczytajmy sześć innych noweli. Niech lista `other_novels_words` ma sześć elementów, każdy z nich listą kolejnych słów danej noweli.\n",
    "\n",
    "(a) Wydrukuj serię zdań o postaci `'Novel Metamorphosis Kafka contains 2586 unique words.'` (ładnie sformatowanych - możesz zrobić to nawet ładniej niż tu, z apostrofami i np. słówkiem \"by\" przed autorem), gdzie wypiszesz liczbę unikalnych słów w danej noweli na liście. Wypisz osobno, ile unikalnych słów zawiera \"Ulysses\".\n",
    "\n",
    "(b) Oblicz, ile unikalnych słów jest tylko w \"Ulyssesie\", a nie w żadnym z pozostałych sześciu tekstów.\n",
    "\n",
    "Sprawdź swoją odpowiedź: \"Ulysses\" powinien zawierać 29253 unikalnych słów, a także 15342 słów nieobecnych w żadnej z sześciu pozostałych noweli, np. \"utricle\", \"vool\", \"gigglegold\", \"coadjutor\", \"fambly\" itd."
   ]
  },
  {
   "cell_type": "markdown",
   "metadata": {},
   "source": [
    "Wskazówka do (a): Aby wypisać ten tekst, stwórz najpierw listę (nazwijmy ją `novel_titles`) ładnie sformatowanych tytułów. Użyj \"list comprehension\", składni segmentów aby wyciąć końcówkę `'.txt'`, a także metod stringów `replace` i `title`.\n",
    "\n",
    "Następnie przeiteruj się przez \"spięte na suwak\" (`zip`) listy `novel_titles` i `other_novels_words`."
   ]
  },
  {
   "cell_type": "markdown",
   "metadata": {},
   "source": [
    "Wskazówka do (b): Przeiteruj się przez listę `other_novels_words`. Używaj operatora `-=`, aby kolejno odejmować (\"set difference\") zbiór słów danej noweli od zbioru słów \"Ulyssesa\", zdefiniowanego przed pętlą."
   ]
  },
  {
   "cell_type": "code",
   "execution_count": null,
   "metadata": {},
   "outputs": [],
   "source": [
    "james_joyce_ulysses_text = open( 'Files/james_joyce_ulysses.txt' , encoding = 'utf8' ).read().lower()\n",
    "james_joyce_ulysses_words = re.findall( r'\\b[\\w-]+\\b' , james_joyce_ulysses_text )\n",
    "\n",
    "novel_files = [\n",
    "    'metamorphosis_kafka.txt' ,\n",
    "    'moby_dick_melville.txt' ,\n",
    "    'robinson_crusoe_defoe.txt' ,\n",
    "    'sons_and_lovers_lawrence.txt' ,\n",
    "    'the_way_of_all_flash_butler.txt' ,\n",
    "    'to_the_lighthouse_woolf.txt'\n",
    "]\n",
    "other_novels_words = []\n",
    "\n",
    "for novel_file in novel_files:\n",
    "    novel_text = open( 'Files/' + novel_file , encoding = 'utf8' ).read().lower()\n",
    "    novel_words = re.findall( r'\\b[\\w-]+\\b' , novel_text )\n",
    "    other_novels_words.append( novel_words )"
   ]
  },
  {
   "cell_type": "code",
   "execution_count": null,
   "metadata": {},
   "outputs": [],
   "source": [
    "# dłuższe ćwiczenie 16a - rozwiązanie\n",
    "\n"
   ]
  },
  {
   "cell_type": "code",
   "execution_count": null,
   "metadata": {},
   "outputs": [],
   "source": [
    "# dłuższe ćwiczenie 16b - rozwiązanie\n",
    "\n"
   ]
  },
  {
   "cell_type": "markdown",
   "metadata": {},
   "source": [
    "<img style = 'float: left; margin-right: 10px; margin-bottom: 10px' src = 'Images/question.png'> Dłuższe ćwiczenie 17: Zliczanie wszystkich duplikatów.\n",
    "\n",
    "Przypomnij sobie metodę list `count`, która wskazywała, jak wiele razy dany element występuje w liście. W tym zadaniu uogólnimy tę metodę. Masz daną listę, np. `lst = [1, 3, 1, 4, 4, 1, 2, 4, 3, 4, 4]`, a chcesz otrzymać następującą listę tupli 2-elementowych, `[(1, 3), (2, 1), (3, 2), (4, 5)]`, gdzie w każdej tupli pierwszy element to unikalny element listy `lst`, zaś drugi element to liczba jego wystąpień w liście `lst`; np. element `1` występuje 3 razy, element `2` występuje raz itd."
   ]
  },
  {
   "cell_type": "markdown",
   "metadata": {},
   "source": [
    "Wskazówka: Stwórz żądaną listę poprzez składnię \"list comprehension\", iterując się po zbiorze unikalnych wartości listy `lst` (iterator możesz nazwać np. `unique_item`). Każdy element tej listy niech będzie tuplą 2-elementową, której pierwszym elementem jest `unique_item`, a do konstrukcji drugiego użyj wspomnianej metody `count`."
   ]
  },
  {
   "cell_type": "code",
   "execution_count": null,
   "metadata": {},
   "outputs": [],
   "source": [
    "# dłuższe ćwiczenie 17 - rozwiązanie\n",
    "\n"
   ]
  },
  {
   "cell_type": "markdown",
   "metadata": {},
   "source": [
    "<img style = 'float: left; margin-right: 10px; margin-bottom: 10px' src = 'Images/question.png'> Dłuższe ćwiczenie 18: Spróbuj zapisać operacje:\n",
    "\n",
    "(a) (*) \"union\" `|`,\n",
    "\n",
    "(b) \"intersection\" `&`,\n",
    "\n",
    "(c) \"difference\" `-`\n",
    "\n",
    "za pomocą składni \"set comprehension\". Użyj powyżej zdefiniowanych zbiorów `A = {'apple', 'banana', 'cherry', 'orange', 'plum'}` i `B = {'tomato', 'plum', 'orange', 'kiwi', 'blackberry'}` jako przykładów."
   ]
  },
  {
   "cell_type": "markdown",
   "metadata": {},
   "source": [
    "Wskazówka do (a): W przypadku sumy zbiorów (\"union\") przypomnij sobie z Lekcji 6, jak robiliśmy \"wypłaszczanie\" (\"flattening\") listy list, tj. składnię:\n",
    "```\n",
    "[ item for sublist in lst for item in sublist ]\n",
    "```\n",
    "Skonstruuj teraz listę tych dwóch zbiorów `[A, B]`, a potem ją wypłaszcz, ale za pomocą \"set comprehension\", nie \"list comprehension\"."
   ]
  },
  {
   "cell_type": "markdown",
   "metadata": {},
   "source": [
    "Wskazówka do (b) i (c): Przeiteruj się w składni \"set comprehension\" po prostu po `A` i użyj operatorów przynależności `in` i `not in`, aby sprawdzić, czy dany element zbioru `A` należy/nie należy do zbioru `B`."
   ]
  },
  {
   "cell_type": "code",
   "execution_count": null,
   "metadata": {},
   "outputs": [],
   "source": [
    "# dłuższe ćwiczenie 18a - rozwiązanie\n",
    "\n"
   ]
  },
  {
   "cell_type": "code",
   "execution_count": null,
   "metadata": {},
   "outputs": [],
   "source": [
    "# dłuższe ćwiczenie 18b - rozwiązanie\n",
    "\n"
   ]
  },
  {
   "cell_type": "code",
   "execution_count": null,
   "metadata": {},
   "outputs": [],
   "source": [
    "# dłuższe ćwiczenie 18c - rozwiązanie\n",
    "\n"
   ]
  },
  {
   "cell_type": "markdown",
   "metadata": {},
   "source": [
    "<img style = 'float: left; margin-right: 10px; margin-bottom: 10px' src = 'Images/question.png'> Dłuższe ćwiczenie 19 (*): Usuwanie duplikatów z listy list.\n",
    "\n",
    "Masz daną listę list, np. `lst = [[1, 2], [4], [3, 5, 2], [1, 2], [3], [4]]` i chcesz usunąć z niej powtarzające się listy (tutaj są to `[1, 2]` oraz `[4]`), tj. dostać listę `[[1, 2], [3, 5, 2], [3], [4]]`.\n",
    "\n",
    "(Zauważ, że instrukcja `set(lst)` zwróci błąd - zbiór nie może zawierać list, jako że są one obiektami mutowalnymi.)"
   ]
  },
  {
   "cell_type": "markdown",
   "metadata": {},
   "source": [
    "Wskazówka: Idea jest następująca: skoro listy są mutowalne i nie mogą być elementami zbioru, to zamieńmy je na tuple. Wtedy będzie można usunąć z nich duplikaty tworząc ich zbiór. W tym celu wykorzystaj składnię \"set comprehension\", gdzie iterujesz się po liście `lst` (każdy element iteracji - nazwijmy go `sublist` jest zatem listą); przekonwertuj to `sublist` na typ tupli. Otrzymasz zbiór tupli `{(1, 2), (3,), (3, 5, 2), (4,)}`.\n",
    "\n",
    "Teraz napisz \"list comprehension\", gdzie po tym zbiorze się iterujesz i każdą kolejną tuplę konwertujesz na listę - tak dostaniesz listę list, jak chcemy."
   ]
  },
  {
   "cell_type": "code",
   "execution_count": null,
   "metadata": {},
   "outputs": [],
   "source": [
    "# dłuższe ćwiczenie 19 - rozwiązanie\n",
    "\n"
   ]
  },
  {
   "cell_type": "markdown",
   "metadata": {},
   "source": [
    "<img style = 'float: left; margin-right: 10px; margin-bottom: 10px' src = 'Images/question.png'> Dłuższe ćwiczenie 20: Fibonacci razy kilka.\n",
    "\n",
    "(a) [**Ciąg \"tribonacci\"**](https://oeis.org/A000073) pojawił się pierwszy raz w \"O powstawaniu gatunków\" Darwina, zaś zdefiniowany jest następująco: zaczynasz od 0, 0, 1, a następnie każda kolejna liczba jest sumą _trzech_ poprzednich, $F_n = F_{n - 1} + F_{n - 2} + F_{n - 3}$. Wypisz pierwsze 20 wartości, zapisując zarówno warunek początkowy, jak i krok rekurencyjny za pomocą składni pakowania/wypakowywania tupli.\n",
    "\n",
    "(b) (\\*) [**Ciąg Fibonacciego rzędu** `n`](https://en.wikipedia.org/wiki/Generalizations_of_Fibonacci_numbers) tworzysz podobnie: zaczynasz od 0, 0, ..., 0, 1 (jest tu `(n - 1)` zer i jedna jedynka), a w kroku rekurencyjnym kolejny element równy jest sumie `n` poprzednich. Wypisz pierwsze 20 wartości dla `n = 5` ([ciąg \"pentanacci\"](https://oeis.org/A001591)), zapisując zarówno warunek początkowy, jak i krok rekurencyjny za pomocą składni pakowania/wypakowywania tupli.\n",
    "\n",
    "(c) (\\*\\*) [**Liczba Keitha**](https://en.wikipedia.org/wiki/Keith_number) zdefiniowana jest następująco: Jest to taka liczba całkowita (co najmniej dwucyfrowa), nazwijmy ją `keith`, np. `keith = 742`, że jeśli weźmiemy jej cyfry jako wartości startowe ciągu Fibonacciego rzędu `n` (gdzie `n` to liczba cyfr tej liczby, tutaj `n = 3`) - czyli tutaj `7`, `4`, `2` jako warunki początkowe ciągu tribonacci - to w którejś kolejnej iteracji ciągu pojawi się dokładnie ta liczba `keith`. Rzeczywiście, mamy tutaj:\n",
    "```\n",
    "7 → 4 → 2 → 13 → 19 → 34 → 66 → 119 → 219 → 404 → 742\n",
    "```\n",
    "czyli istotnie, zaczynając od `7`, `4`, `2`, w ciągu tribonacci pojawia się liczba `742`, na jedenastym miejscu, a zatem `742` jest liczbą Keitha.\n",
    "\n",
    "Skonstruuj listę wszystkich liczb Keitha mniejszych od 10 000.\n",
    "\n",
    "(d) (\\*) Wróćmy do \"zwykłego\" ciągu Fibonacciego, zaczynającego od 0, 1. Który z kolei element ciągu ma następującą własność: jego dziewięć ostatnich cyfr są to cyfry od 1 do 9, w jakiejś kolejności (tj. są permutacją cyfr 1-9)? Ile ten element ma cyfr? Co gdybyśmy zapytali o element mający pierwsze dziewięć cyfr będących permutacją 1-9?\n",
    "\n",
    "Sprawdź swoją odpowiedź:\n",
    "\n",
    "(a) 20-tą liczbą ciągu tribonacci jest 19513.\n",
    "\n",
    "(b) 20-tą liczbą ciągu pentanacci jest 13624.\n",
    "\n",
    "(c) Jest 17 liczb Keitha mniejszych od 10 000, najmniejszą z których jest 14, a największą 7909.\n",
    "\n",
    "(d) Element $F_{541}$ ciągu Fibonacciego ma dziewięć ostatnich cyfr będących permutacją 1-9; ma on 113 cyfr. Element $F_{2749}$ ma dziewięć pierwszych cyfr będących permutacją 1-9; ma on 575 cyfr."
   ]
  },
  {
   "cell_type": "markdown",
   "metadata": {},
   "source": [
    "Wskazówka do (a): Twoim iteratorem jest tu tupla 3-elementowa, `a, b, c`."
   ]
  },
  {
   "cell_type": "markdown",
   "metadata": {},
   "source": [
    "Wskazówka do (b): Iteratorem jest teraz tupla `n`-elementowa, nazwijmy ją `tup` (i nie rozbijajmy na poszczególne elementy). Aby utworzyć warunek początkowy, utwórz tuplę `(n - 1)` zer i jednej jedynki za pomocą operatorów `*` i `+` na tuplach jednoelementowych.\n",
    "\n",
    "Przypisanie nowej wartości do `tup` w kroku rekursywnym możesz zrobić za pomocą składni segmentów, gdzie ze starej wartości `tup` wycinasz wszystko od drugiego elementu do końca, a następnie dodajesz do tego (`+`) jako ostatni pojedynczy element sumę elementów starej tupli `tup`. (Zamiast łączenia `+`-em, możesz użyć tu też operatora gwiazdki - spróbuj!)"
   ]
  },
  {
   "cell_type": "markdown",
   "metadata": {},
   "source": [
    "Wskazówka do (c): Iterujesz się po liczbach mniejszych od 10 000 (ale co najmniej dwucyfrowych, więc większych lub równych 10) i w każdym kroku sprawdzasz, czy liczba jest liczbą Keitha.\n",
    "\n",
    "Jak napisać algorytm sprawdzający tę własność dla kolejnego iteratora `keith`? Startując od liczby `keith`, utwórz najpierw tuplę jej cyfr - używając \"list comprehension\" i znanego już triku z konwersją na string, a finalnie konwersji na tuplę. To będzie tupla warunków początkowych ciągu Fibonacciego rzędu równego liczbie cyfr. Następnie napisz pętlę bardzo podobną do tej w punkcie (b), z tym samym przypisaniem rekursywnym, ale niech nie będzie to pętla `for` - bo nie znasz dokładnej liczby iteracji - lecz pętla `while`, którą iterujesz się dopóki `tup[0]` będzie mniejsza od `keith`. Kiedy ta pętla się zakończy, sprawdź prawdziwość zdania logicznego `tup[0] == keith`. Jeśli będzie ono prawdą, to `keith` jest liczbą Keitha - i możesz dodać ją do ówcześnie przegotowanego \"pustego pudełka\" `keith_list`."
   ]
  },
  {
   "cell_type": "markdown",
   "metadata": {},
   "source": [
    "Wskazówka do (d): Przepisz pętlę wyliczającą ciąg Fibonacciego, zostawiając oczywiście warunek początkowy i krok rekursywny taki sam, ale używając teraz pętli `while` zamiast `for`. Może być to nawet `while True`, którą przerwij, kiedy ostatnie 9 cyfr będzie permutacją 1-9. jak to sprawdzić? Ostatnie 9 cyfr wytnij konwertując liczbąę na string i używając składni segmentów. Następnie przekonwertuj to na zbiór, bo nie interesuje nas kolejność, ważne tylko, aby były tam wszystkie cyfry od 1 do 9 (bez zera!). Przydać może się też pomocnicza zmienna `all_digits = set( '123456789' )`."
   ]
  },
  {
   "cell_type": "code",
   "execution_count": null,
   "metadata": {},
   "outputs": [],
   "source": [
    "# dłuższe ćwiczenie 20a - rozwiązanie\n",
    "\n"
   ]
  },
  {
   "cell_type": "code",
   "execution_count": null,
   "metadata": {},
   "outputs": [],
   "source": [
    "# dłuższe ćwiczenie 20b - rozwiązanie\n",
    "\n"
   ]
  },
  {
   "cell_type": "code",
   "execution_count": null,
   "metadata": {},
   "outputs": [],
   "source": [
    "# dłuższe ćwiczenie 20c - rozwiązanie\n",
    "\n"
   ]
  },
  {
   "cell_type": "code",
   "execution_count": null,
   "metadata": {},
   "outputs": [],
   "source": [
    "# dłuższe ćwiczenie 20d - rozwiązanie\n",
    "\n"
   ]
  },
  {
   "cell_type": "markdown",
   "metadata": {},
   "source": [
    "<img style = 'float: left; margin-right: 10px; margin-bottom: 10px' src = 'Images/question.png'> Dłuższe ćwiczenie 21 (\\*\\*): Iloczyny ze wszystkich cyfr.\n",
    "\n",
    "W tym zadaniu zajmiemy się iloczynami następującego typu, np. $48 \\cdot 159 = 7632$. Jest to wyrażenie, gdzie mamy iloczyn dwóch czynników oraz wynik tego mnożenia - i okazuje się, że jeśli zbierzemy wszystkie cyfry tych trzech liczb (tutaj: 48, 159, 7632), to każda cyfra od 1 do 9 występuje tu dokładnie raz.\n",
    "\n",
    "Znajdź wszystkie takie trójki liczb.\n",
    "\n",
    "Sprawdź swoją odpowiedź: Jest 9 takich trójek."
   ]
  },
  {
   "cell_type": "markdown",
   "metadata": {},
   "source": [
    "Wskazówka: Po pierwsze należy zauważyć, że oba czynniki nie mogą mieć zbyt wielu cyfr - w końcu łączna liczba cyfr obu czynników i iloczynu musi być 9. Jedyną możliwością jest, aby jeden czynnik był 1-cyfrowy, a drugi 4-cyfrowy, albo jeden 2-cyfrowy, a drugi 3-cyfrowy. Uzasadnij to.\n",
    "\n",
    "Napisz zatem dwie pętle `for`, iterujące się po każdej z tych dwóch możliwości (nazwijmy iteratory `a` i `b`). W każdej iteracji oczywiście chcesz obliczyć iloczyn `c = a * b`. Pomyśl, czy już na tym etapie możesz dodać jakiś warunek sprawdzający, czy łączna liczba cyfr w `a`, `b` i `c` nie przekracza 9 - jeśli tak, możesz przerwać pętlę (dlaczego? czy później w iteracji może się coś wydarzyć?). To zmniejszy nam czas obliczeniowy. Sprawdź teraz warunek, czy jeśli zbierzesz razem cyfry `a`, `b` i `c` (użyj konwersji na string i `+`-a), to będą one permutacją cyfr od 1 do 9. Może znów przydać się zmienna `all_digits` z ćwiczenia 20d. Jeśli tak, dodaj taką tuplę `(a, b, c)` do uprzednio zainicjowanego \"pustego pudełka\"."
   ]
  },
  {
   "cell_type": "code",
   "execution_count": null,
   "metadata": {},
   "outputs": [],
   "source": [
    "# dłuższe ćwiczenie 21 - rozwiązanie\n",
    "\n"
   ]
  },
  {
   "cell_type": "markdown",
   "metadata": {},
   "source": [
    "<img style = 'float: left; margin-right: 10px; margin-bottom: 10px' src = 'Images/question.png'> Dłuższe ćwiczenie 22 (\\*\\*): Ciąg Ulama.\n",
    "\n",
    "[Ciąg Ulama](https://en.wikipedia.org/wiki/Ulam_number) powstaje w taki sposób: Zaczynasz od dwóch elementów, `a` i `b`; klasycznym wyborem jest `a = 1` i `b = 2`. Każdy kolejny element zdefiniowany jest rekursywnie następująco: jest to najmniejsza możliwa liczba, większa od elementu poprzedniego, którą da się zapisać w _unikalny_ sposób jako sumę dwóch różnych wcześniejszych elementów ciągu.\n",
    "\n",
    "Np.:\n",
    "\n",
    "- Zaczynając od 1, 2, trzecim elementem jest oczywiście 3, jako że poprzednie elementy tworzą sumę 1 + 2.\n",
    "\n",
    "- Dalej mamy 4. Istotnie, z poprzednich elementów 1, 2, 3 da się utworzyć następujące sumy dwóch składników: 1 + 2 = 3, 1 + 3 = 4, 2 + 3 = 5. Najmniejszą z tych sum, lecz większą od 3, jest 4.\n",
    "\n",
    "- Z liczb 1, 2, 3, 4 możemy utworzyć teraz następujące sumy: 1 + 2 = 3, 1 + 3 = 4, 1 + 4 = 5, 2 + 3 = 5, 2 + 4 = 6, 3 + 4 = 7. Moglibyśmy pomyśleć, że kolejnym elementem ciągu powinno być 5, ale tak nie jest - zauważmy, że 5 występuje na liście sum dwukrotnie, 5 = 1 + 4 = 2 + 3, a nam chodzi o _unikalną_ sumę. Najmniejszą unikalną sumą, lecz większą od 4, jest zatem 6 - i to jest kolejny element ciągu.\n",
    "\n",
    "Wypisz pierwsze 20 elementów ciągu Ulama.\n",
    "\n",
    "Sprawdź swoją odpowiedź: 20-tym elementem jest 69."
   ]
  },
  {
   "cell_type": "markdown",
   "metadata": {},
   "source": [
    "Wskazówka: Algorytm poniżej jest bardzo nieefektywny (są dużo lepsze, ale o wiele bardziej skomplikowane podejścia), lecz pozwoli nam poćwiczyć Pythona!\n",
    "\n",
    "Musisz mieć cały czas dostęp do wszystkich elementów ciągu, dlatego też zainicjuj listę `ulam = [1, 2]` i do niej dopisuj kolejne elementy. Utwórz też listę `sums`, zawierającą na początku tylko jeden element - sumę 1 + 2, a do której będą trafiać kolejne sumy poprzednich elementów.\n",
    "\n",
    "Napisz pętlę `for` (z niemym iteratorem). W każdym kroku oblicz kolejny element ciągu `n` jako minimum następującej listy - powstaje ona poprzez składnię \"list comprehension\", gdzie iterujesz się po zbiorze sum, wybierając tylko te, które występują w liście `sums` jednokrotnie i które są większe od ostatniego elementu w liście `ulam`.\n",
    "\n",
    "Obliczywszy `n`, wykorzystaj je w dwojaki sposób: Po pierwsze, zmodyfikuj listę `sums`, dodając do niej listę sum `n` ze wszystkimi elementami w starej liście `sums`. Po drugie, dodaj `n` do listy `ulam`."
   ]
  },
  {
   "cell_type": "code",
   "execution_count": null,
   "metadata": {},
   "outputs": [],
   "source": [
    "# dłuższe ćwiczenie 22 - rozwiązanie\n",
    "\n"
   ]
  },
  {
   "cell_type": "code",
   "execution_count": null,
   "metadata": {},
   "outputs": [],
   "source": []
  }
 ],
 "metadata": {
  "kernelspec": {
   "display_name": "Python 3",
   "language": "python",
   "name": "python3"
  },
  "language_info": {
   "codemirror_mode": {
    "name": "ipython",
    "version": 3
   },
   "file_extension": ".py",
   "mimetype": "text/x-python",
   "name": "python",
   "nbconvert_exporter": "python",
   "pygments_lexer": "ipython3",
   "version": "3.7.9"
  }
 },
 "nbformat": 4,
 "nbformat_minor": 4
}
