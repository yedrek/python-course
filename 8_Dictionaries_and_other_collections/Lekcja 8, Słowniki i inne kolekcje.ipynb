{
 "cells": [
  {
   "cell_type": "markdown",
   "metadata": {},
   "source": [
    "# Lekcja 8: Słowniki i inne kolekcje"
   ]
  },
  {
   "cell_type": "markdown",
   "metadata": {},
   "source": [
    "## Spis treści"
   ]
  },
  {
   "cell_type": "markdown",
   "metadata": {},
   "source": [
    "<a href=\"#1\">1. Słowniki</a>\n",
    "\n",
    "\n",
    "- <a href=\"#1.1\">1.1. Co to jest słownik?</a>\n",
    "\n",
    "\n",
    "- <a href=\"#1.2\">1.2. Tworzenie słowników</a>\n",
    "    - <a href=\"#1.2_b1\">Przypisania klucz:wartość w nawiasach klamrowych</a>\n",
    "    - <a href=\"#1.2_b2\">Klucze muszą być niemutowalne</a>\n",
    "    - <a href=\"#1.2_b3\">Klucze nie mogą mieć duplikatów</a>\n",
    "    - <a href=\"#1.2_b4\">Klucze nie mogą mieć duplikatów - niespodzianka</a>\n",
    "    - <a href=\"#1.2_b5\">Słownik pusty</a>\n",
    "    - <a href=\"#1.2_b6\">Konwersja kolekcji par do słownika</a>\n",
    "    - <a href=\"#1.2_b7\">Funkcja `dict` z argumentami nazwanymi</a>\n",
    "\n",
    "\n",
    "- <a href=\"#1.3\">1.3. Słowniki są nieuporządkowane, ale są indeksowane kluczem</a>\n",
    "    - <a href=\"#1.3_b1\">Klucz jako indeks</a>\n",
    "    - <a href=\"#1.3_b2\">Metoda `get`</a>\n",
    "\n",
    "\n",
    "- <a href=\"#1.4\">1.4. Słowniki można modyfikować</a>\n",
    "    - <a href=\"#1.4_b1\">Dodawanie nowych elementów i modyfikowanie istniejących</a>\n",
    "    - <a href=\"#1.4_b2\">Łączenie słowników</a>\n",
    "    - <a href=\"#1.4_b3\">Usuwanie elementów</a>\n",
    "\n",
    "\n",
    "- <a href=\"#1.5\">1.5. Iterowanie przez słownik</a>\n",
    "    - <a href=\"#1.5_b1\">Lista kluczy - metoda `keys`</a>\n",
    "    - <a href=\"#1.5_b2\">Lista wartości - metoda `values`</a>\n",
    "    - <a href=\"#1.5_b3\">Lista par (klucz, wartość) - metoda `items`</a>\n",
    "    - <a href=\"#1.5_b4\">Operatory `in` i `not in`</a>\n",
    "    - <a href=\"#1.5_b5\">\"Dictionary comprehension\"</a>\n",
    "\n",
    "\n",
    "<a href=\"#2\">2. Kilka innych kolekcji</a>\n",
    "\n",
    "\n",
    "- <a href=\"#2.1\">2.1. Moduł `collections` i typ `defaultdict`</a>\n",
    "\n",
    "\n",
    "- <a href=\"#2.2\">2.2. Biblioteki `numpy` i `pandas`</a>\n",
    "    - <a href=\"#2.2_b1\">`numpy`</a>\n",
    "    - <a href=\"#2.2_b2\">`pandas`</a>\n",
    "\n",
    "\n",
    "<a href=\"#3\">3. Zadania domowe</a>"
   ]
  },
  {
   "cell_type": "markdown",
   "metadata": {},
   "source": [
    "## <a id=\"1\"></a>1. Słowniki"
   ]
  },
  {
   "cell_type": "markdown",
   "metadata": {},
   "source": [
    "### <a id=\"1.1\"></a>1.1. Co to jest słownik?"
   ]
  },
  {
   "cell_type": "markdown",
   "metadata": {},
   "source": [
    "**Słownik** (\"dictionary\", typ `dict`) to jedna z najważniejszych i najczęściej używanych kolekcji w Pythonie. Z punktu widzenia naszych dwóch fundamentalnych własności, słowniki są:\n",
    "\n",
    "- Nieuporządkowane - nie mają indeksu 0, 1, 2, ... pokazującego, który element jest pierwszy, który drugi itd., jak stringi, listy czy tuple. Natomiast mają tzw. **klucz** (\"key\"), który pełni rolę indeksu. Mówiąc dokładniej, słownik jest to kolekcja **przypisań** (\"associations\") o postaci:\n",
    "```\n",
    "key : value\n",
    "```\n",
    "gdzie mamy serię kluczy `key`, do których przypisane są wartości `value`; zatem choć do wartości `value` nie możemy odwołać się poprzez indeks, to możemy to zrobić poprzez klucz `key`. Możemy wyobrazić sobie prawdziwy słownik, gdzie słowu angielskiemu (`key`) jest przypisane słowo polskie (`value`); lub książkę telefoniczną, gdzie imieniu (`key`) przypisany jest numer telefonu (`value`).\n",
    "\n",
    "- Mutowalne - można je do woli modyfikować."
   ]
  },
  {
   "cell_type": "markdown",
   "metadata": {},
   "source": [
    "### <a id=\"1.2\"></a>1.2. Tworzenie słowników"
   ]
  },
  {
   "cell_type": "markdown",
   "metadata": {},
   "source": [
    "#### <a id=\"1.2_b1\"></a>Przypisania klucz:wartość w nawiasach klamrowych"
   ]
  },
  {
   "cell_type": "markdown",
   "metadata": {},
   "source": [
    "Słownik tworzymy - podobnie jak zbiór - zamykając elementy w nawiasy klamrowe; każdy element jest teraz jednak parą - a dokładniej przypisaniem - klucz i wartość."
   ]
  },
  {
   "cell_type": "code",
   "execution_count": 1,
   "metadata": {},
   "outputs": [],
   "source": [
    "chemical_elements = {\n",
    "    'copper' : 29 ,\n",
    "    'gold' : 79 ,\n",
    "    'silver' : 47 ,\n",
    "    'platinum' : 78 ,\n",
    "    'palladium' : 46\n",
    "} # kluczami są stringi (nazwy pierwiastków), wartościami liczby całkowite (liczby atomowe)"
   ]
  },
  {
   "cell_type": "code",
   "execution_count": 2,
   "metadata": {},
   "outputs": [
    {
     "data": {
      "text/plain": [
       "dict"
      ]
     },
     "execution_count": 2,
     "metadata": {},
     "output_type": "execute_result"
    }
   ],
   "source": [
    "type( chemical_elements )"
   ]
  },
  {
   "cell_type": "markdown",
   "metadata": {},
   "source": [
    "#### <a id=\"1.2_b2\"></a>Klucze muszą być niemutowalne"
   ]
  },
  {
   "cell_type": "markdown",
   "metadata": {},
   "source": [
    "Klucz może być generalnie dowolnego typu, byle _niemutowalnego_ - może być więc np. liczbą, stringiem, tuplą, ale listą już nie (klucz nie może też być innym słownikiem - słowniki są mutowalne)."
   ]
  },
  {
   "cell_type": "code",
   "execution_count": 3,
   "metadata": {},
   "outputs": [
    {
     "ename": "TypeError",
     "evalue": "unhashable type: 'list'",
     "output_type": "error",
     "traceback": [
      "\u001b[1;31m---------------------------------------------------------------------------\u001b[0m",
      "\u001b[1;31mTypeError\u001b[0m                                 Traceback (most recent call last)",
      "\u001b[1;32m<ipython-input-3-d21d460bc2ac>\u001b[0m in \u001b[0;36m<module>\u001b[1;34m\u001b[0m\n\u001b[0;32m      1\u001b[0m some_dict = {\n\u001b[0;32m      2\u001b[0m     \u001b[1;33m[\u001b[0m \u001b[1;36m1\u001b[0m \u001b[1;33m,\u001b[0m \u001b[1;36m2\u001b[0m \u001b[1;33m]\u001b[0m \u001b[1;33m:\u001b[0m \u001b[1;36m2\u001b[0m \u001b[1;33m,\u001b[0m\u001b[1;33m\u001b[0m\u001b[1;33m\u001b[0m\u001b[0m\n\u001b[1;32m----> 3\u001b[1;33m     \u001b[1;33m[\u001b[0m \u001b[1;36m3\u001b[0m \u001b[1;33m,\u001b[0m \u001b[1;36m4\u001b[0m \u001b[1;33m,\u001b[0m \u001b[1;36m5\u001b[0m \u001b[1;33m,\u001b[0m \u001b[1;36m6\u001b[0m \u001b[1;33m]\u001b[0m \u001b[1;33m:\u001b[0m \u001b[1;36m4\u001b[0m\u001b[1;33m\u001b[0m\u001b[1;33m\u001b[0m\u001b[0m\n\u001b[0m\u001b[0;32m      4\u001b[0m } # próba utworzenia słownika z niedozwolonym typem klucza\n",
      "\u001b[1;31mTypeError\u001b[0m: unhashable type: 'list'"
     ]
    }
   ],
   "source": [
    "some_dict = {\n",
    "    [ 1 , 2 ] : 2 ,\n",
    "    [ 3 , 4 , 5 , 6 ] : 4\n",
    "} # próba utworzenia słownika z niedozwolonym typem klucza"
   ]
  },
  {
   "cell_type": "markdown",
   "metadata": {},
   "source": [
    "Moglibyśmy w tym przypadku użyć tupli - to jedno z jej zastosowań:"
   ]
  },
  {
   "cell_type": "code",
   "execution_count": 4,
   "metadata": {},
   "outputs": [],
   "source": [
    "some_dict = {\n",
    "    ( 1 , 2 ) : 2 ,\n",
    "    ( 3 , 4 , 5 , 6 ) : 4\n",
    "}"
   ]
  },
  {
   "cell_type": "markdown",
   "metadata": {},
   "source": [
    "Z kolei wartości mogą być najzupełniej dowolnego typu."
   ]
  },
  {
   "cell_type": "markdown",
   "metadata": {},
   "source": [
    "Zarówno klucze, jak i wartości, mogą mieć różne typy, np.:"
   ]
  },
  {
   "cell_type": "code",
   "execution_count": 5,
   "metadata": {},
   "outputs": [
    {
     "data": {
      "text/plain": [
       "{1: 'a', (5, 6): False}"
      ]
     },
     "execution_count": 5,
     "metadata": {},
     "output_type": "execute_result"
    }
   ],
   "source": [
    "{\n",
    "    1 : 'a' ,\n",
    "    ( 5 , 6 ) : False\n",
    "}"
   ]
  },
  {
   "cell_type": "markdown",
   "metadata": {},
   "source": [
    "... czy nawet:"
   ]
  },
  {
   "cell_type": "code",
   "execution_count": 6,
   "metadata": {},
   "outputs": [
    {
     "data": {
      "text/plain": [
       "{int: 1, float: 2, bool: 3}"
      ]
     },
     "execution_count": 6,
     "metadata": {},
     "output_type": "execute_result"
    }
   ],
   "source": [
    "{\n",
    "    int : 1 ,\n",
    "    float : 2 ,\n",
    "    bool : 3\n",
    "}"
   ]
  },
  {
   "cell_type": "markdown",
   "metadata": {},
   "source": [
    "#### <a id=\"1.2_b3\"></a>Klucze nie mogą mieć duplikatów"
   ]
  },
  {
   "cell_type": "markdown",
   "metadata": {},
   "source": [
    "Klucz pełni rolę indeksu, pozwalającego dostać się do danej wartości (zob. niżej). Aby miało to sens, _klucze nie mogą się powtarzać_. Gdybyśmy spróbowali stworzyć słownik z kilkoma identycznymi kluczami, Python automatycznie **odrzuci wszystkie, oprócz ostatniego zapisanego wystąpienia**."
   ]
  },
  {
   "cell_type": "code",
   "execution_count": 7,
   "metadata": {},
   "outputs": [
    {
     "data": {
      "text/plain": [
       "{'apple': 'green', 'orange': 'orange', 'plum': 'violet'}"
      ]
     },
     "execution_count": 7,
     "metadata": {},
     "output_type": "execute_result"
    }
   ],
   "source": [
    "fruit_colors = {\n",
    "    'apple' : 'red' ,\n",
    "    'apple' : 'yellow' ,\n",
    "    'orange' : 'orange' ,\n",
    "    'apple' : 'green' ,\n",
    "    'plum' : 'violet'\n",
    "}\n",
    "\n",
    "fruit_colors # zostaje tylko 'apple' : 'green', pozostałe elementy z kluczem 'apple' są odrzucone"
   ]
  },
  {
   "cell_type": "markdown",
   "metadata": {},
   "source": [
    "Mówiąc dokładniej, kiedy Python chce zrozumieć naszą deklarację słownika, tworzy on najpierw pusty słownik, a następnie po kolei - tak, jak to zapisaliśmy - \"dorzuca\" do niego kolejne przypisania. Jeśli napotka ten sam klucz, co wcześniej, _nadpisuje_ jego wartość na nową.\n",
    "\n",
    "Sytuacja taka może nam się przydarzyć, np. kiedy sami tworzymy słownik iteracyjnie - trzeba pamiętać, że każde wystąpienie tego samego klucza, co wcześniej, nadpisze poprzednią wartość."
   ]
  },
  {
   "cell_type": "markdown",
   "metadata": {},
   "source": [
    "#### <a id=\"1.2_b4\"></a>Klucze nie mogą mieć duplikatów - niespodzianka"
   ]
  },
  {
   "cell_type": "markdown",
   "metadata": {},
   "source": [
    "Zasada ta może czasem prowadzić do dość niespodziewanych rezultatów! Rozważmy następujący słownik:"
   ]
  },
  {
   "cell_type": "code",
   "execution_count": 13,
   "metadata": {},
   "outputs": [
    {
     "data": {
      "text/plain": [
       "{1: 'maybe'}"
      ]
     },
     "execution_count": 13,
     "metadata": {},
     "output_type": "execute_result"
    }
   ],
   "source": [
    "{\n",
    "    1 : 'yes' ,\n",
    "    True : 'no' ,\n",
    "    1.0 : 'maybe'\n",
    "}"
   ]
  },
  {
   "cell_type": "markdown",
   "metadata": {},
   "source": [
    "Co tu się stało?? Otóż dla Pythona wszystkie występujące tu klucze są identyczne. Dość intuicyjna wydaje się pierwsza równość:"
   ]
  },
  {
   "cell_type": "code",
   "execution_count": 9,
   "metadata": {},
   "outputs": [
    {
     "data": {
      "text/plain": [
       "True"
      ]
     },
     "execution_count": 9,
     "metadata": {},
     "output_type": "execute_result"
    }
   ],
   "source": [
    "1 == 1.0"
   ]
  },
  {
   "cell_type": "markdown",
   "metadata": {},
   "source": [
    "... natomiast mamy także:"
   ]
  },
  {
   "cell_type": "code",
   "execution_count": 10,
   "metadata": {},
   "outputs": [
    {
     "data": {
      "text/plain": [
       "True"
      ]
     },
     "execution_count": 10,
     "metadata": {},
     "output_type": "execute_result"
    }
   ],
   "source": [
    "1 == True"
   ]
  },
  {
   "cell_type": "markdown",
   "metadata": {},
   "source": [
    "... jako że w Pythonie typ `bool` jest tak naprawdę \"pod-typem\" typu `int`: Python wewnętrznie traktuje `False` jako `0`, a `True` jako `1`. Dlatego też wszystkie te trzy klucze są dla Pythona identyczne. Zatem zgodnie z tym, co mówiliśmy, zostaje nam tylko _ostatnia_ wartość, tj. `'maybe'`."
   ]
  },
  {
   "cell_type": "markdown",
   "metadata": {},
   "source": [
    "Dlaczego jednak został nam _pierwszy_ klucz, `True`? Python sprawdziwszy, że dostał ten sam klucz, co poprzednio, nadpisuje wartość, ale - oczywiście! - nie nadpisuje klucza; po co miałby to robić, skoro klucz jest ten sam! Zatem tutaj dostając kolejne klucze, `1`, a potem `1.0`, sprawdziwszy, że są one identyczne do `True`, Python naspisuje wartość, ale klucz pozostaje ten sam, co na początku."
   ]
  },
  {
   "cell_type": "markdown",
   "metadata": {},
   "source": [
    "#### <a id=\"1.2_b5\"></a>Słownik pusty"
   ]
  },
  {
   "cell_type": "markdown",
   "metadata": {},
   "source": [
    "Puste w środku nawiasy klamrowe tworzą pusty słownik (nie zbiór!):"
   ]
  },
  {
   "cell_type": "code",
   "execution_count": 14,
   "metadata": {},
   "outputs": [],
   "source": [
    "empty_dict = {}"
   ]
  },
  {
   "cell_type": "code",
   "execution_count": 15,
   "metadata": {},
   "outputs": [
    {
     "data": {
      "text/plain": [
       "dict"
      ]
     },
     "execution_count": 15,
     "metadata": {},
     "output_type": "execute_result"
    }
   ],
   "source": [
    "type( empty_dict )"
   ]
  },
  {
   "cell_type": "markdown",
   "metadata": {},
   "source": [
    "Ten sam efekt będzie miało napisanie `dict()`:\n",
    "\n"
   ]
  },
  {
   "cell_type": "code",
   "execution_count": 16,
   "metadata": {},
   "outputs": [
    {
     "data": {
      "text/plain": [
       "{}"
      ]
     },
     "execution_count": 16,
     "metadata": {},
     "output_type": "execute_result"
    }
   ],
   "source": [
    "dict()"
   ]
  },
  {
   "cell_type": "markdown",
   "metadata": {},
   "source": [
    "... co jest analogiczne do pustych list, tupli, zbiorów:"
   ]
  },
  {
   "cell_type": "code",
   "execution_count": 17,
   "metadata": {},
   "outputs": [
    {
     "data": {
      "text/plain": [
       "[]"
      ]
     },
     "execution_count": 17,
     "metadata": {},
     "output_type": "execute_result"
    }
   ],
   "source": [
    "list()"
   ]
  },
  {
   "cell_type": "code",
   "execution_count": 18,
   "metadata": {},
   "outputs": [
    {
     "data": {
      "text/plain": [
       "()"
      ]
     },
     "execution_count": 18,
     "metadata": {},
     "output_type": "execute_result"
    }
   ],
   "source": [
    "tuple()"
   ]
  },
  {
   "cell_type": "code",
   "execution_count": 19,
   "metadata": {},
   "outputs": [
    {
     "data": {
      "text/plain": [
       "set()"
      ]
     },
     "execution_count": 19,
     "metadata": {},
     "output_type": "execute_result"
    }
   ],
   "source": [
    "set()"
   ]
  },
  {
   "cell_type": "markdown",
   "metadata": {},
   "source": [
    "Co ciekawe, analogicznie możemy utworzyć pusty string, a także liczbę całkowitą bądź zmiennoprzecinkową zero, czy też wartość logiczną \"fałsz\":"
   ]
  },
  {
   "cell_type": "code",
   "execution_count": 20,
   "metadata": {},
   "outputs": [
    {
     "data": {
      "text/plain": [
       "''"
      ]
     },
     "execution_count": 20,
     "metadata": {},
     "output_type": "execute_result"
    }
   ],
   "source": [
    "str()"
   ]
  },
  {
   "cell_type": "code",
   "execution_count": 21,
   "metadata": {},
   "outputs": [
    {
     "data": {
      "text/plain": [
       "0"
      ]
     },
     "execution_count": 21,
     "metadata": {},
     "output_type": "execute_result"
    }
   ],
   "source": [
    "int()"
   ]
  },
  {
   "cell_type": "code",
   "execution_count": 22,
   "metadata": {},
   "outputs": [
    {
     "data": {
      "text/plain": [
       "0.0"
      ]
     },
     "execution_count": 22,
     "metadata": {},
     "output_type": "execute_result"
    }
   ],
   "source": [
    "float()"
   ]
  },
  {
   "cell_type": "code",
   "execution_count": 23,
   "metadata": {},
   "outputs": [
    {
     "data": {
      "text/plain": [
       "False"
      ]
     },
     "execution_count": 23,
     "metadata": {},
     "output_type": "execute_result"
    }
   ],
   "source": [
    "bool()"
   ]
  },
  {
   "cell_type": "markdown",
   "metadata": {},
   "source": [
    "Wracając do słowników, ponieważ są one mutowalne - można je do woli modyfikować - taki pusty słownik może służyć jako \"pusty pojemnik\", do którego będziemy \"wrzucać\" kolejne pary klucz:wartość."
   ]
  },
  {
   "cell_type": "markdown",
   "metadata": {},
   "source": [
    "#### <a id=\"1.2_b6\"></a>Konwersja kolekcji par do słownika"
   ]
  },
  {
   "cell_type": "markdown",
   "metadata": {},
   "source": [
    "Słownik możemy utworzyć też konwertując typ na `dict` - a zatem funkcją o nazwie `dict` - innej kolekcji, przy czym musi być to bardzo konkretnie kolekcja _par_, które następnie zostaną przekonwertowane na pary przypisań. Możemy mieć więc listę/tuplę 2-elementowych list/tupli."
   ]
  },
  {
   "cell_type": "code",
   "execution_count": 24,
   "metadata": {},
   "outputs": [
    {
     "data": {
      "text/plain": [
       "{'a': 1, 'b': 2, 'c': 3}"
      ]
     },
     "execution_count": 24,
     "metadata": {},
     "output_type": "execute_result"
    }
   ],
   "source": [
    "dict( [ [ 'a' , 1 ] , [ 'b' , 2 ] , [ 'c' , 3 ] ] )"
   ]
  },
  {
   "cell_type": "code",
   "execution_count": 25,
   "metadata": {},
   "outputs": [
    {
     "data": {
      "text/plain": [
       "{'a': 1, 'b': 2, 'c': 3}"
      ]
     },
     "execution_count": 25,
     "metadata": {},
     "output_type": "execute_result"
    }
   ],
   "source": [
    "dict( [ ( 'a' , 1 ) , ( 'b' , 2 ) , ( 'c' , 3 ) ] )"
   ]
  },
  {
   "cell_type": "markdown",
   "metadata": {},
   "source": [
    "Trzeba pamiętać tylko, iż pierwsze elementy par nie mogą być mutowalne, bo przecież klucze - którymi się staną - nie mogą być obiektami mutowalnymi."
   ]
  },
  {
   "cell_type": "code",
   "execution_count": 27,
   "metadata": {},
   "outputs": [
    {
     "data": {
      "text/plain": [
       "{1: ['a', 'A'], 2: ['b', 'B'], 3: ['c', 'C']}"
      ]
     },
     "execution_count": 27,
     "metadata": {},
     "output_type": "execute_result"
    }
   ],
   "source": [
    "dict( [ ( 1 , [ 'a' , 'A' ] ) , ( 2 , [ 'b' , 'B' ] ) , (  3 , [ 'c' , 'C' ]  ) ] )"
   ]
  },
  {
   "cell_type": "markdown",
   "metadata": {},
   "source": [
    "Przypomnijmy sobie teraz z Lekcji 6, że funkcje `enumerate` i `zip` (zastosowana do dwóch kolekcji) tworzą nam dokładnie takie kolekcje par - możemy więc np. wygodnie utworzyć słownik z dwóch list, listy kluczy i listy wartości, \"spinając je na suwak\" i konwertując otrzymaną kolekcję par na słownik."
   ]
  },
  {
   "cell_type": "code",
   "execution_count": 28,
   "metadata": {},
   "outputs": [
    {
     "data": {
      "text/plain": [
       "{'Rysy': 2503,\n",
       " 'Mięguszowiecki Szczyt Wielki': 2438,\n",
       " 'Niżnie Rysy': 2430,\n",
       " 'Mięguszowiecki Szczyt Czarny': 2410}"
      ]
     },
     "execution_count": 28,
     "metadata": {},
     "output_type": "execute_result"
    }
   ],
   "source": [
    "mountain_names = [ 'Rysy' , 'Mięguszowiecki Szczyt Wielki' , 'Niżnie Rysy' , 'Mięguszowiecki Szczyt Czarny' ]\n",
    "elevations = [ 2503 , 2438 , 2430 , 2410 ]\n",
    "\n",
    "dict( zip( mountain_names , elevations ) )"
   ]
  },
  {
   "cell_type": "markdown",
   "metadata": {},
   "source": [
    "#### <a id=\"1.2_b7\"></a>Funkcja `dict` z argumentami nazwanymi"
   ]
  },
  {
   "cell_type": "markdown",
   "metadata": {},
   "source": [
    "Wspomnijmy jeszcze o jednej metodzie kreacji słowników. Powyżej używaliśmy funkcji `dict` do konwersji typów. Okazuje się, że funkcja `dict` może też przyjąć tzw. argumenty nazwane - o których nauczymy się w Lekcjach 9-10 o funkcjach. Składnia ma postać:"
   ]
  },
  {
   "cell_type": "code",
   "execution_count": 31,
   "metadata": {},
   "outputs": [
    {
     "data": {
      "text/plain": [
       "{'a': 1, 'b': 2, 'c': 3}"
      ]
     },
     "execution_count": 31,
     "metadata": {},
     "output_type": "execute_result"
    }
   ],
   "source": [
    "dict( a = 1 , b = 2 , c = 3 )"
   ]
  },
  {
   "cell_type": "markdown",
   "metadata": {},
   "source": [
    "... co tworzy słownik, gdzie kluczami są _stringi_, reprezentujące nazwy parametrów podanych funkcji `dict`."
   ]
  },
  {
   "cell_type": "markdown",
   "metadata": {},
   "source": [
    "<img style = 'float: left; margin-right: 10px; margin-bottom: 10px' src = 'Images/question.png'> Szybkie ćwiczenie 1: Utwórz słownik, którego kluczami będą stringi `'Mercury'`, `'Venus'`, `'Earth'`, `'Mars'`, zaś odpowiednimi wartościami listy, `[]`, `[]`, `['Moon']`, `['Phobos', 'Deimos']` (pierwsze dwie listy są puste, bo Merkury i Wenus nie mają księżyców). Użyj trzech poznanych wyżej metod:\n",
    "\n",
    "(a) umieszczenie przypisań klucz:wartość w nawiasach klamrowych;\n",
    "\n",
    "(b) konwersja do słownika listy par \"spiętych na suwak\";\n",
    "\n",
    "(c) funkcja `dict` z argumentami nazwanymi."
   ]
  },
  {
   "cell_type": "code",
   "execution_count": 32,
   "metadata": {},
   "outputs": [
    {
     "data": {
      "text/plain": [
       "{'Mercury': [], 'Venus': [], 'Earth': ['Moon'], 'Mars': ['Phobos', 'Deimos']}"
      ]
     },
     "execution_count": 32,
     "metadata": {},
     "output_type": "execute_result"
    }
   ],
   "source": [
    "# szybkie ćwiczenie 1a - rozwiązanie\n",
    "\n",
    "{\n",
    "    'Mercury' : [] ,\n",
    "    'Venus' : [] ,\n",
    "    'Earth' : [ 'Moon' ] ,\n",
    "    'Mars' : [ 'Phobos' , 'Deimos' ]\n",
    "}"
   ]
  },
  {
   "cell_type": "code",
   "execution_count": 33,
   "metadata": {},
   "outputs": [
    {
     "data": {
      "text/plain": [
       "{'Mercury': [], 'Venus': [], 'Earth': ['Moon'], 'Mars': ['Phobos', 'Deimos']}"
      ]
     },
     "execution_count": 33,
     "metadata": {},
     "output_type": "execute_result"
    }
   ],
   "source": [
    "# szybkie ćwiczenie 1b - rozwiązanie\n",
    "\n",
    "planets = [ 'Mercury', 'Venus', 'Earth', 'Mars' ]\n",
    "moons = [ [] , [] , ['Moon'] , [ 'Phobos', 'Deimos' ] ]\n",
    "\n",
    "dict( zip( planets , moons ) )"
   ]
  },
  {
   "cell_type": "code",
   "execution_count": 34,
   "metadata": {},
   "outputs": [
    {
     "data": {
      "text/plain": [
       "{'Mercury': [], 'Venus': [], 'Earth': ['Moon'], 'Mars': ['Phobos', 'Deimos']}"
      ]
     },
     "execution_count": 34,
     "metadata": {},
     "output_type": "execute_result"
    }
   ],
   "source": [
    "# szybkie ćwiczenie 1c - rozwiązanie\n",
    "\n",
    "dict( Mercury = [] , Venus = [] , Earth = [ 'Moon' ] , Mars = [ 'Phobos', 'Deimos' ] )"
   ]
  },
  {
   "cell_type": "markdown",
   "metadata": {},
   "source": [
    "### <a id=\"1.3\"></a>1.3. Słowniki są nieuporządkowane, ale są indeksowane kluczem"
   ]
  },
  {
   "cell_type": "markdown",
   "metadata": {},
   "source": [
    "#### <a id=\"1.3_b1\"></a>Klucz jako indeks"
   ]
  },
  {
   "cell_type": "markdown",
   "metadata": {},
   "source": [
    "Podobnie jak zbiory, nie mamy w słownikach ustalonej kolejności i w związku z tym nie możemy do elementów odwoływać się indeksem."
   ]
  },
  {
   "cell_type": "code",
   "execution_count": 35,
   "metadata": {},
   "outputs": [
    {
     "data": {
      "text/plain": [
       "{'copper': 29, 'gold': 79, 'silver': 47, 'platinum': 78, 'palladium': 46}"
      ]
     },
     "execution_count": 35,
     "metadata": {},
     "output_type": "execute_result"
    }
   ],
   "source": [
    "chemical_elements"
   ]
  },
  {
   "cell_type": "code",
   "execution_count": 36,
   "metadata": {},
   "outputs": [
    {
     "ename": "KeyError",
     "evalue": "0",
     "output_type": "error",
     "traceback": [
      "\u001b[1;31m---------------------------------------------------------------------------\u001b[0m",
      "\u001b[1;31mKeyError\u001b[0m                                  Traceback (most recent call last)",
      "\u001b[1;32m<ipython-input-36-268aa5fb9184>\u001b[0m in \u001b[0;36m<module>\u001b[1;34m\u001b[0m\n\u001b[1;32m----> 1\u001b[1;33m \u001b[0mchemical_elements\u001b[0m\u001b[1;33m[\u001b[0m \u001b[1;36m0\u001b[0m \u001b[1;33m]\u001b[0m \u001b[1;31m# słownik nie ma indeksu!\u001b[0m\u001b[1;33m\u001b[0m\u001b[1;33m\u001b[0m\u001b[0m\n\u001b[0m",
      "\u001b[1;31mKeyError\u001b[0m: 0"
     ]
    }
   ],
   "source": [
    "chemical_elements[ 0 ] # słownik nie ma indeksu!"
   ]
  },
  {
   "cell_type": "markdown",
   "metadata": {},
   "source": [
    "Natomiast do każdej wartości możemy odnieść się - tą samą składnią nawiasów kwadratowych - poprzez jej (unikalny!) klucz."
   ]
  },
  {
   "cell_type": "code",
   "execution_count": 37,
   "metadata": {},
   "outputs": [
    {
     "data": {
      "text/plain": [
       "79"
      ]
     },
     "execution_count": 37,
     "metadata": {},
     "output_type": "execute_result"
    }
   ],
   "source": [
    "chemical_elements[ 'gold' ] # wartość dla klucza 'gold' (string) jest 79 (int)"
   ]
  },
  {
   "cell_type": "markdown",
   "metadata": {},
   "source": [
    "... czy też:"
   ]
  },
  {
   "cell_type": "code",
   "execution_count": 38,
   "metadata": {},
   "outputs": [
    {
     "data": {
      "text/plain": [
       "{(1, 2): 2, (3, 4, 5, 6): 4}"
      ]
     },
     "execution_count": 38,
     "metadata": {},
     "output_type": "execute_result"
    }
   ],
   "source": [
    "some_dict"
   ]
  },
  {
   "cell_type": "code",
   "execution_count": 39,
   "metadata": {},
   "outputs": [
    {
     "data": {
      "text/plain": [
       "4"
      ]
     },
     "execution_count": 39,
     "metadata": {},
     "output_type": "execute_result"
    }
   ],
   "source": [
    "some_dict[ ( 3 , 4 , 5 , 6 ) ] # wartość dla klucza ( 3 , 4 , 5 , 6 ) (tupla) jest 4 (int)"
   ]
  },
  {
   "cell_type": "markdown",
   "metadata": {},
   "source": [
    "<img style = 'float: left; margin-right: 10px; margin-bottom: 10px' src = 'Images/question.png'> Szybkie ćwiczenie 2: \"Multiple lookup\".\n",
    "\n",
    "Pracujmy na słowniku `chemical_elements`. Wiemy już, jak otrzymać wartość odpowiadającą danemu kluczowi słownika poprzez składnię nawiasów kwadratowych. A gdybyśmy chcieli otrzymać listę wartości odpowiadających kluczom na zadanej liście, np. `key_list = ['gold', 'platinum', 'palladium']`? Tutaj dostalibyśmy listę `[79, 78, 46]`."
   ]
  },
  {
   "cell_type": "markdown",
   "metadata": {},
   "source": [
    "Wskazówka: Użyj składni \"list comprehension\", iterując się po liście `key_list`."
   ]
  },
  {
   "cell_type": "code",
   "execution_count": 42,
   "metadata": {},
   "outputs": [
    {
     "data": {
      "text/plain": [
       "[79, 78, 46]"
      ]
     },
     "execution_count": 42,
     "metadata": {},
     "output_type": "execute_result"
    }
   ],
   "source": [
    "# szybkie ćwiczenie 2 - rozwiązanie\n",
    "\n",
    "key_list = ['gold', 'platinum', 'palladium']\n",
    "\n",
    "[ chemical_elements[ key ] for key in key_list ]"
   ]
  },
  {
   "cell_type": "markdown",
   "metadata": {},
   "source": [
    "#### <a id=\"1.3_b2\"></a>Metoda `get`"
   ]
  },
  {
   "cell_type": "markdown",
   "metadata": {},
   "source": [
    "Alternatywną opcją wyciągnięcia wartości przypisanej do danego klucza jest metoda `get`."
   ]
  },
  {
   "cell_type": "code",
   "execution_count": 43,
   "metadata": {},
   "outputs": [
    {
     "data": {
      "text/plain": [
       "79"
      ]
     },
     "execution_count": 43,
     "metadata": {},
     "output_type": "execute_result"
    }
   ],
   "source": [
    "chemical_elements.get( 'gold' )"
   ]
  },
  {
   "cell_type": "markdown",
   "metadata": {},
   "source": [
    "Istotna różnica względem dobrze nam znanej składni nawiasów kwadratowych objawia się podczas próby otrzymania wartości dla _nieistniejącego klucza_; składnia nawiasów zwróci błąd:"
   ]
  },
  {
   "cell_type": "code",
   "execution_count": 44,
   "metadata": {},
   "outputs": [
    {
     "ename": "KeyError",
     "evalue": "'hydrogen'",
     "output_type": "error",
     "traceback": [
      "\u001b[1;31m---------------------------------------------------------------------------\u001b[0m",
      "\u001b[1;31mKeyError\u001b[0m                                  Traceback (most recent call last)",
      "\u001b[1;32m<ipython-input-44-962aebfc0512>\u001b[0m in \u001b[0;36m<module>\u001b[1;34m\u001b[0m\n\u001b[1;32m----> 1\u001b[1;33m \u001b[0mchemical_elements\u001b[0m\u001b[1;33m[\u001b[0m \u001b[1;34m'hydrogen'\u001b[0m \u001b[1;33m]\u001b[0m\u001b[1;33m\u001b[0m\u001b[1;33m\u001b[0m\u001b[0m\n\u001b[0m",
      "\u001b[1;31mKeyError\u001b[0m: 'hydrogen'"
     ]
    }
   ],
   "source": [
    "chemical_elements[ 'hydrogen' ]"
   ]
  },
  {
   "cell_type": "markdown",
   "metadata": {},
   "source": [
    "... podczas gdy `get` zwróci (całkiem poprawną) wartość `None`:"
   ]
  },
  {
   "cell_type": "code",
   "execution_count": 45,
   "metadata": {},
   "outputs": [],
   "source": [
    "chemical_elements.get( 'hydrogen' )"
   ]
  },
  {
   "cell_type": "code",
   "execution_count": 46,
   "metadata": {},
   "outputs": [
    {
     "data": {
      "text/plain": [
       "True"
      ]
     },
     "execution_count": 46,
     "metadata": {},
     "output_type": "execute_result"
    }
   ],
   "source": [
    "chemical_elements.get( 'hydrogen' ) is None"
   ]
  },
  {
   "cell_type": "markdown",
   "metadata": {},
   "source": [
    "Co więcej, metodzie `get` możemy dać jako drugi opcjonalny argument wartość, którą metoda ma zwrócić, jeśli nie znajdzie klucza:"
   ]
  },
  {
   "cell_type": "code",
   "execution_count": 47,
   "metadata": {},
   "outputs": [
    {
     "data": {
      "text/plain": [
       "\"I don't know!\""
      ]
     },
     "execution_count": 47,
     "metadata": {},
     "output_type": "execute_result"
    }
   ],
   "source": [
    "chemical_elements.get( 'hydrogen' , 'I don\\'t know!' ) # string 'I don\\'t know!' jest (opcjonalną) wartością zwracaną, gdy klucza nie ma w słowniku"
   ]
  },
  {
   "cell_type": "code",
   "execution_count": 50,
   "metadata": {},
   "outputs": [
    {
     "data": {
      "text/plain": [
       "[79, 78, 46, -1]"
      ]
     },
     "execution_count": 50,
     "metadata": {},
     "output_type": "execute_result"
    }
   ],
   "source": [
    "key_list = ['gold', 'platinum', 'palladium', 'hydrogen']\n",
    "\n",
    "[ chemical_elements.get( key , -1 ) for key in key_list ]"
   ]
  },
  {
   "cell_type": "markdown",
   "metadata": {},
   "source": [
    "Bezpieczniej jest zatem używać metody `get`, jako że mamy wtedy pełną kontrolę nad jej zachowaniem w przypadku nieznalezienia klucza."
   ]
  },
  {
   "cell_type": "markdown",
   "metadata": {},
   "source": [
    "### <a id=\"1.4\"></a>1.4. Słowniki można modyfikować"
   ]
  },
  {
   "cell_type": "markdown",
   "metadata": {},
   "source": [
    "#### <a id=\"1.4_b1\"></a>Dodawanie nowych elementów i modyfikowanie istniejących"
   ]
  },
  {
   "cell_type": "markdown",
   "metadata": {},
   "source": [
    "Dodanie nowego elementu do słownika jest bardzo proste - nowy klucz i wartość tworzymy w jednym kroku przypisania:"
   ]
  },
  {
   "cell_type": "code",
   "execution_count": 51,
   "metadata": {},
   "outputs": [
    {
     "data": {
      "text/plain": [
       "{'copper': 29, 'gold': 79, 'silver': 47, 'platinum': 78, 'palladium': 46}"
      ]
     },
     "execution_count": 51,
     "metadata": {},
     "output_type": "execute_result"
    }
   ],
   "source": [
    "chemical_elements"
   ]
  },
  {
   "cell_type": "code",
   "execution_count": 52,
   "metadata": {},
   "outputs": [
    {
     "data": {
      "text/plain": [
       "{'copper': 29,\n",
       " 'gold': 79,\n",
       " 'silver': 47,\n",
       " 'platinum': 78,\n",
       " 'palladium': 46,\n",
       " 'mercury': 81}"
      ]
     },
     "execution_count": 52,
     "metadata": {},
     "output_type": "execute_result"
    }
   ],
   "source": [
    "chemical_elements[ 'mercury' ] = 81 # tworzymy nowy klucz - string 'mercury' - i przypisujemy mu wartość - int 81\n",
    "\n",
    "chemical_elements"
   ]
  },
  {
   "cell_type": "markdown",
   "metadata": {},
   "source": [
    "... i pomyliliśmy się! Liczba atomowa rtęci to 80, a nie 81. Możemy więc zmienić tę wartość - stosując dokładnie taką samą składnię:"
   ]
  },
  {
   "cell_type": "code",
   "execution_count": 53,
   "metadata": {},
   "outputs": [
    {
     "data": {
      "text/plain": [
       "{'copper': 29,\n",
       " 'gold': 79,\n",
       " 'silver': 47,\n",
       " 'platinum': 78,\n",
       " 'palladium': 46,\n",
       " 'mercury': 80}"
      ]
     },
     "execution_count": 53,
     "metadata": {},
     "output_type": "execute_result"
    }
   ],
   "source": [
    "chemical_elements[ 'mercury' ] = 80\n",
    "\n",
    "chemical_elements"
   ]
  },
  {
   "cell_type": "markdown",
   "metadata": {},
   "source": [
    "Ta sama składnia służy zatem do:\n",
    "\n",
    "- dodawania nowych elementów (jeśli dany klucz nie istnieje jeszcze w słowniku),\n",
    "\n",
    "- jak i modyfikacji istniejących (jeśli dany klucz już tam jest)."
   ]
  },
  {
   "cell_type": "markdown",
   "metadata": {},
   "source": [
    "W ten sposób możemy budować słownik _krok po kroku_, startując np. od pustego słownika i \"wrzucając\" do niego kolejne pary klucz:wartość. Np.:"
   ]
  },
  {
   "cell_type": "code",
   "execution_count": 54,
   "metadata": {},
   "outputs": [
    {
     "data": {
      "text/plain": [
       "{'name': 'Bilbo Baggins',\n",
       " 'parents': ['Bungo Baggins', 'Belladonna Took'],\n",
       " 'grandparents': ['Mungo Baggins', 'Laura Grubb'],\n",
       " 'great-grandparents': ['Balbo Baggins', 'Berylla Boffin'],\n",
       " 'friends': ['Gandalf', 'Thorin Oakenshield', 'Elrond Half-elven'],\n",
       " 'place of origin': {'region': 'The Shire',\n",
       "  'sub-region': 'West Farthing',\n",
       "  'town': 'Hobbiton',\n",
       "  'home': 'Bag End'},\n",
       " 'date of birth': '2890-09-22 Third Era',\n",
       " 'literary works': {'books': ['The Hobbit'],\n",
       "  'poems': ['A Walking Song',\n",
       "   'All that is gold does not glitter',\n",
       "   'The Man in the Moon Stayed Up Too Late',\n",
       "   'The Road Goes Ever On',\n",
       "   \"Bilbo's Last Song\"]}}"
      ]
     },
     "execution_count": 54,
     "metadata": {},
     "output_type": "execute_result"
    }
   ],
   "source": [
    "person = {}\n",
    "\n",
    "person[ 'name' ] = 'Bilbo Baggins'\n",
    "person[ 'parents' ] = [ 'Bungo Baggins' , 'Belladonna Took' ]\n",
    "person[ 'grandparents' ] = [ 'Mungo Baggins' , 'Laura Grubb' ]\n",
    "person[ 'great-grandparents' ] = [ 'Balbo Baggins' , 'Berylla Boffin' ]\n",
    "person[ 'friends' ] = [ 'Gandalf' , 'Thorin Oakenshield' , 'Elrond Half-elven' ]\n",
    "person[ 'place of origin' ] = {\n",
    "    'region' : 'The Shire' ,\n",
    "    'sub-region' : 'West Farthing' ,\n",
    "    'town' : 'Hobbiton' ,\n",
    "    'home' : 'Bag End'\n",
    "}\n",
    "person[ 'date of birth' ] = '2890-09-22 Third Era'\n",
    "person[ 'literary works' ] = {\n",
    "    'books' : [ 'The Hobbit' ] ,\n",
    "    'poems' : [ 'A Walking Song' , 'All that is gold does not glitter' , 'The Man in the Moon Stayed Up Too Late' , 'The Road Goes Ever On' , 'Bilbo\\'s Last Song' ]\n",
    "}\n",
    "\n",
    "person"
   ]
  },
  {
   "cell_type": "markdown",
   "metadata": {},
   "source": [
    "Zauważmy, jak bardzo możemy komplikować słownik; tu jako wartości mamy stringi, listy, także inne słowniki! Zagnieżdżone słowniki (\"nested dictionaries\") to dość typowa konstrukcja, np.:"
   ]
  },
  {
   "cell_type": "code",
   "execution_count": 55,
   "metadata": {},
   "outputs": [
    {
     "data": {
      "text/plain": [
       "{'hydrogen': {'symbol': 'H',\n",
       "  'atomic number': 1,\n",
       "  'group': 1,\n",
       "  'period': 1,\n",
       "  'category': 'reactive nonmetal'},\n",
       " 'helium': {'symbol': 'He',\n",
       "  'atomic number': 2,\n",
       "  'group': 18,\n",
       "  'period': 1,\n",
       "  'category': 'noble gas'},\n",
       " 'lithium': {'symbol': 'Li',\n",
       "  'atomic number': 3,\n",
       "  'group': 1,\n",
       "  'period': 2,\n",
       "  'category': 'alkali metal'}}"
      ]
     },
     "execution_count": 55,
     "metadata": {},
     "output_type": "execute_result"
    }
   ],
   "source": [
    "chemical_elements_2 = {}\n",
    "\n",
    "chemical_elements_2[ 'hydrogen' ] = { # wartością odpowiadającą kluczowi 'hydrogen' jest pewien słownik\n",
    "    'symbol' : 'H' ,\n",
    "    'atomic number' : 1 ,\n",
    "    'group' : 1 ,\n",
    "    'period' : 1 ,\n",
    "    'category' : 'reactive nonmetal'\n",
    "}\n",
    "\n",
    "chemical_elements_2[ 'helium' ] = {\n",
    "    'symbol' : 'He' ,\n",
    "    'atomic number' : 2 ,\n",
    "    'group' : 18 ,\n",
    "    'period' : 1 ,\n",
    "    'category' : 'noble gas'\n",
    "}\n",
    "\n",
    "chemical_elements_2[ 'lithium' ] = {\n",
    "    'symbol' : 'Li' ,\n",
    "    'atomic number' : 3 ,\n",
    "    'group' : 1 ,\n",
    "    'period' : 2 ,\n",
    "    'category' : 'alkali metal'\n",
    "}\n",
    "\n",
    "chemical_elements_2 # słownik słowników"
   ]
  },
  {
   "cell_type": "markdown",
   "metadata": {},
   "source": [
    "<img style = 'float: left; margin-right: 10px; margin-bottom: 10px' src = 'Images/question.png'> Szybkie ćwiczenie 3:\n",
    "\n",
    "(a) Jak ze słownika `chemical_elements_2` - poprzez składnię nawiasów kwadratowych - dostać liczbę atomową litu?\n",
    "\n",
    "(b) Zmodyfikuj słownik `person` w następujący sposób:\n",
    "\n",
    "- Wartością odpowiadającą kluczowi `'friends'` jest pewna lista. Dodaj do niej string `'Galadriel'`.\n",
    "\n",
    "- Wartością odpowiadającą kluczowi `'literary works'` jest pewien słownik. Dodaj do niego nowy klucz, `'translations'`, przypisaną któremu wartością będzie 1-elementowa lista `['Translations from the Elvish']`."
   ]
  },
  {
   "cell_type": "code",
   "execution_count": 59,
   "metadata": {},
   "outputs": [
    {
     "data": {
      "text/plain": [
       "3"
      ]
     },
     "execution_count": 59,
     "metadata": {},
     "output_type": "execute_result"
    }
   ],
   "source": [
    "# szybkie ćwiczenie 3a - rozwiązanie\n",
    "\n",
    "chemical_elements_2[ 'lithium' ][ 'atomic number' ]"
   ]
  },
  {
   "cell_type": "code",
   "execution_count": 61,
   "metadata": {},
   "outputs": [],
   "source": [
    "# szybkie ćwiczenie 3b - rozwiązanie\n",
    "\n",
    "person[ 'friends' ].append( 'Galadriel' )"
   ]
  },
  {
   "cell_type": "code",
   "execution_count": 64,
   "metadata": {},
   "outputs": [],
   "source": [
    "person[ 'literary works' ][ 'translations' ] = [ 'Translations from the Elvish' ]"
   ]
  },
  {
   "cell_type": "code",
   "execution_count": 65,
   "metadata": {},
   "outputs": [
    {
     "data": {
      "text/plain": [
       "{'name': 'Bilbo Baggins',\n",
       " 'parents': ['Bungo Baggins', 'Belladonna Took'],\n",
       " 'grandparents': ['Mungo Baggins', 'Laura Grubb'],\n",
       " 'great-grandparents': ['Balbo Baggins', 'Berylla Boffin'],\n",
       " 'friends': ['Gandalf',\n",
       "  'Thorin Oakenshield',\n",
       "  'Elrond Half-elven',\n",
       "  'Galadriel'],\n",
       " 'place of origin': {'region': 'The Shire',\n",
       "  'sub-region': 'West Farthing',\n",
       "  'town': 'Hobbiton',\n",
       "  'home': 'Bag End'},\n",
       " 'date of birth': '2890-09-22 Third Era',\n",
       " 'literary works': {'books': ['The Hobbit'],\n",
       "  'poems': ['A Walking Song',\n",
       "   'All that is gold does not glitter',\n",
       "   'The Man in the Moon Stayed Up Too Late',\n",
       "   'The Road Goes Ever On',\n",
       "   \"Bilbo's Last Song\"],\n",
       "  'translations': ['Translations from the Elvish']}}"
      ]
     },
     "execution_count": 65,
     "metadata": {},
     "output_type": "execute_result"
    }
   ],
   "source": [
    "person"
   ]
  },
  {
   "cell_type": "markdown",
   "metadata": {},
   "source": [
    "#### <a id=\"1.4_b2\"></a>Łączenie słowników"
   ]
  },
  {
   "cell_type": "markdown",
   "metadata": {},
   "source": [
    "Mając dwa słowniki, możemy je połączyć (\"merge\"):\n",
    "\n",
    "- pary klucz:wartość z drugiego słownika zostaną dodane do pierwszego,\n",
    "\n",
    "- zaś gdyby jakiś klucz z drugiego słownika występował już w pierwszym, to druga wartość _nadpisze_ tę pierwszą.\n",
    "\n",
    "Ta druga własność (\"conflict resolution strategy\") jest zgodna z tym, co mówiliśmy wcześniej - gdybyśmy stworzyli słownik z powtarzającymi się kluczami, tylko _ostatni_ z nich przeżyje. Implikacją jest też, iż _kolejność_ łączenia ma znaczenie."
   ]
  },
  {
   "cell_type": "markdown",
   "metadata": {},
   "source": [
    "Pierwszym sposobem złączenia słowników jest metoda `update`; uwaga: modyfikuje ona pierwszy słownik (tj. działa \"w miejscu\")!"
   ]
  },
  {
   "cell_type": "code",
   "execution_count": 66,
   "metadata": {},
   "outputs": [],
   "source": [
    "restaurant_orders = {\n",
    "    'Monika' : 'makizushi' ,\n",
    "    'Agnieszka' : 'nigirizushi' ,\n",
    "    'Julia' : 'ramen'\n",
    "}\n",
    "\n",
    "restaurant_orders_2 = {\n",
    "    'Julia' : 'sashimi' ,\n",
    "    'Basia' : 'uramaki'\n",
    "}"
   ]
  },
  {
   "cell_type": "code",
   "execution_count": 67,
   "metadata": {},
   "outputs": [
    {
     "data": {
      "text/plain": [
       "{'Monika': 'makizushi',\n",
       " 'Agnieszka': 'nigirizushi',\n",
       " 'Julia': 'sashimi',\n",
       " 'Basia': 'uramaki'}"
      ]
     },
     "execution_count": 67,
     "metadata": {},
     "output_type": "execute_result"
    }
   ],
   "source": [
    "restaurant_orders.update( restaurant_orders_2 )\n",
    "\n",
    "restaurant_orders # druga wartość klucza 'Julia' nadpisała pierwszą"
   ]
  },
  {
   "cell_type": "markdown",
   "metadata": {},
   "source": [
    "Drugim sposobem jest **operator dwóch gwiazdek** (\"double star opeartor\") `**`, analogiczny w swym działaniu do operatora gwiazdki `*`, o którym wspomnieliśmy w Lekcji 7; rozpakowuje on słownik na ciąg poszczególnych przypisań, które teraz można zebrać razem w nawiasach klamrowych. Duplikaty w kluczach traktowane są jak zawsze - druga wartość nadpisuje pierwszą. Natomiast ta składnia nie modyfikuje żadnego ze słowników \"w miejscu\", lecz tworzy nowy słownik."
   ]
  },
  {
   "cell_type": "code",
   "execution_count": 68,
   "metadata": {},
   "outputs": [],
   "source": [
    "restaurant_orders_3 = {\n",
    "    'Basia' : 'futomaki' ,\n",
    "    'Andrzej' : 'sake'\n",
    "}"
   ]
  },
  {
   "cell_type": "code",
   "execution_count": 69,
   "metadata": {},
   "outputs": [
    {
     "data": {
      "text/plain": [
       "{'Monika': 'makizushi',\n",
       " 'Agnieszka': 'nigirizushi',\n",
       " 'Julia': 'sashimi',\n",
       " 'Basia': 'futomaki',\n",
       " 'Andrzej': 'sake'}"
      ]
     },
     "execution_count": 69,
     "metadata": {},
     "output_type": "execute_result"
    }
   ],
   "source": [
    "{ **restaurant_orders , **restaurant_orders_3 }"
   ]
  },
  {
   "cell_type": "markdown",
   "metadata": {},
   "source": [
    "Trzecim sposobem jest przeiterowanie się przez dane słowniki (zob. niżej) i kolejne \"wrzucanie\" nowych wartości."
   ]
  },
  {
   "cell_type": "markdown",
   "metadata": {},
   "source": [
    "#### <a id=\"1.4_b3\"></a>Usuwanie elementów"
   ]
  },
  {
   "cell_type": "markdown",
   "metadata": {},
   "source": [
    "Elementy o danym kluczu usuwać możemy metodą `pop`. Analogicznie jak przy listach, metoda ta:\n",
    "\n",
    "- modyfikuje słownik \"w miejscu\",\n",
    "\n",
    "- zwraca wartość usuniętego elementu."
   ]
  },
  {
   "cell_type": "code",
   "execution_count": 70,
   "metadata": {},
   "outputs": [
    {
     "data": {
      "text/plain": [
       "{'copper': 29,\n",
       " 'gold': 79,\n",
       " 'silver': 47,\n",
       " 'platinum': 78,\n",
       " 'palladium': 46,\n",
       " 'mercury': 80}"
      ]
     },
     "execution_count": 70,
     "metadata": {},
     "output_type": "execute_result"
    }
   ],
   "source": [
    "chemical_elements"
   ]
  },
  {
   "cell_type": "code",
   "execution_count": 71,
   "metadata": {},
   "outputs": [],
   "source": [
    "deleted_value = chemical_elements.pop( 'copper' )"
   ]
  },
  {
   "cell_type": "code",
   "execution_count": 72,
   "metadata": {},
   "outputs": [
    {
     "data": {
      "text/plain": [
       "29"
      ]
     },
     "execution_count": 72,
     "metadata": {},
     "output_type": "execute_result"
    }
   ],
   "source": [
    "deleted_value"
   ]
  },
  {
   "cell_type": "code",
   "execution_count": 73,
   "metadata": {},
   "outputs": [
    {
     "data": {
      "text/plain": [
       "{'gold': 79, 'silver': 47, 'platinum': 78, 'palladium': 46, 'mercury': 80}"
      ]
     },
     "execution_count": 73,
     "metadata": {},
     "output_type": "execute_result"
    }
   ],
   "source": [
    "chemical_elements"
   ]
  },
  {
   "cell_type": "markdown",
   "metadata": {},
   "source": [
    "Gdybyśmy chcieli usunąć w ten sposób nieistniejący klucz, metoda `pop` zareaguje błędem:"
   ]
  },
  {
   "cell_type": "code",
   "execution_count": 74,
   "metadata": {},
   "outputs": [
    {
     "ename": "KeyError",
     "evalue": "'hydrogen'",
     "output_type": "error",
     "traceback": [
      "\u001b[1;31m---------------------------------------------------------------------------\u001b[0m",
      "\u001b[1;31mKeyError\u001b[0m                                  Traceback (most recent call last)",
      "\u001b[1;32m<ipython-input-74-82b7837d1d9f>\u001b[0m in \u001b[0;36m<module>\u001b[1;34m\u001b[0m\n\u001b[1;32m----> 1\u001b[1;33m \u001b[0mchemical_elements\u001b[0m\u001b[1;33m.\u001b[0m\u001b[0mpop\u001b[0m\u001b[1;33m(\u001b[0m \u001b[1;34m'hydrogen'\u001b[0m \u001b[1;33m)\u001b[0m\u001b[1;33m\u001b[0m\u001b[1;33m\u001b[0m\u001b[0m\n\u001b[0m",
      "\u001b[1;31mKeyError\u001b[0m: 'hydrogen'"
     ]
    }
   ],
   "source": [
    "chemical_elements.pop( 'hydrogen' )"
   ]
  },
  {
   "cell_type": "markdown",
   "metadata": {},
   "source": [
    "... lecz zachowanie to możemy zmodyfikować przez przekazanie metodzie `pop` drugiego, opcjonalnego parametru - będzie to wartość, którą metoda `pop` zwróci, gdy nie znajdzie danego klucza (i wówczas nie usunie nic ze słownika):"
   ]
  },
  {
   "cell_type": "code",
   "execution_count": 75,
   "metadata": {},
   "outputs": [],
   "source": [
    "deleted_value_2 = chemical_elements.pop( 'hydrogen' , -1 )"
   ]
  },
  {
   "cell_type": "code",
   "execution_count": 76,
   "metadata": {},
   "outputs": [
    {
     "data": {
      "text/plain": [
       "-1"
      ]
     },
     "execution_count": 76,
     "metadata": {},
     "output_type": "execute_result"
    }
   ],
   "source": [
    "deleted_value_2"
   ]
  },
  {
   "cell_type": "code",
   "execution_count": 77,
   "metadata": {},
   "outputs": [
    {
     "data": {
      "text/plain": [
       "{'gold': 79, 'silver': 47, 'platinum': 78, 'palladium': 46, 'mercury': 80}"
      ]
     },
     "execution_count": 77,
     "metadata": {},
     "output_type": "execute_result"
    }
   ],
   "source": [
    "chemical_elements"
   ]
  },
  {
   "cell_type": "markdown",
   "metadata": {},
   "source": [
    "Możemy użyć też operatora `del`:"
   ]
  },
  {
   "cell_type": "code",
   "execution_count": 78,
   "metadata": {},
   "outputs": [
    {
     "data": {
      "text/plain": [
       "{'gold': 79, 'platinum': 78, 'palladium': 46, 'mercury': 80}"
      ]
     },
     "execution_count": 78,
     "metadata": {},
     "output_type": "execute_result"
    }
   ],
   "source": [
    "del chemical_elements[ 'silver' ]\n",
    "\n",
    "chemical_elements"
   ]
  },
  {
   "cell_type": "markdown",
   "metadata": {},
   "source": [
    "Metoda `clear` całkowicie zaś opróżnia słownik:"
   ]
  },
  {
   "cell_type": "code",
   "execution_count": 79,
   "metadata": {},
   "outputs": [
    {
     "data": {
      "text/plain": [
       "{}"
      ]
     },
     "execution_count": 79,
     "metadata": {},
     "output_type": "execute_result"
    }
   ],
   "source": [
    "chemical_elements.clear()\n",
    "\n",
    "chemical_elements"
   ]
  },
  {
   "cell_type": "markdown",
   "metadata": {},
   "source": [
    "### 1.5. <a id=\"1.5\"></a>Iterowanie przez słownik"
   ]
  },
  {
   "cell_type": "markdown",
   "metadata": {},
   "source": [
    "#### <a id=\"1.5_b1\"></a>Lista kluczy - metoda `keys`"
   ]
  },
  {
   "cell_type": "markdown",
   "metadata": {},
   "source": [
    "Mając słownik, możemy w łatwy sposób utworzyć listę jego kluczy lub też listę jego wartości - służą do tego metody `keys` i `values`. (Jedyną subtelnością jest fakt, iż zwracają one nie listę, ale specyficzną kolekcję, którą do listy można przekonwertować funkcją `list`, podobnie jak było przy okazji funkcji `enumerate` i `zip`.)"
   ]
  },
  {
   "cell_type": "code",
   "execution_count": 80,
   "metadata": {},
   "outputs": [],
   "source": [
    "lego_technic_supercars = {\n",
    "    42056 : 'Porsche 911 GT3 RS' ,\n",
    "    42083 : 'Bugatti Chiron' ,\n",
    "    42096 : 'Porsche 911 RSR' ,\n",
    "    42115 : 'Lamborghini Sián FKP 37'\n",
    "}"
   ]
  },
  {
   "cell_type": "markdown",
   "metadata": {},
   "source": [
    "Lista kluczy:"
   ]
  },
  {
   "cell_type": "code",
   "execution_count": 81,
   "metadata": {},
   "outputs": [
    {
     "data": {
      "text/plain": [
       "[42056, 42083, 42096, 42115]"
      ]
     },
     "execution_count": 81,
     "metadata": {},
     "output_type": "execute_result"
    }
   ],
   "source": [
    "list( lego_technic_supercars.keys() )"
   ]
  },
  {
   "cell_type": "markdown",
   "metadata": {},
   "source": [
    "Możemy oczywiście normalnie po niej się iterować, np.:"
   ]
  },
  {
   "cell_type": "code",
   "execution_count": 83,
   "metadata": {},
   "outputs": [
    {
     "name": "stdout",
     "output_type": "stream",
     "text": [
      "42056\n",
      "42083\n",
      "42096\n",
      "42115\n"
     ]
    }
   ],
   "source": [
    "for lego_number in lego_technic_supercars.keys():\n",
    "    print( lego_number )"
   ]
  },
  {
   "cell_type": "markdown",
   "metadata": {},
   "source": [
    "Co ciekawe, jest to równoważne iterowaniu się _po słowniku_:"
   ]
  },
  {
   "cell_type": "code",
   "execution_count": 84,
   "metadata": {},
   "outputs": [
    {
     "name": "stdout",
     "output_type": "stream",
     "text": [
      "42056\n",
      "42083\n",
      "42096\n",
      "42115\n"
     ]
    }
   ],
   "source": [
    "for lego_number in lego_technic_supercars:\n",
    "    print( lego_number )"
   ]
  },
  {
   "cell_type": "markdown",
   "metadata": {},
   "source": [
    "... i analogicznie, gdybyśmy chcieli przekonwertować słownik na listę (lub na tuplę, zbiór), to otrzymamy listę (odpowiednio: tuplę, zbiór) _kluczy_:"
   ]
  },
  {
   "cell_type": "code",
   "execution_count": 85,
   "metadata": {},
   "outputs": [
    {
     "data": {
      "text/plain": [
       "[42056, 42083, 42096, 42115]"
      ]
     },
     "execution_count": 85,
     "metadata": {},
     "output_type": "execute_result"
    }
   ],
   "source": [
    "list( lego_technic_supercars )"
   ]
  },
  {
   "cell_type": "code",
   "execution_count": 86,
   "metadata": {},
   "outputs": [
    {
     "data": {
      "text/plain": [
       "(42056, 42083, 42096, 42115)"
      ]
     },
     "execution_count": 86,
     "metadata": {},
     "output_type": "execute_result"
    }
   ],
   "source": [
    "tuple( lego_technic_supercars )"
   ]
  },
  {
   "cell_type": "code",
   "execution_count": 87,
   "metadata": {},
   "outputs": [
    {
     "data": {
      "text/plain": [
       "{42056, 42083, 42096, 42115}"
      ]
     },
     "execution_count": 87,
     "metadata": {},
     "output_type": "execute_result"
    }
   ],
   "source": [
    "set( lego_technic_supercars )"
   ]
  },
  {
   "cell_type": "markdown",
   "metadata": {},
   "source": [
    "#### <a id=\"1.5_b2\"></a>Lista wartości - metoda `values`"
   ]
  },
  {
   "cell_type": "markdown",
   "metadata": {},
   "source": [
    "Analogicznie, lista wartości słownika:"
   ]
  },
  {
   "cell_type": "code",
   "execution_count": 88,
   "metadata": {},
   "outputs": [
    {
     "data": {
      "text/plain": [
       "['Porsche 911 GT3 RS',\n",
       " 'Bugatti Chiron',\n",
       " 'Porsche 911 RSR',\n",
       " 'Lamborghini Sián FKP 37']"
      ]
     },
     "execution_count": 88,
     "metadata": {},
     "output_type": "execute_result"
    }
   ],
   "source": [
    "list( lego_technic_supercars.values() )"
   ]
  },
  {
   "cell_type": "markdown",
   "metadata": {},
   "source": [
    "... i przykład iteracji po niej:"
   ]
  },
  {
   "cell_type": "code",
   "execution_count": 89,
   "metadata": {},
   "outputs": [
    {
     "name": "stdout",
     "output_type": "stream",
     "text": [
      "Porsche 911 GT3 RS\n",
      "Bugatti Chiron\n",
      "Porsche 911 RSR\n",
      "Lamborghini Sián FKP 37\n"
     ]
    }
   ],
   "source": [
    "for lego_name in lego_technic_supercars.values():\n",
    "    print( lego_name )"
   ]
  },
  {
   "cell_type": "markdown",
   "metadata": {},
   "source": [
    "#### <a id=\"1.5_b3\"></a>Lista par (klucz, wartość) - metoda `items`"
   ]
  },
  {
   "cell_type": "markdown",
   "metadata": {},
   "source": [
    "Metodą, która jakby \"łączy\" te dwie metody, jest `items` - daje ona listę par klucz:wartość w postaci tupli 2-elementowych (klucz, wartość)."
   ]
  },
  {
   "cell_type": "code",
   "execution_count": 90,
   "metadata": {},
   "outputs": [
    {
     "data": {
      "text/plain": [
       "[(42056, 'Porsche 911 GT3 RS'),\n",
       " (42083, 'Bugatti Chiron'),\n",
       " (42096, 'Porsche 911 RSR'),\n",
       " (42115, 'Lamborghini Sián FKP 37')]"
      ]
     },
     "execution_count": 90,
     "metadata": {},
     "output_type": "execute_result"
    }
   ],
   "source": [
    "list( lego_technic_supercars.items() )"
   ]
  },
  {
   "cell_type": "markdown",
   "metadata": {},
   "source": [
    "Na marginesie, jest to dokładnie \"spięcie na suwak\" listy kluczy i listy wartości, jakiego dokonuje znana nam funkcja `zip`."
   ]
  },
  {
   "cell_type": "code",
   "execution_count": 91,
   "metadata": {},
   "outputs": [
    {
     "data": {
      "text/plain": [
       "[(42056, 'Porsche 911 GT3 RS'),\n",
       " (42083, 'Bugatti Chiron'),\n",
       " (42096, 'Porsche 911 RSR'),\n",
       " (42115, 'Lamborghini Sián FKP 37')]"
      ]
     },
     "execution_count": 91,
     "metadata": {},
     "output_type": "execute_result"
    }
   ],
   "source": [
    "list( zip( lego_technic_supercars.keys() , lego_technic_supercars.values() ) )"
   ]
  },
  {
   "cell_type": "markdown",
   "metadata": {},
   "source": [
    "Skoro elementami tej listy są tuple 2-elementowe, to chcąc przez nią się przeiterować, naszym iteratorem też musi być tupla 2-elementowa. Np.:"
   ]
  },
  {
   "cell_type": "code",
   "execution_count": 92,
   "metadata": {},
   "outputs": [
    {
     "name": "stdout",
     "output_type": "stream",
     "text": [
      "LEGO Technic set number 42056 is the supercar Porsche 911 GT3 RS.\n",
      "LEGO Technic set number 42083 is the supercar Bugatti Chiron.\n",
      "LEGO Technic set number 42096 is the supercar Porsche 911 RSR.\n",
      "LEGO Technic set number 42115 is the supercar Lamborghini Sián FKP 37.\n"
     ]
    }
   ],
   "source": [
    "for lego_number , lego_name in lego_technic_supercars.items():\n",
    "    print( f'LEGO Technic set number {lego_number} is the supercar {lego_name}.' )"
   ]
  },
  {
   "cell_type": "markdown",
   "metadata": {},
   "source": [
    "<img style = 'float: left; margin-right: 10px; margin-bottom: 10px' src = 'Images/question.png'> Szybkie ćwiczenie 4: \"Reverse lookup\".\n",
    "\n",
    "Mamy daną listę wartości, np. `val_list = ['Porsche 911 GT3 RS', 'Porsche 911 RSR']`, zaś chcemy otrzymać z niej listę kluczy odpowiadających tym wartościom, czyli tu byłaby to lista `[42056, 42096]`."
   ]
  },
  {
   "cell_type": "markdown",
   "metadata": {},
   "source": [
    "Wskazówka: Użyj składni \"list comprehension\".\n",
    "\n",
    "W pierwszym rozwiązaniu, spróbuj przeiterować się przez klucze `lego_technic_supercars.keys()` i wybrać tylko te, dla których odpowiadająca im wartość należy do listy `val_list`.\n",
    "\n",
    "W drugim rozwiązaniu, spróbuj przeiterować się przez tuple (klucz, wartość) w liście `lego_technic_supercars.items()` i wybierz tylko te klucze, dla których wartość jest zawarta w liście `val_list`."
   ]
  },
  {
   "cell_type": "code",
   "execution_count": 94,
   "metadata": {},
   "outputs": [
    {
     "data": {
      "text/plain": [
       "[42056, 42096]"
      ]
     },
     "execution_count": 94,
     "metadata": {},
     "output_type": "execute_result"
    }
   ],
   "source": [
    "# szybkie ćwiczenie 4 - rozwiązanie pierwsze\n",
    "\n",
    "val_list = ['Porsche 911 GT3 RS', 'Porsche 911 RSR']\n",
    "\n",
    "[ lego_number for lego_number , lego_name in lego_technic_supercars.items() if lego_name in val_list ]"
   ]
  },
  {
   "cell_type": "code",
   "execution_count": 97,
   "metadata": {},
   "outputs": [
    {
     "data": {
      "text/plain": [
       "[42056, 42096]"
      ]
     },
     "execution_count": 97,
     "metadata": {},
     "output_type": "execute_result"
    }
   ],
   "source": [
    "# szybkie ćwiczenie 4 - rozwiązanie drugie\n",
    "\n",
    "[ key for key in lego_technic_supercars if lego_technic_supercars[ key ] in val_list ]"
   ]
  },
  {
   "cell_type": "markdown",
   "metadata": {},
   "source": [
    "#### <a id=\"1.5_b4\"></a>Operatory `in` i `not in`"
   ]
  },
  {
   "cell_type": "markdown",
   "metadata": {},
   "source": [
    "Znane nam już operatory `in` i `not in` często używa się, aby sprawdzić przynależność do listy kluczy, czy listy wartości."
   ]
  },
  {
   "cell_type": "code",
   "execution_count": 98,
   "metadata": {},
   "outputs": [
    {
     "data": {
      "text/plain": [
       "False"
      ]
     },
     "execution_count": 98,
     "metadata": {},
     "output_type": "execute_result"
    }
   ],
   "source": [
    "42100 in lego_technic_supercars.keys()"
   ]
  },
  {
   "cell_type": "code",
   "execution_count": 99,
   "metadata": {},
   "outputs": [
    {
     "data": {
      "text/plain": [
       "True"
      ]
     },
     "execution_count": 99,
     "metadata": {},
     "output_type": "execute_result"
    }
   ],
   "source": [
    "'Liebherr R 9800 Excavator' not in lego_technic_supercars.values()"
   ]
  },
  {
   "cell_type": "markdown",
   "metadata": {},
   "source": [
    "Jak wspomnieliśmy wcześniej, iterowanie po kluczach `lego_technic_supercars.keys()` jest równoważne iterowaniu po słowniku `lego_technic_supercars` - tu jest podobnie, operatory `in` i `not in` zaaplikowane do słownika odpowiadają na pytanie o przynależność _kluczy_:"
   ]
  },
  {
   "cell_type": "code",
   "execution_count": 100,
   "metadata": {},
   "outputs": [
    {
     "data": {
      "text/plain": [
       "True"
      ]
     },
     "execution_count": 100,
     "metadata": {},
     "output_type": "execute_result"
    }
   ],
   "source": [
    "42115 in lego_technic_supercars"
   ]
  },
  {
   "cell_type": "markdown",
   "metadata": {},
   "source": [
    "#### <a id=\"1.5_b5\"></a>\"Dictionary comprehension\""
   ]
  },
  {
   "cell_type": "markdown",
   "metadata": {},
   "source": [
    "Często zamiast bezpośredniej pętli `for`, być może z dodatkowymi warunkami `if`, użyteczne - i zwykle bardzo eleganckie! - jest użycie składni \"dictionary comprehension\"; jest ona całkowicie analogiczna do jej odpowiedników dla list i zbiorów.\n",
    "\n",
    "`{ key_expression : value_expression for item in collection if condition }`\n",
    "\n",
    "Mamy więc nawiasy klamrowe; musimy też - i to jest główna różnica w składni - zapisać każdy element jako przypisanie, tutaj `key_expression : value_expression`."
   ]
  },
  {
   "cell_type": "markdown",
   "metadata": {},
   "source": [
    "Przykład: słownik, gdzie klucze to kolejne liczby całkowite zapisane jako stringi z małym dopiskiem, a wartości to tych liczb kwadraty:"
   ]
  },
  {
   "cell_type": "code",
   "execution_count": 101,
   "metadata": {},
   "outputs": [
    {
     "data": {
      "text/plain": [
       "{'0 squared': 0,\n",
       " '1 squared': 1,\n",
       " '2 squared': 4,\n",
       " '3 squared': 9,\n",
       " '4 squared': 16,\n",
       " '5 squared': 25,\n",
       " '6 squared': 36,\n",
       " '7 squared': 49,\n",
       " '8 squared': 64,\n",
       " '9 squared': 81}"
      ]
     },
     "execution_count": 101,
     "metadata": {},
     "output_type": "execute_result"
    }
   ],
   "source": [
    "{ str( i ) + ' squared' : i ** 2 for i in range( 10 ) } # nie ma tu żadnego warunku"
   ]
  },
  {
   "cell_type": "markdown",
   "metadata": {},
   "source": [
    "Inny przykład:"
   ]
  },
  {
   "cell_type": "code",
   "execution_count": 103,
   "metadata": {},
   "outputs": [
    {
     "data": {
      "text/plain": [
       "{'Canada': 2, 'Switzerland': 4, 'India': 13, 'Israel': 3, 'Morocco': 3}"
      ]
     },
     "execution_count": 103,
     "metadata": {},
     "output_type": "execute_result"
    }
   ],
   "source": [
    "languages_by_countries = {\n",
    "    'Canada' : [ 'English' , 'French' ] ,\n",
    "    'Switzerland' : [ 'German' , 'French' , 'Italian' , 'Romansh' ] ,\n",
    "    'India' : [ 'Hindi' , 'Bengali' , 'Urdu' , 'Punjabi' , 'Marathi' , 'Telugu' , 'Tamil' , 'Gujarati' , 'Kannada' , 'Odia' , 'Malayalam' , 'Sanskrit' , 'English' ] ,\n",
    "    'Israel' : [ 'Hebrew' , 'Arabic' , 'Russian' ] ,\n",
    "    'Morocco' : [ 'Arabic' , 'Berber' , 'French' ]\n",
    "}\n",
    "\n",
    "{ country : len( language_list ) for country , language_list in languages_by_countries.items() }"
   ]
  },
  {
   "cell_type": "markdown",
   "metadata": {},
   "source": [
    "... coś z warunkiem:"
   ]
  },
  {
   "cell_type": "code",
   "execution_count": 104,
   "metadata": {},
   "outputs": [
    {
     "data": {
      "text/plain": [
       "{'Switzerland': 'German', 'India': 'Hindi'}"
      ]
     },
     "execution_count": 104,
     "metadata": {},
     "output_type": "execute_result"
    }
   ],
   "source": [
    "{ country : language_list[ 0 ] for country , language_list in languages_by_countries.items() if len( language_list ) > 3 }"
   ]
  },
  {
   "cell_type": "markdown",
   "metadata": {},
   "source": [
    "Ciekawy trik: Powiedzmy, że chcielibyśmy zamienić miejscami klucze i wartości, tj. dla danego słownika (nazwijmy go `d`) utworzyć inny słownik, którego klucze to wartości `d`, a wartości to klucze `d`. Składnia \"dictionary comprehension\" idealnie do tego się nadaje:"
   ]
  },
  {
   "cell_type": "code",
   "execution_count": 106,
   "metadata": {},
   "outputs": [
    {
     "data": {
      "text/plain": [
       "{'Netherlands': 'Amsterdam',\n",
       " 'Montenegro': 'Podgorica',\n",
       " 'South Africa': 'Pretoria'}"
      ]
     },
     "execution_count": 106,
     "metadata": {},
     "output_type": "execute_result"
    }
   ],
   "source": [
    "capitals = {\n",
    "    'Amsterdam' : 'Netherlands' ,\n",
    "    'Podgorica' : 'Montenegro' ,\n",
    "    'Pretoria' : 'South Africa'\n",
    "}\n",
    "\n",
    "{ country : capital for capital , country in capitals.items() }"
   ]
  },
  {
   "cell_type": "markdown",
   "metadata": {},
   "source": [
    "Zauważmy jednak, iż jeśli słownika zawiera powtarzające się wartości, to takie odwrócenie spowoduje pozostawienie tylko ostatniej z nich jako klucza, zgodnie z dobrze nam znaną zasadą:"
   ]
  },
  {
   "cell_type": "code",
   "execution_count": 107,
   "metadata": {},
   "outputs": [
    {
     "data": {
      "text/plain": [
       "{'Netherlands': 'The Hague',\n",
       " 'Montenegro': 'Cetinje',\n",
       " 'South Africa': 'Bloemfontein'}"
      ]
     },
     "execution_count": 107,
     "metadata": {},
     "output_type": "execute_result"
    }
   ],
   "source": [
    "capitals = {\n",
    "    'Amsterdam' : 'Netherlands' ,\n",
    "    'The Hague' : 'Netherlands' ,\n",
    "    'Podgorica' : 'Montenegro' ,\n",
    "    'Cetinje' : 'Montenegro' ,\n",
    "    'Pretoria' : 'South Africa' ,\n",
    "    'Cape Town' : 'South Africa' ,\n",
    "    'Bloemfontein' : 'South Africa'\n",
    "}\n",
    "\n",
    "{ country : capital for capital , country in capitals.items() }"
   ]
  },
  {
   "cell_type": "markdown",
   "metadata": {},
   "source": [
    "<img style = 'float: left; margin-right: 10px; margin-bottom: 10px' src = 'Images/question.png'> Szybkie ćwiczenie 5: Dowiedzieliśmy się wcześniej, jak usuwać ze słownika pojedyncze klucze (metoda `pop` lub operator `del`). A co jeśli mamy całą listę kluczy, którą chcemy usunąć? Zastosuj składnię \"dictionary comprehension\", aby ze słownika `capitals` usunąć klucze będące w liście `secondary_capitals = ['The Hague', 'Cetinje', 'Cape Town', 'Bloemfontein']`. (Nie chcemy tu modyfikować słownika \"w miejscu\", ale utworzyć nowy słownik, bez wspomnianych kluczy.)"
   ]
  },
  {
   "cell_type": "markdown",
   "metadata": {},
   "source": [
    "Wskazówka: Iteruj po `capitals.items()`. Wybierz tylko te przypisania `capital : country`, dla których `capital` nie należy do listy kluczy, które chcemy usunąć."
   ]
  },
  {
   "cell_type": "code",
   "execution_count": null,
   "metadata": {},
   "outputs": [],
   "source": [
    "# szybkie ćwiczenie 5 - rozwiązanie\n",
    "\n"
   ]
  },
  {
   "cell_type": "markdown",
   "metadata": {},
   "source": [
    "<img style = 'float: left; margin-right: 10px; margin-bottom: 10px' src = 'Images/question.png'> Szybkie ćwiczenie 6: Zliczanie elementów raz jeszcze.\n",
    "\n",
    "Masz dany string, [powiedzmy](https://en.wikipedia.org/wiki/Lake_Chaubunagungamaug) `text = 'chargoggagoggmanchauggagoggchaubunagungamaugg'`. Utwórz za pomocą składni \"dictionary comprehension\" słownik, gdzie klucze to unikalne znaki tego stringu, a wartości to liczba ich wystąpień w nim."
   ]
  },
  {
   "cell_type": "code",
   "execution_count": null,
   "metadata": {},
   "outputs": [],
   "source": [
    "# szybkie ćwiczenie 6 - rozwiązanie\n",
    "\n"
   ]
  },
  {
   "cell_type": "markdown",
   "metadata": {},
   "source": [
    "## <a id=\"2\"></a>2. Kilka innych kolekcji"
   ]
  },
  {
   "cell_type": "markdown",
   "metadata": {},
   "source": [
    "Poświęciliśmy dużo czasu na omówienie pięciu podstawowych typów kolekcji w Pythonie: stringów, list, tupli, zbiorów i słowników. Są to fundamentalne części składowe niemal każdego programu.\n",
    "\n",
    "Jest oczywiście cała masa innych typów danych reprezentujących kolekcje, a skonstruowanych w konkretnych celach. W tej sekcji spójrzmy szybko na kilka z nich. Ważną częścią pracy programisty jest wyszukiwanie w internecie rozwiązań (w szczególności, typów danych), które najbardziej nadają się do danego projektu. Rozwiązania te są w absolutnej wiekszości przypadków dostępne za darmo - Python to piękny przykład filozofii **\"open source\"**."
   ]
  },
  {
   "cell_type": "markdown",
   "metadata": {},
   "source": [
    "### <a id=\"2.1\"></a>2.1. Moduł `collections` i typ `defaultdict`"
   ]
  },
  {
   "cell_type": "markdown",
   "metadata": {},
   "source": [
    "Biblioteka standardowa Pythona zawiera kilka przydatnych typów kolekcji w module [`collections`](https://docs.python.org/3/library/collections.html). Aby uzyskać do nich dostęp w naszym programie, musimy **zaimportować** żądane obiekty z tego **modułu**. Moduł to po prostu plik Pythona, grupujący w jedną logiczną całość różne definicje. Składnia jest bardzo prosta: Chcąc np. zaimportować typ danych `defaultdict` - o którym opowiemy w tej sekcji - piszemy:\n",
    "```\n",
    "from collections import defaultdict\n",
    "```\n",
    "i teraz `defaultdict` jest już dla nas dostępne. Moglibyśmy też zaimportować cały moduł:\n",
    "```\n",
    "import collections\n",
    "```\n",
    "i teraz _wszystkie_ obiekty tam zdefiniowane są dla nas dostępne; jednakże aby do nich odwoływać się w naszym programie, musimy użyć ich pełnej nazwy w postaci np. `collections.defaultdict`.\n",
    "\n",
    "Kolekcje w module `collections` to:\n",
    "\n",
    "| Kolekcja | Opis |\n",
    "| --- | --- |\n",
    "| <center>`namedtuple`</center> | <center>tuple z nazwanymi polami</center> |\n",
    "| <center>`deque`</center> | <center>podobna do list, z szybkimi metodami `append` i `pop` na obu końcach</center> |\n",
    "| <center>`ChainMap`</center> | <center>zbiera kilka przypisań słownikowych w jedno</center> |\n",
    "| <center>`Counter`</center> | <center>zlicza elementy innej kolekcji</center> |\n",
    "| <center>`OrderedDict`</center> | <center>słownik pamiętający kolejność dodanych elementów</center> |\n",
    "| <center>`defaultdict`</center> | <center>słownik z domyślnymi wartościami dla nieistniejących elementów</center> |"
   ]
  },
  {
   "cell_type": "markdown",
   "metadata": {},
   "source": [
    "Omówimy teraz krótko przydatny typ `defaultdict`, który najpierw zaimportujmy:"
   ]
  },
  {
   "cell_type": "code",
   "execution_count": 108,
   "metadata": {},
   "outputs": [],
   "source": [
    "from collections import defaultdict"
   ]
  },
  {
   "cell_type": "markdown",
   "metadata": {},
   "source": [
    "Krótko mówiąc, jeśli potrzebujesz słownika, a każdy jego element powinien zaczynać od jakiejś domyślnej wartości - użyj `defaultdict`.\n",
    "\n",
    "Składnia zawiera w sobie pewną subtelność: Aby utworzyć `defaultdict`, trzeba podać mu jako argument _funkcję bez argumentów_, która to funkcja zdefiniuje wspomnianą domyślną wartość. O funkcjach będziemy uczyć się dopiero w Lekcjach 9-10, więc na razie przyjmijmy co następuje: Powiedzmy, że chcemy zdefiniować słownik z zamówieniami burgerów z \"Moaburger\" przez różne osoby. Kto spóźnił się ze złożeniem zamówienia, dostanie \"z automatu\" burgera o nazwie `'Moaburger'`. Jest to właśnie wartość domyślna. Lecz nie możemy jej tak po prostu przekazać do naszego słownika `defaultdict` - musimy użyć funkcji bez argumentów w następujący sposób:"
   ]
  },
  {
   "cell_type": "code",
   "execution_count": 114,
   "metadata": {},
   "outputs": [
    {
     "data": {
      "text/plain": [
       "'Moaburger'"
      ]
     },
     "execution_count": 114,
     "metadata": {},
     "output_type": "execute_result"
    }
   ],
   "source": [
    "burger_orders = defaultdict( lambda : 'Moaburger' )\n",
    "\n",
    "burger_orders[ 'Ania' ] = 'Avo Bacon'\n",
    "burger_orders[ 'Karo' ] = 'Harissa'\n",
    "burger_orders[ 'Andrzej' ] = 'Mammoth Burger'\n",
    "\n",
    "burger_orders[ 'Basia' ]"
   ]
  },
  {
   "cell_type": "code",
   "execution_count": 115,
   "metadata": {},
   "outputs": [
    {
     "data": {
      "text/plain": [
       "{'Ania': 'Avo Bacon',\n",
       " 'Karo': 'Harissa',\n",
       " 'Andrzej': 'Mammoth Burger',\n",
       " 'Basia': 'Moaburger'}"
      ]
     },
     "execution_count": 115,
     "metadata": {},
     "output_type": "execute_result"
    }
   ],
   "source": [
    "dict( burger_orders )"
   ]
  },
  {
   "cell_type": "markdown",
   "metadata": {},
   "source": [
    "Widzimy, że argumentem `defaultdict` jest tzw. funkcja lambda, która sama nie przyjmuje żadnych argumentów, zaś zawsze zwraca wartość `'Moaburger'`:"
   ]
  },
  {
   "cell_type": "code",
   "execution_count": 116,
   "metadata": {},
   "outputs": [
    {
     "data": {
      "text/plain": [
       "'Moaburger'"
      ]
     },
     "execution_count": 116,
     "metadata": {},
     "output_type": "execute_result"
    }
   ],
   "source": [
    "moa = lambda : 'Moaburger'\n",
    "\n",
    "moa()"
   ]
  },
  {
   "cell_type": "markdown",
   "metadata": {},
   "source": [
    "Widzimy też, że możemy teraz odwołać się do nieutworzonego klucza `'Basia'` przez zwykłą składnię nawiasów kwadratowych - i wartością mu przypisaną jest wartość domyślna `'Moaburger'`. Co więcej, jeśli spojrzymy na nasz słownik:"
   ]
  },
  {
   "cell_type": "code",
   "execution_count": 117,
   "metadata": {},
   "outputs": [
    {
     "data": {
      "text/plain": [
       "defaultdict(<function __main__.<lambda>()>,\n",
       "            {'Ania': 'Avo Bacon',\n",
       "             'Karo': 'Harissa',\n",
       "             'Andrzej': 'Mammoth Burger',\n",
       "             'Basia': 'Moaburger'})"
      ]
     },
     "execution_count": 117,
     "metadata": {},
     "output_type": "execute_result"
    }
   ],
   "source": [
    "burger_orders"
   ]
  },
  {
   "cell_type": "code",
   "execution_count": 118,
   "metadata": {},
   "outputs": [
    {
     "data": {
      "text/plain": [
       "{'Ania': 'Avo Bacon',\n",
       " 'Karo': 'Harissa',\n",
       " 'Andrzej': 'Mammoth Burger',\n",
       " 'Basia': 'Moaburger'}"
      ]
     },
     "execution_count": 118,
     "metadata": {},
     "output_type": "execute_result"
    }
   ],
   "source": [
    "dict( burger_orders ) # konwersja na zwykły słownik"
   ]
  },
  {
   "cell_type": "markdown",
   "metadata": {},
   "source": [
    "... to zobaczymy, iż pojawia się teraz klucz `'Basia'`!"
   ]
  },
  {
   "cell_type": "markdown",
   "metadata": {},
   "source": [
    "Można by zapytać, czy nie jest to zduplikowanie funkcjonalności metody `get`, która także pozwala zdefiniować wartość domyślną, jeśli dany klucz jest nieznaleziony:"
   ]
  },
  {
   "cell_type": "code",
   "execution_count": 119,
   "metadata": {},
   "outputs": [
    {
     "data": {
      "text/plain": [
       "'Moaburger'"
      ]
     },
     "execution_count": 119,
     "metadata": {},
     "output_type": "execute_result"
    }
   ],
   "source": [
    "burger_orders.get( 'Monika' , 'Moaburger' )"
   ]
  },
  {
   "cell_type": "markdown",
   "metadata": {},
   "source": [
    "Zauważmy jednak, że metoda `get` - oczywiście! - nie _tworzy_ nowego wpisu w słowniku, ona po prostu _zwraca_ domyślną wartość:"
   ]
  },
  {
   "cell_type": "code",
   "execution_count": 121,
   "metadata": {},
   "outputs": [
    {
     "data": {
      "text/plain": [
       "{'Ania': 'Avo Bacon',\n",
       " 'Karo': 'Harissa',\n",
       " 'Andrzej': 'Mammoth Burger',\n",
       " 'Basia': 'Moaburger'}"
      ]
     },
     "execution_count": 121,
     "metadata": {},
     "output_type": "execute_result"
    }
   ],
   "source": [
    "dict( burger_orders )"
   ]
  },
  {
   "cell_type": "markdown",
   "metadata": {},
   "source": [
    "W związku tym, wyobraźmy sobie, iż chcielibyśmy np. zrobić coś takiego:"
   ]
  },
  {
   "cell_type": "code",
   "execution_count": 122,
   "metadata": {},
   "outputs": [
    {
     "ename": "SyntaxError",
     "evalue": "can't assign to function call (<ipython-input-122-7991174885da>, line 1)",
     "output_type": "error",
     "traceback": [
      "\u001b[1;36m  File \u001b[1;32m\"<ipython-input-122-7991174885da>\"\u001b[1;36m, line \u001b[1;32m1\u001b[0m\n\u001b[1;33m    burger_orders.get( 'Monika' , 'Moaburger' ) += ' with fries'\u001b[0m\n\u001b[1;37m                                                                ^\u001b[0m\n\u001b[1;31mSyntaxError\u001b[0m\u001b[1;31m:\u001b[0m can't assign to function call\n"
     ]
    }
   ],
   "source": [
    "burger_orders.get( 'Monika' , 'Moaburger' ) += ' with fries'"
   ]
  },
  {
   "cell_type": "markdown",
   "metadata": {},
   "source": [
    "Spróbowaliśmy - bardzo niezdarnie - utworzyć nowy wpis o kluczu `'Monika'`, z domyślną wartością, i jakoś go _zmodyfikować_. Nie da się tego rzecz jasna tak zrobić, bo `get` nie tworzy nowego wpisu. Z kolei wywołanie zwykłych nawiasów kwadratowych z nieistniejącym kluczem na obiekcie `defaultdict` _tworzy_ nowy wpis o tym kluczu, a zatem _od razu_ możemy coś z nim robić!"
   ]
  },
  {
   "cell_type": "code",
   "execution_count": 123,
   "metadata": {},
   "outputs": [
    {
     "data": {
      "text/plain": [
       "{'Ania': 'Avo Bacon',\n",
       " 'Karo': 'Harissa',\n",
       " 'Andrzej': 'Mammoth Burger',\n",
       " 'Basia': 'Moaburger'}"
      ]
     },
     "execution_count": 123,
     "metadata": {},
     "output_type": "execute_result"
    }
   ],
   "source": [
    "dict( burger_orders )"
   ]
  },
  {
   "cell_type": "code",
   "execution_count": 124,
   "metadata": {},
   "outputs": [
    {
     "data": {
      "text/plain": [
       "{'Ania': 'Avo Bacon',\n",
       " 'Karo': 'Harissa',\n",
       " 'Andrzej': 'Mammoth Burger',\n",
       " 'Basia': 'Moaburger',\n",
       " 'Monika': 'Moaburger with fries'}"
      ]
     },
     "execution_count": 124,
     "metadata": {},
     "output_type": "execute_result"
    }
   ],
   "source": [
    "burger_orders[ 'Monika' ] += ' with fries'\n",
    "\n",
    "dict( burger_orders )"
   ]
  },
  {
   "cell_type": "markdown",
   "metadata": {},
   "source": [
    "Dodajmy jeszcze, że słownik `defaultdict` można zainicjować już z konkretną zawartością; podajemy mu wtedy dwa argumenty - pierwszy to opisana wyżej funkcja bez argumentów, a drugi to słownik będący jego wartością początkową."
   ]
  },
  {
   "cell_type": "code",
   "execution_count": 125,
   "metadata": {},
   "outputs": [
    {
     "data": {
      "text/plain": [
       "{'Monika': 'makizushi',\n",
       " 'Agnieszka': 'nigirizushi',\n",
       " 'Julia': 'sashimi',\n",
       " 'Basia': 'uramaki'}"
      ]
     },
     "execution_count": 125,
     "metadata": {},
     "output_type": "execute_result"
    }
   ],
   "source": [
    "restaurant_orders"
   ]
  },
  {
   "cell_type": "code",
   "execution_count": 130,
   "metadata": {},
   "outputs": [
    {
     "data": {
      "text/plain": [
       "{'Monika': 'makizushi',\n",
       " 'Agnieszka': 'nigirizushi',\n",
       " 'Julia': 'sashimi',\n",
       " 'Basia': 'uramaki'}"
      ]
     },
     "execution_count": 130,
     "metadata": {},
     "output_type": "execute_result"
    }
   ],
   "source": [
    "restaurant_orders_new = defaultdict( lambda : 'rainbow roll' , restaurant_orders )\n",
    "\n",
    "dict( restaurant_orders_new )"
   ]
  },
  {
   "cell_type": "code",
   "execution_count": 131,
   "metadata": {},
   "outputs": [
    {
     "data": {
      "text/plain": [
       "{'Monika': 'makizushi',\n",
       " 'Agnieszka': 'nigirizushi',\n",
       " 'Julia': 'sashimi',\n",
       " 'Basia': 'uramaki',\n",
       " 'Karolina': 'rainbow roll and sake'}"
      ]
     },
     "execution_count": 131,
     "metadata": {},
     "output_type": "execute_result"
    }
   ],
   "source": [
    "restaurant_orders_new[ 'Karolina' ] += ' and sake'\n",
    "\n",
    "dict( restaurant_orders_new )"
   ]
  },
  {
   "cell_type": "markdown",
   "metadata": {},
   "source": [
    "Innym przykładem jest podanie jako wartości domyślnej liczby typu `int`, np. zera. Możemy to zrobić jak wyżej, funkcją `lambda: 0`; możemy też skorzystać ze wspomnianego wyżej faktu, iż funkcja `int` wywołana bez argumentów zwraca zero:"
   ]
  },
  {
   "cell_type": "code",
   "execution_count": 133,
   "metadata": {},
   "outputs": [
    {
     "data": {
      "text/plain": [
       "0"
      ]
     },
     "execution_count": 133,
     "metadata": {},
     "output_type": "execute_result"
    }
   ],
   "source": [
    "int()"
   ]
  },
  {
   "cell_type": "markdown",
   "metadata": {},
   "source": [
    "Takiego słownika możemy np. użyć do zliczania elementów danej kolekcji w następujący sposób:"
   ]
  },
  {
   "cell_type": "code",
   "execution_count": 136,
   "metadata": {},
   "outputs": [
    {
     "data": {
      "text/plain": [
       "{'w': 1, 'a': 3, 'g': 6, 'e': 3, 'r': 3, 'p': 1, 'b': 1}"
      ]
     },
     "execution_count": 136,
     "metadata": {},
     "output_type": "execute_result"
    }
   ],
   "source": [
    "text = 'waggerpaggerbagger'\n",
    "\n",
    "text_count = defaultdict( int )\n",
    "\n",
    "for letter in text:\n",
    "    text_count[ letter ] += 1\n",
    "\n",
    "dict( text_count )"
   ]
  },
  {
   "cell_type": "markdown",
   "metadata": {},
   "source": [
    "Dzięki temu, jedna linijka `text_count[letter] += 1` dokonuje dwóch alternatywnych działań: jeśli klucz `letter` jeszcze nie istnieje w słowniku, to jest tworzony z wartością domyślną 0, która następnie zwiększana jest o 1; a jeśli klucz ten istnieje już w słowniku, to jego wartość jest po prostu zwiększana o 1."
   ]
  },
  {
   "cell_type": "markdown",
   "metadata": {},
   "source": [
    "Innym przykładem jest słownik z wartością domyślną będącą pustą listą - tworzoną choćby przez funkcję `list` bez argumentów:"
   ]
  },
  {
   "cell_type": "code",
   "execution_count": 138,
   "metadata": {},
   "outputs": [
    {
     "data": {
      "text/plain": [
       "[]"
      ]
     },
     "execution_count": 138,
     "metadata": {},
     "output_type": "execute_result"
    }
   ],
   "source": [
    "list()"
   ]
  },
  {
   "cell_type": "markdown",
   "metadata": {},
   "source": [
    "Np.:"
   ]
  },
  {
   "cell_type": "code",
   "execution_count": 141,
   "metadata": {},
   "outputs": [
    {
     "data": {
      "text/plain": [
       "{'małopolskie': ['Kraków', 'Tarnów', 'Nowy Sącz'],\n",
       " 'lubelskie': ['Chełm', 'Biała Podlaska', 'Lublin', 'Zamość'],\n",
       " 'podkarpackie': ['Rzeszów', 'Przemyśl']}"
      ]
     },
     "execution_count": 141,
     "metadata": {},
     "output_type": "execute_result"
    }
   ],
   "source": [
    "address_list = [\n",
    "    ( 'małopolskie' , 'Kraków' ) ,\n",
    "    ( 'lubelskie' , 'Chełm' ) ,\n",
    "    ( 'małopolskie' , 'Tarnów' ) ,\n",
    "    ( 'małopolskie' , 'Nowy Sącz' ) ,\n",
    "    ( 'podkarpackie' , 'Rzeszów' ) ,\n",
    "    ( 'lubelskie' , 'Biała Podlaska' ) ,\n",
    "    ( 'podkarpackie' , 'Przemyśl' ) ,\n",
    "    ( 'lubelskie' , 'Lublin' ) ,\n",
    "    ( 'lubelskie' , 'Zamość' )\n",
    "]\n",
    "\n",
    "cities_by_voivodeship = defaultdict( list )\n",
    "\n",
    "for voivodeship , city in address_list:\n",
    "    cities_by_voivodeship[ voivodeship ].append( city )\n",
    "\n",
    "dict( cities_by_voivodeship )"
   ]
  },
  {
   "cell_type": "markdown",
   "metadata": {},
   "source": [
    "Tu z kolei możemy w jednej linijce dokonać operacji `cities_by_voivodeship[ voivodeship ].append( city )`. Jeśli klucz `voivodeship` jeszcze nie istnieje w słowniku, to zostanie utworzony jako pusta lista, na której od razu możemy wykonać metodę `append`."
   ]
  },
  {
   "cell_type": "markdown",
   "metadata": {},
   "source": [
    "### <a id=\"2.2\"></a>2.2. Biblioteki `numpy` i `pandas`"
   ]
  },
  {
   "cell_type": "markdown",
   "metadata": {},
   "source": [
    "`numpy` (od \"numerical Python\") i `pandas` (od \"panel data\") to dwie rozległe biblioteki, które stanowią podstawę dla obliczeń matematycznych i jakiejkolwiek pracy z danymi. Każda z nich wymagałaby przynajmniej jednej lekcji, jedynie aby liznąć jej funkcjonalność. Wspominamy tu o nich z powodu ich wielkiej wagi i szerokich zastosowań, pozostawiając je do samodzielnego studiowania."
   ]
  },
  {
   "cell_type": "markdown",
   "metadata": {},
   "source": [
    "Importuje je się zwykle następująco, nadając im tzw. **alias**, krótką nazwę tymczasową:"
   ]
  },
  {
   "cell_type": "code",
   "execution_count": null,
   "metadata": {},
   "outputs": [],
   "source": [
    "import numpy as np\n",
    "import pandas as pd"
   ]
  },
  {
   "cell_type": "markdown",
   "metadata": {},
   "source": [
    "#### <a id=\"2.2_b1\"></a>`numpy`"
   ]
  },
  {
   "cell_type": "markdown",
   "metadata": {},
   "source": [
    "Podstawową kolekcją w `numpy` jest `ndarray` (\"n-dimensional array\"), wysoce zoptymalizowana lista, na której można bardzo szybko przeprowadzać wiele operacji matematycznych; ma też m.in. szerokie możliwości indeksowania, bardziej zaawansowane niż zwykła lista."
   ]
  },
  {
   "cell_type": "code",
   "execution_count": null,
   "metadata": {},
   "outputs": [],
   "source": [
    "a = np.array( [ 1 , 7 , 3 , 6 , 2 ] )\n",
    "b = np.array( [ 4 , 11 , -9 , 2 , 1 ] )\n",
    "\n",
    "c = np.array( [ [ 2 , 4 , 6 ] , [ 1 , 3 , 5 ] ] )\n",
    "\n",
    "d = np.array( [ [ [ 1 , 2 ] , [ 3 , 4 ] , [ 5 , 6 ] ] , [ [ 7 , 8 ] , [ 9 , 10 ] , [ 11 , 12 ] ] ] )"
   ]
  },
  {
   "cell_type": "markdown",
   "metadata": {},
   "source": [
    "Są to tablice wielowymiarowe:"
   ]
  },
  {
   "cell_type": "code",
   "execution_count": null,
   "metadata": {},
   "outputs": [],
   "source": [
    "a.shape"
   ]
  },
  {
   "cell_type": "code",
   "execution_count": null,
   "metadata": {},
   "outputs": [],
   "source": [
    "c.shape"
   ]
  },
  {
   "cell_type": "code",
   "execution_count": null,
   "metadata": {},
   "outputs": [],
   "source": [
    "d.shape"
   ]
  },
  {
   "cell_type": "markdown",
   "metadata": {},
   "source": [
    "Operatory arytmetyczne działają **element po elemencie** (\"element-wise\"), nie jak przy listach:"
   ]
  },
  {
   "cell_type": "code",
   "execution_count": null,
   "metadata": {},
   "outputs": [],
   "source": [
    "a + b"
   ]
  },
  {
   "cell_type": "code",
   "execution_count": null,
   "metadata": {},
   "outputs": [],
   "source": [
    "a * b"
   ]
  },
  {
   "cell_type": "code",
   "execution_count": null,
   "metadata": {},
   "outputs": [],
   "source": [
    "a / b"
   ]
  },
  {
   "cell_type": "markdown",
   "metadata": {},
   "source": [
    "Operatory porównania także działają element po elemencie:"
   ]
  },
  {
   "cell_type": "code",
   "execution_count": null,
   "metadata": {},
   "outputs": [],
   "source": [
    "a > b"
   ]
  },
  {
   "cell_type": "markdown",
   "metadata": {},
   "source": [
    "Przykładowe funkcje matematyczne:"
   ]
  },
  {
   "cell_type": "code",
   "execution_count": null,
   "metadata": {},
   "outputs": [],
   "source": [
    "np.sqrt( c )"
   ]
  },
  {
   "cell_type": "code",
   "execution_count": null,
   "metadata": {},
   "outputs": [],
   "source": [
    "np.log( c )"
   ]
  },
  {
   "cell_type": "code",
   "execution_count": null,
   "metadata": {},
   "outputs": [],
   "source": [
    "np.sin( c )"
   ]
  },
  {
   "cell_type": "markdown",
   "metadata": {},
   "source": [
    "Przykładowe metody agregujące, albo całościowo, albo po zadanej **osi** (\"axis\"):"
   ]
  },
  {
   "cell_type": "code",
   "execution_count": null,
   "metadata": {},
   "outputs": [],
   "source": [
    "c.sum()"
   ]
  },
  {
   "cell_type": "code",
   "execution_count": null,
   "metadata": {},
   "outputs": [],
   "source": [
    "c.sum( axis = 0 )"
   ]
  },
  {
   "cell_type": "code",
   "execution_count": null,
   "metadata": {},
   "outputs": [],
   "source": [
    "c.sum( axis = 1 )"
   ]
  },
  {
   "cell_type": "markdown",
   "metadata": {},
   "source": [
    "... i podobnie np. `max`, `min`, `cumsum` (\"cumulative sum\"), `mean`, `median`, `std` itd."
   ]
  },
  {
   "cell_type": "code",
   "execution_count": null,
   "metadata": {},
   "outputs": [],
   "source": [
    "c.std( axis = 0 )"
   ]
  },
  {
   "cell_type": "markdown",
   "metadata": {},
   "source": [
    "Wszystkie te operacje są wysoce zoptymalizowane dzięki tzw. **wektoryzacji** obliczeń, pozwalającej wykonywać je na wszystkich elementach jednocześnie w sposób równoległy na wielu rdzeniach procesora."
   ]
  },
  {
   "cell_type": "markdown",
   "metadata": {},
   "source": [
    "Indeksować można podobnie jak listy składnią segmentów:"
   ]
  },
  {
   "cell_type": "code",
   "execution_count": null,
   "metadata": {},
   "outputs": [],
   "source": [
    "a"
   ]
  },
  {
   "cell_type": "code",
   "execution_count": null,
   "metadata": {},
   "outputs": [],
   "source": [
    "a[ 2:4 ]"
   ]
  },
  {
   "cell_type": "markdown",
   "metadata": {},
   "source": [
    "... ale mamy do dyspozycji także notację macierzową dla wielowymiarowych tablic:"
   ]
  },
  {
   "cell_type": "code",
   "execution_count": null,
   "metadata": {},
   "outputs": [],
   "source": [
    "c"
   ]
  },
  {
   "cell_type": "code",
   "execution_count": null,
   "metadata": {},
   "outputs": [],
   "source": [
    "c[ 1 , 2 ]"
   ]
  },
  {
   "cell_type": "markdown",
   "metadata": {},
   "source": [
    "... również wybór wielu indeksów jednocześnie poprzez podanie ich listy:"
   ]
  },
  {
   "cell_type": "code",
   "execution_count": null,
   "metadata": {},
   "outputs": [],
   "source": [
    "a[ [ 1 , 3 ] ]"
   ]
  },
  {
   "cell_type": "markdown",
   "metadata": {},
   "source": [
    "... czy bardzo przydatne indeksowanie za pomocą listy wartości logicznych, wskazujących, które elementy wybrać:"
   ]
  },
  {
   "cell_type": "code",
   "execution_count": null,
   "metadata": {},
   "outputs": [],
   "source": [
    "a"
   ]
  },
  {
   "cell_type": "code",
   "execution_count": null,
   "metadata": {},
   "outputs": [],
   "source": [
    "b"
   ]
  },
  {
   "cell_type": "code",
   "execution_count": null,
   "metadata": {},
   "outputs": [],
   "source": [
    "a > b"
   ]
  },
  {
   "cell_type": "code",
   "execution_count": null,
   "metadata": {},
   "outputs": [],
   "source": [
    "b[ a > b ]"
   ]
  },
  {
   "cell_type": "markdown",
   "metadata": {},
   "source": [
    "#### <a id=\"2.2_b2\"></a>`pandas`"
   ]
  },
  {
   "cell_type": "markdown",
   "metadata": {},
   "source": [
    "Z kolei `pandas` umożliwia wysoce efektywną pracę z danymi tabularycznymi. Dwa podstawowe typy kolekcji to `Series` i `DataFrame`. `Series` jest jednowymiarową tabelą z dowolnym indeksem:"
   ]
  },
  {
   "cell_type": "code",
   "execution_count": null,
   "metadata": {},
   "outputs": [],
   "source": [
    "s = pd.Series(\n",
    "    data = [ 15182.79 , 17845.76 , 25122.49 ] ,\n",
    "    index = [ 'małopolskie' , 'podkarpackie' , 'lubelskie' ]\n",
    ")\n",
    "\n",
    "s"
   ]
  },
  {
   "cell_type": "code",
   "execution_count": null,
   "metadata": {},
   "outputs": [],
   "source": [
    "s.index"
   ]
  },
  {
   "cell_type": "code",
   "execution_count": null,
   "metadata": {},
   "outputs": [],
   "source": [
    "s.shape"
   ]
  },
  {
   "cell_type": "markdown",
   "metadata": {},
   "source": [
    "`DataFrame` to natomiast tabela o dowolnym indeksie i kolumnach. Utwórzmy ją trochę inaczej niż powyżej:"
   ]
  },
  {
   "cell_type": "code",
   "execution_count": null,
   "metadata": {},
   "outputs": [],
   "source": [
    "df = pd.DataFrame(\n",
    "    index = [ 'małopolskie' , 'podkarpackie' , 'lubelskie' ] ,\n",
    "    columns = [ 'Size (sq. km)' , 'Population (millions)' , 'Population Density (people per sq. km)' , 'Capital' ]\n",
    ")\n",
    "\n",
    "df[ 'Size (sq. km)' ] = [ 15182.79 , 17845.76 , 25122.49 ]\n",
    "df[ 'Population (millions)' ] = [ 3.4 , 2.13 , 2.12 ]\n",
    "df[ 'Population Density (people per sq. km)' ] = [ 223 , 119 , 89 ]\n",
    "df[ 'Capital' ] = [ 'Kraków' , 'Rzeszów' , 'Lublin' ]\n",
    "\n",
    "df"
   ]
  },
  {
   "cell_type": "code",
   "execution_count": null,
   "metadata": {},
   "outputs": [],
   "source": [
    "df.index"
   ]
  },
  {
   "cell_type": "code",
   "execution_count": null,
   "metadata": {},
   "outputs": [],
   "source": [
    "df.columns"
   ]
  },
  {
   "cell_type": "code",
   "execution_count": null,
   "metadata": {},
   "outputs": [],
   "source": [
    "df.shape"
   ]
  },
  {
   "cell_type": "markdown",
   "metadata": {},
   "source": [
    "Można używać do tych obiektów wszystkich funkcji matematycznych z biblioteki `numpy`, np.:"
   ]
  },
  {
   "cell_type": "code",
   "execution_count": null,
   "metadata": {},
   "outputs": [],
   "source": [
    "s.median()"
   ]
  },
  {
   "cell_type": "code",
   "execution_count": null,
   "metadata": {},
   "outputs": [],
   "source": [
    "df.mean()"
   ]
  },
  {
   "cell_type": "markdown",
   "metadata": {},
   "source": [
    "Jest wiele sposobów indeksowania, m.in. normalna składnia segmentów (`iloc`):"
   ]
  },
  {
   "cell_type": "code",
   "execution_count": null,
   "metadata": {},
   "outputs": [],
   "source": [
    "df.iloc[ 1: ]"
   ]
  },
  {
   "cell_type": "markdown",
   "metadata": {},
   "source": [
    "... czy też wybór indeksu (`loc`):"
   ]
  },
  {
   "cell_type": "code",
   "execution_count": null,
   "metadata": {},
   "outputs": [],
   "source": [
    "df.loc[ 'małopolskie' ]"
   ]
  },
  {
   "cell_type": "markdown",
   "metadata": {},
   "source": [
    "Kolumnę wybieramy samodzielną składnią nawiasów kwadratowych:"
   ]
  },
  {
   "cell_type": "code",
   "execution_count": null,
   "metadata": {},
   "outputs": [],
   "source": [
    "df[ 'Capital' ]"
   ]
  },
  {
   "cell_type": "markdown",
   "metadata": {},
   "source": [
    "Różne sposoby:"
   ]
  },
  {
   "cell_type": "code",
   "execution_count": null,
   "metadata": {},
   "outputs": [],
   "source": [
    "df.loc[ 'lubelskie' , [ 'Population (millions)' , 'Population Density (people per sq. km)' ] ]"
   ]
  },
  {
   "cell_type": "markdown",
   "metadata": {},
   "source": [
    "Bardzo przydatne indeksowanie za pomocą wyrażeń logicznych (gdzie ewentuale operatory `and`, `or`, `not` musimy użyć w wersji \"element-wise\", tj. `&`, `|`, `~`):"
   ]
  },
  {
   "cell_type": "code",
   "execution_count": null,
   "metadata": {},
   "outputs": [],
   "source": [
    "df[ ( df[ 'Size (sq. km)' ] > 16000 ) & ( df[ 'Population Density (people per sq. km)' ] < 100 ) ]"
   ]
  },
  {
   "cell_type": "markdown",
   "metadata": {},
   "source": [
    "W `pandas` mamy całą mnogość funkcjonalności pozwalających na przekształcanie takich tabeli, wszelakie wyszukiwanie, grupowanie, obliczenia itd."
   ]
  },
  {
   "cell_type": "markdown",
   "metadata": {},
   "source": [
    "## <a id=\"3\"></a>3. Zadania domowe"
   ]
  },
  {
   "cell_type": "markdown",
   "metadata": {},
   "source": [
    "<img style = 'float: left; margin-right: 10px; margin-bottom: 10px' src = 'Images/question.png'> Dłuższe ćwiczenie 7: Anagramy.\n",
    "\n",
    "Rozważ jakiś string `text`, powiedzmy `'william shakespeare'` (w tym ćwiczeniu ograniczmy się do małych liter).\n",
    "\n",
    "(a) Utwórz słownik, którego klucze to kolejne (unikalne) litery stringu `text`, zaś wartości to liczby wystąpień danej litery. Pomiń jednak spacje.\n",
    "\n",
    "(b) Anagramy to słowa lub zdania, które zbudowane są z tych samych liter, każda litera w tej samej liczbie, ale w innej kolejności (spacje się nie liczą). Aby sprawdzić, że dwa słowa są anagramami, trzeba porównać, czy powyższe słowniki dla tych słów są sobie równe (dlaczego?). Sprawdź, że `'william shakespeare'` oraz `'i am a weakish speller'` to swoje anagramy."
   ]
  },
  {
   "cell_type": "code",
   "execution_count": null,
   "metadata": {},
   "outputs": [],
   "source": [
    "# dłuższe ćwiczenie 7a - rozwiązanie\n",
    "\n"
   ]
  },
  {
   "cell_type": "code",
   "execution_count": null,
   "metadata": {},
   "outputs": [],
   "source": [
    "# dłuższe ćwiczenie 7b - rozwiązanie\n",
    "\n"
   ]
  },
  {
   "cell_type": "markdown",
   "metadata": {},
   "source": [
    "<img style = 'float: left; margin-right: 10px; margin-bottom: 10px' src = 'Images/question.png'> Dłuższe ćwiczenie 8: Menu w barze.\n",
    "\n",
    "Masz dany słownik `menu = {'sandwich': 4, 'pizza': 8, 'salad': 3, 'tea': 2, 'coffee': 3, 'juice': 5}` reprezentujący ceny produktów w barze. Napisz program, który będzie przyjmował od użytkownika (funkcją `input`) kolejne jego zamówienia i zliczał całkowity koszt. Jeśli użytkownik wpisze jeden z dostępnych produktów, niech program akumuluje cenę całkowitą ceną tego produktu. Jeśli wpisze produkt niebędący na liście,  np. `'cake'`, niech po prostu wyświetli się komunikat, np. \"Sorry, we're out of cake!\". Jeśli nic nie wpisze i naciśnie `Enter`, niech program się zakończy i wyświetli komunikat podający cenę całkowitą, np. \"Your order is ... PLN\"."
   ]
  },
  {
   "cell_type": "markdown",
   "metadata": {},
   "source": [
    "Wskazówka: Działanie programu zapisz pętlą `while True`. Zdefiniuj zmienną `order` jako wartość podaną przez użytkownika. Napisz odpowiednią instrukcję warunkową, sprawdzającą poszczególne warianty: `order` pusty, `order` należący do kluczy słownika `menu` albo nienależący do nich. W tym drugim przypadku, dodaj cenę wybranego produktu do utworzonej uprzednio zmiennej akumulującej (\"pustego pudełka\"), `total = 0`."
   ]
  },
  {
   "cell_type": "code",
   "execution_count": null,
   "metadata": {},
   "outputs": [],
   "source": [
    "# dłuższe ćwiczenie 8 - rozwiązanie\n",
    "\n"
   ]
  },
  {
   "cell_type": "markdown",
   "metadata": {},
   "source": [
    "<img style = 'float: left; margin-right: 10px; margin-bottom: 10px' src = 'Images/question.png'> Dłuższe ćwiczenie 9: Ekwipunek bohatera.\n",
    "\n",
    "Bohater twojej gry RPG niesie ekwipunek opisany słownikiem `inventory` zdefiniowanym poniżej. Po pokonaniu goblina zabiera mu skarb dany przez słownik `loot`. Napisz program, który doda skarb do twojego ekwipunku."
   ]
  },
  {
   "cell_type": "markdown",
   "metadata": {},
   "source": [
    "Wskazówka: Zdefiniuj słownik `defaultdict` z dwoma argumentami, funkcją `int` i słownikiem `inventory`. Następnie przeiteruj się przez słownik `loot`, tj. przez listę par (klucz, wartość), dodając kolejne wartości do twojego ekwipunku."
   ]
  },
  {
   "cell_type": "code",
   "execution_count": null,
   "metadata": {},
   "outputs": [],
   "source": [
    "inventory = {\n",
    "    'gold coin' : 16 ,\n",
    "    'dagger' : 2 ,\n",
    "    'arrow' : 20 ,\n",
    "    'long bow' : 1 ,\n",
    "    'rope' : 1 ,\n",
    "    'healing potion' : 2 ,\n",
    "    'shield' : 1\n",
    "}"
   ]
  },
  {
   "cell_type": "code",
   "execution_count": null,
   "metadata": {},
   "outputs": [],
   "source": [
    "loot = {\n",
    "    'silver ring' : 3 ,\n",
    "    'diamond' : 2 ,\n",
    "    'ruby' : 4 ,\n",
    "    'dagger' : 2 ,\n",
    "    'gold coin' : 85\n",
    "}"
   ]
  },
  {
   "cell_type": "code",
   "execution_count": null,
   "metadata": {},
   "outputs": [],
   "source": [
    "# dłuższe ćwiczenie 9 - rozwiązanie\n",
    "\n"
   ]
  },
  {
   "cell_type": "markdown",
   "metadata": {},
   "source": [
    "<img style = 'float: left; margin-right: 10px; margin-bottom: 10px' src = 'Images/question.png'> Dłuższe ćwiczenie 10: Przypomnij sobie słownik `languages_by_countries`. Odwróć go w taki sposób, że kluczami będą języki, a wartościami listy krajów, gdzie się nimi mówi."
   ]
  },
  {
   "cell_type": "markdown",
   "metadata": {},
   "source": [
    "Wskazówka: Utwórz pusty `defaultdict` z wartością domyślną będącą pustą listą, nazwijmy go `countries_by_languages`. Iteruj się po parach (klucz, wartość) słownika `languages_by_countries`. W każdym kroku iteracji iteruj się po liście języków i dodawaj (`append`) dany kraj jako element listy będącej wartością odpowiadającą danemu językowi."
   ]
  },
  {
   "cell_type": "code",
   "execution_count": null,
   "metadata": {},
   "outputs": [],
   "source": [
    "# dłuższe ćwiczenie 10 - rozwiązanie\n",
    "\n"
   ]
  },
  {
   "cell_type": "markdown",
   "metadata": {},
   "source": [
    "<img style = 'float: left; margin-right: 10px; margin-bottom: 10px' src = 'Images/question.png'> Dłuższe ćwiczenie 11 (\\*): Poetycki kod.\n",
    "\n",
    "Bohater twojej gry RPG odnalazł w starej księdze następujący wiersz (zobacz string `poem` poniżej). Wie, że stanowi on klucz do otwarcia skrzyni ze skarbem. Na marginesie księgi znalazł też zapisek maga, który próbował go odcyfrować:\n",
    "```\n",
    "'zebra' = [1, 56, 7, 29, 42]\n",
    "```\n",
    "Kod zapisany na skrzyni wygląda tak:\n",
    "```\n",
    "[56, 38, 44, 56, 29]\n",
    "```\n",
    "Czy potrafisz otworzyć skrzynię?"
   ]
  },
  {
   "cell_type": "markdown",
   "metadata": {},
   "source": [
    "Wskazówka: Chodzi o `count`! Utwórz najpierw słownik `poem_map`, który przypisze każdej literze wiersza liczbę jej wystąpień w nim. Następnie odwróć go (`poem_map_reversed`) w taki sposób, że liczbie wystąpień będzie przypisana lista ze wszystkimi literami o danej liczbie wystąpień. Do odczytania kodu możesz użyć prostej \"list comprehension\", gdzie każdy element listy z kodem przekształcisz słownikiem `poem_map_reversed`."
   ]
  },
  {
   "cell_type": "code",
   "execution_count": null,
   "metadata": {},
   "outputs": [],
   "source": [
    "poem = '''a narrow fellow in the grass\n",
    "occasionally rides;\n",
    "you may have met him, did you not,\n",
    "his notice sudden is.\n",
    "\n",
    "the grass divides as with a comb,\n",
    "a spotted shaft is seen;\n",
    "and then it closes at your feet\n",
    "and opens further on.\n",
    "\n",
    "he likes a boggy acre,\n",
    "a floor too cool for corn.\n",
    "yet when a child, and barefoot,\n",
    "i more than once, at morn,\n",
    "\n",
    "have passed, i thought, a whip-lash\n",
    "unbraiding in the sun,\n",
    "when, stooping to secure it,\n",
    "it wrinkled, and was gone.\n",
    "\n",
    "several of nature's people\n",
    "i know, and they know me;\n",
    "i feel for them a transport\n",
    "of cordiality;\n",
    "\n",
    "but never met this fellow,\n",
    "attended or alone,\n",
    "without a tighter breathing,\n",
    "and zero at the bone.'''"
   ]
  },
  {
   "cell_type": "code",
   "execution_count": null,
   "metadata": {},
   "outputs": [],
   "source": [
    "# dłuższe ćwiczenie 11 - rozwiązanie, część pierwsza\n",
    "\n"
   ]
  },
  {
   "cell_type": "code",
   "execution_count": null,
   "metadata": {},
   "outputs": [],
   "source": [
    "# dłuższe ćwiczenie 11 - rozwiązanie, część druga\n",
    "\n"
   ]
  },
  {
   "cell_type": "code",
   "execution_count": null,
   "metadata": {},
   "outputs": [],
   "source": [
    "# dłuższe ćwiczenie 11 - rozwiązanie, część trzecia\n",
    "\n"
   ]
  },
  {
   "cell_type": "markdown",
   "metadata": {},
   "source": [
    "<img style = 'float: left; margin-right: 10px; margin-bottom: 10px' src = 'Images/question.png'><img style = 'float: right; margin-left: 10px; margin-bottom: 10px' src = 'Images/old_cell_keyboard.jfif'> Dłuższe ćwiczenie 12 (\\*): SMS-owanie w starym stylu.\n",
    "\n",
    "Stare telefony komórkowe miały fizyczną klawiaturę i aby wpisać wiadomość tekstową, trzeba było kilkukrotnie naciskać przyciski numeryczne, aby wyświetliła się litera - każda cyfra miała przypisane kilka liter, zwykle trzy, i trzeba było nacisnąć tyle razy, na którym miejscu stała ta litera. Np. cyfra 1 miała przypisane litery A, B, C, więc aby wpisać B trzeba było nacisnąć 1 dwa razy.\n",
    "\n",
    "Mamy dane przypisanie cyfr na klawiaturze do zestawu liter i znaków napisanych na tych klawiszach - opisuje je poniższy słownik `phone_keyboard`. Kluczami są tu cyfry od 0 do 9, zaś wartościami listy stringów - znaków na odpowiednich klawiszach. (Dla uproszczenia załóżmy, że piszemy tylko wielkimi literami.)\n",
    "\n",
    "Zdefiniuj zmienną `text`, która będzie jakimś stringiem - wiadomością tekstową - np. `'HELLO, THERE!'` (pamiętaj, aby użyć tylko wielkich liter i znaków obecnych w słowniku). Napisz program, który przekonwertuje ten string na inny string, tym razem zawierający serię cyfr, które trzeba nacisnąć, aby ten tekst napisać na klawiaturze telefonu, wraz z liczbą razy, jaką trzeba te cyfry przycisnąć, np. tutaj byłoby to `'44 33 555 555 666 11 0 8 44 33 777 33 1111'`, bo H to naciśnięcie 4 dwa razy itd."
   ]
  },
  {
   "cell_type": "markdown",
   "metadata": {},
   "source": [
    "Wskazówka: \"Odwróć\" słownik `phone_keyboard`; nazwijmy go `phone_keyboard_reversed`. (Każda litera występuje tylko raz, więc nie będzie żadnego nadpisywania kluczy.) Możesz zrobić to poprzez zagnieżdżoną składnię \"dictionary comprehension\", gdzie najpierw iterujesz się po `phone_keyboard.items()`, a potem po każdej z list będących wartościami. Niech kluczami tego nowego słownika będą litery, zaś wartościami stringi o postaci np. `'44'`, czyli klawisz do wciśnięcia powtórzony daną liczbę razy. Aby taki string skonstruować, przekonwertuj liczbę na klawiszu na string, a następnie powtórz ją (operator mnożenia `*`) odpowiednią liczbę razy; przyda się do tego metoda `index`.\n",
    "\n",
    "Samo tłumaczenie tekstu `text` możesz dokonać w dwóch krokach: Najpierw \"list comprehension\", gdzie tworzysz listę `['44', '33', '555', ...]` poprzez \"tłumaczenie\" słownikiem `phone_keyboard_reversed`. Potem metoda `join` z separatorem `' '` na tej liście."
   ]
  },
  {
   "cell_type": "code",
   "execution_count": null,
   "metadata": {},
   "outputs": [],
   "source": [
    "phone_keyboard = {\n",
    "    1 : [ '.' , ',' , '?' , '!' , ':' ] ,\n",
    "    2 : [ 'A',  'B' , 'C' ] ,\n",
    "    3 : [ 'D' , 'E' , 'F' ] ,\n",
    "    4 : [ 'G' , 'H' , 'I'] ,\n",
    "    5 : [ 'J' , 'K' , 'L' ] ,\n",
    "    6 : [ 'M' , 'N' , 'O' ] ,\n",
    "    7 : [ 'P' , 'Q' , 'R' , 'S' ] ,\n",
    "    8 : [ 'T' , 'U' , 'V' ] ,\n",
    "    9 : [ 'W' , 'X' , 'Y' , 'Z' ] ,\n",
    "    0 : [ ' ' ]\n",
    "}"
   ]
  },
  {
   "cell_type": "code",
   "execution_count": null,
   "metadata": {},
   "outputs": [],
   "source": [
    "# dłuższe ćwiczenie 12 - rozwiązanie, część pierwsza\n",
    "\n"
   ]
  },
  {
   "cell_type": "code",
   "execution_count": null,
   "metadata": {},
   "outputs": [],
   "source": [
    "# dłuższe ćwiczenie 12 - rozwiązanie, część druga\n",
    "\n"
   ]
  },
  {
   "cell_type": "markdown",
   "metadata": {},
   "source": [
    "<img style = 'float: left; margin-right: 10px; margin-bottom: 10px' src = 'Images/question.png'> Dłuższe ćwiczenie 13 (\\*): Konwersja liczb rzymskich na arabskie.\n",
    "\n",
    "Masz daną jako string liczbę zapisaną cyframi rzymskimi, np. `'MMMDCCXXIV'`. Przekonwertuj ją na zapis arabski, tu: `3742`."
   ]
  },
  {
   "cell_type": "markdown",
   "metadata": {},
   "source": [
    "Wskazówka: Jeden z pomysłów jest następujący: Każdą cyfrę rzymską w stringu zamień (metodą `replace`) na liczbę arabską i następującą po niej spację, np. `'MXI'` na `'1000 10 1'`. Następnie podziel ten string po separatorze `' '` (spacja), metodą `split`, dostając listę stringów `['1000', '10', '1']`. Każdy string tutaj przekonwertuj na typ `int` - używając składni \"list comprehension\" - a następnie zsumuj (`sum`).\n",
    "\n",
    "Wracając do pierwszego kroku: Aby dokonać zamiany cyfr, zdefiniuj słownik mapujący cyfry rzymskie, np. `'M'`, na arabskie, np. `1000`. Jest to jednakże istotna subtelność: Niektóre _kombinacje_ cyfr rzymskich dają jedną cyfrę arabską - są to `'IV'` (4), `'IX'` (9), `'XL'` (40), `'XC'` (90), `'CD'` (400), `'CM'` (900). Możesz zadbać o poprawne działanie programu umieszczając te wpisy w słowniku, ale w odpowiedniej kolejności w stosunku do \"pojedynczych\" cyfr!"
   ]
  },
  {
   "cell_type": "code",
   "execution_count": null,
   "metadata": {},
   "outputs": [],
   "source": [
    "# dłuższe ćwiczenie 13 - rozwiązanie\n",
    "\n"
   ]
  },
  {
   "cell_type": "markdown",
   "metadata": {},
   "source": [
    "<img style = 'float: left; margin-right: 10px; margin-bottom: 10px' src = 'Images/question.png'> Dłuższe ćwiczenie 14 (\\*): Zatrzymaj `n` wystąpień każdego elementu.\n",
    "\n",
    "Masz daną listę, np. `lst = [1, 2, 4, 3, 3, 2, 3, 1, 2, 1, 3, 4, 4]` i dodatnią liczbę całkowitą, np. `n = 2`. Utwórz nową listę, której elementy będą kolejnymi elementami listy `lst`, lecz jednak tylko do momentu, aż liczba ich wystąpień przekroczy `n` - wówczas tych \"dalszych\" elementów już nie umieszczamy. Zatem tu wynikiem byłaby lista `[1, 2, 4, 3, 3, 2, 1, 4]`, zatrzymująca - w odpowiedniej kolejności - tylko pierwsze dwa wystąpienia każdej wartości, a pomijająca \"dalsze\"."
   ]
  },
  {
   "cell_type": "markdown",
   "metadata": {},
   "source": [
    "Wskazówka: Zadeklaruj pustą listę `result = []` jako \"puste pudełko\", do którego wrzucać będziemy kolejne elementy, zgodnie z opisaną regułą. Zdefiniuj `defaultdict` o nazwie powiedzmy `counts`, z domyślną wartością zero. Iteruj się teraz przez listę `lst` i w każdym kroku do listy `result` dodawaj kolejny element, a następnie powiększaj wpis w słowniku `counts` odpowiadający temu elementowi o jeden. To wszystko rób tylko kiedy dana wartość w słowniku `counts` nie przekracza `n`"
   ]
  },
  {
   "cell_type": "code",
   "execution_count": null,
   "metadata": {},
   "outputs": [],
   "source": [
    "# dłuższe ćwiczenie 14 - rozwiązanie\n",
    "\n"
   ]
  },
  {
   "cell_type": "markdown",
   "metadata": {},
   "source": [
    "<img style = 'float: left; margin-right: 10px; margin-bottom: 10px' src = 'Images/question.png'> Dłuższe ćwiczenie 15 (\\*): Liczby nad jeziorem.\n",
    "\n",
    "Dla każdej dodatniej liczby całkowitej `n` zdefiniujmy następującą procedurę: Odbijamy jej cyfry w tafli jeziora, tj. 0 zmienia się na 0, 1 na 1, 2 na 5, 5 na 2, 6 na 9, zaś 9 na 6. Inne cyfry po odbiciu w tafli nie są już cyframi. Interesują nas tylko takie liczby `n`, które po odbiciu w tafli jeziora ciągle pozostają liczbami. Co więcej, ograniczmy się do liczb, które po odbiciu w tafli jeziora są liczbami _różnymi_ od oryginału. Np. 25 zmienia się w 52, więc jest dobra. Ale już 10 zmienia się w 10, czyli równą sobie, więc nie jest dobra. Zaś np. 75 nie zmienia się w ogóle w liczbę, więc też nie jest dobra.\n",
    "\n",
    "Ile jest takich \"dobrych\" liczb między 1 a milionem?\n",
    "\n",
    "Sprawdź swoją odpowiedź: Jest ich 46592."
   ]
  },
  {
   "cell_type": "markdown",
   "metadata": {},
   "source": [
    "Wskazówka: Utwórz słownik `rotations` z regułami odbicia cyfr w tafli jeziora. Musisz jakoś uwzględnić fakt, że niektóre cyfry nie odbijają się w cyfrę; możesz to zrobić np. tworząc `defaultdict` z wartością domyślną np. `'X'`.\n",
    "\n",
    "Następnie iteruj się po kolejnych liczbach `n` od 1 do miliona. W każdym kroku utwórz string opisujący odbicie, np. 75 zmieni się w `'X2'`, a 25 w `'52'`. Wykorzystaj do tego powyższy słownik, składnię \"list comprehension\" oraz metodę stringów `join`. Teraz dodaj instrukcję warunkową sprawdzającą, czy litera `'X'` nie jest obecna w tak powstałym stringu (tj. jest on poprawną liczbą) oraz czy jest on, po konwersji na `int`, różny od `n`. Jeśli tak, \"wrzuć\" to `n` do uprzednio utworzonego \"pudełka\" `good_numbers`."
   ]
  },
  {
   "cell_type": "code",
   "execution_count": null,
   "metadata": {},
   "outputs": [],
   "source": [
    "# dłuższe ćwiczenie 15 - rozwiązanie\n",
    "\n"
   ]
  },
  {
   "cell_type": "code",
   "execution_count": null,
   "metadata": {},
   "outputs": [],
   "source": []
  }
 ],
 "metadata": {
  "kernelspec": {
   "display_name": "Python 3",
   "language": "python",
   "name": "python3"
  },
  "language_info": {
   "codemirror_mode": {
    "name": "ipython",
    "version": 3
   },
   "file_extension": ".py",
   "mimetype": "text/x-python",
   "name": "python",
   "nbconvert_exporter": "python",
   "pygments_lexer": "ipython3",
   "version": "3.7.9"
  }
 },
 "nbformat": 4,
 "nbformat_minor": 4
}
